{
 "cells": [
  {
   "cell_type": "markdown",
   "id": "08fb6cb2-9b07-4945-a84b-75355f0fd813",
   "metadata": {},
   "source": [
    "# Checks of cyclists data"
   ]
  },
  {
   "cell_type": "code",
   "execution_count": 1,
   "id": "06cc0af2-1d5c-421f-b0dd-4050e020dc59",
   "metadata": {},
   "outputs": [],
   "source": [
    "# Autoreload allows the notebook to dynamically load code: if we update some helper functions *outside* of the notebook, we do not need to reload the notebook.\n",
    "%load_ext autoreload\n",
    "%autoreload 2"
   ]
  },
  {
   "cell_type": "code",
   "execution_count": 2,
   "id": "50c53be9-36ee-41e1-bc44-18e4dcb05184",
   "metadata": {
    "ExecuteTime": {
     "end_time": "2024-09-20T13:19:47.624138Z",
     "start_time": "2024-09-20T13:19:47.621981Z"
    }
   },
   "outputs": [],
   "source": [
    "import pandas as pd\n",
    "import numpy as np\n",
    "import re\n",
    "import unicodedata"
   ]
  },
  {
   "cell_type": "markdown",
   "id": "3d2094bd",
   "metadata": {},
   "source": [
    "We load the dataset from a CSV file and display the first few rows to get an initial understanding of the data. This helps us verify that the data has been loaded correctly and gives us a glimpse of its structure and contents."
   ]
  },
  {
   "cell_type": "code",
   "execution_count": 3,
   "id": "e2034dd0-9c32-4725-add2-442b89ccebab",
   "metadata": {},
   "outputs": [
    {
     "data": {
      "text/html": [
       "<div>\n",
       "<style scoped>\n",
       "    .dataframe tbody tr th:only-of-type {\n",
       "        vertical-align: middle;\n",
       "    }\n",
       "\n",
       "    .dataframe tbody tr th {\n",
       "        vertical-align: top;\n",
       "    }\n",
       "\n",
       "    .dataframe thead th {\n",
       "        text-align: right;\n",
       "    }\n",
       "</style>\n",
       "<table border=\"1\" class=\"dataframe\">\n",
       "  <thead>\n",
       "    <tr style=\"text-align: right;\">\n",
       "      <th></th>\n",
       "      <th>_url</th>\n",
       "      <th>name</th>\n",
       "      <th>birth_year</th>\n",
       "      <th>weight</th>\n",
       "      <th>height</th>\n",
       "      <th>nationality</th>\n",
       "    </tr>\n",
       "  </thead>\n",
       "  <tbody>\n",
       "    <tr>\n",
       "      <th>0</th>\n",
       "      <td>bruno-surra</td>\n",
       "      <td>Bruno  Surra</td>\n",
       "      <td>1964.0</td>\n",
       "      <td>NaN</td>\n",
       "      <td>NaN</td>\n",
       "      <td>Italy</td>\n",
       "    </tr>\n",
       "    <tr>\n",
       "      <th>1</th>\n",
       "      <td>gerard-rue</td>\n",
       "      <td>Gérard  Rué</td>\n",
       "      <td>1965.0</td>\n",
       "      <td>74.0</td>\n",
       "      <td>182.0</td>\n",
       "      <td>France</td>\n",
       "    </tr>\n",
       "    <tr>\n",
       "      <th>2</th>\n",
       "      <td>jan-maas</td>\n",
       "      <td>Jan  Maas</td>\n",
       "      <td>1996.0</td>\n",
       "      <td>69.0</td>\n",
       "      <td>189.0</td>\n",
       "      <td>Netherlands</td>\n",
       "    </tr>\n",
       "    <tr>\n",
       "      <th>3</th>\n",
       "      <td>nathan-van-hooydonck</td>\n",
       "      <td>Nathan Van Hooydonck</td>\n",
       "      <td>1995.0</td>\n",
       "      <td>78.0</td>\n",
       "      <td>192.0</td>\n",
       "      <td>Belgium</td>\n",
       "    </tr>\n",
       "    <tr>\n",
       "      <th>4</th>\n",
       "      <td>jose-felix-parra</td>\n",
       "      <td>José Félix  Parra</td>\n",
       "      <td>1997.0</td>\n",
       "      <td>55.0</td>\n",
       "      <td>171.0</td>\n",
       "      <td>Spain</td>\n",
       "    </tr>\n",
       "  </tbody>\n",
       "</table>\n",
       "</div>"
      ],
      "text/plain": [
       "                   _url                  name  birth_year  weight  height  \\\n",
       "0           bruno-surra          Bruno  Surra      1964.0     NaN     NaN   \n",
       "1            gerard-rue           Gérard  Rué      1965.0    74.0   182.0   \n",
       "2              jan-maas             Jan  Maas      1996.0    69.0   189.0   \n",
       "3  nathan-van-hooydonck  Nathan Van Hooydonck      1995.0    78.0   192.0   \n",
       "4      jose-felix-parra     José Félix  Parra      1997.0    55.0   171.0   \n",
       "\n",
       "   nationality  \n",
       "0        Italy  \n",
       "1       France  \n",
       "2  Netherlands  \n",
       "3      Belgium  \n",
       "4        Spain  "
      ]
     },
     "execution_count": 3,
     "metadata": {},
     "output_type": "execute_result"
    }
   ],
   "source": [
    "csv_file = \"../data/cyclists.csv\"\n",
    "dataset = pd.read_csv(csv_file)\n",
    "dataset.head()"
   ]
  },
  {
   "cell_type": "markdown",
   "id": "a3419174",
   "metadata": {},
   "source": [
    "Create dataset from the union of the cyclists and the races data "
   ]
  },
  {
   "cell_type": "code",
   "execution_count": 32,
   "id": "71aa3f92",
   "metadata": {},
   "outputs": [
    {
     "data": {
      "text/html": [
       "<div>\n",
       "<style scoped>\n",
       "    .dataframe tbody tr th:only-of-type {\n",
       "        vertical-align: middle;\n",
       "    }\n",
       "\n",
       "    .dataframe tbody tr th {\n",
       "        vertical-align: top;\n",
       "    }\n",
       "\n",
       "    .dataframe thead th {\n",
       "        text-align: right;\n",
       "    }\n",
       "</style>\n",
       "<table border=\"1\" class=\"dataframe\">\n",
       "  <thead>\n",
       "    <tr style=\"text-align: right;\">\n",
       "      <th></th>\n",
       "      <th>_url_cyclist</th>\n",
       "      <th>name_cyclist</th>\n",
       "      <th>birth_year</th>\n",
       "      <th>weight</th>\n",
       "      <th>height</th>\n",
       "      <th>nationality</th>\n",
       "      <th>_url_race</th>\n",
       "      <th>name_race</th>\n",
       "      <th>points</th>\n",
       "      <th>uci_points</th>\n",
       "      <th>...</th>\n",
       "      <th>average_temperature</th>\n",
       "      <th>date</th>\n",
       "      <th>position</th>\n",
       "      <th>cyclist</th>\n",
       "      <th>cyclist_age</th>\n",
       "      <th>is_tarmac</th>\n",
       "      <th>is_cobbled</th>\n",
       "      <th>is_gravel</th>\n",
       "      <th>cyclist_team</th>\n",
       "      <th>delta</th>\n",
       "    </tr>\n",
       "  </thead>\n",
       "  <tbody>\n",
       "    <tr>\n",
       "      <th>0</th>\n",
       "      <td>bruno-surra</td>\n",
       "      <td>Bruno  Surra</td>\n",
       "      <td>1964.0</td>\n",
       "      <td>NaN</td>\n",
       "      <td>NaN</td>\n",
       "      <td>Italy</td>\n",
       "      <td>vuelta-a-espana/1989/stage-1</td>\n",
       "      <td>Vuelta a España</td>\n",
       "      <td>80.0</td>\n",
       "      <td>NaN</td>\n",
       "      <td>...</td>\n",
       "      <td>NaN</td>\n",
       "      <td>1989-04-24</td>\n",
       "      <td>110</td>\n",
       "      <td>bruno-surra</td>\n",
       "      <td>25.0</td>\n",
       "      <td>True</td>\n",
       "      <td>False</td>\n",
       "      <td>False</td>\n",
       "      <td>NaN</td>\n",
       "      <td>15.0</td>\n",
       "    </tr>\n",
       "    <tr>\n",
       "      <th>1</th>\n",
       "      <td>gerard-rue</td>\n",
       "      <td>Gérard  Rué</td>\n",
       "      <td>1965.0</td>\n",
       "      <td>74.0</td>\n",
       "      <td>182.0</td>\n",
       "      <td>France</td>\n",
       "      <td>tour-de-france/1997/stage-2</td>\n",
       "      <td>Tour de France</td>\n",
       "      <td>100.0</td>\n",
       "      <td>NaN</td>\n",
       "      <td>...</td>\n",
       "      <td>NaN</td>\n",
       "      <td>1997-07-07</td>\n",
       "      <td>132</td>\n",
       "      <td>gerard-rue</td>\n",
       "      <td>32.0</td>\n",
       "      <td>True</td>\n",
       "      <td>False</td>\n",
       "      <td>False</td>\n",
       "      <td>denmark-1991</td>\n",
       "      <td>0.0</td>\n",
       "    </tr>\n",
       "    <tr>\n",
       "      <th>2</th>\n",
       "      <td>gerard-rue</td>\n",
       "      <td>Gérard  Rué</td>\n",
       "      <td>1965.0</td>\n",
       "      <td>74.0</td>\n",
       "      <td>182.0</td>\n",
       "      <td>France</td>\n",
       "      <td>tour-de-france/1990/stage-1</td>\n",
       "      <td>Tour de France</td>\n",
       "      <td>100.0</td>\n",
       "      <td>NaN</td>\n",
       "      <td>...</td>\n",
       "      <td>NaN</td>\n",
       "      <td>1990-07-01</td>\n",
       "      <td>66</td>\n",
       "      <td>gerard-rue</td>\n",
       "      <td>25.0</td>\n",
       "      <td>True</td>\n",
       "      <td>False</td>\n",
       "      <td>False</td>\n",
       "      <td>france-1978</td>\n",
       "      <td>635.0</td>\n",
       "    </tr>\n",
       "    <tr>\n",
       "      <th>3</th>\n",
       "      <td>gerard-rue</td>\n",
       "      <td>Gérard  Rué</td>\n",
       "      <td>1965.0</td>\n",
       "      <td>74.0</td>\n",
       "      <td>182.0</td>\n",
       "      <td>France</td>\n",
       "      <td>tour-de-france/1992/stage-7</td>\n",
       "      <td>Tour de France</td>\n",
       "      <td>100.0</td>\n",
       "      <td>NaN</td>\n",
       "      <td>...</td>\n",
       "      <td>NaN</td>\n",
       "      <td>1992-07-11</td>\n",
       "      <td>35</td>\n",
       "      <td>gerard-rue</td>\n",
       "      <td>27.0</td>\n",
       "      <td>True</td>\n",
       "      <td>False</td>\n",
       "      <td>False</td>\n",
       "      <td>france-1978</td>\n",
       "      <td>65.0</td>\n",
       "    </tr>\n",
       "    <tr>\n",
       "      <th>4</th>\n",
       "      <td>gerard-rue</td>\n",
       "      <td>Gérard  Rué</td>\n",
       "      <td>1965.0</td>\n",
       "      <td>74.0</td>\n",
       "      <td>182.0</td>\n",
       "      <td>France</td>\n",
       "      <td>tour-de-france/1990/stage-9</td>\n",
       "      <td>Tour de France</td>\n",
       "      <td>100.0</td>\n",
       "      <td>NaN</td>\n",
       "      <td>...</td>\n",
       "      <td>NaN</td>\n",
       "      <td>1990-07-09</td>\n",
       "      <td>41</td>\n",
       "      <td>gerard-rue</td>\n",
       "      <td>25.0</td>\n",
       "      <td>True</td>\n",
       "      <td>False</td>\n",
       "      <td>False</td>\n",
       "      <td>france-1978</td>\n",
       "      <td>37.0</td>\n",
       "    </tr>\n",
       "  </tbody>\n",
       "</table>\n",
       "<p>5 rows × 24 columns</p>\n",
       "</div>"
      ],
      "text/plain": [
       "  _url_cyclist  name_cyclist  birth_year  weight  height nationality  \\\n",
       "0  bruno-surra  Bruno  Surra      1964.0     NaN     NaN       Italy   \n",
       "1   gerard-rue   Gérard  Rué      1965.0    74.0   182.0      France   \n",
       "2   gerard-rue   Gérard  Rué      1965.0    74.0   182.0      France   \n",
       "3   gerard-rue   Gérard  Rué      1965.0    74.0   182.0      France   \n",
       "4   gerard-rue   Gérard  Rué      1965.0    74.0   182.0      France   \n",
       "\n",
       "                      _url_race        name_race  points  uci_points  ...  \\\n",
       "0  vuelta-a-espana/1989/stage-1  Vuelta a España    80.0         NaN  ...   \n",
       "1   tour-de-france/1997/stage-2   Tour de France   100.0         NaN  ...   \n",
       "2   tour-de-france/1990/stage-1   Tour de France   100.0         NaN  ...   \n",
       "3   tour-de-france/1992/stage-7   Tour de France   100.0         NaN  ...   \n",
       "4   tour-de-france/1990/stage-9   Tour de France   100.0         NaN  ...   \n",
       "\n",
       "   average_temperature        date  position      cyclist  cyclist_age  \\\n",
       "0                  NaN  1989-04-24       110  bruno-surra         25.0   \n",
       "1                  NaN  1997-07-07       132   gerard-rue         32.0   \n",
       "2                  NaN  1990-07-01        66   gerard-rue         25.0   \n",
       "3                  NaN  1992-07-11        35   gerard-rue         27.0   \n",
       "4                  NaN  1990-07-09        41   gerard-rue         25.0   \n",
       "\n",
       "  is_tarmac  is_cobbled is_gravel  cyclist_team  delta  \n",
       "0      True       False     False           NaN   15.0  \n",
       "1      True       False     False  denmark-1991    0.0  \n",
       "2      True       False     False   france-1978  635.0  \n",
       "3      True       False     False   france-1978   65.0  \n",
       "4      True       False     False   france-1978   37.0  \n",
       "\n",
       "[5 rows x 24 columns]"
      ]
     },
     "execution_count": 32,
     "metadata": {},
     "output_type": "execute_result"
    }
   ],
   "source": [
    "# Create union of two datasets, merging them considering the url of the cyclist\n",
    "dataset_cyclists = pd.read_csv(\"../data/cyclists.csv\")\n",
    "dataset_races = pd.read_csv(\"../data/races.csv\")\n",
    "merged_dataset = pd.merge(dataset_cyclists, dataset_races, left_on='_url', right_on='cyclist', how='inner')\n",
    "\n",
    "# Modify name column of the cyclist url in '_url_cyclist', and name column of the race url in '_url_race'\n",
    "merged_dataset = merged_dataset.rename(columns={'_url_x': '_url_cyclist', '_url_y': '_url_race'})\n",
    "# Modify name column of the cyclist name in 'name_cyclist', and name column of the race name in 'name_race'\n",
    "merged_dataset = merged_dataset.rename(columns={'name_x': 'name_cyclist', 'name_y': 'name_race'})\n",
    "# Take only the year-month-day part of 'date' (delete the time)\n",
    "merged_dataset['date'] = merged_dataset['date'].str.split(' ').str[0]\n",
    "\n",
    "merged_dataset.head()\n"
   ]
  },
  {
   "cell_type": "markdown",
   "id": "65268c54",
   "metadata": {},
   "source": [
    "## Initial Info"
   ]
  },
  {
   "cell_type": "markdown",
   "id": "90bbc824",
   "metadata": {},
   "source": [
    "Now we provide a concise summary of the DataFrame, including the number of non-null entries, data types of each column, and memory usage. It helps us quickly identify missing values and understand the overall structure of the dataset."
   ]
  },
  {
   "cell_type": "code",
   "execution_count": 4,
   "id": "5a0f08a7-1c79-4080-ac5d-36bb9c6d335b",
   "metadata": {},
   "outputs": [
    {
     "name": "stdout",
     "output_type": "stream",
     "text": [
      "<class 'pandas.core.frame.DataFrame'>\n",
      "RangeIndex: 6134 entries, 0 to 6133\n",
      "Data columns (total 6 columns):\n",
      " #   Column       Non-Null Count  Dtype  \n",
      "---  ------       --------------  -----  \n",
      " 0   _url         6134 non-null   object \n",
      " 1   name         6134 non-null   object \n",
      " 2   birth_year   6121 non-null   float64\n",
      " 3   weight       3078 non-null   float64\n",
      " 4   height       3143 non-null   float64\n",
      " 5   nationality  6133 non-null   object \n",
      "dtypes: float64(3), object(3)\n",
      "memory usage: 287.7+ KB\n"
     ]
    }
   ],
   "source": [
    "dataset.info()"
   ]
  },
  {
   "cell_type": "markdown",
   "id": "d71b0470",
   "metadata": {},
   "source": [
    "Also, we generates a descriptive statistics for numerical columns in the DataFrame. It includes metrics such as count, mean, standard deviation, minimum, and maximum values, as well as the 25th, 50th, and 75th percentiles. This summary helps us understand the distribution and central tendency of the data."
   ]
  },
  {
   "cell_type": "code",
   "execution_count": 5,
   "id": "a1781782",
   "metadata": {},
   "outputs": [
    {
     "data": {
      "text/html": [
       "<div>\n",
       "<style scoped>\n",
       "    .dataframe tbody tr th:only-of-type {\n",
       "        vertical-align: middle;\n",
       "    }\n",
       "\n",
       "    .dataframe tbody tr th {\n",
       "        vertical-align: top;\n",
       "    }\n",
       "\n",
       "    .dataframe thead th {\n",
       "        text-align: right;\n",
       "    }\n",
       "</style>\n",
       "<table border=\"1\" class=\"dataframe\">\n",
       "  <thead>\n",
       "    <tr style=\"text-align: right;\">\n",
       "      <th></th>\n",
       "      <th>birth_year</th>\n",
       "      <th>weight</th>\n",
       "      <th>height</th>\n",
       "    </tr>\n",
       "  </thead>\n",
       "  <tbody>\n",
       "    <tr>\n",
       "      <th>count</th>\n",
       "      <td>6121.000000</td>\n",
       "      <td>3078.000000</td>\n",
       "      <td>3143.000000</td>\n",
       "    </tr>\n",
       "    <tr>\n",
       "      <th>mean</th>\n",
       "      <td>1974.071884</td>\n",
       "      <td>68.658739</td>\n",
       "      <td>179.815145</td>\n",
       "    </tr>\n",
       "    <tr>\n",
       "      <th>std</th>\n",
       "      <td>15.535834</td>\n",
       "      <td>6.348183</td>\n",
       "      <td>6.443447</td>\n",
       "    </tr>\n",
       "    <tr>\n",
       "      <th>min</th>\n",
       "      <td>1933.000000</td>\n",
       "      <td>48.000000</td>\n",
       "      <td>154.000000</td>\n",
       "    </tr>\n",
       "    <tr>\n",
       "      <th>25%</th>\n",
       "      <td>1962.000000</td>\n",
       "      <td>64.000000</td>\n",
       "      <td>175.000000</td>\n",
       "    </tr>\n",
       "    <tr>\n",
       "      <th>50%</th>\n",
       "      <td>1974.000000</td>\n",
       "      <td>69.000000</td>\n",
       "      <td>180.000000</td>\n",
       "    </tr>\n",
       "    <tr>\n",
       "      <th>75%</th>\n",
       "      <td>1987.000000</td>\n",
       "      <td>73.000000</td>\n",
       "      <td>184.000000</td>\n",
       "    </tr>\n",
       "    <tr>\n",
       "      <th>max</th>\n",
       "      <td>2004.000000</td>\n",
       "      <td>94.000000</td>\n",
       "      <td>204.000000</td>\n",
       "    </tr>\n",
       "  </tbody>\n",
       "</table>\n",
       "</div>"
      ],
      "text/plain": [
       "        birth_year       weight       height\n",
       "count  6121.000000  3078.000000  3143.000000\n",
       "mean   1974.071884    68.658739   179.815145\n",
       "std      15.535834     6.348183     6.443447\n",
       "min    1933.000000    48.000000   154.000000\n",
       "25%    1962.000000    64.000000   175.000000\n",
       "50%    1974.000000    69.000000   180.000000\n",
       "75%    1987.000000    73.000000   184.000000\n",
       "max    2004.000000    94.000000   204.000000"
      ]
     },
     "execution_count": 5,
     "metadata": {},
     "output_type": "execute_result"
    }
   ],
   "source": [
    "dataset.describe()"
   ]
  },
  {
   "cell_type": "markdown",
   "id": "6dfbfdfd",
   "metadata": {},
   "source": [
    "## Check on '_url' data"
   ]
  },
  {
   "cell_type": "markdown",
   "id": "dcdb42a4",
   "metadata": {},
   "source": [
    "We start considering the `_url` column, and check the number of null values and the count the occurrences of each unique value"
   ]
  },
  {
   "cell_type": "code",
   "execution_count": 7,
   "id": "26de2ff9",
   "metadata": {},
   "outputs": [
    {
     "name": "stdout",
     "output_type": "stream",
     "text": [
      "Total number of null values in _url column: 0 (0.0%)\n",
      "\n",
      "Count occurrences of each value in _url column:\n",
      "_url\n",
      "ward-vanhoof            1\n",
      "bruno-surra             1\n",
      "gerard-rue              1\n",
      "jan-maas                1\n",
      "nathan-van-hooydonck    1\n",
      "                       ..\n",
      "stian-remme             1\n",
      "scott-davies            1\n",
      "joost-van-leijen        1\n",
      "chad-haga               1\n",
      "willy-moonen            1\n",
      "Name: count, Length: 6134, dtype: int64\n"
     ]
    }
   ],
   "source": [
    "print('Total number of null values in _url column: ' + str(dataset['_url'].isnull().sum())\n",
    "      + ' (' + str(round(dataset['_url'].isnull().sum() / len(dataset) * 100, 2)) + '%)')\n",
    "\n",
    "print('\\nCount occurrences of each value in _url column:')\n",
    "url_counts = dataset['_url'].value_counts()\n",
    "print(url_counts)"
   ]
  },
  {
   "cell_type": "markdown",
   "id": "c215d25b",
   "metadata": {},
   "source": [
    "We have lots different values, but no null values."
   ]
  },
  {
   "cell_type": "markdown",
   "id": "75119b38",
   "metadata": {},
   "source": [
    "## Check on 'name' data"
   ]
  },
  {
   "cell_type": "markdown",
   "id": "9fa6060f",
   "metadata": {},
   "source": [
    "Now we consider the `name` column, and check the number of null values and the count the occurrences of each unique value"
   ]
  },
  {
   "cell_type": "code",
   "execution_count": 10,
   "id": "a60f4716",
   "metadata": {},
   "outputs": [
    {
     "name": "stdout",
     "output_type": "stream",
     "text": [
      "Total number of null values in name column: 0 (0.0%)\n",
      "\n",
      "Count occurrences of each value in name column:\n",
      "name\n",
      "Sergio  Domínguez       2\n",
      "Alberto  Fernández      2\n",
      "Jesús  López            2\n",
      "Antonio  Cabello        2\n",
      "Alessandro  Pozzi       2\n",
      "                       ..\n",
      "Juan José  Martínez     1\n",
      "Iñigo  Elosegui         1\n",
      "Paolo  Alberati         1\n",
      "Jackson  Rodríguez      1\n",
      "Jean-Philippe  Dojwa    1\n",
      "Name: count, Length: 6127, dtype: int64\n"
     ]
    }
   ],
   "source": [
    "print('Total number of null values in name column: ' + str(dataset['name'].isnull().sum())\n",
    "        + ' (' + str(round(dataset['name'].isnull().sum() / len(dataset) * 100, 2)) + '%)')\n",
    "\n",
    "print('\\nCount occurrences of each value in name column:')\n",
    "name_counts = dataset['name'].value_counts()\n",
    "print(name_counts)   "
   ]
  },
  {
   "cell_type": "markdown",
   "id": "40bb8c84",
   "metadata": {},
   "source": [
    "We have lots of different values, but no null values."
   ]
  },
  {
   "cell_type": "markdown",
   "id": "180eb50c",
   "metadata": {},
   "source": [
    "Since we have a lot of different values, we check if every value is sintatically correct"
   ]
  },
  {
   "cell_type": "code",
   "execution_count": 37,
   "id": "a712ee64",
   "metadata": {},
   "outputs": [
    {
     "name": "stdout",
     "output_type": "stream",
     "text": [
      "Number of rows with numbers in the name: 0\n"
     ]
    }
   ],
   "source": [
    "# For each data, check if 'name' object contains any number\n",
    "# Check if the 'name' column contains any number\n",
    "invalid_rows = dataset[dataset['name'].str.contains(r'\\d')]\n",
    "\n",
    "print('Number of rows with numbers in the name: ' + str(len(invalid_rows)))"
   ]
  },
  {
   "cell_type": "markdown",
   "id": "6ce7476c",
   "metadata": {},
   "source": [
    "## Check on 'birth_year' data"
   ]
  },
  {
   "cell_type": "markdown",
   "id": "7c885227",
   "metadata": {},
   "source": [
    "Now we consider the `birth_year` column, and check the number of null values and the count the occurrences of each unique value"
   ]
  },
  {
   "cell_type": "code",
   "execution_count": 13,
   "id": "1bafb8c7",
   "metadata": {},
   "outputs": [
    {
     "name": "stdout",
     "output_type": "stream",
     "text": [
      "Total number of null values in birth_year column: 13 (0.21%)\n",
      "\n",
      "Count occurrences of each value in birth_year column:\n",
      "birth_year\n",
      "1964.0    145\n",
      "1962.0    141\n",
      "1970.0    140\n",
      "1974.0    138\n",
      "1980.0    133\n",
      "         ... \n",
      "1937.0      4\n",
      "1934.0      2\n",
      "1938.0      2\n",
      "1933.0      1\n",
      "1936.0      1\n",
      "Name: count, Length: 71, dtype: int64\n"
     ]
    }
   ],
   "source": [
    "print('Total number of null values in birth_year column: ' + str(dataset['birth_year'].isnull().sum())\n",
    "        + ' (' + str(round(dataset['birth_year'].isnull().sum() / len(dataset) * 100, 2)) + '%)')\n",
    "\n",
    "print('\\nCount occurrences of each value in birth_year column:')\n",
    "birth_year_counts = dataset['birth_year'].value_counts()\n",
    "print(birth_year_counts)"
   ]
  },
  {
   "cell_type": "markdown",
   "id": "5999cccd",
   "metadata": {},
   "source": [
    "We have different values, and a few null values"
   ]
  },
  {
   "cell_type": "markdown",
   "id": "39af850a",
   "metadata": {},
   "source": [
    "Since we have different values, we check if every value is sintatically correct"
   ]
  },
  {
   "cell_type": "code",
   "execution_count": 39,
   "id": "ada6459e",
   "metadata": {},
   "outputs": [
    {
     "name": "stdout",
     "output_type": "stream",
     "text": [
      "Number of invalid birth_year: 0\n"
     ]
    }
   ],
   "source": [
    "# Get rows where 'birth_year' does not end with '.0'\n",
    "invalid_rows = dataset[~dataset['birth_year'].astype(str).str.endswith('.0')].dropna(subset=['birth_year'])\n",
    "\n",
    "print('Number of invalid birth_year: ' + str(len(invalid_rows)))"
   ]
  },
  {
   "cell_type": "markdown",
   "id": "1268c003",
   "metadata": {},
   "source": [
    "In this block we check if the `birth year` value is not in the form 'nnnn' and if it is not in the form '19nn' or '20nn'"
   ]
  },
  {
   "cell_type": "code",
   "execution_count": 41,
   "id": "97cc5785",
   "metadata": {},
   "outputs": [
    {
     "name": "stdout",
     "output_type": "stream",
     "text": [
      "Number of invalid birth_year: 0\n"
     ]
    }
   ],
   "source": [
    "# Remove '.0' from 'birth_year' and check if it's a valid year in the form '19nn' or '20nn'\n",
    "def is_valid_year(birth_year):\n",
    "    # Convert to string and remove '.0'\n",
    "    year = str(birth_year).replace('.0', '')\n",
    "    # Check if the year is a digit and starts with '19' or '20'\n",
    "    return year.isdigit() and (year.startswith('19') or year.startswith('20'))\n",
    "\n",
    "# Filter out rows where 'birth_year' is not null\n",
    "invalid_rows = dataset[dataset['birth_year'].notnull()]\n",
    "\n",
    "# Apply the validation function across the 'birth_year' column\n",
    "invalid_rows = invalid_rows[~invalid_rows['birth_year'].apply(is_valid_year)]\n",
    "\n",
    "print('Number of invalid birth_year: ' + str(len(invalid_rows)))\n"
   ]
  },
  {
   "cell_type": "markdown",
   "id": "e533a32e",
   "metadata": {},
   "source": [
    "Check the races where the `birth_year` value is small or large, for possible outliers"
   ]
  },
  {
   "cell_type": "code",
   "execution_count": 16,
   "id": "214f9965",
   "metadata": {},
   "outputs": [
    {
     "data": {
      "text/plain": [
       "count    6121.000000\n",
       "mean     1974.071884\n",
       "std        15.535834\n",
       "min      1933.000000\n",
       "25%      1962.000000\n",
       "50%      1974.000000\n",
       "75%      1987.000000\n",
       "max      2004.000000\n",
       "Name: birth_year, dtype: float64"
      ]
     },
     "execution_count": 16,
     "metadata": {},
     "output_type": "execute_result"
    }
   ],
   "source": [
    "# Dataset info, for 'birth_year' column\n",
    "dataset['birth_year'].describe()"
   ]
  },
  {
   "cell_type": "markdown",
   "id": "f0ad7345",
   "metadata": {},
   "source": [
    "The birth years are between 1933 and 2004, so we can say that no extreme values are present (in the cyclism context)."
   ]
  },
  {
   "cell_type": "markdown",
   "id": "2dc7c33a",
   "metadata": {},
   "source": [
    "## Check on 'weight' data"
   ]
  },
  {
   "cell_type": "markdown",
   "id": "e259e3e1",
   "metadata": {},
   "source": [
    "Now we consider the `weight` column, and check the number of null values and the count the occurrences of each unique value"
   ]
  },
  {
   "cell_type": "code",
   "execution_count": 19,
   "id": "6d4908d3",
   "metadata": {},
   "outputs": [
    {
     "name": "stdout",
     "output_type": "stream",
     "text": [
      "Total number of null values in weight column: 3056 (49.82%)\n",
      "\n",
      "Count occurrences of each value in weight column:\n",
      "weight\n",
      "70.0    272\n",
      "68.0    219\n",
      "65.0    193\n",
      "67.0    177\n",
      "72.0    169\n",
      "69.0    162\n",
      "73.0    146\n",
      "63.0    140\n",
      "66.0    139\n",
      "64.0    137\n",
      "74.0    135\n",
      "62.0    131\n",
      "75.0    128\n",
      "71.0    125\n",
      "60.0     98\n",
      "61.0     90\n",
      "78.0     86\n",
      "77.0     67\n",
      "58.0     64\n",
      "76.0     63\n",
      "80.0     53\n",
      "59.0     49\n",
      "79.0     30\n",
      "82.0     26\n",
      "55.0     25\n",
      "81.0     22\n",
      "83.0     20\n",
      "57.0     20\n",
      "56.0     19\n",
      "85.0     10\n",
      "53.0      7\n",
      "52.0      6\n",
      "84.0      6\n",
      "54.0      4\n",
      "51.0      4\n",
      "90.0      4\n",
      "87.0      3\n",
      "88.0      3\n",
      "63.5      2\n",
      "89.0      2\n",
      "50.0      2\n",
      "58.5      2\n",
      "86.0      2\n",
      "71.5      1\n",
      "48.0      1\n",
      "91.0      1\n",
      "67.5      1\n",
      "66.5      1\n",
      "78.1      1\n",
      "77.5      1\n",
      "74.5      1\n",
      "81.4      1\n",
      "62.5      1\n",
      "93.0      1\n",
      "73.5      1\n",
      "79.5      1\n",
      "65.1      1\n",
      "92.0      1\n",
      "94.0      1\n",
      "Name: count, dtype: int64\n"
     ]
    }
   ],
   "source": [
    "print('Total number of null values in weight column: ' + str(dataset['weight'].isnull().sum())\n",
    "        + ' (' + str(round(dataset['weight'].isnull().sum() / len(dataset) * 100, 2)) + '%)')\n",
    "\n",
    "print('\\nCount occurrences of each value in weight column:')\n",
    "weight_counts = dataset['weight'].value_counts()\n",
    "print(weight_counts)"
   ]
  },
  {
   "cell_type": "markdown",
   "id": "a8249443",
   "metadata": {},
   "source": [
    "We have different values, but a lot of null values. Also, we see that every value is sintatically correct"
   ]
  },
  {
   "cell_type": "markdown",
   "id": "117fe1ae",
   "metadata": {},
   "source": [
    "Check the races where the `weight` value is small or large, for possible outliers"
   ]
  },
  {
   "cell_type": "code",
   "execution_count": 20,
   "id": "1c49609b",
   "metadata": {},
   "outputs": [
    {
     "data": {
      "text/plain": [
       "count    3078.000000\n",
       "mean       68.658739\n",
       "std         6.348183\n",
       "min        48.000000\n",
       "25%        64.000000\n",
       "50%        69.000000\n",
       "75%        73.000000\n",
       "max        94.000000\n",
       "Name: weight, dtype: float64"
      ]
     },
     "execution_count": 20,
     "metadata": {},
     "output_type": "execute_result"
    }
   ],
   "source": [
    "# Dataset info, for 'weight' column\n",
    "dataset['weight'].describe()"
   ]
  },
  {
   "cell_type": "markdown",
   "id": "790cd7a8",
   "metadata": {},
   "source": [
    "The weights are between 48 and 94 kg, so we can say that no extreme values are present (in the cyclism context)."
   ]
  },
  {
   "cell_type": "markdown",
   "id": "119f32f3",
   "metadata": {},
   "source": [
    "## Check on 'height' data"
   ]
  },
  {
   "cell_type": "markdown",
   "id": "b89e8ce0",
   "metadata": {},
   "source": [
    "Now we consider the `height` column, and check the number of null values and the count the occurrences of each unique value"
   ]
  },
  {
   "cell_type": "code",
   "execution_count": 23,
   "id": "2223ce91",
   "metadata": {},
   "outputs": [
    {
     "name": "stdout",
     "output_type": "stream",
     "text": [
      "Total number of null values in height column: 2991 (48.76%)\n",
      "\n",
      "Count occurrences of each value in height column:\n",
      "height\n",
      "180.0    277\n",
      "178.0    226\n",
      "183.0    193\n",
      "181.0    181\n",
      "175.0    169\n",
      "182.0    165\n",
      "185.0    161\n",
      "176.0    154\n",
      "184.0    152\n",
      "179.0    137\n",
      "177.0    133\n",
      "174.0    129\n",
      "173.0    120\n",
      "186.0    107\n",
      "190.0     97\n",
      "170.0     90\n",
      "187.0     85\n",
      "172.0     80\n",
      "188.0     77\n",
      "171.0     67\n",
      "189.0     48\n",
      "169.0     46\n",
      "191.0     37\n",
      "192.0     34\n",
      "168.0     24\n",
      "167.0     23\n",
      "193.0     22\n",
      "164.0     20\n",
      "194.0     17\n",
      "195.0     13\n",
      "165.0     13\n",
      "196.0      7\n",
      "197.0      6\n",
      "166.0      6\n",
      "198.0      4\n",
      "160.0      4\n",
      "162.0      3\n",
      "159.0      3\n",
      "161.0      2\n",
      "199.0      2\n",
      "163.0      2\n",
      "154.0      1\n",
      "204.0      1\n",
      "155.0      1\n",
      "158.0      1\n",
      "202.0      1\n",
      "157.0      1\n",
      "200.0      1\n",
      "Name: count, dtype: int64\n"
     ]
    }
   ],
   "source": [
    "print('Total number of null values in height column: ' + str(dataset['height'].isnull().sum())\n",
    "        + ' (' + str(round(dataset['height'].isnull().sum() / len(dataset) * 100, 2)) + '%)')\n",
    "\n",
    "print('\\nCount occurrences of each value in height column:')\n",
    "height_counts = dataset['height'].value_counts()\n",
    "print(height_counts)"
   ]
  },
  {
   "cell_type": "markdown",
   "id": "5e6f76e6",
   "metadata": {},
   "source": [
    "We have different values, but a lot of null values. Also, we see that every value is sintatically correct"
   ]
  },
  {
   "cell_type": "markdown",
   "id": "4ca6fa93",
   "metadata": {},
   "source": [
    "Check the races where the `height` value is small or large, for possible outliers"
   ]
  },
  {
   "cell_type": "code",
   "execution_count": 24,
   "id": "cf408529",
   "metadata": {},
   "outputs": [
    {
     "data": {
      "text/plain": [
       "count    3143.000000\n",
       "mean      179.815145\n",
       "std         6.443447\n",
       "min       154.000000\n",
       "25%       175.000000\n",
       "50%       180.000000\n",
       "75%       184.000000\n",
       "max       204.000000\n",
       "Name: height, dtype: float64"
      ]
     },
     "execution_count": 24,
     "metadata": {},
     "output_type": "execute_result"
    }
   ],
   "source": [
    "# Dataset info, for 'height' column\n",
    "dataset['height'].describe()"
   ]
  },
  {
   "cell_type": "markdown",
   "id": "a8b83b86",
   "metadata": {},
   "source": [
    "The heights are between 154 and 204 cm, so we can say that no extreme values are present (in the cyclism context)."
   ]
  },
  {
   "cell_type": "markdown",
   "id": "377a3211",
   "metadata": {},
   "source": [
    "## Check on 'nationality' data"
   ]
  },
  {
   "cell_type": "markdown",
   "id": "85d901ba",
   "metadata": {},
   "source": [
    "Now we consider the `nationality` column, and check the number of null values and the count the occurrences of each unique value"
   ]
  },
  {
   "cell_type": "code",
   "execution_count": 30,
   "id": "82800129",
   "metadata": {},
   "outputs": [
    {
     "name": "stdout",
     "output_type": "stream",
     "text": [
      "Total number of null values in nationality column: 1 (0.02%)\n",
      "\n",
      "Count occurrences of each value in nationality column:\n",
      "nationality\n",
      "Italy                 1029\n",
      "Spain                  872\n",
      "Belgium                869\n",
      "France                 741\n",
      "Netherlands            380\n",
      "                      ... \n",
      "Dominican Republic       1\n",
      "Liechtenstein            1\n",
      "Zimbabwe                 1\n",
      "Puerto Rico              1\n",
      "Hongkong                 1\n",
      "Name: count, Length: 72, dtype: int64\n"
     ]
    }
   ],
   "source": [
    "print('Total number of null values in nationality column: ' + str(dataset['nationality'].isnull().sum())\n",
    "        + ' (' + str(round(dataset['nationality'].isnull().sum() / len(dataset) * 100, 2)) + '%)')\n",
    "\n",
    "print('\\nCount occurrences of each value in nationality column:')\n",
    "nationality_counts = dataset['nationality'].value_counts()\n",
    "print(nationality_counts)"
   ]
  },
  {
   "cell_type": "markdown",
   "id": "c5eb118f",
   "metadata": {},
   "source": [
    "We have different values, and just one null value."
   ]
  },
  {
   "cell_type": "markdown",
   "id": "4907feae",
   "metadata": {},
   "source": [
    "Since we have a lot of different values, we check if every value is sintatically correct"
   ]
  },
  {
   "cell_type": "markdown",
   "id": "d6962d05",
   "metadata": {},
   "source": [
    "In this block we check if there are `nationality` values that contains any character that is a letter"
   ]
  },
  {
   "cell_type": "code",
   "execution_count": 47,
   "id": "5e7ac9e5",
   "metadata": {},
   "outputs": [
    {
     "name": "stdout",
     "output_type": "stream",
     "text": [
      "Number of rows with numbers in nationality: 0\n"
     ]
    }
   ],
   "source": [
    "# Check if there are 'nationality' values that contains any number, without the null values\n",
    "invalid_rows = dataset[dataset['nationality'].notnull() & dataset['nationality'].str.contains(r'\\d')]\n",
    "\n",
    "print('Number of rows with numbers in nationality: ' + str(len(invalid_rows)))"
   ]
  }
 ],
 "metadata": {
  "kernelspec": {
   "display_name": "dm_env",
   "language": "python",
   "name": "python3"
  },
  "language_info": {
   "codemirror_mode": {
    "name": "ipython",
    "version": 3
   },
   "file_extension": ".py",
   "mimetype": "text/x-python",
   "name": "python",
   "nbconvert_exporter": "python",
   "pygments_lexer": "ipython3",
   "version": "3.12.2"
  }
 },
 "nbformat": 4,
 "nbformat_minor": 5
}

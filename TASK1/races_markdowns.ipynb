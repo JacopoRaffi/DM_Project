{
 "cells": [
  {
   "cell_type": "markdown",
   "metadata": {},
   "source": [
    "# Lenght Discretized\n",
    "\n",
    "Il grafico qui sopra mostra la distribuzione di 13 fasce di valori dell' attributo \"lenght\" all'interno del nostro dataset. \n",
    "\n",
    "# Avg Lenght per race-stages\n",
    "\n",
    "Nel grafico sopra studiamo la lunghezza media (rispetto agli anni) dei vari stage di ogni gara. Possiamo notare che gli stage possono avere lunghezze variabili all'interno della stessa competizione, e di conseguenza è possibile supporre che la divisione in stage di un percorso non sia determinata solo dalla lunghezza di ognuno di questi, quanto anche da altri fattori come: caratteristiche dello stage (tipo di terreno, tipo di ambiente, pendenza ...) o caratteristiche più \"politiche\" delle regioni coinvolte nel percorso (ad esempio gli stage del Giro di Italia, che dipendono dalle varie città e regioni di svolgimento dei vari stage)\n",
    "\n",
    "# Climb total medio per gara\n",
    "\n",
    "Il plot di sopra studia la variazione della media dell'attributo \"climb_total\" per ogni gara. Possiamo notare che non vi sia un'uniformità nella pendenza del percorso di una gara, ne quindi uno standard rispettato a livello internazionale. Possiamo quindi ipotizzare che ogni competizione abbia caratteristiche geofisiche semplicemente determinate dal luogo scelto per la competizione, senza che questa scelta sia legata alla ricerca di caratteristiche specifiche.\n",
    "\n",
    "# Climb total discretized\n",
    "\n",
    "Il grafico qui sopra mostra la distribuzione di 12 fasce di valori dell' attributo \"climb_total\" all'interno del nostro dataset. \n",
    "\n",
    "# Avg Climb total per race-stages\n",
    "\n",
    "Nel grafico sopra studiamo la pendenza (attributo \"climb_total\") media (rispetto agli anni) dei vari stage di ogni gara. Possiamo notare che gli stage possono avere pendenze variabili all'interno della stessa competizione, e di conseguenza è possibile supporre che la divisione in stage di un percorso non sia determinata solo dalla pendenza di ognuno di questi, quanto anche da altri fattori come: caratteristiche dello stage (tipo di terreno, tipo di ambiente ...) o caratteristiche più \"politiche\" delle regioni coinvolte nel percorso (ad esempio gli stage del Giro di Italia, che dipendono dalle varie città e regioni di svolgimento dei vari stage)\n",
    "\n",
    "# Profile distribution\n",
    "\n",
    "Il grafico qui sopra mostra la distribuzione dei 5 valori dell' attributo \"profile\" all'interno del nostro dataset.\n",
    "\n",
    "# Moda profile stage per gara\n",
    "\n",
    "Nel grafico sopra studiamo la variazione della moda dell'attributo \"profile\" rispetto al variare degli anni, per i vari stage di ogni gara. Possiamo notare che gli stage possono avere profili variabili all'interno della stessa competizione, e di conseguenza è possibile supporre che la divisione in stage di un percorso non sia determinata solo dal profilo di ognuno di questi, quanto anche da altri fattori come: caratteristiche dello stage (tipo di terreno, tipo di ambiente ...) o caratteristiche più \"politiche\" delle regioni coinvolte nel percorso (ad esempio gli stage del Giro di Italia, che dipendono dalle varie città e regioni di svolgimento dei vari stage)\n",
    "\n",
    "# Startlist Quality medio per gara\n",
    "\n",
    "Il plot di sopra riporta la media (rispetto agli anni) dell'attributo \"startlist_quality\" per le diverse gare. Possiamo notare che non vi sia un'uniformità nella startlist quality delle competizioni presenti nel nostro dataset, e che anzi competizioni diverse presentino valori medi particoalrmente differenti. Il fatto che una competizione presenti un valore mediamente più alto di questo attributo rispetto ad un'altra potrebbe essere sinonimo del prestigio della prima, motivata dal fatto che la qualità della starlist sia generalmente migliore della seconda.\n",
    "\n",
    "# Startlist quality discretized\n",
    "\n",
    "Il grafico qui sopra mostra la distribuzione di 13 fasce di valori dell' attributo \"startlist_quality\" all'interno del nostro dataset.\n",
    "\n",
    "# media startlist quality stage per gara\n",
    "\n",
    "Nel grafico sopra studiamo la variazione della media dell'attributo \"startlist-quality\" rispetto al variare degli anni, per i vari stage di ogni gara. Possiamo notare che gli stage possono avere valori variabili dell'attributo anche se all'interno della stessa competizione. Questa caratteristica potrebbe derivare da una variazione dei ciclisti in gara stage dopo stage (rotazioni all'interno dello stesso team per stage diversi, squaifiche, infortuni, ...). E' importante inoltre evidenziare come la variazione dell'attributo non sia eccessivamente intensa, a conferma del fatto che la qualità del prestigio di una determinata gara è meediamente e relativamente costante.\n",
    "\n",
    "# Points medi per gara\n",
    "\n",
    "Il plot di sopra riporta la media (rispetto agli anni) dell'attributo \"points\" per le diverse gare. Possiamo notare che nonostante la maggior parte delle gare si assestino su una stessa fascia media di punteggi, alcune di queste (Giro di Italia, Tour de France e Vuelta a Espana in particolare) offrano valori mediamente fuori scala di punteggio. Interessante notare come un trend simili emerga dall'attributo startlist quality, per le stesse competizioni.\n",
    "\n",
    "\n",
    "\n",
    "\n",
    "\n",
    "\n",
    "\n",
    "\n",
    "\n"
   ]
  }
 ],
 "metadata": {
  "language_info": {
   "name": "python"
  }
 },
 "nbformat": 4,
 "nbformat_minor": 2
}

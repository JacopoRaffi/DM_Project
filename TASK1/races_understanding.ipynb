{
 "cells": [
  {
   "cell_type": "markdown",
   "metadata": {},
   "source": [
    "# Races Dataset Understanding\n",
    "\n",
    "### Data Mining Project 2024/25\n",
    "\n",
    "Authors: Nicola Emmolo, Simone Marzeddu, Jacopo Raffi"
   ]
  },
  {
   "cell_type": "code",
   "execution_count": 1,
   "metadata": {},
   "outputs": [],
   "source": [
    "%load_ext autoreload\n",
    "%autoreload 2"
   ]
  },
  {
   "cell_type": "code",
   "execution_count": 2,
   "metadata": {},
   "outputs": [],
   "source": [
    "import pandas as pd\n",
    "from sklearn.impute import KNNImputer\n",
    "import random\n",
    "import math\n",
    "import seaborn as sb\n",
    "import matplotlib.pyplot as plt\n",
    "from unidecode import unidecode"
   ]
  },
  {
   "cell_type": "code",
   "execution_count": 3,
   "metadata": {},
   "outputs": [],
   "source": [
    "cyclists = pd.read_csv(\"../data/cyclists.csv\")"
   ]
  },
  {
   "cell_type": "code",
   "execution_count": 4,
   "metadata": {},
   "outputs": [
    {
     "data": {
      "text/html": [
       "<div>\n",
       "<style scoped>\n",
       "    .dataframe tbody tr th:only-of-type {\n",
       "        vertical-align: middle;\n",
       "    }\n",
       "\n",
       "    .dataframe tbody tr th {\n",
       "        vertical-align: top;\n",
       "    }\n",
       "\n",
       "    .dataframe thead th {\n",
       "        text-align: right;\n",
       "    }\n",
       "</style>\n",
       "<table border=\"1\" class=\"dataframe\">\n",
       "  <thead>\n",
       "    <tr style=\"text-align: right;\">\n",
       "      <th></th>\n",
       "      <th>_url</th>\n",
       "      <th>name</th>\n",
       "      <th>points</th>\n",
       "      <th>uci_points</th>\n",
       "      <th>length</th>\n",
       "      <th>climb_total</th>\n",
       "      <th>profile</th>\n",
       "      <th>startlist_quality</th>\n",
       "      <th>average_temperature</th>\n",
       "      <th>date</th>\n",
       "      <th>position</th>\n",
       "      <th>cyclist</th>\n",
       "      <th>cyclist_age</th>\n",
       "      <th>is_tarmac</th>\n",
       "      <th>is_cobbled</th>\n",
       "      <th>is_gravel</th>\n",
       "      <th>cyclist_team</th>\n",
       "      <th>delta</th>\n",
       "    </tr>\n",
       "  </thead>\n",
       "  <tbody>\n",
       "    <tr>\n",
       "      <th>0</th>\n",
       "      <td>tour-de-france/1978/stage-6</td>\n",
       "      <td>Tour de France</td>\n",
       "      <td>100.0</td>\n",
       "      <td>NaN</td>\n",
       "      <td>162000.0</td>\n",
       "      <td>1101.0</td>\n",
       "      <td>1.0</td>\n",
       "      <td>1241</td>\n",
       "      <td>NaN</td>\n",
       "      <td>1978-07-05 04:02:24</td>\n",
       "      <td>0</td>\n",
       "      <td>sean-kelly</td>\n",
       "      <td>22.0</td>\n",
       "      <td>True</td>\n",
       "      <td>False</td>\n",
       "      <td>False</td>\n",
       "      <td>vini-ricordi-pinarello-sidermec-1986</td>\n",
       "      <td>0.0</td>\n",
       "    </tr>\n",
       "    <tr>\n",
       "      <th>1</th>\n",
       "      <td>tour-de-france/1978/stage-6</td>\n",
       "      <td>Tour de France</td>\n",
       "      <td>100.0</td>\n",
       "      <td>NaN</td>\n",
       "      <td>162000.0</td>\n",
       "      <td>1101.0</td>\n",
       "      <td>1.0</td>\n",
       "      <td>1241</td>\n",
       "      <td>NaN</td>\n",
       "      <td>1978-07-05 04:02:24</td>\n",
       "      <td>1</td>\n",
       "      <td>gerrie-knetemann</td>\n",
       "      <td>27.0</td>\n",
       "      <td>True</td>\n",
       "      <td>False</td>\n",
       "      <td>False</td>\n",
       "      <td>norway-1987</td>\n",
       "      <td>0.0</td>\n",
       "    </tr>\n",
       "    <tr>\n",
       "      <th>2</th>\n",
       "      <td>tour-de-france/1978/stage-6</td>\n",
       "      <td>Tour de France</td>\n",
       "      <td>100.0</td>\n",
       "      <td>NaN</td>\n",
       "      <td>162000.0</td>\n",
       "      <td>1101.0</td>\n",
       "      <td>1.0</td>\n",
       "      <td>1241</td>\n",
       "      <td>NaN</td>\n",
       "      <td>1978-07-05 04:02:24</td>\n",
       "      <td>2</td>\n",
       "      <td>rene-bittinger</td>\n",
       "      <td>24.0</td>\n",
       "      <td>True</td>\n",
       "      <td>False</td>\n",
       "      <td>False</td>\n",
       "      <td>NaN</td>\n",
       "      <td>0.0</td>\n",
       "    </tr>\n",
       "    <tr>\n",
       "      <th>3</th>\n",
       "      <td>tour-de-france/1978/stage-6</td>\n",
       "      <td>Tour de France</td>\n",
       "      <td>100.0</td>\n",
       "      <td>NaN</td>\n",
       "      <td>162000.0</td>\n",
       "      <td>1101.0</td>\n",
       "      <td>1.0</td>\n",
       "      <td>1241</td>\n",
       "      <td>NaN</td>\n",
       "      <td>1978-07-05 04:02:24</td>\n",
       "      <td>3</td>\n",
       "      <td>joseph-bruyere</td>\n",
       "      <td>30.0</td>\n",
       "      <td>True</td>\n",
       "      <td>False</td>\n",
       "      <td>False</td>\n",
       "      <td>navigare-blue-storm-1993</td>\n",
       "      <td>0.0</td>\n",
       "    </tr>\n",
       "    <tr>\n",
       "      <th>4</th>\n",
       "      <td>tour-de-france/1978/stage-6</td>\n",
       "      <td>Tour de France</td>\n",
       "      <td>100.0</td>\n",
       "      <td>NaN</td>\n",
       "      <td>162000.0</td>\n",
       "      <td>1101.0</td>\n",
       "      <td>1.0</td>\n",
       "      <td>1241</td>\n",
       "      <td>NaN</td>\n",
       "      <td>1978-07-05 04:02:24</td>\n",
       "      <td>4</td>\n",
       "      <td>sven-ake-nilsson</td>\n",
       "      <td>27.0</td>\n",
       "      <td>True</td>\n",
       "      <td>False</td>\n",
       "      <td>False</td>\n",
       "      <td>spain-1991</td>\n",
       "      <td>0.0</td>\n",
       "    </tr>\n",
       "  </tbody>\n",
       "</table>\n",
       "</div>"
      ],
      "text/plain": [
       "                          _url            name  points  uci_points    length  \\\n",
       "0  tour-de-france/1978/stage-6  Tour de France   100.0         NaN  162000.0   \n",
       "1  tour-de-france/1978/stage-6  Tour de France   100.0         NaN  162000.0   \n",
       "2  tour-de-france/1978/stage-6  Tour de France   100.0         NaN  162000.0   \n",
       "3  tour-de-france/1978/stage-6  Tour de France   100.0         NaN  162000.0   \n",
       "4  tour-de-france/1978/stage-6  Tour de France   100.0         NaN  162000.0   \n",
       "\n",
       "   climb_total  profile  startlist_quality  average_temperature  \\\n",
       "0       1101.0      1.0               1241                  NaN   \n",
       "1       1101.0      1.0               1241                  NaN   \n",
       "2       1101.0      1.0               1241                  NaN   \n",
       "3       1101.0      1.0               1241                  NaN   \n",
       "4       1101.0      1.0               1241                  NaN   \n",
       "\n",
       "                  date  position           cyclist  cyclist_age  is_tarmac  \\\n",
       "0  1978-07-05 04:02:24         0        sean-kelly         22.0       True   \n",
       "1  1978-07-05 04:02:24         1  gerrie-knetemann         27.0       True   \n",
       "2  1978-07-05 04:02:24         2    rene-bittinger         24.0       True   \n",
       "3  1978-07-05 04:02:24         3    joseph-bruyere         30.0       True   \n",
       "4  1978-07-05 04:02:24         4  sven-ake-nilsson         27.0       True   \n",
       "\n",
       "   is_cobbled  is_gravel                          cyclist_team  delta  \n",
       "0       False      False  vini-ricordi-pinarello-sidermec-1986    0.0  \n",
       "1       False      False                           norway-1987    0.0  \n",
       "2       False      False                                   NaN    0.0  \n",
       "3       False      False              navigare-blue-storm-1993    0.0  \n",
       "4       False      False                            spain-1991    0.0  "
      ]
     },
     "execution_count": 4,
     "metadata": {},
     "output_type": "execute_result"
    }
   ],
   "source": [
    "dataset = pd.read_csv(\"../data/races.csv\")\n",
    "dataset.head(n=5)"
   ]
  },
  {
   "cell_type": "markdown",
   "metadata": {},
   "source": [
    "## Syntactic and Semantic accuracies analysis\n",
    "\n",
    "In questa sezione verifichiamo informazioni generiche sui nostri dati. Abbiamo studiato il tipo degli attributi, verificato come questi tipi possano essere cambiati qualora non sinao idonei al dominio degli attributi e abbiamo verificato che i valori non NaN presenti nel dataset risultino all'interno dei rispettivi domini"
   ]
  },
  {
   "cell_type": "code",
   "execution_count": 5,
   "metadata": {},
   "outputs": [
    {
     "name": "stdout",
     "output_type": "stream",
     "text": [
      "<class 'pandas.core.frame.DataFrame'>\n",
      "RangeIndex: 589865 entries, 0 to 589864\n",
      "Data columns (total 18 columns):\n",
      " #   Column               Non-Null Count   Dtype  \n",
      "---  ------               --------------   -----  \n",
      " 0   _url                 589865 non-null  object \n",
      " 1   name                 589865 non-null  object \n",
      " 2   points               589388 non-null  float64\n",
      " 3   uci_points           251086 non-null  float64\n",
      " 4   length               589865 non-null  float64\n",
      " 5   climb_total          442820 non-null  float64\n",
      " 6   profile              441671 non-null  float64\n",
      " 7   startlist_quality    589865 non-null  int64  \n",
      " 8   average_temperature  29933 non-null   float64\n",
      " 9   date                 589865 non-null  object \n",
      " 10  position             589865 non-null  int64  \n",
      " 11  cyclist              589865 non-null  object \n",
      " 12  cyclist_age          589752 non-null  float64\n",
      " 13  is_tarmac            589865 non-null  bool   \n",
      " 14  is_cobbled           589865 non-null  bool   \n",
      " 15  is_gravel            589865 non-null  bool   \n",
      " 16  cyclist_team         430704 non-null  object \n",
      " 17  delta                589865 non-null  float64\n",
      "dtypes: bool(3), float64(8), int64(2), object(5)\n",
      "memory usage: 69.2+ MB\n"
     ]
    }
   ],
   "source": [
    "dataset.info()\n",
    "# birth year, heigth -> float to int"
   ]
  },
  {
   "cell_type": "markdown",
   "metadata": {},
   "source": [
    "### Analisi Preliminare\n",
    "\n",
    "Possiamo osservare che nell'attributo \"average_temperature\" sono assenti circa il 95% dei valori. La nostra assunzione è quindi che sia impossibile sfruttare questo valore in modo corrertto o correggerlo con una imputazione e pertanto preferiamo rimuoverlo sin da subito per diminuire la dimensionalità del dataset.\n",
    "\n",
    "Con la stessa analisi appena citata abbiamo rilevato che anche la percentuale di valori mancanti nell'attributo \"uci_points\" è particolarmente elevata (circa 57%), tuttavia dalle nostre ricerche esterne al dataset, questa categoria di punteggi è stata inventata dopo gli anni 2000, pertanto la mancanza di questi valori potrebbe essere attribuita proprio alla presenza di record risalenti a periodi precedenti alla loro messa in atto. Abbiamo quindi deciso di tenere questi valori nonostante siano assenti nella maggior parte dei record per effettuare analisi mirate"
   ]
  },
  {
   "cell_type": "code",
   "execution_count": 6,
   "metadata": {},
   "outputs": [
    {
     "data": {
      "text/plain": [
       "_url                    0.000000\n",
       "name                    0.000000\n",
       "points                  0.080866\n",
       "uci_points             57.433311\n",
       "length                  0.000000\n",
       "climb_total            24.928585\n",
       "profile                25.123376\n",
       "startlist_quality       0.000000\n",
       "average_temperature    94.925449\n",
       "date                    0.000000\n",
       "position                0.000000\n",
       "cyclist                 0.000000\n",
       "cyclist_age             0.019157\n",
       "is_tarmac               0.000000\n",
       "is_cobbled              0.000000\n",
       "is_gravel               0.000000\n",
       "cyclist_team           26.982615\n",
       "delta                   0.000000\n",
       "Name: percent_missing, dtype: float64"
      ]
     },
     "execution_count": 6,
     "metadata": {},
     "output_type": "execute_result"
    }
   ],
   "source": [
    "percent_missing = dataset.isnull().sum() * 100 / len(dataset) # compute the percentage of missing values\n",
    "missing_value_df = pd.DataFrame({'column_name': dataset.columns,\n",
    "                                 'percent_missing': percent_missing})\n",
    "\n",
    "missing_value_df['percent_missing']"
   ]
  },
  {
   "cell_type": "code",
   "execution_count": 7,
   "metadata": {},
   "outputs": [],
   "source": [
    "dataset = dataset.drop(columns=['average_temperature'])"
   ]
  },
  {
   "cell_type": "code",
   "execution_count": 8,
   "metadata": {},
   "outputs": [
    {
     "data": {
      "text/html": [
       "<div>\n",
       "<style scoped>\n",
       "    .dataframe tbody tr th:only-of-type {\n",
       "        vertical-align: middle;\n",
       "    }\n",
       "\n",
       "    .dataframe tbody tr th {\n",
       "        vertical-align: top;\n",
       "    }\n",
       "\n",
       "    .dataframe thead th {\n",
       "        text-align: right;\n",
       "    }\n",
       "</style>\n",
       "<table border=\"1\" class=\"dataframe\">\n",
       "  <thead>\n",
       "    <tr style=\"text-align: right;\">\n",
       "      <th></th>\n",
       "      <th>points</th>\n",
       "      <th>uci_points</th>\n",
       "      <th>length</th>\n",
       "      <th>climb_total</th>\n",
       "      <th>profile</th>\n",
       "      <th>startlist_quality</th>\n",
       "      <th>position</th>\n",
       "      <th>cyclist_age</th>\n",
       "      <th>delta</th>\n",
       "    </tr>\n",
       "  </thead>\n",
       "  <tbody>\n",
       "    <tr>\n",
       "      <th>count</th>\n",
       "      <td>589388.000000</td>\n",
       "      <td>251086.000000</td>\n",
       "      <td>589865.000000</td>\n",
       "      <td>442820.000000</td>\n",
       "      <td>441671.000000</td>\n",
       "      <td>589865.000000</td>\n",
       "      <td>589865.000000</td>\n",
       "      <td>589752.000000</td>\n",
       "      <td>589865.000000</td>\n",
       "    </tr>\n",
       "    <tr>\n",
       "      <th>mean</th>\n",
       "      <td>89.221635</td>\n",
       "      <td>74.601547</td>\n",
       "      <td>166776.180584</td>\n",
       "      <td>2330.469215</td>\n",
       "      <td>2.611611</td>\n",
       "      <td>1101.161178</td>\n",
       "      <td>74.219491</td>\n",
       "      <td>28.486208</td>\n",
       "      <td>418.292794</td>\n",
       "    </tr>\n",
       "    <tr>\n",
       "      <th>std</th>\n",
       "      <td>54.435330</td>\n",
       "      <td>100.947962</td>\n",
       "      <td>64545.605664</td>\n",
       "      <td>1375.710722</td>\n",
       "      <td>1.491741</td>\n",
       "      <td>380.586928</td>\n",
       "      <td>48.404023</td>\n",
       "      <td>3.855631</td>\n",
       "      <td>842.961596</td>\n",
       "    </tr>\n",
       "    <tr>\n",
       "      <th>min</th>\n",
       "      <td>18.000000</td>\n",
       "      <td>6.000000</td>\n",
       "      <td>1000.000000</td>\n",
       "      <td>2.000000</td>\n",
       "      <td>1.000000</td>\n",
       "      <td>115.000000</td>\n",
       "      <td>0.000000</td>\n",
       "      <td>13.000000</td>\n",
       "      <td>-6906.000000</td>\n",
       "    </tr>\n",
       "    <tr>\n",
       "      <th>25%</th>\n",
       "      <td>50.000000</td>\n",
       "      <td>16.000000</td>\n",
       "      <td>152500.000000</td>\n",
       "      <td>1309.000000</td>\n",
       "      <td>1.000000</td>\n",
       "      <td>844.000000</td>\n",
       "      <td>32.000000</td>\n",
       "      <td>26.000000</td>\n",
       "      <td>10.000000</td>\n",
       "    </tr>\n",
       "    <tr>\n",
       "      <th>50%</th>\n",
       "      <td>80.000000</td>\n",
       "      <td>60.000000</td>\n",
       "      <td>178200.000000</td>\n",
       "      <td>2255.000000</td>\n",
       "      <td>2.000000</td>\n",
       "      <td>988.000000</td>\n",
       "      <td>70.000000</td>\n",
       "      <td>28.000000</td>\n",
       "      <td>156.000000</td>\n",
       "    </tr>\n",
       "    <tr>\n",
       "      <th>75%</th>\n",
       "      <td>100.000000</td>\n",
       "      <td>100.000000</td>\n",
       "      <td>203500.000000</td>\n",
       "      <td>3273.000000</td>\n",
       "      <td>4.000000</td>\n",
       "      <td>1309.000000</td>\n",
       "      <td>112.000000</td>\n",
       "      <td>31.000000</td>\n",
       "      <td>624.000000</td>\n",
       "    </tr>\n",
       "    <tr>\n",
       "      <th>max</th>\n",
       "      <td>350.000000</td>\n",
       "      <td>800.000000</td>\n",
       "      <td>338000.000000</td>\n",
       "      <td>6974.000000</td>\n",
       "      <td>5.000000</td>\n",
       "      <td>2047.000000</td>\n",
       "      <td>209.000000</td>\n",
       "      <td>56.000000</td>\n",
       "      <td>61547.000000</td>\n",
       "    </tr>\n",
       "  </tbody>\n",
       "</table>\n",
       "</div>"
      ],
      "text/plain": [
       "              points     uci_points         length    climb_total  \\\n",
       "count  589388.000000  251086.000000  589865.000000  442820.000000   \n",
       "mean       89.221635      74.601547  166776.180584    2330.469215   \n",
       "std        54.435330     100.947962   64545.605664    1375.710722   \n",
       "min        18.000000       6.000000    1000.000000       2.000000   \n",
       "25%        50.000000      16.000000  152500.000000    1309.000000   \n",
       "50%        80.000000      60.000000  178200.000000    2255.000000   \n",
       "75%       100.000000     100.000000  203500.000000    3273.000000   \n",
       "max       350.000000     800.000000  338000.000000    6974.000000   \n",
       "\n",
       "             profile  startlist_quality       position    cyclist_age  \\\n",
       "count  441671.000000      589865.000000  589865.000000  589752.000000   \n",
       "mean        2.611611        1101.161178      74.219491      28.486208   \n",
       "std         1.491741         380.586928      48.404023       3.855631   \n",
       "min         1.000000         115.000000       0.000000      13.000000   \n",
       "25%         1.000000         844.000000      32.000000      26.000000   \n",
       "50%         2.000000         988.000000      70.000000      28.000000   \n",
       "75%         4.000000        1309.000000     112.000000      31.000000   \n",
       "max         5.000000        2047.000000     209.000000      56.000000   \n",
       "\n",
       "               delta  \n",
       "count  589865.000000  \n",
       "mean      418.292794  \n",
       "std       842.961596  \n",
       "min     -6906.000000  \n",
       "25%        10.000000  \n",
       "50%       156.000000  \n",
       "75%       624.000000  \n",
       "max     61547.000000  "
      ]
     },
     "execution_count": 8,
     "metadata": {},
     "output_type": "execute_result"
    }
   ],
   "source": [
    "dataset.describe()"
   ]
  },
  {
   "cell_type": "markdown",
   "metadata": {},
   "source": [
    "### Date Attribute\n",
    "\n",
    "Poiché l'informazione dell'attributo \"date\" conteneva dettagli temporali in formato orario, e poiché questi costituiscono più che altro una fonte di rumore per le nostre analisi, abbiamo deciso di rimuovere questa specificità mantenendo un formato \"anno-mese-giorno\".\n",
    "\n",
    "Approfittando di questa nuova formattazione abbiamo controllato il primo anno in cui i punteggi \"UCI\" appaiono nel nostro dataset che confermano la nostra teoria iniziale sull'introduzione di questa valutazione come postumo agli anni 2000"
   ]
  },
  {
   "cell_type": "code",
   "execution_count": 9,
   "metadata": {},
   "outputs": [],
   "source": [
    "dataset['date'] = dataset['date'].str.split(' ').str[0]\n",
    "dataset['date'] = pd.to_datetime(dataset['date'], format='%Y-%m-%d')"
   ]
  },
  {
   "cell_type": "markdown",
   "metadata": {},
   "source": [
    "### Name Attribute\n",
    "\n",
    "Assicuratici dell'assenza di valori NaN, analizzando i nomi dei percorsi nel dataset è emerso che riferendosi alla stessa gara fossero registrati nomi diversi. Dopo aver effettuato delle ricerche online (citazione) per ricavarne i nomi ufficiali abbiamo sostituito tutte le occorrenze varianti con i nomi canonici. \n",
    "\n",
    "Notando la dicitura \"ME\" in alcuni nomi abbiamo effettuato altre ricerche specifiche, scoprendo che questa terminologia si riferisca a \"Men Elite\" che potrebbe quindi distinguere due classi diverse per la stessa gara. Abbiamo quindi verificato se in uno stesso anno potessero apparire sia la versione ME che la versione non-ME della stessa competizione, scoprendo che in realtà questo non avviene mai. Con questo ragionamento abbiamo quindi determinato che la nomenclatura ME di una competizione non sia altro che un altro sinonimo per il nome canonico della stessa, con cui abbiamo sostituito ogni occorrenza"
   ]
  },
  {
   "cell_type": "code",
   "execution_count": 10,
   "metadata": {},
   "outputs": [
    {
     "data": {
      "text/plain": [
       "name\n",
       "Amstel Gold Race                       4349\n",
       "Clasica Ciclista San Sebastian         3884\n",
       "Clásica Ciclista San Sebastian           84\n",
       "Clásica Ciclista San Sebastián          236\n",
       "Clásica San Sebastián                    52\n",
       "                                      ...  \n",
       "Vuelta Ciclista al País Vasco          6529\n",
       "Vuelta a España                       89222\n",
       "Vuelta al País Vasco                   7206\n",
       "World Championships - Road Race        1611\n",
       "World Championships ME - Road Race     2306\n",
       "Name: count, Length: 61, dtype: int64"
      ]
     },
     "execution_count": 10,
     "metadata": {},
     "output_type": "execute_result"
    }
   ],
   "source": [
    "dataset[dataset['name'].notnull()].groupby(by='name', observed=True)['name'].value_counts()"
   ]
  },
  {
   "cell_type": "code",
   "execution_count": 11,
   "metadata": {},
   "outputs": [
    {
     "data": {
      "text/plain": [
       "61"
      ]
     },
     "execution_count": 11,
     "metadata": {},
     "output_type": "execute_result"
    }
   ],
   "source": [
    "len(dataset['name'].unique())"
   ]
  },
  {
   "cell_type": "code",
   "execution_count": 12,
   "metadata": {},
   "outputs": [],
   "source": [
    "dataset['name'] = dataset['name'].apply(unidecode)\n",
    "dataset['name'] = dataset['name'].replace(to_replace={'Clasica Ciclista San Sebastian':'Clasica San Sebastian',\n",
    "                                                      'Donostia San Sebastian Klasikoa':'Clasica San Sebastian',\n",
    "                                                         'Criterium du Dauphine Libere':'Criterium du Dauphine',\n",
    "                                                         'Gran Camino':'O Gran Camino',\n",
    "                                                         'La Vuelta ciclista a Espana':'Vuelta a Espana',\n",
    "                                                         'Dwars door Belgie / A travers la Belgique':'Dwars door Vlaanderen',\n",
    "                                                         'Dwars door Vlaanderen - A travers la Flandre ME':'Dwars door Vlaanderen ME',\n",
    "                                                         'Dwars door Vlaanderen / A travers la Flandre':'Dwars door Vlaanderen',\n",
    "                                                         'Dwars door Vlaanderen / A travers la Flandre ME':'Dwars door Vlaanderen ME',\n",
    "                                                         'E3 BinckBank Classic':'E3 Saxo Bank Classic',\n",
    "                                                         'E3 Harelbeke':'E3 Saxo Bank Classic',\n",
    "                                                         'E3 Prijs Vlaanderen':'E3 Saxo Bank Classic',\n",
    "                                                         'E3 Prijs Vlaanderen - Harelbeke':'E3 Saxo Bank Classic',\n",
    "                                                         'E3 Saxo Classic':'E3 Saxo Bank Classic',\n",
    "                                                         'E3-Prijs Harelbeke':'E3 Saxo Bank Classic',\n",
    "                                                         'Record Bank E3 Harelbeke':'E3 Saxo Bank Classic',\n",
    "                                                         'Giro di Lombardia':'Il Lombardia',\n",
    "                                                         'Liege - Bastogne - Liege':'Liege-Bastogne-Liege',\n",
    "                                                         'Monte Paschi Eroica':'Strade Bianche',\n",
    "                                                         'Montepaschi Strade Bianche - Eroica Toscana':'Strade Bianche',\n",
    "                                                         'Omloop Het Volk':'Omloop Nieuwsblad',\n",
    "                                                         'Omloop Het Nieuwsblad ME':'Omloop Nieuwsblad ME',\n",
    "                                                         'Omloop Het Volk ME':'Omloop Nieuwsblad ME',\n",
    "                                                         'Paris - Roubaix':'Paris-Roubaix',\n",
    "                                                         'Ronde van Vlaanderen - Tour des Flandres ME':'Ronde van Vlaanderen ME',\n",
    "                                                         'Ronde van Vlaanderen / Tour des Flandres':'Ronde van Vlaanderen',\n",
    "                                                         'Ronde van Vlaanderen / Tour des Flandres ME':'Ronde van Vlaanderen ME',\n",
    "                                                         'Volta a Catalunya':'Volta Ciclista a Catalunya',\n",
    "                                                         'Vuelta Ciclista al Pais Vasco':'Vuelta al Pais Vasco',\n",
    "                                                         })"
   ]
  },
  {
   "cell_type": "code",
   "execution_count": 13,
   "metadata": {},
   "outputs": [
    {
     "data": {
      "text/plain": [
       "32"
      ]
     },
     "execution_count": 13,
     "metadata": {},
     "output_type": "execute_result"
    }
   ],
   "source": [
    "len(dataset['name'].unique())"
   ]
  },
  {
   "cell_type": "code",
   "execution_count": 14,
   "metadata": {},
   "outputs": [
    {
     "data": {
      "text/plain": [
       "0.0"
      ]
     },
     "execution_count": 14,
     "metadata": {},
     "output_type": "execute_result"
    }
   ],
   "source": [
    "tmp_df = tmp_df = pd.DataFrame({\n",
    "    'name': dataset['name'],\n",
    "    'year': dataset['date'].dt.year,\n",
    "    'general_name': dataset['name'].apply(lambda x: x.split('ME')[0].strip()),\n",
    "})\n",
    "\n",
    "n_name = tmp_df.groupby(by=['general_name', 'year'], observed=True)['name'].nunique()\n",
    "\n",
    "n_name_gt1 = n_name[n_name > 1]\n",
    "round(len(n_name_gt1) / len(n_name) * 100, 2)"
   ]
  },
  {
   "cell_type": "code",
   "execution_count": 15,
   "metadata": {},
   "outputs": [],
   "source": [
    "dataset['name'] = dataset['name'].replace(to_replace={\n",
    "                                                         'Dwars door Vlaanderen ME':'Dwars door Vlaanderen',\n",
    "                                                         'Omloop Nieuwsblad ME':'Omloop Nieuwsblad',\n",
    "                                                         'Ronde van Vlaanderen ME':'Ronde van Vlaanderen',\n",
    "                                                         'World Championships ME - Road Race':'World Championships - Road Race'\n",
    "                                                         })"
   ]
  },
  {
   "cell_type": "markdown",
   "metadata": {},
   "source": [
    "### Length Attribute\n",
    "\n",
    "Nel notebook \"races_possible_errors\" abbiamo notato che la lunghezza dei percorsi delle gare sia solitamente riconducibile ad un intero, le poche eccezioni sembrano contenere soltato una trascurabilissima quanità di rumore decimale che abbiamo deciso quindi di rimuovere. \n",
    "\n",
    "Abbiamo eseguito dei controlli per studiare la variazione dell'attributo \"length\" degli stage in cui sono suddivise le competizioni rispetto al variare degli anni. Queste analisi hanno portato alla scoperta di un numero consistente di variazioni prossimo all'80%. Basandoci sulle nostre conoscenze attuali e i risultati di queste analisi possiamo ritenere questo comportamento \"normale\" e dare per assodato che questo attributo non sia statico nel tempo"
   ]
  },
  {
   "cell_type": "code",
   "execution_count": 16,
   "metadata": {},
   "outputs": [
    {
     "data": {
      "text/plain": [
       "79.62"
      ]
     },
     "execution_count": 16,
     "metadata": {},
     "output_type": "execute_result"
    }
   ],
   "source": [
    "tmp_df = tmp_df = pd.DataFrame({\n",
    "    'stage': dataset['_url'].str.split('/').str[-1],\n",
    "    'name': dataset['name'],\n",
    "    'year': dataset['date'].dt.year,\n",
    "    'length': dataset['length'],\n",
    "    'climb_total': dataset['climb_total'],\n",
    "    'profile': dataset['profile'],\n",
    "})\n",
    "\n",
    "n_length = tmp_df.groupby(['name', 'stage'])['length'].nunique()\n",
    "\n",
    "n_length_gt1 = n_length[n_length > 1]\n",
    "round(len(n_length_gt1) / len(n_length) * 100, 2)"
   ]
  },
  {
   "cell_type": "markdown",
   "metadata": {},
   "source": [
    "### Climb_total Attribute\n",
    "\n",
    "Come visto nel notebook \"races_possible_errors\" il valore climb_total è registrato nel dataset come float ma non presenta cifre decimali. Pertanto senza ulteriori analisi abbiamo deciso di cambiarne il tipo in intero.\n",
    "\n",
    "Abbiamo eseguito dei controlli per studiare la variazione dell'attributo \"climb_total\" degli stage in cui sono suddivise le competizioni rispetto al variare degli anni. Queste analisi hanno portato alla scoperta di un numero consistente di variazioni prossimo all'60%. Basandoci sulle nostre conoscenze attuali e i risultati di queste analisi possiamo ritenere questo comportamento \"normale\" e dare per assodato che questo attributo non sia statico nel tempo."
   ]
  },
  {
   "cell_type": "code",
   "execution_count": 17,
   "metadata": {},
   "outputs": [],
   "source": [
    "# climb_total è logicamente un intero\n",
    "dataset['climb_total'] = dataset[dataset['climb_total'].notnull()]['climb_total'].astype(int)"
   ]
  },
  {
   "cell_type": "code",
   "execution_count": 18,
   "metadata": {},
   "outputs": [
    {
     "data": {
      "text/plain": [
       "61.15"
      ]
     },
     "execution_count": 18,
     "metadata": {},
     "output_type": "execute_result"
    }
   ],
   "source": [
    "n_climb = tmp_df.groupby(['name', 'stage'])['climb_total'].nunique()\n",
    "\n",
    "n_climb_gt1 = n_climb[n_climb > 1]\n",
    "round(len(n_climb_gt1) / len(n_climb) * 100, 2)"
   ]
  },
  {
   "cell_type": "markdown",
   "metadata": {},
   "source": [
    "### Profile Attribute\n",
    "\n",
    "L'attributo profile è chiaramente categorico. L'unica discrepanza con l'overview dei dati fornitaci con la consegna del progetto è la presenza di un valore in più (da 4 a 5 categorie).\n",
    "In questa fase tuttavia non riteniamo questa discrepanza essere nociva quanto semplicemente un'occasione per esaminare i profili dei percorsi con una grana più fine. \n",
    "\n",
    "Abbiamo eseguito dei controlli per studiare la variazione dell'attributo \"profile\" degli stage in cui sono suddivise le competizioni rispetto al variare degli anni. Queste analisi hanno portato alla scoperta di un numero consistente di variazioni prossimo all'50%. Basandoci sulle nostre conoscenze attuali e i risultati di queste analisi possiamo ritenere questo comportamento \"normale\" e dare per assodato che questo attributo non sia statico nel tempo. Il fatto che queste variazioni siano state registrare nell'attributo climb_total quanto nell'attributo length e profile, confermano la nostra ipotesi riguardo al fatto che queste fluttuazioni siano giustificate da frequenti cambiamenti nella delineazione del percorso nelle diverse edizioni delle gare"
   ]
  },
  {
   "cell_type": "code",
   "execution_count": 19,
   "metadata": {},
   "outputs": [
    {
     "data": {
      "text/plain": [
       "5"
      ]
     },
     "execution_count": 19,
     "metadata": {},
     "output_type": "execute_result"
    }
   ],
   "source": [
    "len(dataset[dataset['profile'].notnull()]['profile'].unique())"
   ]
  },
  {
   "cell_type": "code",
   "execution_count": 20,
   "metadata": {},
   "outputs": [],
   "source": [
    "# 'profile' is clearly a categorical attribute, so we change its type\n",
    "dataset['profile'] = dataset['profile'].astype('category')"
   ]
  },
  {
   "cell_type": "code",
   "execution_count": 21,
   "metadata": {},
   "outputs": [
    {
     "data": {
      "text/plain": [
       "54.23"
      ]
     },
     "execution_count": 21,
     "metadata": {},
     "output_type": "execute_result"
    }
   ],
   "source": [
    "n_profile = tmp_df.groupby(['name', 'stage'])['profile'].nunique()\n",
    "\n",
    "n_profile_gt1 = n_profile[n_profile > 1]\n",
    "round(len(n_profile_gt1) / len(n_profile) * 100, 2)"
   ]
  },
  {
   "cell_type": "markdown",
   "metadata": {},
   "source": [
    "### Points Attribute\n",
    "\n",
    "Abbiamo rilevato che l'attributo \"points\" non si riferisce (al contrario di quanto intuibile) ai punteggi guadagnati da un dato ciclista in un dato stage di una data gara, ma bensì a un valore predefinito a seconda di gara, stage e anno in cui si è tenuta la competizione"
   ]
  },
  {
   "cell_type": "code",
   "execution_count": 22,
   "metadata": {},
   "outputs": [
    {
     "data": {
      "text/plain": [
       "name\n",
       "Amstel Gold Race                   1\n",
       "Clasica San Sebastian              2\n",
       "Criterium du Dauphine              3\n",
       "Dwars door Vlaanderen              3\n",
       "E3 Saxo Bank Classic               2\n",
       "Giro d'Italia                      3\n",
       "Grand Prix Cycliste de Montreal    1\n",
       "Grand Prix Cycliste de Quebec      1\n",
       "Il Lombardia                       1\n",
       "Itzulia Basque Country             1\n",
       "La Fleche Wallonne                 1\n",
       "Liege-Bastogne-Liege               1\n",
       "Milano-Sanremo                     1\n",
       "O Gran Camino                      1\n",
       "Omloop Nieuwsblad                  2\n",
       "Paris - Nice                       3\n",
       "Paris-Roubaix                      1\n",
       "Ronde van Vlaanderen               1\n",
       "Strade Bianche                     3\n",
       "Tirreno-Adriatico                  2\n",
       "Tour de France                     3\n",
       "Tour de Romandie                   1\n",
       "Tour de Suisse                     2\n",
       "UAE Tour                           1\n",
       "Volta Ciclista a Catalunya         1\n",
       "Vuelta a Espana                    2\n",
       "Vuelta al Pais Vasco               1\n",
       "World Championships - Road Race    1\n",
       "Name: points, dtype: int64"
      ]
     },
     "execution_count": 22,
     "metadata": {},
     "output_type": "execute_result"
    }
   ],
   "source": [
    "dataset.groupby('name')['points'].nunique()"
   ]
  },
  {
   "cell_type": "code",
   "execution_count": 23,
   "metadata": {},
   "outputs": [
    {
     "data": {
      "text/plain": [
       "year  name                 \n",
       "1999  Tour de France           2\n",
       "2000  Tour de France           2\n",
       "2001  Tour de France           2\n",
       "2002  Giro d'Italia            2\n",
       "      Tour de France           2\n",
       "2003  Tour de France           2\n",
       "2004  Tour de France           2\n",
       "      Vuelta a Espana          2\n",
       "2005  Criterium du Dauphine    2\n",
       "      Giro d'Italia            2\n",
       "      Tour de France           3\n",
       "      Tour de Suisse           2\n",
       "      Vuelta a Espana          2\n",
       "2006  Criterium du Dauphine    3\n",
       "      Giro d'Italia            2\n",
       "      Tirreno-Adriatico        2\n",
       "      Tour de Suisse           2\n",
       "2008  Paris - Nice             2\n",
       "      Tirreno-Adriatico        2\n",
       "2009  Giro d'Italia            3\n",
       "Name: points, dtype: int64"
      ]
     },
     "execution_count": 23,
     "metadata": {},
     "output_type": "execute_result"
    }
   ],
   "source": [
    "tmp_df = tmp_df = pd.DataFrame({\n",
    "    '_url': dataset['_url'],\n",
    "    'name': dataset['name'],\n",
    "    'year': dataset['date'].dt.year,\n",
    "    'points': dataset['points'],\n",
    "    'uci_points': dataset['uci_points']\n",
    "})\n",
    "\n",
    "n_points = tmp_df.groupby(['year', 'name'])['points'].nunique()\n",
    "n_points = n_points[n_points > 1]\n",
    "n_points"
   ]
  },
  {
   "cell_type": "markdown",
   "metadata": {},
   "source": [
    "L'analisi qui sopra rivela che conoscere l'anno in cui si è svolta la competizione e il nome della competizione non ci permette di determinare un univoco punteggio per tutti i record riconducibili a quella coppia competizione-anno. Nell'analisi successiva proviamo allora a distinguere per \"_url\", attributo che dovrebbe raccogliere informazioni sul nome e anno della competizione, distinugendo però per i vari stage della stessa"
   ]
  },
  {
   "cell_type": "code",
   "execution_count": 24,
   "metadata": {},
   "outputs": [
    {
     "data": {
      "text/plain": [
       "Series([], Name: points, dtype: int64)"
      ]
     },
     "execution_count": 24,
     "metadata": {},
     "output_type": "execute_result"
    }
   ],
   "source": [
    "n_points = tmp_df.groupby(['name', '_url'])['points'].nunique()\n",
    "n_points = n_points[n_points > 1]\n",
    "n_points"
   ]
  },
  {
   "cell_type": "markdown",
   "metadata": {},
   "source": [
    "Abbiamo confermato l'ipotesi iniziale per cui ogni stage di ogni gara ha associato un univoco punteggio nel nostro dataset. Questa peculiarità conferma che il punteggio non è un valore relativo alla posizione di arrivo nella competizione nè un valore che potremmo associare ai ciclisti in maniera diretta. Potrebbe essere comunque interessante in futuro eseguire delle analisi riguardo a correlazione tra ciclisti e punteggi per poter scoprire relazioni inaspettate (ad esempio potremmo scoprire che le gare più prestigiose che danno più punteggi sono frequentate dai ciclisti più prestigiosi)"
   ]
  },
  {
   "cell_type": "markdown",
   "metadata": {},
   "source": [
    "### UCI Points Attribute"
   ]
  },
  {
   "cell_type": "code",
   "execution_count": 25,
   "metadata": {},
   "outputs": [
    {
     "data": {
      "text/plain": [
       "name\n",
       "Amstel Gold Race                   1\n",
       "Clasica San Sebastian              1\n",
       "Criterium du Dauphine              2\n",
       "Dwars door Vlaanderen              2\n",
       "E3 Saxo Bank Classic               1\n",
       "Giro d'Italia                      3\n",
       "Grand Prix Cycliste de Montreal    1\n",
       "Grand Prix Cycliste de Quebec      2\n",
       "Il Lombardia                       1\n",
       "Itzulia Basque Country             1\n",
       "La Fleche Wallonne                 1\n",
       "Liege-Bastogne-Liege               2\n",
       "Milano-Sanremo                     2\n",
       "O Gran Camino                      1\n",
       "Omloop Nieuwsblad                  2\n",
       "Paris - Nice                       2\n",
       "Paris-Roubaix                      2\n",
       "Ronde van Vlaanderen               2\n",
       "Strade Bianche                     4\n",
       "Tirreno-Adriatico                  2\n",
       "Tour de France                     3\n",
       "Tour de Romandie                   2\n",
       "Tour de Suisse                     4\n",
       "UAE Tour                           1\n",
       "Volta Ciclista a Catalunya         2\n",
       "Vuelta a Espana                    2\n",
       "Vuelta al Pais Vasco               2\n",
       "World Championships - Road Race    1\n",
       "Name: uci_points, dtype: int64"
      ]
     },
     "execution_count": 25,
     "metadata": {},
     "output_type": "execute_result"
    }
   ],
   "source": [
    "dataset.groupby('name')['uci_points'].nunique()"
   ]
  },
  {
   "cell_type": "code",
   "execution_count": 26,
   "metadata": {},
   "outputs": [
    {
     "data": {
      "text/plain": [
       "year  name           \n",
       "2015  Vuelta a Espana    2\n",
       "2016  Tour de Suisse     2\n",
       "Name: uci_points, dtype: int64"
      ]
     },
     "execution_count": 26,
     "metadata": {},
     "output_type": "execute_result"
    }
   ],
   "source": [
    "n_points = tmp_df.groupby(['year', 'name'])['uci_points'].nunique()\n",
    "n_points = n_points[n_points > 1]\n",
    "n_points"
   ]
  },
  {
   "cell_type": "code",
   "execution_count": 27,
   "metadata": {},
   "outputs": [
    {
     "data": {
      "text/plain": [
       "Series([], Name: uci_points, dtype: int64)"
      ]
     },
     "execution_count": 27,
     "metadata": {},
     "output_type": "execute_result"
    }
   ],
   "source": [
    "n_points = tmp_df.groupby(['name', '_url'])['uci_points'].nunique()\n",
    "n_points = n_points[n_points > 1]\n",
    "n_points"
   ]
  },
  {
   "cell_type": "markdown",
   "metadata": {},
   "source": [
    "Anche per l'attributo \"uci_points\" possiamo confermare quanto detto nel caso precedente. I valori in questo campo dipendono univocamente dalla gara specifica e dallo stage di questa che si sta analizzando"
   ]
  },
  {
   "cell_type": "markdown",
   "metadata": {},
   "source": [
    "### Url Attribute"
   ]
  },
  {
   "cell_type": "code",
   "execution_count": 28,
   "metadata": {},
   "outputs": [
    {
     "data": {
      "text/html": [
       "<div>\n",
       "<style scoped>\n",
       "    .dataframe tbody tr th:only-of-type {\n",
       "        vertical-align: middle;\n",
       "    }\n",
       "\n",
       "    .dataframe tbody tr th {\n",
       "        vertical-align: top;\n",
       "    }\n",
       "\n",
       "    .dataframe thead th {\n",
       "        text-align: right;\n",
       "    }\n",
       "</style>\n",
       "<table border=\"1\" class=\"dataframe\">\n",
       "  <thead>\n",
       "    <tr style=\"text-align: right;\">\n",
       "      <th>year</th>\n",
       "      <th>1970</th>\n",
       "      <th>1971</th>\n",
       "      <th>1972</th>\n",
       "      <th>1973</th>\n",
       "      <th>1974</th>\n",
       "      <th>1975</th>\n",
       "      <th>1976</th>\n",
       "      <th>1977</th>\n",
       "      <th>1978</th>\n",
       "      <th>1979</th>\n",
       "      <th>...</th>\n",
       "      <th>2015</th>\n",
       "      <th>2016</th>\n",
       "      <th>2017</th>\n",
       "      <th>2018</th>\n",
       "      <th>2019</th>\n",
       "      <th>2020</th>\n",
       "      <th>2021</th>\n",
       "      <th>2022</th>\n",
       "      <th>2023</th>\n",
       "      <th>same_stages_num</th>\n",
       "    </tr>\n",
       "    <tr>\n",
       "      <th>name</th>\n",
       "      <th></th>\n",
       "      <th></th>\n",
       "      <th></th>\n",
       "      <th></th>\n",
       "      <th></th>\n",
       "      <th></th>\n",
       "      <th></th>\n",
       "      <th></th>\n",
       "      <th></th>\n",
       "      <th></th>\n",
       "      <th></th>\n",
       "      <th></th>\n",
       "      <th></th>\n",
       "      <th></th>\n",
       "      <th></th>\n",
       "      <th></th>\n",
       "      <th></th>\n",
       "      <th></th>\n",
       "      <th></th>\n",
       "      <th></th>\n",
       "      <th></th>\n",
       "    </tr>\n",
       "  </thead>\n",
       "  <tbody>\n",
       "    <tr>\n",
       "      <th>Amstel Gold Race</th>\n",
       "      <td>1.0</td>\n",
       "      <td>1.0</td>\n",
       "      <td>1.0</td>\n",
       "      <td>1.0</td>\n",
       "      <td>1.0</td>\n",
       "      <td>1.0</td>\n",
       "      <td>1.0</td>\n",
       "      <td>1.0</td>\n",
       "      <td>1.0</td>\n",
       "      <td>1.0</td>\n",
       "      <td>...</td>\n",
       "      <td>1.0</td>\n",
       "      <td>1.0</td>\n",
       "      <td>1.0</td>\n",
       "      <td>1.0</td>\n",
       "      <td>1.0</td>\n",
       "      <td>NaN</td>\n",
       "      <td>1.0</td>\n",
       "      <td>1.0</td>\n",
       "      <td>1.0</td>\n",
       "      <td>True</td>\n",
       "    </tr>\n",
       "    <tr>\n",
       "      <th>Clasica San Sebastian</th>\n",
       "      <td>NaN</td>\n",
       "      <td>NaN</td>\n",
       "      <td>NaN</td>\n",
       "      <td>NaN</td>\n",
       "      <td>NaN</td>\n",
       "      <td>NaN</td>\n",
       "      <td>NaN</td>\n",
       "      <td>NaN</td>\n",
       "      <td>NaN</td>\n",
       "      <td>NaN</td>\n",
       "      <td>...</td>\n",
       "      <td>1.0</td>\n",
       "      <td>1.0</td>\n",
       "      <td>1.0</td>\n",
       "      <td>1.0</td>\n",
       "      <td>1.0</td>\n",
       "      <td>NaN</td>\n",
       "      <td>1.0</td>\n",
       "      <td>1.0</td>\n",
       "      <td>1.0</td>\n",
       "      <td>True</td>\n",
       "    </tr>\n",
       "    <tr>\n",
       "      <th>Criterium du Dauphine</th>\n",
       "      <td>2.0</td>\n",
       "      <td>NaN</td>\n",
       "      <td>NaN</td>\n",
       "      <td>NaN</td>\n",
       "      <td>NaN</td>\n",
       "      <td>9.0</td>\n",
       "      <td>NaN</td>\n",
       "      <td>10.0</td>\n",
       "      <td>NaN</td>\n",
       "      <td>1.0</td>\n",
       "      <td>...</td>\n",
       "      <td>7.0</td>\n",
       "      <td>8.0</td>\n",
       "      <td>8.0</td>\n",
       "      <td>7.0</td>\n",
       "      <td>8.0</td>\n",
       "      <td>5.0</td>\n",
       "      <td>8.0</td>\n",
       "      <td>8.0</td>\n",
       "      <td>8.0</td>\n",
       "      <td>False</td>\n",
       "    </tr>\n",
       "    <tr>\n",
       "      <th>Dwars door Vlaanderen</th>\n",
       "      <td>1.0</td>\n",
       "      <td>NaN</td>\n",
       "      <td>NaN</td>\n",
       "      <td>NaN</td>\n",
       "      <td>NaN</td>\n",
       "      <td>NaN</td>\n",
       "      <td>1.0</td>\n",
       "      <td>NaN</td>\n",
       "      <td>1.0</td>\n",
       "      <td>1.0</td>\n",
       "      <td>...</td>\n",
       "      <td>1.0</td>\n",
       "      <td>1.0</td>\n",
       "      <td>1.0</td>\n",
       "      <td>1.0</td>\n",
       "      <td>1.0</td>\n",
       "      <td>NaN</td>\n",
       "      <td>1.0</td>\n",
       "      <td>1.0</td>\n",
       "      <td>1.0</td>\n",
       "      <td>True</td>\n",
       "    </tr>\n",
       "    <tr>\n",
       "      <th>E3 Saxo Bank Classic</th>\n",
       "      <td>1.0</td>\n",
       "      <td>1.0</td>\n",
       "      <td>1.0</td>\n",
       "      <td>1.0</td>\n",
       "      <td>1.0</td>\n",
       "      <td>1.0</td>\n",
       "      <td>1.0</td>\n",
       "      <td>1.0</td>\n",
       "      <td>1.0</td>\n",
       "      <td>1.0</td>\n",
       "      <td>...</td>\n",
       "      <td>1.0</td>\n",
       "      <td>1.0</td>\n",
       "      <td>1.0</td>\n",
       "      <td>1.0</td>\n",
       "      <td>1.0</td>\n",
       "      <td>NaN</td>\n",
       "      <td>1.0</td>\n",
       "      <td>1.0</td>\n",
       "      <td>1.0</td>\n",
       "      <td>True</td>\n",
       "    </tr>\n",
       "    <tr>\n",
       "      <th>Giro d'Italia</th>\n",
       "      <td>NaN</td>\n",
       "      <td>NaN</td>\n",
       "      <td>NaN</td>\n",
       "      <td>NaN</td>\n",
       "      <td>NaN</td>\n",
       "      <td>NaN</td>\n",
       "      <td>NaN</td>\n",
       "      <td>NaN</td>\n",
       "      <td>NaN</td>\n",
       "      <td>NaN</td>\n",
       "      <td>...</td>\n",
       "      <td>20.0</td>\n",
       "      <td>21.0</td>\n",
       "      <td>21.0</td>\n",
       "      <td>21.0</td>\n",
       "      <td>21.0</td>\n",
       "      <td>21.0</td>\n",
       "      <td>21.0</td>\n",
       "      <td>21.0</td>\n",
       "      <td>21.0</td>\n",
       "      <td>False</td>\n",
       "    </tr>\n",
       "    <tr>\n",
       "      <th>Grand Prix Cycliste de Montreal</th>\n",
       "      <td>NaN</td>\n",
       "      <td>NaN</td>\n",
       "      <td>NaN</td>\n",
       "      <td>NaN</td>\n",
       "      <td>NaN</td>\n",
       "      <td>NaN</td>\n",
       "      <td>NaN</td>\n",
       "      <td>NaN</td>\n",
       "      <td>NaN</td>\n",
       "      <td>NaN</td>\n",
       "      <td>...</td>\n",
       "      <td>1.0</td>\n",
       "      <td>1.0</td>\n",
       "      <td>1.0</td>\n",
       "      <td>1.0</td>\n",
       "      <td>1.0</td>\n",
       "      <td>NaN</td>\n",
       "      <td>NaN</td>\n",
       "      <td>1.0</td>\n",
       "      <td>NaN</td>\n",
       "      <td>True</td>\n",
       "    </tr>\n",
       "    <tr>\n",
       "      <th>Grand Prix Cycliste de Quebec</th>\n",
       "      <td>NaN</td>\n",
       "      <td>NaN</td>\n",
       "      <td>NaN</td>\n",
       "      <td>NaN</td>\n",
       "      <td>NaN</td>\n",
       "      <td>NaN</td>\n",
       "      <td>NaN</td>\n",
       "      <td>NaN</td>\n",
       "      <td>NaN</td>\n",
       "      <td>NaN</td>\n",
       "      <td>...</td>\n",
       "      <td>1.0</td>\n",
       "      <td>1.0</td>\n",
       "      <td>1.0</td>\n",
       "      <td>1.0</td>\n",
       "      <td>1.0</td>\n",
       "      <td>NaN</td>\n",
       "      <td>NaN</td>\n",
       "      <td>1.0</td>\n",
       "      <td>NaN</td>\n",
       "      <td>True</td>\n",
       "    </tr>\n",
       "    <tr>\n",
       "      <th>Il Lombardia</th>\n",
       "      <td>1.0</td>\n",
       "      <td>1.0</td>\n",
       "      <td>1.0</td>\n",
       "      <td>1.0</td>\n",
       "      <td>1.0</td>\n",
       "      <td>1.0</td>\n",
       "      <td>1.0</td>\n",
       "      <td>1.0</td>\n",
       "      <td>1.0</td>\n",
       "      <td>1.0</td>\n",
       "      <td>...</td>\n",
       "      <td>1.0</td>\n",
       "      <td>1.0</td>\n",
       "      <td>1.0</td>\n",
       "      <td>1.0</td>\n",
       "      <td>1.0</td>\n",
       "      <td>1.0</td>\n",
       "      <td>1.0</td>\n",
       "      <td>1.0</td>\n",
       "      <td>NaN</td>\n",
       "      <td>True</td>\n",
       "    </tr>\n",
       "    <tr>\n",
       "      <th>Itzulia Basque Country</th>\n",
       "      <td>NaN</td>\n",
       "      <td>NaN</td>\n",
       "      <td>NaN</td>\n",
       "      <td>NaN</td>\n",
       "      <td>NaN</td>\n",
       "      <td>NaN</td>\n",
       "      <td>NaN</td>\n",
       "      <td>NaN</td>\n",
       "      <td>NaN</td>\n",
       "      <td>NaN</td>\n",
       "      <td>...</td>\n",
       "      <td>NaN</td>\n",
       "      <td>NaN</td>\n",
       "      <td>NaN</td>\n",
       "      <td>6.0</td>\n",
       "      <td>6.0</td>\n",
       "      <td>NaN</td>\n",
       "      <td>6.0</td>\n",
       "      <td>6.0</td>\n",
       "      <td>6.0</td>\n",
       "      <td>True</td>\n",
       "    </tr>\n",
       "    <tr>\n",
       "      <th>La Fleche Wallonne</th>\n",
       "      <td>1.0</td>\n",
       "      <td>1.0</td>\n",
       "      <td>1.0</td>\n",
       "      <td>1.0</td>\n",
       "      <td>1.0</td>\n",
       "      <td>1.0</td>\n",
       "      <td>1.0</td>\n",
       "      <td>1.0</td>\n",
       "      <td>1.0</td>\n",
       "      <td>1.0</td>\n",
       "      <td>...</td>\n",
       "      <td>1.0</td>\n",
       "      <td>1.0</td>\n",
       "      <td>1.0</td>\n",
       "      <td>1.0</td>\n",
       "      <td>1.0</td>\n",
       "      <td>1.0</td>\n",
       "      <td>1.0</td>\n",
       "      <td>1.0</td>\n",
       "      <td>1.0</td>\n",
       "      <td>True</td>\n",
       "    </tr>\n",
       "    <tr>\n",
       "      <th>Liege-Bastogne-Liege</th>\n",
       "      <td>1.0</td>\n",
       "      <td>1.0</td>\n",
       "      <td>1.0</td>\n",
       "      <td>1.0</td>\n",
       "      <td>1.0</td>\n",
       "      <td>1.0</td>\n",
       "      <td>1.0</td>\n",
       "      <td>1.0</td>\n",
       "      <td>1.0</td>\n",
       "      <td>1.0</td>\n",
       "      <td>...</td>\n",
       "      <td>1.0</td>\n",
       "      <td>1.0</td>\n",
       "      <td>1.0</td>\n",
       "      <td>1.0</td>\n",
       "      <td>1.0</td>\n",
       "      <td>1.0</td>\n",
       "      <td>1.0</td>\n",
       "      <td>1.0</td>\n",
       "      <td>1.0</td>\n",
       "      <td>True</td>\n",
       "    </tr>\n",
       "    <tr>\n",
       "      <th>Milano-Sanremo</th>\n",
       "      <td>NaN</td>\n",
       "      <td>NaN</td>\n",
       "      <td>NaN</td>\n",
       "      <td>NaN</td>\n",
       "      <td>NaN</td>\n",
       "      <td>NaN</td>\n",
       "      <td>NaN</td>\n",
       "      <td>NaN</td>\n",
       "      <td>NaN</td>\n",
       "      <td>NaN</td>\n",
       "      <td>...</td>\n",
       "      <td>1.0</td>\n",
       "      <td>1.0</td>\n",
       "      <td>1.0</td>\n",
       "      <td>1.0</td>\n",
       "      <td>1.0</td>\n",
       "      <td>1.0</td>\n",
       "      <td>1.0</td>\n",
       "      <td>1.0</td>\n",
       "      <td>1.0</td>\n",
       "      <td>True</td>\n",
       "    </tr>\n",
       "    <tr>\n",
       "      <th>O Gran Camino</th>\n",
       "      <td>NaN</td>\n",
       "      <td>NaN</td>\n",
       "      <td>NaN</td>\n",
       "      <td>NaN</td>\n",
       "      <td>NaN</td>\n",
       "      <td>NaN</td>\n",
       "      <td>NaN</td>\n",
       "      <td>NaN</td>\n",
       "      <td>NaN</td>\n",
       "      <td>NaN</td>\n",
       "      <td>...</td>\n",
       "      <td>NaN</td>\n",
       "      <td>NaN</td>\n",
       "      <td>NaN</td>\n",
       "      <td>NaN</td>\n",
       "      <td>NaN</td>\n",
       "      <td>NaN</td>\n",
       "      <td>NaN</td>\n",
       "      <td>4.0</td>\n",
       "      <td>3.0</td>\n",
       "      <td>False</td>\n",
       "    </tr>\n",
       "    <tr>\n",
       "      <th>Omloop Nieuwsblad</th>\n",
       "      <td>1.0</td>\n",
       "      <td>1.0</td>\n",
       "      <td>1.0</td>\n",
       "      <td>1.0</td>\n",
       "      <td>1.0</td>\n",
       "      <td>1.0</td>\n",
       "      <td>1.0</td>\n",
       "      <td>1.0</td>\n",
       "      <td>1.0</td>\n",
       "      <td>1.0</td>\n",
       "      <td>...</td>\n",
       "      <td>1.0</td>\n",
       "      <td>1.0</td>\n",
       "      <td>1.0</td>\n",
       "      <td>1.0</td>\n",
       "      <td>1.0</td>\n",
       "      <td>1.0</td>\n",
       "      <td>1.0</td>\n",
       "      <td>1.0</td>\n",
       "      <td>1.0</td>\n",
       "      <td>True</td>\n",
       "    </tr>\n",
       "    <tr>\n",
       "      <th>Paris - Nice</th>\n",
       "      <td>10.0</td>\n",
       "      <td>NaN</td>\n",
       "      <td>9.0</td>\n",
       "      <td>NaN</td>\n",
       "      <td>NaN</td>\n",
       "      <td>10.0</td>\n",
       "      <td>10.0</td>\n",
       "      <td>NaN</td>\n",
       "      <td>NaN</td>\n",
       "      <td>NaN</td>\n",
       "      <td>...</td>\n",
       "      <td>8.0</td>\n",
       "      <td>7.0</td>\n",
       "      <td>8.0</td>\n",
       "      <td>8.0</td>\n",
       "      <td>8.0</td>\n",
       "      <td>7.0</td>\n",
       "      <td>8.0</td>\n",
       "      <td>8.0</td>\n",
       "      <td>6.0</td>\n",
       "      <td>False</td>\n",
       "    </tr>\n",
       "    <tr>\n",
       "      <th>Paris-Roubaix</th>\n",
       "      <td>1.0</td>\n",
       "      <td>1.0</td>\n",
       "      <td>1.0</td>\n",
       "      <td>1.0</td>\n",
       "      <td>1.0</td>\n",
       "      <td>1.0</td>\n",
       "      <td>1.0</td>\n",
       "      <td>1.0</td>\n",
       "      <td>1.0</td>\n",
       "      <td>1.0</td>\n",
       "      <td>...</td>\n",
       "      <td>1.0</td>\n",
       "      <td>1.0</td>\n",
       "      <td>1.0</td>\n",
       "      <td>1.0</td>\n",
       "      <td>1.0</td>\n",
       "      <td>NaN</td>\n",
       "      <td>1.0</td>\n",
       "      <td>1.0</td>\n",
       "      <td>1.0</td>\n",
       "      <td>True</td>\n",
       "    </tr>\n",
       "    <tr>\n",
       "      <th>Ronde van Vlaanderen</th>\n",
       "      <td>1.0</td>\n",
       "      <td>1.0</td>\n",
       "      <td>1.0</td>\n",
       "      <td>1.0</td>\n",
       "      <td>1.0</td>\n",
       "      <td>1.0</td>\n",
       "      <td>1.0</td>\n",
       "      <td>1.0</td>\n",
       "      <td>1.0</td>\n",
       "      <td>1.0</td>\n",
       "      <td>...</td>\n",
       "      <td>1.0</td>\n",
       "      <td>1.0</td>\n",
       "      <td>1.0</td>\n",
       "      <td>1.0</td>\n",
       "      <td>1.0</td>\n",
       "      <td>1.0</td>\n",
       "      <td>1.0</td>\n",
       "      <td>1.0</td>\n",
       "      <td>1.0</td>\n",
       "      <td>True</td>\n",
       "    </tr>\n",
       "    <tr>\n",
       "      <th>Strade Bianche</th>\n",
       "      <td>NaN</td>\n",
       "      <td>NaN</td>\n",
       "      <td>NaN</td>\n",
       "      <td>NaN</td>\n",
       "      <td>NaN</td>\n",
       "      <td>NaN</td>\n",
       "      <td>NaN</td>\n",
       "      <td>NaN</td>\n",
       "      <td>NaN</td>\n",
       "      <td>NaN</td>\n",
       "      <td>...</td>\n",
       "      <td>1.0</td>\n",
       "      <td>1.0</td>\n",
       "      <td>1.0</td>\n",
       "      <td>1.0</td>\n",
       "      <td>1.0</td>\n",
       "      <td>1.0</td>\n",
       "      <td>1.0</td>\n",
       "      <td>1.0</td>\n",
       "      <td>1.0</td>\n",
       "      <td>True</td>\n",
       "    </tr>\n",
       "    <tr>\n",
       "      <th>Tirreno-Adriatico</th>\n",
       "      <td>1.0</td>\n",
       "      <td>NaN</td>\n",
       "      <td>NaN</td>\n",
       "      <td>6.0</td>\n",
       "      <td>NaN</td>\n",
       "      <td>NaN</td>\n",
       "      <td>NaN</td>\n",
       "      <td>NaN</td>\n",
       "      <td>1.0</td>\n",
       "      <td>1.0</td>\n",
       "      <td>...</td>\n",
       "      <td>7.0</td>\n",
       "      <td>5.0</td>\n",
       "      <td>6.0</td>\n",
       "      <td>6.0</td>\n",
       "      <td>6.0</td>\n",
       "      <td>8.0</td>\n",
       "      <td>7.0</td>\n",
       "      <td>7.0</td>\n",
       "      <td>7.0</td>\n",
       "      <td>False</td>\n",
       "    </tr>\n",
       "    <tr>\n",
       "      <th>Tour de France</th>\n",
       "      <td>NaN</td>\n",
       "      <td>NaN</td>\n",
       "      <td>NaN</td>\n",
       "      <td>NaN</td>\n",
       "      <td>NaN</td>\n",
       "      <td>NaN</td>\n",
       "      <td>NaN</td>\n",
       "      <td>NaN</td>\n",
       "      <td>23.0</td>\n",
       "      <td>23.0</td>\n",
       "      <td>...</td>\n",
       "      <td>20.0</td>\n",
       "      <td>21.0</td>\n",
       "      <td>21.0</td>\n",
       "      <td>20.0</td>\n",
       "      <td>20.0</td>\n",
       "      <td>NaN</td>\n",
       "      <td>21.0</td>\n",
       "      <td>21.0</td>\n",
       "      <td>21.0</td>\n",
       "      <td>False</td>\n",
       "    </tr>\n",
       "    <tr>\n",
       "      <th>Tour de Romandie</th>\n",
       "      <td>NaN</td>\n",
       "      <td>NaN</td>\n",
       "      <td>NaN</td>\n",
       "      <td>6.0</td>\n",
       "      <td>NaN</td>\n",
       "      <td>3.0</td>\n",
       "      <td>NaN</td>\n",
       "      <td>3.0</td>\n",
       "      <td>NaN</td>\n",
       "      <td>NaN</td>\n",
       "      <td>...</td>\n",
       "      <td>5.0</td>\n",
       "      <td>6.0</td>\n",
       "      <td>6.0</td>\n",
       "      <td>6.0</td>\n",
       "      <td>6.0</td>\n",
       "      <td>NaN</td>\n",
       "      <td>6.0</td>\n",
       "      <td>6.0</td>\n",
       "      <td>6.0</td>\n",
       "      <td>False</td>\n",
       "    </tr>\n",
       "    <tr>\n",
       "      <th>Tour de Suisse</th>\n",
       "      <td>10.0</td>\n",
       "      <td>10.0</td>\n",
       "      <td>4.0</td>\n",
       "      <td>NaN</td>\n",
       "      <td>12.0</td>\n",
       "      <td>11.0</td>\n",
       "      <td>12.0</td>\n",
       "      <td>12.0</td>\n",
       "      <td>12.0</td>\n",
       "      <td>12.0</td>\n",
       "      <td>...</td>\n",
       "      <td>9.0</td>\n",
       "      <td>9.0</td>\n",
       "      <td>9.0</td>\n",
       "      <td>8.0</td>\n",
       "      <td>9.0</td>\n",
       "      <td>NaN</td>\n",
       "      <td>8.0</td>\n",
       "      <td>8.0</td>\n",
       "      <td>7.0</td>\n",
       "      <td>False</td>\n",
       "    </tr>\n",
       "    <tr>\n",
       "      <th>UAE Tour</th>\n",
       "      <td>NaN</td>\n",
       "      <td>NaN</td>\n",
       "      <td>NaN</td>\n",
       "      <td>NaN</td>\n",
       "      <td>NaN</td>\n",
       "      <td>NaN</td>\n",
       "      <td>NaN</td>\n",
       "      <td>NaN</td>\n",
       "      <td>NaN</td>\n",
       "      <td>NaN</td>\n",
       "      <td>...</td>\n",
       "      <td>NaN</td>\n",
       "      <td>NaN</td>\n",
       "      <td>NaN</td>\n",
       "      <td>NaN</td>\n",
       "      <td>6.0</td>\n",
       "      <td>5.0</td>\n",
       "      <td>7.0</td>\n",
       "      <td>7.0</td>\n",
       "      <td>6.0</td>\n",
       "      <td>False</td>\n",
       "    </tr>\n",
       "    <tr>\n",
       "      <th>Volta Ciclista a Catalunya</th>\n",
       "      <td>10.0</td>\n",
       "      <td>NaN</td>\n",
       "      <td>NaN</td>\n",
       "      <td>NaN</td>\n",
       "      <td>NaN</td>\n",
       "      <td>NaN</td>\n",
       "      <td>NaN</td>\n",
       "      <td>10.0</td>\n",
       "      <td>NaN</td>\n",
       "      <td>NaN</td>\n",
       "      <td>...</td>\n",
       "      <td>7.0</td>\n",
       "      <td>7.0</td>\n",
       "      <td>6.0</td>\n",
       "      <td>7.0</td>\n",
       "      <td>7.0</td>\n",
       "      <td>NaN</td>\n",
       "      <td>7.0</td>\n",
       "      <td>7.0</td>\n",
       "      <td>7.0</td>\n",
       "      <td>False</td>\n",
       "    </tr>\n",
       "    <tr>\n",
       "      <th>Vuelta a Espana</th>\n",
       "      <td>NaN</td>\n",
       "      <td>NaN</td>\n",
       "      <td>NaN</td>\n",
       "      <td>NaN</td>\n",
       "      <td>NaN</td>\n",
       "      <td>NaN</td>\n",
       "      <td>NaN</td>\n",
       "      <td>NaN</td>\n",
       "      <td>NaN</td>\n",
       "      <td>NaN</td>\n",
       "      <td>...</td>\n",
       "      <td>20.0</td>\n",
       "      <td>20.0</td>\n",
       "      <td>20.0</td>\n",
       "      <td>21.0</td>\n",
       "      <td>20.0</td>\n",
       "      <td>18.0</td>\n",
       "      <td>21.0</td>\n",
       "      <td>20.0</td>\n",
       "      <td>NaN</td>\n",
       "      <td>False</td>\n",
       "    </tr>\n",
       "    <tr>\n",
       "      <th>Vuelta al Pais Vasco</th>\n",
       "      <td>NaN</td>\n",
       "      <td>NaN</td>\n",
       "      <td>NaN</td>\n",
       "      <td>NaN</td>\n",
       "      <td>NaN</td>\n",
       "      <td>NaN</td>\n",
       "      <td>NaN</td>\n",
       "      <td>NaN</td>\n",
       "      <td>NaN</td>\n",
       "      <td>NaN</td>\n",
       "      <td>...</td>\n",
       "      <td>6.0</td>\n",
       "      <td>6.0</td>\n",
       "      <td>6.0</td>\n",
       "      <td>NaN</td>\n",
       "      <td>NaN</td>\n",
       "      <td>NaN</td>\n",
       "      <td>NaN</td>\n",
       "      <td>NaN</td>\n",
       "      <td>NaN</td>\n",
       "      <td>False</td>\n",
       "    </tr>\n",
       "    <tr>\n",
       "      <th>World Championships - Road Race</th>\n",
       "      <td>1.0</td>\n",
       "      <td>1.0</td>\n",
       "      <td>1.0</td>\n",
       "      <td>1.0</td>\n",
       "      <td>1.0</td>\n",
       "      <td>1.0</td>\n",
       "      <td>1.0</td>\n",
       "      <td>1.0</td>\n",
       "      <td>1.0</td>\n",
       "      <td>1.0</td>\n",
       "      <td>...</td>\n",
       "      <td>1.0</td>\n",
       "      <td>1.0</td>\n",
       "      <td>1.0</td>\n",
       "      <td>1.0</td>\n",
       "      <td>1.0</td>\n",
       "      <td>1.0</td>\n",
       "      <td>1.0</td>\n",
       "      <td>1.0</td>\n",
       "      <td>NaN</td>\n",
       "      <td>True</td>\n",
       "    </tr>\n",
       "  </tbody>\n",
       "</table>\n",
       "<p>28 rows × 55 columns</p>\n",
       "</div>"
      ],
      "text/plain": [
       "year                             1970  1971  1972  1973  1974  1975  1976  \\\n",
       "name                                                                        \n",
       "Amstel Gold Race                  1.0   1.0   1.0   1.0   1.0   1.0   1.0   \n",
       "Clasica San Sebastian             NaN   NaN   NaN   NaN   NaN   NaN   NaN   \n",
       "Criterium du Dauphine             2.0   NaN   NaN   NaN   NaN   9.0   NaN   \n",
       "Dwars door Vlaanderen             1.0   NaN   NaN   NaN   NaN   NaN   1.0   \n",
       "E3 Saxo Bank Classic              1.0   1.0   1.0   1.0   1.0   1.0   1.0   \n",
       "Giro d'Italia                     NaN   NaN   NaN   NaN   NaN   NaN   NaN   \n",
       "Grand Prix Cycliste de Montreal   NaN   NaN   NaN   NaN   NaN   NaN   NaN   \n",
       "Grand Prix Cycliste de Quebec     NaN   NaN   NaN   NaN   NaN   NaN   NaN   \n",
       "Il Lombardia                      1.0   1.0   1.0   1.0   1.0   1.0   1.0   \n",
       "Itzulia Basque Country            NaN   NaN   NaN   NaN   NaN   NaN   NaN   \n",
       "La Fleche Wallonne                1.0   1.0   1.0   1.0   1.0   1.0   1.0   \n",
       "Liege-Bastogne-Liege              1.0   1.0   1.0   1.0   1.0   1.0   1.0   \n",
       "Milano-Sanremo                    NaN   NaN   NaN   NaN   NaN   NaN   NaN   \n",
       "O Gran Camino                     NaN   NaN   NaN   NaN   NaN   NaN   NaN   \n",
       "Omloop Nieuwsblad                 1.0   1.0   1.0   1.0   1.0   1.0   1.0   \n",
       "Paris - Nice                     10.0   NaN   9.0   NaN   NaN  10.0  10.0   \n",
       "Paris-Roubaix                     1.0   1.0   1.0   1.0   1.0   1.0   1.0   \n",
       "Ronde van Vlaanderen              1.0   1.0   1.0   1.0   1.0   1.0   1.0   \n",
       "Strade Bianche                    NaN   NaN   NaN   NaN   NaN   NaN   NaN   \n",
       "Tirreno-Adriatico                 1.0   NaN   NaN   6.0   NaN   NaN   NaN   \n",
       "Tour de France                    NaN   NaN   NaN   NaN   NaN   NaN   NaN   \n",
       "Tour de Romandie                  NaN   NaN   NaN   6.0   NaN   3.0   NaN   \n",
       "Tour de Suisse                   10.0  10.0   4.0   NaN  12.0  11.0  12.0   \n",
       "UAE Tour                          NaN   NaN   NaN   NaN   NaN   NaN   NaN   \n",
       "Volta Ciclista a Catalunya       10.0   NaN   NaN   NaN   NaN   NaN   NaN   \n",
       "Vuelta a Espana                   NaN   NaN   NaN   NaN   NaN   NaN   NaN   \n",
       "Vuelta al Pais Vasco              NaN   NaN   NaN   NaN   NaN   NaN   NaN   \n",
       "World Championships - Road Race   1.0   1.0   1.0   1.0   1.0   1.0   1.0   \n",
       "\n",
       "year                             1977  1978  1979  ...  2015  2016  2017  \\\n",
       "name                                               ...                     \n",
       "Amstel Gold Race                  1.0   1.0   1.0  ...   1.0   1.0   1.0   \n",
       "Clasica San Sebastian             NaN   NaN   NaN  ...   1.0   1.0   1.0   \n",
       "Criterium du Dauphine            10.0   NaN   1.0  ...   7.0   8.0   8.0   \n",
       "Dwars door Vlaanderen             NaN   1.0   1.0  ...   1.0   1.0   1.0   \n",
       "E3 Saxo Bank Classic              1.0   1.0   1.0  ...   1.0   1.0   1.0   \n",
       "Giro d'Italia                     NaN   NaN   NaN  ...  20.0  21.0  21.0   \n",
       "Grand Prix Cycliste de Montreal   NaN   NaN   NaN  ...   1.0   1.0   1.0   \n",
       "Grand Prix Cycliste de Quebec     NaN   NaN   NaN  ...   1.0   1.0   1.0   \n",
       "Il Lombardia                      1.0   1.0   1.0  ...   1.0   1.0   1.0   \n",
       "Itzulia Basque Country            NaN   NaN   NaN  ...   NaN   NaN   NaN   \n",
       "La Fleche Wallonne                1.0   1.0   1.0  ...   1.0   1.0   1.0   \n",
       "Liege-Bastogne-Liege              1.0   1.0   1.0  ...   1.0   1.0   1.0   \n",
       "Milano-Sanremo                    NaN   NaN   NaN  ...   1.0   1.0   1.0   \n",
       "O Gran Camino                     NaN   NaN   NaN  ...   NaN   NaN   NaN   \n",
       "Omloop Nieuwsblad                 1.0   1.0   1.0  ...   1.0   1.0   1.0   \n",
       "Paris - Nice                      NaN   NaN   NaN  ...   8.0   7.0   8.0   \n",
       "Paris-Roubaix                     1.0   1.0   1.0  ...   1.0   1.0   1.0   \n",
       "Ronde van Vlaanderen              1.0   1.0   1.0  ...   1.0   1.0   1.0   \n",
       "Strade Bianche                    NaN   NaN   NaN  ...   1.0   1.0   1.0   \n",
       "Tirreno-Adriatico                 NaN   1.0   1.0  ...   7.0   5.0   6.0   \n",
       "Tour de France                    NaN  23.0  23.0  ...  20.0  21.0  21.0   \n",
       "Tour de Romandie                  3.0   NaN   NaN  ...   5.0   6.0   6.0   \n",
       "Tour de Suisse                   12.0  12.0  12.0  ...   9.0   9.0   9.0   \n",
       "UAE Tour                          NaN   NaN   NaN  ...   NaN   NaN   NaN   \n",
       "Volta Ciclista a Catalunya       10.0   NaN   NaN  ...   7.0   7.0   6.0   \n",
       "Vuelta a Espana                   NaN   NaN   NaN  ...  20.0  20.0  20.0   \n",
       "Vuelta al Pais Vasco              NaN   NaN   NaN  ...   6.0   6.0   6.0   \n",
       "World Championships - Road Race   1.0   1.0   1.0  ...   1.0   1.0   1.0   \n",
       "\n",
       "year                             2018  2019  2020  2021  2022  2023  \\\n",
       "name                                                                  \n",
       "Amstel Gold Race                  1.0   1.0   NaN   1.0   1.0   1.0   \n",
       "Clasica San Sebastian             1.0   1.0   NaN   1.0   1.0   1.0   \n",
       "Criterium du Dauphine             7.0   8.0   5.0   8.0   8.0   8.0   \n",
       "Dwars door Vlaanderen             1.0   1.0   NaN   1.0   1.0   1.0   \n",
       "E3 Saxo Bank Classic              1.0   1.0   NaN   1.0   1.0   1.0   \n",
       "Giro d'Italia                    21.0  21.0  21.0  21.0  21.0  21.0   \n",
       "Grand Prix Cycliste de Montreal   1.0   1.0   NaN   NaN   1.0   NaN   \n",
       "Grand Prix Cycliste de Quebec     1.0   1.0   NaN   NaN   1.0   NaN   \n",
       "Il Lombardia                      1.0   1.0   1.0   1.0   1.0   NaN   \n",
       "Itzulia Basque Country            6.0   6.0   NaN   6.0   6.0   6.0   \n",
       "La Fleche Wallonne                1.0   1.0   1.0   1.0   1.0   1.0   \n",
       "Liege-Bastogne-Liege              1.0   1.0   1.0   1.0   1.0   1.0   \n",
       "Milano-Sanremo                    1.0   1.0   1.0   1.0   1.0   1.0   \n",
       "O Gran Camino                     NaN   NaN   NaN   NaN   4.0   3.0   \n",
       "Omloop Nieuwsblad                 1.0   1.0   1.0   1.0   1.0   1.0   \n",
       "Paris - Nice                      8.0   8.0   7.0   8.0   8.0   6.0   \n",
       "Paris-Roubaix                     1.0   1.0   NaN   1.0   1.0   1.0   \n",
       "Ronde van Vlaanderen              1.0   1.0   1.0   1.0   1.0   1.0   \n",
       "Strade Bianche                    1.0   1.0   1.0   1.0   1.0   1.0   \n",
       "Tirreno-Adriatico                 6.0   6.0   8.0   7.0   7.0   7.0   \n",
       "Tour de France                   20.0  20.0   NaN  21.0  21.0  21.0   \n",
       "Tour de Romandie                  6.0   6.0   NaN   6.0   6.0   6.0   \n",
       "Tour de Suisse                    8.0   9.0   NaN   8.0   8.0   7.0   \n",
       "UAE Tour                          NaN   6.0   5.0   7.0   7.0   6.0   \n",
       "Volta Ciclista a Catalunya        7.0   7.0   NaN   7.0   7.0   7.0   \n",
       "Vuelta a Espana                  21.0  20.0  18.0  21.0  20.0   NaN   \n",
       "Vuelta al Pais Vasco              NaN   NaN   NaN   NaN   NaN   NaN   \n",
       "World Championships - Road Race   1.0   1.0   1.0   1.0   1.0   NaN   \n",
       "\n",
       "year                             same_stages_num  \n",
       "name                                              \n",
       "Amstel Gold Race                            True  \n",
       "Clasica San Sebastian                       True  \n",
       "Criterium du Dauphine                      False  \n",
       "Dwars door Vlaanderen                       True  \n",
       "E3 Saxo Bank Classic                        True  \n",
       "Giro d'Italia                              False  \n",
       "Grand Prix Cycliste de Montreal             True  \n",
       "Grand Prix Cycliste de Quebec               True  \n",
       "Il Lombardia                                True  \n",
       "Itzulia Basque Country                      True  \n",
       "La Fleche Wallonne                          True  \n",
       "Liege-Bastogne-Liege                        True  \n",
       "Milano-Sanremo                              True  \n",
       "O Gran Camino                              False  \n",
       "Omloop Nieuwsblad                           True  \n",
       "Paris - Nice                               False  \n",
       "Paris-Roubaix                               True  \n",
       "Ronde van Vlaanderen                        True  \n",
       "Strade Bianche                              True  \n",
       "Tirreno-Adriatico                          False  \n",
       "Tour de France                             False  \n",
       "Tour de Romandie                           False  \n",
       "Tour de Suisse                             False  \n",
       "UAE Tour                                   False  \n",
       "Volta Ciclista a Catalunya                 False  \n",
       "Vuelta a Espana                            False  \n",
       "Vuelta al Pais Vasco                       False  \n",
       "World Championships - Road Race             True  \n",
       "\n",
       "[28 rows x 55 columns]"
      ]
     },
     "execution_count": 28,
     "metadata": {},
     "output_type": "execute_result"
    }
   ],
   "source": [
    "result = tmp_df.groupby(['name', 'year'])['_url'].nunique().reset_index()\n",
    "pivot_result = result.pivot(index='name', columns='year', values='_url')\n",
    "pivot_result['same_stages_num'] = pivot_result.nunique(axis=1) == 1\n",
    "pivot_result"
   ]
  },
  {
   "cell_type": "markdown",
   "metadata": {},
   "source": [
    "Abbiamo verificato la variazione degli url negli anni, abbiamo scoperto che nel nostro dataset per la stessa competizione negli anni diversi presenta un numero diverso di stage, questo può essere causato da due fattori:\n",
    "* Il numero di stage è cambiato negli anni;\n",
    "* Il nostro dataset è incompleto.\n",
    "\n",
    "Verificando su internet abbiamo confermato i due fattori sopra citati"
   ]
  },
  {
   "cell_type": "markdown",
   "metadata": {},
   "source": [
    "### Position Attribute\n",
    "\n",
    "Attributo \"position\" rappresenta la posizione di un ciclista nella classifica di una determinata gara. Questo valore è rappresentato come un intero all'interno del dataset e abbiamo discusso se potesse essere rappresentato come categorico. Notando che per gare diverse però il numero delle posizioni totali e di conseguenza il loro valore relativo nella classifca sono differenti abbiamo preferito tenere questo valore in considerazione esclusivamente come un intero poiché altrimenti avremmo che il valore della stessa categoria avrebbe sfumatore di significato differenti in base alla competizione, fattore che ci è sembrato inopportuno per questa tipologia di dati"
   ]
  },
  {
   "cell_type": "markdown",
   "metadata": {},
   "source": [
    "### Is_foo Attributes\n",
    "\n",
    "Gli attributi \"is_cobbled\" e \"is_gravel\" (come già visto nel notebook races_possible_errors.ipynb) presentano un solo valore (False)e per questo non sono rilevanti in quanto non aggiungono informazioni utili alle nostre analisi. Abbiamo quindi eliminato le due colonne rinominando invece la colonna \"is_tarmac\" in \"mostly_tarmac\" integrando quindi l'opinione di un esperto esterno secondo cui il tipo di terreno \"tarmac\" sia sempre presente (almeno in parte) in tutti i tracciati con però alcuni di questi che presentano soprattutto questa tipologia di terreno.\n",
    "\n",
    "Abbiamo inoltre verificato che l'attributo \"mostly_tarmac\" presenta lo stesso valore all'interno di tutti gli stage di ogni gara (fissata un'edizione) e pertanto è un attributo che per noi non simboleggia il tipo di terreno del singolo stage quanto dell'intera gara"
   ]
  },
  {
   "cell_type": "code",
   "execution_count": 29,
   "metadata": {},
   "outputs": [],
   "source": [
    "dataset = dataset.drop(columns=['is_cobbled', 'is_gravel'])\n",
    "dataset = dataset.rename(columns={'is_tarmac': 'mostly_tarmac'})"
   ]
  },
  {
   "cell_type": "code",
   "execution_count": 30,
   "metadata": {},
   "outputs": [
    {
     "data": {
      "text/plain": [
       "0.0"
      ]
     },
     "execution_count": 30,
     "metadata": {},
     "output_type": "execute_result"
    }
   ],
   "source": [
    "tmp_df = tmp_df = pd.DataFrame({\n",
    "    'stage': dataset['_url'].str.split('/').str[-1],\n",
    "    'name': dataset['name'],\n",
    "    'year': dataset['date'].dt.year,\n",
    "    'mostly_tarmac': dataset['mostly_tarmac'],\n",
    "})\n",
    "\n",
    "n_tarmac = tmp_df.groupby(['name', 'year'])['mostly_tarmac'].nunique()\n",
    "\n",
    "n_tarmac_gt1 = n_tarmac[n_tarmac > 1]\n",
    "round(len(n_tarmac_gt1) / len(n_tarmac) * 100, 2)"
   ]
  },
  {
   "cell_type": "markdown",
   "metadata": {},
   "source": [
    "### Cyclists and Cyclists Age Attributes\n",
    "\n",
    "Poiché questi dati sono streattamente correlati con quelli presenti nel dataset \"cyclists.csv\" riteniamo opportuno poter fare analisi incrociate su gli attributi di entrambe le sorgenti, per questo iniziamo questa sezione con la join dei due dataset. Per comodità abbiamo rinominato alcuni attributi elencati di seguito:\n",
    "* race_url: url della competizione (_url in races.csv);\n",
    "* race_name: nome convenzionale della competizione (name in races.csv);\n",
    "* cyclist_url: url del ciclista (_url in cyclists.csv e cyclist in races.csv);\n",
    "* cyclist_name: nome del ciclista (name in cyclists.csv).\n",
    "\n",
    "E' importante evidenziare che i ciclisti registrati nel dataset cyclist.csv ma assenti nel dataset races.csv (guarda notebook \"cyclist_understanding\") sono stati automaticamente ignorati nel corso dell'operazione di \"inner join\" e non hanno di conseguenza introdotto valori NaN negli attributi del dataset generato. "
   ]
  },
  {
   "cell_type": "code",
   "execution_count": 31,
   "metadata": {},
   "outputs": [],
   "source": [
    "dataset['cyclist_age'] = dataset[dataset['cyclist_age'].notnull()]['cyclist_age'].astype(int)\n",
    "\n",
    "join_df = dataset.merge(cyclists, how='inner', left_on='cyclist', right_on='_url')\n",
    "join_df = join_df.drop(columns=['_url_y'])\n",
    "join_df = join_df.rename(columns={'name_x': 'race_name', 'name_y': 'cyclist_name', 'cyclist':'cyclist_url', '_url_x':'race_url'})\n",
    "\n",
    "join_df.to_csv('../data/complete_dataset.csv', index=False)"
   ]
  },
  {
   "cell_type": "code",
   "execution_count": 81,
   "metadata": {},
   "outputs": [
    {
     "data": {
      "text/plain": [
       "123"
      ]
     },
     "execution_count": 81,
     "metadata": {},
     "output_type": "execute_result"
    }
   ],
   "source": [
    "url_cyclist_count = join_df.groupby('race_url')['cyclist_url'].value_counts()\n",
    "duplicated_cyclists = url_cyclist_count[url_cyclist_count > 1].reset_index(name='count')\n",
    "len(duplicated_cyclists)"
   ]
  },
  {
   "cell_type": "code",
   "execution_count": 100,
   "metadata": {},
   "outputs": [
    {
     "data": {
      "text/plain": [
       "race_url                       cyclist_url              \n",
       "dauphine/2005/stage-3          ivan-gutierrez               2\n",
       "dauphine/2005/stage-4          ivan-gutierrez               2\n",
       "dauphine/2005/stage-6          ivan-gutierrez               2\n",
       "dauphine/2005/stage-7          ivan-gutierrez               2\n",
       "dauphine/2012/stage-3          david-moncoutie              2\n",
       "                                                           ..\n",
       "vuelta-a-espana/1996/stage-12  inaki-ayarzaguena-urkidi     2\n",
       "vuelta-a-espana/1996/stage-3   igor-gonzalez-de-galdeano    2\n",
       "vuelta-a-espana/1997/stage-6   eleuterio-anguita            2\n",
       "vuelta-a-espana/1997/stage-7   eleuterio-anguita            2\n",
       "vuelta-a-espana/1997/stage-9   eleuterio-anguita            2\n",
       "Name: delta, Length: 78, dtype: int64"
      ]
     },
     "execution_count": 100,
     "metadata": {},
     "output_type": "execute_result"
    }
   ],
   "source": [
    "df = join_df[join_df['race_url'].isin(duplicated_cyclists['race_url'].values) & join_df['cyclist_url'].isin(duplicated_cyclists['cyclist_url'].values)]\n",
    "n_delta = df.groupby(by=['race_url', 'cyclist_url'])['delta'].nunique()\n",
    "n_delta = n_delta[n_delta > 1]\n",
    "n_delta"
   ]
  },
  {
   "cell_type": "markdown",
   "metadata": {},
   "source": [
    "Calcoliamo un'età presunta attraverso la differenza tra l'anno in cui si svolge una determinata corsa e l'anno di nascità del ciclista che identifica il record. Questa età presunta potrà essere solo uguale o di 1 anno superiore all'età riportata nell'attributo \"cyclist_age\" del dataset originale. Questo confronto sarà essenziale per determinare la coerenza tra i dati"
   ]
  },
  {
   "cell_type": "code",
   "execution_count": 23,
   "metadata": {},
   "outputs": [],
   "source": [
    "def compute_presumed_age(row):\n",
    "    return row['date'].year - row['birth_year']\n",
    "\n",
    "tmp = join_df[join_df['date'].notnull() & join_df['birth_year'].notnull()].apply(compute_presumed_age, axis=1)\n",
    "join_df.loc[tmp.index, 'age_presumed'] = tmp.values"
   ]
  },
  {
   "cell_type": "code",
   "execution_count": 24,
   "metadata": {},
   "outputs": [],
   "source": [
    "join_df.loc[tmp.index, 'age_presumed'] = tmp.values"
   ]
  },
  {
   "cell_type": "code",
   "execution_count": 25,
   "metadata": {},
   "outputs": [],
   "source": [
    "age_difference = join_df[join_df['cyclist_age'].notnull()]['cyclist_age'] - join_df[join_df['age_presumed'].notnull()]['age_presumed']"
   ]
  },
  {
   "cell_type": "markdown",
   "metadata": {},
   "source": [
    "Il successivo confronto ha dimostrato che tutte le età presenti nel dataset e gli anni di nascita risultano coerenti tra loro"
   ]
  },
  {
   "cell_type": "code",
   "execution_count": 26,
   "metadata": {},
   "outputs": [
    {
     "data": {
      "text/plain": [
       "False"
      ]
     },
     "execution_count": 26,
     "metadata": {},
     "output_type": "execute_result"
    }
   ],
   "source": [
    "all(age_difference > 1) or all(age_difference < 0)"
   ]
  },
  {
   "cell_type": "markdown",
   "metadata": {},
   "source": [
    "Now, we check if there we can take some age information from the dataset"
   ]
  },
  {
   "cell_type": "code",
   "execution_count": null,
   "metadata": {},
   "outputs": [
    {
     "name": "stdout",
     "output_type": "stream",
     "text": [
      "Number of cyclists with age info in cyclists dataset: 0\n"
     ]
    }
   ],
   "source": [
    "# Check if there are any 'cyclist_age' null values, where we have the year of birth in the cyclists dataset\n",
    "invalid_rows = join_df[join_df['cyclist_age'].isnull() & join_df['birth_year'].notnull()]\n",
    "\n",
    "print('Number of cyclists with age info in cyclists dataset: ' + str(len(invalid_rows)))"
   ]
  },
  {
   "cell_type": "code",
   "execution_count": null,
   "metadata": {},
   "outputs": [
    {
     "name": "stdout",
     "output_type": "stream",
     "text": [
      "Number of cyclists with partially missing age: 0\n"
     ]
    }
   ],
   "source": [
    "# TODO check url del cyclista\n",
    "# Check for cyclists whose age is partially missing (some values present, some missing)\n",
    "partial_missing_age = join_df.groupby('cyclist_url')['cyclist_age'].apply(lambda x: x.isnull().any() and x.notnull().any())\n",
    "\n",
    "# Print the number of cyclists with partial missing age data\n",
    "print('Number of cyclists with partially missing age: ' + str(len(partial_missing_age[partial_missing_age])))\n"
   ]
  },
  {
   "cell_type": "markdown",
   "metadata": {},
   "source": [
    "### Cyclist Team Attribute\n",
    "\n",
    "Intuitivamente supponiamo che il team ciclistico fosse un attributo di tipo categorico in quanto descrive una classe di ciclisti appartenente alla stessa squadra. "
   ]
  },
  {
   "cell_type": "code",
   "execution_count": 27,
   "metadata": {},
   "outputs": [
    {
     "data": {
      "text/plain": [
       "cyclist_team\n",
       "liberty-seguros-wurth-team-2005     8869\n",
       "roompot-nederlandse-loterij-2018    8773\n",
       "chazal-vetta-mbk-1993               8094\n",
       "kondor-1979                         7895\n",
       "kazakhstan-2019                     7701\n",
       "                                    ... \n",
       "atala-ofmega-1988                   1259\n",
       "finland-2016                        1236\n",
       "south-africa-1993                   1174\n",
       "denmark-2003                         216\n",
       "quickstep-innergetic-2009              3\n",
       "Name: count, Length: 91, dtype: int64"
      ]
     },
     "execution_count": 27,
     "metadata": {},
     "output_type": "execute_result"
    }
   ],
   "source": [
    "join_df[join_df['cyclist_team'].notnull()]['cyclist_team'].value_counts()"
   ]
  },
  {
   "cell_type": "markdown",
   "metadata": {},
   "source": [
    "Per controllare la coerenza del dataset vogliamo assicurarci del fatto che all'interno della stessa gara il team di ogni ciclista rimanga invariato nei diversi step che compongono questa stessa competizione. Per ogni tupla (cyclist, name, race_year) vogliamo assicurarci che esista un unico valore per l'attributo cyclist_team"
   ]
  },
  {
   "cell_type": "code",
   "execution_count": 28,
   "metadata": {},
   "outputs": [
    {
     "name": "stdout",
     "output_type": "stream",
     "text": [
      "All cyclists have always the same team in the same edition of the race\n"
     ]
    }
   ],
   "source": [
    "tmp_df = join_df\n",
    "tmp_df['race_year'] = tmp_df['date'].dt.year\n",
    "tmp_df = tmp_df.drop(columns=['date'])\n",
    "val = tmp_df.groupby(['cyclist_url', 'race_name', 'race_year']).nunique()['cyclist_team'].values\n",
    "\n",
    "if len(val[val > 1]) == 0:\n",
    "    print(\"All cyclists have always the same team in the same edition of the race\")\n",
    "else:\n",
    "    print(\"INCOERENCE: Some cyclists have different teams in the same edition of the race\")"
   ]
  },
  {
   "cell_type": "markdown",
   "metadata": {},
   "source": [
    "### Delta Attribute\n",
    "\n",
    "Abbiamo notato principalmente due particolarità nei valori di questo attributo:\n",
    "* Valori negativi: una piccola percentuale dei valori delta risulta negativa, valore che dovrebbe essere fuori dominio secondo la nostra comprensione e che potrebbe rappresentare o un errore o una situazione rara e particolare (ad esempio l'abbandono della competizione da parte di un ciclista infortunato o altre occorrenze simili);\n",
    "* Cluster di valori uguali per ciclisti arrivati in posizioni successive: ci saremmo aspettati di trovare valori diversi di delta per ogni ciclista all'interno della stessa competizione, mentre invece interi gruppi di ciclisti appaiono condividere lo stesso delta. Attribuiamo questa peculiarità col fatto che i ciclisti taglino il traguardo in gruppi e il delta misuri più che altro la differenza tra i tempi di arrivo tra questi gruppi.\n",
    "\n",
    "Abbiamo individuato che 346 stage presentano delta \"sospetti\", nel senso che per posizioni migliori nella classifica la distanza temporale dello stesso ciclista rispetto al primo classificato risulta però peggiore rispetto a quella dei ciclisti arrivati dopo di lui. Questa peculiarità potrebbe non rappresentare un errore teorico vito il fatto che diverse competizioni ciclistiche tengono in conto altri fattori (tra cui squalifiche postume al termine della gara ed eventuali scorrimenti) e non si limitano al delta come determinante univoco della posizione finale nella classifica (da dimostrare)"
   ]
  },
  {
   "cell_type": "code",
   "execution_count": 29,
   "metadata": {},
   "outputs": [
    {
     "data": {
      "text/plain": [
       "86"
      ]
     },
     "execution_count": 29,
     "metadata": {},
     "output_type": "execute_result"
    }
   ],
   "source": [
    "len(join_df[join_df['delta'] < 0])"
   ]
  },
  {
   "cell_type": "code",
   "execution_count": 120,
   "metadata": {},
   "outputs": [
    {
     "name": "stderr",
     "output_type": "stream",
     "text": [
      "/tmp/ipykernel_6458/2572252260.py:2: DeprecationWarning: DataFrameGroupBy.apply operated on the grouping columns. This behavior is deprecated, and in a future version of pandas the grouping columns will be excluded from the operation. Either pass `include_groups=False` to exclude the groupings or explicitly select the grouping columns after groupby to silence this warning.\n",
      "  sorted_groups = join_df.groupby('race_url').apply(lambda x: x.sort_values('position')).reset_index(drop=True)\n"
     ]
    },
    {
     "data": {
      "text/plain": [
       "346"
      ]
     },
     "execution_count": 120,
     "metadata": {},
     "output_type": "execute_result"
    }
   ],
   "source": [
    "#invalid_urls = dataset.groupby('_url').apply(lambda x: (x.shift() > x).any())\n",
    "sorted_groups = join_df.groupby('race_url').apply(lambda x: x.sort_values('position')).reset_index(drop=True)\n",
    "invalid_urls = sorted_groups.groupby('race_url')['delta'].apply(lambda x: (x.shift() > x).any())\n",
    "len(invalid_urls[invalid_urls]) #TODO: trova un modo di fare la stessa cosa senza il warning"
   ]
  },
  {
   "cell_type": "code",
   "execution_count": 30,
   "metadata": {},
   "outputs": [
    {
     "name": "stdout",
     "output_type": "stream",
     "text": [
      "Number of duplicates: 0\n"
     ]
    }
   ],
   "source": [
    "print(f'Number of duplicates: {len(join_df)-len(join_df.drop_duplicates())}')"
   ]
  },
  {
   "cell_type": "markdown",
   "metadata": {},
   "source": [
    "## Data-Balance Analysis \n",
    "\n",
    "In questa sezione studiamo il bilanciamento e la rappresentazione dei vari attributi del dataset"
   ]
  },
  {
   "cell_type": "code",
   "execution_count": 32,
   "metadata": {},
   "outputs": [
    {
     "name": "stdout",
     "output_type": "stream",
     "text": [
      "<class 'pandas.core.frame.DataFrame'>\n",
      "RangeIndex: 589865 entries, 0 to 589864\n",
      "Data columns (total 20 columns):\n",
      " #   Column             Non-Null Count   Dtype         \n",
      "---  ------             --------------   -----         \n",
      " 0   race_url           589865 non-null  object        \n",
      " 1   race_name          589865 non-null  object        \n",
      " 2   points             589388 non-null  float64       \n",
      " 3   uci_points         251086 non-null  float64       \n",
      " 4   length             589865 non-null  float64       \n",
      " 5   climb_total        442820 non-null  float64       \n",
      " 6   profile            441671 non-null  category      \n",
      " 7   startlist_quality  589865 non-null  int64         \n",
      " 8   date               589865 non-null  datetime64[ns]\n",
      " 9   position           589865 non-null  int64         \n",
      " 10  cyclist_url        589865 non-null  object        \n",
      " 11  cyclist_age        589752 non-null  float64       \n",
      " 12  mostly_tarmac      589865 non-null  bool          \n",
      " 13  cyclist_team       430704 non-null  object        \n",
      " 14  delta              589865 non-null  float64       \n",
      " 15  cyclist_name       589865 non-null  object        \n",
      " 16  birth_year         589752 non-null  float64       \n",
      " 17  weight             478431 non-null  float64       \n",
      " 18  height             479746 non-null  float64       \n",
      " 19  nationality        589813 non-null  object        \n",
      "dtypes: bool(1), category(1), datetime64[ns](1), float64(9), int64(2), object(6)\n",
      "memory usage: 82.1+ MB\n"
     ]
    }
   ],
   "source": [
    "join_df.info()"
   ]
  },
  {
   "cell_type": "code",
   "execution_count": 33,
   "metadata": {},
   "outputs": [
    {
     "data": {
      "text/plain": [
       "<seaborn.axisgrid.FacetGrid at 0x7f781039d030>"
      ]
     },
     "execution_count": 33,
     "metadata": {},
     "output_type": "execute_result"
    },
    {
     "data": {
      "image/png": "[encoded data removed]",
      "text/plain": [
       "<Figure size 1200x600 with 1 Axes>"
      ]
     },
     "metadata": {},
     "output_type": "display_data"
    }
   ],
   "source": [
    "n_bins = math.ceil(math.log2(len(dataset)) + 1)\n",
    "years = pd.to_datetime(dataset['date'], format='%Y-%m-%d').dt.year\n",
    "\n",
    "sb.displot(join_df, \n",
    "                x=years, \n",
    "                kind=\"hist\",\n",
    "                row_order=\"desc\",\n",
    "                bins=len(years.unique()),\n",
    "                height=6,\n",
    "                aspect=2)"
   ]
  },
  {
   "cell_type": "markdown",
   "metadata": {},
   "source": [
    "Analizzando la distribuzione degli anni a cui risalgono i contenuti dei vari record presenti nel dataset \"races.csv\" emerge come i dati più presenti siano quelli successivi agli anni 95 circa. Questo potrebbe essere dovuto al fatto che il ciclismo si sia affermato come sport (con un incremento notevole di importanza) solo in seguito a questa data (da controllare) o dal fatto che la sorgente di questi dati sia diventata un repository di informazioni rilevante soltanto a partire da quell'epoca.\n",
    "\n",
    "Un'altra caratteristica rilevante riguarda la rappresentazione della classe di date adiacenti al 2020, anno in cui vediamo una netta assenza di informazioni rispetto agli anni circostanti. La spiegazione di questo fenomeno è plausibilmente da ritrovare nella pandemia di Covid-19 che in quel periodo storico ha limitato drasticamente la possibilità di avviare e partecipare a eventi pubblici e sportivi come le gare ciclistiche"
   ]
  },
  {
   "cell_type": "code",
   "execution_count": 34,
   "metadata": {},
   "outputs": [],
   "source": [
    "tmp_df = pd.DataFrame({\n",
    "    'race_name': join_df['race_name'],\n",
    "    'cyclist_name': join_df['cyclist_name'],\n",
    "    'year': years\n",
    "})\n",
    "\n",
    "tmp_df = tmp_df.drop_duplicates()"
   ]
  },
  {
   "cell_type": "code",
   "execution_count": 35,
   "metadata": {},
   "outputs": [
    {
     "data": {
      "image/png": "[encoded data removed]",
      "text/plain": [
       "<Figure size 1200x600 with 1 Axes>"
      ]
     },
     "metadata": {},
     "output_type": "display_data"
    }
   ],
   "source": [
    "sb.displot(tmp_df, \n",
    "                x=\"race_name\", \n",
    "                kind=\"hist\",\n",
    "                row_order=\"desc\",\n",
    "                bins=len(join_df['race_name'].unique()),\n",
    "                stat='density',\n",
    "                height=6,\n",
    "                aspect=2) \n",
    "plt.xticks(rotation=90);"
   ]
  },
  {
   "cell_type": "markdown",
   "metadata": {},
   "source": [
    "Nel grafico sopra analizziamo la \"partecipazione alle gare\" secondo i dati del nostro dataset. Per ottenere questo valore il grafico a barre riporta la frequenza in termini di record contenuti nel dataset per ogni differente competizione, assicurandoci di non contare la partecipazione di ogni ciclista ad ogni stage della stessa competizione nel calcolo della frequenza (ogni ciclista viene contato 1 sola volta per ogni coppia competizione-anno). Poiché i record non rappresentano corse quanto ciclisti all'interno di una corsa, questa valutazione ci permette di estrarre la suddetta informazione. \n",
    "\n",
    "Studiando questa distribuzione è possibile notare che alcune competizioni come O Gran Camino, UAE Tour, Itzulia Basque Country sono meno rappresentate nel nostro dataset in termini di partecipazione (partecipazione <= 1%)"
   ]
  },
  {
   "cell_type": "code",
   "execution_count": 49,
   "metadata": {},
   "outputs": [],
   "source": [
    "tmp_df = pd.DataFrame({\n",
    "    'race_name': join_df['race_name'],\n",
    "    'year': years\n",
    "}).drop_duplicates()\n",
    "\n",
    "n_years_per_race = tmp_df.groupby('race_name')['year'].nunique()"
   ]
  },
  {
   "cell_type": "code",
   "execution_count": 45,
   "metadata": {},
   "outputs": [
    {
     "data": {
      "image/png": "[encoded data removed]",
      "text/plain": [
       "<Figure size 1200x600 with 1 Axes>"
      ]
     },
     "metadata": {},
     "output_type": "display_data"
    }
   ],
   "source": [
    "sb.displot(tmp_df, \n",
    "                x=\"race_name\", \n",
    "                kind=\"hist\",\n",
    "                row_order=\"desc\",\n",
    "                bins=len(join_df['race_name'].unique()),\n",
    "                height=6,\n",
    "                aspect=2) \n",
    "plt.xticks(rotation=90);"
   ]
  },
  {
   "cell_type": "markdown",
   "metadata": {},
   "source": [
    "Il plot qui sopra mostra la quantità di edizioni di ogni gara rinvenuta nel dataset. Possiamo notare come le gare \"meno partecipate\" (O Gran Camino, UAE Tour, Itzulia Basque Country) sono in realtà gare di cui abbiamo semplicemente poche tracce nel nostro dataset anche a livello di numero di edizioni registrate"
   ]
  },
  {
   "cell_type": "code",
   "execution_count": 60,
   "metadata": {},
   "outputs": [
    {
     "data": {
      "text/plain": [
       "<Axes: xlabel='race_name'>"
      ]
     },
     "execution_count": 60,
     "metadata": {},
     "output_type": "execute_result"
    },
    {
     "data": {
      "image/png": "[encoded data removed]",
      "text/plain": [
       "<Figure size 1000x500 with 1 Axes>"
      ]
     },
     "metadata": {},
     "output_type": "display_data"
    }
   ],
   "source": [
    "sum_race_url_per_years = join_df.groupby('race_name')['race_url'].nunique()\n",
    "\n",
    "mean_race_url = sum_race_url_per_years / n_years_per_race\n",
    "\n",
    "mean_race_url.plot(kind='bar', figsize=(10, 5))"
   ]
  },
  {
   "cell_type": "markdown",
   "metadata": {},
   "source": [
    "Il grafico qui sopra rappresenta il numero medio di stage al variare degli anni per ogni competizione presente nel nostro dataset. Possiamo notare come il fatto che una gara sia più o meno partecipata di un'altra non sembra determinare il numero degli stage di questa (almeno da un'analisi qualitativa). Un esempio di questo comportamento emerge dal confronto della competizion \"O Gran Camino\" con la competizione \"Milano-Sanremo\", la prima una delle più basse in termini di partecipazione e la seconda al contrario una delle più partecipate, quest'ultima risulta invece inferiore in temrini di numero di stage (1 stage al confronto con 3/4 a seconda dell'anno). \n",
    "\n",
    "Dal grafico emerge anche che la maggior parte (15 su 28) delle competizioni presenti un solo stage (almeno rispetto a quanto registrato nel nostro dataset)"
   ]
  },
  {
   "cell_type": "markdown",
   "metadata": {},
   "source": [
    "## Completeness Analysis\n",
    "### Analisi dei NaN values"
   ]
  },
  {
   "cell_type": "code",
   "execution_count": null,
   "metadata": {},
   "outputs": [],
   "source": [
    "dataset.isnull().sum()"
   ]
  },
  {
   "cell_type": "code",
   "execution_count": null,
   "metadata": {},
   "outputs": [],
   "source": [
    "percent_missing = dataset.isnull().sum() * 100 / len(dataset) # compute the percentage of missing values\n",
    "missing_value_df = pd.DataFrame({'column_name': dataset.columns,\n",
    "                                 'percent_missing': percent_missing})\n",
    "\n",
    "missing_value_df['percent_missing']"
   ]
  },
  {
   "cell_type": "code",
   "execution_count": null,
   "metadata": {},
   "outputs": [],
   "source": [
    "missing_birthyear = dataset[dataset['birth_year'].isnull()]['_url'].to_list()\n",
    "dataset[dataset['birth_year'].isnull()]"
   ]
  },
  {
   "cell_type": "markdown",
   "metadata": {},
   "source": [
    "## Imputation"
   ]
  },
  {
   "cell_type": "markdown",
   "metadata": {},
   "source": [
    "### Tentativo di imputazione manuale delle date di nascita mancanti sfruttando i dati del dataset 'races.csv'\n",
    "\n",
    "I ciclisti nel dataset 'cyclist.csv' hanno età NaN in ogni record del dataset 'races.csv'"
   ]
  },
  {
   "cell_type": "markdown",
   "metadata": {},
   "source": [
    "Abbiamo cercato di recuperare più dati possibile manualmente attraverso ricerce online supportate da confronti diretti con altri dati presenti nel dataset 'races.csv'\n",
    "\n",
    "Una volta identificato un ciclista con alta probabilità abbiamo fatto una imputazione manuale del valore ottenuto nella feature 'birth_year' corrispondente"
   ]
  },
  {
   "cell_type": "code",
   "execution_count": 31,
   "metadata": {},
   "outputs": [],
   "source": [
    "dataset.loc[dataset['_url'] == 'scott-davies', 'birth_year'] = 1995\n",
    "dataset.loc[dataset['_url'] == 'vladimir-malakov', 'birth_year'] = 1958\n",
    "dataset.loc[dataset['_url'] == 'antonio-zanini', 'birth_year'] = 1965\n",
    "dataset.loc[dataset['_url'] == 'nevens-guy', 'birth_year'] = 1962\n",
    "dataset.loc[dataset['_url'] == 'sergei-jermachenko', 'birth_year'] = 1956 "
   ]
  },
  {
   "cell_type": "markdown",
   "metadata": {},
   "source": [
    "Ragionamento simile fatto anche per la nazionalità. L'unica mancante apparteneva al ciclista Scott Davies che era già stato correttamente identificato nella fase precedente, grazie a cui abbiamo rivenuto anche questa informazione"
   ]
  },
  {
   "cell_type": "code",
   "execution_count": 32,
   "metadata": {},
   "outputs": [],
   "source": [
    "dataset.loc[dataset['_url'] == 'scott-davies', 'nationality'] = 'Great Britain'"
   ]
  },
  {
   "cell_type": "code",
   "execution_count": 33,
   "metadata": {},
   "outputs": [],
   "source": [
    "#TODO usare info età corse per correggere alla perfezione\n",
    "dataset['birth_year'] = dataset['birth_year'].fillna(dataset['birth_year'].mode()[0]) # substitue 8 remaining elements with mode"
   ]
  },
  {
   "cell_type": "code",
   "execution_count": null,
   "metadata": {},
   "outputs": [],
   "source": [
    "dataset.isnull().sum() # check if missing values are filled correctly"
   ]
  },
  {
   "cell_type": "markdown",
   "metadata": {},
   "source": [
    "### Imputation per altezza e peso\n",
    "\n",
    "La nostra ipotesi di partenza è che altezza peso e nazionalità siano correlati. Desidereremmo sfruttare questa informazione per eseguire una imputazione di vicinanza nei record incompleti. \n",
    "\n",
    "Per poter procedere con questa strategia è essenziale stabilire le reali correlazioni tra questi attributi (confermando o smentendo quelle attese o scoprendone di nuove)"
   ]
  },
  {
   "cell_type": "code",
   "execution_count": null,
   "metadata": {},
   "outputs": [],
   "source": [
    "dataset[dataset['height'].isnull() & dataset['weight'].isnull()]"
   ]
  },
  {
   "cell_type": "code",
   "execution_count": null,
   "metadata": {},
   "outputs": [],
   "source": [
    "plt.figure(figsize=(30, 10))\n",
    "sb.boxplot(x='nationality', y='height', data=dataset)\n",
    "plt.xticks(rotation=90);\n",
    "plt.show()"
   ]
  },
  {
   "cell_type": "code",
   "execution_count": null,
   "metadata": {},
   "outputs": [],
   "source": [
    "plt.figure(figsize=(30, 10))\n",
    "sb.boxplot(x='nationality', y='weight', data=dataset)\n",
    "plt.xticks(rotation=90);\n",
    "plt.show()"
   ]
  },
  {
   "cell_type": "code",
   "execution_count": null,
   "metadata": {},
   "outputs": [],
   "source": [
    "plt.figure(figsize=(30, 10))\n",
    "sb.scatterplot(x='height', y='weight', data=dataset, hue='nationality')\n",
    "plt.show()"
   ]
  },
  {
   "cell_type": "markdown",
   "metadata": {},
   "source": [
    "Dall'analisi qualitativa di questo boxplot emerge che distinguendo per nazionalità le distribuzioni probabilistiche degli attributi altezza e peso non siano particolarmente diversificate. Le poche differenze che possiamo notare (ad esempio Ecuador rispetto a Cina) non sono supportate da una sufficiente quantità di record (confronto tra 5 e 4 ciclisti).\n",
    "\n",
    "Il tipo di imputazione che abbiamo ipotizzato in precedenza non sarebbe quindi sufficientemente efficace e potrebbe anzi produrre bias \"peggiori\" rispetto ad altri tipi di imputazione più semplce (come quella statistica). Procederemmo quindi sostituendo le altezze e i pesi mancanti con un'estrazione di valori casuali dalla distribuzione globale degli attributi"
   ]
  },
  {
   "cell_type": "markdown",
   "metadata": {},
   "source": [
    "Obiettivo, sostituire i valori mantenendo la distribuzione"
   ]
  },
  {
   "cell_type": "code",
   "execution_count": 39,
   "metadata": {},
   "outputs": [],
   "source": [
    "N = len(dataset[dataset['height'].notnull()])\n",
    "bins = int(1 + 10/3 * math.log10(N))\n",
    "\n",
    "dataset['height_discretized'] = pd.cut(dataset['height'], bins=bins, labels=[i for i in range(1, bins+1)])"
   ]
  },
  {
   "cell_type": "code",
   "execution_count": null,
   "metadata": {},
   "outputs": [],
   "source": [
    "sb.displot(dataset, \n",
    "                x=\"height_discretized\", \n",
    "                kind=\"hist\",\n",
    "                row_order=\"desc\",\n",
    "                bins=len(dataset['height_discretized'].unique()))"
   ]
  },
  {
   "cell_type": "code",
   "execution_count": null,
   "metadata": {},
   "outputs": [],
   "source": [
    "dataset['height_discretized'].value_counts(normalize=True).sort_index()\n",
    "# probabilità di ogni classe di altezza"
   ]
  },
  {
   "cell_type": "code",
   "execution_count": 42,
   "metadata": {},
   "outputs": [],
   "source": [
    "probabilities = dataset['height_discretized'].value_counts(normalize=True).sort_index().to_list()\n",
    "classes = [i for i in range(1, bins+1)] # the values to be extracted\n",
    "random_height_discretized = random.choices(classes, weights=probabilities, k=len(dataset[dataset['height_discretized'].isnull()]))\n",
    "nan_indices = dataset[dataset['height_discretized'].isna()]['height_discretized'].index\n",
    "\n",
    "for idx, val in zip(nan_indices, random_height_discretized):\n",
    "    dataset.at[idx, 'height_discretized'] = val"
   ]
  },
  {
   "cell_type": "code",
   "execution_count": null,
   "metadata": {},
   "outputs": [],
   "source": [
    "dataset['height_discretized'].isnull().sum()"
   ]
  },
  {
   "cell_type": "code",
   "execution_count": null,
   "metadata": {},
   "outputs": [],
   "source": [
    "sb.displot(dataset, \n",
    "                x=\"height_discretized\", \n",
    "                kind=\"hist\",\n",
    "                row_order=\"desc\",\n",
    "                bins=len(dataset['height_discretized'].unique()))"
   ]
  },
  {
   "cell_type": "markdown",
   "metadata": {},
   "source": [
    "Dopo aver sostituito i valori NaN dell'attributo \"height_discretized\" controlliamo che la distribuzione rimanga pressochè simile a quella originale"
   ]
  },
  {
   "cell_type": "code",
   "execution_count": 45,
   "metadata": {},
   "outputs": [],
   "source": [
    "mean_heights = dataset[['height', 'height_discretized']].groupby(by='height_discretized', observed=True).mean()['height'] # compute the mean height for each heigt_discretized\n",
    "\n",
    "def return_mean_height(row):\n",
    "    return mean_heights[mean_heights.index == row['height_discretized']].iloc[0]\n",
    "\n",
    "height_to_substitue = dataset[dataset['height'].isnull() & dataset['weight'].isnull()].apply(return_mean_height, axis=1)\n",
    "dataset.loc[height_to_substitue.index, 'height'] = height_to_substitue.values"
   ]
  },
  {
   "cell_type": "code",
   "execution_count": null,
   "metadata": {},
   "outputs": [],
   "source": [
    "sb.displot(dataset, \n",
    "                x=\"height\", \n",
    "                kind=\"hist\",\n",
    "                row_order=\"desc\",\n",
    "                bins=n_bins)"
   ]
  },
  {
   "cell_type": "markdown",
   "metadata": {},
   "source": [
    "solito controllo della distribuzione per verificare che sia pressoché simile a quella originale"
   ]
  },
  {
   "cell_type": "code",
   "execution_count": 47,
   "metadata": {},
   "outputs": [],
   "source": [
    "imputer = KNNImputer(n_neighbors=6) #TODO: controllare bene se vada bene questo valore di n_neighbors\n",
    "\n",
    "imputed_values = imputer.fit_transform(dataset[['height', 'weight']])\n",
    "dataset[['height', 'weight']] = imputed_values"
   ]
  },
  {
   "cell_type": "code",
   "execution_count": null,
   "metadata": {},
   "outputs": [],
   "source": [
    "sb.displot(dataset, \n",
    "                x=\"weight\", \n",
    "                kind=\"hist\",\n",
    "                row_order=\"desc\",\n",
    "                bins=n_bins)"
   ]
  },
  {
   "cell_type": "markdown",
   "metadata": {},
   "source": [
    "per sostituire i valori NaN della feature \"weight\" abbiamo usato il KNNImputer, utilizzando un numero di vicini che permettesse di mantenere la distribuzione originale"
   ]
  }
 ],
 "metadata": {
  "kernelspec": {
   "display_name": "dm",
   "language": "python",
   "name": "python3"
  },
  "language_info": {
   "codemirror_mode": {
    "name": "ipython",
    "version": 3
   },
   "file_extension": ".py",
   "mimetype": "text/x-python",
   "name": "python",
   "nbconvert_exporter": "python",
   "pygments_lexer": "ipython3",
   "version": "3.10.12"
  }
 },
 "nbformat": 4,
 "nbformat_minor": 2
}

{
 "cells": [
  {
   "cell_type": "markdown",
   "metadata": {},
   "source": [
    "# K-Means Clustering\n",
    "\n",
    "### Data Mining Project 2024/25\n",
    "\n",
    "Authors: Nicola Emmolo, Simone Marzeddu, Jacopo Raffi"
   ]
  },
  {
   "cell_type": "code",
   "execution_count": null,
   "metadata": {},
   "outputs": [],
   "source": [
    "%load_ext autoreload\n",
    "%autoreload 2"
   ]
  },
  {
   "cell_type": "code",
   "execution_count": null,
   "metadata": {},
   "outputs": [],
   "source": [
    "import pandas as pd\n",
    "\n",
    "from sklearn.cluster import KMeans\n",
    "\n",
    "from sklearn.metrics import silhouette_score\n",
    "import matplotlib.pyplot as plt\n",
    "from scipy.spatial.distance import pdist\n",
    "from scipy.cluster.hierarchy import linkage, dendrogram\n",
    "from sklearn.preprocessing import StandardScaler\n",
    "\n",
    "import seaborn as sns\n",
    "import matplotlib.pyplot as plt\n",
    "from mpl_toolkits.mplot3d import Axes3D\n",
    "from sklearn.cluster import AgglomerativeClustering\n",
    "import numpy as np\n",
    "from scipy.cluster.hierarchy import fcluster"
   ]
  },
  {
   "cell_type": "code",
   "execution_count": null,
   "metadata": {},
   "outputs": [],
   "source": [
    "dataset = pd.read_csv('../data/complete_dataset_fe.csv', dtype={'cyclist_team': str})\n",
    "dataset['date'] = pd.to_datetime(dataset['date'], format='%Y-%m-%d')\n",
    "dataset.info()"
   ]
  },
  {
   "cell_type": "code",
   "execution_count": null,
   "metadata": {},
   "outputs": [],
   "source": [
    "# Select relevant columns for clustering\n",
    "columns_to_use = ['length', 'race_prestige', 'race_physical_effort']\n",
    "dataset = dataset[columns_to_use].drop_duplicates()"
   ]
  },
  {
   "cell_type": "code",
   "execution_count": null,
   "metadata": {},
   "outputs": [],
   "source": [
    "# Gestione dei valori mancanti\n",
    "data_for_clustering = dataset.dropna() #TODO: remove when we have imputed the missing values\n",
    "\n",
    "# Standardizzazione dei dati\n",
    "scaler = StandardScaler()\n",
    "data_scaled = scaler.fit_transform(data_for_clustering)"
   ]
  },
  {
   "cell_type": "code",
   "execution_count": null,
   "metadata": {},
   "outputs": [],
   "source": [
    "# Applicazione del K-Means\n",
    "n_clusters = 7  # Puoi modificare il numero di cluster\n",
    "kmeans = KMeans(n_clusters=n_clusters, n_init=10, max_iter=100, random_state=42)\n",
    "kmeans.fit(data_scaled)"
   ]
  },
  {
   "cell_type": "code",
   "execution_count": null,
   "metadata": {},
   "outputs": [],
   "source": [
    "# Etichette dei cluster e centroidi\n",
    "cluster_labels = kmeans.labels_\n",
    "centers = kmeans.cluster_centers_\n",
    "\n",
    "# Aggiunta delle etichette al dataset originale\n",
    "data_for_clustering['cluster'] = cluster_labels\n",
    "\n",
    "# Calcolo dei punteggi di valutazione\n",
    "sse = kmeans.inertia_  # Sum of Squared Errors\n",
    "silhouette_avg = silhouette_score(data_scaled, cluster_labels)  # Silhouette Score\n",
    "\n",
    "print(f\"SSE (Sum of Squared Errors): {sse}\")\n",
    "print(f\"Silhouette Score: {silhouette_avg}\")\n"
   ]
  },
  {
   "cell_type": "code",
   "execution_count": null,
   "metadata": {},
   "outputs": [],
   "source": [
    "# Visualizzazione con scatterplot (prendendo due dimensioni come esempio)\n",
    "sns.scatterplot(\n",
    "    data=data_for_clustering,\n",
    "    x=\"length\", y=\"race_prestige\", hue=\"cluster\", palette=\"tab10\"\n",
    ")\n",
    "plt.scatter(\n",
    "    scaler.inverse_transform(centers)[:, 0],\n",
    "    scaler.inverse_transform(centers)[:, 1],\n",
    "    s=200, c='red', marker='*', label='Centroids'\n",
    ")\n",
    "plt.title('Clustering Results')\n",
    "plt.legend()\n",
    "plt.show()\n"
   ]
  },
  {
   "cell_type": "code",
   "execution_count": null,
   "metadata": {},
   "outputs": [],
   "source": [
    "# Calcolo dell'SSE per diversi valori di K\n",
    "sse_list = []\n",
    "max_k = 10  # Puoi aumentare per provare più cluster\n",
    "for k in range(2, max_k + 1):\n",
    "    kmeans = KMeans(n_clusters=k, n_init=10, max_iter=100, random_state=42)\n",
    "    kmeans.fit(data_scaled)\n",
    "    sse_list.append(kmeans.inertia_)\n",
    "\n",
    "# Visualizzazione del metodo del gomito\n",
    "plt.plot(range(2, max_k + 1), sse_list, marker='o')\n",
    "plt.xlabel('Number of Clusters (K)')\n",
    "plt.ylabel('SSE')\n",
    "plt.title('Elbow Method')\n",
    "plt.show()\n"
   ]
  },
  {
   "cell_type": "code",
   "execution_count": null,
   "metadata": {},
   "outputs": [],
   "source": [
    "# Centroidi riportati alle scale originali\n",
    "centers_original = scaler.inverse_transform(centers)\n",
    "\n",
    "# Visualizzazione parallela dei centroidi\n",
    "plt.figure(figsize=(10, 6))\n",
    "for i in range(len(centers_original)):\n",
    "    plt.plot(centers_original[i], marker='o', label=f'Cluster {i}')\n",
    "plt.xticks(range(len(columns_to_use)), columns_to_use)\n",
    "plt.title('Cluster Centers')\n",
    "plt.legend()\n",
    "plt.show()\n"
   ]
  },
  {
   "cell_type": "code",
   "execution_count": null,
   "metadata": {},
   "outputs": [],
   "source": [
    "from math import pi\n",
    "\n",
    "N = len(columns_to_use)\n",
    "angles = [n / float(N) * 2 * pi for n in range(N)]\n",
    "angles += angles[:1]\n",
    "\n",
    "# Radar Chart per ogni cluster\n",
    "plt.figure(figsize=(10, 6))\n",
    "for i, center in enumerate(centers_original):\n",
    "    values = center.tolist()\n",
    "    values += values[:1]\n",
    "    ax = plt.subplot(111, polar=True)\n",
    "    ax.plot(angles, values, linewidth=1, linestyle='solid', label=f'Cluster {i}')\n",
    "    ax.fill(angles, values, alpha=0.1)\n",
    "\n",
    "plt.xticks(angles[:-1], columns_to_use)\n",
    "plt.title('Radar Chart for Cluster Centers')\n",
    "plt.legend()\n",
    "plt.show()\n"
   ]
  },
  {
   "cell_type": "code",
   "execution_count": null,
   "metadata": {},
   "outputs": [],
   "source": [
    "cross_df = pd.crosstab(kmeans.labels_, data_for_clustering['race_prestige'])\n",
    "cross_df.plot(kind='bar', stacked=False, title='Length distribution per cluster')\n",
    "plt.xlabel('Cluster')\n",
    "plt.ylabel('Count')\n",
    "plt.show()"
   ]
  }
 ],
 "metadata": {
  "kernelspec": {
   "display_name": "dm_env",
   "language": "python",
   "name": "python3"
  },
  "language_info": {
   "codemirror_mode": {
    "name": "ipython",
    "version": 3
   },
   "file_extension": ".py",
   "mimetype": "text/x-python",
   "name": "python",
   "nbconvert_exporter": "python",
   "pygments_lexer": "ipython3",
   "version": "3.12.2"
  }
 },
 "nbformat": 4,
 "nbformat_minor": 2
}

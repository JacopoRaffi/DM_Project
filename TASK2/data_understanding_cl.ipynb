{
 "cells": [
  {
   "cell_type": "markdown",
   "metadata": {},
   "source": [
    "# Data Understanding After Cleaning\n",
    "\n",
    "After performing the cleaning, we check again some basic information to show that all the data is correct in the sintax and the semantic, and that the cleaned data are correct."
   ]
  },
  {
   "cell_type": "code",
   "execution_count": 1,
   "metadata": {},
   "outputs": [],
   "source": [
    "# Autoreload allows the notebook to dynamically load code: if we update some helper functions *outside* of the notebook, we do not need to reload the notebook.\n",
    "%load_ext autoreload\n",
    "%autoreload 2"
   ]
  },
  {
   "cell_type": "code",
   "execution_count": 2,
   "metadata": {},
   "outputs": [],
   "source": [
    "import pandas as pd\n",
    "import numpy as np\n",
    "import re\n",
    "import unicodedata\n",
    "\n",
    "import matplotlib.pyplot as plt\n",
    "import seaborn as sb\n",
    "import math\n",
    "\n",
    "import os\n",
    "import sys\n",
    "sys.path.append(os.path.abspath('../src'))\n",
    "from utils import *"
   ]
  },
  {
   "cell_type": "code",
   "execution_count": 3,
   "metadata": {},
   "outputs": [],
   "source": [
    "csv_file = \"../data/races.csv\"\n",
    "races_dataset = pd.read_csv(csv_file)\n",
    "csv_file = \"../data/cyclists.csv\"\n",
    "cyclists_dataset = pd.read_csv(csv_file)\n",
    "csv_file = \"../data/cleaned_cyclists_dataset.csv\"\n",
    "cleaned_cyclists_dataset = pd.read_csv(csv_file)"
   ]
  },
  {
   "cell_type": "code",
   "execution_count": 4,
   "metadata": {},
   "outputs": [
    {
     "data": {
      "text/html": [
       "<div>\n",
       "<style scoped>\n",
       "    .dataframe tbody tr th:only-of-type {\n",
       "        vertical-align: middle;\n",
       "    }\n",
       "\n",
       "    .dataframe tbody tr th {\n",
       "        vertical-align: top;\n",
       "    }\n",
       "\n",
       "    .dataframe thead th {\n",
       "        text-align: right;\n",
       "    }\n",
       "</style>\n",
       "<table border=\"1\" class=\"dataframe\">\n",
       "  <thead>\n",
       "    <tr style=\"text-align: right;\">\n",
       "      <th></th>\n",
       "      <th>cyclist_url</th>\n",
       "      <th>cyclist_name</th>\n",
       "      <th>birth_year</th>\n",
       "      <th>weight</th>\n",
       "      <th>height</th>\n",
       "      <th>nationality</th>\n",
       "      <th>race_url</th>\n",
       "      <th>race_name</th>\n",
       "      <th>points</th>\n",
       "      <th>uci_points</th>\n",
       "      <th>...</th>\n",
       "      <th>profile</th>\n",
       "      <th>startlist_quality</th>\n",
       "      <th>date</th>\n",
       "      <th>position</th>\n",
       "      <th>cyclist_age</th>\n",
       "      <th>mostly_tarmac</th>\n",
       "      <th>cyclist_team</th>\n",
       "      <th>delta</th>\n",
       "      <th>race_year</th>\n",
       "      <th>race_stage</th>\n",
       "    </tr>\n",
       "  </thead>\n",
       "  <tbody>\n",
       "    <tr>\n",
       "      <th>0</th>\n",
       "      <td>georges-pintens</td>\n",
       "      <td>Georges  Pintens</td>\n",
       "      <td>1946</td>\n",
       "      <td>NaN</td>\n",
       "      <td>NaN</td>\n",
       "      <td>Belgium</td>\n",
       "      <td>amstel-gold-race/1970/result</td>\n",
       "      <td>Amstel Gold Race</td>\n",
       "      <td>225.0</td>\n",
       "      <td>NaN</td>\n",
       "      <td>...</td>\n",
       "      <td>NaN</td>\n",
       "      <td>372</td>\n",
       "      <td>1970-04-25</td>\n",
       "      <td>0</td>\n",
       "      <td>24</td>\n",
       "      <td>False</td>\n",
       "      <td>norway-1987</td>\n",
       "      <td>0.0</td>\n",
       "      <td>1970</td>\n",
       "      <td>result</td>\n",
       "    </tr>\n",
       "    <tr>\n",
       "      <th>1</th>\n",
       "      <td>willy-van-neste</td>\n",
       "      <td>Willy Van Neste</td>\n",
       "      <td>1944</td>\n",
       "      <td>NaN</td>\n",
       "      <td>NaN</td>\n",
       "      <td>Belgium</td>\n",
       "      <td>amstel-gold-race/1970/result</td>\n",
       "      <td>Amstel Gold Race</td>\n",
       "      <td>225.0</td>\n",
       "      <td>NaN</td>\n",
       "      <td>...</td>\n",
       "      <td>NaN</td>\n",
       "      <td>372</td>\n",
       "      <td>1970-04-25</td>\n",
       "      <td>1</td>\n",
       "      <td>26</td>\n",
       "      <td>False</td>\n",
       "      <td>norway-1987</td>\n",
       "      <td>0.0</td>\n",
       "      <td>1970</td>\n",
       "      <td>result</td>\n",
       "    </tr>\n",
       "    <tr>\n",
       "      <th>2</th>\n",
       "      <td>andre-dierickx</td>\n",
       "      <td>André  Dierickx</td>\n",
       "      <td>1947</td>\n",
       "      <td>74.0</td>\n",
       "      <td>180.0</td>\n",
       "      <td>Belgium</td>\n",
       "      <td>amstel-gold-race/1970/result</td>\n",
       "      <td>Amstel Gold Race</td>\n",
       "      <td>225.0</td>\n",
       "      <td>NaN</td>\n",
       "      <td>...</td>\n",
       "      <td>NaN</td>\n",
       "      <td>372</td>\n",
       "      <td>1970-04-25</td>\n",
       "      <td>2</td>\n",
       "      <td>23</td>\n",
       "      <td>False</td>\n",
       "      <td>spain-1991</td>\n",
       "      <td>22.0</td>\n",
       "      <td>1970</td>\n",
       "      <td>result</td>\n",
       "    </tr>\n",
       "    <tr>\n",
       "      <th>3</th>\n",
       "      <td>eric-leman</td>\n",
       "      <td>Eric  Leman</td>\n",
       "      <td>1946</td>\n",
       "      <td>NaN</td>\n",
       "      <td>NaN</td>\n",
       "      <td>Belgium</td>\n",
       "      <td>amstel-gold-race/1970/result</td>\n",
       "      <td>Amstel Gold Race</td>\n",
       "      <td>225.0</td>\n",
       "      <td>NaN</td>\n",
       "      <td>...</td>\n",
       "      <td>NaN</td>\n",
       "      <td>372</td>\n",
       "      <td>1970-04-25</td>\n",
       "      <td>3</td>\n",
       "      <td>24</td>\n",
       "      <td>False</td>\n",
       "      <td>spain-1991</td>\n",
       "      <td>33.0</td>\n",
       "      <td>1970</td>\n",
       "      <td>result</td>\n",
       "    </tr>\n",
       "    <tr>\n",
       "      <th>4</th>\n",
       "      <td>joseph-schoeters</td>\n",
       "      <td>Joseph  Schoeters</td>\n",
       "      <td>1947</td>\n",
       "      <td>NaN</td>\n",
       "      <td>NaN</td>\n",
       "      <td>Belgium</td>\n",
       "      <td>amstel-gold-race/1970/result</td>\n",
       "      <td>Amstel Gold Race</td>\n",
       "      <td>225.0</td>\n",
       "      <td>NaN</td>\n",
       "      <td>...</td>\n",
       "      <td>NaN</td>\n",
       "      <td>372</td>\n",
       "      <td>1970-04-25</td>\n",
       "      <td>4</td>\n",
       "      <td>23</td>\n",
       "      <td>False</td>\n",
       "      <td>NaN</td>\n",
       "      <td>33.0</td>\n",
       "      <td>1970</td>\n",
       "      <td>result</td>\n",
       "    </tr>\n",
       "  </tbody>\n",
       "</table>\n",
       "<p>5 rows × 22 columns</p>\n",
       "</div>"
      ],
      "text/plain": [
       "        cyclist_url       cyclist_name  birth_year  weight  height  \\\n",
       "0   georges-pintens   Georges  Pintens        1946     NaN     NaN   \n",
       "1   willy-van-neste    Willy Van Neste        1944     NaN     NaN   \n",
       "2    andre-dierickx    André  Dierickx        1947    74.0   180.0   \n",
       "3        eric-leman        Eric  Leman        1946     NaN     NaN   \n",
       "4  joseph-schoeters  Joseph  Schoeters        1947     NaN     NaN   \n",
       "\n",
       "  nationality                      race_url         race_name  points  \\\n",
       "0     Belgium  amstel-gold-race/1970/result  Amstel Gold Race   225.0   \n",
       "1     Belgium  amstel-gold-race/1970/result  Amstel Gold Race   225.0   \n",
       "2     Belgium  amstel-gold-race/1970/result  Amstel Gold Race   225.0   \n",
       "3     Belgium  amstel-gold-race/1970/result  Amstel Gold Race   225.0   \n",
       "4     Belgium  amstel-gold-race/1970/result  Amstel Gold Race   225.0   \n",
       "\n",
       "   uci_points  ...  profile  startlist_quality        date  position  \\\n",
       "0         NaN  ...      NaN                372  1970-04-25         0   \n",
       "1         NaN  ...      NaN                372  1970-04-25         1   \n",
       "2         NaN  ...      NaN                372  1970-04-25         2   \n",
       "3         NaN  ...      NaN                372  1970-04-25         3   \n",
       "4         NaN  ...      NaN                372  1970-04-25         4   \n",
       "\n",
       "  cyclist_age  mostly_tarmac  cyclist_team  delta race_year  race_stage  \n",
       "0          24          False   norway-1987    0.0      1970      result  \n",
       "1          26          False   norway-1987    0.0      1970      result  \n",
       "2          23          False    spain-1991   22.0      1970      result  \n",
       "3          24          False    spain-1991   33.0      1970      result  \n",
       "4          23          False           NaN   33.0      1970      result  \n",
       "\n",
       "[5 rows x 22 columns]"
      ]
     },
     "execution_count": 4,
     "metadata": {},
     "output_type": "execute_result"
    }
   ],
   "source": [
    "csv_file = \"../data/cleaned_merged_dataset.csv\"\n",
    "dataset = pd.read_csv(csv_file)\n",
    "dataset.head()"
   ]
  },
  {
   "cell_type": "code",
   "execution_count": 5,
   "metadata": {},
   "outputs": [
    {
     "name": "stdout",
     "output_type": "stream",
     "text": [
      "<class 'pandas.core.frame.DataFrame'>\n",
      "RangeIndex: 589739 entries, 0 to 589738\n",
      "Data columns (total 22 columns):\n",
      " #   Column             Non-Null Count   Dtype  \n",
      "---  ------             --------------   -----  \n",
      " 0   cyclist_url        589739 non-null  object \n",
      " 1   cyclist_name       589739 non-null  object \n",
      " 2   birth_year         589739 non-null  int64  \n",
      " 3   weight             480007 non-null  float64\n",
      " 4   height             480007 non-null  float64\n",
      " 5   nationality        589739 non-null  object \n",
      " 6   race_url           589739 non-null  object \n",
      " 7   race_name          589739 non-null  object \n",
      " 8   points             589739 non-null  float64\n",
      " 9   uci_points         422184 non-null  float64\n",
      " 10  length             589739 non-null  float64\n",
      " 11  climb_total        475338 non-null  float64\n",
      " 12  profile            475338 non-null  float64\n",
      " 13  startlist_quality  589739 non-null  int64  \n",
      " 14  date               589739 non-null  object \n",
      " 15  position           589739 non-null  int64  \n",
      " 16  cyclist_age        589739 non-null  int64  \n",
      " 17  mostly_tarmac      589739 non-null  bool   \n",
      " 18  cyclist_team       451105 non-null  object \n",
      " 19  delta              589739 non-null  float64\n",
      " 20  race_year          589739 non-null  int64  \n",
      " 21  race_stage         589739 non-null  object \n",
      "dtypes: bool(1), float64(8), int64(5), object(8)\n",
      "memory usage: 95.0+ MB\n"
     ]
    }
   ],
   "source": [
    "dataset.info()"
   ]
  },
  {
   "cell_type": "code",
   "execution_count": 6,
   "metadata": {},
   "outputs": [
    {
     "data": {
      "text/html": [
       "<div>\n",
       "<style scoped>\n",
       "    .dataframe tbody tr th:only-of-type {\n",
       "        vertical-align: middle;\n",
       "    }\n",
       "\n",
       "    .dataframe tbody tr th {\n",
       "        vertical-align: top;\n",
       "    }\n",
       "\n",
       "    .dataframe thead th {\n",
       "        text-align: right;\n",
       "    }\n",
       "</style>\n",
       "<table border=\"1\" class=\"dataframe\">\n",
       "  <thead>\n",
       "    <tr style=\"text-align: right;\">\n",
       "      <th></th>\n",
       "      <th>birth_year</th>\n",
       "      <th>weight</th>\n",
       "      <th>height</th>\n",
       "      <th>points</th>\n",
       "      <th>uci_points</th>\n",
       "      <th>length</th>\n",
       "      <th>climb_total</th>\n",
       "      <th>profile</th>\n",
       "      <th>startlist_quality</th>\n",
       "      <th>position</th>\n",
       "      <th>cyclist_age</th>\n",
       "      <th>delta</th>\n",
       "      <th>race_year</th>\n",
       "    </tr>\n",
       "  </thead>\n",
       "  <tbody>\n",
       "    <tr>\n",
       "      <th>count</th>\n",
       "      <td>589739.000000</td>\n",
       "      <td>480007.000000</td>\n",
       "      <td>480007.000000</td>\n",
       "      <td>589739.000000</td>\n",
       "      <td>422184.000000</td>\n",
       "      <td>589739.000000</td>\n",
       "      <td>475338.000000</td>\n",
       "      <td>475338.000000</td>\n",
       "      <td>589739.000000</td>\n",
       "      <td>589739.000000</td>\n",
       "      <td>589739.000000</td>\n",
       "      <td>589739.000000</td>\n",
       "      <td>589739.000000</td>\n",
       "    </tr>\n",
       "    <tr>\n",
       "      <th>mean</th>\n",
       "      <td>1977.683221</td>\n",
       "      <td>68.362072</td>\n",
       "      <td>179.699850</td>\n",
       "      <td>89.225897</td>\n",
       "      <td>70.663263</td>\n",
       "      <td>166776.290800</td>\n",
       "      <td>2318.550823</td>\n",
       "      <td>2.585028</td>\n",
       "      <td>1101.182822</td>\n",
       "      <td>74.217408</td>\n",
       "      <td>28.485834</td>\n",
       "      <td>430.755887</td>\n",
       "      <td>2006.169054</td>\n",
       "    </tr>\n",
       "    <tr>\n",
       "      <th>std</th>\n",
       "      <td>11.537102</td>\n",
       "      <td>6.182201</td>\n",
       "      <td>6.269585</td>\n",
       "      <td>54.415806</td>\n",
       "      <td>120.160957</td>\n",
       "      <td>64543.334848</td>\n",
       "      <td>1343.872704</td>\n",
       "      <td>1.502340</td>\n",
       "      <td>380.588233</td>\n",
       "      <td>48.405261</td>\n",
       "      <td>3.855921</td>\n",
       "      <td>1011.486288</td>\n",
       "      <td>11.476909</td>\n",
       "    </tr>\n",
       "    <tr>\n",
       "      <th>min</th>\n",
       "      <td>1933.000000</td>\n",
       "      <td>48.000000</td>\n",
       "      <td>154.000000</td>\n",
       "      <td>18.000000</td>\n",
       "      <td>6.000000</td>\n",
       "      <td>1000.000000</td>\n",
       "      <td>2.000000</td>\n",
       "      <td>1.000000</td>\n",
       "      <td>115.000000</td>\n",
       "      <td>0.000000</td>\n",
       "      <td>13.000000</td>\n",
       "      <td>0.000000</td>\n",
       "      <td>1970.000000</td>\n",
       "    </tr>\n",
       "    <tr>\n",
       "      <th>25%</th>\n",
       "      <td>1970.000000</td>\n",
       "      <td>64.000000</td>\n",
       "      <td>175.000000</td>\n",
       "      <td>50.000000</td>\n",
       "      <td>16.000000</td>\n",
       "      <td>152500.000000</td>\n",
       "      <td>1306.000000</td>\n",
       "      <td>1.000000</td>\n",
       "      <td>844.000000</td>\n",
       "      <td>32.000000</td>\n",
       "      <td>26.000000</td>\n",
       "      <td>11.000000</td>\n",
       "      <td>1999.000000</td>\n",
       "    </tr>\n",
       "    <tr>\n",
       "      <th>50%</th>\n",
       "      <td>1979.000000</td>\n",
       "      <td>68.000000</td>\n",
       "      <td>180.000000</td>\n",
       "      <td>80.000000</td>\n",
       "      <td>20.000000</td>\n",
       "      <td>178200.000000</td>\n",
       "      <td>2216.000000</td>\n",
       "      <td>2.000000</td>\n",
       "      <td>988.000000</td>\n",
       "      <td>70.000000</td>\n",
       "      <td>28.000000</td>\n",
       "      <td>158.000000</td>\n",
       "      <td>2008.000000</td>\n",
       "    </tr>\n",
       "    <tr>\n",
       "      <th>75%</th>\n",
       "      <td>1986.000000</td>\n",
       "      <td>73.000000</td>\n",
       "      <td>184.000000</td>\n",
       "      <td>100.000000</td>\n",
       "      <td>100.000000</td>\n",
       "      <td>203500.000000</td>\n",
       "      <td>3218.000000</td>\n",
       "      <td>4.000000</td>\n",
       "      <td>1309.000000</td>\n",
       "      <td>112.000000</td>\n",
       "      <td>31.000000</td>\n",
       "      <td>626.000000</td>\n",
       "      <td>2015.000000</td>\n",
       "    </tr>\n",
       "    <tr>\n",
       "      <th>max</th>\n",
       "      <td>2004.000000</td>\n",
       "      <td>94.000000</td>\n",
       "      <td>204.000000</td>\n",
       "      <td>350.000000</td>\n",
       "      <td>800.000000</td>\n",
       "      <td>338000.000000</td>\n",
       "      <td>6974.000000</td>\n",
       "      <td>5.000000</td>\n",
       "      <td>2047.000000</td>\n",
       "      <td>209.000000</td>\n",
       "      <td>56.000000</td>\n",
       "      <td>46380.000000</td>\n",
       "      <td>2023.000000</td>\n",
       "    </tr>\n",
       "  </tbody>\n",
       "</table>\n",
       "</div>"
      ],
      "text/plain": [
       "          birth_year         weight         height         points  \\\n",
       "count  589739.000000  480007.000000  480007.000000  589739.000000   \n",
       "mean     1977.683221      68.362072     179.699850      89.225897   \n",
       "std        11.537102       6.182201       6.269585      54.415806   \n",
       "min      1933.000000      48.000000     154.000000      18.000000   \n",
       "25%      1970.000000      64.000000     175.000000      50.000000   \n",
       "50%      1979.000000      68.000000     180.000000      80.000000   \n",
       "75%      1986.000000      73.000000     184.000000     100.000000   \n",
       "max      2004.000000      94.000000     204.000000     350.000000   \n",
       "\n",
       "          uci_points         length    climb_total        profile  \\\n",
       "count  422184.000000  589739.000000  475338.000000  475338.000000   \n",
       "mean       70.663263  166776.290800    2318.550823       2.585028   \n",
       "std       120.160957   64543.334848    1343.872704       1.502340   \n",
       "min         6.000000    1000.000000       2.000000       1.000000   \n",
       "25%        16.000000  152500.000000    1306.000000       1.000000   \n",
       "50%        20.000000  178200.000000    2216.000000       2.000000   \n",
       "75%       100.000000  203500.000000    3218.000000       4.000000   \n",
       "max       800.000000  338000.000000    6974.000000       5.000000   \n",
       "\n",
       "       startlist_quality       position    cyclist_age          delta  \\\n",
       "count      589739.000000  589739.000000  589739.000000  589739.000000   \n",
       "mean         1101.182822      74.217408      28.485834     430.755887   \n",
       "std           380.588233      48.405261       3.855921    1011.486288   \n",
       "min           115.000000       0.000000      13.000000       0.000000   \n",
       "25%           844.000000      32.000000      26.000000      11.000000   \n",
       "50%           988.000000      70.000000      28.000000     158.000000   \n",
       "75%          1309.000000     112.000000      31.000000     626.000000   \n",
       "max          2047.000000     209.000000      56.000000   46380.000000   \n",
       "\n",
       "           race_year  \n",
       "count  589739.000000  \n",
       "mean     2006.169054  \n",
       "std        11.476909  \n",
       "min      1970.000000  \n",
       "25%      1999.000000  \n",
       "50%      2008.000000  \n",
       "75%      2015.000000  \n",
       "max      2023.000000  "
      ]
     },
     "execution_count": 6,
     "metadata": {},
     "output_type": "execute_result"
    }
   ],
   "source": [
    "dataset.describe()"
   ]
  },
  {
   "cell_type": "markdown",
   "metadata": {},
   "source": [
    "## Checks of cyclists data\n",
    "\n",
    "Now we start from the data related to the initial cyclist dataset (we consider only the modified columns)"
   ]
  },
  {
   "cell_type": "markdown",
   "metadata": {},
   "source": [
    "### Check on 'birth_year' data"
   ]
  },
  {
   "cell_type": "markdown",
   "metadata": {},
   "source": [
    "We just check that all years are in the right format"
   ]
  },
  {
   "cell_type": "code",
   "execution_count": 7,
   "metadata": {},
   "outputs": [
    {
     "name": "stdout",
     "output_type": "stream",
     "text": [
      "Number of invalid birth_year: 0\n"
     ]
    }
   ],
   "source": [
    "# Remove '.0' from 'birth_year' and check if it's a valid year in the form '19nn' or '20nn'\n",
    "def is_valid_year(birth_year):\n",
    "    # Convert to string and remove '.0'\n",
    "    year = str(birth_year).replace('.0', '')\n",
    "    # Check if the year is a digit and starts with '19' or '20'\n",
    "    return year.isdigit() and (year.startswith('19') or year.startswith('20'))\n",
    "\n",
    "# Filter out rows where 'birth_year' is not null\n",
    "invalid_rows = dataset[dataset['birth_year'].notnull()]\n",
    "\n",
    "# Apply the validation function across the 'birth_year' column\n",
    "invalid_rows = invalid_rows[~invalid_rows['birth_year'].apply(is_valid_year)]\n",
    "\n",
    "print('Number of invalid birth_year: ' + str(len(invalid_rows)))\n"
   ]
  },
  {
   "cell_type": "markdown",
   "metadata": {},
   "source": [
    "### Check on 'weight' and 'height' data"
   ]
  },
  {
   "cell_type": "markdown",
   "metadata": {},
   "source": [
    "We check that the remaining null values of weight and height are only of the cyclist where they are both missings\n"
   ]
  },
  {
   "cell_type": "code",
   "execution_count": 8,
   "metadata": {},
   "outputs": [
    {
     "name": "stdout",
     "output_type": "stream",
     "text": [
      "Cyclists where we don't have both weight and height: 109732\n"
     ]
    },
    {
     "data": {
      "text/plain": [
       "weight    109732\n",
       "height    109732\n",
       "dtype: int64"
      ]
     },
     "execution_count": 8,
     "metadata": {},
     "output_type": "execute_result"
    }
   ],
   "source": [
    "# Filter rows where both 'weight' and 'height' are null\n",
    "missing_weight_missing_height = dataset[dataset['weight'].isnull() & dataset['height'].isnull()]\n",
    "\n",
    "print(\"Cyclists where we don't have both weight and height:\", len(missing_weight_missing_height))\n",
    "dataset[['weight', 'height']].isnull().sum()"
   ]
  },
  {
   "cell_type": "markdown",
   "metadata": {},
   "source": [
    "We also check that all values respect the same format"
   ]
  },
  {
   "cell_type": "code",
   "execution_count": 9,
   "metadata": {},
   "outputs": [
    {
     "name": "stdout",
     "output_type": "stream",
     "text": [
      "Number of invalid height: 0\n",
      "Number of invalid weight: 0\n"
     ]
    }
   ],
   "source": [
    "# Check that every value in 'height' and 'weight' (without considering the null values) is a number with 1 decimal point\n",
    "\n",
    "def is_valid_number(value):\n",
    "    if pd.notnull(value):\n",
    "        return bool(re.match(r'^\\d+\\.\\d$', str(value)))\n",
    "    return True # If the value is null, we consider it valid\n",
    "\n",
    "invalid_height = dataset[~dataset['height'].apply(is_valid_number)]\n",
    "invalid_weight = dataset[~dataset['weight'].apply(is_valid_number)]\n",
    "\n",
    "print('Number of invalid height: ' + str(len(invalid_height)))\n",
    "print('Number of invalid weight: ' + str(len(invalid_weight)))"
   ]
  },
  {
   "cell_type": "markdown",
   "metadata": {},
   "source": [
    "### Check on 'nationality' data"
   ]
  },
  {
   "cell_type": "markdown",
   "metadata": {},
   "source": [
    "We check that every nationality is a string with no number"
   ]
  },
  {
   "cell_type": "code",
   "execution_count": 10,
   "metadata": {},
   "outputs": [
    {
     "name": "stdout",
     "output_type": "stream",
     "text": [
      "Number of rows with numbers in nationality: 0\n"
     ]
    }
   ],
   "source": [
    "# Check if there are 'nationality' values that contains any number\n",
    "invalid_rows = dataset[dataset['nationality'].str.contains(r'\\d')]\n",
    "\n",
    "print('Number of rows with numbers in nationality: ' + str(len(invalid_rows)))"
   ]
  },
  {
   "cell_type": "markdown",
   "metadata": {},
   "source": [
    "## Checks of races data"
   ]
  },
  {
   "cell_type": "markdown",
   "metadata": {},
   "source": [
    "### Check on 'points' data"
   ]
  },
  {
   "cell_type": "markdown",
   "metadata": {},
   "source": [
    "For each url, check if all the `points` values are the same"
   ]
  },
  {
   "cell_type": "code",
   "execution_count": 11,
   "metadata": {},
   "outputs": [
    {
     "name": "stdout",
     "output_type": "stream",
     "text": [
      "Number of URLs with more than one unique points: 0\n"
     ]
    }
   ],
   "source": [
    "# Group by '_url' and calculate the number of unique values in the 'points' column\n",
    "points_uniques = dataset.groupby('race_url')['points'].nunique(dropna=False)\n",
    "# Filter the URLs with more than one unique points\n",
    "multiple_points_urls = points_uniques[points_uniques > 1].index\n",
    "\n",
    "print('Number of URLs with more than one unique points: ' + str(len(multiple_points_urls)))"
   ]
  },
  {
   "cell_type": "markdown",
   "metadata": {},
   "source": [
    "Check that all points respect the correct fromat"
   ]
  },
  {
   "cell_type": "code",
   "execution_count": 12,
   "metadata": {},
   "outputs": [
    {
     "name": "stdout",
     "output_type": "stream",
     "text": [
      "Number of invalid points: 0\n"
     ]
    }
   ],
   "source": [
    "# Check that every value in 'points' is a number that finish with '.0'\n",
    "def is_valid_integer(value):\n",
    "    if pd.notnull(value):\n",
    "        return bool(re.match(r'^\\d+\\.0$', str(value)))\n",
    "    return True # If the value is null, we consider it valid\n",
    "\n",
    "invalid_points = dataset[~dataset['points'].apply(is_valid_integer)]\n",
    "\n",
    "print('Number of invalid points: ' + str(len(invalid_points)))"
   ]
  },
  {
   "cell_type": "markdown",
   "metadata": {},
   "source": [
    "### Check on 'uci_points' data"
   ]
  },
  {
   "cell_type": "code",
   "execution_count": 13,
   "metadata": {},
   "outputs": [
    {
     "name": "stdout",
     "output_type": "stream",
     "text": [
      "Total number of null values in uci_points column: 167555 (28.41%)\n",
      "Number of null values in uci_points column before 2001: 167555\n",
      "Number of null values in uci_points column after 2001: 0\n"
     ]
    }
   ],
   "source": [
    "print('Total number of null values in uci_points column: ' + str(dataset['uci_points'].isnull().sum())\n",
    "      + ' (' + str(round(dataset['uci_points'].isnull().sum() / len(dataset) * 100, 2)) + '%)')\n",
    "\n",
    "null_values_before_2001 = dataset[dataset['uci_points'].isnull() & (dataset['race_year'] < 2001)]\n",
    "null_values_after_2001 = dataset[dataset['uci_points'].isnull() & (dataset['race_year'] >= 2001)]\n",
    "\n",
    "print('Number of null values in uci_points column before 2001: ' + str(len(null_values_before_2001)))\n",
    "print('Number of null values in uci_points column after 2001: ' + str(len(null_values_after_2001)))"
   ]
  },
  {
   "cell_type": "code",
   "execution_count": 14,
   "metadata": {},
   "outputs": [
    {
     "name": "stdout",
     "output_type": "stream",
     "text": [
      "Number of URLs with more than one unique uci_points: 0\n"
     ]
    }
   ],
   "source": [
    "# Group by '_url' and calculate the number of unique values in the 'uci_points' column\n",
    "uci_points_uniques = dataset.groupby('race_url')['uci_points'].nunique(dropna=False)\n",
    "# Filter the URLs with more than one unique uci_points\n",
    "multiple_uci_points_urls = uci_points_uniques[uci_points_uniques > 1].index\n",
    "\n",
    "print('Number of URLs with more than one unique uci_points: ' + str(len(multiple_uci_points_urls)))"
   ]
  },
  {
   "cell_type": "code",
   "execution_count": 15,
   "metadata": {},
   "outputs": [
    {
     "name": "stdout",
     "output_type": "stream",
     "text": [
      "Number of invalid uci points: 0\n"
     ]
    }
   ],
   "source": [
    "# Check that every value in 'uci_points' is a number that finish with '.0'\n",
    "def is_valid_integer(value):\n",
    "    if pd.notnull(value):\n",
    "        return bool(re.match(r'^\\d+\\.0$', str(value)))\n",
    "    return True # If the value is null, we consider it valid\n",
    "\n",
    "invalid_points = dataset[~dataset['uci_points'].apply(is_valid_integer)]\n",
    "\n",
    "print('Number of invalid uci points: ' + str(len(invalid_points)))"
   ]
  },
  {
   "cell_type": "markdown",
   "metadata": {},
   "source": [
    "### Check on 'climb_total' data"
   ]
  },
  {
   "cell_type": "code",
   "execution_count": 16,
   "metadata": {},
   "outputs": [
    {
     "name": "stdout",
     "output_type": "stream",
     "text": [
      "Total number of null values in climb_total column: 114401 (19.4%)\n"
     ]
    }
   ],
   "source": [
    "print('Total number of null values in climb_total column: ' + str(dataset['climb_total'].isnull().sum())\n",
    "      + ' (' + str(round(dataset['climb_total'].isnull().sum() / len(dataset) * 100, 2)) + '%)')"
   ]
  },
  {
   "cell_type": "markdown",
   "metadata": {},
   "source": [
    "For each url, check if all the `climb_total` values are the same\n"
   ]
  },
  {
   "cell_type": "code",
   "execution_count": 17,
   "metadata": {},
   "outputs": [
    {
     "name": "stdout",
     "output_type": "stream",
     "text": [
      "Number of URLs with more than one unique climb_total: 0\n"
     ]
    }
   ],
   "source": [
    "# Group by '_url' and calculate the number of unique values in the 'climb_total' column\n",
    "climb_total_uniques = dataset.groupby('race_url')['climb_total'].nunique(dropna=False)\n",
    "# Filter the URLs with more than one unique climb_total\n",
    "multiple_climb_total_urls = climb_total_uniques[climb_total_uniques > 1].index\n",
    "\n",
    "print('Number of URLs with more than one unique climb_total: ' + str(len(multiple_climb_total_urls)))"
   ]
  },
  {
   "cell_type": "markdown",
   "metadata": {},
   "source": [
    "### Check on 'profile' data"
   ]
  },
  {
   "cell_type": "markdown",
   "metadata": {},
   "source": [
    "Now we consider the `profile` column, and check the number of null values and the count the occurrences of each unique value"
   ]
  },
  {
   "cell_type": "code",
   "execution_count": 18,
   "metadata": {},
   "outputs": [
    {
     "name": "stdout",
     "output_type": "stream",
     "text": [
      "Total number of null values in profile column: 114401 (19.4%)\n",
      "profile\n",
      "1.0    147246\n",
      "2.0    138083\n",
      "3.0     50842\n",
      "4.0     43011\n",
      "5.0     96156\n",
      "Name: count, dtype: int64\n"
     ]
    }
   ],
   "source": [
    "print('Total number of null values in profile column: ' + str(dataset['profile'].isnull().sum())\n",
    "      + ' (' + str(round(dataset['profile'].isnull().sum() / len(dataset) * 100, 2)) + '%)')\n",
    "\n",
    "# Sort by profile value\n",
    "profile_counts = dataset['profile'].value_counts().sort_index()\n",
    "print(profile_counts)"
   ]
  },
  {
   "cell_type": "code",
   "execution_count": 19,
   "metadata": {},
   "outputs": [
    {
     "name": "stdout",
     "output_type": "stream",
     "text": [
      "Number of URLs with more than one unique profile: 0\n"
     ]
    }
   ],
   "source": [
    "# Group by '_url' and calculate the number of unique values in the 'profile' column\n",
    "profile_uniques = dataset.groupby('race_url')['profile'].nunique(dropna=False)\n",
    "# Filter the URLs with more than one unique profile\n",
    "multiple_profile_urls = profile_uniques[profile_uniques > 1].index\n",
    "\n",
    "print('Number of URLs with more than one unique profile: ' + str(len(multiple_profile_urls)))"
   ]
  },
  {
   "cell_type": "markdown",
   "metadata": {},
   "source": [
    "## Check on 'date' data"
   ]
  },
  {
   "cell_type": "markdown",
   "metadata": {},
   "source": [
    "For each url, check if all the `date` values are the same"
   ]
  },
  {
   "cell_type": "code",
   "execution_count": 20,
   "metadata": {},
   "outputs": [
    {
     "name": "stdout",
     "output_type": "stream",
     "text": [
      "Number of URLs with more than one unique date: 0\n"
     ]
    }
   ],
   "source": [
    "# Group by '_url' and calculate the number of unique values in the 'date' column\n",
    "date_uniques = dataset.groupby('race_url')['date'].nunique(dropna=False)\n",
    "# Filter the URLs with more than one unique date\n",
    "multiple_date_urls = date_uniques[date_uniques > 1].index\n",
    "\n",
    "print('Number of URLs with more than one unique date: ' + str(len(multiple_date_urls)))"
   ]
  },
  {
   "cell_type": "markdown",
   "metadata": {},
   "source": [
    "Since we have a lot of different values, we check if every value is sintatically correct"
   ]
  },
  {
   "cell_type": "code",
   "execution_count": 21,
   "metadata": {},
   "outputs": [
    {
     "name": "stdout",
     "output_type": "stream",
     "text": [
      "Number of invalid dates: 589739\n"
     ]
    }
   ],
   "source": [
    "# Check if there are any 'date' values not in the format yyyy-mm-dd (in the merged dataset)\n",
    "invalid_rows = dataset[dataset['date'].str.match(r'\\d{4}-\\d{2}-\\d{2}')]\n",
    "print('Number of invalid dates: ' + str(len(invalid_rows)))"
   ]
  },
  {
   "cell_type": "markdown",
   "metadata": {},
   "source": [
    "### Check on 'position' data"
   ]
  },
  {
   "cell_type": "markdown",
   "metadata": {},
   "source": [
    "For each url, check if there are all the `position` values"
   ]
  },
  {
   "cell_type": "code",
   "execution_count": 22,
   "metadata": {},
   "outputs": [
    {
     "name": "stdout",
     "output_type": "stream",
     "text": [
      "Number of URLs with invalid positions: 98\n"
     ]
    }
   ],
   "source": [
    "# Function to check if the positions are from 0 to the max one after the other\n",
    "def check_positions(positions):\n",
    "    return np.array_equal(np.sort(positions), np.arange(positions.max() + 1))\n",
    "\n",
    "# Apply the function to the dataset\n",
    "invalid_urls = dataset.groupby('race_url')['position'].apply(lambda x: not check_positions(x))\n",
    "\n",
    "# Stampa gli '_url' che non rispettano la condizione\n",
    "print('Number of URLs with invalid positions: ' + str(len(invalid_urls[invalid_urls])))\n"
   ]
  },
  {
   "cell_type": "markdown",
   "metadata": {},
   "source": [
    "We have this because we delete the duplicated cyclist in the same race"
   ]
  },
  {
   "cell_type": "markdown",
   "metadata": {},
   "source": [
    "### Check on 'cyclist_age' data"
   ]
  },
  {
   "cell_type": "markdown",
   "metadata": {},
   "source": [
    "Now we consider the `cyclist_age` column, and check the number of null values and the count the occurrences of each unique value"
   ]
  },
  {
   "cell_type": "code",
   "execution_count": 23,
   "metadata": {},
   "outputs": [
    {
     "name": "stdout",
     "output_type": "stream",
     "text": [
      "Total number of null values in cyclist_age column: 0 (0.0%)\n"
     ]
    }
   ],
   "source": [
    "print('Total number of null values in cyclist_age column: ' + str(dataset['cyclist_age'].isnull().sum())\n",
    "      + ' (' + str(round(dataset['cyclist_age'].isnull().sum() / dataset.shape[0] * 100, 2)) + '%)')"
   ]
  },
  {
   "cell_type": "markdown",
   "metadata": {},
   "source": [
    "### Check on 'cyclist_team' data"
   ]
  },
  {
   "cell_type": "markdown",
   "metadata": {},
   "source": [
    "Now we consider the `cyclist_team` column, and check the number of null values and the count the occurrences of each unique value"
   ]
  },
  {
   "cell_type": "code",
   "execution_count": 24,
   "metadata": {},
   "outputs": [
    {
     "name": "stdout",
     "output_type": "stream",
     "text": [
      "Total number of null values in cyclist_team column: 138634 (23.51%)\n"
     ]
    }
   ],
   "source": [
    "# Print total number of null values in 'delta' column, and the percentage of null values (float with two decimal digits after the comma)\n",
    "print('Total number of null values in cyclist_team column: ' + str(dataset['cyclist_team'].isnull().sum())\n",
    "      + ' (' + str(round(dataset['cyclist_team'].isnull().sum() / dataset.shape[0] * 100, 2)) + '%)')"
   ]
  },
  {
   "cell_type": "code",
   "execution_count": 25,
   "metadata": {},
   "outputs": [
    {
     "name": "stdout",
     "output_type": "stream",
     "text": [
      "Number of invalid rows: 0\n"
     ]
    }
   ],
   "source": [
    "# Check if every 'cyclist_team' value matches the required format\n",
    "invalid_teams = dataset[dataset['cyclist_team'].notnull() & ~dataset['cyclist_team'].astype(str).str.match(r'.+-\\d{4}')]\n",
    "\n",
    "print('Number of invalid rows: ' + str(len(invalid_teams)))"
   ]
  },
  {
   "cell_type": "markdown",
   "metadata": {},
   "source": [
    "### Check on 'delta' data"
   ]
  },
  {
   "cell_type": "markdown",
   "metadata": {},
   "source": [
    "Now we consider the `delta` column, and check the number of null values and the count the occurrences of each unique value"
   ]
  },
  {
   "cell_type": "code",
   "execution_count": 26,
   "metadata": {},
   "outputs": [
    {
     "name": "stdout",
     "output_type": "stream",
     "text": [
      "Total number of null values in delta column: 0 (0.0%)\n"
     ]
    }
   ],
   "source": [
    "print('Total number of null values in delta column: ' + str(dataset['delta'].isnull().sum())\n",
    "        + ' (' + str(round(dataset['delta'].isnull().sum() / dataset.shape[0] * 100, 2)) + '%)')"
   ]
  },
  {
   "cell_type": "code",
   "execution_count": 27,
   "metadata": {},
   "outputs": [
    {
     "name": "stdout",
     "output_type": "stream",
     "text": [
      "Number of invalid deltas: 0\n"
     ]
    }
   ],
   "source": [
    "# Check if there are any 'delta' values that do not end with '.0'\n",
    "invalid_rows = dataset[~dataset['delta'].astype(str).str.endswith('.0')]\n",
    "\n",
    "print('Number of invalid deltas: ' + str(len(invalid_rows)))"
   ]
  },
  {
   "cell_type": "code",
   "execution_count": 28,
   "metadata": {},
   "outputs": [
    {
     "name": "stdout",
     "output_type": "stream",
     "text": [
      "Number of negative deltas: 0\n"
     ]
    }
   ],
   "source": [
    "# Check if there are any 'delta' values that are negative\n",
    "invalid_rows = dataset[dataset['delta'] < 0]\n",
    "\n",
    "print('Number of negative deltas: ' + str(len(invalid_rows)))\n",
    "for index, row in invalid_rows.iterrows():\n",
    "    print(row['_url'], row['delta'])"
   ]
  },
  {
   "cell_type": "markdown",
   "metadata": {},
   "source": [
    "Check if following the `positon` order, the delta is ordered too"
   ]
  },
  {
   "cell_type": "code",
   "execution_count": 29,
   "metadata": {},
   "outputs": [
    {
     "name": "stdout",
     "output_type": "stream",
     "text": [
      "Number of URLs with invalid deltas: 0\n"
     ]
    }
   ],
   "source": [
    "# Grouped by '_url', check if the 'delta' value is greater or equal than the previous one (the one in the previous row, except for the first one)\n",
    "invalid_urls = dataset.groupby(['race_url', 'delta'])['delta'].apply(lambda x: (x.shift() > x).any())\n",
    "\n",
    "# Print the number of URLs with invalid 'delta' values\n",
    "print('Number of URLs with invalid deltas: ' + str(len(invalid_urls[invalid_urls])))\n",
    "for url in invalid_urls[invalid_urls].index:\n",
    "    print(url)"
   ]
  },
  {
   "cell_type": "markdown",
   "metadata": {},
   "source": [
    "### Check on 'race_year' data"
   ]
  },
  {
   "cell_type": "markdown",
   "metadata": {},
   "source": [
    "Now we consider the `race_year` column, and check the number of null values and the count the occurrences of each unique value"
   ]
  },
  {
   "cell_type": "code",
   "execution_count": 30,
   "metadata": {},
   "outputs": [
    {
     "name": "stdout",
     "output_type": "stream",
     "text": [
      "Total number of null values in year column: 0\n"
     ]
    }
   ],
   "source": [
    "# Print total number of null values in 'race_year' column, and the percentage of null values (float with two decimal digits after the comma)\n",
    "print('Total number of null values in year column: ' + str(dataset['race_year'].isnull().sum()))"
   ]
  },
  {
   "cell_type": "markdown",
   "metadata": {},
   "source": [
    "For each url, check if all the `race_year` values are the same"
   ]
  },
  {
   "cell_type": "code",
   "execution_count": 31,
   "metadata": {},
   "outputs": [
    {
     "name": "stdout",
     "output_type": "stream",
     "text": [
      "Number of URLs with more than one unique race_year: 0\n"
     ]
    }
   ],
   "source": [
    "# Group by 'race_url' and calculate the number of unique values in the 'race_year' column\n",
    "race_year_uniques = dataset.groupby('race_url')['race_year'].nunique(dropna=False)\n",
    "# Filter the URLs with more than one unique race_year\n",
    "multiple_race_year_urls = race_year_uniques[race_year_uniques > 1].index\n",
    "\n",
    "print('Number of URLs with more than one unique race_year: ' + str(len(multiple_race_year_urls)))"
   ]
  },
  {
   "cell_type": "code",
   "execution_count": 32,
   "metadata": {},
   "outputs": [
    {
     "name": "stdout",
     "output_type": "stream",
     "text": [
      "Number of rows with invalid year: 0\n"
     ]
    }
   ],
   "source": [
    "# Check that the year match the year in the url (race/year/stage) and in the date (year-month-day)\n",
    "def get_year_from_url(url):\n",
    "    return int(url.split('/')[1])\n",
    "\n",
    "def get_year_from_date(date):\n",
    "    return int(date.split('-')[0])\n",
    "\n",
    "# Check if the year in 'race_year' matches the year extracted from 'race_url' and 'date'\n",
    "invalid_year_rows = dataset[\n",
    "    (dataset['race_year'] != dataset['race_url'].apply(get_year_from_url)) | (dataset['race_year'] != dataset['date'].apply(get_year_from_date))\n",
    "]\n",
    "\n",
    "print('Number of rows with invalid year: ' + str(len(invalid_year_rows)))"
   ]
  },
  {
   "cell_type": "markdown",
   "metadata": {},
   "source": [
    "### Check on 'race_stage' data"
   ]
  },
  {
   "cell_type": "markdown",
   "metadata": {},
   "source": [
    "Now we consider the `race_stage` column, and check the number of null values and the count the occurrences of each unique value"
   ]
  },
  {
   "cell_type": "code",
   "execution_count": 33,
   "metadata": {},
   "outputs": [
    {
     "name": "stdout",
     "output_type": "stream",
     "text": [
      "Total number of null values in stage column: 0\n"
     ]
    }
   ],
   "source": [
    "# Print total number of null values in 'race_stage' column, and the percentage of null values (float with two decimal digits after the comma)\n",
    "print('Total number of null values in stage column: ' + str(dataset['race_stage'].isnull().sum()))"
   ]
  },
  {
   "cell_type": "markdown",
   "metadata": {},
   "source": [
    "For each url, check if all the `race_stage` values are the same"
   ]
  },
  {
   "cell_type": "code",
   "execution_count": 34,
   "metadata": {},
   "outputs": [
    {
     "name": "stdout",
     "output_type": "stream",
     "text": [
      "Number of URLs with more than one unique race_stage: 0\n"
     ]
    }
   ],
   "source": [
    "# Group by 'race_url' and calculate the number of unique values in the 'race_stage' column\n",
    "race_stage_uniques = dataset.groupby('race_url')['race_stage'].nunique(dropna=False)\n",
    "# Filter the URLs with more than one unique race_stage\n",
    "multiple_race_stage_urls = race_stage_uniques[race_stage_uniques > 1].index\n",
    "\n",
    "print('Number of URLs with more than one unique race_stage: ' + str(len(multiple_race_stage_urls)))"
   ]
  },
  {
   "cell_type": "code",
   "execution_count": 35,
   "metadata": {},
   "outputs": [
    {
     "name": "stdout",
     "output_type": "stream",
     "text": [
      "Number of rows with invalid stage: 0\n"
     ]
    }
   ],
   "source": [
    "# Check that the stage match the stage in the url (race/year/stage)\n",
    "def get_stage_from_url(url):\n",
    "    return url.split('/')[2]\n",
    "\n",
    "# Check if the stage in the race_stage matches the stage extracted from 'race_url'\n",
    "invalid_stage_rows = dataset[\n",
    "    (dataset['race_stage'] != dataset['race_url'].apply(get_stage_from_url))\n",
    "]\n",
    "\n",
    "print('Number of rows with invalid stage: ' + str(len(invalid_stage_rows)))"
   ]
  },
  {
   "cell_type": "markdown",
   "metadata": {},
   "source": [
    "## Data-Balance Analysis "
   ]
  },
  {
   "cell_type": "code",
   "execution_count": 36,
   "metadata": {},
   "outputs": [],
   "source": [
    "n_bins = math.ceil(math.log2(len(cyclists_dataset)) + 1)"
   ]
  },
  {
   "cell_type": "markdown",
   "metadata": {},
   "source": [
    "### Distribution of birth years"
   ]
  },
  {
   "cell_type": "code",
   "execution_count": 37,
   "metadata": {},
   "outputs": [
    {
     "data": {
      "image/png": "[encoded data removed]",
      "text/plain": [
       "<Figure size 1500x500 with 2 Axes>"
      ]
     },
     "metadata": {},
     "output_type": "display_data"
    }
   ],
   "source": [
    "fig, axes = plt.subplots(1, 2, figsize=(15, 5))\n",
    "\n",
    "sb.histplot(cyclists_dataset, \n",
    "            x=\"birth_year\", \n",
    "            bins=n_bins, \n",
    "            ax=axes[0])\n",
    "axes[0].set_title('Before Imputation')\n",
    "axes[0].set_xlabel('Birth Year') # TODO: Change x-axis name\n",
    "\n",
    "sb.histplot(cleaned_cyclists_dataset,\n",
    "            x=\"birth_year\",\n",
    "            bins=n_bins,\n",
    "            ax=axes[1])\n",
    "axes[1].set_title('After Imputation')\n",
    "axes[1].set_xlabel('Birth Year') # TODO: Change x-axis name\n",
    "\n",
    "plt.tight_layout()\n",
    "plt.show()"
   ]
  },
  {
   "cell_type": "markdown",
   "metadata": {},
   "source": [
    "### Distribution of weight and height"
   ]
  },
  {
   "cell_type": "code",
   "execution_count": 38,
   "metadata": {},
   "outputs": [
    {
     "data": {
      "image/png": "[encoded data removed]",
      "text/plain": [
       "<Figure size 1500x500 with 2 Axes>"
      ]
     },
     "metadata": {},
     "output_type": "display_data"
    }
   ],
   "source": [
    "# Distirbution of weights\n",
    "\n",
    "fig, axes = plt.subplots(1, 2, figsize=(15, 5))\n",
    "\n",
    "sb.histplot(cyclists_dataset, \n",
    "            x=\"weight\", \n",
    "            bins=n_bins, \n",
    "            ax=axes[0])\n",
    "axes[0].set_title('Before Imputation')\n",
    "axes[0].set_xlabel('Weight') # TODO: Change x-axis name\n",
    "\n",
    "sb.histplot(cleaned_cyclists_dataset,\n",
    "            x=\"weight\",\n",
    "            bins=n_bins,\n",
    "            ax=axes[1])\n",
    "axes[1].set_title('After Imputation')\n",
    "axes[1].set_xlabel('Weight') # TODO: Change x-axis name\n",
    "\n",
    "plt.tight_layout()\n",
    "plt.show()"
   ]
  },
  {
   "cell_type": "code",
   "execution_count": 39,
   "metadata": {},
   "outputs": [
    {
     "data": {
      "image/png": "[encoded data removed]",
      "text/plain": [
       "<Figure size 1500x500 with 2 Axes>"
      ]
     },
     "metadata": {},
     "output_type": "display_data"
    }
   ],
   "source": [
    "# Distribution of heights\n",
    "\n",
    "fig, axes = plt.subplots(1, 2, figsize=(15, 5))\n",
    "\n",
    "sb.histplot(cyclists_dataset,\n",
    "            x=\"height\",\n",
    "            bins=n_bins,\n",
    "            ax=axes[0])\n",
    "axes[0].set_title('Before Imputation')\n",
    "axes[0].set_xlabel('Height') # TODO: Change x-axis name\n",
    "\n",
    "sb.histplot(cleaned_cyclists_dataset,\n",
    "            x=\"height\",\n",
    "            bins=n_bins,\n",
    "            ax=axes[1])\n",
    "axes[1].set_title('After Imputation')\n",
    "axes[1].set_xlabel('Height') # TODO: Change x-axis name\n",
    "\n",
    "plt.tight_layout()\n",
    "plt.show()"
   ]
  },
  {
   "cell_type": "markdown",
   "metadata": {},
   "source": [
    "## Correlations Data"
   ]
  },
  {
   "cell_type": "code",
   "execution_count": 40,
   "metadata": {},
   "outputs": [
    {
     "data": {
      "text/html": [
       "<div>\n",
       "<style scoped>\n",
       "    .dataframe tbody tr th:only-of-type {\n",
       "        vertical-align: middle;\n",
       "    }\n",
       "\n",
       "    .dataframe tbody tr th {\n",
       "        vertical-align: top;\n",
       "    }\n",
       "\n",
       "    .dataframe thead th {\n",
       "        text-align: right;\n",
       "    }\n",
       "</style>\n",
       "<table border=\"1\" class=\"dataframe\">\n",
       "  <thead>\n",
       "    <tr style=\"text-align: right;\">\n",
       "      <th></th>\n",
       "      <th>birth_year</th>\n",
       "      <th>weight</th>\n",
       "      <th>height</th>\n",
       "      <th>correlation_type</th>\n",
       "    </tr>\n",
       "  </thead>\n",
       "  <tbody>\n",
       "    <tr>\n",
       "      <th>birth_year</th>\n",
       "      <td>1.000000</td>\n",
       "      <td>-0.063740</td>\n",
       "      <td>0.094976</td>\n",
       "      <td>kendall</td>\n",
       "    </tr>\n",
       "    <tr>\n",
       "      <th>weight</th>\n",
       "      <td>-0.063740</td>\n",
       "      <td>1.000000</td>\n",
       "      <td>0.539760</td>\n",
       "      <td>kendall</td>\n",
       "    </tr>\n",
       "    <tr>\n",
       "      <th>height</th>\n",
       "      <td>0.094976</td>\n",
       "      <td>0.539760</td>\n",
       "      <td>1.000000</td>\n",
       "      <td>kendall</td>\n",
       "    </tr>\n",
       "    <tr>\n",
       "      <th>birth_year</th>\n",
       "      <td>1.000000</td>\n",
       "      <td>-0.104242</td>\n",
       "      <td>0.154252</td>\n",
       "      <td>pearson</td>\n",
       "    </tr>\n",
       "    <tr>\n",
       "      <th>weight</th>\n",
       "      <td>-0.104242</td>\n",
       "      <td>1.000000</td>\n",
       "      <td>0.720732</td>\n",
       "      <td>pearson</td>\n",
       "    </tr>\n",
       "    <tr>\n",
       "      <th>height</th>\n",
       "      <td>0.154252</td>\n",
       "      <td>0.720732</td>\n",
       "      <td>1.000000</td>\n",
       "      <td>pearson</td>\n",
       "    </tr>\n",
       "    <tr>\n",
       "      <th>birth_year</th>\n",
       "      <td>1.000000</td>\n",
       "      <td>-0.091220</td>\n",
       "      <td>0.137001</td>\n",
       "      <td>spearman</td>\n",
       "    </tr>\n",
       "    <tr>\n",
       "      <th>weight</th>\n",
       "      <td>-0.091220</td>\n",
       "      <td>1.000000</td>\n",
       "      <td>0.705189</td>\n",
       "      <td>spearman</td>\n",
       "    </tr>\n",
       "    <tr>\n",
       "      <th>height</th>\n",
       "      <td>0.137001</td>\n",
       "      <td>0.705189</td>\n",
       "      <td>1.000000</td>\n",
       "      <td>spearman</td>\n",
       "    </tr>\n",
       "  </tbody>\n",
       "</table>\n",
       "</div>"
      ],
      "text/plain": [
       "            birth_year    weight    height correlation_type\n",
       "birth_year    1.000000 -0.063740  0.094976          kendall\n",
       "weight       -0.063740  1.000000  0.539760          kendall\n",
       "height        0.094976  0.539760  1.000000          kendall\n",
       "birth_year    1.000000 -0.104242  0.154252          pearson\n",
       "weight       -0.104242  1.000000  0.720732          pearson\n",
       "height        0.154252  0.720732  1.000000          pearson\n",
       "birth_year    1.000000 -0.091220  0.137001         spearman\n",
       "weight       -0.091220  1.000000  0.705189         spearman\n",
       "height        0.137001  0.705189  1.000000         spearman"
      ]
     },
     "execution_count": 40,
     "metadata": {},
     "output_type": "execute_result"
    }
   ],
   "source": [
    "# Correlations Original Cyclists Dataset\n",
    "normalized_cyclists_dataset, normalization_scalers_cyclists = center_and_scale(cyclists_dataset)\n",
    "correlations_cyclists = correlations(normalized_cyclists_dataset)\n",
    "correlations_cyclists"
   ]
  },
  {
   "cell_type": "code",
   "execution_count": 41,
   "metadata": {},
   "outputs": [
    {
     "data": {
      "text/plain": [
       "<seaborn.axisgrid.FacetGrid at 0x12564f320>"
      ]
     },
     "execution_count": 41,
     "metadata": {},
     "output_type": "execute_result"
    },
    {
     "data": {
      "image/png": "[encoded data removed]",
      "text/plain": [
       "<Figure size 900x300 with 6 Axes>"
      ]
     },
     "metadata": {},
     "output_type": "display_data"
    }
   ],
   "source": [
    "g = sb.FacetGrid(correlations_cyclists, col=\"correlation_type\")\n",
    "g.map_dataframe(lambda data, color: sb.heatmap(data[data.columns[:-1]]))"
   ]
  },
  {
   "cell_type": "code",
   "execution_count": 42,
   "metadata": {},
   "outputs": [
    {
     "data": {
      "text/html": [
       "<div>\n",
       "<style scoped>\n",
       "    .dataframe tbody tr th:only-of-type {\n",
       "        vertical-align: middle;\n",
       "    }\n",
       "\n",
       "    .dataframe tbody tr th {\n",
       "        vertical-align: top;\n",
       "    }\n",
       "\n",
       "    .dataframe thead th {\n",
       "        text-align: right;\n",
       "    }\n",
       "</style>\n",
       "<table border=\"1\" class=\"dataframe\">\n",
       "  <thead>\n",
       "    <tr style=\"text-align: right;\">\n",
       "      <th></th>\n",
       "      <th>points</th>\n",
       "      <th>uci_points</th>\n",
       "      <th>length</th>\n",
       "      <th>climb_total</th>\n",
       "      <th>profile</th>\n",
       "      <th>startlist_quality</th>\n",
       "      <th>average_temperature</th>\n",
       "      <th>position</th>\n",
       "      <th>cyclist_age</th>\n",
       "      <th>delta</th>\n",
       "      <th>correlation_type</th>\n",
       "    </tr>\n",
       "  </thead>\n",
       "  <tbody>\n",
       "    <tr>\n",
       "      <th>points</th>\n",
       "      <td>1.000000</td>\n",
       "      <td>0.486830</td>\n",
       "      <td>0.283637</td>\n",
       "      <td>0.044915</td>\n",
       "      <td>-0.097831</td>\n",
       "      <td>0.387373</td>\n",
       "      <td>0.153829</td>\n",
       "      <td>0.011531</td>\n",
       "      <td>-0.005476</td>\n",
       "      <td>0.068592</td>\n",
       "      <td>kendall</td>\n",
       "    </tr>\n",
       "    <tr>\n",
       "      <th>uci_points</th>\n",
       "      <td>0.486830</td>\n",
       "      <td>1.000000</td>\n",
       "      <td>0.098587</td>\n",
       "      <td>0.046858</td>\n",
       "      <td>-0.000465</td>\n",
       "      <td>0.007000</td>\n",
       "      <td>0.066502</td>\n",
       "      <td>-0.023719</td>\n",
       "      <td>0.007526</td>\n",
       "      <td>0.070373</td>\n",
       "      <td>kendall</td>\n",
       "    </tr>\n",
       "    <tr>\n",
       "      <th>length</th>\n",
       "      <td>0.283637</td>\n",
       "      <td>0.098587</td>\n",
       "      <td>1.000000</td>\n",
       "      <td>0.285099</td>\n",
       "      <td>0.017441</td>\n",
       "      <td>0.064082</td>\n",
       "      <td>-0.095313</td>\n",
       "      <td>-0.015373</td>\n",
       "      <td>-0.002381</td>\n",
       "      <td>0.029217</td>\n",
       "      <td>kendall</td>\n",
       "    </tr>\n",
       "    <tr>\n",
       "      <th>climb_total</th>\n",
       "      <td>0.044915</td>\n",
       "      <td>0.046858</td>\n",
       "      <td>0.285099</td>\n",
       "      <td>1.000000</td>\n",
       "      <td>0.578126</td>\n",
       "      <td>0.009066</td>\n",
       "      <td>-0.079710</td>\n",
       "      <td>-0.023858</td>\n",
       "      <td>0.005533</td>\n",
       "      <td>0.356194</td>\n",
       "      <td>kendall</td>\n",
       "    </tr>\n",
       "    <tr>\n",
       "      <th>profile</th>\n",
       "      <td>-0.097831</td>\n",
       "      <td>-0.000465</td>\n",
       "      <td>0.017441</td>\n",
       "      <td>0.578126</td>\n",
       "      <td>1.000000</td>\n",
       "      <td>-0.092412</td>\n",
       "      <td>-0.020977</td>\n",
       "      <td>-0.018424</td>\n",
       "      <td>0.005635</td>\n",
       "      <td>0.420183</td>\n",
       "      <td>kendall</td>\n",
       "    </tr>\n",
       "    <tr>\n",
       "      <th>startlist_quality</th>\n",
       "      <td>0.387373</td>\n",
       "      <td>0.007000</td>\n",
       "      <td>0.064082</td>\n",
       "      <td>0.009066</td>\n",
       "      <td>-0.092412</td>\n",
       "      <td>1.000000</td>\n",
       "      <td>0.218390</td>\n",
       "      <td>0.097527</td>\n",
       "      <td>0.033589</td>\n",
       "      <td>0.032290</td>\n",
       "      <td>kendall</td>\n",
       "    </tr>\n",
       "    <tr>\n",
       "      <th>average_temperature</th>\n",
       "      <td>0.153829</td>\n",
       "      <td>0.066502</td>\n",
       "      <td>-0.095313</td>\n",
       "      <td>-0.079710</td>\n",
       "      <td>-0.020977</td>\n",
       "      <td>0.218390</td>\n",
       "      <td>1.000000</td>\n",
       "      <td>0.015593</td>\n",
       "      <td>0.033887</td>\n",
       "      <td>0.023630</td>\n",
       "      <td>kendall</td>\n",
       "    </tr>\n",
       "    <tr>\n",
       "      <th>position</th>\n",
       "      <td>0.011531</td>\n",
       "      <td>-0.023719</td>\n",
       "      <td>-0.015373</td>\n",
       "      <td>-0.023858</td>\n",
       "      <td>-0.018424</td>\n",
       "      <td>0.097527</td>\n",
       "      <td>0.015593</td>\n",
       "      <td>1.000000</td>\n",
       "      <td>0.006378</td>\n",
       "      <td>0.296542</td>\n",
       "      <td>kendall</td>\n",
       "    </tr>\n",
       "    <tr>\n",
       "      <th>cyclist_age</th>\n",
       "      <td>-0.005476</td>\n",
       "      <td>0.007526</td>\n",
       "      <td>-0.002381</td>\n",
       "      <td>0.005533</td>\n",
       "      <td>0.005635</td>\n",
       "      <td>0.033589</td>\n",
       "      <td>0.033887</td>\n",
       "      <td>0.006378</td>\n",
       "      <td>1.000000</td>\n",
       "      <td>-0.002685</td>\n",
       "      <td>kendall</td>\n",
       "    </tr>\n",
       "    <tr>\n",
       "      <th>delta</th>\n",
       "      <td>0.068592</td>\n",
       "      <td>0.070373</td>\n",
       "      <td>0.029217</td>\n",
       "      <td>0.356194</td>\n",
       "      <td>0.420183</td>\n",
       "      <td>0.032290</td>\n",
       "      <td>0.023630</td>\n",
       "      <td>0.296542</td>\n",
       "      <td>-0.002685</td>\n",
       "      <td>1.000000</td>\n",
       "      <td>kendall</td>\n",
       "    </tr>\n",
       "    <tr>\n",
       "      <th>points</th>\n",
       "      <td>1.000000</td>\n",
       "      <td>0.856051</td>\n",
       "      <td>0.406921</td>\n",
       "      <td>0.110904</td>\n",
       "      <td>-0.106535</td>\n",
       "      <td>0.170652</td>\n",
       "      <td>-0.119733</td>\n",
       "      <td>-0.079777</td>\n",
       "      <td>-0.014525</td>\n",
       "      <td>0.005707</td>\n",
       "      <td>pearson</td>\n",
       "    </tr>\n",
       "    <tr>\n",
       "      <th>uci_points</th>\n",
       "      <td>0.856051</td>\n",
       "      <td>1.000000</td>\n",
       "      <td>0.261808</td>\n",
       "      <td>0.091693</td>\n",
       "      <td>-0.071257</td>\n",
       "      <td>-0.014024</td>\n",
       "      <td>-0.185166</td>\n",
       "      <td>-0.083119</td>\n",
       "      <td>-0.004159</td>\n",
       "      <td>0.018881</td>\n",
       "      <td>pearson</td>\n",
       "    </tr>\n",
       "    <tr>\n",
       "      <th>length</th>\n",
       "      <td>0.406921</td>\n",
       "      <td>0.261808</td>\n",
       "      <td>1.000000</td>\n",
       "      <td>0.520616</td>\n",
       "      <td>0.088873</td>\n",
       "      <td>0.073952</td>\n",
       "      <td>-0.070199</td>\n",
       "      <td>-0.012024</td>\n",
       "      <td>0.003442</td>\n",
       "      <td>0.092850</td>\n",
       "      <td>pearson</td>\n",
       "    </tr>\n",
       "    <tr>\n",
       "      <th>climb_total</th>\n",
       "      <td>0.110904</td>\n",
       "      <td>0.091693</td>\n",
       "      <td>0.520616</td>\n",
       "      <td>1.000000</td>\n",
       "      <td>0.708374</td>\n",
       "      <td>0.041969</td>\n",
       "      <td>-0.128367</td>\n",
       "      <td>-0.040156</td>\n",
       "      <td>0.007315</td>\n",
       "      <td>0.371062</td>\n",
       "      <td>pearson</td>\n",
       "    </tr>\n",
       "    <tr>\n",
       "      <th>profile</th>\n",
       "      <td>-0.106535</td>\n",
       "      <td>-0.071257</td>\n",
       "      <td>0.088873</td>\n",
       "      <td>0.708374</td>\n",
       "      <td>1.000000</td>\n",
       "      <td>-0.087865</td>\n",
       "      <td>-0.001292</td>\n",
       "      <td>-0.025425</td>\n",
       "      <td>0.008635</td>\n",
       "      <td>0.360759</td>\n",
       "      <td>pearson</td>\n",
       "    </tr>\n",
       "    <tr>\n",
       "      <th>startlist_quality</th>\n",
       "      <td>0.170652</td>\n",
       "      <td>-0.014024</td>\n",
       "      <td>0.073952</td>\n",
       "      <td>0.041969</td>\n",
       "      <td>-0.087865</td>\n",
       "      <td>1.000000</td>\n",
       "      <td>0.363821</td>\n",
       "      <td>0.147667</td>\n",
       "      <td>0.039392</td>\n",
       "      <td>0.045315</td>\n",
       "      <td>pearson</td>\n",
       "    </tr>\n",
       "    <tr>\n",
       "      <th>average_temperature</th>\n",
       "      <td>-0.119733</td>\n",
       "      <td>-0.185166</td>\n",
       "      <td>-0.070199</td>\n",
       "      <td>-0.128367</td>\n",
       "      <td>-0.001292</td>\n",
       "      <td>0.363821</td>\n",
       "      <td>1.000000</td>\n",
       "      <td>0.022707</td>\n",
       "      <td>0.040716</td>\n",
       "      <td>0.056668</td>\n",
       "      <td>pearson</td>\n",
       "    </tr>\n",
       "    <tr>\n",
       "      <th>position</th>\n",
       "      <td>-0.079777</td>\n",
       "      <td>-0.083119</td>\n",
       "      <td>-0.012024</td>\n",
       "      <td>-0.040156</td>\n",
       "      <td>-0.025425</td>\n",
       "      <td>0.147667</td>\n",
       "      <td>0.022707</td>\n",
       "      <td>1.000000</td>\n",
       "      <td>0.011984</td>\n",
       "      <td>0.272020</td>\n",
       "      <td>pearson</td>\n",
       "    </tr>\n",
       "    <tr>\n",
       "      <th>cyclist_age</th>\n",
       "      <td>-0.014525</td>\n",
       "      <td>-0.004159</td>\n",
       "      <td>0.003442</td>\n",
       "      <td>0.007315</td>\n",
       "      <td>0.008635</td>\n",
       "      <td>0.039392</td>\n",
       "      <td>0.040716</td>\n",
       "      <td>0.011984</td>\n",
       "      <td>1.000000</td>\n",
       "      <td>0.000995</td>\n",
       "      <td>pearson</td>\n",
       "    </tr>\n",
       "    <tr>\n",
       "      <th>delta</th>\n",
       "      <td>0.005707</td>\n",
       "      <td>0.018881</td>\n",
       "      <td>0.092850</td>\n",
       "      <td>0.371062</td>\n",
       "      <td>0.360759</td>\n",
       "      <td>0.045315</td>\n",
       "      <td>0.056668</td>\n",
       "      <td>0.272020</td>\n",
       "      <td>0.000995</td>\n",
       "      <td>1.000000</td>\n",
       "      <td>pearson</td>\n",
       "    </tr>\n",
       "    <tr>\n",
       "      <th>points</th>\n",
       "      <td>1.000000</td>\n",
       "      <td>0.536878</td>\n",
       "      <td>0.366900</td>\n",
       "      <td>0.056693</td>\n",
       "      <td>-0.120791</td>\n",
       "      <td>0.498615</td>\n",
       "      <td>0.190969</td>\n",
       "      <td>0.015360</td>\n",
       "      <td>-0.007194</td>\n",
       "      <td>0.091542</td>\n",
       "      <td>spearman</td>\n",
       "    </tr>\n",
       "    <tr>\n",
       "      <th>uci_points</th>\n",
       "      <td>0.536878</td>\n",
       "      <td>1.000000</td>\n",
       "      <td>0.137716</td>\n",
       "      <td>0.065214</td>\n",
       "      <td>0.000485</td>\n",
       "      <td>0.008186</td>\n",
       "      <td>0.084022</td>\n",
       "      <td>-0.033446</td>\n",
       "      <td>0.010222</td>\n",
       "      <td>0.098352</td>\n",
       "      <td>spearman</td>\n",
       "    </tr>\n",
       "    <tr>\n",
       "      <th>length</th>\n",
       "      <td>0.366900</td>\n",
       "      <td>0.137716</td>\n",
       "      <td>1.000000</td>\n",
       "      <td>0.407585</td>\n",
       "      <td>0.030906</td>\n",
       "      <td>0.095439</td>\n",
       "      <td>-0.135195</td>\n",
       "      <td>-0.023251</td>\n",
       "      <td>-0.003394</td>\n",
       "      <td>0.036094</td>\n",
       "      <td>spearman</td>\n",
       "    </tr>\n",
       "    <tr>\n",
       "      <th>climb_total</th>\n",
       "      <td>0.056693</td>\n",
       "      <td>0.065214</td>\n",
       "      <td>0.407585</td>\n",
       "      <td>1.000000</td>\n",
       "      <td>0.725782</td>\n",
       "      <td>0.012301</td>\n",
       "      <td>-0.119940</td>\n",
       "      <td>-0.035654</td>\n",
       "      <td>0.008018</td>\n",
       "      <td>0.515133</td>\n",
       "      <td>spearman</td>\n",
       "    </tr>\n",
       "    <tr>\n",
       "      <th>profile</th>\n",
       "      <td>-0.120791</td>\n",
       "      <td>0.000485</td>\n",
       "      <td>0.030906</td>\n",
       "      <td>0.725782</td>\n",
       "      <td>1.000000</td>\n",
       "      <td>-0.126398</td>\n",
       "      <td>-0.033631</td>\n",
       "      <td>-0.024964</td>\n",
       "      <td>0.007414</td>\n",
       "      <td>0.547277</td>\n",
       "      <td>spearman</td>\n",
       "    </tr>\n",
       "    <tr>\n",
       "      <th>startlist_quality</th>\n",
       "      <td>0.498615</td>\n",
       "      <td>0.008186</td>\n",
       "      <td>0.095439</td>\n",
       "      <td>0.012301</td>\n",
       "      <td>-0.126398</td>\n",
       "      <td>1.000000</td>\n",
       "      <td>0.308675</td>\n",
       "      <td>0.144739</td>\n",
       "      <td>0.048926</td>\n",
       "      <td>0.047456</td>\n",
       "      <td>spearman</td>\n",
       "    </tr>\n",
       "    <tr>\n",
       "      <th>average_temperature</th>\n",
       "      <td>0.190969</td>\n",
       "      <td>0.084022</td>\n",
       "      <td>-0.135195</td>\n",
       "      <td>-0.119940</td>\n",
       "      <td>-0.033631</td>\n",
       "      <td>0.308675</td>\n",
       "      <td>1.000000</td>\n",
       "      <td>0.022949</td>\n",
       "      <td>0.048218</td>\n",
       "      <td>0.035127</td>\n",
       "      <td>spearman</td>\n",
       "    </tr>\n",
       "    <tr>\n",
       "      <th>position</th>\n",
       "      <td>0.015360</td>\n",
       "      <td>-0.033446</td>\n",
       "      <td>-0.023251</td>\n",
       "      <td>-0.035654</td>\n",
       "      <td>-0.024964</td>\n",
       "      <td>0.144739</td>\n",
       "      <td>0.022949</td>\n",
       "      <td>1.000000</td>\n",
       "      <td>0.008884</td>\n",
       "      <td>0.425427</td>\n",
       "      <td>spearman</td>\n",
       "    </tr>\n",
       "    <tr>\n",
       "      <th>cyclist_age</th>\n",
       "      <td>-0.007194</td>\n",
       "      <td>0.010222</td>\n",
       "      <td>-0.003394</td>\n",
       "      <td>0.008018</td>\n",
       "      <td>0.007414</td>\n",
       "      <td>0.048926</td>\n",
       "      <td>0.048218</td>\n",
       "      <td>0.008884</td>\n",
       "      <td>1.000000</td>\n",
       "      <td>-0.003843</td>\n",
       "      <td>spearman</td>\n",
       "    </tr>\n",
       "    <tr>\n",
       "      <th>delta</th>\n",
       "      <td>0.091542</td>\n",
       "      <td>0.098352</td>\n",
       "      <td>0.036094</td>\n",
       "      <td>0.515133</td>\n",
       "      <td>0.547277</td>\n",
       "      <td>0.047456</td>\n",
       "      <td>0.035127</td>\n",
       "      <td>0.425427</td>\n",
       "      <td>-0.003843</td>\n",
       "      <td>1.000000</td>\n",
       "      <td>spearman</td>\n",
       "    </tr>\n",
       "  </tbody>\n",
       "</table>\n",
       "</div>"
      ],
      "text/plain": [
       "                       points  uci_points    length  climb_total   profile  \\\n",
       "points               1.000000    0.486830  0.283637     0.044915 -0.097831   \n",
       "uci_points           0.486830    1.000000  0.098587     0.046858 -0.000465   \n",
       "length               0.283637    0.098587  1.000000     0.285099  0.017441   \n",
       "climb_total          0.044915    0.046858  0.285099     1.000000  0.578126   \n",
       "profile             -0.097831   -0.000465  0.017441     0.578126  1.000000   \n",
       "startlist_quality    0.387373    0.007000  0.064082     0.009066 -0.092412   \n",
       "average_temperature  0.153829    0.066502 -0.095313    -0.079710 -0.020977   \n",
       "position             0.011531   -0.023719 -0.015373    -0.023858 -0.018424   \n",
       "cyclist_age         -0.005476    0.007526 -0.002381     0.005533  0.005635   \n",
       "delta                0.068592    0.070373  0.029217     0.356194  0.420183   \n",
       "points               1.000000    0.856051  0.406921     0.110904 -0.106535   \n",
       "uci_points           0.856051    1.000000  0.261808     0.091693 -0.071257   \n",
       "length               0.406921    0.261808  1.000000     0.520616  0.088873   \n",
       "climb_total          0.110904    0.091693  0.520616     1.000000  0.708374   \n",
       "profile             -0.106535   -0.071257  0.088873     0.708374  1.000000   \n",
       "startlist_quality    0.170652   -0.014024  0.073952     0.041969 -0.087865   \n",
       "average_temperature -0.119733   -0.185166 -0.070199    -0.128367 -0.001292   \n",
       "position            -0.079777   -0.083119 -0.012024    -0.040156 -0.025425   \n",
       "cyclist_age         -0.014525   -0.004159  0.003442     0.007315  0.008635   \n",
       "delta                0.005707    0.018881  0.092850     0.371062  0.360759   \n",
       "points               1.000000    0.536878  0.366900     0.056693 -0.120791   \n",
       "uci_points           0.536878    1.000000  0.137716     0.065214  0.000485   \n",
       "length               0.366900    0.137716  1.000000     0.407585  0.030906   \n",
       "climb_total          0.056693    0.065214  0.407585     1.000000  0.725782   \n",
       "profile             -0.120791    0.000485  0.030906     0.725782  1.000000   \n",
       "startlist_quality    0.498615    0.008186  0.095439     0.012301 -0.126398   \n",
       "average_temperature  0.190969    0.084022 -0.135195    -0.119940 -0.033631   \n",
       "position             0.015360   -0.033446 -0.023251    -0.035654 -0.024964   \n",
       "cyclist_age         -0.007194    0.010222 -0.003394     0.008018  0.007414   \n",
       "delta                0.091542    0.098352  0.036094     0.515133  0.547277   \n",
       "\n",
       "                     startlist_quality  average_temperature  position  \\\n",
       "points                        0.387373             0.153829  0.011531   \n",
       "uci_points                    0.007000             0.066502 -0.023719   \n",
       "length                        0.064082            -0.095313 -0.015373   \n",
       "climb_total                   0.009066            -0.079710 -0.023858   \n",
       "profile                      -0.092412            -0.020977 -0.018424   \n",
       "startlist_quality             1.000000             0.218390  0.097527   \n",
       "average_temperature           0.218390             1.000000  0.015593   \n",
       "position                      0.097527             0.015593  1.000000   \n",
       "cyclist_age                   0.033589             0.033887  0.006378   \n",
       "delta                         0.032290             0.023630  0.296542   \n",
       "points                        0.170652            -0.119733 -0.079777   \n",
       "uci_points                   -0.014024            -0.185166 -0.083119   \n",
       "length                        0.073952            -0.070199 -0.012024   \n",
       "climb_total                   0.041969            -0.128367 -0.040156   \n",
       "profile                      -0.087865            -0.001292 -0.025425   \n",
       "startlist_quality             1.000000             0.363821  0.147667   \n",
       "average_temperature           0.363821             1.000000  0.022707   \n",
       "position                      0.147667             0.022707  1.000000   \n",
       "cyclist_age                   0.039392             0.040716  0.011984   \n",
       "delta                         0.045315             0.056668  0.272020   \n",
       "points                        0.498615             0.190969  0.015360   \n",
       "uci_points                    0.008186             0.084022 -0.033446   \n",
       "length                        0.095439            -0.135195 -0.023251   \n",
       "climb_total                   0.012301            -0.119940 -0.035654   \n",
       "profile                      -0.126398            -0.033631 -0.024964   \n",
       "startlist_quality             1.000000             0.308675  0.144739   \n",
       "average_temperature           0.308675             1.000000  0.022949   \n",
       "position                      0.144739             0.022949  1.000000   \n",
       "cyclist_age                   0.048926             0.048218  0.008884   \n",
       "delta                         0.047456             0.035127  0.425427   \n",
       "\n",
       "                     cyclist_age     delta correlation_type  \n",
       "points                 -0.005476  0.068592          kendall  \n",
       "uci_points              0.007526  0.070373          kendall  \n",
       "length                 -0.002381  0.029217          kendall  \n",
       "climb_total             0.005533  0.356194          kendall  \n",
       "profile                 0.005635  0.420183          kendall  \n",
       "startlist_quality       0.033589  0.032290          kendall  \n",
       "average_temperature     0.033887  0.023630          kendall  \n",
       "position                0.006378  0.296542          kendall  \n",
       "cyclist_age             1.000000 -0.002685          kendall  \n",
       "delta                  -0.002685  1.000000          kendall  \n",
       "points                 -0.014525  0.005707          pearson  \n",
       "uci_points             -0.004159  0.018881          pearson  \n",
       "length                  0.003442  0.092850          pearson  \n",
       "climb_total             0.007315  0.371062          pearson  \n",
       "profile                 0.008635  0.360759          pearson  \n",
       "startlist_quality       0.039392  0.045315          pearson  \n",
       "average_temperature     0.040716  0.056668          pearson  \n",
       "position                0.011984  0.272020          pearson  \n",
       "cyclist_age             1.000000  0.000995          pearson  \n",
       "delta                   0.000995  1.000000          pearson  \n",
       "points                 -0.007194  0.091542         spearman  \n",
       "uci_points              0.010222  0.098352         spearman  \n",
       "length                 -0.003394  0.036094         spearman  \n",
       "climb_total             0.008018  0.515133         spearman  \n",
       "profile                 0.007414  0.547277         spearman  \n",
       "startlist_quality       0.048926  0.047456         spearman  \n",
       "average_temperature     0.048218  0.035127         spearman  \n",
       "position                0.008884  0.425427         spearman  \n",
       "cyclist_age             1.000000 -0.003843         spearman  \n",
       "delta                  -0.003843  1.000000         spearman  "
      ]
     },
     "execution_count": 42,
     "metadata": {},
     "output_type": "execute_result"
    }
   ],
   "source": [
    "# Correlations Original Races Dataset\n",
    "normalized_races_dataset, normalization_scalers_races = center_and_scale(races_dataset)\n",
    "correlations_races = correlations(normalized_races_dataset)\n",
    "correlations_races\n"
   ]
  },
  {
   "cell_type": "code",
   "execution_count": 43,
   "metadata": {},
   "outputs": [
    {
     "data": {
      "text/plain": [
       "<seaborn.axisgrid.FacetGrid at 0x126654140>"
      ]
     },
     "execution_count": 43,
     "metadata": {},
     "output_type": "execute_result"
    },
    {
     "data": {
      "image/png": "[encoded data removed]",
      "text/plain": [
       "<Figure size 900x300 with 6 Axes>"
      ]
     },
     "metadata": {},
     "output_type": "display_data"
    }
   ],
   "source": [
    "g = sb.FacetGrid(correlations_races, col=\"correlation_type\")\n",
    "g.map_dataframe(lambda data, color: sb.heatmap(data[data.columns[:-1]]))"
   ]
  },
  {
   "cell_type": "code",
   "execution_count": 44,
   "metadata": {},
   "outputs": [
    {
     "data": {
      "text/html": [
       "<div>\n",
       "<style scoped>\n",
       "    .dataframe tbody tr th:only-of-type {\n",
       "        vertical-align: middle;\n",
       "    }\n",
       "\n",
       "    .dataframe tbody tr th {\n",
       "        vertical-align: top;\n",
       "    }\n",
       "\n",
       "    .dataframe thead th {\n",
       "        text-align: right;\n",
       "    }\n",
       "</style>\n",
       "<table border=\"1\" class=\"dataframe\">\n",
       "  <thead>\n",
       "    <tr style=\"text-align: right;\">\n",
       "      <th></th>\n",
       "      <th>birth_year</th>\n",
       "      <th>weight</th>\n",
       "      <th>height</th>\n",
       "      <th>points</th>\n",
       "      <th>uci_points</th>\n",
       "      <th>length</th>\n",
       "      <th>climb_total</th>\n",
       "      <th>profile</th>\n",
       "      <th>startlist_quality</th>\n",
       "      <th>position</th>\n",
       "      <th>cyclist_age</th>\n",
       "      <th>delta</th>\n",
       "      <th>race_year</th>\n",
       "      <th>correlation_type</th>\n",
       "    </tr>\n",
       "  </thead>\n",
       "  <tbody>\n",
       "    <tr>\n",
       "      <th>birth_year</th>\n",
       "      <td>1.000000</td>\n",
       "      <td>-0.045815</td>\n",
       "      <td>0.084267</td>\n",
       "      <td>-0.188950</td>\n",
       "      <td>0.343416</td>\n",
       "      <td>-0.063052</td>\n",
       "      <td>0.050522</td>\n",
       "      <td>0.124779</td>\n",
       "      <td>-0.143592</td>\n",
       "      <td>0.086474</td>\n",
       "      <td>-0.144127</td>\n",
       "      <td>0.080669</td>\n",
       "      <td>0.797947</td>\n",
       "      <td>kendall</td>\n",
       "    </tr>\n",
       "    <tr>\n",
       "      <th>weight</th>\n",
       "      <td>-0.045815</td>\n",
       "      <td>1.000000</td>\n",
       "      <td>0.563195</td>\n",
       "      <td>0.053643</td>\n",
       "      <td>0.030793</td>\n",
       "      <td>0.032437</td>\n",
       "      <td>-0.024951</td>\n",
       "      <td>-0.032249</td>\n",
       "      <td>0.038300</td>\n",
       "      <td>0.082839</td>\n",
       "      <td>0.038231</td>\n",
       "      <td>0.071599</td>\n",
       "      <td>-0.029891</td>\n",
       "      <td>kendall</td>\n",
       "    </tr>\n",
       "    <tr>\n",
       "      <th>height</th>\n",
       "      <td>0.084267</td>\n",
       "      <td>0.563195</td>\n",
       "      <td>1.000000</td>\n",
       "      <td>0.011802</td>\n",
       "      <td>0.058356</td>\n",
       "      <td>0.009892</td>\n",
       "      <td>-0.005549</td>\n",
       "      <td>-0.000033</td>\n",
       "      <td>0.007022</td>\n",
       "      <td>0.068314</td>\n",
       "      <td>-0.008612</td>\n",
       "      <td>0.057979</td>\n",
       "      <td>0.085670</td>\n",
       "      <td>kendall</td>\n",
       "    </tr>\n",
       "    <tr>\n",
       "      <th>points</th>\n",
       "      <td>-0.188950</td>\n",
       "      <td>0.053643</td>\n",
       "      <td>0.011802</td>\n",
       "      <td>1.000000</td>\n",
       "      <td>0.550895</td>\n",
       "      <td>0.283126</td>\n",
       "      <td>0.041525</td>\n",
       "      <td>-0.075127</td>\n",
       "      <td>0.387596</td>\n",
       "      <td>0.011434</td>\n",
       "      <td>-0.005472</td>\n",
       "      <td>0.069104</td>\n",
       "      <td>-0.184945</td>\n",
       "      <td>kendall</td>\n",
       "    </tr>\n",
       "    <tr>\n",
       "      <th>uci_points</th>\n",
       "      <td>0.343416</td>\n",
       "      <td>0.030793</td>\n",
       "      <td>0.058356</td>\n",
       "      <td>0.550895</td>\n",
       "      <td>1.000000</td>\n",
       "      <td>0.171325</td>\n",
       "      <td>0.054611</td>\n",
       "      <td>0.030337</td>\n",
       "      <td>0.100071</td>\n",
       "      <td>-0.018360</td>\n",
       "      <td>0.018996</td>\n",
       "      <td>0.083091</td>\n",
       "      <td>0.416651</td>\n",
       "      <td>kendall</td>\n",
       "    </tr>\n",
       "    <tr>\n",
       "      <th>length</th>\n",
       "      <td>-0.063052</td>\n",
       "      <td>0.032437</td>\n",
       "      <td>0.009892</td>\n",
       "      <td>0.283126</td>\n",
       "      <td>0.171325</td>\n",
       "      <td>1.000000</td>\n",
       "      <td>0.265561</td>\n",
       "      <td>0.041135</td>\n",
       "      <td>0.064064</td>\n",
       "      <td>-0.015397</td>\n",
       "      <td>-0.002384</td>\n",
       "      <td>0.029699</td>\n",
       "      <td>-0.062855</td>\n",
       "      <td>kendall</td>\n",
       "    </tr>\n",
       "    <tr>\n",
       "      <th>climb_total</th>\n",
       "      <td>0.050522</td>\n",
       "      <td>-0.024951</td>\n",
       "      <td>-0.005549</td>\n",
       "      <td>0.041525</td>\n",
       "      <td>0.054611</td>\n",
       "      <td>0.265561</td>\n",
       "      <td>1.000000</td>\n",
       "      <td>0.605717</td>\n",
       "      <td>0.009080</td>\n",
       "      <td>-0.022638</td>\n",
       "      <td>0.004191</td>\n",
       "      <td>0.352303</td>\n",
       "      <td>0.054391</td>\n",
       "      <td>kendall</td>\n",
       "    </tr>\n",
       "    <tr>\n",
       "      <th>profile</th>\n",
       "      <td>0.124779</td>\n",
       "      <td>-0.032249</td>\n",
       "      <td>-0.000033</td>\n",
       "      <td>-0.075127</td>\n",
       "      <td>0.030337</td>\n",
       "      <td>0.041135</td>\n",
       "      <td>0.605717</td>\n",
       "      <td>1.000000</td>\n",
       "      <td>-0.083554</td>\n",
       "      <td>-0.022523</td>\n",
       "      <td>0.008102</td>\n",
       "      <td>0.412745</td>\n",
       "      <td>0.132006</td>\n",
       "      <td>kendall</td>\n",
       "    </tr>\n",
       "    <tr>\n",
       "      <th>startlist_quality</th>\n",
       "      <td>-0.143592</td>\n",
       "      <td>0.038300</td>\n",
       "      <td>0.007022</td>\n",
       "      <td>0.387596</td>\n",
       "      <td>0.100071</td>\n",
       "      <td>0.064064</td>\n",
       "      <td>0.009080</td>\n",
       "      <td>-0.083554</td>\n",
       "      <td>1.000000</td>\n",
       "      <td>0.097512</td>\n",
       "      <td>0.033595</td>\n",
       "      <td>0.032480</td>\n",
       "      <td>-0.137662</td>\n",
       "      <td>kendall</td>\n",
       "    </tr>\n",
       "    <tr>\n",
       "      <th>position</th>\n",
       "      <td>0.086474</td>\n",
       "      <td>0.082839</td>\n",
       "      <td>0.068314</td>\n",
       "      <td>0.011434</td>\n",
       "      <td>-0.018360</td>\n",
       "      <td>-0.015397</td>\n",
       "      <td>-0.022638</td>\n",
       "      <td>-0.022523</td>\n",
       "      <td>0.097512</td>\n",
       "      <td>1.000000</td>\n",
       "      <td>0.006373</td>\n",
       "      <td>0.299288</td>\n",
       "      <td>0.085453</td>\n",
       "      <td>kendall</td>\n",
       "    </tr>\n",
       "    <tr>\n",
       "      <th>cyclist_age</th>\n",
       "      <td>-0.144127</td>\n",
       "      <td>0.038231</td>\n",
       "      <td>-0.008612</td>\n",
       "      <td>-0.005472</td>\n",
       "      <td>0.018996</td>\n",
       "      <td>-0.002384</td>\n",
       "      <td>0.004191</td>\n",
       "      <td>0.008102</td>\n",
       "      <td>0.033595</td>\n",
       "      <td>0.006373</td>\n",
       "      <td>1.000000</td>\n",
       "      <td>-0.002829</td>\n",
       "      <td>0.088183</td>\n",
       "      <td>kendall</td>\n",
       "    </tr>\n",
       "    <tr>\n",
       "      <th>delta</th>\n",
       "      <td>0.080669</td>\n",
       "      <td>0.071599</td>\n",
       "      <td>0.057979</td>\n",
       "      <td>0.069104</td>\n",
       "      <td>0.083091</td>\n",
       "      <td>0.029699</td>\n",
       "      <td>0.352303</td>\n",
       "      <td>0.412745</td>\n",
       "      <td>0.032480</td>\n",
       "      <td>0.299288</td>\n",
       "      <td>-0.002829</td>\n",
       "      <td>1.000000</td>\n",
       "      <td>0.082671</td>\n",
       "      <td>kendall</td>\n",
       "    </tr>\n",
       "    <tr>\n",
       "      <th>race_year</th>\n",
       "      <td>0.797947</td>\n",
       "      <td>-0.029891</td>\n",
       "      <td>0.085670</td>\n",
       "      <td>-0.184945</td>\n",
       "      <td>0.416651</td>\n",
       "      <td>-0.062855</td>\n",
       "      <td>0.054391</td>\n",
       "      <td>0.132006</td>\n",
       "      <td>-0.137662</td>\n",
       "      <td>0.085453</td>\n",
       "      <td>0.088183</td>\n",
       "      <td>0.082671</td>\n",
       "      <td>1.000000</td>\n",
       "      <td>kendall</td>\n",
       "    </tr>\n",
       "    <tr>\n",
       "      <th>birth_year</th>\n",
       "      <td>1.000000</td>\n",
       "      <td>-0.064731</td>\n",
       "      <td>0.132852</td>\n",
       "      <td>-0.152309</td>\n",
       "      <td>0.204134</td>\n",
       "      <td>-0.047962</td>\n",
       "      <td>0.038223</td>\n",
       "      <td>0.128610</td>\n",
       "      <td>-0.219978</td>\n",
       "      <td>0.137349</td>\n",
       "      <td>-0.182679</td>\n",
       "      <td>0.074427</td>\n",
       "      <td>0.943870</td>\n",
       "      <td>pearson</td>\n",
       "    </tr>\n",
       "    <tr>\n",
       "      <th>weight</th>\n",
       "      <td>-0.064731</td>\n",
       "      <td>1.000000</td>\n",
       "      <td>0.741987</td>\n",
       "      <td>0.063797</td>\n",
       "      <td>0.051195</td>\n",
       "      <td>0.033570</td>\n",
       "      <td>-0.031111</td>\n",
       "      <td>-0.039078</td>\n",
       "      <td>0.066994</td>\n",
       "      <td>0.123512</td>\n",
       "      <td>0.052771</td>\n",
       "      <td>0.068778</td>\n",
       "      <td>-0.045305</td>\n",
       "      <td>pearson</td>\n",
       "    </tr>\n",
       "    <tr>\n",
       "      <th>height</th>\n",
       "      <td>0.132852</td>\n",
       "      <td>0.741987</td>\n",
       "      <td>1.000000</td>\n",
       "      <td>0.021541</td>\n",
       "      <td>0.053111</td>\n",
       "      <td>0.012249</td>\n",
       "      <td>-0.009272</td>\n",
       "      <td>-0.002414</td>\n",
       "      <td>0.019075</td>\n",
       "      <td>0.099114</td>\n",
       "      <td>-0.010083</td>\n",
       "      <td>0.046363</td>\n",
       "      <td>0.135937</td>\n",
       "      <td>pearson</td>\n",
       "    </tr>\n",
       "    <tr>\n",
       "      <th>points</th>\n",
       "      <td>-0.152309</td>\n",
       "      <td>0.063797</td>\n",
       "      <td>0.021541</td>\n",
       "      <td>1.000000</td>\n",
       "      <td>0.887946</td>\n",
       "      <td>0.406739</td>\n",
       "      <td>0.089548</td>\n",
       "      <td>-0.052569</td>\n",
       "      <td>0.170684</td>\n",
       "      <td>-0.079787</td>\n",
       "      <td>-0.014469</td>\n",
       "      <td>0.009977</td>\n",
       "      <td>-0.157969</td>\n",
       "      <td>pearson</td>\n",
       "    </tr>\n",
       "    <tr>\n",
       "      <th>uci_points</th>\n",
       "      <td>0.204134</td>\n",
       "      <td>0.051195</td>\n",
       "      <td>0.053111</td>\n",
       "      <td>0.887946</td>\n",
       "      <td>1.000000</td>\n",
       "      <td>0.345182</td>\n",
       "      <td>0.085820</td>\n",
       "      <td>-0.052141</td>\n",
       "      <td>-0.003126</td>\n",
       "      <td>-0.099468</td>\n",
       "      <td>0.005121</td>\n",
       "      <td>-0.007079</td>\n",
       "      <td>0.240944</td>\n",
       "      <td>pearson</td>\n",
       "    </tr>\n",
       "    <tr>\n",
       "      <th>length</th>\n",
       "      <td>-0.047962</td>\n",
       "      <td>0.033570</td>\n",
       "      <td>0.012249</td>\n",
       "      <td>0.406739</td>\n",
       "      <td>0.345182</td>\n",
       "      <td>1.000000</td>\n",
       "      <td>0.496317</td>\n",
       "      <td>0.117456</td>\n",
       "      <td>0.073915</td>\n",
       "      <td>-0.012049</td>\n",
       "      <td>0.003430</td>\n",
       "      <td>0.079687</td>\n",
       "      <td>-0.047061</td>\n",
       "      <td>pearson</td>\n",
       "    </tr>\n",
       "    <tr>\n",
       "      <th>climb_total</th>\n",
       "      <td>0.038223</td>\n",
       "      <td>-0.031111</td>\n",
       "      <td>-0.009272</td>\n",
       "      <td>0.089548</td>\n",
       "      <td>0.085820</td>\n",
       "      <td>0.496317</td>\n",
       "      <td>1.000000</td>\n",
       "      <td>0.728791</td>\n",
       "      <td>0.044601</td>\n",
       "      <td>-0.038038</td>\n",
       "      <td>0.005418</td>\n",
       "      <td>0.311084</td>\n",
       "      <td>0.040791</td>\n",
       "      <td>pearson</td>\n",
       "    </tr>\n",
       "    <tr>\n",
       "      <th>profile</th>\n",
       "      <td>0.128610</td>\n",
       "      <td>-0.039078</td>\n",
       "      <td>-0.002414</td>\n",
       "      <td>-0.052569</td>\n",
       "      <td>-0.052141</td>\n",
       "      <td>0.117456</td>\n",
       "      <td>0.728791</td>\n",
       "      <td>1.000000</td>\n",
       "      <td>-0.074658</td>\n",
       "      <td>-0.031693</td>\n",
       "      <td>0.011317</td>\n",
       "      <td>0.307710</td>\n",
       "      <td>0.134820</td>\n",
       "      <td>pearson</td>\n",
       "    </tr>\n",
       "    <tr>\n",
       "      <th>startlist_quality</th>\n",
       "      <td>-0.219978</td>\n",
       "      <td>0.066994</td>\n",
       "      <td>0.019075</td>\n",
       "      <td>0.170684</td>\n",
       "      <td>-0.003126</td>\n",
       "      <td>0.073915</td>\n",
       "      <td>0.044601</td>\n",
       "      <td>-0.074658</td>\n",
       "      <td>1.000000</td>\n",
       "      <td>0.147654</td>\n",
       "      <td>0.039420</td>\n",
       "      <td>0.030504</td>\n",
       "      <td>-0.207888</td>\n",
       "      <td>pearson</td>\n",
       "    </tr>\n",
       "    <tr>\n",
       "      <th>position</th>\n",
       "      <td>0.137349</td>\n",
       "      <td>0.123512</td>\n",
       "      <td>0.099114</td>\n",
       "      <td>-0.079787</td>\n",
       "      <td>-0.099468</td>\n",
       "      <td>-0.012049</td>\n",
       "      <td>-0.038038</td>\n",
       "      <td>-0.031693</td>\n",
       "      <td>0.147654</td>\n",
       "      <td>1.000000</td>\n",
       "      <td>0.011988</td>\n",
       "      <td>0.236851</td>\n",
       "      <td>0.142097</td>\n",
       "      <td>pearson</td>\n",
       "    </tr>\n",
       "    <tr>\n",
       "      <th>cyclist_age</th>\n",
       "      <td>-0.182679</td>\n",
       "      <td>0.052771</td>\n",
       "      <td>-0.010083</td>\n",
       "      <td>-0.014469</td>\n",
       "      <td>0.005121</td>\n",
       "      <td>0.003430</td>\n",
       "      <td>0.005418</td>\n",
       "      <td>0.011317</td>\n",
       "      <td>0.039420</td>\n",
       "      <td>0.011988</td>\n",
       "      <td>1.000000</td>\n",
       "      <td>0.000398</td>\n",
       "      <td>0.152335</td>\n",
       "      <td>pearson</td>\n",
       "    </tr>\n",
       "    <tr>\n",
       "      <th>delta</th>\n",
       "      <td>0.074427</td>\n",
       "      <td>0.068778</td>\n",
       "      <td>0.046363</td>\n",
       "      <td>0.009977</td>\n",
       "      <td>-0.007079</td>\n",
       "      <td>0.079687</td>\n",
       "      <td>0.311084</td>\n",
       "      <td>0.307710</td>\n",
       "      <td>0.030504</td>\n",
       "      <td>0.236851</td>\n",
       "      <td>0.000398</td>\n",
       "      <td>1.000000</td>\n",
       "      <td>0.074951</td>\n",
       "      <td>pearson</td>\n",
       "    </tr>\n",
       "    <tr>\n",
       "      <th>race_year</th>\n",
       "      <td>0.943870</td>\n",
       "      <td>-0.045305</td>\n",
       "      <td>0.135937</td>\n",
       "      <td>-0.157969</td>\n",
       "      <td>0.240944</td>\n",
       "      <td>-0.047061</td>\n",
       "      <td>0.040791</td>\n",
       "      <td>0.134820</td>\n",
       "      <td>-0.207888</td>\n",
       "      <td>0.142097</td>\n",
       "      <td>0.152335</td>\n",
       "      <td>0.074951</td>\n",
       "      <td>1.000000</td>\n",
       "      <td>pearson</td>\n",
       "    </tr>\n",
       "    <tr>\n",
       "      <th>birth_year</th>\n",
       "      <td>1.000000</td>\n",
       "      <td>-0.064564</td>\n",
       "      <td>0.121335</td>\n",
       "      <td>-0.245520</td>\n",
       "      <td>0.477469</td>\n",
       "      <td>-0.092638</td>\n",
       "      <td>0.073977</td>\n",
       "      <td>0.166269</td>\n",
       "      <td>-0.205700</td>\n",
       "      <td>0.127388</td>\n",
       "      <td>-0.203773</td>\n",
       "      <td>0.117688</td>\n",
       "      <td>0.934868</td>\n",
       "      <td>spearman</td>\n",
       "    </tr>\n",
       "    <tr>\n",
       "      <th>weight</th>\n",
       "      <td>-0.064564</td>\n",
       "      <td>1.000000</td>\n",
       "      <td>0.728428</td>\n",
       "      <td>0.069985</td>\n",
       "      <td>0.042546</td>\n",
       "      <td>0.047556</td>\n",
       "      <td>-0.036486</td>\n",
       "      <td>-0.042686</td>\n",
       "      <td>0.055807</td>\n",
       "      <td>0.120309</td>\n",
       "      <td>0.054037</td>\n",
       "      <td>0.102962</td>\n",
       "      <td>-0.042116</td>\n",
       "      <td>spearman</td>\n",
       "    </tr>\n",
       "    <tr>\n",
       "      <th>height</th>\n",
       "      <td>0.121335</td>\n",
       "      <td>0.728428</td>\n",
       "      <td>1.000000</td>\n",
       "      <td>0.015471</td>\n",
       "      <td>0.079926</td>\n",
       "      <td>0.014485</td>\n",
       "      <td>-0.008119</td>\n",
       "      <td>-0.000052</td>\n",
       "      <td>0.010169</td>\n",
       "      <td>0.099759</td>\n",
       "      <td>-0.012225</td>\n",
       "      <td>0.083618</td>\n",
       "      <td>0.123084</td>\n",
       "      <td>spearman</td>\n",
       "    </tr>\n",
       "    <tr>\n",
       "      <th>points</th>\n",
       "      <td>-0.245520</td>\n",
       "      <td>0.069985</td>\n",
       "      <td>0.015471</td>\n",
       "      <td>1.000000</td>\n",
       "      <td>0.608062</td>\n",
       "      <td>0.366254</td>\n",
       "      <td>0.051993</td>\n",
       "      <td>-0.091989</td>\n",
       "      <td>0.498930</td>\n",
       "      <td>0.015232</td>\n",
       "      <td>-0.007191</td>\n",
       "      <td>0.092240</td>\n",
       "      <td>-0.239110</td>\n",
       "      <td>spearman</td>\n",
       "    </tr>\n",
       "    <tr>\n",
       "      <th>uci_points</th>\n",
       "      <td>0.477469</td>\n",
       "      <td>0.042546</td>\n",
       "      <td>0.079926</td>\n",
       "      <td>0.608062</td>\n",
       "      <td>1.000000</td>\n",
       "      <td>0.233987</td>\n",
       "      <td>0.077788</td>\n",
       "      <td>0.041747</td>\n",
       "      <td>0.124505</td>\n",
       "      <td>-0.025671</td>\n",
       "      <td>0.025413</td>\n",
       "      <td>0.116147</td>\n",
       "      <td>0.573830</td>\n",
       "      <td>spearman</td>\n",
       "    </tr>\n",
       "    <tr>\n",
       "      <th>length</th>\n",
       "      <td>-0.092638</td>\n",
       "      <td>0.047556</td>\n",
       "      <td>0.014485</td>\n",
       "      <td>0.366254</td>\n",
       "      <td>0.233987</td>\n",
       "      <td>1.000000</td>\n",
       "      <td>0.382435</td>\n",
       "      <td>0.061667</td>\n",
       "      <td>0.095413</td>\n",
       "      <td>-0.023287</td>\n",
       "      <td>-0.003398</td>\n",
       "      <td>0.036867</td>\n",
       "      <td>-0.092357</td>\n",
       "      <td>spearman</td>\n",
       "    </tr>\n",
       "    <tr>\n",
       "      <th>climb_total</th>\n",
       "      <td>0.073977</td>\n",
       "      <td>-0.036486</td>\n",
       "      <td>-0.008119</td>\n",
       "      <td>0.051993</td>\n",
       "      <td>0.077788</td>\n",
       "      <td>0.382435</td>\n",
       "      <td>1.000000</td>\n",
       "      <td>0.750863</td>\n",
       "      <td>0.012273</td>\n",
       "      <td>-0.033844</td>\n",
       "      <td>0.006069</td>\n",
       "      <td>0.508483</td>\n",
       "      <td>0.079298</td>\n",
       "      <td>spearman</td>\n",
       "    </tr>\n",
       "    <tr>\n",
       "      <th>profile</th>\n",
       "      <td>0.166269</td>\n",
       "      <td>-0.042686</td>\n",
       "      <td>-0.000052</td>\n",
       "      <td>-0.091989</td>\n",
       "      <td>0.041747</td>\n",
       "      <td>0.061667</td>\n",
       "      <td>0.750863</td>\n",
       "      <td>1.000000</td>\n",
       "      <td>-0.113641</td>\n",
       "      <td>-0.030395</td>\n",
       "      <td>0.010623</td>\n",
       "      <td>0.536738</td>\n",
       "      <td>0.175579</td>\n",
       "      <td>spearman</td>\n",
       "    </tr>\n",
       "    <tr>\n",
       "      <th>startlist_quality</th>\n",
       "      <td>-0.205700</td>\n",
       "      <td>0.055807</td>\n",
       "      <td>0.010169</td>\n",
       "      <td>0.498930</td>\n",
       "      <td>0.124505</td>\n",
       "      <td>0.095413</td>\n",
       "      <td>0.012273</td>\n",
       "      <td>-0.113641</td>\n",
       "      <td>1.000000</td>\n",
       "      <td>0.144717</td>\n",
       "      <td>0.048936</td>\n",
       "      <td>0.047763</td>\n",
       "      <td>-0.197876</td>\n",
       "      <td>spearman</td>\n",
       "    </tr>\n",
       "    <tr>\n",
       "      <th>position</th>\n",
       "      <td>0.127388</td>\n",
       "      <td>0.120309</td>\n",
       "      <td>0.099759</td>\n",
       "      <td>0.015232</td>\n",
       "      <td>-0.025671</td>\n",
       "      <td>-0.023287</td>\n",
       "      <td>-0.033844</td>\n",
       "      <td>-0.030395</td>\n",
       "      <td>0.144717</td>\n",
       "      <td>1.000000</td>\n",
       "      <td>0.008876</td>\n",
       "      <td>0.430019</td>\n",
       "      <td>0.126159</td>\n",
       "      <td>spearman</td>\n",
       "    </tr>\n",
       "    <tr>\n",
       "      <th>cyclist_age</th>\n",
       "      <td>-0.203773</td>\n",
       "      <td>0.054037</td>\n",
       "      <td>-0.012225</td>\n",
       "      <td>-0.007191</td>\n",
       "      <td>0.025413</td>\n",
       "      <td>-0.003398</td>\n",
       "      <td>0.006069</td>\n",
       "      <td>0.010623</td>\n",
       "      <td>0.048936</td>\n",
       "      <td>0.008876</td>\n",
       "      <td>1.000000</td>\n",
       "      <td>-0.004053</td>\n",
       "      <td>0.122181</td>\n",
       "      <td>spearman</td>\n",
       "    </tr>\n",
       "    <tr>\n",
       "      <th>delta</th>\n",
       "      <td>0.117688</td>\n",
       "      <td>0.102962</td>\n",
       "      <td>0.083618</td>\n",
       "      <td>0.092240</td>\n",
       "      <td>0.116147</td>\n",
       "      <td>0.036867</td>\n",
       "      <td>0.508483</td>\n",
       "      <td>0.536738</td>\n",
       "      <td>0.047763</td>\n",
       "      <td>0.430019</td>\n",
       "      <td>-0.004053</td>\n",
       "      <td>1.000000</td>\n",
       "      <td>0.120399</td>\n",
       "      <td>spearman</td>\n",
       "    </tr>\n",
       "    <tr>\n",
       "      <th>race_year</th>\n",
       "      <td>0.934868</td>\n",
       "      <td>-0.042116</td>\n",
       "      <td>0.123084</td>\n",
       "      <td>-0.239110</td>\n",
       "      <td>0.573830</td>\n",
       "      <td>-0.092357</td>\n",
       "      <td>0.079298</td>\n",
       "      <td>0.175579</td>\n",
       "      <td>-0.197876</td>\n",
       "      <td>0.126159</td>\n",
       "      <td>0.122181</td>\n",
       "      <td>0.120399</td>\n",
       "      <td>1.000000</td>\n",
       "      <td>spearman</td>\n",
       "    </tr>\n",
       "  </tbody>\n",
       "</table>\n",
       "</div>"
      ],
      "text/plain": [
       "                   birth_year    weight    height    points  uci_points  \\\n",
       "birth_year           1.000000 -0.045815  0.084267 -0.188950    0.343416   \n",
       "weight              -0.045815  1.000000  0.563195  0.053643    0.030793   \n",
       "height               0.084267  0.563195  1.000000  0.011802    0.058356   \n",
       "points              -0.188950  0.053643  0.011802  1.000000    0.550895   \n",
       "uci_points           0.343416  0.030793  0.058356  0.550895    1.000000   \n",
       "length              -0.063052  0.032437  0.009892  0.283126    0.171325   \n",
       "climb_total          0.050522 -0.024951 -0.005549  0.041525    0.054611   \n",
       "profile              0.124779 -0.032249 -0.000033 -0.075127    0.030337   \n",
       "startlist_quality   -0.143592  0.038300  0.007022  0.387596    0.100071   \n",
       "position             0.086474  0.082839  0.068314  0.011434   -0.018360   \n",
       "cyclist_age         -0.144127  0.038231 -0.008612 -0.005472    0.018996   \n",
       "delta                0.080669  0.071599  0.057979  0.069104    0.083091   \n",
       "race_year            0.797947 -0.029891  0.085670 -0.184945    0.416651   \n",
       "birth_year           1.000000 -0.064731  0.132852 -0.152309    0.204134   \n",
       "weight              -0.064731  1.000000  0.741987  0.063797    0.051195   \n",
       "height               0.132852  0.741987  1.000000  0.021541    0.053111   \n",
       "points              -0.152309  0.063797  0.021541  1.000000    0.887946   \n",
       "uci_points           0.204134  0.051195  0.053111  0.887946    1.000000   \n",
       "length              -0.047962  0.033570  0.012249  0.406739    0.345182   \n",
       "climb_total          0.038223 -0.031111 -0.009272  0.089548    0.085820   \n",
       "profile              0.128610 -0.039078 -0.002414 -0.052569   -0.052141   \n",
       "startlist_quality   -0.219978  0.066994  0.019075  0.170684   -0.003126   \n",
       "position             0.137349  0.123512  0.099114 -0.079787   -0.099468   \n",
       "cyclist_age         -0.182679  0.052771 -0.010083 -0.014469    0.005121   \n",
       "delta                0.074427  0.068778  0.046363  0.009977   -0.007079   \n",
       "race_year            0.943870 -0.045305  0.135937 -0.157969    0.240944   \n",
       "birth_year           1.000000 -0.064564  0.121335 -0.245520    0.477469   \n",
       "weight              -0.064564  1.000000  0.728428  0.069985    0.042546   \n",
       "height               0.121335  0.728428  1.000000  0.015471    0.079926   \n",
       "points              -0.245520  0.069985  0.015471  1.000000    0.608062   \n",
       "uci_points           0.477469  0.042546  0.079926  0.608062    1.000000   \n",
       "length              -0.092638  0.047556  0.014485  0.366254    0.233987   \n",
       "climb_total          0.073977 -0.036486 -0.008119  0.051993    0.077788   \n",
       "profile              0.166269 -0.042686 -0.000052 -0.091989    0.041747   \n",
       "startlist_quality   -0.205700  0.055807  0.010169  0.498930    0.124505   \n",
       "position             0.127388  0.120309  0.099759  0.015232   -0.025671   \n",
       "cyclist_age         -0.203773  0.054037 -0.012225 -0.007191    0.025413   \n",
       "delta                0.117688  0.102962  0.083618  0.092240    0.116147   \n",
       "race_year            0.934868 -0.042116  0.123084 -0.239110    0.573830   \n",
       "\n",
       "                     length  climb_total   profile  startlist_quality  \\\n",
       "birth_year        -0.063052     0.050522  0.124779          -0.143592   \n",
       "weight             0.032437    -0.024951 -0.032249           0.038300   \n",
       "height             0.009892    -0.005549 -0.000033           0.007022   \n",
       "points             0.283126     0.041525 -0.075127           0.387596   \n",
       "uci_points         0.171325     0.054611  0.030337           0.100071   \n",
       "length             1.000000     0.265561  0.041135           0.064064   \n",
       "climb_total        0.265561     1.000000  0.605717           0.009080   \n",
       "profile            0.041135     0.605717  1.000000          -0.083554   \n",
       "startlist_quality  0.064064     0.009080 -0.083554           1.000000   \n",
       "position          -0.015397    -0.022638 -0.022523           0.097512   \n",
       "cyclist_age       -0.002384     0.004191  0.008102           0.033595   \n",
       "delta              0.029699     0.352303  0.412745           0.032480   \n",
       "race_year         -0.062855     0.054391  0.132006          -0.137662   \n",
       "birth_year        -0.047962     0.038223  0.128610          -0.219978   \n",
       "weight             0.033570    -0.031111 -0.039078           0.066994   \n",
       "height             0.012249    -0.009272 -0.002414           0.019075   \n",
       "points             0.406739     0.089548 -0.052569           0.170684   \n",
       "uci_points         0.345182     0.085820 -0.052141          -0.003126   \n",
       "length             1.000000     0.496317  0.117456           0.073915   \n",
       "climb_total        0.496317     1.000000  0.728791           0.044601   \n",
       "profile            0.117456     0.728791  1.000000          -0.074658   \n",
       "startlist_quality  0.073915     0.044601 -0.074658           1.000000   \n",
       "position          -0.012049    -0.038038 -0.031693           0.147654   \n",
       "cyclist_age        0.003430     0.005418  0.011317           0.039420   \n",
       "delta              0.079687     0.311084  0.307710           0.030504   \n",
       "race_year         -0.047061     0.040791  0.134820          -0.207888   \n",
       "birth_year        -0.092638     0.073977  0.166269          -0.205700   \n",
       "weight             0.047556    -0.036486 -0.042686           0.055807   \n",
       "height             0.014485    -0.008119 -0.000052           0.010169   \n",
       "points             0.366254     0.051993 -0.091989           0.498930   \n",
       "uci_points         0.233987     0.077788  0.041747           0.124505   \n",
       "length             1.000000     0.382435  0.061667           0.095413   \n",
       "climb_total        0.382435     1.000000  0.750863           0.012273   \n",
       "profile            0.061667     0.750863  1.000000          -0.113641   \n",
       "startlist_quality  0.095413     0.012273 -0.113641           1.000000   \n",
       "position          -0.023287    -0.033844 -0.030395           0.144717   \n",
       "cyclist_age       -0.003398     0.006069  0.010623           0.048936   \n",
       "delta              0.036867     0.508483  0.536738           0.047763   \n",
       "race_year         -0.092357     0.079298  0.175579          -0.197876   \n",
       "\n",
       "                   position  cyclist_age     delta  race_year correlation_type  \n",
       "birth_year         0.086474    -0.144127  0.080669   0.797947          kendall  \n",
       "weight             0.082839     0.038231  0.071599  -0.029891          kendall  \n",
       "height             0.068314    -0.008612  0.057979   0.085670          kendall  \n",
       "points             0.011434    -0.005472  0.069104  -0.184945          kendall  \n",
       "uci_points        -0.018360     0.018996  0.083091   0.416651          kendall  \n",
       "length            -0.015397    -0.002384  0.029699  -0.062855          kendall  \n",
       "climb_total       -0.022638     0.004191  0.352303   0.054391          kendall  \n",
       "profile           -0.022523     0.008102  0.412745   0.132006          kendall  \n",
       "startlist_quality  0.097512     0.033595  0.032480  -0.137662          kendall  \n",
       "position           1.000000     0.006373  0.299288   0.085453          kendall  \n",
       "cyclist_age        0.006373     1.000000 -0.002829   0.088183          kendall  \n",
       "delta              0.299288    -0.002829  1.000000   0.082671          kendall  \n",
       "race_year          0.085453     0.088183  0.082671   1.000000          kendall  \n",
       "birth_year         0.137349    -0.182679  0.074427   0.943870          pearson  \n",
       "weight             0.123512     0.052771  0.068778  -0.045305          pearson  \n",
       "height             0.099114    -0.010083  0.046363   0.135937          pearson  \n",
       "points            -0.079787    -0.014469  0.009977  -0.157969          pearson  \n",
       "uci_points        -0.099468     0.005121 -0.007079   0.240944          pearson  \n",
       "length            -0.012049     0.003430  0.079687  -0.047061          pearson  \n",
       "climb_total       -0.038038     0.005418  0.311084   0.040791          pearson  \n",
       "profile           -0.031693     0.011317  0.307710   0.134820          pearson  \n",
       "startlist_quality  0.147654     0.039420  0.030504  -0.207888          pearson  \n",
       "position           1.000000     0.011988  0.236851   0.142097          pearson  \n",
       "cyclist_age        0.011988     1.000000  0.000398   0.152335          pearson  \n",
       "delta              0.236851     0.000398  1.000000   0.074951          pearson  \n",
       "race_year          0.142097     0.152335  0.074951   1.000000          pearson  \n",
       "birth_year         0.127388    -0.203773  0.117688   0.934868         spearman  \n",
       "weight             0.120309     0.054037  0.102962  -0.042116         spearman  \n",
       "height             0.099759    -0.012225  0.083618   0.123084         spearman  \n",
       "points             0.015232    -0.007191  0.092240  -0.239110         spearman  \n",
       "uci_points        -0.025671     0.025413  0.116147   0.573830         spearman  \n",
       "length            -0.023287    -0.003398  0.036867  -0.092357         spearman  \n",
       "climb_total       -0.033844     0.006069  0.508483   0.079298         spearman  \n",
       "profile           -0.030395     0.010623  0.536738   0.175579         spearman  \n",
       "startlist_quality  0.144717     0.048936  0.047763  -0.197876         spearman  \n",
       "position           1.000000     0.008876  0.430019   0.126159         spearman  \n",
       "cyclist_age        0.008876     1.000000 -0.004053   0.122181         spearman  \n",
       "delta              0.430019    -0.004053  1.000000   0.120399         spearman  \n",
       "race_year          0.126159     0.122181  0.120399   1.000000         spearman  "
      ]
     },
     "execution_count": 44,
     "metadata": {},
     "output_type": "execute_result"
    }
   ],
   "source": [
    "# Correlations Merged Dataset\n",
    "normalized_dataset, normalization_scalers = center_and_scale(dataset)\n",
    "correlations_dataset = correlations(normalized_dataset)\n",
    "correlations_dataset"
   ]
  },
  {
   "cell_type": "code",
   "execution_count": 45,
   "metadata": {},
   "outputs": [
    {
     "data": {
      "text/plain": [
       "<seaborn.axisgrid.FacetGrid at 0x1257eae40>"
      ]
     },
     "execution_count": 45,
     "metadata": {},
     "output_type": "execute_result"
    },
    {
     "data": {
      "image/png": "[encoded data removed]",
      "text/plain": [
       "<Figure size 900x300 with 6 Axes>"
      ]
     },
     "metadata": {},
     "output_type": "display_data"
    }
   ],
   "source": [
    "g = sb.FacetGrid(correlations_dataset, col=\"correlation_type\")\n",
    "g.map_dataframe(lambda data, color: sb.heatmap(data[data.columns[:-1]]))"
   ]
  }
 ],
 "metadata": {
  "kernelspec": {
   "display_name": "dm_env",
   "language": "python",
   "name": "python3"
  },
  "language_info": {
   "codemirror_mode": {
    "name": "ipython",
    "version": 3
   },
   "file_extension": ".py",
   "mimetype": "text/x-python",
   "name": "python",
   "nbconvert_exporter": "python",
   "pygments_lexer": "ipython3",
   "version": "3.12.2"
  }
 },
 "nbformat": 4,
 "nbformat_minor": 2
}

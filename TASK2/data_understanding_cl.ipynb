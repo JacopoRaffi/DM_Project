{
 "cells": [
  {
   "cell_type": "markdown",
   "metadata": {},
   "source": [
    "# Data Understanding After Cleaning\n",
    "\n",
    "After performing the cleaning, we check again some basic information to show that all the data in correct in the sintax and the semantic"
   ]
  },
  {
   "cell_type": "code",
   "execution_count": 1,
   "metadata": {},
   "outputs": [],
   "source": [
    "# Autoreload allows the notebook to dynamically load code: if we update some helper functions *outside* of the notebook, we do not need to reload the notebook.\n",
    "%load_ext autoreload\n",
    "%autoreload 2"
   ]
  },
  {
   "cell_type": "code",
   "execution_count": 2,
   "metadata": {},
   "outputs": [],
   "source": [
    "import pandas as pd\n",
    "import numpy as np\n",
    "import re\n",
    "import unicodedata"
   ]
  },
  {
   "cell_type": "code",
   "execution_count": 3,
   "metadata": {},
   "outputs": [
    {
     "data": {
      "text/html": [
       "<div>\n",
       "<style scoped>\n",
       "    .dataframe tbody tr th:only-of-type {\n",
       "        vertical-align: middle;\n",
       "    }\n",
       "\n",
       "    .dataframe tbody tr th {\n",
       "        vertical-align: top;\n",
       "    }\n",
       "\n",
       "    .dataframe thead th {\n",
       "        text-align: right;\n",
       "    }\n",
       "</style>\n",
       "<table border=\"1\" class=\"dataframe\">\n",
       "  <thead>\n",
       "    <tr style=\"text-align: right;\">\n",
       "      <th></th>\n",
       "      <th>cyclist_url</th>\n",
       "      <th>cyclist_name</th>\n",
       "      <th>birth_year</th>\n",
       "      <th>weight</th>\n",
       "      <th>height</th>\n",
       "      <th>nationality</th>\n",
       "      <th>race_url</th>\n",
       "      <th>race_name</th>\n",
       "      <th>points</th>\n",
       "      <th>uci_points</th>\n",
       "      <th>...</th>\n",
       "      <th>profile</th>\n",
       "      <th>startlist_quality</th>\n",
       "      <th>date</th>\n",
       "      <th>position</th>\n",
       "      <th>cyclist</th>\n",
       "      <th>cyclist_age</th>\n",
       "      <th>mostly_tarmac</th>\n",
       "      <th>cyclist_team</th>\n",
       "      <th>delta</th>\n",
       "      <th>race_stage</th>\n",
       "    </tr>\n",
       "  </thead>\n",
       "  <tbody>\n",
       "    <tr>\n",
       "      <th>0</th>\n",
       "      <td>gerard-vianen</td>\n",
       "      <td>Gerard  Vianen</td>\n",
       "      <td>1944.0</td>\n",
       "      <td>NaN</td>\n",
       "      <td>NaN</td>\n",
       "      <td>Netherlands</td>\n",
       "      <td>amstel-gold-race/1970/result</td>\n",
       "      <td>Amstel Gold Race</td>\n",
       "      <td>225.0</td>\n",
       "      <td>NaN</td>\n",
       "      <td>...</td>\n",
       "      <td>2.0</td>\n",
       "      <td>372</td>\n",
       "      <td>1970-04-25</td>\n",
       "      <td>23</td>\n",
       "      <td>gerard-vianen</td>\n",
       "      <td>26.0</td>\n",
       "      <td>False</td>\n",
       "      <td>uae-team-emirates-2018</td>\n",
       "      <td>52.0</td>\n",
       "      <td>result</td>\n",
       "    </tr>\n",
       "    <tr>\n",
       "      <th>1</th>\n",
       "      <td>jos-huysmans</td>\n",
       "      <td>Jos  Huysmans</td>\n",
       "      <td>1941.0</td>\n",
       "      <td>NaN</td>\n",
       "      <td>NaN</td>\n",
       "      <td>Belgium</td>\n",
       "      <td>amstel-gold-race/1970/result</td>\n",
       "      <td>Amstel Gold Race</td>\n",
       "      <td>225.0</td>\n",
       "      <td>NaN</td>\n",
       "      <td>...</td>\n",
       "      <td>2.0</td>\n",
       "      <td>372</td>\n",
       "      <td>1970-04-25</td>\n",
       "      <td>18</td>\n",
       "      <td>jos-huysmans</td>\n",
       "      <td>29.0</td>\n",
       "      <td>False</td>\n",
       "      <td>team-monex-2005</td>\n",
       "      <td>52.0</td>\n",
       "      <td>result</td>\n",
       "    </tr>\n",
       "    <tr>\n",
       "      <th>2</th>\n",
       "      <td>romain-furniere</td>\n",
       "      <td>Romain  Furniere</td>\n",
       "      <td>1943.0</td>\n",
       "      <td>NaN</td>\n",
       "      <td>NaN</td>\n",
       "      <td>Belgium</td>\n",
       "      <td>amstel-gold-race/1970/result</td>\n",
       "      <td>Amstel Gold Race</td>\n",
       "      <td>225.0</td>\n",
       "      <td>NaN</td>\n",
       "      <td>...</td>\n",
       "      <td>2.0</td>\n",
       "      <td>372</td>\n",
       "      <td>1970-04-25</td>\n",
       "      <td>31</td>\n",
       "      <td>romain-furniere</td>\n",
       "      <td>27.0</td>\n",
       "      <td>False</td>\n",
       "      <td>NaN</td>\n",
       "      <td>52.0</td>\n",
       "      <td>result</td>\n",
       "    </tr>\n",
       "    <tr>\n",
       "      <th>3</th>\n",
       "      <td>willy-donie</td>\n",
       "      <td>Willy  Donie</td>\n",
       "      <td>1945.0</td>\n",
       "      <td>NaN</td>\n",
       "      <td>NaN</td>\n",
       "      <td>Belgium</td>\n",
       "      <td>amstel-gold-race/1970/result</td>\n",
       "      <td>Amstel Gold Race</td>\n",
       "      <td>225.0</td>\n",
       "      <td>NaN</td>\n",
       "      <td>...</td>\n",
       "      <td>2.0</td>\n",
       "      <td>372</td>\n",
       "      <td>1970-04-25</td>\n",
       "      <td>27</td>\n",
       "      <td>willy-donie</td>\n",
       "      <td>25.0</td>\n",
       "      <td>False</td>\n",
       "      <td>NaN</td>\n",
       "      <td>52.0</td>\n",
       "      <td>result</td>\n",
       "    </tr>\n",
       "    <tr>\n",
       "      <th>4</th>\n",
       "      <td>frans-melckenbeeck</td>\n",
       "      <td>Frans  Melckenbeeck</td>\n",
       "      <td>1940.0</td>\n",
       "      <td>NaN</td>\n",
       "      <td>NaN</td>\n",
       "      <td>Belgium</td>\n",
       "      <td>amstel-gold-race/1970/result</td>\n",
       "      <td>Amstel Gold Race</td>\n",
       "      <td>225.0</td>\n",
       "      <td>NaN</td>\n",
       "      <td>...</td>\n",
       "      <td>2.0</td>\n",
       "      <td>372</td>\n",
       "      <td>1970-04-25</td>\n",
       "      <td>8</td>\n",
       "      <td>frans-melckenbeeck</td>\n",
       "      <td>30.0</td>\n",
       "      <td>False</td>\n",
       "      <td>team-qhubeka-assos-2021</td>\n",
       "      <td>33.0</td>\n",
       "      <td>result</td>\n",
       "    </tr>\n",
       "  </tbody>\n",
       "</table>\n",
       "<p>5 rows × 22 columns</p>\n",
       "</div>"
      ],
      "text/plain": [
       "          cyclist_url         cyclist_name  birth_year  weight  height  \\\n",
       "0       gerard-vianen       Gerard  Vianen      1944.0     NaN     NaN   \n",
       "1        jos-huysmans        Jos  Huysmans      1941.0     NaN     NaN   \n",
       "2     romain-furniere     Romain  Furniere      1943.0     NaN     NaN   \n",
       "3         willy-donie         Willy  Donie      1945.0     NaN     NaN   \n",
       "4  frans-melckenbeeck  Frans  Melckenbeeck      1940.0     NaN     NaN   \n",
       "\n",
       "   nationality                      race_url         race_name  points  \\\n",
       "0  Netherlands  amstel-gold-race/1970/result  Amstel Gold Race   225.0   \n",
       "1      Belgium  amstel-gold-race/1970/result  Amstel Gold Race   225.0   \n",
       "2      Belgium  amstel-gold-race/1970/result  Amstel Gold Race   225.0   \n",
       "3      Belgium  amstel-gold-race/1970/result  Amstel Gold Race   225.0   \n",
       "4      Belgium  amstel-gold-race/1970/result  Amstel Gold Race   225.0   \n",
       "\n",
       "   uci_points  ...  profile  startlist_quality        date  position  \\\n",
       "0         NaN  ...      2.0                372  1970-04-25        23   \n",
       "1         NaN  ...      2.0                372  1970-04-25        18   \n",
       "2         NaN  ...      2.0                372  1970-04-25        31   \n",
       "3         NaN  ...      2.0                372  1970-04-25        27   \n",
       "4         NaN  ...      2.0                372  1970-04-25         8   \n",
       "\n",
       "              cyclist  cyclist_age mostly_tarmac             cyclist_team  \\\n",
       "0       gerard-vianen         26.0         False   uae-team-emirates-2018   \n",
       "1        jos-huysmans         29.0         False          team-monex-2005   \n",
       "2     romain-furniere         27.0         False                      NaN   \n",
       "3         willy-donie         25.0         False                      NaN   \n",
       "4  frans-melckenbeeck         30.0         False  team-qhubeka-assos-2021   \n",
       "\n",
       "   delta race_stage  \n",
       "0   52.0     result  \n",
       "1   52.0     result  \n",
       "2   52.0     result  \n",
       "3   52.0     result  \n",
       "4   33.0     result  \n",
       "\n",
       "[5 rows x 22 columns]"
      ]
     },
     "execution_count": 3,
     "metadata": {},
     "output_type": "execute_result"
    }
   ],
   "source": [
    "csv_file = \"../data/merged_dataset.csv\"\n",
    "dataset = pd.read_csv(csv_file)\n",
    "dataset.head()"
   ]
  },
  {
   "cell_type": "code",
   "execution_count": 4,
   "metadata": {},
   "outputs": [
    {
     "name": "stdout",
     "output_type": "stream",
     "text": [
      "<class 'pandas.core.frame.DataFrame'>\n",
      "RangeIndex: 589739 entries, 0 to 589738\n",
      "Data columns (total 22 columns):\n",
      " #   Column             Non-Null Count   Dtype  \n",
      "---  ------             --------------   -----  \n",
      " 0   cyclist_url        589739 non-null  object \n",
      " 1   cyclist_name       589739 non-null  object \n",
      " 2   birth_year         589739 non-null  float64\n",
      " 3   weight             480007 non-null  float64\n",
      " 4   height             480007 non-null  float64\n",
      " 5   nationality        589739 non-null  object \n",
      " 6   race_url           589739 non-null  object \n",
      " 7   race_name          589739 non-null  object \n",
      " 8   points             589739 non-null  float64\n",
      " 9   uci_points         422184 non-null  float64\n",
      " 10  length             589739 non-null  float64\n",
      " 11  climb_total        589739 non-null  float64\n",
      " 12  profile            589739 non-null  float64\n",
      " 13  startlist_quality  589739 non-null  int64  \n",
      " 14  date               589739 non-null  object \n",
      " 15  position           589739 non-null  int64  \n",
      " 16  cyclist            589739 non-null  object \n",
      " 17  cyclist_age        589739 non-null  float64\n",
      " 18  mostly_tarmac      589739 non-null  bool   \n",
      " 19  cyclist_team       451105 non-null  object \n",
      " 20  delta              589739 non-null  float64\n",
      " 21  race_stage         589739 non-null  object \n",
      "dtypes: bool(1), float64(10), int64(2), object(9)\n",
      "memory usage: 95.0+ MB\n"
     ]
    }
   ],
   "source": [
    "dataset.info()"
   ]
  },
  {
   "cell_type": "code",
   "execution_count": 5,
   "metadata": {},
   "outputs": [
    {
     "data": {
      "text/html": [
       "<div>\n",
       "<style scoped>\n",
       "    .dataframe tbody tr th:only-of-type {\n",
       "        vertical-align: middle;\n",
       "    }\n",
       "\n",
       "    .dataframe tbody tr th {\n",
       "        vertical-align: top;\n",
       "    }\n",
       "\n",
       "    .dataframe thead th {\n",
       "        text-align: right;\n",
       "    }\n",
       "</style>\n",
       "<table border=\"1\" class=\"dataframe\">\n",
       "  <thead>\n",
       "    <tr style=\"text-align: right;\">\n",
       "      <th></th>\n",
       "      <th>birth_year</th>\n",
       "      <th>weight</th>\n",
       "      <th>height</th>\n",
       "      <th>points</th>\n",
       "      <th>uci_points</th>\n",
       "      <th>length</th>\n",
       "      <th>climb_total</th>\n",
       "      <th>profile</th>\n",
       "      <th>startlist_quality</th>\n",
       "      <th>position</th>\n",
       "      <th>cyclist_age</th>\n",
       "      <th>delta</th>\n",
       "    </tr>\n",
       "  </thead>\n",
       "  <tbody>\n",
       "    <tr>\n",
       "      <th>count</th>\n",
       "      <td>589739.000000</td>\n",
       "      <td>480007.000000</td>\n",
       "      <td>480007.000000</td>\n",
       "      <td>589739.000000</td>\n",
       "      <td>422184.000000</td>\n",
       "      <td>589739.000000</td>\n",
       "      <td>589739.000000</td>\n",
       "      <td>589739.000000</td>\n",
       "      <td>589739.000000</td>\n",
       "      <td>589739.000000</td>\n",
       "      <td>589739.000000</td>\n",
       "      <td>589739.000000</td>\n",
       "    </tr>\n",
       "    <tr>\n",
       "      <th>mean</th>\n",
       "      <td>1977.683221</td>\n",
       "      <td>68.362072</td>\n",
       "      <td>179.699850</td>\n",
       "      <td>89.225897</td>\n",
       "      <td>72.048275</td>\n",
       "      <td>166776.290800</td>\n",
       "      <td>2320.190052</td>\n",
       "      <td>2.483317</td>\n",
       "      <td>1101.182822</td>\n",
       "      <td>74.217408</td>\n",
       "      <td>28.485834</td>\n",
       "      <td>430.755887</td>\n",
       "    </tr>\n",
       "    <tr>\n",
       "      <th>std</th>\n",
       "      <td>11.537102</td>\n",
       "      <td>6.182201</td>\n",
       "      <td>6.269585</td>\n",
       "      <td>54.415806</td>\n",
       "      <td>121.041689</td>\n",
       "      <td>64543.334848</td>\n",
       "      <td>1334.129873</td>\n",
       "      <td>1.459891</td>\n",
       "      <td>380.588233</td>\n",
       "      <td>48.405261</td>\n",
       "      <td>3.855921</td>\n",
       "      <td>1011.486288</td>\n",
       "    </tr>\n",
       "    <tr>\n",
       "      <th>min</th>\n",
       "      <td>1933.000000</td>\n",
       "      <td>48.000000</td>\n",
       "      <td>154.000000</td>\n",
       "      <td>18.000000</td>\n",
       "      <td>6.000000</td>\n",
       "      <td>1000.000000</td>\n",
       "      <td>2.000000</td>\n",
       "      <td>1.000000</td>\n",
       "      <td>115.000000</td>\n",
       "      <td>0.000000</td>\n",
       "      <td>13.000000</td>\n",
       "      <td>0.000000</td>\n",
       "    </tr>\n",
       "    <tr>\n",
       "      <th>25%</th>\n",
       "      <td>1970.000000</td>\n",
       "      <td>64.000000</td>\n",
       "      <td>175.000000</td>\n",
       "      <td>50.000000</td>\n",
       "      <td>16.000000</td>\n",
       "      <td>152500.000000</td>\n",
       "      <td>1355.000000</td>\n",
       "      <td>1.000000</td>\n",
       "      <td>844.000000</td>\n",
       "      <td>32.000000</td>\n",
       "      <td>26.000000</td>\n",
       "      <td>11.000000</td>\n",
       "    </tr>\n",
       "    <tr>\n",
       "      <th>50%</th>\n",
       "      <td>1979.000000</td>\n",
       "      <td>68.000000</td>\n",
       "      <td>180.000000</td>\n",
       "      <td>80.000000</td>\n",
       "      <td>20.000000</td>\n",
       "      <td>178200.000000</td>\n",
       "      <td>2312.000000</td>\n",
       "      <td>2.000000</td>\n",
       "      <td>988.000000</td>\n",
       "      <td>70.000000</td>\n",
       "      <td>28.000000</td>\n",
       "      <td>158.000000</td>\n",
       "    </tr>\n",
       "    <tr>\n",
       "      <th>75%</th>\n",
       "      <td>1986.000000</td>\n",
       "      <td>73.000000</td>\n",
       "      <td>184.000000</td>\n",
       "      <td>100.000000</td>\n",
       "      <td>100.000000</td>\n",
       "      <td>203500.000000</td>\n",
       "      <td>3217.000000</td>\n",
       "      <td>4.000000</td>\n",
       "      <td>1309.000000</td>\n",
       "      <td>112.000000</td>\n",
       "      <td>31.000000</td>\n",
       "      <td>626.000000</td>\n",
       "    </tr>\n",
       "    <tr>\n",
       "      <th>max</th>\n",
       "      <td>2004.000000</td>\n",
       "      <td>94.000000</td>\n",
       "      <td>204.000000</td>\n",
       "      <td>350.000000</td>\n",
       "      <td>800.000000</td>\n",
       "      <td>338000.000000</td>\n",
       "      <td>6974.000000</td>\n",
       "      <td>5.000000</td>\n",
       "      <td>2047.000000</td>\n",
       "      <td>209.000000</td>\n",
       "      <td>56.000000</td>\n",
       "      <td>46380.000000</td>\n",
       "    </tr>\n",
       "  </tbody>\n",
       "</table>\n",
       "</div>"
      ],
      "text/plain": [
       "          birth_year         weight         height         points  \\\n",
       "count  589739.000000  480007.000000  480007.000000  589739.000000   \n",
       "mean     1977.683221      68.362072     179.699850      89.225897   \n",
       "std        11.537102       6.182201       6.269585      54.415806   \n",
       "min      1933.000000      48.000000     154.000000      18.000000   \n",
       "25%      1970.000000      64.000000     175.000000      50.000000   \n",
       "50%      1979.000000      68.000000     180.000000      80.000000   \n",
       "75%      1986.000000      73.000000     184.000000     100.000000   \n",
       "max      2004.000000      94.000000     204.000000     350.000000   \n",
       "\n",
       "          uci_points         length    climb_total        profile  \\\n",
       "count  422184.000000  589739.000000  589739.000000  589739.000000   \n",
       "mean       72.048275  166776.290800    2320.190052       2.483317   \n",
       "std       121.041689   64543.334848    1334.129873       1.459891   \n",
       "min         6.000000    1000.000000       2.000000       1.000000   \n",
       "25%        16.000000  152500.000000    1355.000000       1.000000   \n",
       "50%        20.000000  178200.000000    2312.000000       2.000000   \n",
       "75%       100.000000  203500.000000    3217.000000       4.000000   \n",
       "max       800.000000  338000.000000    6974.000000       5.000000   \n",
       "\n",
       "       startlist_quality       position    cyclist_age          delta  \n",
       "count      589739.000000  589739.000000  589739.000000  589739.000000  \n",
       "mean         1101.182822      74.217408      28.485834     430.755887  \n",
       "std           380.588233      48.405261       3.855921    1011.486288  \n",
       "min           115.000000       0.000000      13.000000       0.000000  \n",
       "25%           844.000000      32.000000      26.000000      11.000000  \n",
       "50%           988.000000      70.000000      28.000000     158.000000  \n",
       "75%          1309.000000     112.000000      31.000000     626.000000  \n",
       "max          2047.000000     209.000000      56.000000   46380.000000  "
      ]
     },
     "execution_count": 5,
     "metadata": {},
     "output_type": "execute_result"
    }
   ],
   "source": [
    "dataset.describe()"
   ]
  },
  {
   "cell_type": "markdown",
   "metadata": {},
   "source": [
    "## Checks of cyclists data\n",
    "\n",
    "Now we start from the data related to the initial cyclist dataset"
   ]
  },
  {
   "cell_type": "markdown",
   "metadata": {},
   "source": [
    "### Check on 'cyclist_url' data"
   ]
  },
  {
   "cell_type": "markdown",
   "metadata": {},
   "source": [
    "We start considering the `cyclys_url` column, and check the number of null values and the count the occurrences of each unique value"
   ]
  },
  {
   "cell_type": "code",
   "execution_count": 8,
   "metadata": {},
   "outputs": [
    {
     "name": "stdout",
     "output_type": "stream",
     "text": [
      "Total number of null values in cyclist_url column: 0 (0.0%)\n",
      "\n",
      "Count occurrences of each value in _url column:\n",
      "cyclist_url\n",
      "matteo-tosatto        959\n",
      "alejandro-valverde    942\n",
      "luis-leon-sanchez     899\n",
      "imanol-erviti         883\n",
      "haimar-zubeldia       883\n",
      "                     ... \n",
      "wim-dubois              1\n",
      "james-lewis-perry       1\n",
      "marcio-may              1\n",
      "john-lieswyn            1\n",
      "romain-furniere         1\n",
      "Name: count, Length: 6095, dtype: int64\n"
     ]
    }
   ],
   "source": [
    "print('Total number of null values in cyclist_url column: ' + str(dataset['cyclist_url'].isnull().sum())\n",
    "      + ' (' + str(round(dataset['cyclist_url'].isnull().sum() / len(dataset) * 100, 2)) + '%)')\n",
    "\n",
    "print('\\nCount occurrences of each value in _url column:')\n",
    "url_counts = dataset['cyclist_url'].value_counts()\n",
    "print(url_counts)"
   ]
  },
  {
   "cell_type": "markdown",
   "metadata": {},
   "source": [
    "### Check on 'cyclist_name' data"
   ]
  },
  {
   "cell_type": "markdown",
   "metadata": {},
   "source": [
    "Now we consider the `cyclist_name` column, and check the number of null values and the count the occurrences of each unique value"
   ]
  },
  {
   "cell_type": "code",
   "execution_count": 9,
   "metadata": {},
   "outputs": [
    {
     "name": "stdout",
     "output_type": "stream",
     "text": [
      "Total number of null values in cyclist_name column: 0 (0.0%)\n",
      "\n",
      "Count occurrences of each value in name column:\n",
      "cyclist_name\n",
      "Matteo  Tosatto                   959\n",
      "Alejandro  Valverde               942\n",
      "Luis León  Sánchez                899\n",
      "Imanol  Erviti                    883\n",
      "Haimar  Zubeldia                  883\n",
      "                                 ... \n",
      "John  Lieswyn                       1\n",
      "Makoto  Iijima                      1\n",
      "Bruno Ricardo Fernandes  Neves      1\n",
      "Anatoliy  Budyak                    1\n",
      "Miyataka  Shimizu                   1\n",
      "Name: count, Length: 6088, dtype: int64\n"
     ]
    }
   ],
   "source": [
    "print('Total number of null values in cyclist_name column: ' + str(dataset['cyclist_name'].isnull().sum())\n",
    "        + ' (' + str(round(dataset['cyclist_name'].isnull().sum() / len(dataset) * 100, 2)) + '%)')\n",
    "\n",
    "print('\\nCount occurrences of each value in name column:')\n",
    "name_counts = dataset['cyclist_name'].value_counts()\n",
    "print(name_counts)   "
   ]
  },
  {
   "cell_type": "code",
   "execution_count": 10,
   "metadata": {},
   "outputs": [
    {
     "name": "stdout",
     "output_type": "stream",
     "text": [
      "Number of rows with numbers in the name: 0\n"
     ]
    }
   ],
   "source": [
    "# Check if the 'cyclist_name' column contains any number\n",
    "invalid_rows = dataset[dataset['cyclist_name'].str.contains(r'\\d')]\n",
    "\n",
    "print('Number of rows with numbers in the name: ' + str(len(invalid_rows)))"
   ]
  },
  {
   "cell_type": "markdown",
   "metadata": {},
   "source": [
    "### Check on 'birth_year' data"
   ]
  },
  {
   "cell_type": "markdown",
   "metadata": {},
   "source": [
    "Now we consider the `birth_year` column, and check the number of null values and the count the occurrences of each unique value"
   ]
  },
  {
   "cell_type": "code",
   "execution_count": 11,
   "metadata": {},
   "outputs": [
    {
     "name": "stdout",
     "output_type": "stream",
     "text": [
      "Total number of null values in birth_year column: 0 (0.0%)\n",
      "\n",
      "Count occurrences of each value in birth_year column:\n",
      "birth_year\n",
      "1980.0    23848\n",
      "1985.0    23585\n",
      "1986.0    21746\n",
      "1974.0    21021\n",
      "1981.0    18993\n",
      "          ...  \n",
      "2004.0       25\n",
      "1938.0       13\n",
      "1937.0       13\n",
      "1934.0        5\n",
      "1933.0        1\n",
      "Name: count, Length: 71, dtype: int64\n"
     ]
    }
   ],
   "source": [
    "print('Total number of null values in birth_year column: ' + str(dataset['birth_year'].isnull().sum())\n",
    "        + ' (' + str(round(dataset['birth_year'].isnull().sum() / len(dataset) * 100, 2)) + '%)')\n",
    "\n",
    "print('\\nCount occurrences of each value in birth_year column:')\n",
    "birth_year_counts = dataset['birth_year'].value_counts()\n",
    "print(birth_year_counts)"
   ]
  },
  {
   "cell_type": "code",
   "execution_count": 13,
   "metadata": {},
   "outputs": [
    {
     "name": "stdout",
     "output_type": "stream",
     "text": [
      "Number of invalid birth_year: 0\n"
     ]
    }
   ],
   "source": [
    "# Remove '.0' from 'birth_year' and check if it's a valid year in the form '19nn' or '20nn'\n",
    "def is_valid_year(birth_year):\n",
    "    # Convert to string and remove '.0'\n",
    "    year = str(birth_year).replace('.0', '')\n",
    "    # Check if the year is a digit and starts with '19' or '20'\n",
    "    return year.isdigit() and (year.startswith('19') or year.startswith('20'))\n",
    "\n",
    "# Filter out rows where 'birth_year' is not null\n",
    "invalid_rows = dataset[dataset['birth_year'].notnull()]\n",
    "\n",
    "# Apply the validation function across the 'birth_year' column\n",
    "invalid_rows = invalid_rows[~invalid_rows['birth_year'].apply(is_valid_year)]\n",
    "\n",
    "print('Number of invalid birth_year: ' + str(len(invalid_rows)))\n"
   ]
  },
  {
   "cell_type": "markdown",
   "metadata": {},
   "source": [
    "### Check on 'weight' data"
   ]
  },
  {
   "cell_type": "markdown",
   "metadata": {},
   "source": [
    "Now we consider the `weight` column, and check the number of null values and the count the occurrences of each unique value"
   ]
  },
  {
   "cell_type": "code",
   "execution_count": 15,
   "metadata": {},
   "outputs": [
    {
     "name": "stdout",
     "output_type": "stream",
     "text": [
      "Total number of null values in weight column: 109732 (18.61%)\n",
      "\n",
      "Count occurrences of each value in weight column:\n",
      "weight\n",
      "70.0    41266\n",
      "65.0    37681\n",
      "68.0    34220\n",
      "72.0    26398\n",
      "67.0    26346\n",
      "        ...  \n",
      "67.5       23\n",
      "79.5       22\n",
      "68.8       20\n",
      "74.5       10\n",
      "73.5        7\n",
      "Name: count, Length: 69, dtype: int64\n"
     ]
    }
   ],
   "source": [
    "print('Total number of null values in weight column: ' + str(dataset['weight'].isnull().sum())\n",
    "        + ' (' + str(round(dataset['weight'].isnull().sum() / len(dataset) * 100, 2)) + '%)')\n",
    "\n",
    "print('\\nCount occurrences of each value in weight column:')\n",
    "weight_counts = dataset['weight'].value_counts()\n",
    "print(weight_counts)"
   ]
  },
  {
   "cell_type": "markdown",
   "metadata": {},
   "source": [
    "### Check on 'height' data"
   ]
  },
  {
   "cell_type": "markdown",
   "metadata": {},
   "source": [
    "Now we consider the `height` column, and check the number of null values and the count the occurrences of each unique value"
   ]
  },
  {
   "cell_type": "code",
   "execution_count": 16,
   "metadata": {},
   "outputs": [
    {
     "name": "stdout",
     "output_type": "stream",
     "text": [
      "Total number of null values in height column: 109732 (18.61%)\n",
      "\n",
      "Count occurrences of each value in height column:\n",
      "height\n",
      "180.0    38280\n",
      "178.0    35610\n",
      "181.0    31417\n",
      "183.0    29743\n",
      "175.0    26796\n",
      "182.0    25377\n",
      "179.0    23291\n",
      "185.0    23019\n",
      "173.0    21466\n",
      "174.0    21433\n",
      "176.0    21274\n",
      "184.0    21202\n",
      "186.0    20068\n",
      "177.0    19551\n",
      "190.0    16416\n",
      "172.0    14020\n",
      "170.0    11917\n",
      "171.0    11215\n",
      "187.0    10760\n",
      "188.0     9676\n",
      "169.0     8617\n",
      "191.0     7677\n",
      "189.0     6492\n",
      "164.0     3501\n",
      "193.0     3061\n",
      "167.0     2824\n",
      "168.0     2473\n",
      "192.0     2439\n",
      "194.0     2320\n",
      "165.0     2107\n",
      "195.0     1243\n",
      "197.0     1182\n",
      "198.0     1012\n",
      "159.0      558\n",
      "166.0      511\n",
      "199.0      365\n",
      "160.0      220\n",
      "196.0      189\n",
      "162.0      187\n",
      "154.0      185\n",
      "161.0      111\n",
      "202.0       61\n",
      "204.0       55\n",
      "157.0       33\n",
      "163.0       21\n",
      "200.0       21\n",
      "158.0        8\n",
      "155.0        3\n",
      "Name: count, dtype: int64\n"
     ]
    }
   ],
   "source": [
    "print('Total number of null values in height column: ' + str(dataset['height'].isnull().sum())\n",
    "        + ' (' + str(round(dataset['height'].isnull().sum() / len(dataset) * 100, 2)) + '%)')\n",
    "\n",
    "print('\\nCount occurrences of each value in height column:')\n",
    "height_counts = dataset['height'].value_counts()\n",
    "print(height_counts)"
   ]
  },
  {
   "cell_type": "markdown",
   "metadata": {},
   "source": [
    "### Check on 'nationality' data"
   ]
  },
  {
   "cell_type": "markdown",
   "metadata": {},
   "source": [
    "Now we consider the `nationality` column, and check the number of null values and the count the occurrences of each unique value"
   ]
  },
  {
   "cell_type": "code",
   "execution_count": 17,
   "metadata": {},
   "outputs": [
    {
     "name": "stdout",
     "output_type": "stream",
     "text": [
      "Total number of null values in nationality column: 0 (0.0%)\n",
      "\n",
      "Count occurrences of each value in nationality column:\n",
      "nationality\n",
      "Italy            102130\n",
      "Spain             91041\n",
      "France            84916\n",
      "Belgium           54343\n",
      "Netherlands       36385\n",
      "                  ...  \n",
      "Taiwan                3\n",
      "Liechtenstein         1\n",
      "Tunisia               1\n",
      "Azerbaijan            1\n",
      "Hongkong              1\n",
      "Name: count, Length: 72, dtype: int64\n"
     ]
    }
   ],
   "source": [
    "print('Total number of null values in nationality column: ' + str(dataset['nationality'].isnull().sum())\n",
    "        + ' (' + str(round(dataset['nationality'].isnull().sum() / len(dataset) * 100, 2)) + '%)')\n",
    "\n",
    "print('\\nCount occurrences of each value in nationality column:')\n",
    "nationality_counts = dataset['nationality'].value_counts()\n",
    "print(nationality_counts)"
   ]
  },
  {
   "cell_type": "markdown",
   "metadata": {},
   "source": [
    "## Checks of races data"
   ]
  },
  {
   "cell_type": "markdown",
   "metadata": {},
   "source": [
    "### Check on 'race_url' data"
   ]
  },
  {
   "cell_type": "markdown",
   "metadata": {},
   "source": [
    "We start considering the `_url` column, and check the number of null values and the count the occurrences of each unique value"
   ]
  },
  {
   "cell_type": "code",
   "execution_count": null,
   "metadata": {},
   "outputs": [
    {
     "name": "stdout",
     "output_type": "stream",
     "text": [
      "Total number of null values in _url column: 0 (0.0%)\n",
      "\n",
      "Count occurrences of each value in _url column:\n",
      "_url\n",
      "tour-de-france/1986/stage-1     210\n",
      "tour-de-france/1986/prologue    210\n",
      "tour-de-france/1987/prologue    207\n",
      "giro-d-italia/2011/stage-2      206\n",
      "tour-de-france/1987/stage-1     206\n",
      "                               ... \n",
      "il-lombardia/1972/result          1\n",
      "giro-d-italia/2001/stage-14       1\n",
      "tour-de-suisse/1972/stage-2       1\n",
      "tour-de-suisse/1972/stage-7       1\n",
      "tour-de-suisse/1972/stage-6b      1\n",
      "Name: count, Length: 5281, dtype: int64\n"
     ]
    }
   ],
   "source": [
    "print('Total number of null values in _url column: ' + str(dataset['_url'].isnull().sum())\n",
    "      + ' (' + str(round(dataset['_url'].isnull().sum() / len(dataset) * 100, 2)) + '%)')\n",
    "\n",
    "print('\\nCount occurrences of each value in _url column:')\n",
    "url_counts = dataset['_url'].value_counts()\n",
    "print(url_counts)"
   ]
  },
  {
   "cell_type": "markdown",
   "metadata": {},
   "source": [
    "We have lots of different values, but no null values"
   ]
  },
  {
   "cell_type": "markdown",
   "metadata": {},
   "source": [
    "In this block we check if there are `_url` values that are not in the form name/year/stage"
   ]
  },
  {
   "cell_type": "code",
   "execution_count": null,
   "metadata": {},
   "outputs": [
    {
     "name": "stdout",
     "output_type": "stream",
     "text": [
      "Number of invalid URLs: 0\n"
     ]
    }
   ],
   "source": [
    "# Split url by / in name, year and stage\n",
    "url_split = dataset['_url'].str.split('/', expand=True)\n",
    "# Check null elements in url_split[0], url_split[1] and url_split[2], and if url_split[1] contains only digits\n",
    "invalid_rows = dataset[url_split[0].isnull() | url_split[1].isnull() | url_split[2].isnull() | ~url_split[1].str.isdigit()]\n",
    "print('Number of invalid URLs: ' + str(len(invalid_rows)))"
   ]
  },
  {
   "cell_type": "code",
   "execution_count": null,
   "metadata": {},
   "outputs": [
    {
     "name": "stdout",
     "output_type": "stream",
     "text": [
      "_url\n",
      "tour-de-romandie/1992/stage-6     5\n",
      "dauphine/1983/prologue            5\n",
      "tour-de-romandie/1989/stage-1     5\n",
      "tirreno-adriatico/1996/stage-7    5\n",
      "volta-a-catalunya/1992/stage-2    5\n",
      "                                 ..\n",
      "il-lombardia/1972/result          1\n",
      "giro-d-italia/2001/stage-14       1\n",
      "tour-de-suisse/1972/stage-2       1\n",
      "tour-de-suisse/1972/stage-7       1\n",
      "tour-de-suisse/1972/stage-6b      1\n",
      "Name: count, Length: 146, dtype: int64\n"
     ]
    }
   ],
   "source": [
    "#TODO: Chiedere sulle gare dove ci sono un solo o pochi partecipanti\n",
    "\n",
    "url_counts = dataset['_url'].value_counts()\n",
    "\n",
    "# From url_counts, get the urls where the number of occurrence is less than 2\n",
    "print(url_counts[url_counts < 6])"
   ]
  },
  {
   "cell_type": "markdown",
   "metadata": {},
   "source": [
    "### Check on 'race_name' data"
   ]
  },
  {
   "cell_type": "markdown",
   "metadata": {},
   "source": [
    "Now we consider the `name` column, and check the number of null values and the count the occurrences of each unique value"
   ]
  },
  {
   "cell_type": "code",
   "execution_count": null,
   "metadata": {},
   "outputs": [
    {
     "name": "stdout",
     "output_type": "stream",
     "text": [
      "Total number of null values in name column: 0 (0.0%)\n",
      "\n",
      "\n",
      "Count occurrences of each value in name column:\n",
      "name\n",
      "Tour de France                     145500\n",
      "Giro d'Italia                       95581\n",
      "Vuelta a España                     89222\n",
      "Tour de Suisse                      33682\n",
      "Paris - Nice                        32362\n",
      "                                    ...  \n",
      "E3 Saxo Classic                       101\n",
      "E3 BinckBank Classic                   99\n",
      "E3 Prijs Vlaanderen - Harelbeke        98\n",
      "Clásica Ciclista San Sebastian         84\n",
      "Clásica San Sebastián                  52\n",
      "Name: count, Length: 61, dtype: int64\n"
     ]
    }
   ],
   "source": [
    "print('Total number of null values in name column: ' + str(dataset['name'].isnull().sum())\n",
    "      + ' (' + str(round(dataset['name'].isnull().sum() / len(dataset) * 100, 2)) + '%)')\n",
    "\n",
    "print('\\n\\nCount occurrences of each value in name column:')\n",
    "name_counts = dataset['name'].value_counts()\n",
    "print(name_counts)"
   ]
  },
  {
   "cell_type": "markdown",
   "metadata": {},
   "source": [
    "We have different values, but no null values"
   ]
  },
  {
   "cell_type": "markdown",
   "metadata": {},
   "source": [
    "Since it's small, we print all the values"
   ]
  },
  {
   "cell_type": "code",
   "execution_count": null,
   "metadata": {},
   "outputs": [
    {
     "name": "stdout",
     "output_type": "stream",
     "text": [
      "Index(['Amstel Gold Race', 'Clasica Ciclista San Sebastian',\n",
      "       'Clásica Ciclista San Sebastian', 'Clásica Ciclista San Sebastián',\n",
      "       'Clásica San Sebastián', 'Criterium du Dauphiné',\n",
      "       'Criterium du Dauphiné Libére', 'Critérium du Dauphiné',\n",
      "       'Critérium du Dauphiné Libéré', 'Donostia San Sebastian Klasikoa',\n",
      "       'Dwars door België / À travers la Belgique', 'Dwars door Vlaanderen',\n",
      "       'Dwars door Vlaanderen - A travers la Flandre ME',\n",
      "       'Dwars door Vlaanderen / A travers la Flandre',\n",
      "       'Dwars door Vlaanderen / A travers la Flandre ME',\n",
      "       'E3 BinckBank Classic', 'E3 Harelbeke', 'E3 Prijs Vlaanderen',\n",
      "       'E3 Prijs Vlaanderen - Harelbeke', 'E3 Saxo Bank Classic',\n",
      "       'E3 Saxo Classic', 'E3-Prijs Harelbeke', 'Giro d'Italia',\n",
      "       'Giro di Lombardia', 'Gran Camiño', 'Grand Prix Cycliste de Montréal',\n",
      "       'Grand Prix Cycliste de Quebec', 'Grand Prix Cycliste de Québec',\n",
      "       'Il Lombardia', 'Itzulia Basque Country', 'La Flèche Wallonne',\n",
      "       'La Vuelta ciclista a España', 'Liège - Bastogne - Liège',\n",
      "       'Liège-Bastogne-Liège', 'Milano-Sanremo', 'Monte Paschi Eroica',\n",
      "       'Montepaschi Strade Bianche - Eroica Toscana', 'O Gran Camiño',\n",
      "       'Omloop Het Nieuwsblad ME', 'Omloop Het Volk', 'Omloop Het Volk ME',\n",
      "       'Paris - Nice', 'Paris - Roubaix', 'Paris-Roubaix',\n",
      "       'Record Bank E3 Harelbeke',\n",
      "       'Ronde van Vlaanderen - Tour des Flandres ME',\n",
      "       'Ronde van Vlaanderen / Tour des Flandres',\n",
      "       'Ronde van Vlaanderen / Tour des Flandres ME', 'Strade Bianche',\n",
      "       'Tirreno-Adriatico', 'Tour de France', 'Tour de Romandie',\n",
      "       'Tour de Suisse', 'UAE Tour', 'Volta Ciclista a Catalunya',\n",
      "       'Volta a Catalunya', 'Vuelta Ciclista al País Vasco', 'Vuelta a España',\n",
      "       'Vuelta al País Vasco', 'World Championships - Road Race',\n",
      "       'World Championships ME - Road Race'],\n",
      "      dtype='object', name='name')\n"
     ]
    }
   ],
   "source": [
    "# Print all the names that appear, alphabetically ordered\n",
    "print(name_counts.index.sort_values())"
   ]
  },
  {
   "cell_type": "markdown",
   "metadata": {},
   "source": [
    "For each url, check if all the `name` values are the same\n"
   ]
  },
  {
   "cell_type": "code",
   "execution_count": null,
   "metadata": {},
   "outputs": [
    {
     "name": "stdout",
     "output_type": "stream",
     "text": [
      "Number of URLs with more than one unique name: 0\n"
     ]
    }
   ],
   "source": [
    "# Group by '_url' and calculate the number of unique values in the 'name' column\n",
    "name_uniques = dataset.groupby('_url')['name'].nunique(dropna=False)\n",
    "# Filter the URLs with more than one unique name\n",
    "multiple_names_urls = name_uniques[name_uniques > 1].index\n",
    "\n",
    "print('Number of URLs with more than one unique name: ' + str(len(multiple_names_urls)))"
   ]
  },
  {
   "cell_type": "markdown",
   "metadata": {},
   "source": [
    "In this block we are checking if there are `name` values that contains any incorrect numbers"
   ]
  },
  {
   "cell_type": "code",
   "execution_count": null,
   "metadata": {},
   "outputs": [
    {
     "name": "stdout",
     "output_type": "stream",
     "text": [
      "Number of invalid names: 0\n"
     ]
    }
   ],
   "source": [
    "# Get rows wehere 'name' value contains any number, except for names containing 'E3' (there are some races with E3 in the name)\n",
    "invalid_rows = dataset[dataset['name'].str.contains(r'\\d') & ~dataset['name'].str.contains('E3')]\n",
    "print('Number of invalid names: ' + str(len(invalid_rows)))"
   ]
  },
  {
   "cell_type": "markdown",
   "metadata": {},
   "source": [
    "### Check on 'points' data"
   ]
  },
  {
   "cell_type": "markdown",
   "metadata": {},
   "source": [
    "Now we consider the `point` column, and check the number of null values and the count the occurrences of each unique value"
   ]
  },
  {
   "cell_type": "code",
   "execution_count": null,
   "metadata": {},
   "outputs": [
    {
     "name": "stdout",
     "output_type": "stream",
     "text": [
      "Total number of null values in points column: 477 (0.08%)\n",
      "\n",
      "Count occurrences of each value in points column:\n",
      "points\n",
      "80.0     198878\n",
      "50.0     186102\n",
      "100.0    141706\n",
      "275.0     22299\n",
      "225.0     19536\n",
      "125.0      5992\n",
      "30.0       4313\n",
      "350.0      3917\n",
      "70.0       3299\n",
      "75.0       1963\n",
      "20.0        792\n",
      "18.0        292\n",
      "35.0        183\n",
      "150.0       116\n",
      "Name: count, dtype: int64\n"
     ]
    }
   ],
   "source": [
    "print('Total number of null values in points column: ' + str(dataset['points'].isnull().sum())\n",
    "      + ' (' + str(round(dataset['points'].isnull().sum() / len(dataset) * 100, 2)) + '%)')\n",
    "\n",
    "print('\\nCount occurrences of each value in points column:')\n",
    "point_counts = dataset['points'].value_counts()\n",
    "print(point_counts)"
   ]
  },
  {
   "cell_type": "markdown",
   "metadata": {},
   "source": [
    "We have not a lot of values, and few null values. Also, we see that every value is sintatically correct"
   ]
  },
  {
   "cell_type": "markdown",
   "metadata": {},
   "source": [
    "For each url, check if all the `name` values are the same"
   ]
  },
  {
   "cell_type": "code",
   "execution_count": null,
   "metadata": {},
   "outputs": [
    {
     "name": "stdout",
     "output_type": "stream",
     "text": [
      "Number of URLs with more than one unique points: 0\n"
     ]
    }
   ],
   "source": [
    "# Group by '_url' and calculate the number of unique values in the 'points' column\n",
    "points_uniques = dataset.groupby('_url')['points'].nunique(dropna=False)\n",
    "# Filter the URLs with more than one unique points\n",
    "multiple_points_urls = points_uniques[points_uniques > 1].index\n",
    "\n",
    "print('Number of URLs with more than one unique points: ' + str(len(multiple_points_urls)))"
   ]
  },
  {
   "cell_type": "markdown",
   "metadata": {},
   "source": [
    "We check the urls where `points` is null"
   ]
  },
  {
   "cell_type": "code",
   "execution_count": null,
   "metadata": {},
   "outputs": [
    {
     "name": "stdout",
     "output_type": "stream",
     "text": [
      "Number of urls with null points: 4\n",
      "\n",
      "URLs of the rows with null points:\n",
      "156755    vuelta-a-espana/1994/stage-5\n",
      "461300    tour-de-france/1986/stage-19\n",
      "517517    tour-de-france/1988/prologue\n",
      "561313    tour-de-france/2019/stage-19\n",
      "Name: _url, dtype: object\n"
     ]
    }
   ],
   "source": [
    "# Get unique data based on '_url' and 'points'\n",
    "unique_data = dataset.drop_duplicates(subset=['_url', 'points'])\n",
    "# Get rows where 'points' is null\n",
    "rows = unique_data[unique_data['points'].isnull()]\n",
    "\n",
    "print('Number of urls with null points: ' + str(len(rows)))\n",
    "print('\\nURLs of the rows with null points:')\n",
    "print(rows['_url'])"
   ]
  },
  {
   "cell_type": "markdown",
   "metadata": {},
   "source": [
    "### Check on 'uci_points' data"
   ]
  },
  {
   "cell_type": "markdown",
   "metadata": {},
   "source": [
    "Now we consider the `uci_points` column, and check the number of null values and the count the occurrences of each unique value"
   ]
  },
  {
   "cell_type": "code",
   "execution_count": null,
   "metadata": {},
   "outputs": [
    {
     "name": "stdout",
     "output_type": "stream",
     "text": [
      "Total number of null values in uci_points column: 338779 (57.43%)\n",
      "\n",
      "Count occurrences of each value in uci_points column:\n",
      "uci_points\n",
      "100.0    47640\n",
      "6.0      43390\n",
      "16.0     41103\n",
      "60.0     39317\n",
      "20.0     21303\n",
      "120.0    20785\n",
      "50.0     13266\n",
      "500.0     6096\n",
      "40.0      4102\n",
      "210.0     3449\n",
      "180.0     3103\n",
      "400.0     2571\n",
      "300.0     2057\n",
      "14.0       792\n",
      "600.0      675\n",
      "800.0      514\n",
      "200.0      338\n",
      "80.0       328\n",
      "10.0       148\n",
      "402.0      109\n",
      "Name: count, dtype: int64\n"
     ]
    }
   ],
   "source": [
    "print('Total number of null values in uci_points column: ' + str(dataset['uci_points'].isnull().sum())\n",
    "      + ' (' + str(round(dataset['uci_points'].isnull().sum() / len(dataset) * 100, 2)) + '%)')\n",
    "\n",
    "print('\\nCount occurrences of each value in uci_points column:')\n",
    "uci_point_counts = dataset['uci_points'].value_counts()\n",
    "print(uci_point_counts)"
   ]
  },
  {
   "cell_type": "markdown",
   "metadata": {},
   "source": [
    "We have different values, but a lot of null values. Also, we see that every value is sintatically correct"
   ]
  },
  {
   "cell_type": "markdown",
   "metadata": {},
   "source": [
    "For each url, check if all the `uci_points` values are the same"
   ]
  },
  {
   "cell_type": "code",
   "execution_count": null,
   "metadata": {},
   "outputs": [
    {
     "name": "stdout",
     "output_type": "stream",
     "text": [
      "Number of URLs with more than one unique uci_points: 0\n"
     ]
    }
   ],
   "source": [
    "# Group by '_url' and calculate the number of unique values in the 'uci_points' column\n",
    "uci_points_uniques = dataset.groupby('_url')['uci_points'].nunique(dropna=False)\n",
    "# Filter the URLs with more than one unique uci_points\n",
    "multiple_uci_points_urls = uci_points_uniques[uci_points_uniques > 1].index\n",
    "\n",
    "print('Number of URLs with more than one unique uci_points: ' + str(len(multiple_uci_points_urls)))"
   ]
  },
  {
   "cell_type": "markdown",
   "metadata": {},
   "source": [
    "We check the urls where `uci_points` is null"
   ]
  },
  {
   "cell_type": "code",
   "execution_count": null,
   "metadata": {},
   "outputs": [
    {
     "name": "stdout",
     "output_type": "stream",
     "text": [
      "Number of rows with null uci_points: 3682\n",
      "\n",
      "URLs of the rows with null uci_points:\n",
      "0             tour-de-france/1978/stage-6\n",
      "426       volta-a-catalunya/1999/prologue\n",
      "866          tour-de-france/1978/stage-14\n",
      "1075      volta-a-catalunya/1981/stage-2b\n",
      "1084             paris-nice/1994/stage-8b\n",
      "                       ...               \n",
      "588250              gp-quebec/2010/result\n",
      "588712       tour-de-france/1982/stage-21\n",
      "588837     tirreno-adriatico/1993/stage-3\n",
      "589397          paris-roubaix/2000/result\n",
      "589463            paris-nice/1976/stage-2\n",
      "Name: _url, Length: 3682, dtype: object\n"
     ]
    }
   ],
   "source": [
    "# Get unique data based on '_url' and 'uci_points'\n",
    "unique_data = dataset.drop_duplicates(subset=['_url', 'uci_points'])\n",
    "# Get rows where 'uci_points' is null\n",
    "rows = unique_data[unique_data['uci_points'].isnull()]\n",
    "\n",
    "print('Number of rows with null uci_points: ' + str(len(rows)))\n",
    "print('\\nURLs of the rows with null uci_points:')\n",
    "print(rows['_url'])"
   ]
  },
  {
   "cell_type": "markdown",
   "metadata": {},
   "source": [
    "We check rows where `point` is null but not `uci_point`"
   ]
  },
  {
   "cell_type": "code",
   "execution_count": null,
   "metadata": {},
   "outputs": [
    {
     "name": "stdout",
     "output_type": "stream",
     "text": [
      "Number of rows with null uci_points: 0\n"
     ]
    }
   ],
   "source": [
    "# Get unique data based on '_url' and 'uci_points'\n",
    "unique_data = dataset.drop_duplicates(subset=['_url', 'uci_points'])\n",
    "# Get rows where 'uci_points' is not null, but 'points' is null\n",
    "rows = unique_data[unique_data['uci_points'].notnull() & unique_data['points'].isnull()]\n",
    "\n",
    "print('Number of rows with null uci_points: ' + str(len(rows)))"
   ]
  },
  {
   "cell_type": "markdown",
   "metadata": {},
   "source": [
    "### Check on 'length' data"
   ]
  },
  {
   "cell_type": "markdown",
   "metadata": {},
   "source": [
    "Now we consider the `length` column, and check the number of null values and the count the occurrences of each unique value"
   ]
  },
  {
   "cell_type": "code",
   "execution_count": null,
   "metadata": {},
   "outputs": [
    {
     "name": "stdout",
     "output_type": "stream",
     "text": [
      "Total number of null values in length column: 0 (0.0%)\n",
      "\n",
      "Count occurrences of each value in length column:\n",
      "length\n",
      "177000.0    5039\n",
      "170000.0    4717\n",
      "195000.0    4413\n",
      "200000.0    4401\n",
      "178000.0    4286\n",
      "            ... \n",
      "4500.0         5\n",
      "107000.0       5\n",
      "123100.0       5\n",
      "142700.0       5\n",
      "2000.0         3\n",
      "Name: count, Length: 1280, dtype: int64\n"
     ]
    }
   ],
   "source": [
    "print('Total number of null values in length column: ' + str(dataset['length'].isnull().sum())\n",
    "      + ' (' + str(round(dataset['length'].isnull().sum() / len(dataset) * 100, 2)) + '%)')\n",
    "\n",
    "print('\\nCount occurrences of each value in length column:')\n",
    "length_counts = dataset['length'].value_counts()\n",
    "print(length_counts)"
   ]
  },
  {
   "cell_type": "markdown",
   "metadata": {},
   "source": [
    "We have a lot of values, but no null values"
   ]
  },
  {
   "cell_type": "markdown",
   "metadata": {},
   "source": [
    "For each url, check if all the `length` values are the same"
   ]
  },
  {
   "cell_type": "code",
   "execution_count": null,
   "metadata": {},
   "outputs": [
    {
     "name": "stdout",
     "output_type": "stream",
     "text": [
      "Number of URLs with more than one unique length: 0\n"
     ]
    }
   ],
   "source": [
    "# Group by '_url' and calculate the number of unique values in the 'length' column\n",
    "length_uniques = dataset.groupby('_url')['length'].nunique(dropna=False)\n",
    "# Filter the URLs with more than one unique length\n",
    "multiple_length_urls = length_uniques[length_uniques > 1].index\n",
    "\n",
    "print('Number of URLs with more than one unique length: ' + str(len(multiple_length_urls)))"
   ]
  },
  {
   "cell_type": "markdown",
   "metadata": {},
   "source": [
    "Since we have a lot of values, we check if every value is sintatically correct."
   ]
  },
  {
   "cell_type": "code",
   "execution_count": null,
   "metadata": {},
   "outputs": [
    {
     "data": {
      "text/plain": [
       "dtype('float64')"
      ]
     },
     "metadata": {},
     "output_type": "display_data"
    }
   ],
   "source": [
    "# Check that every value is a digit\n",
    "dataset['length'].dtype"
   ]
  },
  {
   "cell_type": "code",
   "execution_count": null,
   "metadata": {},
   "outputs": [
    {
     "name": "stdout",
     "output_type": "stream",
     "text": [
      "Number of invalid lengths: 954\n",
      "tour-de-suisse/1992/stage-4 32200.000000000004\n",
      "tour-de-suisse/1992/stage-4 32200.000000000004\n",
      "tour-de-suisse/1992/stage-4 32200.000000000004\n",
      "tour-de-suisse/1992/stage-4 32200.000000000004\n",
      "tour-de-suisse/1992/stage-4 32200.000000000004\n",
      "tour-de-suisse/1992/stage-4 32200.000000000004\n",
      "tour-de-suisse/1992/stage-4 32200.000000000004\n",
      "tour-de-suisse/1992/stage-4 32200.000000000004\n",
      "tour-de-suisse/1992/stage-4 32200.000000000004\n",
      "tour-de-suisse/1992/stage-4 32200.000000000004\n",
      "amstel-gold-race/2009/result 258600.00000000003\n",
      "amstel-gold-race/2009/result 258600.00000000003\n",
      "amstel-gold-race/2009/result 258600.00000000003\n",
      "amstel-gold-race/2009/result 258600.00000000003\n",
      "amstel-gold-race/2009/result 258600.00000000003\n",
      "amstel-gold-race/2009/result 258600.00000000003\n",
      "amstel-gold-race/2009/result 258600.00000000003\n",
      "amstel-gold-race/2009/result 258600.00000000003\n",
      "amstel-gold-race/2009/result 258600.00000000003\n",
      "amstel-gold-race/2009/result 258600.00000000003\n",
      "amstel-gold-race/2009/result 258600.00000000003\n",
      "amstel-gold-race/2009/result 258600.00000000003\n",
      "amstel-gold-race/2009/result 258600.00000000003\n",
      "amstel-gold-race/2009/result 258600.00000000003\n",
      "amstel-gold-race/2009/result 258600.00000000003\n",
      "amstel-gold-race/2009/result 258600.00000000003\n",
      "amstel-gold-race/2009/result 258600.00000000003\n",
      "amstel-gold-race/2009/result 258600.00000000003\n",
      "amstel-gold-race/2009/result 258600.00000000003\n",
      "amstel-gold-race/2009/result 258600.00000000003\n",
      "amstel-gold-race/2009/result 258600.00000000003\n",
      "amstel-gold-race/2009/result 258600.00000000003\n",
      "amstel-gold-race/2009/result 258600.00000000003\n",
      "amstel-gold-race/2009/result 258600.00000000003\n",
      "amstel-gold-race/2009/result 258600.00000000003\n",
      "amstel-gold-race/2009/result 258600.00000000003\n",
      "amstel-gold-race/2009/result 258600.00000000003\n",
      "amstel-gold-race/2009/result 258600.00000000003\n",
      "amstel-gold-race/2009/result 258600.00000000003\n",
      "amstel-gold-race/2009/result 258600.00000000003\n",
      "amstel-gold-race/2009/result 258600.00000000003\n",
      "amstel-gold-race/2009/result 258600.00000000003\n",
      "amstel-gold-race/2009/result 258600.00000000003\n",
      "amstel-gold-race/2009/result 258600.00000000003\n",
      "amstel-gold-race/2009/result 258600.00000000003\n",
      "amstel-gold-race/2009/result 258600.00000000003\n",
      "amstel-gold-race/2009/result 258600.00000000003\n",
      "amstel-gold-race/2009/result 258600.00000000003\n",
      "amstel-gold-race/2009/result 258600.00000000003\n",
      "amstel-gold-race/2009/result 258600.00000000003\n",
      "amstel-gold-race/2009/result 258600.00000000003\n",
      "amstel-gold-race/2009/result 258600.00000000003\n",
      "amstel-gold-race/2009/result 258600.00000000003\n",
      "amstel-gold-race/2009/result 258600.00000000003\n",
      "amstel-gold-race/2009/result 258600.00000000003\n",
      "amstel-gold-race/2009/result 258600.00000000003\n",
      "amstel-gold-race/2009/result 258600.00000000003\n",
      "amstel-gold-race/2009/result 258600.00000000003\n",
      "amstel-gold-race/2009/result 258600.00000000003\n",
      "amstel-gold-race/2009/result 258600.00000000003\n",
      "amstel-gold-race/2009/result 258600.00000000003\n",
      "amstel-gold-race/2009/result 258600.00000000003\n",
      "amstel-gold-race/2009/result 258600.00000000003\n",
      "amstel-gold-race/2009/result 258600.00000000003\n",
      "amstel-gold-race/2009/result 258600.00000000003\n",
      "amstel-gold-race/2009/result 258600.00000000003\n",
      "amstel-gold-race/2009/result 258600.00000000003\n",
      "amstel-gold-race/2009/result 258600.00000000003\n",
      "amstel-gold-race/2009/result 258600.00000000003\n",
      "amstel-gold-race/2009/result 258600.00000000003\n",
      "amstel-gold-race/2009/result 258600.00000000003\n",
      "amstel-gold-race/2009/result 258600.00000000003\n",
      "amstel-gold-race/2009/result 258600.00000000003\n",
      "amstel-gold-race/2009/result 258600.00000000003\n",
      "amstel-gold-race/2009/result 258600.00000000003\n",
      "amstel-gold-race/2009/result 258600.00000000003\n",
      "amstel-gold-race/2009/result 258600.00000000003\n",
      "amstel-gold-race/2009/result 258600.00000000003\n",
      "amstel-gold-race/2009/result 258600.00000000003\n",
      "amstel-gold-race/2009/result 258600.00000000003\n",
      "amstel-gold-race/2009/result 258600.00000000003\n",
      "amstel-gold-race/2009/result 258600.00000000003\n",
      "amstel-gold-race/2009/result 258600.00000000003\n",
      "amstel-gold-race/2009/result 258600.00000000003\n",
      "amstel-gold-race/2009/result 258600.00000000003\n",
      "amstel-gold-race/2009/result 258600.00000000003\n",
      "amstel-gold-race/2009/result 258600.00000000003\n",
      "amstel-gold-race/2009/result 258600.00000000003\n",
      "amstel-gold-race/2009/result 258600.00000000003\n",
      "amstel-gold-race/2009/result 258600.00000000003\n",
      "amstel-gold-race/2009/result 258600.00000000003\n",
      "amstel-gold-race/2009/result 258600.00000000003\n",
      "amstel-gold-race/2009/result 258600.00000000003\n",
      "amstel-gold-race/2009/result 258600.00000000003\n",
      "amstel-gold-race/2009/result 258600.00000000003\n",
      "amstel-gold-race/2009/result 258600.00000000003\n",
      "amstel-gold-race/2009/result 258600.00000000003\n",
      "amstel-gold-race/2009/result 258600.00000000003\n",
      "amstel-gold-race/2009/result 258600.00000000003\n",
      "amstel-gold-race/2009/result 258600.00000000003\n",
      "amstel-gold-race/2009/result 258600.00000000003\n",
      "amstel-gold-race/2009/result 258600.00000000003\n",
      "amstel-gold-race/2009/result 258600.00000000003\n",
      "amstel-gold-race/2009/result 258600.00000000003\n",
      "amstel-gold-race/2009/result 258600.00000000003\n",
      "amstel-gold-race/2009/result 258600.00000000003\n",
      "amstel-gold-race/2009/result 258600.00000000003\n",
      "amstel-gold-race/2009/result 258600.00000000003\n",
      "amstel-gold-race/2009/result 258600.00000000003\n",
      "amstel-gold-race/2009/result 258600.00000000003\n",
      "amstel-gold-race/2009/result 258600.00000000003\n",
      "amstel-gold-race/2009/result 258600.00000000003\n",
      "amstel-gold-race/2009/result 258600.00000000003\n",
      "amstel-gold-race/2009/result 258600.00000000003\n",
      "amstel-gold-race/2009/result 258600.00000000003\n",
      "amstel-gold-race/2009/result 258600.00000000003\n",
      "amstel-gold-race/2009/result 258600.00000000003\n",
      "amstel-gold-race/2009/result 258600.00000000003\n",
      "amstel-gold-race/2009/result 258600.00000000003\n",
      "amstel-gold-race/2009/result 258600.00000000003\n",
      "amstel-gold-race/2009/result 258600.00000000003\n",
      "amstel-gold-race/2009/result 258600.00000000003\n",
      "amstel-gold-race/2009/result 258600.00000000003\n",
      "amstel-gold-race/2009/result 258600.00000000003\n",
      "amstel-gold-race/2009/result 258600.00000000003\n",
      "amstel-gold-race/2009/result 258600.00000000003\n",
      "amstel-gold-race/2009/result 258600.00000000003\n",
      "amstel-gold-race/2009/result 258600.00000000003\n",
      "amstel-gold-race/2009/result 258600.00000000003\n",
      "amstel-gold-race/2009/result 258600.00000000003\n",
      "amstel-gold-race/2009/result 258600.00000000003\n",
      "paris-roubaix/2023/result 256600.00000000003\n",
      "paris-roubaix/2023/result 256600.00000000003\n",
      "paris-roubaix/2023/result 256600.00000000003\n",
      "paris-roubaix/2023/result 256600.00000000003\n",
      "paris-roubaix/2023/result 256600.00000000003\n",
      "paris-roubaix/2023/result 256600.00000000003\n",
      "paris-roubaix/2023/result 256600.00000000003\n",
      "paris-roubaix/2023/result 256600.00000000003\n",
      "paris-roubaix/2023/result 256600.00000000003\n",
      "paris-roubaix/2023/result 256600.00000000003\n",
      "paris-roubaix/2023/result 256600.00000000003\n",
      "paris-roubaix/2023/result 256600.00000000003\n",
      "paris-roubaix/2023/result 256600.00000000003\n",
      "paris-roubaix/2023/result 256600.00000000003\n",
      "paris-roubaix/2023/result 256600.00000000003\n",
      "paris-roubaix/2023/result 256600.00000000003\n",
      "paris-roubaix/2023/result 256600.00000000003\n",
      "paris-roubaix/2023/result 256600.00000000003\n",
      "paris-roubaix/2023/result 256600.00000000003\n",
      "paris-roubaix/2023/result 256600.00000000003\n",
      "paris-roubaix/2023/result 256600.00000000003\n",
      "paris-roubaix/2023/result 256600.00000000003\n",
      "paris-roubaix/2023/result 256600.00000000003\n",
      "paris-roubaix/2023/result 256600.00000000003\n",
      "paris-roubaix/2023/result 256600.00000000003\n",
      "paris-roubaix/2023/result 256600.00000000003\n",
      "paris-roubaix/2023/result 256600.00000000003\n",
      "paris-roubaix/2023/result 256600.00000000003\n",
      "paris-roubaix/2023/result 256600.00000000003\n",
      "paris-roubaix/2023/result 256600.00000000003\n",
      "paris-roubaix/2023/result 256600.00000000003\n",
      "paris-roubaix/2023/result 256600.00000000003\n",
      "paris-roubaix/2023/result 256600.00000000003\n",
      "paris-roubaix/2023/result 256600.00000000003\n",
      "paris-roubaix/2023/result 256600.00000000003\n",
      "paris-roubaix/2023/result 256600.00000000003\n",
      "paris-roubaix/2023/result 256600.00000000003\n",
      "paris-roubaix/2023/result 256600.00000000003\n",
      "paris-roubaix/2023/result 256600.00000000003\n",
      "paris-roubaix/2023/result 256600.00000000003\n",
      "paris-roubaix/2023/result 256600.00000000003\n",
      "paris-roubaix/2023/result 256600.00000000003\n",
      "paris-roubaix/2023/result 256600.00000000003\n",
      "paris-roubaix/2023/result 256600.00000000003\n",
      "paris-roubaix/2023/result 256600.00000000003\n",
      "paris-roubaix/2023/result 256600.00000000003\n",
      "paris-roubaix/2023/result 256600.00000000003\n",
      "paris-roubaix/2023/result 256600.00000000003\n",
      "paris-roubaix/2023/result 256600.00000000003\n",
      "paris-roubaix/2023/result 256600.00000000003\n",
      "paris-roubaix/2023/result 256600.00000000003\n",
      "paris-roubaix/2023/result 256600.00000000003\n",
      "paris-roubaix/2023/result 256600.00000000003\n",
      "paris-roubaix/2023/result 256600.00000000003\n",
      "paris-roubaix/2023/result 256600.00000000003\n",
      "paris-roubaix/2023/result 256600.00000000003\n",
      "paris-roubaix/2023/result 256600.00000000003\n",
      "paris-roubaix/2023/result 256600.00000000003\n",
      "paris-roubaix/2023/result 256600.00000000003\n",
      "paris-roubaix/2023/result 256600.00000000003\n",
      "paris-roubaix/2023/result 256600.00000000003\n",
      "paris-roubaix/2023/result 256600.00000000003\n",
      "paris-roubaix/2023/result 256600.00000000003\n",
      "paris-roubaix/2023/result 256600.00000000003\n",
      "paris-roubaix/2023/result 256600.00000000003\n",
      "paris-roubaix/2023/result 256600.00000000003\n",
      "paris-roubaix/2023/result 256600.00000000003\n",
      "paris-roubaix/2023/result 256600.00000000003\n",
      "paris-roubaix/2023/result 256600.00000000003\n",
      "paris-roubaix/2023/result 256600.00000000003\n",
      "paris-roubaix/2023/result 256600.00000000003\n",
      "paris-roubaix/2023/result 256600.00000000003\n",
      "paris-roubaix/2023/result 256600.00000000003\n",
      "paris-roubaix/2023/result 256600.00000000003\n",
      "paris-roubaix/2023/result 256600.00000000003\n",
      "paris-roubaix/2023/result 256600.00000000003\n",
      "paris-roubaix/2023/result 256600.00000000003\n",
      "paris-roubaix/2023/result 256600.00000000003\n",
      "paris-roubaix/2023/result 256600.00000000003\n",
      "paris-roubaix/2023/result 256600.00000000003\n",
      "paris-roubaix/2023/result 256600.00000000003\n",
      "paris-roubaix/2023/result 256600.00000000003\n",
      "paris-roubaix/2023/result 256600.00000000003\n",
      "paris-roubaix/2023/result 256600.00000000003\n",
      "paris-roubaix/2023/result 256600.00000000003\n",
      "paris-roubaix/2023/result 256600.00000000003\n",
      "paris-roubaix/2023/result 256600.00000000003\n",
      "paris-roubaix/2023/result 256600.00000000003\n",
      "paris-roubaix/2023/result 256600.00000000003\n",
      "paris-roubaix/2023/result 256600.00000000003\n",
      "paris-roubaix/2023/result 256600.00000000003\n",
      "paris-roubaix/2023/result 256600.00000000003\n",
      "paris-roubaix/2023/result 256600.00000000003\n",
      "paris-roubaix/2023/result 256600.00000000003\n",
      "paris-roubaix/2023/result 256600.00000000003\n",
      "paris-roubaix/2023/result 256600.00000000003\n",
      "paris-roubaix/2023/result 256600.00000000003\n",
      "paris-roubaix/2023/result 256600.00000000003\n",
      "paris-roubaix/2023/result 256600.00000000003\n",
      "paris-roubaix/2023/result 256600.00000000003\n",
      "paris-roubaix/2023/result 256600.00000000003\n",
      "paris-roubaix/2023/result 256600.00000000003\n",
      "paris-roubaix/2023/result 256600.00000000003\n",
      "paris-roubaix/2023/result 256600.00000000003\n",
      "paris-roubaix/2023/result 256600.00000000003\n",
      "paris-roubaix/2023/result 256600.00000000003\n",
      "paris-roubaix/2023/result 256600.00000000003\n",
      "paris-roubaix/2023/result 256600.00000000003\n",
      "paris-roubaix/2023/result 256600.00000000003\n",
      "paris-roubaix/2023/result 256600.00000000003\n",
      "paris-roubaix/2023/result 256600.00000000003\n",
      "paris-roubaix/2023/result 256600.00000000003\n",
      "paris-roubaix/2023/result 256600.00000000003\n",
      "paris-roubaix/2023/result 256600.00000000003\n",
      "paris-roubaix/2023/result 256600.00000000003\n",
      "paris-roubaix/2023/result 256600.00000000003\n",
      "paris-roubaix/2023/result 256600.00000000003\n",
      "paris-roubaix/2023/result 256600.00000000003\n",
      "paris-roubaix/2023/result 256600.00000000003\n",
      "paris-roubaix/2023/result 256600.00000000003\n",
      "paris-roubaix/2023/result 256600.00000000003\n",
      "paris-roubaix/2023/result 256600.00000000003\n",
      "paris-roubaix/2023/result 256600.00000000003\n",
      "paris-roubaix/2023/result 256600.00000000003\n",
      "paris-roubaix/2023/result 256600.00000000003\n",
      "paris-roubaix/2023/result 256600.00000000003\n",
      "paris-roubaix/2023/result 256600.00000000003\n",
      "paris-roubaix/2023/result 256600.00000000003\n",
      "paris-roubaix/2023/result 256600.00000000003\n",
      "paris-roubaix/2023/result 256600.00000000003\n",
      "paris-roubaix/2023/result 256600.00000000003\n",
      "paris-roubaix/2023/result 256600.00000000003\n",
      "paris-roubaix/2023/result 256600.00000000003\n",
      "paris-roubaix/2023/result 256600.00000000003\n",
      "paris-roubaix/2023/result 256600.00000000003\n",
      "tour-de-romandie/2021/stage-5 16190.000000000002\n",
      "tour-de-romandie/2021/stage-5 16190.000000000002\n",
      "tour-de-romandie/2021/stage-5 16190.000000000002\n",
      "tour-de-romandie/2021/stage-5 16190.000000000002\n",
      "tour-de-romandie/2021/stage-5 16190.000000000002\n",
      "tour-de-romandie/2021/stage-5 16190.000000000002\n",
      "tour-de-romandie/2021/stage-5 16190.000000000002\n",
      "tour-de-romandie/2021/stage-5 16190.000000000002\n",
      "tour-de-romandie/2021/stage-5 16190.000000000002\n",
      "tour-de-romandie/2021/stage-5 16190.000000000002\n",
      "tour-de-romandie/2021/stage-5 16190.000000000002\n",
      "tour-de-romandie/2021/stage-5 16190.000000000002\n",
      "tour-de-romandie/2021/stage-5 16190.000000000002\n",
      "tour-de-romandie/2021/stage-5 16190.000000000002\n",
      "tour-de-romandie/2021/stage-5 16190.000000000002\n",
      "tour-de-romandie/2021/stage-5 16190.000000000002\n",
      "tour-de-romandie/2021/stage-5 16190.000000000002\n",
      "tour-de-romandie/2021/stage-5 16190.000000000002\n",
      "tour-de-romandie/2021/stage-5 16190.000000000002\n",
      "tour-de-romandie/2021/stage-5 16190.000000000002\n",
      "tour-de-romandie/2021/stage-5 16190.000000000002\n",
      "tour-de-romandie/2021/stage-5 16190.000000000002\n",
      "tour-de-romandie/2021/stage-5 16190.000000000002\n",
      "tour-de-romandie/2021/stage-5 16190.000000000002\n",
      "tour-de-romandie/2021/stage-5 16190.000000000002\n",
      "tour-de-romandie/2021/stage-5 16190.000000000002\n",
      "tour-de-romandie/2021/stage-5 16190.000000000002\n",
      "tour-de-romandie/2021/stage-5 16190.000000000002\n",
      "tour-de-romandie/2021/stage-5 16190.000000000002\n",
      "tour-de-romandie/2021/stage-5 16190.000000000002\n",
      "tour-de-romandie/2021/stage-5 16190.000000000002\n",
      "tour-de-romandie/2021/stage-5 16190.000000000002\n",
      "tour-de-romandie/2021/stage-5 16190.000000000002\n",
      "tour-de-romandie/2021/stage-5 16190.000000000002\n",
      "tour-de-romandie/2021/stage-5 16190.000000000002\n",
      "tour-de-romandie/2021/stage-5 16190.000000000002\n",
      "tour-de-romandie/2021/stage-5 16190.000000000002\n",
      "tour-de-romandie/2021/stage-5 16190.000000000002\n",
      "tour-de-romandie/2021/stage-5 16190.000000000002\n",
      "tour-de-romandie/2021/stage-5 16190.000000000002\n",
      "tour-de-romandie/2021/stage-5 16190.000000000002\n",
      "tour-de-romandie/2021/stage-5 16190.000000000002\n",
      "tour-de-romandie/2021/stage-5 16190.000000000002\n",
      "tour-de-romandie/2021/stage-5 16190.000000000002\n",
      "tour-de-romandie/2021/stage-5 16190.000000000002\n",
      "tour-de-romandie/2021/stage-5 16190.000000000002\n",
      "tour-de-romandie/2021/stage-5 16190.000000000002\n",
      "tour-de-romandie/2021/stage-5 16190.000000000002\n",
      "tour-de-romandie/2021/stage-5 16190.000000000002\n",
      "tour-de-romandie/2021/stage-5 16190.000000000002\n",
      "tour-de-romandie/2021/stage-5 16190.000000000002\n",
      "tour-de-romandie/2021/stage-5 16190.000000000002\n",
      "tour-de-romandie/2021/stage-5 16190.000000000002\n",
      "tour-de-romandie/2021/stage-5 16190.000000000002\n",
      "tour-de-romandie/2021/stage-5 16190.000000000002\n",
      "tour-de-romandie/2021/stage-5 16190.000000000002\n",
      "tour-de-romandie/2021/stage-5 16190.000000000002\n",
      "tour-de-romandie/2021/stage-5 16190.000000000002\n",
      "tour-de-romandie/2021/stage-5 16190.000000000002\n",
      "tour-de-romandie/2021/stage-5 16190.000000000002\n",
      "tour-de-romandie/2021/stage-5 16190.000000000002\n",
      "tour-de-romandie/2021/stage-5 16190.000000000002\n",
      "tour-de-romandie/2021/stage-5 16190.000000000002\n",
      "tour-de-romandie/2021/stage-5 16190.000000000002\n",
      "tour-de-romandie/2021/stage-5 16190.000000000002\n",
      "tour-de-romandie/2021/stage-5 16190.000000000002\n",
      "tour-de-romandie/2021/stage-5 16190.000000000002\n",
      "tour-de-romandie/2021/stage-5 16190.000000000002\n",
      "tour-de-romandie/2021/stage-5 16190.000000000002\n",
      "tour-de-romandie/2021/stage-5 16190.000000000002\n",
      "tour-de-romandie/2021/stage-5 16190.000000000002\n",
      "tour-de-romandie/2021/stage-5 16190.000000000002\n",
      "tour-de-romandie/2021/stage-5 16190.000000000002\n",
      "tour-de-romandie/2021/stage-5 16190.000000000002\n",
      "tour-de-romandie/2021/stage-5 16190.000000000002\n",
      "tour-de-romandie/2021/stage-5 16190.000000000002\n",
      "tour-de-romandie/2021/stage-5 16190.000000000002\n",
      "tour-de-romandie/2021/stage-5 16190.000000000002\n",
      "tour-de-romandie/2021/stage-5 16190.000000000002\n",
      "tour-de-romandie/2021/stage-5 16190.000000000002\n",
      "tour-de-romandie/2021/stage-5 16190.000000000002\n",
      "tour-de-romandie/2021/stage-5 16190.000000000002\n",
      "tour-de-romandie/2021/stage-5 16190.000000000002\n",
      "tour-de-romandie/2021/stage-5 16190.000000000002\n",
      "tour-de-romandie/2021/stage-5 16190.000000000002\n",
      "tour-de-romandie/2021/stage-5 16190.000000000002\n",
      "tour-de-romandie/2021/stage-5 16190.000000000002\n",
      "tour-de-romandie/2021/stage-5 16190.000000000002\n",
      "tour-de-romandie/2021/stage-5 16190.000000000002\n",
      "tour-de-romandie/2021/stage-5 16190.000000000002\n",
      "tour-de-romandie/2021/stage-5 16190.000000000002\n",
      "tour-de-romandie/2021/stage-5 16190.000000000002\n",
      "tour-de-romandie/2021/stage-5 16190.000000000002\n",
      "tour-de-romandie/2021/stage-5 16190.000000000002\n",
      "tour-de-romandie/2021/stage-5 16190.000000000002\n",
      "tour-de-romandie/2021/stage-5 16190.000000000002\n",
      "tour-de-romandie/2021/stage-5 16190.000000000002\n",
      "tour-de-romandie/2021/stage-5 16190.000000000002\n",
      "tour-de-romandie/2021/stage-5 16190.000000000002\n",
      "tour-de-romandie/2021/stage-5 16190.000000000002\n",
      "tour-de-romandie/2021/stage-5 16190.000000000002\n",
      "tour-de-romandie/2021/stage-5 16190.000000000002\n",
      "tour-de-romandie/2021/stage-5 16190.000000000002\n",
      "tour-de-romandie/2021/stage-5 16190.000000000002\n",
      "tour-de-romandie/2021/stage-5 16190.000000000002\n",
      "tour-de-romandie/2021/stage-5 16190.000000000002\n",
      "tour-de-romandie/2021/stage-5 16190.000000000002\n",
      "tour-de-romandie/2021/stage-5 16190.000000000002\n",
      "tour-de-romandie/2021/stage-5 16190.000000000002\n",
      "tour-de-romandie/2021/stage-5 16190.000000000002\n",
      "tour-de-romandie/2021/stage-5 16190.000000000002\n",
      "tour-de-romandie/2021/stage-5 16190.000000000002\n",
      "tour-de-romandie/2021/stage-5 16190.000000000002\n",
      "tour-de-romandie/2021/stage-5 16190.000000000002\n",
      "tour-de-romandie/2021/stage-5 16190.000000000002\n",
      "tour-de-romandie/2021/stage-5 16190.000000000002\n",
      "tour-de-romandie/2021/stage-5 16190.000000000002\n",
      "tour-de-romandie/2021/stage-5 16190.000000000002\n",
      "tour-de-romandie/2021/stage-5 16190.000000000002\n",
      "tour-de-romandie/2021/stage-5 16190.000000000002\n",
      "liege-bastogne-liege/2021/result 259100.00000000003\n",
      "liege-bastogne-liege/2021/result 259100.00000000003\n",
      "liege-bastogne-liege/2021/result 259100.00000000003\n",
      "liege-bastogne-liege/2021/result 259100.00000000003\n",
      "liege-bastogne-liege/2021/result 259100.00000000003\n",
      "liege-bastogne-liege/2021/result 259100.00000000003\n",
      "liege-bastogne-liege/2021/result 259100.00000000003\n",
      "liege-bastogne-liege/2021/result 259100.00000000003\n",
      "liege-bastogne-liege/2021/result 259100.00000000003\n",
      "liege-bastogne-liege/2021/result 259100.00000000003\n",
      "liege-bastogne-liege/2021/result 259100.00000000003\n",
      "liege-bastogne-liege/2021/result 259100.00000000003\n",
      "liege-bastogne-liege/2021/result 259100.00000000003\n",
      "liege-bastogne-liege/2021/result 259100.00000000003\n",
      "liege-bastogne-liege/2021/result 259100.00000000003\n",
      "liege-bastogne-liege/2021/result 259100.00000000003\n",
      "liege-bastogne-liege/2021/result 259100.00000000003\n",
      "liege-bastogne-liege/2021/result 259100.00000000003\n",
      "liege-bastogne-liege/2021/result 259100.00000000003\n",
      "liege-bastogne-liege/2021/result 259100.00000000003\n",
      "liege-bastogne-liege/2021/result 259100.00000000003\n",
      "liege-bastogne-liege/2021/result 259100.00000000003\n",
      "liege-bastogne-liege/2021/result 259100.00000000003\n",
      "liege-bastogne-liege/2021/result 259100.00000000003\n",
      "liege-bastogne-liege/2021/result 259100.00000000003\n",
      "liege-bastogne-liege/2021/result 259100.00000000003\n",
      "liege-bastogne-liege/2021/result 259100.00000000003\n",
      "liege-bastogne-liege/2021/result 259100.00000000003\n",
      "liege-bastogne-liege/2021/result 259100.00000000003\n",
      "liege-bastogne-liege/2021/result 259100.00000000003\n",
      "liege-bastogne-liege/2021/result 259100.00000000003\n",
      "liege-bastogne-liege/2021/result 259100.00000000003\n",
      "liege-bastogne-liege/2021/result 259100.00000000003\n",
      "liege-bastogne-liege/2021/result 259100.00000000003\n",
      "liege-bastogne-liege/2021/result 259100.00000000003\n",
      "liege-bastogne-liege/2021/result 259100.00000000003\n",
      "liege-bastogne-liege/2021/result 259100.00000000003\n",
      "liege-bastogne-liege/2021/result 259100.00000000003\n",
      "liege-bastogne-liege/2021/result 259100.00000000003\n",
      "liege-bastogne-liege/2021/result 259100.00000000003\n",
      "liege-bastogne-liege/2021/result 259100.00000000003\n",
      "liege-bastogne-liege/2021/result 259100.00000000003\n",
      "liege-bastogne-liege/2021/result 259100.00000000003\n",
      "liege-bastogne-liege/2021/result 259100.00000000003\n",
      "liege-bastogne-liege/2021/result 259100.00000000003\n",
      "liege-bastogne-liege/2021/result 259100.00000000003\n",
      "liege-bastogne-liege/2021/result 259100.00000000003\n",
      "liege-bastogne-liege/2021/result 259100.00000000003\n",
      "liege-bastogne-liege/2021/result 259100.00000000003\n",
      "liege-bastogne-liege/2021/result 259100.00000000003\n",
      "liege-bastogne-liege/2021/result 259100.00000000003\n",
      "liege-bastogne-liege/2021/result 259100.00000000003\n",
      "liege-bastogne-liege/2021/result 259100.00000000003\n",
      "liege-bastogne-liege/2021/result 259100.00000000003\n",
      "liege-bastogne-liege/2021/result 259100.00000000003\n",
      "liege-bastogne-liege/2021/result 259100.00000000003\n",
      "liege-bastogne-liege/2021/result 259100.00000000003\n",
      "liege-bastogne-liege/2021/result 259100.00000000003\n",
      "liege-bastogne-liege/2021/result 259100.00000000003\n",
      "liege-bastogne-liege/2021/result 259100.00000000003\n",
      "liege-bastogne-liege/2021/result 259100.00000000003\n",
      "liege-bastogne-liege/2021/result 259100.00000000003\n",
      "liege-bastogne-liege/2021/result 259100.00000000003\n",
      "liege-bastogne-liege/2021/result 259100.00000000003\n",
      "liege-bastogne-liege/2021/result 259100.00000000003\n",
      "liege-bastogne-liege/2021/result 259100.00000000003\n",
      "liege-bastogne-liege/2021/result 259100.00000000003\n",
      "liege-bastogne-liege/2021/result 259100.00000000003\n",
      "liege-bastogne-liege/2021/result 259100.00000000003\n",
      "liege-bastogne-liege/2021/result 259100.00000000003\n",
      "liege-bastogne-liege/2021/result 259100.00000000003\n",
      "liege-bastogne-liege/2021/result 259100.00000000003\n",
      "liege-bastogne-liege/2021/result 259100.00000000003\n",
      "liege-bastogne-liege/2021/result 259100.00000000003\n",
      "liege-bastogne-liege/2021/result 259100.00000000003\n",
      "liege-bastogne-liege/2021/result 259100.00000000003\n",
      "liege-bastogne-liege/2021/result 259100.00000000003\n",
      "liege-bastogne-liege/2021/result 259100.00000000003\n",
      "liege-bastogne-liege/2021/result 259100.00000000003\n",
      "liege-bastogne-liege/2021/result 259100.00000000003\n",
      "liege-bastogne-liege/2021/result 259100.00000000003\n",
      "liege-bastogne-liege/2021/result 259100.00000000003\n",
      "liege-bastogne-liege/2021/result 259100.00000000003\n",
      "liege-bastogne-liege/2021/result 259100.00000000003\n",
      "liege-bastogne-liege/2021/result 259100.00000000003\n",
      "liege-bastogne-liege/2021/result 259100.00000000003\n",
      "liege-bastogne-liege/2021/result 259100.00000000003\n",
      "liege-bastogne-liege/2021/result 259100.00000000003\n",
      "liege-bastogne-liege/2021/result 259100.00000000003\n",
      "liege-bastogne-liege/2021/result 259100.00000000003\n",
      "liege-bastogne-liege/2021/result 259100.00000000003\n",
      "liege-bastogne-liege/2021/result 259100.00000000003\n",
      "liege-bastogne-liege/2021/result 259100.00000000003\n",
      "liege-bastogne-liege/2021/result 259100.00000000003\n",
      "liege-bastogne-liege/2021/result 259100.00000000003\n",
      "liege-bastogne-liege/2021/result 259100.00000000003\n",
      "liege-bastogne-liege/2021/result 259100.00000000003\n",
      "liege-bastogne-liege/2021/result 259100.00000000003\n",
      "liege-bastogne-liege/2021/result 259100.00000000003\n",
      "liege-bastogne-liege/2021/result 259100.00000000003\n",
      "liege-bastogne-liege/2021/result 259100.00000000003\n",
      "liege-bastogne-liege/2021/result 259100.00000000003\n",
      "liege-bastogne-liege/2021/result 259100.00000000003\n",
      "liege-bastogne-liege/2021/result 259100.00000000003\n",
      "liege-bastogne-liege/2021/result 259100.00000000003\n",
      "liege-bastogne-liege/2021/result 259100.00000000003\n",
      "liege-bastogne-liege/2021/result 259100.00000000003\n",
      "liege-bastogne-liege/2021/result 259100.00000000003\n",
      "liege-bastogne-liege/2021/result 259100.00000000003\n",
      "liege-bastogne-liege/2021/result 259100.00000000003\n",
      "liege-bastogne-liege/2021/result 259100.00000000003\n",
      "liege-bastogne-liege/2021/result 259100.00000000003\n",
      "liege-bastogne-liege/2021/result 259100.00000000003\n",
      "liege-bastogne-liege/2021/result 259100.00000000003\n",
      "liege-bastogne-liege/2021/result 259100.00000000003\n",
      "liege-bastogne-liege/2021/result 259100.00000000003\n",
      "liege-bastogne-liege/2021/result 259100.00000000003\n",
      "liege-bastogne-liege/2021/result 259100.00000000003\n",
      "liege-bastogne-liege/2021/result 259100.00000000003\n",
      "liege-bastogne-liege/2021/result 259100.00000000003\n",
      "liege-bastogne-liege/2021/result 259100.00000000003\n",
      "liege-bastogne-liege/2021/result 259100.00000000003\n",
      "liege-bastogne-liege/2021/result 259100.00000000003\n",
      "liege-bastogne-liege/2021/result 259100.00000000003\n",
      "liege-bastogne-liege/2021/result 259100.00000000003\n",
      "liege-bastogne-liege/2021/result 259100.00000000003\n",
      "liege-bastogne-liege/2021/result 259100.00000000003\n",
      "liege-bastogne-liege/2021/result 259100.00000000003\n",
      "liege-bastogne-liege/2021/result 259100.00000000003\n",
      "liege-bastogne-liege/2021/result 259100.00000000003\n",
      "liege-bastogne-liege/2021/result 259100.00000000003\n",
      "liege-bastogne-liege/2021/result 259100.00000000003\n",
      "liege-bastogne-liege/2021/result 259100.00000000003\n",
      "liege-bastogne-liege/2021/result 259100.00000000003\n",
      "liege-bastogne-liege/2021/result 259100.00000000003\n",
      "liege-bastogne-liege/2021/result 259100.00000000003\n",
      "liege-bastogne-liege/2021/result 259100.00000000003\n",
      "liege-bastogne-liege/2021/result 259100.00000000003\n",
      "liege-bastogne-liege/2021/result 259100.00000000003\n",
      "liege-bastogne-liege/2021/result 259100.00000000003\n",
      "liege-bastogne-liege/2021/result 259100.00000000003\n",
      "liege-bastogne-liege/2021/result 259100.00000000003\n",
      "liege-bastogne-liege/2021/result 259100.00000000003\n",
      "liege-bastogne-liege/2021/result 259100.00000000003\n",
      "liege-bastogne-liege/2021/result 259100.00000000003\n",
      "liege-bastogne-liege/2021/result 259100.00000000003\n",
      "world-championship/1993/result 257600.00000000003\n",
      "world-championship/1993/result 257600.00000000003\n",
      "world-championship/1993/result 257600.00000000003\n",
      "world-championship/1993/result 257600.00000000003\n",
      "world-championship/1993/result 257600.00000000003\n",
      "world-championship/1993/result 257600.00000000003\n",
      "world-championship/1993/result 257600.00000000003\n",
      "world-championship/1993/result 257600.00000000003\n",
      "world-championship/1993/result 257600.00000000003\n",
      "world-championship/1993/result 257600.00000000003\n",
      "world-championship/1993/result 257600.00000000003\n",
      "world-championship/1993/result 257600.00000000003\n",
      "world-championship/1993/result 257600.00000000003\n",
      "world-championship/1993/result 257600.00000000003\n",
      "world-championship/1993/result 257600.00000000003\n",
      "world-championship/1993/result 257600.00000000003\n",
      "world-championship/1993/result 257600.00000000003\n",
      "world-championship/1993/result 257600.00000000003\n",
      "world-championship/1993/result 257600.00000000003\n",
      "world-championship/1993/result 257600.00000000003\n",
      "world-championship/1993/result 257600.00000000003\n",
      "world-championship/1993/result 257600.00000000003\n",
      "world-championship/1993/result 257600.00000000003\n",
      "world-championship/1993/result 257600.00000000003\n",
      "world-championship/1993/result 257600.00000000003\n",
      "world-championship/1993/result 257600.00000000003\n",
      "world-championship/1993/result 257600.00000000003\n",
      "world-championship/1993/result 257600.00000000003\n",
      "world-championship/1993/result 257600.00000000003\n",
      "world-championship/1993/result 257600.00000000003\n",
      "world-championship/1993/result 257600.00000000003\n",
      "world-championship/1993/result 257600.00000000003\n",
      "world-championship/1993/result 257600.00000000003\n",
      "world-championship/1993/result 257600.00000000003\n",
      "world-championship/1993/result 257600.00000000003\n",
      "world-championship/1993/result 257600.00000000003\n",
      "world-championship/1993/result 257600.00000000003\n",
      "world-championship/1993/result 257600.00000000003\n",
      "world-championship/1993/result 257600.00000000003\n",
      "world-championship/1993/result 257600.00000000003\n",
      "world-championship/1993/result 257600.00000000003\n",
      "world-championship/1993/result 257600.00000000003\n",
      "world-championship/1993/result 257600.00000000003\n",
      "world-championship/1993/result 257600.00000000003\n",
      "world-championship/1993/result 257600.00000000003\n",
      "world-championship/1993/result 257600.00000000003\n",
      "world-championship/1993/result 257600.00000000003\n",
      "world-championship/1993/result 257600.00000000003\n",
      "world-championship/1993/result 257600.00000000003\n",
      "world-championship/1993/result 257600.00000000003\n",
      "world-championship/1993/result 257600.00000000003\n",
      "world-championship/1993/result 257600.00000000003\n",
      "world-championship/1993/result 257600.00000000003\n",
      "world-championship/1993/result 257600.00000000003\n",
      "world-championship/1993/result 257600.00000000003\n",
      "world-championship/1993/result 257600.00000000003\n",
      "world-championship/1993/result 257600.00000000003\n",
      "world-championship/1993/result 257600.00000000003\n",
      "world-championship/1993/result 257600.00000000003\n",
      "world-championship/1993/result 257600.00000000003\n",
      "world-championship/1993/result 257600.00000000003\n",
      "world-championship/1993/result 257600.00000000003\n",
      "world-championship/1993/result 257600.00000000003\n",
      "world-championship/1993/result 257600.00000000003\n",
      "world-championship/1993/result 257600.00000000003\n",
      "world-championship/1993/result 257600.00000000003\n",
      "ronde-van-vlaanderen/2014/result 259100.00000000003\n",
      "ronde-van-vlaanderen/2014/result 259100.00000000003\n",
      "ronde-van-vlaanderen/2014/result 259100.00000000003\n",
      "ronde-van-vlaanderen/2014/result 259100.00000000003\n",
      "ronde-van-vlaanderen/2014/result 259100.00000000003\n",
      "ronde-van-vlaanderen/2014/result 259100.00000000003\n",
      "ronde-van-vlaanderen/2014/result 259100.00000000003\n",
      "ronde-van-vlaanderen/2014/result 259100.00000000003\n",
      "ronde-van-vlaanderen/2014/result 259100.00000000003\n",
      "ronde-van-vlaanderen/2014/result 259100.00000000003\n",
      "ronde-van-vlaanderen/2014/result 259100.00000000003\n",
      "ronde-van-vlaanderen/2014/result 259100.00000000003\n",
      "ronde-van-vlaanderen/2014/result 259100.00000000003\n",
      "ronde-van-vlaanderen/2014/result 259100.00000000003\n",
      "ronde-van-vlaanderen/2014/result 259100.00000000003\n",
      "ronde-van-vlaanderen/2014/result 259100.00000000003\n",
      "ronde-van-vlaanderen/2014/result 259100.00000000003\n",
      "ronde-van-vlaanderen/2014/result 259100.00000000003\n",
      "ronde-van-vlaanderen/2014/result 259100.00000000003\n",
      "ronde-van-vlaanderen/2014/result 259100.00000000003\n",
      "ronde-van-vlaanderen/2014/result 259100.00000000003\n",
      "ronde-van-vlaanderen/2014/result 259100.00000000003\n",
      "ronde-van-vlaanderen/2014/result 259100.00000000003\n",
      "ronde-van-vlaanderen/2014/result 259100.00000000003\n",
      "ronde-van-vlaanderen/2014/result 259100.00000000003\n",
      "ronde-van-vlaanderen/2014/result 259100.00000000003\n",
      "ronde-van-vlaanderen/2014/result 259100.00000000003\n",
      "ronde-van-vlaanderen/2014/result 259100.00000000003\n",
      "ronde-van-vlaanderen/2014/result 259100.00000000003\n",
      "ronde-van-vlaanderen/2014/result 259100.00000000003\n",
      "ronde-van-vlaanderen/2014/result 259100.00000000003\n",
      "ronde-van-vlaanderen/2014/result 259100.00000000003\n",
      "ronde-van-vlaanderen/2014/result 259100.00000000003\n",
      "ronde-van-vlaanderen/2014/result 259100.00000000003\n",
      "ronde-van-vlaanderen/2014/result 259100.00000000003\n",
      "ronde-van-vlaanderen/2014/result 259100.00000000003\n",
      "ronde-van-vlaanderen/2014/result 259100.00000000003\n",
      "ronde-van-vlaanderen/2014/result 259100.00000000003\n",
      "ronde-van-vlaanderen/2014/result 259100.00000000003\n",
      "ronde-van-vlaanderen/2014/result 259100.00000000003\n",
      "ronde-van-vlaanderen/2014/result 259100.00000000003\n",
      "ronde-van-vlaanderen/2014/result 259100.00000000003\n",
      "ronde-van-vlaanderen/2014/result 259100.00000000003\n",
      "ronde-van-vlaanderen/2014/result 259100.00000000003\n",
      "ronde-van-vlaanderen/2014/result 259100.00000000003\n",
      "ronde-van-vlaanderen/2014/result 259100.00000000003\n",
      "ronde-van-vlaanderen/2014/result 259100.00000000003\n",
      "ronde-van-vlaanderen/2014/result 259100.00000000003\n",
      "ronde-van-vlaanderen/2014/result 259100.00000000003\n",
      "ronde-van-vlaanderen/2014/result 259100.00000000003\n",
      "ronde-van-vlaanderen/2014/result 259100.00000000003\n",
      "ronde-van-vlaanderen/2014/result 259100.00000000003\n",
      "ronde-van-vlaanderen/2014/result 259100.00000000003\n",
      "ronde-van-vlaanderen/2014/result 259100.00000000003\n",
      "ronde-van-vlaanderen/2014/result 259100.00000000003\n",
      "ronde-van-vlaanderen/2014/result 259100.00000000003\n",
      "ronde-van-vlaanderen/2014/result 259100.00000000003\n",
      "ronde-van-vlaanderen/2014/result 259100.00000000003\n",
      "ronde-van-vlaanderen/2014/result 259100.00000000003\n",
      "ronde-van-vlaanderen/2014/result 259100.00000000003\n",
      "ronde-van-vlaanderen/2014/result 259100.00000000003\n",
      "ronde-van-vlaanderen/2014/result 259100.00000000003\n",
      "ronde-van-vlaanderen/2014/result 259100.00000000003\n",
      "ronde-van-vlaanderen/2014/result 259100.00000000003\n",
      "ronde-van-vlaanderen/2014/result 259100.00000000003\n",
      "ronde-van-vlaanderen/2014/result 259100.00000000003\n",
      "ronde-van-vlaanderen/2014/result 259100.00000000003\n",
      "ronde-van-vlaanderen/2014/result 259100.00000000003\n",
      "ronde-van-vlaanderen/2014/result 259100.00000000003\n",
      "ronde-van-vlaanderen/2014/result 259100.00000000003\n",
      "ronde-van-vlaanderen/2014/result 259100.00000000003\n",
      "ronde-van-vlaanderen/2014/result 259100.00000000003\n",
      "ronde-van-vlaanderen/2014/result 259100.00000000003\n",
      "ronde-van-vlaanderen/2014/result 259100.00000000003\n",
      "ronde-van-vlaanderen/2014/result 259100.00000000003\n",
      "ronde-van-vlaanderen/2014/result 259100.00000000003\n",
      "ronde-van-vlaanderen/2014/result 259100.00000000003\n",
      "ronde-van-vlaanderen/2014/result 259100.00000000003\n",
      "ronde-van-vlaanderen/2014/result 259100.00000000003\n",
      "ronde-van-vlaanderen/2014/result 259100.00000000003\n",
      "ronde-van-vlaanderen/2014/result 259100.00000000003\n",
      "ronde-van-vlaanderen/2014/result 259100.00000000003\n",
      "ronde-van-vlaanderen/2014/result 259100.00000000003\n",
      "ronde-van-vlaanderen/2014/result 259100.00000000003\n",
      "ronde-van-vlaanderen/2014/result 259100.00000000003\n",
      "ronde-van-vlaanderen/2014/result 259100.00000000003\n",
      "ronde-van-vlaanderen/2014/result 259100.00000000003\n",
      "ronde-van-vlaanderen/2014/result 259100.00000000003\n",
      "ronde-van-vlaanderen/2014/result 259100.00000000003\n",
      "ronde-van-vlaanderen/2014/result 259100.00000000003\n",
      "ronde-van-vlaanderen/2014/result 259100.00000000003\n",
      "ronde-van-vlaanderen/2014/result 259100.00000000003\n",
      "ronde-van-vlaanderen/2014/result 259100.00000000003\n",
      "ronde-van-vlaanderen/2014/result 259100.00000000003\n",
      "ronde-van-vlaanderen/2014/result 259100.00000000003\n",
      "ronde-van-vlaanderen/2014/result 259100.00000000003\n",
      "ronde-van-vlaanderen/2014/result 259100.00000000003\n",
      "ronde-van-vlaanderen/2014/result 259100.00000000003\n",
      "ronde-van-vlaanderen/2014/result 259100.00000000003\n",
      "ronde-van-vlaanderen/2014/result 259100.00000000003\n",
      "ronde-van-vlaanderen/2014/result 259100.00000000003\n",
      "ronde-van-vlaanderen/2014/result 259100.00000000003\n",
      "world-championship/1992/result 261600.00000000003\n",
      "world-championship/1992/result 261600.00000000003\n",
      "world-championship/1992/result 261600.00000000003\n",
      "world-championship/1992/result 261600.00000000003\n",
      "world-championship/1992/result 261600.00000000003\n",
      "world-championship/1992/result 261600.00000000003\n",
      "world-championship/1992/result 261600.00000000003\n",
      "world-championship/1992/result 261600.00000000003\n",
      "world-championship/1992/result 261600.00000000003\n",
      "world-championship/1992/result 261600.00000000003\n",
      "world-championship/1992/result 261600.00000000003\n",
      "world-championship/1992/result 261600.00000000003\n",
      "world-championship/1992/result 261600.00000000003\n",
      "world-championship/1992/result 261600.00000000003\n",
      "world-championship/1992/result 261600.00000000003\n",
      "world-championship/1992/result 261600.00000000003\n",
      "world-championship/1992/result 261600.00000000003\n",
      "world-championship/1992/result 261600.00000000003\n",
      "world-championship/1992/result 261600.00000000003\n",
      "world-championship/1992/result 261600.00000000003\n",
      "world-championship/1992/result 261600.00000000003\n",
      "world-championship/1992/result 261600.00000000003\n",
      "world-championship/1992/result 261600.00000000003\n",
      "world-championship/1992/result 261600.00000000003\n",
      "world-championship/1992/result 261600.00000000003\n",
      "world-championship/1992/result 261600.00000000003\n",
      "world-championship/1992/result 261600.00000000003\n",
      "world-championship/1992/result 261600.00000000003\n",
      "world-championship/1992/result 261600.00000000003\n",
      "world-championship/1992/result 261600.00000000003\n",
      "world-championship/1992/result 261600.00000000003\n",
      "world-championship/1992/result 261600.00000000003\n",
      "world-championship/1992/result 261600.00000000003\n",
      "world-championship/1992/result 261600.00000000003\n",
      "world-championship/1992/result 261600.00000000003\n",
      "world-championship/1992/result 261600.00000000003\n",
      "world-championship/1992/result 261600.00000000003\n",
      "world-championship/1992/result 261600.00000000003\n",
      "world-championship/1992/result 261600.00000000003\n",
      "world-championship/1992/result 261600.00000000003\n",
      "world-championship/1992/result 261600.00000000003\n",
      "world-championship/1992/result 261600.00000000003\n",
      "world-championship/1992/result 261600.00000000003\n",
      "world-championship/1992/result 261600.00000000003\n",
      "world-championship/1992/result 261600.00000000003\n",
      "world-championship/1992/result 261600.00000000003\n",
      "world-championship/1992/result 261600.00000000003\n",
      "world-championship/1992/result 261600.00000000003\n",
      "world-championship/1992/result 261600.00000000003\n",
      "world-championship/1992/result 261600.00000000003\n",
      "world-championship/1992/result 261600.00000000003\n",
      "world-championship/1992/result 261600.00000000003\n",
      "world-championship/1992/result 261600.00000000003\n",
      "world-championship/1992/result 261600.00000000003\n",
      "world-championship/1992/result 261600.00000000003\n",
      "world-championship/1992/result 261600.00000000003\n",
      "world-championship/1992/result 261600.00000000003\n",
      "world-championship/1992/result 261600.00000000003\n",
      "world-championship/1992/result 261600.00000000003\n",
      "world-championship/1992/result 261600.00000000003\n",
      "world-championship/1992/result 261600.00000000003\n",
      "world-championship/1992/result 261600.00000000003\n",
      "world-championship/1992/result 261600.00000000003\n",
      "world-championship/1992/result 261600.00000000003\n",
      "world-championship/1992/result 261600.00000000003\n",
      "world-championship/1992/result 261600.00000000003\n",
      "world-championship/1992/result 261600.00000000003\n",
      "world-championship/1992/result 261600.00000000003\n",
      "world-championship/1992/result 261600.00000000003\n",
      "world-championship/1992/result 261600.00000000003\n",
      "world-championship/1992/result 261600.00000000003\n",
      "world-championship/1992/result 261600.00000000003\n",
      "world-championship/1992/result 261600.00000000003\n",
      "world-championship/1992/result 261600.00000000003\n",
      "world-championship/1992/result 261600.00000000003\n",
      "world-championship/1992/result 261600.00000000003\n",
      "world-championship/1992/result 261600.00000000003\n",
      "world-championship/1992/result 261600.00000000003\n",
      "world-championship/1992/result 261600.00000000003\n",
      "world-championship/1992/result 261600.00000000003\n",
      "world-championship/1992/result 261600.00000000003\n",
      "world-championship/1992/result 261600.00000000003\n",
      "world-championship/1992/result 261600.00000000003\n",
      "world-championship/1992/result 261600.00000000003\n",
      "world-championship/1992/result 261600.00000000003\n",
      "world-championship/1992/result 261600.00000000003\n",
      "world-championship/1992/result 261600.00000000003\n",
      "world-championship/1992/result 261600.00000000003\n",
      "world-championship/1992/result 261600.00000000003\n",
      "world-championship/1992/result 261600.00000000003\n",
      "volta-a-catalunya/1970/stage-7b 32200.000000000004\n",
      "volta-a-catalunya/1970/stage-7b 32200.000000000004\n",
      "volta-a-catalunya/1970/stage-7b 32200.000000000004\n",
      "volta-a-catalunya/1970/stage-7b 32200.000000000004\n",
      "volta-a-catalunya/1970/stage-7b 32200.000000000004\n",
      "volta-a-catalunya/1970/stage-7b 32200.000000000004\n",
      "volta-a-catalunya/1970/stage-7b 32200.000000000004\n",
      "volta-a-catalunya/1970/stage-7b 32200.000000000004\n",
      "volta-a-catalunya/1970/stage-7b 32200.000000000004\n",
      "world-championship/1989/result 259350.00000000003\n",
      "world-championship/1989/result 259350.00000000003\n",
      "world-championship/1989/result 259350.00000000003\n",
      "world-championship/1989/result 259350.00000000003\n",
      "world-championship/1989/result 259350.00000000003\n",
      "world-championship/1989/result 259350.00000000003\n",
      "world-championship/1989/result 259350.00000000003\n",
      "world-championship/1989/result 259350.00000000003\n",
      "world-championship/1989/result 259350.00000000003\n",
      "world-championship/1989/result 259350.00000000003\n",
      "world-championship/1989/result 259350.00000000003\n",
      "world-championship/1989/result 259350.00000000003\n",
      "world-championship/1989/result 259350.00000000003\n",
      "world-championship/1989/result 259350.00000000003\n",
      "world-championship/1989/result 259350.00000000003\n",
      "world-championship/1989/result 259350.00000000003\n",
      "world-championship/1989/result 259350.00000000003\n",
      "world-championship/1989/result 259350.00000000003\n",
      "world-championship/1989/result 259350.00000000003\n",
      "world-championship/1989/result 259350.00000000003\n",
      "world-championship/1989/result 259350.00000000003\n",
      "world-championship/1989/result 259350.00000000003\n",
      "world-championship/1989/result 259350.00000000003\n",
      "world-championship/1989/result 259350.00000000003\n",
      "world-championship/1989/result 259350.00000000003\n",
      "world-championship/1989/result 259350.00000000003\n",
      "world-championship/1989/result 259350.00000000003\n",
      "world-championship/1989/result 259350.00000000003\n",
      "world-championship/1989/result 259350.00000000003\n",
      "world-championship/1989/result 259350.00000000003\n",
      "world-championship/1989/result 259350.00000000003\n",
      "world-championship/1989/result 259350.00000000003\n",
      "world-championship/1989/result 259350.00000000003\n",
      "world-championship/1989/result 259350.00000000003\n",
      "world-championship/1989/result 259350.00000000003\n",
      "world-championship/1989/result 259350.00000000003\n",
      "world-championship/1989/result 259350.00000000003\n",
      "world-championship/1989/result 259350.00000000003\n",
      "world-championship/1989/result 259350.00000000003\n",
      "world-championship/1989/result 259350.00000000003\n",
      "world-championship/1989/result 259350.00000000003\n",
      "world-championship/1989/result 259350.00000000003\n",
      "liege-bastogne-liege/2023/result 258100.00000000003\n",
      "liege-bastogne-liege/2023/result 258100.00000000003\n",
      "liege-bastogne-liege/2023/result 258100.00000000003\n",
      "liege-bastogne-liege/2023/result 258100.00000000003\n",
      "liege-bastogne-liege/2023/result 258100.00000000003\n",
      "liege-bastogne-liege/2023/result 258100.00000000003\n",
      "liege-bastogne-liege/2023/result 258100.00000000003\n",
      "liege-bastogne-liege/2023/result 258100.00000000003\n",
      "liege-bastogne-liege/2023/result 258100.00000000003\n",
      "liege-bastogne-liege/2023/result 258100.00000000003\n",
      "liege-bastogne-liege/2023/result 258100.00000000003\n",
      "liege-bastogne-liege/2023/result 258100.00000000003\n",
      "liege-bastogne-liege/2023/result 258100.00000000003\n",
      "liege-bastogne-liege/2023/result 258100.00000000003\n",
      "liege-bastogne-liege/2023/result 258100.00000000003\n",
      "liege-bastogne-liege/2023/result 258100.00000000003\n",
      "liege-bastogne-liege/2023/result 258100.00000000003\n",
      "liege-bastogne-liege/2023/result 258100.00000000003\n",
      "liege-bastogne-liege/2023/result 258100.00000000003\n",
      "liege-bastogne-liege/2023/result 258100.00000000003\n",
      "liege-bastogne-liege/2023/result 258100.00000000003\n",
      "liege-bastogne-liege/2023/result 258100.00000000003\n",
      "liege-bastogne-liege/2023/result 258100.00000000003\n",
      "liege-bastogne-liege/2023/result 258100.00000000003\n",
      "liege-bastogne-liege/2023/result 258100.00000000003\n",
      "liege-bastogne-liege/2023/result 258100.00000000003\n",
      "liege-bastogne-liege/2023/result 258100.00000000003\n",
      "liege-bastogne-liege/2023/result 258100.00000000003\n",
      "liege-bastogne-liege/2023/result 258100.00000000003\n",
      "liege-bastogne-liege/2023/result 258100.00000000003\n",
      "liege-bastogne-liege/2023/result 258100.00000000003\n",
      "liege-bastogne-liege/2023/result 258100.00000000003\n",
      "liege-bastogne-liege/2023/result 258100.00000000003\n",
      "liege-bastogne-liege/2023/result 258100.00000000003\n",
      "liege-bastogne-liege/2023/result 258100.00000000003\n",
      "liege-bastogne-liege/2023/result 258100.00000000003\n",
      "liege-bastogne-liege/2023/result 258100.00000000003\n",
      "liege-bastogne-liege/2023/result 258100.00000000003\n",
      "liege-bastogne-liege/2023/result 258100.00000000003\n",
      "liege-bastogne-liege/2023/result 258100.00000000003\n",
      "liege-bastogne-liege/2023/result 258100.00000000003\n",
      "liege-bastogne-liege/2023/result 258100.00000000003\n",
      "liege-bastogne-liege/2023/result 258100.00000000003\n",
      "liege-bastogne-liege/2023/result 258100.00000000003\n",
      "liege-bastogne-liege/2023/result 258100.00000000003\n",
      "liege-bastogne-liege/2023/result 258100.00000000003\n",
      "liege-bastogne-liege/2023/result 258100.00000000003\n",
      "liege-bastogne-liege/2023/result 258100.00000000003\n",
      "liege-bastogne-liege/2023/result 258100.00000000003\n",
      "liege-bastogne-liege/2023/result 258100.00000000003\n",
      "liege-bastogne-liege/2023/result 258100.00000000003\n",
      "liege-bastogne-liege/2023/result 258100.00000000003\n",
      "liege-bastogne-liege/2023/result 258100.00000000003\n",
      "liege-bastogne-liege/2023/result 258100.00000000003\n",
      "liege-bastogne-liege/2023/result 258100.00000000003\n",
      "liege-bastogne-liege/2023/result 258100.00000000003\n",
      "liege-bastogne-liege/2023/result 258100.00000000003\n",
      "liege-bastogne-liege/2023/result 258100.00000000003\n",
      "liege-bastogne-liege/2023/result 258100.00000000003\n",
      "liege-bastogne-liege/2023/result 258100.00000000003\n",
      "liege-bastogne-liege/2023/result 258100.00000000003\n",
      "liege-bastogne-liege/2023/result 258100.00000000003\n",
      "liege-bastogne-liege/2023/result 258100.00000000003\n",
      "liege-bastogne-liege/2023/result 258100.00000000003\n",
      "liege-bastogne-liege/2023/result 258100.00000000003\n",
      "liege-bastogne-liege/2023/result 258100.00000000003\n",
      "liege-bastogne-liege/2023/result 258100.00000000003\n",
      "liege-bastogne-liege/2023/result 258100.00000000003\n",
      "liege-bastogne-liege/2023/result 258100.00000000003\n",
      "liege-bastogne-liege/2023/result 258100.00000000003\n",
      "liege-bastogne-liege/2023/result 258100.00000000003\n",
      "liege-bastogne-liege/2023/result 258100.00000000003\n",
      "liege-bastogne-liege/2023/result 258100.00000000003\n",
      "liege-bastogne-liege/2023/result 258100.00000000003\n",
      "liege-bastogne-liege/2023/result 258100.00000000003\n",
      "liege-bastogne-liege/2023/result 258100.00000000003\n",
      "liege-bastogne-liege/2023/result 258100.00000000003\n",
      "liege-bastogne-liege/2023/result 258100.00000000003\n",
      "liege-bastogne-liege/2023/result 258100.00000000003\n",
      "liege-bastogne-liege/2023/result 258100.00000000003\n",
      "liege-bastogne-liege/2023/result 258100.00000000003\n",
      "liege-bastogne-liege/2023/result 258100.00000000003\n",
      "liege-bastogne-liege/2023/result 258100.00000000003\n",
      "liege-bastogne-liege/2023/result 258100.00000000003\n",
      "liege-bastogne-liege/2023/result 258100.00000000003\n",
      "liege-bastogne-liege/2023/result 258100.00000000003\n",
      "liege-bastogne-liege/2023/result 258100.00000000003\n",
      "liege-bastogne-liege/2023/result 258100.00000000003\n",
      "liege-bastogne-liege/2023/result 258100.00000000003\n",
      "liege-bastogne-liege/2023/result 258100.00000000003\n",
      "liege-bastogne-liege/2023/result 258100.00000000003\n",
      "liege-bastogne-liege/2023/result 258100.00000000003\n",
      "liege-bastogne-liege/2023/result 258100.00000000003\n",
      "liege-bastogne-liege/2023/result 258100.00000000003\n",
      "liege-bastogne-liege/2023/result 258100.00000000003\n",
      "liege-bastogne-liege/2023/result 258100.00000000003\n",
      "liege-bastogne-liege/2023/result 258100.00000000003\n",
      "liege-bastogne-liege/2023/result 258100.00000000003\n",
      "liege-bastogne-liege/2023/result 258100.00000000003\n",
      "liege-bastogne-liege/2023/result 258100.00000000003\n",
      "liege-bastogne-liege/2023/result 258100.00000000003\n",
      "liege-bastogne-liege/2023/result 258100.00000000003\n",
      "liege-bastogne-liege/2023/result 258100.00000000003\n",
      "liege-bastogne-liege/2023/result 258100.00000000003\n",
      "liege-bastogne-liege/2023/result 258100.00000000003\n",
      "liege-bastogne-liege/2023/result 258100.00000000003\n",
      "liege-bastogne-liege/2023/result 258100.00000000003\n",
      "liege-bastogne-liege/2023/result 258100.00000000003\n",
      "liege-bastogne-liege/2023/result 258100.00000000003\n",
      "liege-bastogne-liege/2023/result 258100.00000000003\n",
      "liege-bastogne-liege/2023/result 258100.00000000003\n",
      "liege-bastogne-liege/2023/result 258100.00000000003\n",
      "liege-bastogne-liege/2023/result 258100.00000000003\n"
     ]
    }
   ],
   "source": [
    "# Get rows where 'length' does not end with '.0'\n",
    "invalid_rows = dataset[~dataset['length'].astype(str).str.endswith('.0')]\n",
    "                                \n",
    "print('Number of invalid lengths: ' + str(len(invalid_rows)))\n",
    "for index, row in invalid_rows.iterrows():\n",
    "    print(row['_url'], row['length'])"
   ]
  },
  {
   "cell_type": "markdown",
   "metadata": {},
   "source": [
    "Check the races where the `length` value is small or large, for possible outliers"
   ]
  },
  {
   "cell_type": "code",
   "execution_count": null,
   "metadata": {},
   "outputs": [
    {
     "data": {
      "text/plain": [
       "count    589865.000000\n",
       "mean     166776.180584\n",
       "std       64545.605664\n",
       "min        1000.000000\n",
       "25%      152500.000000\n",
       "50%      178200.000000\n",
       "75%      203500.000000\n",
       "max      338000.000000\n",
       "Name: length, dtype: float64"
      ]
     },
     "metadata": {},
     "output_type": "display_data"
    }
   ],
   "source": [
    "# Dataset info, for 'length' column\n",
    "dataset['length'].describe()"
   ]
  },
  {
   "cell_type": "markdown",
   "metadata": {},
   "source": [
    "The lenghts are between 1000 and 338000 m, so we can say that no extreme values are present."
   ]
  },
  {
   "cell_type": "markdown",
   "metadata": {},
   "source": [
    "### Check on 'climb_total' data"
   ]
  },
  {
   "cell_type": "markdown",
   "metadata": {},
   "source": [
    "Now we consider the `climb_total` column, and check the number of null values and the count the occurrences of each unique value"
   ]
  },
  {
   "cell_type": "code",
   "execution_count": null,
   "metadata": {},
   "outputs": [
    {
     "name": "stdout",
     "output_type": "stream",
     "text": [
      "Total number of null values in climb_total column: 147045 (24.93%)\n",
      "\n",
      "Count occurrences of each value in climb_total column:\n",
      "climb_total\n",
      "3500.0    3762\n",
      "2500.0    3261\n",
      "4000.0    3029\n",
      "3000.0    2938\n",
      "5000.0    2592\n",
      "          ... \n",
      "3742.0       9\n",
      "2525.0       9\n",
      "1176.0       8\n",
      "1903.0       5\n",
      "3128.0       1\n",
      "Name: count, Length: 2117, dtype: int64\n"
     ]
    }
   ],
   "source": [
    "print('Total number of null values in climb_total column: ' + str(dataset['climb_total'].isnull().sum())\n",
    "      + ' (' + str(round(dataset['climb_total'].isnull().sum() / len(dataset) * 100, 2)) + '%)')\n",
    "\n",
    "print('\\nCount occurrences of each value in climb_total column:')\n",
    "climb_total_counts = dataset['climb_total'].value_counts()\n",
    "print(climb_total_counts)"
   ]
  },
  {
   "cell_type": "markdown",
   "metadata": {},
   "source": [
    "We have a lot of different values, and a lot of null values"
   ]
  },
  {
   "cell_type": "markdown",
   "metadata": {},
   "source": [
    "For each url, check if all the `climb_total` values are the same\n"
   ]
  },
  {
   "cell_type": "code",
   "execution_count": null,
   "metadata": {},
   "outputs": [
    {
     "name": "stdout",
     "output_type": "stream",
     "text": [
      "Number of URLs with more than one unique climb_total: 0\n"
     ]
    }
   ],
   "source": [
    "# Group by '_url' and calculate the number of unique values in the 'climb_total' column\n",
    "climb_total_uniques = dataset.groupby('_url')['climb_total'].nunique(dropna=False)\n",
    "# Filter the URLs with more than one unique climb_total\n",
    "multiple_climb_total_urls = climb_total_uniques[climb_total_uniques > 1].index\n",
    "\n",
    "print('Number of URLs with more than one unique climb_total: ' + str(len(multiple_climb_total_urls)))"
   ]
  },
  {
   "cell_type": "markdown",
   "metadata": {},
   "source": [
    "Since we have a lot of values, we check if every value is sintatically correct"
   ]
  },
  {
   "cell_type": "code",
   "execution_count": null,
   "metadata": {},
   "outputs": [
    {
     "data": {
      "text/plain": [
       "dtype('float64')"
      ]
     },
     "metadata": {},
     "output_type": "display_data"
    }
   ],
   "source": [
    "# Check that every value is a digit\n",
    "dataset['climb_total'].dtype"
   ]
  },
  {
   "cell_type": "code",
   "execution_count": null,
   "metadata": {},
   "outputs": [
    {
     "name": "stdout",
     "output_type": "stream",
     "text": [
      "Number of invalid climb_total: 0\n"
     ]
    }
   ],
   "source": [
    "# Get rows where 'climb_total' does not end with '.0'\n",
    "invalid_rows = dataset[~dataset['climb_total'].astype(str).str.endswith('.0')].dropna(subset=['climb_total'])\n",
    "\n",
    "print('Number of invalid climb_total: ' + str(len(invalid_rows)))"
   ]
  },
  {
   "cell_type": "markdown",
   "metadata": {},
   "source": [
    "Check the races where the `climb_total` value is small or large, for possible outliers"
   ]
  },
  {
   "cell_type": "code",
   "execution_count": null,
   "metadata": {},
   "outputs": [
    {
     "data": {
      "text/plain": [
       "count    442820.000000\n",
       "mean       2330.469215\n",
       "std        1375.710722\n",
       "min           2.000000\n",
       "25%        1309.000000\n",
       "50%        2255.000000\n",
       "75%        3273.000000\n",
       "max        6974.000000\n",
       "Name: climb_total, dtype: float64"
      ]
     },
     "metadata": {},
     "output_type": "display_data"
    }
   ],
   "source": [
    "# Dataset info, for 'climb_total' column\n",
    "dataset['climb_total'].describe()"
   ]
  },
  {
   "cell_type": "markdown",
   "metadata": {},
   "source": [
    "The climb values are between 2 and 6974 m, so we can say that no extreme values are present."
   ]
  },
  {
   "cell_type": "markdown",
   "metadata": {},
   "source": [
    "### Check on 'profile' data"
   ]
  },
  {
   "cell_type": "markdown",
   "metadata": {},
   "source": [
    "Now we consider the `profile` column, and check the number of null values and the count the occurrences of each unique value"
   ]
  },
  {
   "cell_type": "code",
   "execution_count": null,
   "metadata": {},
   "outputs": [
    {
     "name": "stdout",
     "output_type": "stream",
     "text": [
      "Total number of null values in profile column: 148194 (25.12%)\n",
      "\n",
      "Count occurrences of each value in profile column:\n",
      "profile\n",
      "1.0    131344\n",
      "2.0    128269\n",
      "5.0     88203\n",
      "3.0     50844\n",
      "4.0     43011\n",
      "Name: count, dtype: int64\n"
     ]
    }
   ],
   "source": [
    "print('Total number of null values in profile column: ' + str(dataset['profile'].isnull().sum())\n",
    "      + ' (' + str(round(dataset['profile'].isnull().sum() / len(dataset) * 100, 2)) + '%)')\n",
    "\n",
    "print('\\nCount occurrences of each value in profile column:')\n",
    "profile_counts = dataset['profile'].value_counts()\n",
    "print(profile_counts)"
   ]
  },
  {
   "cell_type": "markdown",
   "metadata": {},
   "source": [
    "We have few different values, but a lot of null values. Also, we see that every value is sintatically correct"
   ]
  },
  {
   "cell_type": "markdown",
   "metadata": {},
   "source": [
    "For each url, check if all the `profile` values are the same"
   ]
  },
  {
   "cell_type": "code",
   "execution_count": null,
   "metadata": {},
   "outputs": [
    {
     "name": "stdout",
     "output_type": "stream",
     "text": [
      "Number of URLs with more than one unique profile: 0\n"
     ]
    }
   ],
   "source": [
    "# Group by '_url' and calculate the number of unique values in the 'profile' column\n",
    "profile_uniques = dataset.groupby('_url')['profile'].nunique(dropna=False)\n",
    "# Filter the URLs with more than one unique profile\n",
    "multiple_profile_urls = profile_uniques[profile_uniques > 1].index\n",
    "\n",
    "print('Number of URLs with more than one unique profile: ' + str(len(multiple_profile_urls)))"
   ]
  },
  {
   "cell_type": "markdown",
   "metadata": {},
   "source": [
    "### Check on 'startlist_quality' data"
   ]
  },
  {
   "cell_type": "markdown",
   "metadata": {},
   "source": [
    "Now we consider the `startlist_quality` column, and check the number of null values and the count the occurrences of each unique value"
   ]
  },
  {
   "cell_type": "code",
   "execution_count": null,
   "metadata": {},
   "outputs": [
    {
     "name": "stdout",
     "output_type": "stream",
     "text": [
      "Total number of null values in startlist_quality column: 0 (0.0%)\n",
      "\n",
      "Count occurrences of each value in startlist_quality column:\n",
      "startlist_quality\n",
      "971     8279\n",
      "1812    7807\n",
      "1872    7317\n",
      "1612    7255\n",
      "920     6715\n",
      "        ... \n",
      "455        5\n",
      "438        5\n",
      "394        5\n",
      "228        3\n",
      "544        3\n",
      "Name: count, Length: 697, dtype: int64\n"
     ]
    }
   ],
   "source": [
    "print('Total number of null values in startlist_quality column: ' + str(dataset['startlist_quality'].isnull().sum())\n",
    "      + ' (' + str(round(dataset['startlist_quality'].isnull().sum() / len(dataset) * 100, 2)) + '%)')\n",
    "\n",
    "print('\\nCount occurrences of each value in startlist_quality column:')\n",
    "startlist_quality_counts = dataset['startlist_quality'].value_counts()\n",
    "print(startlist_quality_counts)"
   ]
  },
  {
   "cell_type": "markdown",
   "metadata": {},
   "source": [
    "We have different values, but no null values."
   ]
  },
  {
   "cell_type": "markdown",
   "metadata": {},
   "source": [
    "For each url, check if all the `startlist_quality` values are the same"
   ]
  },
  {
   "cell_type": "code",
   "execution_count": null,
   "metadata": {},
   "outputs": [
    {
     "name": "stdout",
     "output_type": "stream",
     "text": [
      "Number of URLs with more than one unique startlist_quality: 0\n"
     ]
    }
   ],
   "source": [
    "# Group by '_url' and calculate the number of unique values in the 'startlist_quality' column\n",
    "startlist_quality_uniques = dataset.groupby('_url')['startlist_quality'].nunique(dropna=False)\n",
    "# Filter the URLs with more than one unique startlist_quality\n",
    "multiple_startlist_quality_urls = startlist_quality_uniques[startlist_quality_uniques > 1].index\n",
    "\n",
    "print('Number of URLs with more than one unique startlist_quality: ' + str(len(multiple_startlist_quality_urls)))"
   ]
  },
  {
   "cell_type": "markdown",
   "metadata": {},
   "source": [
    "Since we have a lot of different values, we check if every value is sintatically correct"
   ]
  },
  {
   "cell_type": "code",
   "execution_count": null,
   "metadata": {},
   "outputs": [
    {
     "data": {
      "text/plain": [
       "dtype('int64')"
      ]
     },
     "metadata": {},
     "output_type": "display_data"
    }
   ],
   "source": [
    "# Check that every value is a digit\n",
    "dataset['startlist_quality'].dtype"
   ]
  },
  {
   "cell_type": "markdown",
   "metadata": {},
   "source": [
    "## Check on 'date' data"
   ]
  },
  {
   "cell_type": "markdown",
   "metadata": {},
   "source": [
    "Now we consider the `date` column, and check the number of null values and the count the occurrences of each unique value. We do this considerig the merged dataset where we don't have time value of the date"
   ]
  },
  {
   "cell_type": "code",
   "execution_count": null,
   "metadata": {},
   "outputs": [
    {
     "name": "stdout",
     "output_type": "stream",
     "text": [
      "Total number of null values in date column: 0 (0.0%)\n",
      "\n",
      "Count occurrences of each value in date column:\n",
      "date\n",
      "1998-06-18    407\n",
      "1987-07-05    404\n",
      "2006-05-15    379\n",
      "2006-05-16    377\n",
      "2023-02-25    376\n",
      "             ... \n",
      "1972-06-23      1\n",
      "1972-06-21      1\n",
      "1972-06-17      1\n",
      "1972-06-22      1\n",
      "2001-06-02      1\n",
      "Name: count, Length: 4708, dtype: int64\n"
     ]
    }
   ],
   "source": [
    "print('Total number of null values in date column: ' + str(dataset['date'].isnull().sum())\n",
    "      + ' (' + str(round(dataset['date'].isnull().sum() / len(dataset) * 100, 2)) + '%)')\n",
    "\n",
    "print('\\nCount occurrences of each value in date column:')\n",
    "date_counts = dataset['date'].value_counts()\n",
    "print(date_counts)"
   ]
  },
  {
   "cell_type": "markdown",
   "metadata": {},
   "source": [
    "We have different values, but no null values."
   ]
  },
  {
   "cell_type": "markdown",
   "metadata": {},
   "source": [
    "For each url, check if all the `date` values are the same"
   ]
  },
  {
   "cell_type": "code",
   "execution_count": null,
   "metadata": {},
   "outputs": [
    {
     "name": "stdout",
     "output_type": "stream",
     "text": [
      "Number of URLs with more than one unique date (format yyyy-mm-dd hh:mm:ss, in the races dataset): 4777\n",
      "Number of URLs with more than one unique date (format yyyy-mm-dd, in the merged dataset): 0\n"
     ]
    }
   ],
   "source": [
    "# Group by '_url' and calculate the number of unique values in the 'date' column\n",
    "date_uniques = dataset.groupby('_url_race')['date'].nunique(dropna=False)\n",
    "# Filter the URLs with more than one unique date\n",
    "multiple_date_urls = date_uniques[date_uniques > 1].index\n",
    "\n",
    "print('Number of URLs with more than one unique date (format yyyy-mm-dd, in the merged dataset): ' + str(len(multiple_date_urls)))"
   ]
  },
  {
   "cell_type": "markdown",
   "metadata": {},
   "source": [
    "Since we have a lot of different values, we check if every value is sintatically correct"
   ]
  },
  {
   "cell_type": "code",
   "execution_count": null,
   "metadata": {},
   "outputs": [
    {
     "name": "stdout",
     "output_type": "stream",
     "text": [
      "Number of invalid dates (format yyyy-mm-dd hh:mm:ss, in the races dataset): 0\n",
      "Number of invalid dates (format yyyy-mm-dd, in the merged dataset): 0\n"
     ]
    }
   ],
   "source": [
    "# Check if there are any 'date' values not in the format yyyy-mm-dd (in the merged dataset)\n",
    "invalid_rows = dataset[dataset['date'].str.match(r'\\d{4}-\\d{2}-\\d{2}')]\n",
    "print('Number of invalid dates (format yyyy-mm-dd, in the merged dataset): ' + str(len(invalid_rows)))"
   ]
  },
  {
   "cell_type": "markdown",
   "metadata": {},
   "source": [
    "Check if the year is the same in both the `_url` and the `date`"
   ]
  },
  {
   "cell_type": "code",
   "execution_count": null,
   "metadata": {},
   "outputs": [
    {
     "name": "stdout",
     "output_type": "stream",
     "text": [
      "Number of rows where the year in the url does not match the year in the date: 0\n"
     ]
    }
   ],
   "source": [
    "# Split _url by / into name, year, and stage\n",
    "url_split = dataset['_url'].str.split('/', expand=True) # expand=True to return a DataFrame\n",
    "# Extract the year from the date column (assuming format yyyy-mm-dd hh:mm:ss)\n",
    "date_year = dataset['date'].str[:4]\n",
    "# Compare the year in the _url (from the second part of the split) with the year in the date\n",
    "mismatched_years = dataset[(url_split[1] != date_year)]\n",
    "\n",
    "# Print the number of rows where the year does not match\n",
    "print(f\"Number of rows where the year in the url does not match the year in the date: {len(mismatched_years)}\")\n"
   ]
  },
  {
   "cell_type": "markdown",
   "metadata": {},
   "source": [
    "### Check on 'position' data"
   ]
  },
  {
   "cell_type": "markdown",
   "metadata": {},
   "source": [
    "Now we consider the `position` column, and check the number of null values and the count the occurrences of each unique value"
   ]
  },
  {
   "cell_type": "code",
   "execution_count": null,
   "metadata": {},
   "outputs": [
    {
     "name": "stdout",
     "output_type": "stream",
     "text": [
      "Total number of null values in position column: 0 (0.0%)\n",
      "\n",
      "Count occurrences of each value in position column:\n",
      "position\n",
      "0      5281\n",
      "1      5275\n",
      "2      5273\n",
      "3      5267\n",
      "4      5255\n",
      "       ... \n",
      "205       5\n",
      "206       3\n",
      "207       2\n",
      "208       2\n",
      "209       2\n",
      "Name: count, Length: 210, dtype: int64\n"
     ]
    }
   ],
   "source": [
    "print('Total number of null values in position column: ' + str(dataset['position'].isnull().sum())\n",
    "      + ' (' + str(round(dataset['position'].isnull().sum() / len(dataset) * 100, 2)) + '%)')\n",
    "\n",
    "print('\\nCount occurrences of each value in position column:')\n",
    "position_counts = dataset['position'].value_counts()\n",
    "print(position_counts)"
   ]
  },
  {
   "cell_type": "markdown",
   "metadata": {},
   "source": [
    "We have different values, and no null values."
   ]
  },
  {
   "cell_type": "markdown",
   "metadata": {},
   "source": [
    "Since we have different values, we check if every value is sintatically correct"
   ]
  },
  {
   "cell_type": "code",
   "execution_count": null,
   "metadata": {},
   "outputs": [
    {
     "data": {
      "text/plain": [
       "dtype('int64')"
      ]
     },
     "metadata": {},
     "output_type": "display_data"
    }
   ],
   "source": [
    "# Check that every value is a digit\n",
    "dataset['position'].dtype"
   ]
  },
  {
   "cell_type": "markdown",
   "metadata": {},
   "source": [
    "For each url, check if there are all the `position` values"
   ]
  },
  {
   "cell_type": "code",
   "execution_count": null,
   "metadata": {},
   "outputs": [
    {
     "name": "stdout",
     "output_type": "stream",
     "text": [
      "Number of URLs with invalid positions: 0\n"
     ]
    }
   ],
   "source": [
    "# Function to check if the positions are from 0 to the max one after the other\n",
    "def check_positions(positions):\n",
    "    return np.array_equal(np.sort(positions), np.arange(positions.max() + 1))\n",
    "\n",
    "# Apply the function to the dataset\n",
    "invalid_urls = dataset.groupby('_url')['position'].apply(lambda x: not check_positions(x))\n",
    "\n",
    "# Stampa gli '_url' che non rispettano la condizione\n",
    "print('Number of URLs with invalid positions: ' + str(len(invalid_urls[invalid_urls])))\n"
   ]
  },
  {
   "cell_type": "markdown",
   "metadata": {},
   "source": [
    "### Check on 'cyclist_age' data"
   ]
  },
  {
   "cell_type": "markdown",
   "metadata": {},
   "source": [
    "Now we consider the `cyclist_age` column, and check the number of null values and the count the occurrences of each unique value"
   ]
  },
  {
   "cell_type": "code",
   "execution_count": null,
   "metadata": {},
   "outputs": [
    {
     "name": "stdout",
     "output_type": "stream",
     "text": [
      "Total number of null values in cyclist_age column: 113 (0.02%)\n",
      "\n",
      "Count occurrences of each value in cyclist_age column:\n",
      "cyclist_age\n",
      "27.0    58897\n",
      "26.0    57921\n",
      "28.0    56213\n",
      "25.0    54346\n",
      "29.0    52616\n",
      "30.0    46860\n",
      "24.0    43252\n",
      "31.0    40827\n",
      "32.0    35063\n",
      "23.0    30009\n",
      "33.0    27972\n",
      "34.0    21965\n",
      "35.0    16413\n",
      "22.0    13531\n",
      "36.0    12111\n",
      "37.0     8141\n",
      "38.0     4703\n",
      "21.0     3733\n",
      "39.0     2470\n",
      "40.0     1127\n",
      "20.0      842\n",
      "41.0      307\n",
      "42.0      218\n",
      "43.0       96\n",
      "19.0       90\n",
      "45.0       16\n",
      "44.0       11\n",
      "56.0        1\n",
      "13.0        1\n",
      "Name: count, dtype: int64\n"
     ]
    }
   ],
   "source": [
    "print('Total number of null values in cyclist_age column: ' + str(dataset['cyclist_age'].isnull().sum())\n",
    "      + ' (' + str(round(dataset['cyclist_age'].isnull().sum() / dataset.shape[0] * 100, 2)) + '%)')\n",
    "\n",
    "print('\\nCount occurrences of each value in cyclist_age column:')\n",
    "cyclist_age_counts = dataset['cyclist_age'].value_counts()\n",
    "print(cyclist_age_counts)"
   ]
  },
  {
   "cell_type": "markdown",
   "metadata": {},
   "source": [
    "We have different values, and just a few of null values. Also, we see that every value is sintatically correct"
   ]
  },
  {
   "cell_type": "markdown",
   "metadata": {},
   "source": [
    "Check the races where the `cyclist_age` value is small or large, for possible outliers"
   ]
  },
  {
   "cell_type": "code",
   "execution_count": null,
   "metadata": {},
   "outputs": [
    {
     "data": {
      "text/plain": [
       "count    589752.000000\n",
       "mean         28.486208\n",
       "std           3.855631\n",
       "min          13.000000\n",
       "25%          26.000000\n",
       "50%          28.000000\n",
       "75%          31.000000\n",
       "max          56.000000\n",
       "Name: cyclist_age, dtype: float64"
      ]
     },
     "metadata": {},
     "output_type": "display_data"
    }
   ],
   "source": [
    "# Dataset info, for 'cyclist_age' column\n",
    "dataset['cyclist_age'].describe()"
   ]
  },
  {
   "cell_type": "markdown",
   "metadata": {},
   "source": [
    "The ages are between 13 and 56 cm, so we can say that no extreme values are present (in the cyclism context)."
   ]
  },
  {
   "cell_type": "markdown",
   "metadata": {},
   "source": [
    "### Check on 'mostly_tarmac' data"
   ]
  },
  {
   "cell_type": "markdown",
   "metadata": {},
   "source": [
    "Now we consider the `mostly_tarmac` column, and check the number of null values and the count the occurrences of each unique value"
   ]
  },
  {
   "cell_type": "code",
   "execution_count": null,
   "metadata": {},
   "outputs": [
    {
     "name": "stdout",
     "output_type": "stream",
     "text": [
      "Total number of null values in is_tarmac column: 0 (0.0%)\n",
      "\n",
      "Count occurrences of each value in is_tarmac column:\n",
      "is_tarmac\n",
      "True     536042\n",
      "False     53823\n",
      "Name: count, dtype: int64\n"
     ]
    }
   ],
   "source": [
    "print('Total number of null values in mostly_tarmac column: ' + str(dataset['mostly_tarmac'].isnull().sum())\n",
    "      + ' (' + str(round(dataset['mostly_tarmac'].isnull().sum() / len(dataset) * 100, 2)) + '%)')\n",
    "\n",
    "print('\\nCount occurrences of each value in mostly_tarmac column:')\n",
    "is_tarmac_counts = dataset['mostly_tarmac'].value_counts()\n",
    "print(is_tarmac_counts)"
   ]
  },
  {
   "cell_type": "markdown",
   "metadata": {},
   "source": [
    "We have two different values, and no null values. Also, we see that every value is sintatically correct"
   ]
  },
  {
   "cell_type": "markdown",
   "metadata": {},
   "source": [
    "### Check on 'cyclist_team' data"
   ]
  },
  {
   "cell_type": "markdown",
   "metadata": {},
   "source": [
    "Now we consider the `cyclist_team` column, and check the number of null values and the count the occurrences of each unique value"
   ]
  },
  {
   "cell_type": "code",
   "execution_count": null,
   "metadata": {},
   "outputs": [
    {
     "name": "stdout",
     "output_type": "stream",
     "text": [
      "Total number of null values in cyclist_team column: 159161 (26.98%)\n",
      "\n",
      "Count occurrences of each value in cyclist_team column:\n",
      "cyclist_team\n",
      "liberty-seguros-wurth-team-2005     8869\n",
      "roompot-nederlandse-loterij-2018    8773\n",
      "chazal-vetta-mbk-1993               8094\n",
      "kondor-1979                         7895\n",
      "kazakhstan-2019                     7701\n",
      "                                    ... \n",
      "atala-ofmega-1988                   1259\n",
      "finland-2016                        1236\n",
      "south-africa-1993                   1174\n",
      "denmark-2003                         216\n",
      "quickstep-innergetic-2009              3\n",
      "Name: count, Length: 91, dtype: int64\n"
     ]
    }
   ],
   "source": [
    "# Print total number of null values in 'delta' column, and the percentage of null values (float with two decimal digits after the comma)\n",
    "print('Total number of null values in cyclist_team column: ' + str(dataset['cyclist_team'].isnull().sum())\n",
    "      + ' (' + str(round(dataset['cyclist_team'].isnull().sum() / dataset.shape[0] * 100, 2)) + '%)')\n",
    "\n",
    "print('\\nCount occurrences of each value in cyclist_team column:')\n",
    "cyclist_team_counts = dataset['cyclist_team'].value_counts()\n",
    "print(cyclist_team_counts)"
   ]
  },
  {
   "cell_type": "code",
   "execution_count": null,
   "metadata": {},
   "outputs": [
    {
     "name": "stdout",
     "output_type": "stream",
     "text": [
      "Number of invalid rows: 0\n"
     ]
    }
   ],
   "source": [
    "# Check if every 'cyclist_team' value matches the required format\n",
    "invalid_teams = dataset[dataset['cyclist_team'].notnull() & ~dataset['cyclist_team'].astype(str).str.match(r'.+-\\d{4}')]\n",
    "\n",
    "print('Number of invalid rows: ' + str(len(invalid_teams)))"
   ]
  },
  {
   "cell_type": "markdown",
   "metadata": {},
   "source": [
    "### Check on 'delta' data"
   ]
  },
  {
   "cell_type": "markdown",
   "metadata": {},
   "source": [
    "Now we consider the `delta` column, and check the number of null values and the count the occurrences of each unique value"
   ]
  },
  {
   "cell_type": "code",
   "execution_count": null,
   "metadata": {},
   "outputs": [
    {
     "name": "stdout",
     "output_type": "stream",
     "text": [
      "Total number of null values in delta column: 0 (0.0%)\n",
      "\n",
      "Count occurrences of each value in delta column:\n",
      "delta\n",
      "0.0       120546\n",
      "2.0         3700\n",
      "5.0         3353\n",
      "3.0         3178\n",
      "4.0         3036\n",
      "           ...  \n",
      "2453.0         1\n",
      "2357.0         1\n",
      "2889.0         1\n",
      "2718.0         1\n",
      "2527.0         1\n",
      "Name: count, Length: 2836, dtype: int64\n"
     ]
    }
   ],
   "source": [
    "print('Total number of null values in delta column: ' + str(dataset['delta'].isnull().sum())\n",
    "        + ' (' + str(round(dataset['delta'].isnull().sum() / dataset.shape[0] * 100, 2)) + '%)')\n",
    "\n",
    "print('\\nCount occurrences of each value in delta column:')\n",
    "delta_counts = dataset['delta'].value_counts()\n",
    "print(delta_counts)"
   ]
  },
  {
   "cell_type": "markdown",
   "metadata": {},
   "source": [
    "We have lots of different values, but no null values."
   ]
  },
  {
   "cell_type": "markdown",
   "metadata": {},
   "source": [
    "Since we have a lot of different values, we check if every value is sintatically correct."
   ]
  },
  {
   "cell_type": "code",
   "execution_count": null,
   "metadata": {},
   "outputs": [
    {
     "data": {
      "text/plain": [
       "dtype('float64')"
      ]
     },
     "metadata": {},
     "output_type": "display_data"
    }
   ],
   "source": [
    "# Check that every value is a digit\n",
    "dataset['delta'].dtype"
   ]
  },
  {
   "cell_type": "code",
   "execution_count": null,
   "metadata": {},
   "outputs": [
    {
     "name": "stdout",
     "output_type": "stream",
     "text": [
      "Number of invalid deltas: 0\n"
     ]
    }
   ],
   "source": [
    "# Check if there are any 'delta' values that do not end with '.0'\n",
    "invalid_rows = dataset[~dataset['delta'].astype(str).str.endswith('.0')]\n",
    "\n",
    "print('Number of invalid deltas: ' + str(len(invalid_rows)))"
   ]
  },
  {
   "cell_type": "code",
   "execution_count": null,
   "metadata": {},
   "outputs": [
    {
     "name": "stdout",
     "output_type": "stream",
     "text": [
      "Number of negative deltas: 86\n",
      "vuelta-a-espana/1992/stage-19 -2635.0\n",
      "vuelta-a-espana/1992/stage-19 -2638.0\n",
      "vuelta-a-espana/1992/stage-19 -2541.0\n",
      "vuelta-a-espana/1992/stage-19 -2542.0\n",
      "vuelta-a-espana/1992/stage-19 -2545.0\n",
      "vuelta-a-espana/1992/stage-19 -2546.0\n",
      "vuelta-a-espana/1992/stage-19 -2550.0\n",
      "vuelta-a-espana/1992/stage-19 -2560.0\n",
      "vuelta-a-espana/1992/stage-19 -2564.0\n",
      "vuelta-a-espana/1992/stage-19 -2567.0\n",
      "vuelta-a-espana/1992/stage-19 -2567.0\n",
      "vuelta-a-espana/1992/stage-19 -2574.0\n",
      "vuelta-a-espana/1992/stage-19 -2469.0\n",
      "vuelta-a-espana/1992/stage-19 -2473.0\n",
      "vuelta-a-espana/1992/stage-19 -2475.0\n",
      "vuelta-a-espana/1992/stage-19 -2477.0\n",
      "vuelta-a-espana/1992/stage-19 -2479.0\n",
      "vuelta-a-espana/1992/stage-19 -2481.0\n",
      "vuelta-a-espana/1992/stage-19 -2482.0\n",
      "vuelta-a-espana/1992/stage-19 -2485.0\n",
      "vuelta-a-espana/1992/stage-19 -2486.0\n",
      "vuelta-a-espana/1992/stage-19 -2486.0\n",
      "vuelta-a-espana/1992/stage-19 -2487.0\n",
      "vuelta-a-espana/1992/stage-19 -2500.0\n",
      "vuelta-a-espana/1992/stage-19 -2504.0\n",
      "vuelta-a-espana/1992/stage-19 -2505.0\n",
      "vuelta-a-espana/1992/stage-19 -2509.0\n",
      "vuelta-a-espana/1992/stage-19 -2510.0\n",
      "vuelta-a-espana/1992/stage-19 -2513.0\n",
      "vuelta-a-espana/1992/stage-19 -2514.0\n",
      "vuelta-a-espana/1992/stage-19 -2408.0\n",
      "vuelta-a-espana/1992/stage-19 -2410.0\n",
      "vuelta-a-espana/1992/stage-19 -2413.0\n",
      "vuelta-a-espana/1992/stage-19 -2413.0\n",
      "vuelta-a-espana/1992/stage-19 -2416.0\n",
      "vuelta-a-espana/1992/stage-19 -2419.0\n",
      "vuelta-a-espana/1992/stage-19 -2424.0\n",
      "vuelta-a-espana/1992/stage-19 -2424.0\n",
      "vuelta-a-espana/1992/stage-19 -2425.0\n",
      "vuelta-a-espana/1992/stage-19 -2425.0\n",
      "vuelta-a-espana/1992/stage-19 -2428.0\n",
      "vuelta-a-espana/1992/stage-19 -2430.0\n",
      "vuelta-a-espana/1992/stage-19 -2432.0\n",
      "vuelta-a-espana/1992/stage-19 -2434.0\n",
      "vuelta-a-espana/1992/stage-19 -2437.0\n",
      "vuelta-a-espana/1992/stage-19 -2438.0\n",
      "vuelta-a-espana/1992/stage-19 -2440.0\n",
      "vuelta-a-espana/1992/stage-19 -2444.0\n",
      "vuelta-a-espana/1992/stage-19 -2446.0\n",
      "vuelta-a-espana/1992/stage-19 -2448.0\n",
      "vuelta-a-espana/1992/stage-19 -2391.0\n",
      "vuelta-a-espana/1992/stage-19 -2457.0\n",
      "vuelta-a-espana/1992/stage-19 -2345.0\n",
      "vuelta-a-espana/1992/stage-19 -2346.0\n",
      "vuelta-a-espana/1992/stage-19 -2348.0\n",
      "vuelta-a-espana/1992/stage-19 -2348.0\n",
      "vuelta-a-espana/1992/stage-19 -2349.0\n",
      "vuelta-a-espana/1992/stage-19 -2352.0\n",
      "vuelta-a-espana/1992/stage-19 -2353.0\n",
      "vuelta-a-espana/1992/stage-19 -2353.0\n",
      "vuelta-a-espana/1992/stage-19 -2355.0\n",
      "vuelta-a-espana/1992/stage-19 -2356.0\n",
      "vuelta-a-espana/1992/stage-19 -2356.0\n",
      "vuelta-a-espana/1992/stage-19 -2358.0\n",
      "vuelta-a-espana/1992/stage-19 -2359.0\n",
      "vuelta-a-espana/1992/stage-19 -2365.0\n",
      "vuelta-a-espana/1992/stage-19 -2365.0\n",
      "vuelta-a-espana/1992/stage-19 -2367.0\n",
      "vuelta-a-espana/1992/stage-19 -2378.0\n",
      "vuelta-a-espana/1992/stage-19 -2384.0\n",
      "vuelta-a-espana/1992/stage-19 -2385.0\n",
      "vuelta-a-espana/1992/stage-19 -2391.0\n",
      "vuelta-a-espana/1992/stage-19 -2393.0\n",
      "vuelta-a-espana/1992/stage-19 -2394.0\n",
      "vuelta-a-espana/1992/stage-19 -2397.0\n",
      "paris-nice/1990/stage-7a -5562.0\n",
      "paris-nice/1990/stage-7a -5562.0\n",
      "paris-nice/1990/stage-7a -5562.0\n",
      "paris-nice/1990/stage-7a -5562.0\n",
      "paris-nice/1990/stage-7a -5562.0\n",
      "paris-nice/1990/stage-7a -5562.0\n",
      "paris-nice/1990/stage-7a -5562.0\n",
      "paris-nice/1990/stage-7a -5562.0\n",
      "paris-nice/1990/stage-7a -6906.0\n",
      "tour-de-france/2003/stage-12 -2937.0\n",
      "tour-de-suisse/1993/stage-4 -106.0\n"
     ]
    }
   ],
   "source": [
    "# Check if there are any 'delta' values that are negative\n",
    "invalid_rows = dataset[dataset['delta'] < 0]\n",
    "\n",
    "print('Number of negative deltas: ' + str(len(invalid_rows)))\n",
    "for index, row in invalid_rows.iterrows():\n",
    "    print(row['_url'], row['delta'])"
   ]
  },
  {
   "cell_type": "markdown",
   "metadata": {},
   "source": [
    "Check if following the `positon` order, the delta is ordered too"
   ]
  },
  {
   "cell_type": "code",
   "execution_count": null,
   "metadata": {},
   "outputs": [
    {
     "name": "stdout",
     "output_type": "stream",
     "text": [
      "Number of URLs with invalid deltas: 346\n",
      "dauphine/2006/stage-2\n",
      "dauphine/2007/stage-7\n",
      "dauphine/2008/stage-2\n",
      "dauphine/2008/stage-3\n",
      "dauphine/2008/stage-6\n",
      "dauphine/2008/stage-7\n",
      "dauphine/2009/stage-4\n",
      "dauphine/2009/stage-6\n",
      "dauphine/2011/stage-2\n",
      "dauphine/2015/stage-2\n",
      "dauphine/2016/stage-4\n",
      "dauphine/2017/stage-1\n",
      "dauphine/2022/stage-1\n",
      "dauphine/2022/stage-2\n",
      "dauphine/2023/stage-1\n",
      "dauphine/2023/stage-3\n",
      "dauphine/2023/stage-5\n",
      "dwars-door-vlaanderen/2003/result\n",
      "e3-harelbeke/1976/result\n",
      "e3-harelbeke/2023/result\n",
      "giro-d-italia/1991/stage-10\n",
      "giro-d-italia/1992/stage-3\n",
      "giro-d-italia/1994/stage-8\n",
      "giro-d-italia/1995/stage-14\n",
      "giro-d-italia/1995/stage-17\n",
      "giro-d-italia/1995/stage-5\n",
      "giro-d-italia/1995/stage-8\n",
      "giro-d-italia/1997/stage-13\n",
      "giro-d-italia/1997/stage-3\n",
      "giro-d-italia/1999/stage-7\n",
      "giro-d-italia/2002/stage-2\n",
      "giro-d-italia/2002/stage-3\n",
      "giro-d-italia/2002/stage-4\n",
      "giro-d-italia/2003/stage-1\n",
      "giro-d-italia/2005/prologue\n",
      "giro-d-italia/2005/stage-1\n",
      "giro-d-italia/2005/stage-15\n",
      "giro-d-italia/2005/stage-2\n",
      "giro-d-italia/2005/stage-3\n",
      "giro-d-italia/2005/stage-4\n",
      "giro-d-italia/2005/stage-5\n",
      "giro-d-italia/2005/stage-7\n",
      "giro-d-italia/2007/stage-4\n",
      "giro-d-italia/2008/stage-13\n",
      "giro-d-italia/2008/stage-18\n",
      "giro-d-italia/2008/stage-19\n",
      "giro-d-italia/2008/stage-2\n",
      "giro-d-italia/2008/stage-4\n",
      "giro-d-italia/2008/stage-5\n",
      "giro-d-italia/2008/stage-9\n",
      "giro-d-italia/2009/stage-12\n",
      "giro-d-italia/2009/stage-21\n",
      "giro-d-italia/2009/stage-7\n",
      "giro-d-italia/2010/stage-10\n",
      "giro-d-italia/2011/stage-8\n",
      "giro-d-italia/2011/stage-9\n",
      "giro-d-italia/2012/stage-3\n",
      "giro-d-italia/2013/stage-1\n",
      "giro-d-italia/2013/stage-12\n",
      "giro-d-italia/2013/stage-16\n",
      "giro-d-italia/2013/stage-17\n",
      "giro-d-italia/2013/stage-3\n",
      "giro-d-italia/2013/stage-5\n",
      "giro-d-italia/2014/stage-10\n",
      "giro-d-italia/2014/stage-14\n",
      "giro-d-italia/2014/stage-4\n",
      "giro-d-italia/2014/stage-5\n",
      "giro-d-italia/2014/stage-7\n",
      "giro-d-italia/2014/stage-9\n",
      "giro-d-italia/2015/stage-13\n",
      "giro-d-italia/2015/stage-2\n",
      "giro-d-italia/2015/stage-21\n",
      "giro-d-italia/2015/stage-6\n",
      "giro-d-italia/2016/stage-12\n",
      "giro-d-italia/2016/stage-17\n",
      "giro-d-italia/2016/stage-5\n",
      "giro-d-italia/2017/stage-7\n",
      "giro-d-italia/2017/stage-8\n",
      "giro-d-italia/2019/stage-10\n",
      "giro-d-italia/2019/stage-11\n",
      "giro-d-italia/2019/stage-2\n",
      "giro-d-italia/2019/stage-5\n",
      "giro-d-italia/2020/stage-4\n",
      "giro-d-italia/2020/stage-6\n",
      "giro-d-italia/2021/stage-7\n",
      "giro-d-italia/2022/stage-18\n",
      "giro-d-italia/2022/stage-5\n",
      "giro-d-italia/2023/stage-21\n",
      "giro-d-italia/2023/stage-5\n",
      "gp-quebec/2011/result\n",
      "itzulia-basque-country/1998/stage-1\n",
      "itzulia-basque-country/1998/stage-2\n",
      "itzulia-basque-country/2003/stage-4\n",
      "itzulia-basque-country/2006/stage-4\n",
      "itzulia-basque-country/2012/stage-2\n",
      "itzulia-basque-country/2013/stage-2\n",
      "itzulia-basque-country/2015/stage-1\n",
      "itzulia-basque-country/2017/stage-1\n",
      "itzulia-basque-country/2017/stage-4\n",
      "itzulia-basque-country/2019/stage-4\n",
      "itzulia-basque-country/2022/stage-2\n",
      "itzulia-basque-country/2022/stage-3\n",
      "la-fleche-wallone/1979/result\n",
      "la-fleche-wallone/1986/result\n",
      "la-fleche-wallone/1995/result\n",
      "la-fleche-wallone/1996/result\n",
      "la-fleche-wallone/1997/result\n",
      "paris-nice/1990/stage-7a\n",
      "paris-nice/2000/stage-3\n",
      "paris-nice/2000/stage-5\n",
      "paris-nice/2002/stage-3\n",
      "paris-nice/2002/stage-6\n",
      "paris-nice/2005/stage-7\n",
      "paris-nice/2006/stage-4\n",
      "paris-nice/2008/stage-7\n",
      "paris-nice/2009/stage-4\n",
      "paris-nice/2014/stage-1\n",
      "paris-nice/2014/stage-2\n",
      "paris-nice/2014/stage-4\n",
      "paris-nice/2014/stage-8\n",
      "paris-nice/2015/stage-5\n",
      "paris-nice/2016/stage-1\n",
      "paris-nice/2016/stage-5\n",
      "paris-nice/2018/stage-5\n",
      "paris-nice/2019/stage-1\n",
      "paris-nice/2020/stage-3\n",
      "paris-nice/2020/stage-5\n",
      "paris-nice/2021/stage-1\n",
      "paris-nice/2021/stage-2\n",
      "paris-nice/2022/stage-2\n",
      "paris-nice/2022/stage-3\n",
      "paris-nice/2022/stage-6\n",
      "paris-nice/2023/stage-1\n",
      "paris-roubaix/1976/result\n",
      "ronde-van-vlaanderen/1974/result\n",
      "ronde-van-vlaanderen/2023/result\n",
      "tirreno-adriatico/1999/stage-7\n",
      "tirreno-adriatico/2002/stage-1\n",
      "tirreno-adriatico/2002/stage-2\n",
      "tirreno-adriatico/2005/stage-2\n",
      "tirreno-adriatico/2006/stage-2\n",
      "tirreno-adriatico/2007/stage-2\n",
      "tirreno-adriatico/2008/stage-7\n",
      "tirreno-adriatico/2012/stage-2\n",
      "tirreno-adriatico/2014/stage-2\n",
      "tirreno-adriatico/2014/stage-3\n",
      "tirreno-adriatico/2014/stage-6\n",
      "tirreno-adriatico/2015/stage-2\n",
      "tirreno-adriatico/2016/stage-2\n",
      "tirreno-adriatico/2017/stage-3\n",
      "tirreno-adriatico/2018/stage-2\n",
      "tirreno-adriatico/2019/stage-4\n",
      "tirreno-adriatico/2020/stage-1\n",
      "tirreno-adriatico/2020/stage-6\n",
      "tirreno-adriatico/2022/stage-3\n",
      "tirreno-adriatico/2023/stage-3\n",
      "tour-de-france/1980/stage-10\n",
      "tour-de-france/1982/stage-7\n",
      "tour-de-france/1983/stage-3\n",
      "tour-de-france/1984/stage-7\n",
      "tour-de-france/1985/stage-14\n",
      "tour-de-france/1985/stage-4\n",
      "tour-de-france/1985/stage-7\n",
      "tour-de-france/1987/stage-12\n",
      "tour-de-france/1987/stage-7\n",
      "tour-de-france/1987/stage-8\n",
      "tour-de-france/1988/stage-13\n",
      "tour-de-france/1988/stage-19\n",
      "tour-de-france/1988/stage-21\n",
      "tour-de-france/1989/stage-11\n",
      "tour-de-france/1990/stage-7\n",
      "tour-de-france/1991/stage-5\n",
      "tour-de-france/1993/stage-11\n",
      "tour-de-france/1993/stage-7\n",
      "tour-de-france/1994/prologue\n",
      "tour-de-france/1994/stage-1\n",
      "tour-de-france/1995/stage-1\n",
      "tour-de-france/1995/stage-15\n",
      "tour-de-france/1996/stage-1\n",
      "tour-de-france/1996/stage-15\n",
      "tour-de-france/1996/stage-16\n",
      "tour-de-france/1996/stage-7\n",
      "tour-de-france/1997/prologue\n",
      "tour-de-france/1997/stage-1\n",
      "tour-de-france/1997/stage-10\n",
      "tour-de-france/1997/stage-11\n",
      "tour-de-france/1997/stage-12\n",
      "tour-de-france/1997/stage-19\n",
      "tour-de-france/1997/stage-3\n",
      "tour-de-france/1997/stage-4\n",
      "tour-de-france/1997/stage-5\n",
      "tour-de-france/1997/stage-6\n",
      "tour-de-france/1997/stage-7\n",
      "tour-de-france/1997/stage-8\n",
      "tour-de-france/1997/stage-9\n",
      "tour-de-france/1999/prologue\n",
      "tour-de-france/2000/stage-7\n",
      "tour-de-france/2001/prologue\n",
      "tour-de-france/2001/stage-2\n",
      "tour-de-france/2001/stage-3\n",
      "tour-de-france/2001/stage-4\n",
      "tour-de-france/2002/stage-1\n",
      "tour-de-france/2002/stage-11\n",
      "tour-de-france/2002/stage-5\n",
      "tour-de-france/2002/stage-7\n",
      "tour-de-france/2002/stage-8\n",
      "tour-de-france/2002/stage-9\n",
      "tour-de-france/2003/stage-12\n",
      "tour-de-france/2003/stage-7\n",
      "tour-de-france/2004/stage-6\n",
      "tour-de-france/2005/stage-21\n",
      "tour-de-france/2005/stage-6\n",
      "tour-de-france/2008/stage-20\n",
      "tour-de-france/2008/stage-21\n",
      "tour-de-france/2010/stage-12\n",
      "tour-de-france/2012/stage-18\n",
      "tour-de-france/2012/stage-3\n",
      "tour-de-france/2012/stage-6\n",
      "tour-de-france/2013/stage-10\n",
      "tour-de-france/2013/stage-12\n",
      "tour-de-france/2014/stage-1\n",
      "tour-de-france/2014/stage-19\n",
      "tour-de-france/2014/stage-21\n",
      "tour-de-france/2014/stage-3\n",
      "tour-de-france/2014/stage-7\n",
      "tour-de-france/2015/stage-13\n",
      "tour-de-france/2015/stage-21\n",
      "tour-de-france/2015/stage-6\n",
      "tour-de-france/2016/stage-1\n",
      "tour-de-france/2016/stage-12\n",
      "tour-de-france/2016/stage-16\n",
      "tour-de-france/2016/stage-2\n",
      "tour-de-france/2016/stage-20\n",
      "tour-de-france/2016/stage-21\n",
      "tour-de-france/2016/stage-7\n",
      "tour-de-france/2017/stage-2\n",
      "tour-de-france/2017/stage-21\n",
      "tour-de-france/2017/stage-4\n",
      "tour-de-france/2018/stage-2\n",
      "tour-de-france/2018/stage-6\n",
      "tour-de-france/2019/stage-1\n",
      "tour-de-france/2019/stage-21\n",
      "tour-de-france/2021/stage-21\n",
      "tour-de-france/2021/stage-3\n",
      "tour-de-france/2021/stage-4\n",
      "tour-de-france/2023/stage-21\n",
      "tour-de-france/2023/stage-4\n",
      "tour-de-france/2023/stage-8\n",
      "tour-de-romandie/1990/stage-5\n",
      "tour-de-romandie/1993/prologue\n",
      "tour-de-romandie/1993/stage-3\n",
      "tour-de-romandie/1998/stage-3\n",
      "tour-de-romandie/2002/stage-2\n",
      "tour-de-romandie/2005/prologue\n",
      "tour-de-romandie/2007/stage-4\n",
      "tour-de-romandie/2010/stage-4\n",
      "tour-de-romandie/2014/stage-1\n",
      "tour-de-romandie/2014/stage-4\n",
      "tour-de-romandie/2016/stage-5\n",
      "tour-de-suisse/1984/stage-8b\n",
      "tour-de-suisse/1988/stage-3\n",
      "tour-de-suisse/1993/stage-4\n",
      "tour-de-suisse/1998/prologue\n",
      "tour-de-suisse/2005/stage-5\n",
      "tour-de-suisse/2006/stage-3\n",
      "tour-de-suisse/2008/stage-6\n",
      "tour-de-suisse/2013/stage-6\n",
      "tour-de-suisse/2014/stage-5\n",
      "tour-de-suisse/2015/stage-4\n",
      "tour-de-suisse/2015/stage-6\n",
      "tour-de-suisse/2016/stage-2\n",
      "tour-de-suisse/2021/stage-3\n",
      "uae-tour/2019/stage-2\n",
      "uae-tour/2019/stage-4\n",
      "uae-tour/2021/stage-1\n",
      "uae-tour/2022/stage-6\n",
      "uae-tour/2023/stage-6\n",
      "volta-a-catalunya/1999/stage-3\n",
      "volta-a-catalunya/2000/stage-7\n",
      "volta-a-catalunya/2006/stage-5\n",
      "volta-a-catalunya/2013/stage-4\n",
      "volta-a-catalunya/2015/stage-2\n",
      "volta-a-catalunya/2015/stage-5\n",
      "volta-a-catalunya/2015/stage-6\n",
      "volta-a-catalunya/2018/stage-3\n",
      "volta-a-catalunya/2019/stage-5\n",
      "volta-a-catalunya/2022/stage-1\n",
      "volta-a-catalunya/2022/stage-5\n",
      "vuelta-a-espana/1983/stage-1\n",
      "vuelta-a-espana/1983/stage-14\n",
      "vuelta-a-espana/1983/stage-16\n",
      "vuelta-a-espana/1992/stage-1\n",
      "vuelta-a-espana/1992/stage-19\n",
      "vuelta-a-espana/1992/stage-7\n",
      "vuelta-a-espana/1993/stage-11\n",
      "vuelta-a-espana/1996/stage-21\n",
      "vuelta-a-espana/1998/stage-1\n",
      "vuelta-a-espana/1998/stage-6\n",
      "vuelta-a-espana/1998/stage-8\n",
      "vuelta-a-espana/2001/stage-1\n",
      "vuelta-a-espana/2001/stage-13\n",
      "vuelta-a-espana/2001/stage-2\n",
      "vuelta-a-espana/2001/stage-20\n",
      "vuelta-a-espana/2001/stage-3\n",
      "vuelta-a-espana/2001/stage-4\n",
      "vuelta-a-espana/2001/stage-5\n",
      "vuelta-a-espana/2001/stage-6\n",
      "vuelta-a-espana/2001/stage-7\n",
      "vuelta-a-espana/2001/stage-8\n",
      "vuelta-a-espana/2002/stage-7\n",
      "vuelta-a-espana/2003/stage-18\n",
      "vuelta-a-espana/2003/stage-5\n",
      "vuelta-a-espana/2005/stage-12\n",
      "vuelta-a-espana/2006/stage-12\n",
      "vuelta-a-espana/2007/stage-17\n",
      "vuelta-a-espana/2007/stage-18\n",
      "vuelta-a-espana/2007/stage-3\n",
      "vuelta-a-espana/2009/stage-5\n",
      "vuelta-a-espana/2010/stage-19\n",
      "vuelta-a-espana/2010/stage-4\n",
      "vuelta-a-espana/2011/stage-2\n",
      "vuelta-a-espana/2012/stage-13\n",
      "vuelta-a-espana/2012/stage-8\n",
      "vuelta-a-espana/2013/stage-7\n",
      "vuelta-a-espana/2014/stage-12\n",
      "vuelta-a-espana/2014/stage-2\n",
      "vuelta-a-espana/2014/stage-20\n",
      "vuelta-a-espana/2014/stage-7\n",
      "vuelta-a-espana/2015/stage-3\n",
      "vuelta-a-espana/2015/stage-5\n",
      "vuelta-a-espana/2016/stage-16\n",
      "vuelta-a-espana/2016/stage-2\n",
      "vuelta-a-espana/2016/stage-5\n",
      "vuelta-a-espana/2016/stage-7\n",
      "vuelta-a-espana/2018/stage-10\n",
      "vuelta-a-espana/2018/stage-21\n",
      "vuelta-a-espana/2019/stage-14\n",
      "vuelta-a-espana/2020/stage-15\n",
      "vuelta-a-espana/2020/stage-5\n",
      "vuelta-a-espana/2020/stage-9\n",
      "vuelta-a-espana/2021/stage-2\n",
      "vuelta-a-espana/2021/stage-4\n",
      "vuelta-a-espana/2021/stage-8\n",
      "vuelta-a-espana/2022/stage-11\n",
      "vuelta-a-espana/2022/stage-16\n",
      "vuelta-a-espana/2022/stage-2\n"
     ]
    }
   ],
   "source": [
    "# Grouped by '_url', check if the 'delta' value is greater or equal than the previous one (the one in the previous row, except for the first one)\n",
    "invalid_urls = dataset.groupby('_url')['delta'].apply(lambda x: (x.shift() > x).any())\n",
    "\n",
    "# Print the number of URLs with invalid 'delta' values\n",
    "print('Number of URLs with invalid deltas: ' + str(len(invalid_urls[invalid_urls])))\n",
    "for url in invalid_urls[invalid_urls].index:\n",
    "    print(url)"
   ]
  },
  {
   "cell_type": "markdown",
   "metadata": {},
   "source": [
    "### Check on 'year' data"
   ]
  },
  {
   "cell_type": "markdown",
   "metadata": {},
   "source": [
    "Now we consider the `year` column, and check the number of null values and the count the occurrences of each unique value"
   ]
  },
  {
   "cell_type": "code",
   "execution_count": 20,
   "metadata": {},
   "outputs": [
    {
     "ename": "KeyError",
     "evalue": "'year'",
     "output_type": "error",
     "traceback": [
      "\u001b[0;31m---------------------------------------------------------------------------\u001b[0m",
      "\u001b[0;31mKeyError\u001b[0m                                  Traceback (most recent call last)",
      "File \u001b[0;32m~/dm_env/lib/python3.12/site-packages/pandas/core/indexes/base.py:3805\u001b[0m, in \u001b[0;36mIndex.get_loc\u001b[0;34m(self, key)\u001b[0m\n\u001b[1;32m   3804\u001b[0m \u001b[38;5;28;01mtry\u001b[39;00m:\n\u001b[0;32m-> 3805\u001b[0m     \u001b[38;5;28;01mreturn\u001b[39;00m \u001b[38;5;28;43mself\u001b[39;49m\u001b[38;5;241;43m.\u001b[39;49m\u001b[43m_engine\u001b[49m\u001b[38;5;241;43m.\u001b[39;49m\u001b[43mget_loc\u001b[49m\u001b[43m(\u001b[49m\u001b[43mcasted_key\u001b[49m\u001b[43m)\u001b[49m\n\u001b[1;32m   3806\u001b[0m \u001b[38;5;28;01mexcept\u001b[39;00m \u001b[38;5;167;01mKeyError\u001b[39;00m \u001b[38;5;28;01mas\u001b[39;00m err:\n",
      "File \u001b[0;32mindex.pyx:167\u001b[0m, in \u001b[0;36mpandas._libs.index.IndexEngine.get_loc\u001b[0;34m()\u001b[0m\n",
      "File \u001b[0;32mindex.pyx:196\u001b[0m, in \u001b[0;36mpandas._libs.index.IndexEngine.get_loc\u001b[0;34m()\u001b[0m\n",
      "File \u001b[0;32mpandas/_libs/hashtable_class_helper.pxi:7081\u001b[0m, in \u001b[0;36mpandas._libs.hashtable.PyObjectHashTable.get_item\u001b[0;34m()\u001b[0m\n",
      "File \u001b[0;32mpandas/_libs/hashtable_class_helper.pxi:7089\u001b[0m, in \u001b[0;36mpandas._libs.hashtable.PyObjectHashTable.get_item\u001b[0;34m()\u001b[0m\n",
      "\u001b[0;31mKeyError\u001b[0m: 'year'",
      "\nThe above exception was the direct cause of the following exception:\n",
      "\u001b[0;31mKeyError\u001b[0m                                  Traceback (most recent call last)",
      "Cell \u001b[0;32mIn[20], line 2\u001b[0m\n\u001b[1;32m      1\u001b[0m \u001b[38;5;66;03m# Print total number of null values in 'delta' column, and the percentage of null values (float with two decimal digits after the comma)\u001b[39;00m\n\u001b[0;32m----> 2\u001b[0m \u001b[38;5;28mprint\u001b[39m(\u001b[38;5;124m'\u001b[39m\u001b[38;5;124mTotal number of null values in year column: \u001b[39m\u001b[38;5;124m'\u001b[39m \u001b[38;5;241m+\u001b[39m \u001b[38;5;28mstr\u001b[39m(\u001b[43mdataset\u001b[49m\u001b[43m[\u001b[49m\u001b[38;5;124;43m'\u001b[39;49m\u001b[38;5;124;43myear\u001b[39;49m\u001b[38;5;124;43m'\u001b[39;49m\u001b[43m]\u001b[49m\u001b[38;5;241m.\u001b[39misnull()\u001b[38;5;241m.\u001b[39msum())\n\u001b[1;32m      3\u001b[0m       \u001b[38;5;241m+\u001b[39m \u001b[38;5;124m'\u001b[39m\u001b[38;5;124m (\u001b[39m\u001b[38;5;124m'\u001b[39m \u001b[38;5;241m+\u001b[39m \u001b[38;5;28mstr\u001b[39m(\u001b[38;5;28mround\u001b[39m(dataset[\u001b[38;5;124m'\u001b[39m\u001b[38;5;124myear\u001b[39m\u001b[38;5;124m'\u001b[39m]\u001b[38;5;241m.\u001b[39misnull()\u001b[38;5;241m.\u001b[39msum() \u001b[38;5;241m/\u001b[39m dataset\u001b[38;5;241m.\u001b[39mshape[\u001b[38;5;241m0\u001b[39m] \u001b[38;5;241m*\u001b[39m \u001b[38;5;241m100\u001b[39m, \u001b[38;5;241m2\u001b[39m)) \u001b[38;5;241m+\u001b[39m \u001b[38;5;124m'\u001b[39m\u001b[38;5;124m%\u001b[39m\u001b[38;5;124m)\u001b[39m\u001b[38;5;124m'\u001b[39m)\n\u001b[1;32m      5\u001b[0m \u001b[38;5;28mprint\u001b[39m(\u001b[38;5;124m'\u001b[39m\u001b[38;5;130;01m\\n\u001b[39;00m\u001b[38;5;124mCount occurrences of each value in year column:\u001b[39m\u001b[38;5;124m'\u001b[39m)\n\u001b[1;32m      6\u001b[0m cyclist_team_counts \u001b[38;5;241m=\u001b[39m dataset[\u001b[38;5;124m'\u001b[39m\u001b[38;5;124myear\u001b[39m\u001b[38;5;124m'\u001b[39m]\u001b[38;5;241m.\u001b[39mvalue_counts()\n",
      "File \u001b[0;32m~/dm_env/lib/python3.12/site-packages/pandas/core/frame.py:4102\u001b[0m, in \u001b[0;36mDataFrame.__getitem__\u001b[0;34m(self, key)\u001b[0m\n\u001b[1;32m   4100\u001b[0m \u001b[38;5;28;01mif\u001b[39;00m \u001b[38;5;28mself\u001b[39m\u001b[38;5;241m.\u001b[39mcolumns\u001b[38;5;241m.\u001b[39mnlevels \u001b[38;5;241m>\u001b[39m \u001b[38;5;241m1\u001b[39m:\n\u001b[1;32m   4101\u001b[0m     \u001b[38;5;28;01mreturn\u001b[39;00m \u001b[38;5;28mself\u001b[39m\u001b[38;5;241m.\u001b[39m_getitem_multilevel(key)\n\u001b[0;32m-> 4102\u001b[0m indexer \u001b[38;5;241m=\u001b[39m \u001b[38;5;28;43mself\u001b[39;49m\u001b[38;5;241;43m.\u001b[39;49m\u001b[43mcolumns\u001b[49m\u001b[38;5;241;43m.\u001b[39;49m\u001b[43mget_loc\u001b[49m\u001b[43m(\u001b[49m\u001b[43mkey\u001b[49m\u001b[43m)\u001b[49m\n\u001b[1;32m   4103\u001b[0m \u001b[38;5;28;01mif\u001b[39;00m is_integer(indexer):\n\u001b[1;32m   4104\u001b[0m     indexer \u001b[38;5;241m=\u001b[39m [indexer]\n",
      "File \u001b[0;32m~/dm_env/lib/python3.12/site-packages/pandas/core/indexes/base.py:3812\u001b[0m, in \u001b[0;36mIndex.get_loc\u001b[0;34m(self, key)\u001b[0m\n\u001b[1;32m   3807\u001b[0m     \u001b[38;5;28;01mif\u001b[39;00m \u001b[38;5;28misinstance\u001b[39m(casted_key, \u001b[38;5;28mslice\u001b[39m) \u001b[38;5;129;01mor\u001b[39;00m (\n\u001b[1;32m   3808\u001b[0m         \u001b[38;5;28misinstance\u001b[39m(casted_key, abc\u001b[38;5;241m.\u001b[39mIterable)\n\u001b[1;32m   3809\u001b[0m         \u001b[38;5;129;01mand\u001b[39;00m \u001b[38;5;28many\u001b[39m(\u001b[38;5;28misinstance\u001b[39m(x, \u001b[38;5;28mslice\u001b[39m) \u001b[38;5;28;01mfor\u001b[39;00m x \u001b[38;5;129;01min\u001b[39;00m casted_key)\n\u001b[1;32m   3810\u001b[0m     ):\n\u001b[1;32m   3811\u001b[0m         \u001b[38;5;28;01mraise\u001b[39;00m InvalidIndexError(key)\n\u001b[0;32m-> 3812\u001b[0m     \u001b[38;5;28;01mraise\u001b[39;00m \u001b[38;5;167;01mKeyError\u001b[39;00m(key) \u001b[38;5;28;01mfrom\u001b[39;00m \u001b[38;5;21;01merr\u001b[39;00m\n\u001b[1;32m   3813\u001b[0m \u001b[38;5;28;01mexcept\u001b[39;00m \u001b[38;5;167;01mTypeError\u001b[39;00m:\n\u001b[1;32m   3814\u001b[0m     \u001b[38;5;66;03m# If we have a listlike key, _check_indexing_error will raise\u001b[39;00m\n\u001b[1;32m   3815\u001b[0m     \u001b[38;5;66;03m#  InvalidIndexError. Otherwise we fall through and re-raise\u001b[39;00m\n\u001b[1;32m   3816\u001b[0m     \u001b[38;5;66;03m#  the TypeError.\u001b[39;00m\n\u001b[1;32m   3817\u001b[0m     \u001b[38;5;28mself\u001b[39m\u001b[38;5;241m.\u001b[39m_check_indexing_error(key)\n",
      "\u001b[0;31mKeyError\u001b[0m: 'year'"
     ]
    }
   ],
   "source": [
    "# Print total number of null values in 'delta' column, and the percentage of null values (float with two decimal digits after the comma)\n",
    "print('Total number of null values in year column: ' + str(dataset['year'].isnull().sum())\n",
    "      + ' (' + str(round(dataset['year'].isnull().sum() / dataset.shape[0] * 100, 2)) + '%)')\n",
    "\n",
    "print('\\nCount occurrences of each value in year column:')\n",
    "cyclist_team_counts = dataset['year'].value_counts()\n",
    "print(cyclist_team_counts)"
   ]
  },
  {
   "cell_type": "markdown",
   "metadata": {},
   "source": [
    "### Check on 'stage' data"
   ]
  },
  {
   "cell_type": "markdown",
   "metadata": {},
   "source": [
    "Now we consider the `stage` column, and check the number of null values and the count the occurrences of each unique value"
   ]
  },
  {
   "cell_type": "code",
   "execution_count": 19,
   "metadata": {},
   "outputs": [
    {
     "ename": "KeyError",
     "evalue": "'stage'",
     "output_type": "error",
     "traceback": [
      "\u001b[0;31m---------------------------------------------------------------------------\u001b[0m",
      "\u001b[0;31mKeyError\u001b[0m                                  Traceback (most recent call last)",
      "File \u001b[0;32m~/dm_env/lib/python3.12/site-packages/pandas/core/indexes/base.py:3805\u001b[0m, in \u001b[0;36mIndex.get_loc\u001b[0;34m(self, key)\u001b[0m\n\u001b[1;32m   3804\u001b[0m \u001b[38;5;28;01mtry\u001b[39;00m:\n\u001b[0;32m-> 3805\u001b[0m     \u001b[38;5;28;01mreturn\u001b[39;00m \u001b[38;5;28;43mself\u001b[39;49m\u001b[38;5;241;43m.\u001b[39;49m\u001b[43m_engine\u001b[49m\u001b[38;5;241;43m.\u001b[39;49m\u001b[43mget_loc\u001b[49m\u001b[43m(\u001b[49m\u001b[43mcasted_key\u001b[49m\u001b[43m)\u001b[49m\n\u001b[1;32m   3806\u001b[0m \u001b[38;5;28;01mexcept\u001b[39;00m \u001b[38;5;167;01mKeyError\u001b[39;00m \u001b[38;5;28;01mas\u001b[39;00m err:\n",
      "File \u001b[0;32mindex.pyx:167\u001b[0m, in \u001b[0;36mpandas._libs.index.IndexEngine.get_loc\u001b[0;34m()\u001b[0m\n",
      "File \u001b[0;32mindex.pyx:196\u001b[0m, in \u001b[0;36mpandas._libs.index.IndexEngine.get_loc\u001b[0;34m()\u001b[0m\n",
      "File \u001b[0;32mpandas/_libs/hashtable_class_helper.pxi:7081\u001b[0m, in \u001b[0;36mpandas._libs.hashtable.PyObjectHashTable.get_item\u001b[0;34m()\u001b[0m\n",
      "File \u001b[0;32mpandas/_libs/hashtable_class_helper.pxi:7089\u001b[0m, in \u001b[0;36mpandas._libs.hashtable.PyObjectHashTable.get_item\u001b[0;34m()\u001b[0m\n",
      "\u001b[0;31mKeyError\u001b[0m: 'stage'",
      "\nThe above exception was the direct cause of the following exception:\n",
      "\u001b[0;31mKeyError\u001b[0m                                  Traceback (most recent call last)",
      "Cell \u001b[0;32mIn[19], line 2\u001b[0m\n\u001b[1;32m      1\u001b[0m \u001b[38;5;66;03m# Print total number of null values in 'delta' column, and the percentage of null values (float with two decimal digits after the comma)\u001b[39;00m\n\u001b[0;32m----> 2\u001b[0m \u001b[38;5;28mprint\u001b[39m(\u001b[38;5;124m'\u001b[39m\u001b[38;5;124mTotal number of null values in stage column: \u001b[39m\u001b[38;5;124m'\u001b[39m \u001b[38;5;241m+\u001b[39m \u001b[38;5;28mstr\u001b[39m(\u001b[43mdataset\u001b[49m\u001b[43m[\u001b[49m\u001b[38;5;124;43m'\u001b[39;49m\u001b[38;5;124;43mstage\u001b[39;49m\u001b[38;5;124;43m'\u001b[39;49m\u001b[43m]\u001b[49m\u001b[38;5;241m.\u001b[39misnull()\u001b[38;5;241m.\u001b[39msum())\n\u001b[1;32m      3\u001b[0m       \u001b[38;5;241m+\u001b[39m \u001b[38;5;124m'\u001b[39m\u001b[38;5;124m (\u001b[39m\u001b[38;5;124m'\u001b[39m \u001b[38;5;241m+\u001b[39m \u001b[38;5;28mstr\u001b[39m(\u001b[38;5;28mround\u001b[39m(dataset[\u001b[38;5;124m'\u001b[39m\u001b[38;5;124mcyclist_team\u001b[39m\u001b[38;5;124m'\u001b[39m]\u001b[38;5;241m.\u001b[39misnull()\u001b[38;5;241m.\u001b[39msum() \u001b[38;5;241m/\u001b[39m dataset\u001b[38;5;241m.\u001b[39mshape[\u001b[38;5;241m0\u001b[39m] \u001b[38;5;241m*\u001b[39m \u001b[38;5;241m100\u001b[39m, \u001b[38;5;241m2\u001b[39m)) \u001b[38;5;241m+\u001b[39m \u001b[38;5;124m'\u001b[39m\u001b[38;5;124m%\u001b[39m\u001b[38;5;124m)\u001b[39m\u001b[38;5;124m'\u001b[39m)\n\u001b[1;32m      5\u001b[0m \u001b[38;5;28mprint\u001b[39m(\u001b[38;5;124m'\u001b[39m\u001b[38;5;130;01m\\n\u001b[39;00m\u001b[38;5;124mCount occurrences of each value in stage column:\u001b[39m\u001b[38;5;124m'\u001b[39m)\n\u001b[1;32m      6\u001b[0m cyclist_team_counts \u001b[38;5;241m=\u001b[39m dataset[\u001b[38;5;124m'\u001b[39m\u001b[38;5;124mstage\u001b[39m\u001b[38;5;124m'\u001b[39m]\u001b[38;5;241m.\u001b[39mvalue_counts()\n",
      "File \u001b[0;32m~/dm_env/lib/python3.12/site-packages/pandas/core/frame.py:4102\u001b[0m, in \u001b[0;36mDataFrame.__getitem__\u001b[0;34m(self, key)\u001b[0m\n\u001b[1;32m   4100\u001b[0m \u001b[38;5;28;01mif\u001b[39;00m \u001b[38;5;28mself\u001b[39m\u001b[38;5;241m.\u001b[39mcolumns\u001b[38;5;241m.\u001b[39mnlevels \u001b[38;5;241m>\u001b[39m \u001b[38;5;241m1\u001b[39m:\n\u001b[1;32m   4101\u001b[0m     \u001b[38;5;28;01mreturn\u001b[39;00m \u001b[38;5;28mself\u001b[39m\u001b[38;5;241m.\u001b[39m_getitem_multilevel(key)\n\u001b[0;32m-> 4102\u001b[0m indexer \u001b[38;5;241m=\u001b[39m \u001b[38;5;28;43mself\u001b[39;49m\u001b[38;5;241;43m.\u001b[39;49m\u001b[43mcolumns\u001b[49m\u001b[38;5;241;43m.\u001b[39;49m\u001b[43mget_loc\u001b[49m\u001b[43m(\u001b[49m\u001b[43mkey\u001b[49m\u001b[43m)\u001b[49m\n\u001b[1;32m   4103\u001b[0m \u001b[38;5;28;01mif\u001b[39;00m is_integer(indexer):\n\u001b[1;32m   4104\u001b[0m     indexer \u001b[38;5;241m=\u001b[39m [indexer]\n",
      "File \u001b[0;32m~/dm_env/lib/python3.12/site-packages/pandas/core/indexes/base.py:3812\u001b[0m, in \u001b[0;36mIndex.get_loc\u001b[0;34m(self, key)\u001b[0m\n\u001b[1;32m   3807\u001b[0m     \u001b[38;5;28;01mif\u001b[39;00m \u001b[38;5;28misinstance\u001b[39m(casted_key, \u001b[38;5;28mslice\u001b[39m) \u001b[38;5;129;01mor\u001b[39;00m (\n\u001b[1;32m   3808\u001b[0m         \u001b[38;5;28misinstance\u001b[39m(casted_key, abc\u001b[38;5;241m.\u001b[39mIterable)\n\u001b[1;32m   3809\u001b[0m         \u001b[38;5;129;01mand\u001b[39;00m \u001b[38;5;28many\u001b[39m(\u001b[38;5;28misinstance\u001b[39m(x, \u001b[38;5;28mslice\u001b[39m) \u001b[38;5;28;01mfor\u001b[39;00m x \u001b[38;5;129;01min\u001b[39;00m casted_key)\n\u001b[1;32m   3810\u001b[0m     ):\n\u001b[1;32m   3811\u001b[0m         \u001b[38;5;28;01mraise\u001b[39;00m InvalidIndexError(key)\n\u001b[0;32m-> 3812\u001b[0m     \u001b[38;5;28;01mraise\u001b[39;00m \u001b[38;5;167;01mKeyError\u001b[39;00m(key) \u001b[38;5;28;01mfrom\u001b[39;00m \u001b[38;5;21;01merr\u001b[39;00m\n\u001b[1;32m   3813\u001b[0m \u001b[38;5;28;01mexcept\u001b[39;00m \u001b[38;5;167;01mTypeError\u001b[39;00m:\n\u001b[1;32m   3814\u001b[0m     \u001b[38;5;66;03m# If we have a listlike key, _check_indexing_error will raise\u001b[39;00m\n\u001b[1;32m   3815\u001b[0m     \u001b[38;5;66;03m#  InvalidIndexError. Otherwise we fall through and re-raise\u001b[39;00m\n\u001b[1;32m   3816\u001b[0m     \u001b[38;5;66;03m#  the TypeError.\u001b[39;00m\n\u001b[1;32m   3817\u001b[0m     \u001b[38;5;28mself\u001b[39m\u001b[38;5;241m.\u001b[39m_check_indexing_error(key)\n",
      "\u001b[0;31mKeyError\u001b[0m: 'stage'"
     ]
    }
   ],
   "source": [
    "# Print total number of null values in 'delta' column, and the percentage of null values (float with two decimal digits after the comma)\n",
    "print('Total number of null values in stage column: ' + str(dataset['stage'].isnull().sum())\n",
    "      + ' (' + str(round(dataset['cyclist_team'].isnull().sum() / dataset.shape[0] * 100, 2)) + '%)')\n",
    "\n",
    "print('\\nCount occurrences of each value in stage column:')\n",
    "cyclist_team_counts = dataset['stage'].value_counts()\n",
    "print(cyclist_team_counts)"
   ]
  }
 ],
 "metadata": {
  "kernelspec": {
   "display_name": "dm_env",
   "language": "python",
   "name": "python3"
  },
  "language_info": {
   "codemirror_mode": {
    "name": "ipython",
    "version": 3
   },
   "file_extension": ".py",
   "mimetype": "text/x-python",
   "name": "python",
   "nbconvert_exporter": "python",
   "pygments_lexer": "ipython3",
   "version": "3.12.2"
  }
 },
 "nbformat": 4,
 "nbformat_minor": 2
}

{
 "cells": [
  {
   "cell_type": "markdown",
   "metadata": {},
   "source": [
    "# Feature Representation\n",
    "\n",
    "### Data Mining Project 2024/25\n",
    "\n",
    "Authors: Nicola Emmolo, Simone Marzeddu, Jacopo Raffi"
   ]
  },
  {
   "cell_type": "code",
   "execution_count": 1,
   "metadata": {},
   "outputs": [],
   "source": [
    "%load_ext autoreload\n",
    "%autoreload 2"
   ]
  },
  {
   "cell_type": "code",
   "execution_count": null,
   "metadata": {},
   "outputs": [],
   "source": [
    "import pandas as pd\n",
    "import numpy as np\n",
    "import matplotlib.pyplot as plt\n",
    "import seaborn as sb\n",
    "from sklearn.preprocessing import StandardScaler\n",
    "from sklearn.decomposition import PCA\n",
    "import umap.umap_ as umap\n",
    "from sklearn.metrics import mean_squared_error, mean_absolute_error"
   ]
  },
  {
   "cell_type": "code",
   "execution_count": 3,
   "metadata": {},
   "outputs": [],
   "source": [
    "def show_plots(features, original_and_transformed_dataframe, x, y, grid_shape_x, grid_shape_y, figsize=(20, 10)):\n",
    "    # Crea la figura per i subplots\n",
    "    fig, axes = plt.subplots(grid_shape_x, grid_shape_y, figsize=figsize)\n",
    "\n",
    "    # Appiattisci gli assi per semplificare l'indicizzazione\n",
    "    axes = axes.ravel()\n",
    "\n",
    "    for i, feature in enumerate(features):\n",
    "        # Determina l'asse corrispondente\n",
    "        ax = axes[i]\n",
    "\n",
    "        # Crea uno scatter plot su x e y\n",
    "        scatter = ax.scatter(\n",
    "            original_and_transformed_dataframe[x],\n",
    "            original_and_transformed_dataframe[y],\n",
    "            c=original_and_transformed_dataframe[feature],  # Colora in base alla feature\n",
    "            cmap='viridis',  # Cambia la palette di colori se necessario\n",
    "            s=60,  # Dimensione dei punti\n",
    "            edgecolor='k'  # Bordo dei punti\n",
    "        )\n",
    "\n",
    "        # Imposta le etichette degli assi\n",
    "        ax.set_xlabel(x)\n",
    "        ax.set_ylabel(y)\n",
    "\n",
    "        # Aggiungi una barra di colori\n",
    "        fig.colorbar(scatter, ax=ax, label=feature)\n",
    "\n",
    "    # if number of features is odd, remove the last subplot\n",
    "    if len(features) % 2 != 0:\n",
    "        fig.delaxes(axes[-1])\n",
    "\n",
    "    # Regola il layout per evitare sovrapposizioni\n",
    "    plt.tight_layout()\n",
    "\n",
    "    # Mostra i grafici\n",
    "    plt.show()"
   ]
  },
  {
   "cell_type": "code",
   "execution_count": 4,
   "metadata": {},
   "outputs": [],
   "source": [
    "def mae_for_umap_components(data_scaled, components_range):\n",
    "    reconstruction_errors = []\n",
    "\n",
    "    for components in components_range:\n",
    "        umap_reducer = umap.UMAP(n_components=components)\n",
    "        umap_embeddings = umap_reducer.fit_transform(data_scaled)\n",
    "        print(\"\\nstarting - \", components)\n",
    "        # Calcolo della ricostruzione inversa\n",
    "        reconstructed_data = umap_reducer.inverse_transform(umap_embeddings)\n",
    "        print(\"inverse done - \", components)\n",
    "        mae = mean_absolute_error(data_scaled, reconstructed_data)\n",
    "        print(\"mae done - \", components)\n",
    "        reconstruction_errors.append(mae)\n",
    "\n",
    "    # Traccia l'errore di ricostruzione\n",
    "    plt.plot(components_range, reconstruction_errors, marker='o')\n",
    "    plt.xlabel('Number of Components')\n",
    "    plt.ylabel('Reconstruction Error (MAE)')\n",
    "    plt.title('UMAP Reconstruction Error vs Components')\n",
    "    plt.show()"
   ]
  },
  {
   "cell_type": "markdown",
   "metadata": {},
   "source": [
    "## Cyclists"
   ]
  },
  {
   "cell_type": "code",
   "execution_count": null,
   "metadata": {},
   "outputs": [],
   "source": [
    "cyclists_dataset = pd.read_csv('../data/cyclists_dataset_no_outliers.csv') \n",
    "cyclists_dataset.info()"
   ]
  },
  {
   "cell_type": "code",
   "execution_count": 6,
   "metadata": {},
   "outputs": [],
   "source": [
    "cyclists_dataset = cyclists_dataset.select_dtypes(include=['number'])\n",
    "cyclists_dataset = cyclists_dataset.dropna().reset_index(drop=True)\n",
    "\n",
    "scaler = StandardScaler()\n",
    "cyclists_data_scaled = scaler.fit_transform(cyclists_dataset)"
   ]
  },
  {
   "cell_type": "markdown",
   "metadata": {},
   "source": [
    "### PCA"
   ]
  },
  {
   "cell_type": "code",
   "execution_count": 7,
   "metadata": {},
   "outputs": [],
   "source": [
    "# PCA\n",
    "pca_instance = PCA()\n",
    "pca_transformation = pca_instance.fit_transform(cyclists_data_scaled)"
   ]
  },
  {
   "cell_type": "code",
   "execution_count": null,
   "metadata": {},
   "outputs": [],
   "source": [
    "# variance per component\n",
    "eigenvalues = pca_instance.explained_variance_\n",
    "# variance per component, scaled to sum to 1\n",
    "scaled_eigenvalues = pca_instance.explained_variance_ratio_\n",
    "# eigenvectors, i.e., axes of reference\n",
    "eigenvectors = pca_instance.components_\n",
    "\n",
    "\n",
    "# norm of the whole transformation\n",
    "transformation_norm_per_column = (pca_transformation ** 2).sum(axis=0)\n",
    "cumulative_norm_per_reduction = np.cumsum(transformation_norm_per_column)\n",
    "\n",
    "pca_dataframe = pd.DataFrame.from_records(\n",
    "    zip(\n",
    "        eigenvalues,\n",
    "        scaled_eigenvalues,\n",
    "        cumulative_norm_per_reduction\n",
    "    ),\n",
    "    columns=[\"eigenvalues\", \"scaled_eigenvalues\", \"transformation_norm\"]\n",
    ")\n",
    "pca_dataframe"
   ]
  },
  {
   "cell_type": "code",
   "execution_count": null,
   "metadata": {},
   "outputs": [],
   "source": [
    "sb.lineplot(\n",
    "    pca_dataframe,\n",
    "    y=\"scaled_eigenvalues\",\n",
    "    x=pca_dataframe.index\n",
    ")"
   ]
  },
  {
   "cell_type": "markdown",
   "metadata": {},
   "source": [
    "L'analisi del plot non mostra un elbo chiaro, quindi è possibile che non esistano componenti principali tra le 6 analizzate, secondo PCA."
   ]
  },
  {
   "cell_type": "code",
   "execution_count": 10,
   "metadata": {},
   "outputs": [],
   "source": [
    "pca_dataframe = pd.DataFrame(pca_transformation[:, :3], columns=[\"pca_1\", \"pca_2\", \"pca_3\"])\n",
    "original_and_transformed_dataframe = pd.concat(\n",
    "    [\n",
    "        cyclists_dataset,\n",
    "        pca_dataframe\n",
    "    ],\n",
    "    axis=\"columns\"\n",
    ")"
   ]
  },
  {
   "cell_type": "code",
   "execution_count": null,
   "metadata": {},
   "outputs": [],
   "source": [
    "show_plots(cyclists_dataset.columns, original_and_transformed_dataframe, \"pca_1\", \"pca_2\", 4, 2, figsize=(20,20))"
   ]
  },
  {
   "cell_type": "code",
   "execution_count": null,
   "metadata": {},
   "outputs": [],
   "source": [
    "show_plots(cyclists_dataset.columns, original_and_transformed_dataframe, \"pca_1\", \"pca_3\", 4, 2, figsize=(20,20))"
   ]
  },
  {
   "cell_type": "code",
   "execution_count": null,
   "metadata": {},
   "outputs": [],
   "source": [
    "show_plots(cyclists_dataset.columns, original_and_transformed_dataframe, \"pca_2\", \"pca_3\", 4, 2, figsize=(20,20))"
   ]
  },
  {
   "cell_type": "markdown",
   "metadata": {},
   "source": [
    "Possiamo notare che tutte le feature sembrano avere allineamenti con le componenti principali individuate da PCA. Questo ragionamento ci permetre di decretare che tutte le feature selezionate siano rilevanti (in termini di informazione rappresentata)"
   ]
  },
  {
   "cell_type": "markdown",
   "metadata": {},
   "source": [
    "### UMAP"
   ]
  },
  {
   "cell_type": "markdown",
   "metadata": {},
   "source": [
    "UMAP può essere valutato calcolando quanto bene i dati ridotti riescono a ricostruire l'originale.\n",
    "Possiamo provare diverse configurazioni di `n_components` e confrontare la qualità della ricostruzione utilizzando il parametro inverso (`inverse_transform`) o altre metriche di distanza."
   ]
  },
  {
   "cell_type": "code",
   "execution_count": null,
   "metadata": {},
   "outputs": [],
   "source": [
    "mae_for_umap_components(cyclists_data_scaled, range(2, 7))"
   ]
  },
  {
   "cell_type": "code",
   "execution_count": null,
   "metadata": {},
   "outputs": [],
   "source": [
    "# UMAP\n",
    "umap_reducer = umap.UMAP(n_components=5, random_state=42)\n",
    "umap_embeddings = umap_reducer.fit_transform(cyclists_data_scaled)"
   ]
  },
  {
   "cell_type": "code",
   "execution_count": null,
   "metadata": {},
   "outputs": [],
   "source": [
    "umap_embeddings"
   ]
  },
  {
   "cell_type": "code",
   "execution_count": null,
   "metadata": {},
   "outputs": [],
   "source": [
    "umap_dataframe = pd.DataFrame(umap_embeddings[:, :5], columns=[\"umap_1\", \"umap_2\", \"umap_3\", \"umap_4\", \"umap_5\"])\n",
    "umap_original_and_transformed_dataframe = pd.concat(\n",
    "    [\n",
    "        cyclists_dataset,\n",
    "        umap_dataframe\n",
    "    ],\n",
    "    axis=\"columns\"\n",
    ")"
   ]
  },
  {
   "cell_type": "code",
   "execution_count": null,
   "metadata": {},
   "outputs": [],
   "source": [
    "show_plots(cyclists_dataset.columns, umap_original_and_transformed_dataframe, \"umap_1\", \"umap_2\", 4, 2, figsize=(20,20))"
   ]
  },
  {
   "cell_type": "markdown",
   "metadata": {},
   "source": [
    "UMAP 2-1:\n",
    "- cyclist_bmi\n",
    "- birth_year\n",
    "- mean_position"
   ]
  },
  {
   "cell_type": "code",
   "execution_count": null,
   "metadata": {},
   "outputs": [],
   "source": [
    "show_plots(cyclists_dataset.columns, umap_original_and_transformed_dataframe, \"umap_1\", \"umap_3\", 4, 2, figsize=(20,20))"
   ]
  },
  {
   "cell_type": "markdown",
   "metadata": {},
   "source": [
    "UMAP 3-1:\n",
    "- height\n",
    "- mean_position"
   ]
  },
  {
   "cell_type": "code",
   "execution_count": null,
   "metadata": {},
   "outputs": [],
   "source": [
    "show_plots(cyclists_dataset.columns, umap_original_and_transformed_dataframe, \"umap_1\", \"umap_4\", 4, 2, figsize=(20,20))"
   ]
  },
  {
   "cell_type": "markdown",
   "metadata": {},
   "source": [
    "UMAP 4-1:\n",
    "- cyclist_bmi\n",
    "- weight\n",
    "- height"
   ]
  },
  {
   "cell_type": "code",
   "execution_count": null,
   "metadata": {},
   "outputs": [],
   "source": [
    "show_plots(cyclists_dataset.columns, umap_original_and_transformed_dataframe, \"umap_1\", \"umap_5\", 4, 2, figsize=(20,20))"
   ]
  },
  {
   "cell_type": "markdown",
   "metadata": {},
   "source": [
    "UMAP 5-1:\n",
    "- height"
   ]
  },
  {
   "cell_type": "code",
   "execution_count": null,
   "metadata": {},
   "outputs": [],
   "source": [
    "show_plots(cyclists_dataset.columns, umap_original_and_transformed_dataframe, \"umap_2\", \"umap_3\", 4, 2, figsize=(20,20))"
   ]
  },
  {
   "cell_type": "markdown",
   "metadata": {},
   "source": [
    "UMAP 3-2:\n",
    "- mean_cyclist_cp\n",
    "- cyclist_bmi\n",
    "- birth_year\n",
    "- mean_position"
   ]
  },
  {
   "cell_type": "code",
   "execution_count": null,
   "metadata": {},
   "outputs": [],
   "source": [
    "show_plots(cyclists_dataset.columns, umap_original_and_transformed_dataframe, \"umap_2\", \"umap_4\", 4, 2, figsize=(20,20))"
   ]
  },
  {
   "cell_type": "markdown",
   "metadata": {},
   "source": [
    "UMAP 4-2:\n",
    "- mean_cyclist_cp\n",
    "- birth_year\n",
    "- mean_position"
   ]
  },
  {
   "cell_type": "code",
   "execution_count": null,
   "metadata": {},
   "outputs": [],
   "source": [
    "show_plots(cyclists_dataset.columns, umap_original_and_transformed_dataframe, \"umap_2\", \"umap_5\", 4, 2, figsize=(20,20))"
   ]
  },
  {
   "cell_type": "markdown",
   "metadata": {},
   "source": [
    "UMAP 5-2:\n",
    "- birth_year\n",
    "- mean_position\n",
    "- cyclist_bmi"
   ]
  },
  {
   "cell_type": "code",
   "execution_count": null,
   "metadata": {},
   "outputs": [],
   "source": [
    "show_plots(cyclists_dataset.columns, umap_original_and_transformed_dataframe, \"umap_3\", \"umap_4\", 4, 2, figsize=(20,20))"
   ]
  },
  {
   "cell_type": "markdown",
   "metadata": {},
   "source": [
    "UMAP 4-3:\n",
    "- height\n",
    "- weight\n",
    "- mean_position"
   ]
  },
  {
   "cell_type": "code",
   "execution_count": null,
   "metadata": {},
   "outputs": [],
   "source": [
    "show_plots(cyclists_dataset.columns, umap_original_and_transformed_dataframe, \"umap_3\", \"umap_5\", 4, 2, figsize=(20,20))"
   ]
  },
  {
   "cell_type": "markdown",
   "metadata": {},
   "source": [
    "UMAP 5-3:\n",
    "- height\n",
    "- mean_position"
   ]
  },
  {
   "cell_type": "code",
   "execution_count": null,
   "metadata": {},
   "outputs": [],
   "source": [
    "show_plots(cyclists_dataset.columns, umap_original_and_transformed_dataframe, \"umap_4\", \"umap_5\", 4, 2, figsize=(20,20))"
   ]
  },
  {
   "cell_type": "markdown",
   "metadata": {},
   "source": [
    "UMAP 5-4:\n",
    "- height\n",
    "- weight\n",
    "- mean_position"
   ]
  },
  {
   "cell_type": "markdown",
   "metadata": {},
   "source": [
    "Resoconto:\n",
    "\n",
    "- mean_cyclist_cp: 2/10\n",
    "- mean_position: 8/10\n",
    "- birth_year: 4/10\n",
    "- height: 6/10\n",
    "- weight: 3/10\n",
    "- cyclist_bmi: 4/10\n",
    "\n",
    "Poichè per ogni feature abbiamo più componenti principali che si allineano alla propria distribuzione, possiamo decretare che non vi siano feature ridondanti"
   ]
  }
 ],
 "metadata": {
  "kernelspec": {
   "display_name": "dm",
   "language": "python",
   "name": "python3"
  },
  "language_info": {
   "codemirror_mode": {
    "name": "ipython",
    "version": 3
   },
   "file_extension": ".py",
   "mimetype": "text/x-python",
   "name": "python",
   "nbconvert_exporter": "python",
   "pygments_lexer": "ipython3",
   "version": "3.10.12"
  }
 },
 "nbformat": 4,
 "nbformat_minor": 2
}

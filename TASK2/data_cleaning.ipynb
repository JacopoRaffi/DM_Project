{
 "cells": [
  {
   "cell_type": "markdown",
   "metadata": {},
   "source": [
    "# Data Cleaning\n",
    "\n",
    "### Data Mining Project 2024/25\n",
    "\n",
    "Authors: Nicola Emmolo, Simone Marzeddu, Jacopo Raffi"
   ]
  },
  {
   "cell_type": "markdown",
   "metadata": {},
   "source": [
    "In this notebook, we focus on the data cleaning process. The main steps involved in this process include:\n",
    "\n",
    "1. **Deletion of Rows**: We identify and remove rows and irrelevant records to ensure the dataset's integrity and relevance.\n",
    "\n",
    "2. **Imputation of Null Values**: We handle missing data by imputing values based on various strategies.\n",
    "\n",
    "3. **Cleaning of Erroneous Data**: We correct any erroneous data points, such as negative or inconsistent values, to maintain data accuracy.\n",
    "\n",
    "4. **Type Conversion**: After the data understanding, we ensure that all columns have the appropriate data types, converting columns as necessary to facilitate further analysis.\n",
    "\n",
    "These steps are crucial to prepare the dataset for subsequent analysis and modeling, ensuring that the data is accurate, complete, and consistent."
   ]
  },
  {
   "cell_type": "code",
   "execution_count": 1,
   "metadata": {},
   "outputs": [],
   "source": [
    "# Autoreload allows the notebook to dynamically load code: if we update some helper functions *outside* of the notebook, we do not need to reload the notebook.\n",
    "%load_ext autoreload\n",
    "%autoreload 2"
   ]
  },
  {
   "cell_type": "code",
   "execution_count": 2,
   "metadata": {},
   "outputs": [],
   "source": [
    "import pandas as pd\n",
    "import numpy as np\n",
    "from unidecode import unidecode\n",
    "import math\n",
    "\n",
    "import seaborn as sb\n",
    "import matplotlib.pyplot as plt\n",
    "\n",
    "from sklearn.linear_model import LinearRegression\n",
    "\n",
    "import warnings\n",
    "warnings.simplefilter(action='ignore', category=DeprecationWarning)\n",
    "warnings.simplefilter(action='ignore', category=FutureWarning)"
   ]
  },
  {
   "cell_type": "markdown",
   "metadata": {},
   "source": [
    "## Cyclists"
   ]
  },
  {
   "cell_type": "code",
   "execution_count": 4,
   "metadata": {},
   "outputs": [
    {
     "data": {
      "text/html": [
       "<div>\n",
       "<style scoped>\n",
       "    .dataframe tbody tr th:only-of-type {\n",
       "        vertical-align: middle;\n",
       "    }\n",
       "\n",
       "    .dataframe tbody tr th {\n",
       "        vertical-align: top;\n",
       "    }\n",
       "\n",
       "    .dataframe thead th {\n",
       "        text-align: right;\n",
       "    }\n",
       "</style>\n",
       "<table border=\"1\" class=\"dataframe\">\n",
       "  <thead>\n",
       "    <tr style=\"text-align: right;\">\n",
       "      <th></th>\n",
       "      <th>_url</th>\n",
       "      <th>name</th>\n",
       "      <th>birth_year</th>\n",
       "      <th>weight</th>\n",
       "      <th>height</th>\n",
       "      <th>nationality</th>\n",
       "    </tr>\n",
       "  </thead>\n",
       "  <tbody>\n",
       "    <tr>\n",
       "      <th>0</th>\n",
       "      <td>bruno-surra</td>\n",
       "      <td>Bruno  Surra</td>\n",
       "      <td>1964.0</td>\n",
       "      <td>NaN</td>\n",
       "      <td>NaN</td>\n",
       "      <td>Italy</td>\n",
       "    </tr>\n",
       "    <tr>\n",
       "      <th>1</th>\n",
       "      <td>gerard-rue</td>\n",
       "      <td>Gérard  Rué</td>\n",
       "      <td>1965.0</td>\n",
       "      <td>74.0</td>\n",
       "      <td>182.0</td>\n",
       "      <td>France</td>\n",
       "    </tr>\n",
       "    <tr>\n",
       "      <th>2</th>\n",
       "      <td>jan-maas</td>\n",
       "      <td>Jan  Maas</td>\n",
       "      <td>1996.0</td>\n",
       "      <td>69.0</td>\n",
       "      <td>189.0</td>\n",
       "      <td>Netherlands</td>\n",
       "    </tr>\n",
       "    <tr>\n",
       "      <th>3</th>\n",
       "      <td>nathan-van-hooydonck</td>\n",
       "      <td>Nathan Van Hooydonck</td>\n",
       "      <td>1995.0</td>\n",
       "      <td>78.0</td>\n",
       "      <td>192.0</td>\n",
       "      <td>Belgium</td>\n",
       "    </tr>\n",
       "    <tr>\n",
       "      <th>4</th>\n",
       "      <td>jose-felix-parra</td>\n",
       "      <td>José Félix  Parra</td>\n",
       "      <td>1997.0</td>\n",
       "      <td>55.0</td>\n",
       "      <td>171.0</td>\n",
       "      <td>Spain</td>\n",
       "    </tr>\n",
       "  </tbody>\n",
       "</table>\n",
       "</div>"
      ],
      "text/plain": [
       "                   _url                  name  birth_year  weight  height  \\\n",
       "0           bruno-surra          Bruno  Surra      1964.0     NaN     NaN   \n",
       "1            gerard-rue           Gérard  Rué      1965.0    74.0   182.0   \n",
       "2              jan-maas             Jan  Maas      1996.0    69.0   189.0   \n",
       "3  nathan-van-hooydonck  Nathan Van Hooydonck      1995.0    78.0   192.0   \n",
       "4      jose-felix-parra     José Félix  Parra      1997.0    55.0   171.0   \n",
       "\n",
       "   nationality  \n",
       "0        Italy  \n",
       "1       France  \n",
       "2  Netherlands  \n",
       "3      Belgium  \n",
       "4        Spain  "
      ]
     },
     "execution_count": 4,
     "metadata": {},
     "output_type": "execute_result"
    }
   ],
   "source": [
    "csv_file = \"../data/cyclists.csv\"\n",
    "cyclists_dataset = pd.read_csv(csv_file)\n",
    "cyclists_dataset.head()"
   ]
  },
  {
   "cell_type": "code",
   "execution_count": 5,
   "metadata": {},
   "outputs": [
    {
     "name": "stdout",
     "output_type": "stream",
     "text": [
      "<class 'pandas.core.frame.DataFrame'>\n",
      "RangeIndex: 6134 entries, 0 to 6133\n",
      "Data columns (total 6 columns):\n",
      " #   Column       Non-Null Count  Dtype  \n",
      "---  ------       --------------  -----  \n",
      " 0   _url         6134 non-null   object \n",
      " 1   name         6134 non-null   object \n",
      " 2   birth_year   6121 non-null   float64\n",
      " 3   weight       3078 non-null   float64\n",
      " 4   height       3143 non-null   float64\n",
      " 5   nationality  6133 non-null   object \n",
      "dtypes: float64(3), object(3)\n",
      "memory usage: 287.7+ KB\n"
     ]
    }
   ],
   "source": [
    "cyclists_dataset.info()"
   ]
  },
  {
   "cell_type": "markdown",
   "metadata": {},
   "source": [
    "### Modify columns\n",
    "\n",
    "Before cleaning the cyclists dataset, we redefine the dataframe with the new types, for the reason explained in the data understanding process."
   ]
  },
  {
   "cell_type": "code",
   "execution_count": 6,
   "metadata": {},
   "outputs": [
    {
     "data": {
      "text/plain": [
       "dtype('float64')"
      ]
     },
     "execution_count": 6,
     "metadata": {},
     "output_type": "execute_result"
    }
   ],
   "source": [
    "# set birth year to int\n",
    "cyclists_dataset['birth_year'] = cyclists_dataset[cyclists_dataset['birth_year'].notnull()]['birth_year'].astype(int)\n",
    "cyclists_dataset['birth_year'].dtype"
   ]
  },
  {
   "cell_type": "markdown",
   "metadata": {},
   "source": [
    "### Imputation"
   ]
  },
  {
   "cell_type": "code",
   "execution_count": 7,
   "metadata": {},
   "outputs": [
    {
     "data": {
      "text/plain": [
       "_url              0\n",
       "name              0\n",
       "birth_year       13\n",
       "weight         3056\n",
       "height         2991\n",
       "nationality       1\n",
       "dtype: int64"
      ]
     },
     "execution_count": 7,
     "metadata": {},
     "output_type": "execute_result"
    }
   ],
   "source": [
    "cyclists_dataset.isnull().sum() # check number of missing values"
   ]
  },
  {
   "cell_type": "markdown",
   "metadata": {},
   "source": [
    "#### Imputation of `birth_year` and `nationality` null values"
   ]
  },
  {
   "cell_type": "markdown",
   "metadata": {},
   "source": [
    "For the missing birth year and nationality, we tried to manually retrieve as much data as possible through online searches."
   ]
  },
  {
   "cell_type": "code",
   "execution_count": 8,
   "metadata": {},
   "outputs": [
    {
     "data": {
      "text/plain": [
       "9             scott-davies\n",
       "601       vladimir-malakov\n",
       "894         antonio-zanini\n",
       "2408     filippo-simonetti\n",
       "2515         carlos-garcia\n",
       "2536       alexandr-osipov\n",
       "3046      nicolai-kosyakov\n",
       "3551            nevens-guy\n",
       "4142           oscar-pumar\n",
       "4384         javier-luquin\n",
       "4756        thierry-lauder\n",
       "6072    sergei-jermachenko\n",
       "6080       batik-odriozola\n",
       "Name: _url, dtype: object"
      ]
     },
     "execution_count": 8,
     "metadata": {},
     "output_type": "execute_result"
    }
   ],
   "source": [
    "# Show urls of the cyclists with 'birth_year' missing values\n",
    "cyclists_dataset[cyclists_dataset['birth_year'].isnull()]['_url']"
   ]
  },
  {
   "cell_type": "markdown",
   "metadata": {},
   "source": [
    "For the birth years found, we manually imputed the obtained value into the corresponding 'birth_year' feature."
   ]
  },
  {
   "cell_type": "code",
   "execution_count": 9,
   "metadata": {},
   "outputs": [],
   "source": [
    "cyclists_dataset.loc[cyclists_dataset['_url'] == 'scott-davies', 'birth_year'] = 1995\n",
    "cyclists_dataset.loc[cyclists_dataset['_url'] == 'vladimir-malakov', 'birth_year'] = 1958\n",
    "cyclists_dataset.loc[cyclists_dataset['_url'] == 'antonio-zanini', 'birth_year'] = 1965\n",
    "cyclists_dataset.loc[cyclists_dataset['_url'] == 'nevens-guy', 'birth_year'] = 1962\n",
    "cyclists_dataset.loc[cyclists_dataset['_url'] == 'sergei-jermachenko', 'birth_year'] = 1956 "
   ]
  },
  {
   "cell_type": "markdown",
   "metadata": {},
   "source": [
    "Similar reasoning was applied for nationality. The only missing value belonged to the cyclist Scott Davies."
   ]
  },
  {
   "cell_type": "code",
   "execution_count": 10,
   "metadata": {},
   "outputs": [],
   "source": [
    "cyclists_dataset.loc[cyclists_dataset['_url'] == 'scott-davies', 'nationality'] = 'Great Britain'"
   ]
  },
  {
   "cell_type": "markdown",
   "metadata": {},
   "source": [
    "For the remaining birth years, the mode was used"
   ]
  },
  {
   "cell_type": "code",
   "execution_count": 11,
   "metadata": {},
   "outputs": [],
   "source": [
    "cyclists_dataset['birth_year'] = cyclists_dataset['birth_year'].fillna(cyclists_dataset['birth_year'].mode()[0]) # substitue 8 remaining elements with mode"
   ]
  },
  {
   "cell_type": "code",
   "execution_count": 12,
   "metadata": {},
   "outputs": [
    {
     "data": {
      "text/plain": [
       "np.int64(0)"
      ]
     },
     "execution_count": 12,
     "metadata": {},
     "output_type": "execute_result"
    }
   ],
   "source": [
    "cyclists_dataset['birth_year'].isnull().sum() # check if missing values are filled correctly"
   ]
  },
  {
   "cell_type": "markdown",
   "metadata": {},
   "source": [
    "#### Imputation of `weight` and `height` null values"
   ]
  },
  {
   "cell_type": "markdown",
   "metadata": {},
   "source": [
    "Knowing that height and weight are highly correlated, we can use weight to find height, and height to find weight."
   ]
  },
  {
   "cell_type": "code",
   "execution_count": 13,
   "metadata": {},
   "outputs": [
    {
     "name": "stdout",
     "output_type": "stream",
     "text": [
      "Cyclists where we have only the height: 72\n",
      "Cyclists where we have only the weight: 7\n"
     ]
    }
   ],
   "source": [
    "# Filter rows where 'weight' is null and 'height' is not null\n",
    "missing_weight_with_height = cyclists_dataset[cyclists_dataset['weight'].isnull() & cyclists_dataset['height'].notnull()]\n",
    "print(\"Cyclists where we have only the height:\", len(missing_weight_with_height))\n",
    "\n",
    "# Filter rows where 'weight' is not null and 'height' is null\n",
    "missing_height_with_weight = cyclists_dataset[cyclists_dataset['weight'].notnull() & cyclists_dataset['height'].isnull()]\n",
    "print(\"Cyclists where we have only the weight:\", len(missing_height_with_weight))\n"
   ]
  },
  {
   "cell_type": "markdown",
   "metadata": {},
   "source": [
    "For this imputation, we considered two possible methods. One is to create a small linear regression model, and the other is to base it on the mean of the distributions divided into various bins."
   ]
  },
  {
   "cell_type": "code",
   "execution_count": 14,
   "metadata": {},
   "outputs": [
    {
     "data": {
      "text/plain": [
       "_url              0\n",
       "name              0\n",
       "birth_year        0\n",
       "weight         2984\n",
       "height         2984\n",
       "nationality       0\n",
       "dtype: int64"
      ]
     },
     "execution_count": 14,
     "metadata": {},
     "output_type": "execute_result"
    }
   ],
   "source": [
    "def linear_regression_imputation():\n",
    "    available_data = cyclists_dataset.dropna(subset=['weight', 'height']) # Filter out rows with missing values in weight or height\n",
    "\n",
    "    # Fit regression model to predict weight based on height and calculate residuals\n",
    "    model_weight = LinearRegression()\n",
    "    model_weight.fit(available_data[['height']], available_data['weight'])\n",
    "    weight_predicted = model_weight.predict(available_data[['height']])\n",
    "    weight_residuals = available_data['weight'] - weight_predicted\n",
    "\n",
    "    # Fit regression model to predict height based on weight and calculate residuals\n",
    "    model_height = LinearRegression()\n",
    "    model_height.fit(available_data[['weight']], available_data['height'])\n",
    "    height_predicted = model_height.predict(available_data[['weight']])\n",
    "    height_residuals = available_data['height'] - height_predicted\n",
    "\n",
    "    # Function to impute weight based on height\n",
    "    def impute_weight(height):\n",
    "        height_df = pd.DataFrame([[height]], columns=['height'])\n",
    "        predicted_weight = model_weight.predict(height_df)[0]\n",
    "        imputed_weight = predicted_weight + np.random.choice(weight_residuals)\n",
    "        return imputed_weight\n",
    "\n",
    "    # Function to impute height based on weight\n",
    "    def impute_height(weight):\n",
    "        weight_df = pd.DataFrame([[weight]], columns=['weight'])\n",
    "        predicted_height = model_height.predict(weight_df)[0]\n",
    "        imputed_height = predicted_height + np.random.choice(height_residuals)\n",
    "        return imputed_height\n",
    "\n",
    "    imputed_dataset = cyclists_dataset.copy()\n",
    "\n",
    "    # Apply imputation for cyclists with available height but missing weight\n",
    "    imputed_dataset.loc[imputed_dataset['weight'].isnull() & imputed_dataset['height'].notnull(), 'weight'] = \\\n",
    "        imputed_dataset.loc[imputed_dataset['weight'].isnull() & imputed_dataset['height'].notnull(), 'height'].apply(impute_weight)\n",
    "    # Apply imputation for cyclists with available weight but missing height\n",
    "    imputed_dataset.loc[imputed_dataset['height'].isnull() & imputed_dataset['weight'].notnull(), 'height'] = \\\n",
    "        imputed_dataset.loc[imputed_dataset['height'].isnull() & imputed_dataset['weight'].notnull(), 'weight'].apply(impute_height)\n",
    "\n",
    "    return imputed_dataset\n",
    "\n",
    "imputed_dataset_lr = linear_regression_imputation()\n",
    "\n",
    "imputed_dataset_lr.isnull().sum() # check if missing values are filled correctly"
   ]
  },
  {
   "cell_type": "code",
   "execution_count": 15,
   "metadata": {},
   "outputs": [
    {
     "data": {
      "text/plain": [
       "weight    2984\n",
       "height    2984\n",
       "dtype: int64"
      ]
     },
     "execution_count": 15,
     "metadata": {},
     "output_type": "execute_result"
    }
   ],
   "source": [
    "def bins_imputation():\n",
    "    imputed_dataset = cyclists_dataset.copy()\n",
    "\n",
    "    # Create bins for height and weight (we use deciles)\n",
    "    imputed_dataset['height_bin'] = pd.qcut(imputed_dataset['height'], q=10)  # deciles for height\n",
    "    imputed_dataset['weight_bin'] = pd.qcut(imputed_dataset['weight'], q=10)  # deciles for weight\n",
    "\n",
    "    height_weight_means = imputed_dataset.groupby('height_bin')['weight'].mean() # Mean weight for each height bin\n",
    "    weight_height_means = imputed_dataset.groupby('weight_bin')['height'].mean() # Mean height for each weight bin\n",
    "\n",
    "    # Function to impute weight based on height bin\n",
    "    def impute_weight_simple(row):\n",
    "        if pd.isnull(row['weight']) and pd.notnull(row['height']):\n",
    "            return height_weight_means[row['height_bin']]\n",
    "        return row['weight']\n",
    "\n",
    "    # Function to impute height based on weight bin\n",
    "    def impute_height_simple(row):\n",
    "        if pd.isnull(row['height']) and pd.notnull(row['weight']):\n",
    "            return weight_height_means[row['weight_bin']]\n",
    "        return row['height']\n",
    "\n",
    "    # Apply imputation functions\n",
    "    imputed_dataset['weight'] = imputed_dataset.apply(impute_weight_simple, axis=1)\n",
    "    imputed_dataset['height'] = imputed_dataset.apply(impute_height_simple, axis=1)\n",
    "\n",
    "    imputed_dataset.drop(columns=['height_bin', 'weight_bin'], inplace=True) # Remove support columns\n",
    "\n",
    "    return imputed_dataset\n",
    "\n",
    "imputed_dataset_bins = bins_imputation()\n",
    "\n",
    "imputed_dataset_bins[['weight', 'height']].isnull().sum() # check if missing values are filled correctly"
   ]
  },
  {
   "cell_type": "code",
   "execution_count": 16,
   "metadata": {},
   "outputs": [
    {
     "data": {
      "image/png": "[encoded data removed]",
      "text/plain": [
       "<Figure size 1500x1000 with 6 Axes>"
      ]
     },
     "metadata": {},
     "output_type": "display_data"
    }
   ],
   "source": [
    "n_bins = math.ceil(math.log2(len(cyclists_dataset)) + 1) \n",
    "fig, axes = plt.subplots(2, 3, figsize=(15, 10))\n",
    "\n",
    "sb.histplot(data=cyclists_dataset, x=\"weight\", bins=n_bins, ax=axes[0, 0])\n",
    "axes[0, 0].set_title(\"Weight Before Imputation\")\n",
    "\n",
    "sb.histplot(data=imputed_dataset_lr, x=\"weight\", bins=n_bins, ax=axes[0, 1])\n",
    "axes[0, 1].set_title(\"Weight After Imputation (Linear Regression)\")\n",
    "\n",
    "sb.histplot(data=imputed_dataset_bins, x=\"weight\", bins=n_bins, ax=axes[0, 2])\n",
    "axes[0, 2].set_title(\"Weight After Imputation (Binning)\")\n",
    "\n",
    "\n",
    "sb.histplot(data=cyclists_dataset, x=\"height\", bins=n_bins, ax=axes[1, 0])\n",
    "axes[1, 0].set_title(\"Height Before Imputation\")\n",
    "\n",
    "sb.histplot(data=imputed_dataset_lr, x=\"height\", bins=n_bins, ax=axes[1, 1])\n",
    "axes[1, 1].set_title(\"Height After Imputation (Linear Regression)\")\n",
    "\n",
    "sb.histplot(data=imputed_dataset_bins, x=\"height\", bins=n_bins, ax=axes[1, 2])\n",
    "axes[1, 2].set_title(\"Height After Imputation (Binning)\")\n",
    "\n",
    "plt.tight_layout()\n",
    "plt.show()"
   ]
  },
  {
   "cell_type": "markdown",
   "metadata": {},
   "source": [
    "Both methods correctly impute the values of interest. Additionally, we notice from the distributions that there is not a significant difference, but the imputation with the second method maintains a distribution more consistent with the initial one. Therefore, we will perform the imputation using the mean in the distribution."
   ]
  },
  {
   "cell_type": "code",
   "execution_count": 17,
   "metadata": {},
   "outputs": [],
   "source": [
    "# Create bins for height and weight (we use deciles)\n",
    "cyclists_dataset['height_bin'] = pd.qcut(cyclists_dataset['height'], q=10)\n",
    "cyclists_dataset['weight_bin'] = pd.qcut(cyclists_dataset['weight'], q=10)\n",
    "\n",
    "height_weight_means = cyclists_dataset.groupby('height_bin')['weight'].mean() # Mean weight for each height bin\n",
    "weight_height_means = cyclists_dataset.groupby('weight_bin')['height'].mean() # Mean height for each weight bin\n",
    "\n",
    "# Function to impute weight based on height bin\n",
    "def impute_weight_simple(row):\n",
    "    if pd.isnull(row['weight']) and pd.notnull(row['height']):\n",
    "        return height_weight_means[row['height_bin']]\n",
    "    return row['weight']\n",
    "\n",
    "# Function to impute height based on weight bin\n",
    "def impute_height_simple(row):\n",
    "    if pd.isnull(row['height']) and pd.notnull(row['weight']):\n",
    "        return weight_height_means[row['weight_bin']]\n",
    "    return row['height']\n",
    "\n",
    "# Apply imputation functions\n",
    "cyclists_dataset['weight'] = cyclists_dataset.apply(impute_weight_simple, axis=1)\n",
    "cyclists_dataset['height'] = cyclists_dataset.apply(impute_height_simple, axis=1)\n",
    "\n",
    "cyclists_dataset.drop(columns=['height_bin', 'weight_bin'], inplace=True) # Remove support columns\n",
    "\n",
    "# Round weight to one decimal and height to zero decimals\n",
    "cyclists_dataset['weight'] = cyclists_dataset['weight'].round(1)\n",
    "cyclists_dataset['height'] = cyclists_dataset['height'].round(0)"
   ]
  },
  {
   "cell_type": "code",
   "execution_count": 18,
   "metadata": {},
   "outputs": [
    {
     "data": {
      "text/plain": [
       "weight    2984\n",
       "height    2984\n",
       "dtype: int64"
      ]
     },
     "execution_count": 18,
     "metadata": {},
     "output_type": "execute_result"
    }
   ],
   "source": [
    "cyclists_dataset[['weight', 'height']].isnull().sum() # check if missing values are filled correctly"
   ]
  },
  {
   "cell_type": "markdown",
   "metadata": {},
   "source": [
    "For the remaining null values, we intend to delete the records of cyclists without height and weight who are not present in the races, and this will be done automatically when we shortly merge the two datasets.\n",
    "We do not delete all records with null weight and height because we can still perform analyses based on other values."
   ]
  },
  {
   "cell_type": "code",
   "execution_count": 19,
   "metadata": {},
   "outputs": [],
   "source": [
    "# Order cyclists dataset by _url\n",
    "cyclists_dataset = cyclists_dataset.sort_values(by='_url')"
   ]
  },
  {
   "cell_type": "markdown",
   "metadata": {},
   "source": [
    "## Races"
   ]
  },
  {
   "cell_type": "code",
   "execution_count": 20,
   "metadata": {},
   "outputs": [
    {
     "data": {
      "text/html": [
       "<div>\n",
       "<style scoped>\n",
       "    .dataframe tbody tr th:only-of-type {\n",
       "        vertical-align: middle;\n",
       "    }\n",
       "\n",
       "    .dataframe tbody tr th {\n",
       "        vertical-align: top;\n",
       "    }\n",
       "\n",
       "    .dataframe thead th {\n",
       "        text-align: right;\n",
       "    }\n",
       "</style>\n",
       "<table border=\"1\" class=\"dataframe\">\n",
       "  <thead>\n",
       "    <tr style=\"text-align: right;\">\n",
       "      <th></th>\n",
       "      <th>_url</th>\n",
       "      <th>name</th>\n",
       "      <th>points</th>\n",
       "      <th>uci_points</th>\n",
       "      <th>length</th>\n",
       "      <th>climb_total</th>\n",
       "      <th>profile</th>\n",
       "      <th>startlist_quality</th>\n",
       "      <th>average_temperature</th>\n",
       "      <th>date</th>\n",
       "      <th>position</th>\n",
       "      <th>cyclist</th>\n",
       "      <th>cyclist_age</th>\n",
       "      <th>is_tarmac</th>\n",
       "      <th>is_cobbled</th>\n",
       "      <th>is_gravel</th>\n",
       "      <th>cyclist_team</th>\n",
       "      <th>delta</th>\n",
       "    </tr>\n",
       "  </thead>\n",
       "  <tbody>\n",
       "    <tr>\n",
       "      <th>0</th>\n",
       "      <td>tour-de-france/1978/stage-6</td>\n",
       "      <td>Tour de France</td>\n",
       "      <td>100.0</td>\n",
       "      <td>NaN</td>\n",
       "      <td>162000.0</td>\n",
       "      <td>1101.0</td>\n",
       "      <td>1.0</td>\n",
       "      <td>1241</td>\n",
       "      <td>NaN</td>\n",
       "      <td>1978-07-05 04:02:24</td>\n",
       "      <td>0</td>\n",
       "      <td>sean-kelly</td>\n",
       "      <td>22.0</td>\n",
       "      <td>True</td>\n",
       "      <td>False</td>\n",
       "      <td>False</td>\n",
       "      <td>vini-ricordi-pinarello-sidermec-1986</td>\n",
       "      <td>0.0</td>\n",
       "    </tr>\n",
       "    <tr>\n",
       "      <th>1</th>\n",
       "      <td>tour-de-france/1978/stage-6</td>\n",
       "      <td>Tour de France</td>\n",
       "      <td>100.0</td>\n",
       "      <td>NaN</td>\n",
       "      <td>162000.0</td>\n",
       "      <td>1101.0</td>\n",
       "      <td>1.0</td>\n",
       "      <td>1241</td>\n",
       "      <td>NaN</td>\n",
       "      <td>1978-07-05 04:02:24</td>\n",
       "      <td>1</td>\n",
       "      <td>gerrie-knetemann</td>\n",
       "      <td>27.0</td>\n",
       "      <td>True</td>\n",
       "      <td>False</td>\n",
       "      <td>False</td>\n",
       "      <td>norway-1987</td>\n",
       "      <td>0.0</td>\n",
       "    </tr>\n",
       "    <tr>\n",
       "      <th>2</th>\n",
       "      <td>tour-de-france/1978/stage-6</td>\n",
       "      <td>Tour de France</td>\n",
       "      <td>100.0</td>\n",
       "      <td>NaN</td>\n",
       "      <td>162000.0</td>\n",
       "      <td>1101.0</td>\n",
       "      <td>1.0</td>\n",
       "      <td>1241</td>\n",
       "      <td>NaN</td>\n",
       "      <td>1978-07-05 04:02:24</td>\n",
       "      <td>2</td>\n",
       "      <td>rene-bittinger</td>\n",
       "      <td>24.0</td>\n",
       "      <td>True</td>\n",
       "      <td>False</td>\n",
       "      <td>False</td>\n",
       "      <td>NaN</td>\n",
       "      <td>0.0</td>\n",
       "    </tr>\n",
       "    <tr>\n",
       "      <th>3</th>\n",
       "      <td>tour-de-france/1978/stage-6</td>\n",
       "      <td>Tour de France</td>\n",
       "      <td>100.0</td>\n",
       "      <td>NaN</td>\n",
       "      <td>162000.0</td>\n",
       "      <td>1101.0</td>\n",
       "      <td>1.0</td>\n",
       "      <td>1241</td>\n",
       "      <td>NaN</td>\n",
       "      <td>1978-07-05 04:02:24</td>\n",
       "      <td>3</td>\n",
       "      <td>joseph-bruyere</td>\n",
       "      <td>30.0</td>\n",
       "      <td>True</td>\n",
       "      <td>False</td>\n",
       "      <td>False</td>\n",
       "      <td>navigare-blue-storm-1993</td>\n",
       "      <td>0.0</td>\n",
       "    </tr>\n",
       "    <tr>\n",
       "      <th>4</th>\n",
       "      <td>tour-de-france/1978/stage-6</td>\n",
       "      <td>Tour de France</td>\n",
       "      <td>100.0</td>\n",
       "      <td>NaN</td>\n",
       "      <td>162000.0</td>\n",
       "      <td>1101.0</td>\n",
       "      <td>1.0</td>\n",
       "      <td>1241</td>\n",
       "      <td>NaN</td>\n",
       "      <td>1978-07-05 04:02:24</td>\n",
       "      <td>4</td>\n",
       "      <td>sven-ake-nilsson</td>\n",
       "      <td>27.0</td>\n",
       "      <td>True</td>\n",
       "      <td>False</td>\n",
       "      <td>False</td>\n",
       "      <td>spain-1991</td>\n",
       "      <td>0.0</td>\n",
       "    </tr>\n",
       "  </tbody>\n",
       "</table>\n",
       "</div>"
      ],
      "text/plain": [
       "                          _url            name  points  uci_points    length  \\\n",
       "0  tour-de-france/1978/stage-6  Tour de France   100.0         NaN  162000.0   \n",
       "1  tour-de-france/1978/stage-6  Tour de France   100.0         NaN  162000.0   \n",
       "2  tour-de-france/1978/stage-6  Tour de France   100.0         NaN  162000.0   \n",
       "3  tour-de-france/1978/stage-6  Tour de France   100.0         NaN  162000.0   \n",
       "4  tour-de-france/1978/stage-6  Tour de France   100.0         NaN  162000.0   \n",
       "\n",
       "   climb_total  profile  startlist_quality  average_temperature  \\\n",
       "0       1101.0      1.0               1241                  NaN   \n",
       "1       1101.0      1.0               1241                  NaN   \n",
       "2       1101.0      1.0               1241                  NaN   \n",
       "3       1101.0      1.0               1241                  NaN   \n",
       "4       1101.0      1.0               1241                  NaN   \n",
       "\n",
       "                  date  position           cyclist  cyclist_age  is_tarmac  \\\n",
       "0  1978-07-05 04:02:24         0        sean-kelly         22.0       True   \n",
       "1  1978-07-05 04:02:24         1  gerrie-knetemann         27.0       True   \n",
       "2  1978-07-05 04:02:24         2    rene-bittinger         24.0       True   \n",
       "3  1978-07-05 04:02:24         3    joseph-bruyere         30.0       True   \n",
       "4  1978-07-05 04:02:24         4  sven-ake-nilsson         27.0       True   \n",
       "\n",
       "   is_cobbled  is_gravel                          cyclist_team  delta  \n",
       "0       False      False  vini-ricordi-pinarello-sidermec-1986    0.0  \n",
       "1       False      False                           norway-1987    0.0  \n",
       "2       False      False                                   NaN    0.0  \n",
       "3       False      False              navigare-blue-storm-1993    0.0  \n",
       "4       False      False                            spain-1991    0.0  "
      ]
     },
     "execution_count": 20,
     "metadata": {},
     "output_type": "execute_result"
    }
   ],
   "source": [
    "csv_file = \"../data/races.csv\"\n",
    "races_dataset = pd.read_csv(csv_file)\n",
    "races_dataset.head()"
   ]
  },
  {
   "cell_type": "markdown",
   "metadata": {},
   "source": [
    "### Modify columns\n",
    "\n",
    "Before cleaning the races dataset, we redefine the dataframe with the new types, for the reason explained in the data understanding process."
   ]
  },
  {
   "cell_type": "code",
   "execution_count": 21,
   "metadata": {},
   "outputs": [],
   "source": [
    "races_dataset['climb_total'] = races_dataset[races_dataset['climb_total'].notnull()]['climb_total'].astype(int)\n",
    "\n",
    "races_dataset['profile'] = races_dataset['profile'].astype('category')\n",
    "\n",
    "races_dataset['cyclist_age'] = races_dataset[races_dataset['cyclist_age'].notnull()]['cyclist_age'].astype(int)\n",
    "\n",
    "races_dataset['date'] = races_dataset['date'].str.split(' ').str[0]\n",
    "races_dataset['date'] = pd.to_datetime(races_dataset['date'], format='%Y-%m-%d')\n",
    "\n",
    "races_dataset = races_dataset.drop(columns=['is_cobbled', 'is_gravel'])\n",
    "races_dataset = races_dataset.rename(columns={'is_tarmac': 'mostly_tarmac'})\n",
    "\n",
    "races_dataset = races_dataset.drop(columns=['average_temperature'])"
   ]
  },
  {
   "cell_type": "markdown",
   "metadata": {},
   "source": [
    "We also start adding the `year` column (for the race year) and the `stage` column (for the race stage) which we will frequently use for imputation."
   ]
  },
  {
   "cell_type": "code",
   "execution_count": 22,
   "metadata": {},
   "outputs": [],
   "source": [
    "races_dataset['year'] = pd.to_datetime(races_dataset['date']).dt.year\n",
    "races_dataset['stage'] = races_dataset['_url'].str.split('/', expand=True)[2]"
   ]
  },
  {
   "cell_type": "markdown",
   "metadata": {},
   "source": [
    "Also, before starting with the rest of the races cleaning, we set the names of the races as defined during the understanding."
   ]
  },
  {
   "cell_type": "code",
   "execution_count": null,
   "metadata": {},
   "outputs": [],
   "source": [
    "races_dataset['name'] = races_dataset['name'].apply(unidecode)\n",
    "races_dataset['name'] = races_dataset['name'].replace(to_replace={'Clasica Ciclista San Sebastian':'Clasica San Sebastian',\n",
    "                                                      'Donostia San Sebastian Klasikoa':'Clasica San Sebastian',\n",
    "                                                         'Criterium du Dauphine Libere':'Criterium du Dauphine',\n",
    "                                                         'Gran Camino':'O Gran Camino',\n",
    "                                                         'La Vuelta ciclista a Espana':'Vuelta a Espana',\n",
    "                                                         'Dwars door Belgie / A travers la Belgique':'Dwars door Vlaanderen',\n",
    "                                                         'Dwars door Vlaanderen - A travers la Flandre ME':'Dwars door Vlaanderen ME',\n",
    "                                                         'Dwars door Vlaanderen / A travers la Flandre':'Dwars door Vlaanderen',\n",
    "                                                         'Dwars door Vlaanderen / A travers la Flandre ME':'Dwars door Vlaanderen ME',\n",
    "                                                         'E3 BinckBank Classic':'E3 Saxo Bank Classic',\n",
    "                                                         'E3 Harelbeke':'E3 Saxo Bank Classic',\n",
    "                                                         'E3 Prijs Vlaanderen':'E3 Saxo Bank Classic',\n",
    "                                                         'E3 Prijs Vlaanderen - Harelbeke':'E3 Saxo Bank Classic',\n",
    "                                                         'E3 Saxo Classic':'E3 Saxo Bank Classic',\n",
    "                                                         'E3-Prijs Harelbeke':'E3 Saxo Bank Classic',\n",
    "                                                         'Record Bank E3 Harelbeke':'E3 Saxo Bank Classic',\n",
    "                                                         'Giro di Lombardia':'Il Lombardia',\n",
    "                                                         'Liege - Bastogne - Liege':'Liege-Bastogne-Liege',\n",
    "                                                         'Monte Paschi Eroica':'Strade Bianche',\n",
    "                                                         'Montepaschi Strade Bianche - Eroica Toscana':'Strade Bianche',\n",
    "                                                         'Omloop Het Volk':'Omloop Nieuwsblad',\n",
    "                                                         'Omloop Het Nieuwsblad ME':'Omloop Nieuwsblad ME',\n",
    "                                                         'Omloop Het Volk ME':'Omloop Nieuwsblad ME',\n",
    "                                                         'Paris - Roubaix':'Paris-Roubaix',\n",
    "                                                         'Ronde van Vlaanderen - Tour des Flandres ME':'Ronde van Vlaanderen ME',\n",
    "                                                         'Ronde van Vlaanderen / Tour des Flandres':'Ronde van Vlaanderen',\n",
    "                                                         'Ronde van Vlaanderen / Tour des Flandres ME':'Ronde van Vlaanderen ME',\n",
    "                                                         'Volta a Catalunya':'Volta Ciclista a Catalunya',\n",
    "                                                         'Vuelta Ciclista al Pais Vasco':'Vuelta al Pais Vasco',\n",
    "                                                         })\n",
    "\n",
    "races_dataset['name'] = races_dataset['name'].replace(to_replace={\n",
    "                                                         'Dwars door Vlaanderen ME':'Dwars door Vlaanderen',\n",
    "                                                         'Omloop Nieuwsblad ME':'Omloop Nieuwsblad',\n",
    "                                                         'Ronde van Vlaanderen ME':'Ronde van Vlaanderen',\n",
    "                                                         'World Championships ME - Road Race':'World Championships - Road Race'\n",
    "                                                         })"
   ]
  },
  {
   "cell_type": "markdown",
   "metadata": {},
   "source": [
    "### Deletions of rows"
   ]
  },
  {
   "cell_type": "markdown",
   "metadata": {},
   "source": [
    "Considering the presence of the same cyclist multiple times (maximum twice) in the same ranking of a specific race, we decided to delete the second occurrence and keep only the first one."
   ]
  },
  {
   "cell_type": "code",
   "execution_count": 23,
   "metadata": {},
   "outputs": [],
   "source": [
    "# Identify duplicate rows for each cyclist in each URL (excluding the first occurrence), and delete them\n",
    "duplicate_rows = races_dataset.duplicated(subset=['_url', 'cyclist'], keep='first')\n",
    "races_dataset = races_dataset[~duplicate_rows]"
   ]
  },
  {
   "cell_type": "code",
   "execution_count": 24,
   "metadata": {},
   "outputs": [
    {
     "data": {
      "text/plain": [
       "_url                      0\n",
       "name                      0\n",
       "points                  477\n",
       "uci_points           338654\n",
       "length                    0\n",
       "climb_total          146976\n",
       "profile              148089\n",
       "startlist_quality         0\n",
       "date                      0\n",
       "position                  0\n",
       "cyclist                   0\n",
       "cyclist_age             113\n",
       "mostly_tarmac             0\n",
       "cyclist_team         159085\n",
       "delta                     0\n",
       "year                      0\n",
       "stage                     0\n",
       "dtype: int64"
      ]
     },
     "execution_count": 24,
     "metadata": {},
     "output_type": "execute_result"
    }
   ],
   "source": [
    "races_dataset.isnull().sum() # check number of missing values"
   ]
  },
  {
   "cell_type": "markdown",
   "metadata": {},
   "source": [
    "### Imputation"
   ]
  },
  {
   "cell_type": "code",
   "execution_count": 26,
   "metadata": {},
   "outputs": [
    {
     "data": {
      "text/plain": [
       "_url                      0\n",
       "name                      0\n",
       "points                  477\n",
       "uci_points           338654\n",
       "length                    0\n",
       "climb_total          146976\n",
       "profile              148089\n",
       "startlist_quality         0\n",
       "date                      0\n",
       "position                  0\n",
       "cyclist                   0\n",
       "cyclist_age             113\n",
       "mostly_tarmac             0\n",
       "cyclist_team         159085\n",
       "delta                     0\n",
       "year                      0\n",
       "stage                     0\n",
       "dtype: int64"
      ]
     },
     "execution_count": 26,
     "metadata": {},
     "output_type": "execute_result"
    }
   ],
   "source": [
    "races_dataset.isnull().sum() # check number of missing values"
   ]
  },
  {
   "cell_type": "markdown",
   "metadata": {},
   "source": [
    "#### Imputation of `points` and `uci_points` null values"
   ]
  },
  {
   "cell_type": "markdown",
   "metadata": {},
   "source": [
    "Let's try to impute the missing points and UCI points.\n",
    "\n",
    "Starting with the points, we will perform the imputation by considering the scores of the \"nearby\" races, i.e., considering the score of the same race but held in a different year, based on the year closest to the race to be imputed."
   ]
  },
  {
   "cell_type": "code",
   "execution_count": 27,
   "metadata": {},
   "outputs": [
    {
     "name": "stdout",
     "output_type": "stream",
     "text": [
      "Missing points for vuelta-a-espana/1994/stage-5, race Vuelta a Espana in 1994\n",
      "Missing points for tour-de-france/1986/stage-19, race Tour de France in 1986\n",
      "Missing points for tour-de-france/1988/prologue, race Tour de France in 1988\n",
      "Missing points for tour-de-france/2019/stage-19, race Tour de France in 2019\n"
     ]
    }
   ],
   "source": [
    "unique_data = races_dataset.drop_duplicates(subset=['_url', 'points'])\n",
    "\n",
    "# Show urls of races with missing 'points'\n",
    "invalid_races = unique_data[unique_data['points'].isnull()]\n",
    "for url, name, year in invalid_races[['_url', 'name', 'year']].values:\n",
    "    print(f\"Missing points for {url}, race {name} in {year}\")"
   ]
  },
  {
   "cell_type": "code",
   "execution_count": 28,
   "metadata": {},
   "outputs": [
    {
     "name": "stdout",
     "output_type": "stream",
     "text": [
      "For race Vuelta a Espana in Vuelta a Espana: \n",
      "the race before has [80.] points, and the race after has [80.] points\n",
      "For race Tour de France in Tour de France: \n",
      "the race before has [100.] points, and the race after has [100.] points\n",
      "For race Tour de France in Tour de France: \n",
      "the race before has [100.] points, and the race after has [100.] points\n",
      "For race Tour de France in Tour de France: \n",
      "the race before has [100.] points, and the race after has [100.] points\n"
     ]
    }
   ],
   "source": [
    "# Get the name and year and check the the two near races, before and after the current year\n",
    "for name, stage, year in invalid_races[['name', 'stage', 'year']].values:\n",
    "    race_before = unique_data[\n",
    "        (unique_data['name'] == name) & (unique_data['stage'] == stage) &\n",
    "        (unique_data['year'] < year)\n",
    "        ].sort_values(by='year', ascending=False).head(1)\n",
    "    race_after = unique_data[\n",
    "        (unique_data['name'] == name) & (unique_data['stage'] == stage) &\n",
    "        (unique_data['year'] > year)\n",
    "        ].sort_values(by='year', ascending=True).head(1)\n",
    "    print(f\"For race {name} in {name}: \\n\"\n",
    "          f\"the race before has {race_before['points'].values} points, and the race after has {race_after['points'].values} points\")"
   ]
  },
  {
   "cell_type": "code",
   "execution_count": 29,
   "metadata": {},
   "outputs": [
    {
     "data": {
      "text/plain": [
       "np.int64(0)"
      ]
     },
     "execution_count": 29,
     "metadata": {},
     "output_type": "execute_result"
    }
   ],
   "source": [
    "for index, row in invalid_races.iterrows():\n",
    "    # Find the most recent row with the same 'name' but with a lower 'year'\n",
    "    previous_race = unique_data[\n",
    "        (unique_data['name'] == row['name']) & (unique_data['stage'] == row['stage']) &\n",
    "        (unique_data['year'] < row['year'])\n",
    "        ].sort_values(by='year', ascending=False).head(1)\n",
    "    \n",
    "    # If a corresponding row is found, fill the missing value with the points of the corresponding row\n",
    "    if not previous_race.empty:\n",
    "        previous_points = previous_race.iloc[0]['points'] # Get the points of the found row\n",
    "        races_dataset.loc[races_dataset['_url'] == row['_url'], 'points'] = previous_points # Assign these points to the original row in the dataset\n",
    "\n",
    "races_dataset['points'].isnull().sum() # check if missing values are filled correctly"
   ]
  },
  {
   "cell_type": "markdown",
   "metadata": {},
   "source": [
    "Now, let's move on to the UCI points, where we use the values of the races in different years, or the points values with the various averages."
   ]
  },
  {
   "cell_type": "code",
   "execution_count": 30,
   "metadata": {},
   "outputs": [
    {
     "name": "stdout",
     "output_type": "stream",
     "text": [
      "Number of invalid URLs: 1181 over 2780\n"
     ]
    }
   ],
   "source": [
    "# We consider the year after 2000 because the UCI points were introduced in 2001\n",
    "filtered_df = races_dataset[(races_dataset['year'] > 2000) & races_dataset['uci_points'].isnull()]\n",
    "\n",
    "invalid_urls = filtered_df['_url'].unique()\n",
    "all_uci_urls = races_dataset[races_dataset['year'] > 2000]['_url'].unique()\n",
    "\n",
    "print(f\"Number of invalid URLs: {len(invalid_urls)} over {len(all_uci_urls)}\")"
   ]
  },
  {
   "cell_type": "code",
   "execution_count": 31,
   "metadata": {},
   "outputs": [],
   "source": [
    "invalid_races = races_dataset[(races_dataset['year'] > 2000) & races_dataset['uci_points'].isnull()].sort_values(by='year')\n",
    "\n",
    "# Find the race stages where 'uci_points' is always null in all years\n",
    "n_points = races_dataset.groupby(['name', 'stage'])['uci_points'].nunique()\n",
    "stages_without_points = n_points[n_points == 0].index"
   ]
  },
  {
   "cell_type": "code",
   "execution_count": 32,
   "metadata": {},
   "outputs": [],
   "source": [
    "converged = False # Flag to check if the imputation has converged\n",
    "\n",
    "while not converged:\n",
    "    # Filer the rows with 'year' >= 2001 and 'uci_points' null, and remove the races (stage) without any 'uci_points' value\n",
    "    invalid_races = races_dataset[\n",
    "        (races_dataset['year'] > 2000) & \n",
    "        races_dataset['uci_points'].isnull() & \n",
    "        ~races_dataset.set_index(['name', 'stage']).index.isin(stages_without_points)\n",
    "    ].sort_values(by='year')\n",
    "\n",
    "    unique_data = races_dataset.drop_duplicates(subset=['_url', 'uci_points']).sort_values(by='year')\n",
    "\n",
    "    # For each race, we find the previous 'uci_points' value\n",
    "    previous_races = unique_data.groupby(['name', 'stage']).apply(\n",
    "        lambda x: x.assign(prev_uci_points=x['uci_points'].shift(1), prev_year=x['year'].shift(1))\n",
    "    ).reset_index(drop=True)\n",
    "    # For each race, we find the next 'uci_points' value\n",
    "    next_races = unique_data.groupby(['name', 'stage']).apply(\n",
    "        lambda x: x.assign(next_uci_points=x['uci_points'].shift(-1), next_year=x['year'].shift(-1))\n",
    "    ).reset_index(drop=True)\n",
    "\n",
    "    # Merge the previous and next information\n",
    "    unique_data = previous_races.merge(\n",
    "        next_races[['name', 'stage', '_url', 'next_uci_points', 'next_year']],\n",
    "        on=['name', 'stage', '_url'],\n",
    "        how='left'\n",
    "    )\n",
    "\n",
    "    # Function to determine the closest value to fill the missing 'uci_points'\n",
    "    def get_closest_uci_points(row):\n",
    "        if pd.notnull(row['prev_uci_points']):\n",
    "            return row['prev_uci_points']\n",
    "        elif pd.notnull(row['next_uci_points']):\n",
    "            return row['next_uci_points']\n",
    "        return None\n",
    "\n",
    "    # Apply the function to the invalid races\n",
    "    fill_values = invalid_races.merge(\n",
    "        unique_data,\n",
    "        on=['name', 'stage', '_url'],\n",
    "        how='left'\n",
    "    ).apply(get_closest_uci_points, axis=1)\n",
    "    races_dataset.loc[invalid_races.index, 'uci_points'] = fill_values.values\n",
    "\n",
    "    # Check if there are still missing values\n",
    "    if fill_values.isnull().sum() == 0:\n",
    "        converged = True\n",
    "        break\n",
    "\n",
    "races_dataset['uci_points'] = races_dataset['uci_points'].round(0) # Round 'uci_points' to zero decimal places"
   ]
  },
  {
   "cell_type": "code",
   "execution_count": 33,
   "metadata": {},
   "outputs": [
    {
     "data": {
      "text/plain": [
       "np.int64(169630)"
      ]
     },
     "execution_count": 33,
     "metadata": {},
     "output_type": "execute_result"
    }
   ],
   "source": [
    "races_dataset['uci_points'].isnull().sum()"
   ]
  },
  {
   "cell_type": "code",
   "execution_count": 34,
   "metadata": {},
   "outputs": [],
   "source": [
    "# Create bins (deciles) for the 'points' column considering only years after 2000\n",
    "races_dataset['points_bin'] = pd.qcut(\n",
    "    races_dataset.loc[races_dataset['year'] > 2000, 'points'], \n",
    "    q=10, \n",
    "    duplicates='drop'\n",
    ")\n",
    "\n",
    "# Compute the mean 'uci_points' for each 'points' interval (only for years after 2000)\n",
    "points_means = races_dataset[races_dataset['year'] > 2000].groupby('points_bin')['uci_points'].mean()\n",
    "\n",
    "# Function to impute 'uci_points' based on the 'points' bin\n",
    "def impute_uci_points_simple(row):\n",
    "    if pd.isnull(row['uci_points']) and row['year'] > 2000:\n",
    "        return points_means.get(row['points_bin'], row['uci_points'])  # Use 'get' to handle missing values in 'points_bin'\n",
    "    return row['uci_points']\n",
    "\n",
    "races_dataset['uci_points'] = races_dataset.apply(impute_uci_points_simple, axis=1) # Apply imputation function\n",
    "\n",
    "races_dataset.drop(columns=['points_bin'], inplace=True) # Remove support column\n",
    "\n",
    "races_dataset['uci_points'] = races_dataset['uci_points'].round(0) # Round 'uci_points' to zero decimal places"
   ]
  },
  {
   "cell_type": "code",
   "execution_count": 35,
   "metadata": {},
   "outputs": [
    {
     "data": {
      "text/plain": [
       "np.int64(167555)"
      ]
     },
     "execution_count": 35,
     "metadata": {},
     "output_type": "execute_result"
    }
   ],
   "source": [
    "races_dataset['uci_points'].isnull().sum() # check if missing values are filled correctly"
   ]
  },
  {
   "cell_type": "code",
   "execution_count": 36,
   "metadata": {},
   "outputs": [
    {
     "name": "stdout",
     "output_type": "stream",
     "text": [
      "Number of invalid URLs: 0 over 2780\n"
     ]
    }
   ],
   "source": [
    "filtered_df = races_dataset[(races_dataset['year'] > 2000) & races_dataset['uci_points'].isnull()]\n",
    "\n",
    "invalid_urls = filtered_df['_url'].unique()\n",
    "all_uci_urls = races_dataset[races_dataset['year'] > 2000]['_url'].unique()\n",
    "\n",
    "print(f\"Number of invalid URLs: {len(invalid_urls)} over {len(all_uci_urls)}\")"
   ]
  },
  {
   "cell_type": "markdown",
   "metadata": {},
   "source": [
    "#### Imputation of `climb_total` and `profile` null values"
   ]
  },
  {
   "cell_type": "markdown",
   "metadata": {},
   "source": [
    "We impute the missing climb total values basing on the races in different years. After that, since the correlation between the climb total values and the profile values, we decided to impute the null profile values in the races where we have the climb total value, and viceversa"
   ]
  },
  {
   "cell_type": "code",
   "execution_count": 37,
   "metadata": {},
   "outputs": [
    {
     "name": "stdout",
     "output_type": "stream",
     "text": [
      "Number of invalid URLs: 2214 over 5281\n"
     ]
    }
   ],
   "source": [
    "# Count the number of races (stage) with missing 'climb_total' values\n",
    "\n",
    "filtered_df = races_dataset[races_dataset['climb_total'].isnull()]\n",
    "\n",
    "invalid_urls = filtered_df['_url'].unique()\n",
    "all_urls = races_dataset['_url'].unique()\n",
    "\n",
    "print(f\"Number of invalid URLs: {len(invalid_urls)} over {len(all_urls)}\")"
   ]
  },
  {
   "cell_type": "code",
   "execution_count": 38,
   "metadata": {},
   "outputs": [
    {
     "name": "stdout",
     "output_type": "stream",
     "text": [
      "Number of invalid URLs: 2408 over 5281\n"
     ]
    }
   ],
   "source": [
    "# Count the number of races (stage) with missing 'profile' values\n",
    "\n",
    "filtered_df = races_dataset[races_dataset['profile'].isnull()]\n",
    "\n",
    "invalid_urls = filtered_df['_url'].unique()\n",
    "all_urls = races_dataset['_url'].unique()\n",
    "\n",
    "print(f\"Number of invalid URLs: {len(invalid_urls)} over {len(all_urls)}\")"
   ]
  },
  {
   "cell_type": "code",
   "execution_count": 40,
   "metadata": {},
   "outputs": [],
   "source": [
    "def impute_climb_and_profile():\n",
    "    # Create intervals for 'climb_total' (deciles), removing duplicate edges\n",
    "    races_dataset['climb_total_bin'] = pd.qcut(races_dataset['climb_total'], q=10, duplicates='drop')\n",
    "\n",
    "    # Compute the mode of 'profile' for each 'climb_total' interval\n",
    "    profile_mode_by_climb = races_dataset.groupby('climb_total_bin')['profile'].agg(lambda x: x.mode().iloc[0] if not x.mode().empty else None)\n",
    "    # Create a dictionary with the range (min and max) of 'climb_total' for each 'profile' value\n",
    "    climb_range_by_profile = races_dataset.groupby('profile')['climb_total'].agg(['min', 'max']).to_dict('index')\n",
    "    climb_by_url_and_profile = {} # To save {(_url, profile): climb_total}\n",
    "\n",
    "    # Function to impute 'profile' based on 'climb_total'\n",
    "    def impute_profile_based_on_climb(row):\n",
    "        if pd.isnull(row['profile']) and pd.notnull(row['climb_total']):\n",
    "            return profile_mode_by_climb.get(row['climb_total_bin'], row['profile'])\n",
    "        return row['profile']\n",
    "\n",
    "    # Function to impute 'climb_total' based on 'profile' and '_url'\n",
    "    def impute_climb_based_on_profile(row):\n",
    "        key = (row['_url'], row['profile']) # Get the (_url, profile) pair\n",
    "        if pd.isnull(row['climb_total']) and pd.notnull(row['profile']):\n",
    "            # Only if the value has already been calculated\n",
    "            if key in climb_by_url_and_profile: \n",
    "                return climb_by_url_and_profile[key]\n",
    "            \n",
    "            # Otherwise, select a random value in the range [min, max]\n",
    "            climb_range = climb_range_by_profile.get(row['profile'], None)\n",
    "            if climb_range:  # If the range exists\n",
    "                chosen_value = np.random.uniform(climb_range['min'], climb_range['max'])\n",
    "                climb_by_url_and_profile[key] = chosen_value\n",
    "                return chosen_value\n",
    "        return row['climb_total']\n",
    "\n",
    "    # Apply imputation functions\n",
    "    races_dataset['profile'] = races_dataset.apply(impute_profile_based_on_climb, axis=1)\n",
    "    races_dataset['climb_total'] = races_dataset.apply(impute_climb_based_on_profile, axis=1)\n",
    "\n",
    "    # Rimuovere la colonna di supporto usata per l’imputazione\n",
    "    races_dataset.drop(columns=['climb_total_bin'], inplace=True) # Remove support column\n",
    "\n",
    "    races_dataset['climb_total'] = races_dataset['climb_total'].round(0) # Round 'climb_total' to zero decimal places"
   ]
  },
  {
   "cell_type": "code",
   "execution_count": 41,
   "metadata": {},
   "outputs": [
    {
     "data": {
      "text/plain": [
       "profile        114401\n",
       "climb_total    114401\n",
       "dtype: int64"
      ]
     },
     "execution_count": 41,
     "metadata": {},
     "output_type": "execute_result"
    }
   ],
   "source": [
    "impute_climb_and_profile()\n",
    "races_dataset[['profile', 'climb_total']].isnull().sum() # check if missing values are filled correctly"
   ]
  },
  {
   "cell_type": "code",
   "execution_count": 42,
   "metadata": {},
   "outputs": [
    {
     "name": "stdout",
     "output_type": "stream",
     "text": [
      "Number of invalid URLs: 1955 over 5281\n"
     ]
    }
   ],
   "source": [
    "# Count the number of races (stage) with missing 'climb_total' values\n",
    "\n",
    "filtered_df = races_dataset[races_dataset['climb_total'].isnull()]\n",
    "\n",
    "invalid_urls = filtered_df['_url'].unique()\n",
    "all_urls = races_dataset['_url'].unique()\n",
    "\n",
    "print(f\"Number of invalid URLs: {len(invalid_urls)} over {len(all_urls)}\")"
   ]
  },
  {
   "cell_type": "code",
   "execution_count": 43,
   "metadata": {},
   "outputs": [
    {
     "name": "stdout",
     "output_type": "stream",
     "text": [
      "Number of invalid URLs: 1955 over 5281\n"
     ]
    }
   ],
   "source": [
    "# Count the number of races (stage) with missing 'profile' values\n",
    "\n",
    "filtered_df = races_dataset[races_dataset['profile'].isnull()]\n",
    "\n",
    "invalid_urls = filtered_df['_url'].unique()\n",
    "all_urls = races_dataset['_url'].unique()\n",
    "\n",
    "print(f\"Number of invalid URLs: {len(invalid_urls)} over {len(all_urls)}\")"
   ]
  },
  {
   "cell_type": "markdown",
   "metadata": {},
   "source": [
    "#### Imputation of `cyclist_team` null values"
   ]
  },
  {
   "cell_type": "markdown",
   "metadata": {},
   "source": [
    "Now let's try to impute some cyclist teams given the teams in nearby races"
   ]
  },
  {
   "cell_type": "code",
   "execution_count": 44,
   "metadata": {},
   "outputs": [
    {
     "name": "stdout",
     "output_type": "stream",
     "text": [
      "Iterating...\n",
      "Updated 15646 missing values.\n",
      "Iterating...\n",
      "Updated 3674 missing values.\n",
      "Iterating...\n",
      "Updated 939 missing values.\n",
      "Iterating...\n",
      "Updated 146 missing values.\n",
      "Iterating...\n",
      "Updated 44 missing values.\n",
      "Iterating...\n",
      "Updated 1 missing values.\n",
      "Iterating...\n",
      "Updated 1 missing values.\n",
      "Iterating...\n",
      "No invalid races left.\n",
      "Imputation complete. Remaining nulls: 138634\n"
     ]
    }
   ],
   "source": [
    "converged = False # Flag to check if the imputation has converged\n",
    "\n",
    "while not converged:\n",
    "    print(\"Iterating...\")\n",
    "\n",
    "    # Find cyclists without a team in every race\n",
    "    n_cyclist_teams = races_dataset.groupby('cyclist')['cyclist_team'].nunique()\n",
    "    cyclists_without_team = n_cyclist_teams[n_cyclist_teams == 0].index\n",
    "    # Filer the rows with 'cyclist_team' null, and remove the cyclists without a team\n",
    "    invalid_races = races_dataset[\n",
    "        races_dataset['cyclist_team'].isnull() &\n",
    "        ~races_dataset['cyclist'].isin(cyclists_without_team)\n",
    "    ].sort_values(by='year')\n",
    " \n",
    "    if invalid_races.empty:\n",
    "        print(\"No invalid races left.\")\n",
    "        break\n",
    "\n",
    "    unique_data = races_dataset.drop_duplicates(subset=['cyclist', 'cyclist_team']).sort_values(by='year')\n",
    "\n",
    "    # For each race, find the previous 'cyclist_team' and 'year'\n",
    "    previous_races = unique_data.groupby('cyclist').apply(\n",
    "        lambda x: x.assign(prev_cyclist_team=x['cyclist_team'].shift(1), prev_year=x['year'].shift(1))\n",
    "    ).reset_index(drop=True)\n",
    "    # For each race, find the next 'cyclist_team' and 'year'\n",
    "    next_races = unique_data.groupby('cyclist').apply(\n",
    "        lambda x: x.assign(next_cyclist_team=x['cyclist_team'].shift(-1), next_year=x['year'].shift(-1))\n",
    "    ).reset_index(drop=True)\n",
    "    # Merge the previous and next information\n",
    "    unique_data = previous_races.merge(\n",
    "        next_races[['cyclist', '_url', 'next_cyclist_team', 'next_year']],\n",
    "        on=['cyclist', '_url'],\n",
    "        how='left'\n",
    "    )\n",
    "\n",
    "    # Creare mappe da 'unique_data'\n",
    "    previous_team_map = unique_data.set_index(['cyclist', 'year'])['prev_cyclist_team'].to_dict()\n",
    "    next_team_map = unique_data.set_index(['cyclist', 'year'])['next_cyclist_team'].to_dict()\n",
    "\n",
    "    # Funzione per trovare il valore più vicino\n",
    "    def get_closest_team(row):\n",
    "        key = (row['cyclist'], row['year'])\n",
    "        prev_team = previous_team_map.get(key, None)\n",
    "        next_team = next_team_map.get(key, None)\n",
    "        return prev_team if pd.notnull(prev_team) else next_team\n",
    "\n",
    "    # Applicare la logica direttamente alle righe mancanti\n",
    "    invalid_races['cyclist_team'] = invalid_races.apply(get_closest_team, axis=1)\n",
    "\n",
    "    # Aggiorna i valori nel dataset originale\n",
    "    updated = invalid_races['cyclist_team'].notnull().sum()\n",
    "    races_dataset.loc[invalid_races.index, 'cyclist_team'] = invalid_races['cyclist_team']\n",
    "\n",
    "    # Verifica la convergenza\n",
    "    converged = updated == 0\n",
    "    print(f\"Updated {updated} missing values.\")\n",
    "\n",
    "# Riepilogo dei valori mancanti\n",
    "print(\"Imputation complete. Remaining nulls:\", races_dataset['cyclist_team'].isnull().sum())\n"
   ]
  },
  {
   "cell_type": "code",
   "execution_count": 45,
   "metadata": {},
   "outputs": [
    {
     "data": {
      "text/plain": [
       "np.int64(0)"
      ]
     },
     "execution_count": 45,
     "metadata": {},
     "output_type": "execute_result"
    }
   ],
   "source": [
    "n_cyclist_teams = races_dataset.groupby(['cyclist'])['cyclist_team'].nunique()\n",
    "cyclists_without_team = n_cyclist_teams[n_cyclist_teams == 0].index  # Ciclisti senza squadra in nessun evento\n",
    "\n",
    "invalid_races = races_dataset[\n",
    "        races_dataset['cyclist_team'].isnull() &\n",
    "        ~races_dataset['cyclist'].isin(cyclists_without_team)\n",
    "    ].sort_values(by='year')\n",
    "\n",
    "# number of remaining cyclists without a team\n",
    "invalid_races['cyclist_team'].isnull().sum()\n"
   ]
  },
  {
   "cell_type": "markdown",
   "metadata": {},
   "source": [
    "#### Imputation of delta values\n",
    "\n",
    "Per i delta negativi o che risultano con valori sbagliati, modifichiamo il valore per tenerlo coerente con la posizione del ciclista in quella determinata gara. La logica da seguire è, partendo dalla prima posizione, si prosegue nei record fino a quando non si trova un delta negativo, che a quel punto sostituisco con il delta precedente, e così via fino a quando non finisco le posizioni della gara."
   ]
  },
  {
   "cell_type": "code",
   "execution_count": 46,
   "metadata": {},
   "outputs": [
    {
     "name": "stdout",
     "output_type": "stream",
     "text": [
      "Number of URLs with invalid deltas after imputation: 0\n"
     ]
    }
   ],
   "source": [
    "# Funzione per imputare i delta errati\n",
    "def correct_deltas(group):\n",
    "    group = group.reset_index(drop=True)  # Resetta l'indice per garantire l'accesso numerico\n",
    "    # Iniziamo con la prima riga (la quale ha il delta 0)\n",
    "    for i in range(1, len(group)):\n",
    "        # Se il delta è negativo o inferiore al precedente, lo sostituiamo con il valore precedente\n",
    "        if group['delta'].iloc[i] < group['delta'].iloc[i-1]:\n",
    "            group.loc[i, 'delta'] = group.loc[i-1, 'delta']\n",
    "    return group\n",
    "\n",
    "# Applica la funzione di imputazione per ciascun gruppo (gara)\n",
    "races_dataset = races_dataset.groupby('_url', group_keys=False).apply(correct_deltas)\n",
    "\n",
    "# Verifica i cambiamenti\n",
    "invalid_urls_after_imputation = races_dataset.groupby('_url')['delta'].apply(lambda x: (x.shift() > x).any())\n",
    "print('Number of URLs with invalid deltas after imputation: ' + str(len(invalid_urls_after_imputation[invalid_urls_after_imputation])))"
   ]
  },
  {
   "cell_type": "code",
   "execution_count": 47,
   "metadata": {},
   "outputs": [],
   "source": [
    "# Order races dataset by '_url'\n",
    "races_dataset = races_dataset.sort_values(by='_url')"
   ]
  },
  {
   "cell_type": "markdown",
   "metadata": {},
   "source": [
    "## Cyclists & Races"
   ]
  },
  {
   "cell_type": "code",
   "execution_count": 48,
   "metadata": {},
   "outputs": [
    {
     "data": {
      "text/html": [
       "<div>\n",
       "<style scoped>\n",
       "    .dataframe tbody tr th:only-of-type {\n",
       "        vertical-align: middle;\n",
       "    }\n",
       "\n",
       "    .dataframe tbody tr th {\n",
       "        vertical-align: top;\n",
       "    }\n",
       "\n",
       "    .dataframe thead th {\n",
       "        text-align: right;\n",
       "    }\n",
       "</style>\n",
       "<table border=\"1\" class=\"dataframe\">\n",
       "  <thead>\n",
       "    <tr style=\"text-align: right;\">\n",
       "      <th></th>\n",
       "      <th>cyclist_url</th>\n",
       "      <th>cyclist_name</th>\n",
       "      <th>birth_year</th>\n",
       "      <th>weight</th>\n",
       "      <th>height</th>\n",
       "      <th>nationality</th>\n",
       "      <th>race_url</th>\n",
       "      <th>race_name</th>\n",
       "      <th>points</th>\n",
       "      <th>uci_points</th>\n",
       "      <th>...</th>\n",
       "      <th>profile</th>\n",
       "      <th>startlist_quality</th>\n",
       "      <th>date</th>\n",
       "      <th>position</th>\n",
       "      <th>cyclist_age</th>\n",
       "      <th>mostly_tarmac</th>\n",
       "      <th>cyclist_team</th>\n",
       "      <th>delta</th>\n",
       "      <th>race_year</th>\n",
       "      <th>race_stage</th>\n",
       "    </tr>\n",
       "  </thead>\n",
       "  <tbody>\n",
       "    <tr>\n",
       "      <th>0</th>\n",
       "      <td>aad-van-den-hoek</td>\n",
       "      <td>Aad van den Hoek</td>\n",
       "      <td>1951.0</td>\n",
       "      <td>77.0</td>\n",
       "      <td>186.0</td>\n",
       "      <td>Netherlands</td>\n",
       "      <td>e3-harelbeke/1983/result</td>\n",
       "      <td>E3 Saxo Bank Classic</td>\n",
       "      <td>125.0</td>\n",
       "      <td>NaN</td>\n",
       "      <td>...</td>\n",
       "      <td>NaN</td>\n",
       "      <td>194</td>\n",
       "      <td>1983-03-26</td>\n",
       "      <td>20</td>\n",
       "      <td>32.0</td>\n",
       "      <td>False</td>\n",
       "      <td>NaN</td>\n",
       "      <td>117.0</td>\n",
       "      <td>1983</td>\n",
       "      <td>result</td>\n",
       "    </tr>\n",
       "    <tr>\n",
       "      <th>1</th>\n",
       "      <td>aad-van-den-hoek</td>\n",
       "      <td>Aad van den Hoek</td>\n",
       "      <td>1951.0</td>\n",
       "      <td>77.0</td>\n",
       "      <td>186.0</td>\n",
       "      <td>Netherlands</td>\n",
       "      <td>la-fleche-wallone/1981/result</td>\n",
       "      <td>La Fleche Wallonne</td>\n",
       "      <td>225.0</td>\n",
       "      <td>NaN</td>\n",
       "      <td>...</td>\n",
       "      <td>NaN</td>\n",
       "      <td>1294</td>\n",
       "      <td>1981-04-15</td>\n",
       "      <td>106</td>\n",
       "      <td>30.0</td>\n",
       "      <td>False</td>\n",
       "      <td>NaN</td>\n",
       "      <td>25.0</td>\n",
       "      <td>1981</td>\n",
       "      <td>result</td>\n",
       "    </tr>\n",
       "    <tr>\n",
       "      <th>2</th>\n",
       "      <td>aad-van-den-hoek</td>\n",
       "      <td>Aad van den Hoek</td>\n",
       "      <td>1951.0</td>\n",
       "      <td>77.0</td>\n",
       "      <td>186.0</td>\n",
       "      <td>Netherlands</td>\n",
       "      <td>omloop-het-nieuwsblad/1977/result</td>\n",
       "      <td>Omloop Nieuwsblad</td>\n",
       "      <td>125.0</td>\n",
       "      <td>NaN</td>\n",
       "      <td>...</td>\n",
       "      <td>NaN</td>\n",
       "      <td>595</td>\n",
       "      <td>1977-03-05</td>\n",
       "      <td>37</td>\n",
       "      <td>26.0</td>\n",
       "      <td>False</td>\n",
       "      <td>NaN</td>\n",
       "      <td>565.0</td>\n",
       "      <td>1977</td>\n",
       "      <td>result</td>\n",
       "    </tr>\n",
       "    <tr>\n",
       "      <th>3</th>\n",
       "      <td>aad-van-den-hoek</td>\n",
       "      <td>Aad van den Hoek</td>\n",
       "      <td>1951.0</td>\n",
       "      <td>77.0</td>\n",
       "      <td>186.0</td>\n",
       "      <td>Netherlands</td>\n",
       "      <td>omloop-het-nieuwsblad/1978/result</td>\n",
       "      <td>Omloop Nieuwsblad</td>\n",
       "      <td>125.0</td>\n",
       "      <td>NaN</td>\n",
       "      <td>...</td>\n",
       "      <td>NaN</td>\n",
       "      <td>493</td>\n",
       "      <td>1978-03-04</td>\n",
       "      <td>26</td>\n",
       "      <td>27.0</td>\n",
       "      <td>False</td>\n",
       "      <td>NaN</td>\n",
       "      <td>240.0</td>\n",
       "      <td>1978</td>\n",
       "      <td>result</td>\n",
       "    </tr>\n",
       "    <tr>\n",
       "      <th>4</th>\n",
       "      <td>aad-van-den-hoek</td>\n",
       "      <td>Aad van den Hoek</td>\n",
       "      <td>1951.0</td>\n",
       "      <td>77.0</td>\n",
       "      <td>186.0</td>\n",
       "      <td>Netherlands</td>\n",
       "      <td>omloop-het-nieuwsblad/1983/result</td>\n",
       "      <td>Omloop Nieuwsblad</td>\n",
       "      <td>125.0</td>\n",
       "      <td>NaN</td>\n",
       "      <td>...</td>\n",
       "      <td>NaN</td>\n",
       "      <td>756</td>\n",
       "      <td>1983-03-05</td>\n",
       "      <td>71</td>\n",
       "      <td>32.0</td>\n",
       "      <td>False</td>\n",
       "      <td>NaN</td>\n",
       "      <td>370.0</td>\n",
       "      <td>1983</td>\n",
       "      <td>result</td>\n",
       "    </tr>\n",
       "  </tbody>\n",
       "</table>\n",
       "<p>5 rows × 22 columns</p>\n",
       "</div>"
      ],
      "text/plain": [
       "        cyclist_url      cyclist_name  birth_year  weight  height  \\\n",
       "0  aad-van-den-hoek  Aad van den Hoek      1951.0    77.0   186.0   \n",
       "1  aad-van-den-hoek  Aad van den Hoek      1951.0    77.0   186.0   \n",
       "2  aad-van-den-hoek  Aad van den Hoek      1951.0    77.0   186.0   \n",
       "3  aad-van-den-hoek  Aad van den Hoek      1951.0    77.0   186.0   \n",
       "4  aad-van-den-hoek  Aad van den Hoek      1951.0    77.0   186.0   \n",
       "\n",
       "   nationality                           race_url             race_name  \\\n",
       "0  Netherlands           e3-harelbeke/1983/result  E3 Saxo Bank Classic   \n",
       "1  Netherlands      la-fleche-wallone/1981/result    La Fleche Wallonne   \n",
       "2  Netherlands  omloop-het-nieuwsblad/1977/result     Omloop Nieuwsblad   \n",
       "3  Netherlands  omloop-het-nieuwsblad/1978/result     Omloop Nieuwsblad   \n",
       "4  Netherlands  omloop-het-nieuwsblad/1983/result     Omloop Nieuwsblad   \n",
       "\n",
       "   points  uci_points  ...  profile  startlist_quality       date  position  \\\n",
       "0   125.0         NaN  ...      NaN                194 1983-03-26        20   \n",
       "1   225.0         NaN  ...      NaN               1294 1981-04-15       106   \n",
       "2   125.0         NaN  ...      NaN                595 1977-03-05        37   \n",
       "3   125.0         NaN  ...      NaN                493 1978-03-04        26   \n",
       "4   125.0         NaN  ...      NaN                756 1983-03-05        71   \n",
       "\n",
       "  cyclist_age  mostly_tarmac  cyclist_team  delta race_year  race_stage  \n",
       "0        32.0          False           NaN  117.0      1983      result  \n",
       "1        30.0          False           NaN   25.0      1981      result  \n",
       "2        26.0          False           NaN  565.0      1977      result  \n",
       "3        27.0          False           NaN  240.0      1978      result  \n",
       "4        32.0          False           NaN  370.0      1983      result  \n",
       "\n",
       "[5 rows x 22 columns]"
      ]
     },
     "execution_count": 48,
     "metadata": {},
     "output_type": "execute_result"
    }
   ],
   "source": [
    "# Create union of two datasets, merging them considering the url of the cyclist\n",
    "merged_dataset = pd.merge(cyclists_dataset, races_dataset, left_on='_url', right_on='cyclist', how='inner')\n",
    "\n",
    "# Modify name column of the cyclist url in 'cyclist_url', and name column of the race url in 'race_url'\n",
    "merged_dataset = merged_dataset.rename(columns={'_url_x': 'cyclist_url', '_url_y': 'race_url'})\n",
    "# Modify name column of the cyclist name in 'cyclist_name', and name column of the race name in 'race_name'\n",
    "merged_dataset = merged_dataset.rename(columns={'name_x': 'cyclist_name', 'name_y': 'race_name'})\n",
    "\n",
    "# Rename year and stage columns (race_year and race_stage)\n",
    "merged_dataset = merged_dataset.rename(columns={'year': 'race_year', 'stage': 'race_stage'})\n",
    "\n",
    "# Drom 'cyclist' column\n",
    "merged_dataset = merged_dataset.drop(columns=['cyclist'])\n",
    "\n",
    "merged_dataset.head()"
   ]
  },
  {
   "cell_type": "code",
   "execution_count": 49,
   "metadata": {},
   "outputs": [
    {
     "name": "stdout",
     "output_type": "stream",
     "text": [
      "<class 'pandas.core.frame.DataFrame'>\n",
      "RangeIndex: 589739 entries, 0 to 589738\n",
      "Data columns (total 22 columns):\n",
      " #   Column             Non-Null Count   Dtype         \n",
      "---  ------             --------------   -----         \n",
      " 0   cyclist_url        589739 non-null  object        \n",
      " 1   cyclist_name       589739 non-null  object        \n",
      " 2   birth_year         589739 non-null  float64       \n",
      " 3   weight             480007 non-null  float64       \n",
      " 4   height             480007 non-null  float64       \n",
      " 5   nationality        589739 non-null  object        \n",
      " 6   race_url           589739 non-null  object        \n",
      " 7   race_name          589739 non-null  object        \n",
      " 8   points             589739 non-null  float64       \n",
      " 9   uci_points         422184 non-null  float64       \n",
      " 10  length             589739 non-null  float64       \n",
      " 11  climb_total        475338 non-null  float64       \n",
      " 12  profile            475338 non-null  float64       \n",
      " 13  startlist_quality  589739 non-null  int64         \n",
      " 14  date               589739 non-null  datetime64[ns]\n",
      " 15  position           589739 non-null  int64         \n",
      " 16  cyclist_age        589626 non-null  float64       \n",
      " 17  mostly_tarmac      589739 non-null  bool          \n",
      " 18  cyclist_team       451105 non-null  object        \n",
      " 19  delta              589739 non-null  float64       \n",
      " 20  race_year          589739 non-null  int32         \n",
      " 21  race_stage         589739 non-null  object        \n",
      "dtypes: bool(1), datetime64[ns](1), float64(10), int32(1), int64(2), object(7)\n",
      "memory usage: 92.8+ MB\n"
     ]
    }
   ],
   "source": [
    "merged_dataset.info()"
   ]
  },
  {
   "cell_type": "markdown",
   "metadata": {},
   "source": [
    "### Imputation"
   ]
  },
  {
   "cell_type": "code",
   "execution_count": 50,
   "metadata": {},
   "outputs": [
    {
     "data": {
      "text/plain": [
       "cyclist_url               0\n",
       "cyclist_name              0\n",
       "birth_year                0\n",
       "weight               109732\n",
       "height               109732\n",
       "nationality               0\n",
       "race_url                  0\n",
       "race_name                 0\n",
       "points                    0\n",
       "uci_points           167555\n",
       "length                    0\n",
       "climb_total          114401\n",
       "profile              114401\n",
       "startlist_quality         0\n",
       "date                      0\n",
       "position                  0\n",
       "cyclist_age             113\n",
       "mostly_tarmac             0\n",
       "cyclist_team         138634\n",
       "delta                     0\n",
       "race_year                 0\n",
       "race_stage                0\n",
       "dtype: int64"
      ]
     },
     "execution_count": 50,
     "metadata": {},
     "output_type": "execute_result"
    }
   ],
   "source": [
    "merged_dataset.isnull().sum() # check number of missing values"
   ]
  },
  {
   "cell_type": "markdown",
   "metadata": {},
   "source": [
    "#### Imputation of cyclist age\n",
    "\n",
    "Dato l'anno di nascita che abbiamo imputato precedentemente, ora possiamo imputare anche l'età dei ciclisti nelle gare dove non era presente."
   ]
  },
  {
   "cell_type": "code",
   "execution_count": 51,
   "metadata": {},
   "outputs": [],
   "source": [
    "# Extract the year from the date \n",
    "merged_dataset['race_year'] = merged_dataset['date'].dt.year\n",
    "\n",
    "# Imputa la cyclist_age per le righe in cui è null e birth_year non è null\n",
    "# Imputation of the cyclist_age for rows where it is null and birth_year is not null\n",
    "merged_dataset['cyclist_age'] = merged_dataset.apply(\n",
    "    lambda row: row['race_year'] - row['birth_year'] \n",
    "                if pd.isnull(row['cyclist_age']) and pd.notnull(row['birth_year'])\n",
    "                else row['cyclist_age'],\n",
    "    axis=1\n",
    ")"
   ]
  },
  {
   "cell_type": "code",
   "execution_count": 52,
   "metadata": {},
   "outputs": [
    {
     "data": {
      "text/plain": [
       "np.int64(0)"
      ]
     },
     "execution_count": 52,
     "metadata": {},
     "output_type": "execute_result"
    }
   ],
   "source": [
    "merged_dataset['cyclist_age'].isnull().sum() # check if missing values are filled correctly"
   ]
  },
  {
   "cell_type": "code",
   "execution_count": 53,
   "metadata": {},
   "outputs": [],
   "source": [
    "# Order merged dataset by '_url_race'\n",
    "merged_dataset = merged_dataset.sort_values(by=['race_url', 'position'])"
   ]
  },
  {
   "cell_type": "markdown",
   "metadata": {},
   "source": [
    "## New Datasets Creation\n",
    "\n",
    "Ora, dopo aver pulito i nostri dati, possiamo creare vari dataset da sfruttare in varie analisi."
   ]
  },
  {
   "cell_type": "code",
   "execution_count": 54,
   "metadata": {},
   "outputs": [],
   "source": [
    "merged_dataset['birth_year'] = merged_dataset['birth_year'].astype(int)\n",
    "merged_dataset['climb_total'] = merged_dataset['climb_total'].astype('Int64')\n",
    "merged_dataset['profile'] = merged_dataset['profile'].astype('category')\n",
    "merged_dataset['cyclist_age'] = merged_dataset['cyclist_age'].astype(int)"
   ]
  },
  {
   "cell_type": "code",
   "execution_count": 55,
   "metadata": {},
   "outputs": [
    {
     "name": "stdout",
     "output_type": "stream",
     "text": [
      "<class 'pandas.core.frame.DataFrame'>\n",
      "Index: 589739 entries, 193847 to 98948\n",
      "Data columns (total 22 columns):\n",
      " #   Column             Non-Null Count   Dtype         \n",
      "---  ------             --------------   -----         \n",
      " 0   cyclist_url        589739 non-null  object        \n",
      " 1   cyclist_name       589739 non-null  object        \n",
      " 2   birth_year         589739 non-null  int64         \n",
      " 3   weight             480007 non-null  float64       \n",
      " 4   height             480007 non-null  float64       \n",
      " 5   nationality        589739 non-null  object        \n",
      " 6   race_url           589739 non-null  object        \n",
      " 7   race_name          589739 non-null  object        \n",
      " 8   points             589739 non-null  float64       \n",
      " 9   uci_points         422184 non-null  float64       \n",
      " 10  length             589739 non-null  float64       \n",
      " 11  climb_total        475338 non-null  Int64         \n",
      " 12  profile            475338 non-null  category      \n",
      " 13  startlist_quality  589739 non-null  int64         \n",
      " 14  date               589739 non-null  datetime64[ns]\n",
      " 15  position           589739 non-null  int64         \n",
      " 16  cyclist_age        589739 non-null  int64         \n",
      " 17  mostly_tarmac      589739 non-null  bool          \n",
      " 18  cyclist_team       451105 non-null  object        \n",
      " 19  delta              589739 non-null  float64       \n",
      " 20  race_year          589739 non-null  int32         \n",
      " 21  race_stage         589739 non-null  object        \n",
      "dtypes: Int64(1), bool(1), category(1), datetime64[ns](1), float64(6), int32(1), int64(4), object(7)\n",
      "memory usage: 93.9+ MB\n"
     ]
    }
   ],
   "source": [
    "merged_dataset.info()"
   ]
  },
  {
   "cell_type": "code",
   "execution_count": 56,
   "metadata": {},
   "outputs": [
    {
     "data": {
      "text/plain": [
       "cyclist_url               0\n",
       "cyclist_name              0\n",
       "birth_year                0\n",
       "weight               109732\n",
       "height               109732\n",
       "nationality               0\n",
       "race_url                  0\n",
       "race_name                 0\n",
       "points                    0\n",
       "uci_points           167555\n",
       "length                    0\n",
       "climb_total          114401\n",
       "profile              114401\n",
       "startlist_quality         0\n",
       "date                      0\n",
       "position                  0\n",
       "cyclist_age               0\n",
       "mostly_tarmac             0\n",
       "cyclist_team         138634\n",
       "delta                     0\n",
       "race_year                 0\n",
       "race_stage                0\n",
       "dtype: int64"
      ]
     },
     "execution_count": 56,
     "metadata": {},
     "output_type": "execute_result"
    }
   ],
   "source": [
    "# Create csv file with the merged dataset\n",
    "merged_dataset.to_csv('../data/cleaned_merged_dataset.csv', index=False)\n",
    "\n",
    "merged_dataset.isnull().sum() # check number of missing values"
   ]
  },
  {
   "cell_type": "code",
   "execution_count": 57,
   "metadata": {},
   "outputs": [
    {
     "data": {
      "text/plain": [
       "cyclist_url          0\n",
       "cyclist_name         0\n",
       "birth_year           0\n",
       "nationality          0\n",
       "race_url             0\n",
       "race_name            0\n",
       "points               0\n",
       "length               0\n",
       "startlist_quality    0\n",
       "date                 0\n",
       "position             0\n",
       "cyclist_age          0\n",
       "mostly_tarmac        0\n",
       "delta                0\n",
       "race_year            0\n",
       "race_stage           0\n",
       "dtype: int64"
      ]
     },
     "execution_count": 57,
     "metadata": {},
     "output_type": "execute_result"
    }
   ],
   "source": [
    "# Create dataset with no columns containing missing values (no weights, heights, climb_total, profile, cyclist_team)\n",
    "cleaned_dataset_by_column = merged_dataset.drop(columns=['weight', 'height', 'uci_points', 'climb_total', 'profile', 'cyclist_team'])\n",
    "# Create csv file with the cleaned dataset\n",
    "cleaned_dataset_by_column.to_csv('../data/cleaned_dataset_by_column.csv', index=False)\n",
    "\n",
    "cleaned_dataset_by_column.isnull().sum() # check number of missing values"
   ]
  },
  {
   "cell_type": "code",
   "execution_count": 58,
   "metadata": {},
   "outputs": [
    {
     "data": {
      "text/plain": [
       "cyclist_url          0\n",
       "cyclist_name         0\n",
       "birth_year           0\n",
       "weight               0\n",
       "height               0\n",
       "nationality          0\n",
       "race_url             0\n",
       "race_name            0\n",
       "points               0\n",
       "uci_points           0\n",
       "length               0\n",
       "climb_total          0\n",
       "profile              0\n",
       "startlist_quality    0\n",
       "date                 0\n",
       "position             0\n",
       "cyclist_age          0\n",
       "mostly_tarmac        0\n",
       "cyclist_team         0\n",
       "delta                0\n",
       "race_year            0\n",
       "race_stage           0\n",
       "dtype: int64"
      ]
     },
     "execution_count": 58,
     "metadata": {},
     "output_type": "execute_result"
    }
   ],
   "source": [
    "# Create dataset with no rows containing missing values\n",
    "cleaned_dataset_by_row = merged_dataset.dropna()\n",
    "# Create csv file with the cleaned dataset\n",
    "cleaned_dataset_by_row.to_csv('../data/cleaned_dataset_by_row.csv', index=False)\n",
    "\n",
    "cleaned_dataset_by_row.isnull().sum() # check number of missing values"
   ]
  },
  {
   "cell_type": "code",
   "execution_count": 59,
   "metadata": {},
   "outputs": [
    {
     "data": {
      "text/plain": [
       "_url              0\n",
       "name              0\n",
       "birth_year        0\n",
       "weight         2984\n",
       "height         2984\n",
       "nationality       0\n",
       "dtype: int64"
      ]
     },
     "execution_count": 59,
     "metadata": {},
     "output_type": "execute_result"
    }
   ],
   "source": [
    "# Create csv file with the merged dataset\n",
    "cyclists_dataset.to_csv('../data/cleaned_cyclists_dataset.csv', index=False)\n",
    "\n",
    "cyclists_dataset.isnull().sum() # check number of missing values"
   ]
  }
 ],
 "metadata": {
  "kernelspec": {
   "display_name": "dm_env",
   "language": "python",
   "name": "python3"
  },
  "language_info": {
   "codemirror_mode": {
    "name": "ipython",
    "version": 3
   },
   "file_extension": ".py",
   "mimetype": "text/x-python",
   "name": "python",
   "nbconvert_exporter": "python",
   "pygments_lexer": "ipython3",
   "version": "3.12.2"
  }
 },
 "nbformat": 4,
 "nbformat_minor": 2
}

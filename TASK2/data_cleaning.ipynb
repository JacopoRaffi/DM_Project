{
 "cells": [
  {
   "cell_type": "markdown",
   "metadata": {},
   "source": [
    "# Data Cleaning"
   ]
  },
  {
   "cell_type": "code",
   "execution_count": 206,
   "metadata": {},
   "outputs": [
    {
     "name": "stdout",
     "output_type": "stream",
     "text": [
      "The autoreload extension is already loaded. To reload it, use:\n",
      "  %reload_ext autoreload\n"
     ]
    }
   ],
   "source": [
    "# Autoreload allows the notebook to dynamically load code: if we update some helper functions *outside* of the notebook, we do not need to reload the notebook.\n",
    "%load_ext autoreload\n",
    "%autoreload 2"
   ]
  },
  {
   "cell_type": "code",
   "execution_count": 207,
   "metadata": {},
   "outputs": [],
   "source": [
    "import pandas as pd\n",
    "import numpy as np\n",
    "\n",
    "import seaborn as sb\n",
    "import matplotlib.pyplot as plt\n",
    "\n",
    "import random\n",
    "import math\n",
    "\n",
    "from sklearn.linear_model import LinearRegression\n",
    "from scipy.stats import norm"
   ]
  },
  {
   "cell_type": "markdown",
   "metadata": {},
   "source": [
    "Create dataset from the union of the cyclists and the races data "
   ]
  },
  {
   "cell_type": "markdown",
   "metadata": {},
   "source": [
    "## Cyclists"
   ]
  },
  {
   "cell_type": "code",
   "execution_count": 208,
   "metadata": {},
   "outputs": [
    {
     "data": {
      "text/html": [
       "<div>\n",
       "<style scoped>\n",
       "    .dataframe tbody tr th:only-of-type {\n",
       "        vertical-align: middle;\n",
       "    }\n",
       "\n",
       "    .dataframe tbody tr th {\n",
       "        vertical-align: top;\n",
       "    }\n",
       "\n",
       "    .dataframe thead th {\n",
       "        text-align: right;\n",
       "    }\n",
       "</style>\n",
       "<table border=\"1\" class=\"dataframe\">\n",
       "  <thead>\n",
       "    <tr style=\"text-align: right;\">\n",
       "      <th></th>\n",
       "      <th>_url</th>\n",
       "      <th>name</th>\n",
       "      <th>birth_year</th>\n",
       "      <th>weight</th>\n",
       "      <th>height</th>\n",
       "      <th>nationality</th>\n",
       "    </tr>\n",
       "  </thead>\n",
       "  <tbody>\n",
       "    <tr>\n",
       "      <th>0</th>\n",
       "      <td>bruno-surra</td>\n",
       "      <td>Bruno  Surra</td>\n",
       "      <td>1964.0</td>\n",
       "      <td>NaN</td>\n",
       "      <td>NaN</td>\n",
       "      <td>Italy</td>\n",
       "    </tr>\n",
       "    <tr>\n",
       "      <th>1</th>\n",
       "      <td>gerard-rue</td>\n",
       "      <td>Gérard  Rué</td>\n",
       "      <td>1965.0</td>\n",
       "      <td>74.0</td>\n",
       "      <td>182.0</td>\n",
       "      <td>France</td>\n",
       "    </tr>\n",
       "    <tr>\n",
       "      <th>2</th>\n",
       "      <td>jan-maas</td>\n",
       "      <td>Jan  Maas</td>\n",
       "      <td>1996.0</td>\n",
       "      <td>69.0</td>\n",
       "      <td>189.0</td>\n",
       "      <td>Netherlands</td>\n",
       "    </tr>\n",
       "    <tr>\n",
       "      <th>3</th>\n",
       "      <td>nathan-van-hooydonck</td>\n",
       "      <td>Nathan Van Hooydonck</td>\n",
       "      <td>1995.0</td>\n",
       "      <td>78.0</td>\n",
       "      <td>192.0</td>\n",
       "      <td>Belgium</td>\n",
       "    </tr>\n",
       "    <tr>\n",
       "      <th>4</th>\n",
       "      <td>jose-felix-parra</td>\n",
       "      <td>José Félix  Parra</td>\n",
       "      <td>1997.0</td>\n",
       "      <td>55.0</td>\n",
       "      <td>171.0</td>\n",
       "      <td>Spain</td>\n",
       "    </tr>\n",
       "  </tbody>\n",
       "</table>\n",
       "</div>"
      ],
      "text/plain": [
       "                   _url                  name  birth_year  weight  height  \\\n",
       "0           bruno-surra          Bruno  Surra      1964.0     NaN     NaN   \n",
       "1            gerard-rue           Gérard  Rué      1965.0    74.0   182.0   \n",
       "2              jan-maas             Jan  Maas      1996.0    69.0   189.0   \n",
       "3  nathan-van-hooydonck  Nathan Van Hooydonck      1995.0    78.0   192.0   \n",
       "4      jose-felix-parra     José Félix  Parra      1997.0    55.0   171.0   \n",
       "\n",
       "   nationality  \n",
       "0        Italy  \n",
       "1       France  \n",
       "2  Netherlands  \n",
       "3      Belgium  \n",
       "4        Spain  "
      ]
     },
     "execution_count": 208,
     "metadata": {},
     "output_type": "execute_result"
    }
   ],
   "source": [
    "csv_file = \"../data/cyclists.csv\"\n",
    "cyclists_dataset = pd.read_csv(csv_file)\n",
    "cyclists_dataset.head()"
   ]
  },
  {
   "cell_type": "code",
   "execution_count": 209,
   "metadata": {},
   "outputs": [
    {
     "name": "stdout",
     "output_type": "stream",
     "text": [
      "<class 'pandas.core.frame.DataFrame'>\n",
      "RangeIndex: 6134 entries, 0 to 6133\n",
      "Data columns (total 6 columns):\n",
      " #   Column       Non-Null Count  Dtype  \n",
      "---  ------       --------------  -----  \n",
      " 0   _url         6134 non-null   object \n",
      " 1   name         6134 non-null   object \n",
      " 2   birth_year   6121 non-null   float64\n",
      " 3   weight       3078 non-null   float64\n",
      " 4   height       3143 non-null   float64\n",
      " 5   nationality  6133 non-null   object \n",
      "dtypes: float64(3), object(3)\n",
      "memory usage: 287.7+ KB\n"
     ]
    }
   ],
   "source": [
    "cyclists_dataset.info()"
   ]
  },
  {
   "cell_type": "markdown",
   "metadata": {},
   "source": [
    "### Modify columns\n",
    "\n",
    "Before cleaning the races dataset, we redefine the dataframe with the new types."
   ]
  },
  {
   "cell_type": "code",
   "execution_count": 210,
   "metadata": {},
   "outputs": [],
   "source": [
    "cyclists_dataset['birth_year'] = cyclists_dataset[cyclists_dataset['birth_year'].notnull()]['birth_year'].astype(int)"
   ]
  },
  {
   "cell_type": "markdown",
   "metadata": {},
   "source": [
    "### Imputation"
   ]
  },
  {
   "cell_type": "code",
   "execution_count": 211,
   "metadata": {},
   "outputs": [
    {
     "data": {
      "text/plain": [
       "_url              0\n",
       "name              0\n",
       "birth_year       13\n",
       "weight         3056\n",
       "height         2991\n",
       "nationality       1\n",
       "dtype: int64"
      ]
     },
     "execution_count": 211,
     "metadata": {},
     "output_type": "execute_result"
    }
   ],
   "source": [
    "cyclists_dataset.isnull().sum() # check number of missing values"
   ]
  },
  {
   "cell_type": "markdown",
   "metadata": {},
   "source": [
    "#### Imputation Birth Year and Nationality null values\n",
    "Per l'anno di nascita e la nazionalità mancanti, abbiamo cercato di recuperare più dati possibile manualmente attraverso ricerce online."
   ]
  },
  {
   "cell_type": "code",
   "execution_count": 212,
   "metadata": {},
   "outputs": [
    {
     "data": {
      "text/plain": [
       "9             scott-davies\n",
       "601       vladimir-malakov\n",
       "894         antonio-zanini\n",
       "2408     filippo-simonetti\n",
       "2515         carlos-garcia\n",
       "2536       alexandr-osipov\n",
       "3046      nicolai-kosyakov\n",
       "3551            nevens-guy\n",
       "4142           oscar-pumar\n",
       "4384         javier-luquin\n",
       "4756        thierry-lauder\n",
       "6072    sergei-jermachenko\n",
       "6080       batik-odriozola\n",
       "Name: _url, dtype: object"
      ]
     },
     "execution_count": 212,
     "metadata": {},
     "output_type": "execute_result"
    }
   ],
   "source": [
    "# Show urls of the cyclists with 'birth_year' missing values\n",
    "cyclists_dataset[cyclists_dataset['birth_year'].isnull()]['_url']"
   ]
  },
  {
   "cell_type": "markdown",
   "metadata": {},
   "source": [
    "Per gli anni di nascita trovati, abbiamo fatto una imputazione manuale del valore ottenuto nella feature 'birth_year' corrispondente"
   ]
  },
  {
   "cell_type": "code",
   "execution_count": 213,
   "metadata": {},
   "outputs": [],
   "source": [
    "cyclists_dataset.loc[cyclists_dataset['_url'] == 'scott-davies', 'birth_year'] = 1995\n",
    "cyclists_dataset.loc[cyclists_dataset['_url'] == 'vladimir-malakov', 'birth_year'] = 1958\n",
    "cyclists_dataset.loc[cyclists_dataset['_url'] == 'antonio-zanini', 'birth_year'] = 1965\n",
    "cyclists_dataset.loc[cyclists_dataset['_url'] == 'nevens-guy', 'birth_year'] = 1962\n",
    "cyclists_dataset.loc[cyclists_dataset['_url'] == 'sergei-jermachenko', 'birth_year'] = 1956 "
   ]
  },
  {
   "cell_type": "markdown",
   "metadata": {},
   "source": [
    "Ragionamento simile fatto anche per la nazionalità. L'unica mancante apparteneva al ciclista Scott Davies."
   ]
  },
  {
   "cell_type": "code",
   "execution_count": 214,
   "metadata": {},
   "outputs": [],
   "source": [
    "cyclists_dataset.loc[cyclists_dataset['_url'] == 'scott-davies', 'nationality'] = 'Great Britain'"
   ]
  },
  {
   "cell_type": "markdown",
   "metadata": {},
   "source": [
    "Per i restanti anni di nascita, è stata sfruttata la moda"
   ]
  },
  {
   "cell_type": "code",
   "execution_count": 215,
   "metadata": {},
   "outputs": [],
   "source": [
    "cyclists_dataset['birth_year'] = cyclists_dataset['birth_year'].fillna(cyclists_dataset['birth_year'].mode()[0]) # substitue 8 remaining elements with mode"
   ]
  },
  {
   "cell_type": "code",
   "execution_count": 216,
   "metadata": {},
   "outputs": [
    {
     "data": {
      "text/plain": [
       "_url              0\n",
       "name              0\n",
       "birth_year        0\n",
       "weight         3056\n",
       "height         2991\n",
       "nationality       0\n",
       "dtype: int64"
      ]
     },
     "execution_count": 216,
     "metadata": {},
     "output_type": "execute_result"
    }
   ],
   "source": [
    "cyclists_dataset.isnull().sum() # check if missing values are filled correctly"
   ]
  },
  {
   "cell_type": "markdown",
   "metadata": {},
   "source": [
    "#### Imputation Weight and Height null values\n",
    "\n",
    "Sapendo che altezza e peso sono altamente correlati, si può sfruttare il peso per trovare l'altezza, e l'altezza per trovare il peso."
   ]
  },
  {
   "cell_type": "code",
   "execution_count": 217,
   "metadata": {},
   "outputs": [
    {
     "name": "stdout",
     "output_type": "stream",
     "text": [
      "Cyclists where we have only the height: 72\n",
      "Cyclists where we have only the weight: 7\n"
     ]
    }
   ],
   "source": [
    "# Filter rows where 'weight' is null and 'height' is not null\n",
    "missing_weight_with_height = cyclists_dataset[cyclists_dataset['weight'].isnull() & cyclists_dataset['height'].notnull()]\n",
    "print(\"Cyclists where we have only the height:\", len(missing_weight_with_height))\n",
    "\n",
    "# Filter rows where 'weight' is not null and 'height' is null\n",
    "missing_height_with_weight = cyclists_dataset[cyclists_dataset['weight'].notnull() & cyclists_dataset['height'].isnull()]\n",
    "print(\"Cyclists where we have only the weight:\", len(missing_height_with_weight))\n"
   ]
  },
  {
   "cell_type": "markdown",
   "metadata": {},
   "source": [
    "Per questa imputazione, abbiamo pensato a due possibili metodi. Uno è quello di creare un piccolo modello di regressione lineare, un'altro è quello di basarsi sulla media delle distribuzioni suddivise in vari bins."
   ]
  },
  {
   "cell_type": "code",
   "execution_count": 218,
   "metadata": {},
   "outputs": [
    {
     "data": {
      "text/plain": [
       "_url              0\n",
       "name              0\n",
       "birth_year        0\n",
       "weight         2984\n",
       "height         2984\n",
       "nationality       0\n",
       "dtype: int64"
      ]
     },
     "execution_count": 218,
     "metadata": {},
     "output_type": "execute_result"
    }
   ],
   "source": [
    "def linear_regression_imputation():\n",
    "    # Filtra il dataset per ciclisti con peso e altezza presenti\n",
    "    available_data = cyclists_dataset.dropna(subset=['weight', 'height'])\n",
    "\n",
    "    # Modello di regressione per stimare il peso in base all'altezza\n",
    "    model_weight = LinearRegression()\n",
    "    model_weight.fit(available_data[['height']], available_data['weight'])\n",
    "\n",
    "    # Calcolo dei residui per il modello peso-altezza\n",
    "    weight_predicted = model_weight.predict(available_data[['height']])\n",
    "    weight_residuals = available_data['weight'] - weight_predicted\n",
    "\n",
    "    # Modello di regressione per stimare l'altezza in base al peso\n",
    "    model_height = LinearRegression()\n",
    "    model_height.fit(available_data[['weight']], available_data['height'])\n",
    "\n",
    "    # Calcolo dei residui per il modello altezza-peso\n",
    "    height_predicted = model_height.predict(available_data[['weight']])\n",
    "    height_residuals = available_data['height'] - height_predicted\n",
    "\n",
    "    # Funzione per imputare il peso basato sull'altezza\n",
    "    def impute_weight(height):\n",
    "        height_df = pd.DataFrame([[height]], columns=['height'])\n",
    "        predicted_weight = model_weight.predict(height_df)[0]\n",
    "        imputed_weight = predicted_weight + np.random.choice(weight_residuals)\n",
    "        return imputed_weight\n",
    "\n",
    "    # Funzione per imputare l'altezza basata sul peso\n",
    "    def impute_height(weight):\n",
    "        weight_df = pd.DataFrame([[weight]], columns=['weight'])\n",
    "        predicted_height = model_height.predict(weight_df)[0]\n",
    "        imputed_height = predicted_height + np.random.choice(height_residuals)\n",
    "        return imputed_height\n",
    "\n",
    "    # Crea una copia del dataset per l'imputazione\n",
    "    imputed_dataset = cyclists_dataset.copy()\n",
    "\n",
    "    # Applica l'imputazione alla copia del dataset per i ciclisti con altezza disponibile ma peso mancante\n",
    "    imputed_dataset.loc[imputed_dataset['weight'].isnull() & imputed_dataset['height'].notnull(), 'weight'] = \\\n",
    "        imputed_dataset.loc[imputed_dataset['weight'].isnull() & imputed_dataset['height'].notnull(), 'height'].apply(impute_weight)\n",
    "\n",
    "    # Applica l'imputazione alla copia del dataset per i ciclisti con peso disponibile ma altezza mancante\n",
    "    imputed_dataset.loc[imputed_dataset['height'].isnull() & imputed_dataset['weight'].notnull(), 'height'] = \\\n",
    "        imputed_dataset.loc[imputed_dataset['height'].isnull() & imputed_dataset['weight'].notnull(), 'weight'].apply(impute_height)\n",
    "\n",
    "    return imputed_dataset\n",
    "\n",
    "imputed_dataset_lr = linear_regression_imputation()\n",
    "imputed_dataset_lr.isnull().sum() # check if missing values are filled correctly"
   ]
  },
  {
   "cell_type": "code",
   "execution_count": 219,
   "metadata": {},
   "outputs": [
    {
     "name": "stderr",
     "output_type": "stream",
     "text": [
      "/var/folders/6w/jr75hz4j1mnfxpxpb_7px5b40000gn/T/ipykernel_4978/1790857216.py:11: FutureWarning: The default of observed=False is deprecated and will be changed to True in a future version of pandas. Pass observed=False to retain current behavior or observed=True to adopt the future default and silence this warning.\n",
      "  height_weight_means = imputed_dataset.groupby('height_bin')['weight'].mean()\n",
      "/var/folders/6w/jr75hz4j1mnfxpxpb_7px5b40000gn/T/ipykernel_4978/1790857216.py:14: FutureWarning: The default of observed=False is deprecated and will be changed to True in a future version of pandas. Pass observed=False to retain current behavior or observed=True to adopt the future default and silence this warning.\n",
      "  weight_height_means = imputed_dataset.groupby('weight_bin')['height'].mean()\n"
     ]
    },
    {
     "data": {
      "text/plain": [
       "_url              0\n",
       "name              0\n",
       "birth_year        0\n",
       "weight         2984\n",
       "height         2984\n",
       "nationality       0\n",
       "dtype: int64"
      ]
     },
     "execution_count": 219,
     "metadata": {},
     "output_type": "execute_result"
    }
   ],
   "source": [
    "def bins_imputation():\n",
    "    # Creare una copia del dataset originale per l'imputazione\n",
    "    imputed_dataset = cyclists_dataset.copy()\n",
    "\n",
    "    # Creare intervalli per altezza e peso (ad esempio per decili o range)\n",
    "    # Qui useremo i decili per distribuire altezza e peso in intervalli\n",
    "    imputed_dataset['height_bin'] = pd.qcut(imputed_dataset['height'], q=10)  # Decili per l'altezza\n",
    "    imputed_dataset['weight_bin'] = pd.qcut(imputed_dataset['weight'], q=10)  # Decili per il peso\n",
    "\n",
    "    # Calcolare la media del peso per ogni intervallo di altezza\n",
    "    height_weight_means = imputed_dataset.groupby('height_bin')['weight'].mean()\n",
    "\n",
    "    # Calcolare la media dell'altezza per ogni intervallo di peso\n",
    "    weight_height_means = imputed_dataset.groupby('weight_bin')['height'].mean()\n",
    "\n",
    "    # Funzione per imputare il peso in base all'intervallo di altezza\n",
    "    def impute_weight_simple(row):\n",
    "        if pd.isnull(row['weight']) and pd.notnull(row['height']):\n",
    "            # Cerca il peso medio corrispondente all'intervallo di altezza\n",
    "            return height_weight_means[row['height_bin']]\n",
    "        return row['weight']\n",
    "\n",
    "    # Funzione per imputare l'altezza in base all'intervallo di peso\n",
    "    def impute_height_simple(row):\n",
    "        if pd.isnull(row['height']) and pd.notnull(row['weight']):\n",
    "            # Cerca l'altezza media corrispondente all'intervallo di peso\n",
    "            return weight_height_means[row['weight_bin']]\n",
    "        return row['height']\n",
    "\n",
    "    # Applicare le funzioni di imputazione sulla copia del dataset\n",
    "    imputed_dataset['weight'] = imputed_dataset.apply(impute_weight_simple, axis=1)\n",
    "    imputed_dataset['height'] = imputed_dataset.apply(impute_height_simple, axis=1)\n",
    "\n",
    "    # Rimuovere le colonne di supporto usate per l'imputazione\n",
    "    imputed_dataset.drop(columns=['height_bin', 'weight_bin'], inplace=True)\n",
    "\n",
    "    return imputed_dataset\n",
    "\n",
    "imputed_dataset_bins = bins_imputation()\n",
    "imputed_dataset_bins.isnull().sum() # check if missing values are filled correctly"
   ]
  },
  {
   "cell_type": "code",
   "execution_count": 220,
   "metadata": {},
   "outputs": [
    {
     "data": {
      "image/png": "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",
      "text/plain": [
       "<Figure size 1500x1000 with 6 Axes>"
      ]
     },
     "metadata": {},
     "output_type": "display_data"
    }
   ],
   "source": [
    "# Calcola il numero di bin per l'istogramma\n",
    "n_bins = math.ceil(math.log2(len(cyclists_dataset)) + 1)\n",
    "\n",
    "# Crea una griglia 2x3 per i grafici\n",
    "fig, axes = plt.subplots(2, 3, figsize=(15, 10))\n",
    "\n",
    "\n",
    "# Peso prima dell'imputazione\n",
    "sb.histplot(data=cyclists_dataset, x=\"weight\", bins=n_bins, ax=axes[0, 0])\n",
    "axes[0, 0].set_title(\"Weight Before Imputation\")\n",
    "\n",
    "# Peso dopo l'imputazione (regressione lineare)\n",
    "sb.histplot(data=imputed_dataset_lr, x=\"weight\", bins=n_bins, ax=axes[0, 1])\n",
    "axes[0, 1].set_title(\"Weight After Imputation (Linear Regression)\")\n",
    "\n",
    "# Peso dopo l'imputazione (binning)\n",
    "sb.histplot(data=imputed_dataset_bins, x=\"weight\", bins=n_bins, ax=axes[0, 2])\n",
    "axes[0, 2].set_title(\"Weight After Imputation (Binning)\")\n",
    "\n",
    "\n",
    "# Altezza prima dell'imputazione\n",
    "sb.histplot(data=cyclists_dataset, x=\"height\", bins=n_bins, ax=axes[1, 0])\n",
    "axes[1, 0].set_title(\"Height Before Imputation\")\n",
    "\n",
    "# Altezza dopo l'imputazione (regressione lineare)\n",
    "sb.histplot(data=imputed_dataset_lr, x=\"height\", bins=n_bins, ax=axes[1, 1])\n",
    "axes[1, 1].set_title(\"Height After Imputation (Linear Regression)\")\n",
    "\n",
    "# Altezza dopo l'imputazione (binning)\n",
    "sb.histplot(data=imputed_dataset_bins, x=\"height\", bins=n_bins, ax=axes[1, 2])\n",
    "axes[1, 2].set_title(\"Height After Imputation (Binning)\")\n",
    "\n",
    "\n",
    "# Imposta uno stile di layout compatto\n",
    "plt.tight_layout()\n",
    "plt.show()"
   ]
  },
  {
   "cell_type": "markdown",
   "metadata": {},
   "source": [
    "Entrambi i metodi riescono correttamente a imputare i valori di interesse. Inoltre, notiamo dalle distribuzioni che non è presente una grande differenza, ma comunque l'imputazione con il secondo metodo mantiene una distribuzione più coerente con quella iniziale, quindi andremo ad effettuare l'imputazione sfruttando la media nella distribuzione."
   ]
  },
  {
   "cell_type": "code",
   "execution_count": 221,
   "metadata": {},
   "outputs": [
    {
     "name": "stderr",
     "output_type": "stream",
     "text": [
      "/var/folders/6w/jr75hz4j1mnfxpxpb_7px5b40000gn/T/ipykernel_4978/2316527839.py:7: FutureWarning: The default of observed=False is deprecated and will be changed to True in a future version of pandas. Pass observed=False to retain current behavior or observed=True to adopt the future default and silence this warning.\n",
      "  height_weight_means = cyclists_dataset.groupby('height_bin')['weight'].mean()\n",
      "/var/folders/6w/jr75hz4j1mnfxpxpb_7px5b40000gn/T/ipykernel_4978/2316527839.py:10: FutureWarning: The default of observed=False is deprecated and will be changed to True in a future version of pandas. Pass observed=False to retain current behavior or observed=True to adopt the future default and silence this warning.\n",
      "  weight_height_means = cyclists_dataset.groupby('weight_bin')['height'].mean()\n"
     ]
    }
   ],
   "source": [
    "# Creare intervalli per altezza e peso (ad esempio per decili o range)\n",
    "# Qui useremo i decili per distribuire altezza e peso in intervalli\n",
    "cyclists_dataset['height_bin'] = pd.qcut(cyclists_dataset['height'], q=10)  # Decili per l'altezza\n",
    "cyclists_dataset['weight_bin'] = pd.qcut(cyclists_dataset['weight'], q=10)  # Decili per il peso\n",
    "\n",
    "# Calcolare la media del peso per ogni intervallo di altezza\n",
    "height_weight_means = cyclists_dataset.groupby('height_bin')['weight'].mean()\n",
    "\n",
    "# Calcolare la media dell'altezza per ogni intervallo di peso\n",
    "weight_height_means = cyclists_dataset.groupby('weight_bin')['height'].mean()\n",
    "\n",
    "# Funzione per imputare il peso in base all'intervallo di altezza\n",
    "def impute_weight_simple(row):\n",
    "    if pd.isnull(row['weight']) and pd.notnull(row['height']):\n",
    "        # Cerca il peso medio corrispondente all'intervallo di altezza\n",
    "        return height_weight_means[row['height_bin']]\n",
    "    return row['weight']\n",
    "\n",
    "# Funzione per imputare l'altezza in base all'intervallo di peso\n",
    "def impute_height_simple(row):\n",
    "    if pd.isnull(row['height']) and pd.notnull(row['weight']):\n",
    "        # Cerca l'altezza media corrispondente all'intervallo di peso\n",
    "        return weight_height_means[row['weight_bin']]\n",
    "    return row['height']\n",
    "\n",
    "# Applicare le funzioni di imputazione\n",
    "cyclists_dataset['weight'] = cyclists_dataset.apply(impute_weight_simple, axis=1)\n",
    "cyclists_dataset['height'] = cyclists_dataset.apply(impute_height_simple, axis=1)\n",
    "\n",
    "# Rimuovere le colonne di supporto usate per l'imputazione\n",
    "cyclists_dataset.drop(columns=['height_bin', 'weight_bin'], inplace=True)"
   ]
  },
  {
   "cell_type": "code",
   "execution_count": 222,
   "metadata": {},
   "outputs": [
    {
     "data": {
      "text/plain": [
       "_url              0\n",
       "name              0\n",
       "birth_year        0\n",
       "weight         2984\n",
       "height         2984\n",
       "nationality       0\n",
       "dtype: int64"
      ]
     },
     "execution_count": 222,
     "metadata": {},
     "output_type": "execute_result"
    }
   ],
   "source": [
    "cyclists_dataset.isnull().sum() # check number of missing values"
   ]
  },
  {
   "cell_type": "markdown",
   "metadata": {},
   "source": [
    "Per i restanti null values, è nostra intenzione eliminare i record dei ciclisti senza altezza e peso che non sono presenti nelle gare, e questo verrà fatto automaticamente quando a breve andremo ad unire i due dataset.\n",
    "Non eliminiamo tutti i record con peso e altezza nulli perchè potremmo comunque fare delle analisi basandoci sugli altri valori.\n"
   ]
  },
  {
   "cell_type": "markdown",
   "metadata": {},
   "source": [
    "## Races"
   ]
  },
  {
   "cell_type": "code",
<<<<<<< HEAD
   "execution_count": 42,
=======
   "execution_count": 241,
>>>>>>> 7088861e175b3ebe355219a9f3f0f731e3be9e0d
   "metadata": {},
   "outputs": [
    {
     "data": {
      "text/html": [
       "<div>\n",
       "<style scoped>\n",
       "    .dataframe tbody tr th:only-of-type {\n",
       "        vertical-align: middle;\n",
       "    }\n",
       "\n",
       "    .dataframe tbody tr th {\n",
       "        vertical-align: top;\n",
       "    }\n",
       "\n",
       "    .dataframe thead th {\n",
       "        text-align: right;\n",
       "    }\n",
       "</style>\n",
       "<table border=\"1\" class=\"dataframe\">\n",
       "  <thead>\n",
       "    <tr style=\"text-align: right;\">\n",
       "      <th></th>\n",
       "      <th>_url</th>\n",
       "      <th>name</th>\n",
       "      <th>points</th>\n",
       "      <th>uci_points</th>\n",
       "      <th>length</th>\n",
       "      <th>climb_total</th>\n",
       "      <th>profile</th>\n",
       "      <th>startlist_quality</th>\n",
       "      <th>average_temperature</th>\n",
       "      <th>date</th>\n",
       "      <th>position</th>\n",
       "      <th>cyclist</th>\n",
       "      <th>cyclist_age</th>\n",
       "      <th>is_tarmac</th>\n",
       "      <th>is_cobbled</th>\n",
       "      <th>is_gravel</th>\n",
       "      <th>cyclist_team</th>\n",
       "      <th>delta</th>\n",
       "    </tr>\n",
       "  </thead>\n",
       "  <tbody>\n",
       "    <tr>\n",
       "      <th>0</th>\n",
       "      <td>tour-de-france/1978/stage-6</td>\n",
       "      <td>Tour de France</td>\n",
       "      <td>100.0</td>\n",
       "      <td>NaN</td>\n",
       "      <td>162000.0</td>\n",
       "      <td>1101.0</td>\n",
       "      <td>1.0</td>\n",
       "      <td>1241</td>\n",
       "      <td>NaN</td>\n",
       "      <td>1978-07-05 04:02:24</td>\n",
       "      <td>0</td>\n",
       "      <td>sean-kelly</td>\n",
       "      <td>22.0</td>\n",
       "      <td>True</td>\n",
       "      <td>False</td>\n",
       "      <td>False</td>\n",
       "      <td>vini-ricordi-pinarello-sidermec-1986</td>\n",
       "      <td>0.0</td>\n",
       "    </tr>\n",
       "    <tr>\n",
       "      <th>1</th>\n",
       "      <td>tour-de-france/1978/stage-6</td>\n",
       "      <td>Tour de France</td>\n",
       "      <td>100.0</td>\n",
       "      <td>NaN</td>\n",
       "      <td>162000.0</td>\n",
       "      <td>1101.0</td>\n",
       "      <td>1.0</td>\n",
       "      <td>1241</td>\n",
       "      <td>NaN</td>\n",
       "      <td>1978-07-05 04:02:24</td>\n",
       "      <td>1</td>\n",
       "      <td>gerrie-knetemann</td>\n",
       "      <td>27.0</td>\n",
       "      <td>True</td>\n",
       "      <td>False</td>\n",
       "      <td>False</td>\n",
       "      <td>norway-1987</td>\n",
       "      <td>0.0</td>\n",
       "    </tr>\n",
       "    <tr>\n",
       "      <th>2</th>\n",
       "      <td>tour-de-france/1978/stage-6</td>\n",
       "      <td>Tour de France</td>\n",
       "      <td>100.0</td>\n",
       "      <td>NaN</td>\n",
       "      <td>162000.0</td>\n",
       "      <td>1101.0</td>\n",
       "      <td>1.0</td>\n",
       "      <td>1241</td>\n",
       "      <td>NaN</td>\n",
       "      <td>1978-07-05 04:02:24</td>\n",
       "      <td>2</td>\n",
       "      <td>rene-bittinger</td>\n",
       "      <td>24.0</td>\n",
       "      <td>True</td>\n",
       "      <td>False</td>\n",
       "      <td>False</td>\n",
       "      <td>NaN</td>\n",
       "      <td>0.0</td>\n",
       "    </tr>\n",
       "    <tr>\n",
       "      <th>3</th>\n",
       "      <td>tour-de-france/1978/stage-6</td>\n",
       "      <td>Tour de France</td>\n",
       "      <td>100.0</td>\n",
       "      <td>NaN</td>\n",
       "      <td>162000.0</td>\n",
       "      <td>1101.0</td>\n",
       "      <td>1.0</td>\n",
       "      <td>1241</td>\n",
       "      <td>NaN</td>\n",
       "      <td>1978-07-05 04:02:24</td>\n",
       "      <td>3</td>\n",
       "      <td>joseph-bruyere</td>\n",
       "      <td>30.0</td>\n",
       "      <td>True</td>\n",
       "      <td>False</td>\n",
       "      <td>False</td>\n",
       "      <td>navigare-blue-storm-1993</td>\n",
       "      <td>0.0</td>\n",
       "    </tr>\n",
       "    <tr>\n",
       "      <th>4</th>\n",
       "      <td>tour-de-france/1978/stage-6</td>\n",
       "      <td>Tour de France</td>\n",
       "      <td>100.0</td>\n",
       "      <td>NaN</td>\n",
       "      <td>162000.0</td>\n",
       "      <td>1101.0</td>\n",
       "      <td>1.0</td>\n",
       "      <td>1241</td>\n",
       "      <td>NaN</td>\n",
       "      <td>1978-07-05 04:02:24</td>\n",
       "      <td>4</td>\n",
       "      <td>sven-ake-nilsson</td>\n",
       "      <td>27.0</td>\n",
       "      <td>True</td>\n",
       "      <td>False</td>\n",
       "      <td>False</td>\n",
       "      <td>spain-1991</td>\n",
       "      <td>0.0</td>\n",
       "    </tr>\n",
       "  </tbody>\n",
       "</table>\n",
       "</div>"
      ],
      "text/plain": [
       "                          _url            name  points  uci_points    length  \\\n",
       "0  tour-de-france/1978/stage-6  Tour de France   100.0         NaN  162000.0   \n",
       "1  tour-de-france/1978/stage-6  Tour de France   100.0         NaN  162000.0   \n",
       "2  tour-de-france/1978/stage-6  Tour de France   100.0         NaN  162000.0   \n",
       "3  tour-de-france/1978/stage-6  Tour de France   100.0         NaN  162000.0   \n",
       "4  tour-de-france/1978/stage-6  Tour de France   100.0         NaN  162000.0   \n",
       "\n",
       "   climb_total  profile  startlist_quality  average_temperature  \\\n",
       "0       1101.0      1.0               1241                  NaN   \n",
       "1       1101.0      1.0               1241                  NaN   \n",
       "2       1101.0      1.0               1241                  NaN   \n",
       "3       1101.0      1.0               1241                  NaN   \n",
       "4       1101.0      1.0               1241                  NaN   \n",
       "\n",
       "                  date  position           cyclist  cyclist_age  is_tarmac  \\\n",
       "0  1978-07-05 04:02:24         0        sean-kelly         22.0       True   \n",
       "1  1978-07-05 04:02:24         1  gerrie-knetemann         27.0       True   \n",
       "2  1978-07-05 04:02:24         2    rene-bittinger         24.0       True   \n",
       "3  1978-07-05 04:02:24         3    joseph-bruyere         30.0       True   \n",
       "4  1978-07-05 04:02:24         4  sven-ake-nilsson         27.0       True   \n",
       "\n",
       "   is_cobbled  is_gravel                          cyclist_team  delta  \n",
       "0       False      False  vini-ricordi-pinarello-sidermec-1986    0.0  \n",
       "1       False      False                           norway-1987    0.0  \n",
       "2       False      False                                   NaN    0.0  \n",
       "3       False      False              navigare-blue-storm-1993    0.0  \n",
       "4       False      False                            spain-1991    0.0  "
      ]
     },
<<<<<<< HEAD
     "execution_count": 42,
=======
     "execution_count": 241,
>>>>>>> 7088861e175b3ebe355219a9f3f0f731e3be9e0d
     "metadata": {},
     "output_type": "execute_result"
    }
   ],
   "source": [
    "csv_file = \"../data/races.csv\"\n",
    "races_dataset = pd.read_csv(csv_file)\n",
    "races_dataset.head()"
   ]
  },
  {
   "cell_type": "markdown",
   "metadata": {},
   "source": [
    "### Modify columns\n",
    "\n",
    "Before cleaning the races dataset, we redefine the dataframe with the modified columns of date and is_foo"
   ]
  },
  {
   "cell_type": "code",
<<<<<<< HEAD
   "execution_count": 43,
=======
   "execution_count": 242,
>>>>>>> 7088861e175b3ebe355219a9f3f0f731e3be9e0d
   "metadata": {},
   "outputs": [],
   "source": [
    "races_dataset['climb_total'] = races_dataset[races_dataset['climb_total'].notnull()]['climb_total'].astype(int)\n",
    "\n",
    "races_dataset['profile'] = races_dataset['profile'].astype('category')\n",
    "\n",
    "races_dataset['cyclist_age'] = races_dataset[races_dataset['cyclist_age'].notnull()]['cyclist_age'].astype(int)\n",
    "\n",
    "races_dataset['date'] = races_dataset['date'].str.split(' ').str[0]\n",
    "races_dataset['date'] = pd.to_datetime(races_dataset['date'], format='%Y-%m-%d')\n",
    "\n",
    "races_dataset = races_dataset.drop(columns=['is_cobbled', 'is_gravel'])\n",
    "races_dataset = races_dataset.rename(columns={'is_tarmac': 'mostly_tarmac'})\n",
    "\n",
    "races_dataset = races_dataset.drop(columns=['average_temperature'])"
   ]
  },
  {
   "cell_type": "markdown",
   "metadata": {},
   "source": [
    "### Deletions of rows"
   ]
  },
  {
   "cell_type": "markdown",
   "metadata": {},
   "source": [
    "Considerando la presenza di uno stesso ciclista più volte (massimo due volte) nella stessa classifica di una specifica gara, abbiamo deciso di eliminare la seconda occorrenza e tenere solo la prima."
   ]
  },
  {
   "cell_type": "code",
<<<<<<< HEAD
   "execution_count": 44,
   "metadata": {},
   "outputs": [],
   "source": [
    "# Identify duplicate rows for each cyclist in each URL (excluding the first occurrence)\n",
    "duplicate_rows = races_dataset.duplicated(subset=['_url', 'cyclist'], keep='first')\n",
    "# Delete only the second occurrences (duplicate)\n",
    "races_dataset = races_dataset[~duplicate_rows]"
   ]
  },
  {
   "cell_type": "code",
   "execution_count": 45,
=======
   "execution_count": 243,
>>>>>>> 7088861e175b3ebe355219a9f3f0f731e3be9e0d
   "metadata": {},
   "outputs": [
    {
     "data": {
      "text/plain": [
       "_url                      0\n",
       "name                      0\n",
       "points                  477\n",
       "uci_points           338654\n",
       "length                    0\n",
       "climb_total          146976\n",
       "profile              148089\n",
       "startlist_quality         0\n",
       "date                      0\n",
       "position                  0\n",
       "cyclist                   0\n",
       "cyclist_age             113\n",
       "mostly_tarmac             0\n",
       "cyclist_team         159085\n",
       "delta                     0\n",
       "dtype: int64"
      ]
     },
<<<<<<< HEAD
     "execution_count": 45,
=======
     "execution_count": 243,
>>>>>>> 7088861e175b3ebe355219a9f3f0f731e3be9e0d
     "metadata": {},
     "output_type": "execute_result"
    }
   ],
   "source": [
    "races_dataset.isnull().sum() # check number of missing values"
   ]
  },
  {
   "cell_type": "markdown",
   "metadata": {},
   "source": [
    "### Imputation"
   ]
  },
  {
   "cell_type": "code",
   "execution_count": 46,
   "metadata": {},
   "outputs": [
    {
     "data": {
      "text/plain": [
       "_url                      0\n",
       "name                      0\n",
       "points                  477\n",
       "uci_points           338654\n",
       "length                    0\n",
       "climb_total          146976\n",
       "profile              148089\n",
       "startlist_quality         0\n",
       "date                      0\n",
       "position                  0\n",
       "cyclist                   0\n",
       "cyclist_age             113\n",
       "mostly_tarmac             0\n",
       "cyclist_team         159085\n",
       "delta                     0\n",
       "dtype: int64"
      ]
     },
     "execution_count": 46,
     "metadata": {},
     "output_type": "execute_result"
    }
   ],
   "source": [
    "races_dataset.isnull().sum() # check number of missing values"
   ]
  },
  {
   "cell_type": "markdown",
   "metadata": {},
   "source": [
    "#### Imputation of points and uci points\n",
    "\n",
    "Proviamo a fare l'imputaton dei points mancanti, e di conseguenza fare l'imputation degli uci_points"
   ]
  },
  {
   "cell_type": "code",
   "execution_count": 49,
   "metadata": {},
   "outputs": [
    {
     "name": "stderr",
     "output_type": "stream",
     "text": [
      "/var/folders/6w/jr75hz4j1mnfxpxpb_7px5b40000gn/T/ipykernel_1864/3688482402.py:17: DeprecationWarning: DataFrameGroupBy.apply operated on the grouping columns. This behavior is deprecated, and in a future version of pandas the grouping columns will be excluded from the operation. Either pass `include_groups=False` to exclude the groupings or explicitly select the grouping columns after groupby to silence this warning.\n",
      "  races_dataset = races_dataset.groupby('name', group_keys=False).apply(impute_points)\n"
     ]
    },
    {
     "data": {
      "text/plain": [
       "_url                      0\n",
       "name                      0\n",
       "points                  465\n",
       "uci_points           338654\n",
       "length                    0\n",
       "climb_total          146976\n",
       "profile              148089\n",
       "startlist_quality         0\n",
       "date                      0\n",
       "position                  0\n",
       "cyclist                   0\n",
       "cyclist_age             113\n",
       "mostly_tarmac             0\n",
       "cyclist_team         159085\n",
       "delta                     0\n",
       "year                      0\n",
       "dtype: int64"
      ]
     },
     "execution_count": 49,
     "metadata": {},
     "output_type": "execute_result"
    }
   ],
   "source": [
    "# Prima, estraiamo l'anno dalla colonna 'date'\n",
    "races_dataset['year'] = pd.to_datetime(races_dataset['date']).dt.year\n",
    "\n",
    "# Funzione per imputare i punti mancanti basandosi sul valore dell'anno precedente\n",
    "def impute_points(group):\n",
    "    # Creiamo una colonna 'previous_year_points' con i punti dell'anno precedente\n",
    "    group['previous_year_points'] = group['points'].shift()\n",
    "    \n",
    "    # Impostiamo il valore di 'points' a 'previous_year_points' solo dove 'points' è NaN\n",
    "    group['points'] = group['points'].combine_first(group['previous_year_points'])\n",
    "    \n",
    "    # Rimuoviamo la colonna temporanea\n",
    "    group = group.drop(columns=['previous_year_points'])\n",
    "    return group\n",
    "\n",
    "# Applica la funzione di imputazione per ciascun gruppo (gara 'name')\n",
    "races_dataset = races_dataset.groupby('name', group_keys=False).apply(impute_points)\n",
    "\n",
    "races_dataset.isnull().sum() # check number of missing values\n"
   ]
  },
  {
   "cell_type": "code",
   "execution_count": null,
   "metadata": {},
   "outputs": [],
   "source": []
  },
  {
   "cell_type": "code",
   "execution_count": null,
   "metadata": {},
   "outputs": [],
   "source": [
    "# imputation uci-point"
   ]
  },
  {
   "cell_type": "markdown",
   "metadata": {},
   "source": [
    "#### Imputation of profile values\n",
    "\n",
    "Since the correlation between the climb total values and the profile values, we decided to impute the null profile values in the races where we have the climb total value."
   ]
  },
  {
   "cell_type": "code",
   "execution_count": null,
   "metadata": {},
   "outputs": [],
   "source": []
  },
  {
   "cell_type": "markdown",
   "metadata": {},
   "source": [
    "#### Imputation of delta values\n",
    "\n",
    "Per i delta negativi o che risultano con valori sbagliati, modifichiamo il valore per tenerlo coerente con la posizione del ciclista in quella determinata gara. La logica da seguire è, partendo dalla prima posizione, si prosegue nei record fino a quando non si trova un delta negativo, che a quel punto sostituisco con il delta precedente, e così via fino a quando non finisco le posizioni della gara."
   ]
  },
  {
   "cell_type": "code",
   "execution_count": 34,
   "metadata": {},
   "outputs": [
    {
     "name": "stderr",
     "output_type": "stream",
     "text": [
<<<<<<< HEAD
      "/var/folders/6w/jr75hz4j1mnfxpxpb_7px5b40000gn/T/ipykernel_1864/1838654865.py:12: DeprecationWarning: DataFrameGroupBy.apply operated on the grouping columns. This behavior is deprecated, and in a future version of pandas the grouping columns will be excluded from the operation. Either pass `include_groups=False` to exclude the groupings or explicitly select the grouping columns after groupby to silence this warning.\n",
=======
      "/var/folders/6w/jr75hz4j1mnfxpxpb_7px5b40000gn/T/ipykernel_4978/1030593822.py:12: DeprecationWarning: DataFrameGroupBy.apply operated on the grouping columns. This behavior is deprecated, and in a future version of pandas the grouping columns will be excluded from the operation. Either pass `include_groups=False` to exclude the groupings or explicitly select the grouping columns after groupby to silence this warning.\n",
>>>>>>> 7088861e175b3ebe355219a9f3f0f731e3be9e0d
      "  races_dataset = races_dataset.groupby('_url', group_keys=False).apply(correct_deltas)\n"
     ]
    },
    {
     "name": "stdout",
     "output_type": "stream",
     "text": [
      "Number of URLs with invalid deltas after imputation: 0\n"
     ]
    }
   ],
   "source": [
    "# Funzione per imputare i delta errati\n",
    "def correct_deltas(group):\n",
    "    group = group.reset_index(drop=True)  # Resetta l'indice per garantire l'accesso numerico\n",
    "    # Iniziamo con la prima riga (la quale ha il delta 0)\n",
    "    for i in range(1, len(group)):\n",
    "        # Se il delta è negativo o inferiore al precedente, lo sostituiamo con il valore precedente\n",
    "        if group['delta'].iloc[i] < group['delta'].iloc[i-1]:\n",
    "            group.loc[i, 'delta'] = group.loc[i-1, 'delta']\n",
    "    return group\n",
    "\n",
    "# Applica la funzione di imputazione per ciascun gruppo (gara)\n",
    "races_dataset = races_dataset.groupby('_url', group_keys=False).apply(correct_deltas)\n",
    "\n",
    "\n",
    "\n",
    "# Verifica i cambiamenti\n",
    "invalid_urls_after_imputation = races_dataset.groupby('_url')['delta'].apply(lambda x: (x.shift() > x).any())\n",
    "print('Number of URLs with invalid deltas after imputation: ' + str(len(invalid_urls_after_imputation[invalid_urls_after_imputation])))"
   ]
  },
  {
   "cell_type": "markdown",
   "metadata": {},
   "source": [
<<<<<<< HEAD
=======
    "### Deletions of rows"
   ]
  },
  {
   "cell_type": "markdown",
   "metadata": {},
   "source": [
    "Considerando la presenza di uno stesso ciclista più volte (massimo due volte) nella stessa classifica di una specifica gara, abbiamo deciso di eliminare la seconda occorrenza e tenere solo la prima."
   ]
  },
  {
   "cell_type": "code",
   "execution_count": 245,
   "metadata": {},
   "outputs": [],
   "source": [
    "# Identify duplicate rows for each cyclist in each URL (excluding the first occurrence)\n",
    "duplicate_rows = races_dataset.duplicated(subset=['_url', 'cyclist'], keep='first')\n",
    "# Delete only the second occurrences (duplicate)\n",
    "races_dataset = races_dataset[~duplicate_rows]"
   ]
  },
  {
   "cell_type": "markdown",
   "metadata": {},
   "source": [
>>>>>>> 7088861e175b3ebe355219a9f3f0f731e3be9e0d
    "## Cyclists & Races"
   ]
  },
  {
   "cell_type": "code",
<<<<<<< HEAD
   "execution_count": 36,
=======
   "execution_count": 246,
>>>>>>> 7088861e175b3ebe355219a9f3f0f731e3be9e0d
   "metadata": {},
   "outputs": [
    {
     "data": {
      "text/html": [
       "<div>\n",
       "<style scoped>\n",
       "    .dataframe tbody tr th:only-of-type {\n",
       "        vertical-align: middle;\n",
       "    }\n",
       "\n",
       "    .dataframe tbody tr th {\n",
       "        vertical-align: top;\n",
       "    }\n",
       "\n",
       "    .dataframe thead th {\n",
       "        text-align: right;\n",
       "    }\n",
       "</style>\n",
       "<table border=\"1\" class=\"dataframe\">\n",
       "  <thead>\n",
       "    <tr style=\"text-align: right;\">\n",
       "      <th></th>\n",
       "      <th>_url_cyclist</th>\n",
       "      <th>name_cyclist</th>\n",
       "      <th>birth_year</th>\n",
       "      <th>weight</th>\n",
       "      <th>height</th>\n",
       "      <th>nationality</th>\n",
       "      <th>_url_race</th>\n",
       "      <th>name_race</th>\n",
       "      <th>points</th>\n",
       "      <th>uci_points</th>\n",
       "      <th>...</th>\n",
       "      <th>climb_total</th>\n",
       "      <th>profile</th>\n",
       "      <th>startlist_quality</th>\n",
       "      <th>date</th>\n",
       "      <th>position</th>\n",
       "      <th>cyclist</th>\n",
       "      <th>cyclist_age</th>\n",
       "      <th>mostly_tarmac</th>\n",
       "      <th>cyclist_team</th>\n",
       "      <th>delta</th>\n",
       "    </tr>\n",
       "  </thead>\n",
       "  <tbody>\n",
       "    <tr>\n",
       "      <th>0</th>\n",
       "      <td>bruno-surra</td>\n",
       "      <td>Bruno  Surra</td>\n",
       "      <td>1964.0</td>\n",
       "      <td>NaN</td>\n",
       "      <td>NaN</td>\n",
       "      <td>Italy</td>\n",
       "      <td>vuelta-a-espana/1989/stage-1</td>\n",
       "      <td>Vuelta a España</td>\n",
       "      <td>80.0</td>\n",
       "      <td>NaN</td>\n",
       "      <td>...</td>\n",
       "      <td>588.0</td>\n",
       "      <td>NaN</td>\n",
       "      <td>803</td>\n",
       "      <td>1989-04-24</td>\n",
       "      <td>110</td>\n",
       "      <td>bruno-surra</td>\n",
       "      <td>25.0</td>\n",
       "      <td>True</td>\n",
       "      <td>NaN</td>\n",
       "      <td>15.0</td>\n",
       "    </tr>\n",
       "    <tr>\n",
       "      <th>1</th>\n",
       "      <td>gerard-rue</td>\n",
       "      <td>Gérard  Rué</td>\n",
       "      <td>1965.0</td>\n",
       "      <td>74.0</td>\n",
       "      <td>182.0</td>\n",
       "      <td>France</td>\n",
       "      <td>amstel-gold-race/1993/result</td>\n",
       "      <td>Amstel Gold Race</td>\n",
       "      <td>225.0</td>\n",
       "      <td>NaN</td>\n",
       "      <td>...</td>\n",
       "      <td>NaN</td>\n",
       "      <td>NaN</td>\n",
       "      <td>917</td>\n",
       "      <td>1993-04-24</td>\n",
       "      <td>77</td>\n",
       "      <td>gerard-rue</td>\n",
       "      <td>28.0</td>\n",
       "      <td>False</td>\n",
       "      <td>czechoslovakia-1987</td>\n",
       "      <td>685.0</td>\n",
       "    </tr>\n",
       "    <tr>\n",
       "      <th>2</th>\n",
       "      <td>gerard-rue</td>\n",
       "      <td>Gérard  Rué</td>\n",
       "      <td>1965.0</td>\n",
       "      <td>74.0</td>\n",
       "      <td>182.0</td>\n",
       "      <td>France</td>\n",
       "      <td>amstel-gold-race/1994/result</td>\n",
       "      <td>Amstel Gold Race</td>\n",
       "      <td>225.0</td>\n",
       "      <td>NaN</td>\n",
       "      <td>...</td>\n",
       "      <td>NaN</td>\n",
       "      <td>NaN</td>\n",
       "      <td>666</td>\n",
       "      <td>1994-04-23</td>\n",
       "      <td>7</td>\n",
       "      <td>gerard-rue</td>\n",
       "      <td>29.0</td>\n",
       "      <td>False</td>\n",
       "      <td>new-zealand-2020</td>\n",
       "      <td>7.0</td>\n",
       "    </tr>\n",
       "    <tr>\n",
       "      <th>3</th>\n",
       "      <td>gerard-rue</td>\n",
       "      <td>Gérard  Rué</td>\n",
       "      <td>1965.0</td>\n",
       "      <td>74.0</td>\n",
       "      <td>182.0</td>\n",
       "      <td>France</td>\n",
       "      <td>dauphine/1989/stage-4</td>\n",
       "      <td>Critérium du Dauphiné Libéré</td>\n",
       "      <td>50.0</td>\n",
       "      <td>NaN</td>\n",
       "      <td>...</td>\n",
       "      <td>NaN</td>\n",
       "      <td>NaN</td>\n",
       "      <td>603</td>\n",
       "      <td>1989-06-02</td>\n",
       "      <td>14</td>\n",
       "      <td>gerard-rue</td>\n",
       "      <td>24.0</td>\n",
       "      <td>True</td>\n",
       "      <td>carrera-inoxpran-1985</td>\n",
       "      <td>0.0</td>\n",
       "    </tr>\n",
       "    <tr>\n",
       "      <th>4</th>\n",
       "      <td>gerard-rue</td>\n",
       "      <td>Gérard  Rué</td>\n",
       "      <td>1965.0</td>\n",
       "      <td>74.0</td>\n",
       "      <td>182.0</td>\n",
       "      <td>France</td>\n",
       "      <td>dauphine/1989/stage-5</td>\n",
       "      <td>Critérium du Dauphiné Libéré</td>\n",
       "      <td>50.0</td>\n",
       "      <td>NaN</td>\n",
       "      <td>...</td>\n",
       "      <td>NaN</td>\n",
       "      <td>NaN</td>\n",
       "      <td>603</td>\n",
       "      <td>1989-06-03</td>\n",
       "      <td>27</td>\n",
       "      <td>gerard-rue</td>\n",
       "      <td>24.0</td>\n",
       "      <td>True</td>\n",
       "      <td>carrera-inoxpran-1985</td>\n",
       "      <td>476.0</td>\n",
       "    </tr>\n",
       "  </tbody>\n",
       "</table>\n",
       "<p>5 rows × 21 columns</p>\n",
       "</div>"
      ],
      "text/plain": [
       "  _url_cyclist  name_cyclist  birth_year  weight  height nationality  \\\n",
       "0  bruno-surra  Bruno  Surra      1964.0     NaN     NaN       Italy   \n",
       "1   gerard-rue   Gérard  Rué      1965.0    74.0   182.0      France   \n",
       "2   gerard-rue   Gérard  Rué      1965.0    74.0   182.0      France   \n",
       "3   gerard-rue   Gérard  Rué      1965.0    74.0   182.0      France   \n",
       "4   gerard-rue   Gérard  Rué      1965.0    74.0   182.0      France   \n",
       "\n",
       "                      _url_race                     name_race  points  \\\n",
       "0  vuelta-a-espana/1989/stage-1               Vuelta a España    80.0   \n",
       "1  amstel-gold-race/1993/result              Amstel Gold Race   225.0   \n",
       "2  amstel-gold-race/1994/result              Amstel Gold Race   225.0   \n",
       "3         dauphine/1989/stage-4  Critérium du Dauphiné Libéré    50.0   \n",
       "4         dauphine/1989/stage-5  Critérium du Dauphiné Libéré    50.0   \n",
       "\n",
       "   uci_points  ...  climb_total  profile startlist_quality       date  \\\n",
       "0         NaN  ...        588.0      NaN               803 1989-04-24   \n",
       "1         NaN  ...          NaN      NaN               917 1993-04-24   \n",
       "2         NaN  ...          NaN      NaN               666 1994-04-23   \n",
       "3         NaN  ...          NaN      NaN               603 1989-06-02   \n",
       "4         NaN  ...          NaN      NaN               603 1989-06-03   \n",
       "\n",
       "  position      cyclist cyclist_age  mostly_tarmac           cyclist_team  \\\n",
       "0      110  bruno-surra        25.0           True                    NaN   \n",
       "1       77   gerard-rue        28.0          False    czechoslovakia-1987   \n",
       "2        7   gerard-rue        29.0          False       new-zealand-2020   \n",
       "3       14   gerard-rue        24.0           True  carrera-inoxpran-1985   \n",
       "4       27   gerard-rue        24.0           True  carrera-inoxpran-1985   \n",
       "\n",
       "   delta  \n",
       "0   15.0  \n",
       "1  685.0  \n",
       "2    7.0  \n",
       "3    0.0  \n",
       "4  476.0  \n",
       "\n",
       "[5 rows x 21 columns]"
      ]
     },
<<<<<<< HEAD
     "execution_count": 36,
=======
     "execution_count": 246,
>>>>>>> 7088861e175b3ebe355219a9f3f0f731e3be9e0d
     "metadata": {},
     "output_type": "execute_result"
    }
   ],
   "source": [
    "# Create union of two datasets, merging them considering the url of the cyclist\n",
    "merged_dataset = pd.merge(cyclists_dataset, races_dataset, left_on='_url', right_on='cyclist', how='inner')\n",
    "\n",
    "# Modify name column of the cyclist url in '_url_cyclist', and name column of the race url in '_url_race'\n",
    "merged_dataset = merged_dataset.rename(columns={'_url_x': '_url_cyclist', '_url_y': '_url_race'})\n",
    "# Modify name column of the cyclist name in 'name_cyclist', and name column of the race name in 'name_race'\n",
    "merged_dataset = merged_dataset.rename(columns={'name_x': 'name_cyclist', 'name_y': 'name_race'})\n",
    "\n",
    "merged_dataset.head()"
   ]
  },
  {
   "cell_type": "code",
<<<<<<< HEAD
   "execution_count": 37,
=======
   "execution_count": 247,
>>>>>>> 7088861e175b3ebe355219a9f3f0f731e3be9e0d
   "metadata": {},
   "outputs": [
    {
     "name": "stdout",
     "output_type": "stream",
     "text": [
      "<class 'pandas.core.frame.DataFrame'>\n",
      "RangeIndex: 589739 entries, 0 to 589738\n",
      "Data columns (total 21 columns):\n",
      " #   Column             Non-Null Count   Dtype         \n",
      "---  ------             --------------   -----         \n",
      " 0   _url_cyclist       589739 non-null  object        \n",
      " 1   name_cyclist       589739 non-null  object        \n",
      " 2   birth_year         589739 non-null  float64       \n",
      " 3   weight             480007 non-null  float64       \n",
      " 4   height             480007 non-null  float64       \n",
      " 5   nationality        589739 non-null  object        \n",
      " 6   _url_race          589739 non-null  object        \n",
      " 7   name_race          589739 non-null  object        \n",
      " 8   points             589262 non-null  float64       \n",
      " 9   uci_points         251085 non-null  float64       \n",
      " 10  length             589739 non-null  float64       \n",
      " 11  climb_total        442763 non-null  float64       \n",
      " 12  profile            441650 non-null  category      \n",
      " 13  startlist_quality  589739 non-null  int64         \n",
      " 14  date               589739 non-null  datetime64[ns]\n",
      " 15  position           589739 non-null  int64         \n",
      " 16  cyclist            589739 non-null  object        \n",
      " 17  cyclist_age        589626 non-null  float64       \n",
      " 18  mostly_tarmac      589739 non-null  bool          \n",
      " 19  cyclist_team       430654 non-null  object        \n",
      " 20  delta              589739 non-null  float64       \n",
      "dtypes: bool(1), category(1), datetime64[ns](1), float64(9), int64(2), object(7)\n",
      "memory usage: 86.6+ MB\n"
     ]
    }
   ],
   "source": [
    "merged_dataset.info()"
   ]
  },
  {
   "cell_type": "markdown",
   "metadata": {},
   "source": [
    "### Imputation"
   ]
  },
  {
   "cell_type": "code",
<<<<<<< HEAD
   "execution_count": 38,
=======
   "execution_count": 248,
>>>>>>> 7088861e175b3ebe355219a9f3f0f731e3be9e0d
   "metadata": {},
   "outputs": [
    {
     "data": {
      "text/plain": [
       "_url_cyclist              0\n",
       "name_cyclist              0\n",
       "birth_year                0\n",
       "weight               109732\n",
       "height               109732\n",
       "nationality               0\n",
       "_url_race                 0\n",
       "name_race                 0\n",
       "points                  477\n",
       "uci_points           338654\n",
       "length                    0\n",
       "climb_total          146976\n",
       "profile              148089\n",
       "startlist_quality         0\n",
       "date                      0\n",
       "position                  0\n",
       "cyclist                   0\n",
       "cyclist_age             113\n",
       "mostly_tarmac             0\n",
       "cyclist_team         159085\n",
       "delta                     0\n",
       "dtype: int64"
      ]
     },
<<<<<<< HEAD
     "execution_count": 38,
=======
     "execution_count": 248,
>>>>>>> 7088861e175b3ebe355219a9f3f0f731e3be9e0d
     "metadata": {},
     "output_type": "execute_result"
    }
   ],
   "source": [
    "merged_dataset.isnull().sum() # check number of missing values"
   ]
  },
  {
   "cell_type": "markdown",
   "metadata": {},
   "source": [
    "#### Imputation of cyclist age\n",
    "\n",
    "Dato l'anno di nascita che abbiamo imputato precedentemente, ora possiamo imputare anche l'età dei ciclisti nelle gare dove non era presente."
   ]
  },
  {
   "cell_type": "code",
<<<<<<< HEAD
   "execution_count": 39,
=======
   "execution_count": 249,
>>>>>>> 7088861e175b3ebe355219a9f3f0f731e3be9e0d
   "metadata": {},
   "outputs": [],
   "source": [
    "# Extract the year from the date \n",
    "merged_dataset['race_year'] = merged_dataset['date'].dt.year\n",
    "\n",
    "# Imputa la cyclist_age per le righe in cui è null e birth_year non è null\n",
    "# Imputation of the cyclist_age for rows where it is null and birth_year is not null\n",
    "merged_dataset['cyclist_age'] = merged_dataset.apply(\n",
    "    lambda row: row['race_year'] - row['birth_year'] \n",
    "                if pd.isnull(row['cyclist_age']) and pd.notnull(row['birth_year'])\n",
    "                else row['cyclist_age'],\n",
    "    axis=1\n",
    ")\n",
    "\n",
    "# Remove the temporary column\n",
    "merged_dataset.drop(columns=['race_year'], inplace=True)"
   ]
  },
  {
   "cell_type": "code",
<<<<<<< HEAD
   "execution_count": 40,
=======
   "execution_count": 250,
>>>>>>> 7088861e175b3ebe355219a9f3f0f731e3be9e0d
   "metadata": {},
   "outputs": [
    {
     "data": {
      "text/plain": [
       "_url_cyclist              0\n",
       "name_cyclist              0\n",
       "birth_year                0\n",
       "weight               109732\n",
       "height               109732\n",
       "nationality               0\n",
       "_url_race                 0\n",
       "name_race                 0\n",
       "points                  477\n",
       "uci_points           338654\n",
       "length                    0\n",
       "climb_total          146976\n",
       "profile              148089\n",
       "startlist_quality         0\n",
       "date                      0\n",
       "position                  0\n",
       "cyclist                   0\n",
       "cyclist_age               0\n",
       "mostly_tarmac             0\n",
       "cyclist_team         159085\n",
       "delta                     0\n",
       "dtype: int64"
      ]
     },
<<<<<<< HEAD
     "execution_count": 40,
=======
     "execution_count": 250,
>>>>>>> 7088861e175b3ebe355219a9f3f0f731e3be9e0d
     "metadata": {},
     "output_type": "execute_result"
    }
   ],
   "source": [
    "merged_dataset.isnull().sum() # check number of missing values"
   ]
  },
  {
   "cell_type": "markdown",
   "metadata": {},
   "source": [
    "\n",
    "Creare un dataset dove i record con molti valori null sono eliminati"
   ]
  }
 ],
 "metadata": {
  "kernelspec": {
   "display_name": "dm_env",
   "language": "python",
   "name": "python3"
  },
  "language_info": {
   "codemirror_mode": {
    "name": "ipython",
    "version": 3
   },
   "file_extension": ".py",
   "mimetype": "text/x-python",
   "name": "python",
   "nbconvert_exporter": "python",
   "pygments_lexer": "ipython3",
   "version": "3.12.2"
  }
 },
 "nbformat": 4,
 "nbformat_minor": 2
}

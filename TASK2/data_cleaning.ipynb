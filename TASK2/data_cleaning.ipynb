{
 "cells": [
  {
   "cell_type": "markdown",
   "metadata": {},
   "source": [
    "# Data Cleaning"
   ]
  },
  {
   "cell_type": "code",
   "execution_count": 1,
   "metadata": {},
   "outputs": [],
   "source": [
    "# Autoreload allows the notebook to dynamically load code: if we update some helper functions *outside* of the notebook, we do not need to reload the notebook.\n",
    "%load_ext autoreload\n",
    "%autoreload 2"
   ]
  },
  {
   "cell_type": "code",
   "execution_count": 2,
   "metadata": {},
   "outputs": [],
   "source": [
    "import pandas as pd\n",
    "import numpy as np\n",
    "\n",
    "import warnings\n",
    "\n",
    "import seaborn as sb\n",
    "import matplotlib.pyplot as plt\n",
    "\n",
    "import random\n",
    "import math\n",
    "\n",
    "from sklearn.linear_model import LinearRegression\n",
    "from scipy.stats import norm"
   ]
  },
  {
   "cell_type": "code",
   "execution_count": 3,
   "metadata": {},
   "outputs": [],
   "source": [
    "# Sopprimere i Warning\n",
    "warnings.simplefilter(action='ignore', category=DeprecationWarning)\n",
    "warnings.simplefilter(action='ignore', category=FutureWarning)"
   ]
  },
  {
   "cell_type": "markdown",
   "metadata": {},
   "source": [
    "## Cyclists"
   ]
  },
  {
   "cell_type": "code",
   "execution_count": 4,
   "metadata": {},
   "outputs": [
    {
     "data": {
      "text/html": [
       "<div>\n",
       "<style scoped>\n",
       "    .dataframe tbody tr th:only-of-type {\n",
       "        vertical-align: middle;\n",
       "    }\n",
       "\n",
       "    .dataframe tbody tr th {\n",
       "        vertical-align: top;\n",
       "    }\n",
       "\n",
       "    .dataframe thead th {\n",
       "        text-align: right;\n",
       "    }\n",
       "</style>\n",
       "<table border=\"1\" class=\"dataframe\">\n",
       "  <thead>\n",
       "    <tr style=\"text-align: right;\">\n",
       "      <th></th>\n",
       "      <th>_url</th>\n",
       "      <th>name</th>\n",
       "      <th>birth_year</th>\n",
       "      <th>weight</th>\n",
       "      <th>height</th>\n",
       "      <th>nationality</th>\n",
       "    </tr>\n",
       "  </thead>\n",
       "  <tbody>\n",
       "    <tr>\n",
       "      <th>0</th>\n",
       "      <td>bruno-surra</td>\n",
       "      <td>Bruno  Surra</td>\n",
       "      <td>1964.0</td>\n",
       "      <td>NaN</td>\n",
       "      <td>NaN</td>\n",
       "      <td>Italy</td>\n",
       "    </tr>\n",
       "    <tr>\n",
       "      <th>1</th>\n",
       "      <td>gerard-rue</td>\n",
       "      <td>Gérard  Rué</td>\n",
       "      <td>1965.0</td>\n",
       "      <td>74.0</td>\n",
       "      <td>182.0</td>\n",
       "      <td>France</td>\n",
       "    </tr>\n",
       "    <tr>\n",
       "      <th>2</th>\n",
       "      <td>jan-maas</td>\n",
       "      <td>Jan  Maas</td>\n",
       "      <td>1996.0</td>\n",
       "      <td>69.0</td>\n",
       "      <td>189.0</td>\n",
       "      <td>Netherlands</td>\n",
       "    </tr>\n",
       "    <tr>\n",
       "      <th>3</th>\n",
       "      <td>nathan-van-hooydonck</td>\n",
       "      <td>Nathan Van Hooydonck</td>\n",
       "      <td>1995.0</td>\n",
       "      <td>78.0</td>\n",
       "      <td>192.0</td>\n",
       "      <td>Belgium</td>\n",
       "    </tr>\n",
       "    <tr>\n",
       "      <th>4</th>\n",
       "      <td>jose-felix-parra</td>\n",
       "      <td>José Félix  Parra</td>\n",
       "      <td>1997.0</td>\n",
       "      <td>55.0</td>\n",
       "      <td>171.0</td>\n",
       "      <td>Spain</td>\n",
       "    </tr>\n",
       "  </tbody>\n",
       "</table>\n",
       "</div>"
      ],
      "text/plain": [
       "                   _url                  name  birth_year  weight  height  \\\n",
       "0           bruno-surra          Bruno  Surra      1964.0     NaN     NaN   \n",
       "1            gerard-rue           Gérard  Rué      1965.0    74.0   182.0   \n",
       "2              jan-maas             Jan  Maas      1996.0    69.0   189.0   \n",
       "3  nathan-van-hooydonck  Nathan Van Hooydonck      1995.0    78.0   192.0   \n",
       "4      jose-felix-parra     José Félix  Parra      1997.0    55.0   171.0   \n",
       "\n",
       "   nationality  \n",
       "0        Italy  \n",
       "1       France  \n",
       "2  Netherlands  \n",
       "3      Belgium  \n",
       "4        Spain  "
      ]
     },
     "execution_count": 4,
     "metadata": {},
     "output_type": "execute_result"
    }
   ],
   "source": [
    "csv_file = \"../data/cyclists.csv\"\n",
    "cyclists_dataset = pd.read_csv(csv_file)\n",
    "cyclists_dataset.head()"
   ]
  },
  {
   "cell_type": "code",
   "execution_count": 5,
   "metadata": {},
   "outputs": [
    {
     "name": "stdout",
     "output_type": "stream",
     "text": [
      "<class 'pandas.core.frame.DataFrame'>\n",
      "RangeIndex: 6134 entries, 0 to 6133\n",
      "Data columns (total 6 columns):\n",
      " #   Column       Non-Null Count  Dtype  \n",
      "---  ------       --------------  -----  \n",
      " 0   _url         6134 non-null   object \n",
      " 1   name         6134 non-null   object \n",
      " 2   birth_year   6121 non-null   float64\n",
      " 3   weight       3078 non-null   float64\n",
      " 4   height       3143 non-null   float64\n",
      " 5   nationality  6133 non-null   object \n",
      "dtypes: float64(3), object(3)\n",
      "memory usage: 287.7+ KB\n"
     ]
    }
   ],
   "source": [
    "cyclists_dataset.info()"
   ]
  },
  {
   "cell_type": "markdown",
   "metadata": {},
   "source": [
    "### Modify columns\n",
    "\n",
    "Before cleaning the races dataset, we redefine the dataframe with the new types."
   ]
  },
  {
   "cell_type": "code",
   "execution_count": 6,
   "metadata": {},
   "outputs": [],
   "source": [
    "cyclists_dataset['birth_year'] = cyclists_dataset[cyclists_dataset['birth_year'].notnull()]['birth_year'].astype(int)"
   ]
  },
  {
   "cell_type": "markdown",
   "metadata": {},
   "source": [
    "### Imputation"
   ]
  },
  {
   "cell_type": "code",
   "execution_count": 7,
   "metadata": {},
   "outputs": [
    {
     "data": {
      "text/plain": [
       "_url              0\n",
       "name              0\n",
       "birth_year       13\n",
       "weight         3056\n",
       "height         2991\n",
       "nationality       1\n",
       "dtype: int64"
      ]
     },
     "execution_count": 7,
     "metadata": {},
     "output_type": "execute_result"
    }
   ],
   "source": [
    "cyclists_dataset.isnull().sum() # check number of missing values"
   ]
  },
  {
   "cell_type": "markdown",
   "metadata": {},
   "source": [
    "#### Imputation Birth Year and Nationality null values\n",
    "Per l'anno di nascita e la nazionalità mancanti, abbiamo cercato di recuperare più dati possibile manualmente attraverso ricerce online."
   ]
  },
  {
   "cell_type": "code",
   "execution_count": 8,
   "metadata": {},
   "outputs": [
    {
     "data": {
      "text/plain": [
       "9             scott-davies\n",
       "601       vladimir-malakov\n",
       "894         antonio-zanini\n",
       "2408     filippo-simonetti\n",
       "2515         carlos-garcia\n",
       "2536       alexandr-osipov\n",
       "3046      nicolai-kosyakov\n",
       "3551            nevens-guy\n",
       "4142           oscar-pumar\n",
       "4384         javier-luquin\n",
       "4756        thierry-lauder\n",
       "6072    sergei-jermachenko\n",
       "6080       batik-odriozola\n",
       "Name: _url, dtype: object"
      ]
     },
     "execution_count": 8,
     "metadata": {},
     "output_type": "execute_result"
    }
   ],
   "source": [
    "# Show urls of the cyclists with 'birth_year' missing values\n",
    "cyclists_dataset[cyclists_dataset['birth_year'].isnull()]['_url']"
   ]
  },
  {
   "cell_type": "markdown",
   "metadata": {},
   "source": [
    "Per gli anni di nascita trovati, abbiamo fatto una imputazione manuale del valore ottenuto nella feature 'birth_year' corrispondente"
   ]
  },
  {
   "cell_type": "code",
   "execution_count": 9,
   "metadata": {},
   "outputs": [],
   "source": [
    "cyclists_dataset.loc[cyclists_dataset['_url'] == 'scott-davies', 'birth_year'] = 1995\n",
    "cyclists_dataset.loc[cyclists_dataset['_url'] == 'vladimir-malakov', 'birth_year'] = 1958\n",
    "cyclists_dataset.loc[cyclists_dataset['_url'] == 'antonio-zanini', 'birth_year'] = 1965\n",
    "cyclists_dataset.loc[cyclists_dataset['_url'] == 'nevens-guy', 'birth_year'] = 1962\n",
    "cyclists_dataset.loc[cyclists_dataset['_url'] == 'sergei-jermachenko', 'birth_year'] = 1956 "
   ]
  },
  {
   "cell_type": "markdown",
   "metadata": {},
   "source": [
    "Ragionamento simile fatto anche per la nazionalità. L'unica mancante apparteneva al ciclista Scott Davies."
   ]
  },
  {
   "cell_type": "code",
   "execution_count": 10,
   "metadata": {},
   "outputs": [],
   "source": [
    "cyclists_dataset.loc[cyclists_dataset['_url'] == 'scott-davies', 'nationality'] = 'Great Britain'"
   ]
  },
  {
   "cell_type": "markdown",
   "metadata": {},
   "source": [
    "Per i restanti anni di nascita, è stata sfruttata la moda"
   ]
  },
  {
   "cell_type": "code",
   "execution_count": 11,
   "metadata": {},
   "outputs": [],
   "source": [
    "cyclists_dataset['birth_year'] = cyclists_dataset['birth_year'].fillna(cyclists_dataset['birth_year'].mode()[0]) # substitue 8 remaining elements with mode"
   ]
  },
  {
   "cell_type": "code",
   "execution_count": 12,
   "metadata": {},
   "outputs": [
    {
     "data": {
      "text/plain": [
       "np.int64(0)"
      ]
     },
     "execution_count": 12,
     "metadata": {},
     "output_type": "execute_result"
    }
   ],
   "source": [
    "cyclists_dataset['birth_year'].isnull().sum() # check if missing values are filled correctly"
   ]
  },
  {
   "cell_type": "markdown",
   "metadata": {},
   "source": [
    "#### Imputation Weight and Height null values\n",
    "\n",
    "Sapendo che altezza e peso sono altamente correlati, si può sfruttare il peso per trovare l'altezza, e l'altezza per trovare il peso."
   ]
  },
  {
   "cell_type": "code",
   "execution_count": 13,
   "metadata": {},
   "outputs": [
    {
     "name": "stdout",
     "output_type": "stream",
     "text": [
      "Cyclists where we have only the height: 72\n",
      "Cyclists where we have only the weight: 7\n"
     ]
    }
   ],
   "source": [
    "# Filter rows where 'weight' is null and 'height' is not null\n",
    "missing_weight_with_height = cyclists_dataset[cyclists_dataset['weight'].isnull() & cyclists_dataset['height'].notnull()]\n",
    "print(\"Cyclists where we have only the height:\", len(missing_weight_with_height))\n",
    "\n",
    "# Filter rows where 'weight' is not null and 'height' is null\n",
    "missing_height_with_weight = cyclists_dataset[cyclists_dataset['weight'].notnull() & cyclists_dataset['height'].isnull()]\n",
    "print(\"Cyclists where we have only the weight:\", len(missing_height_with_weight))\n"
   ]
  },
  {
   "cell_type": "markdown",
   "metadata": {},
   "source": [
    "Per questa imputazione, abbiamo pensato a due possibili metodi. Uno è quello di creare un piccolo modello di regressione lineare, un'altro è quello di basarsi sulla media delle distribuzioni suddivise in vari bins."
   ]
  },
  {
   "cell_type": "code",
   "execution_count": 14,
   "metadata": {},
   "outputs": [
    {
     "data": {
      "text/plain": [
       "_url              0\n",
       "name              0\n",
       "birth_year        0\n",
       "weight         2984\n",
       "height         2984\n",
       "nationality       0\n",
       "dtype: int64"
      ]
     },
     "execution_count": 14,
     "metadata": {},
     "output_type": "execute_result"
    }
   ],
   "source": [
    "def linear_regression_imputation():\n",
    "    # Filtra il dataset per ciclisti con peso e altezza presenti\n",
    "    available_data = cyclists_dataset.dropna(subset=['weight', 'height'])\n",
    "\n",
    "    # Modello di regressione per stimare il peso in base all'altezza\n",
    "    model_weight = LinearRegression()\n",
    "    model_weight.fit(available_data[['height']], available_data['weight'])\n",
    "\n",
    "    # Calcolo dei residui per il modello peso-altezza\n",
    "    weight_predicted = model_weight.predict(available_data[['height']])\n",
    "    weight_residuals = available_data['weight'] - weight_predicted\n",
    "\n",
    "    # Modello di regressione per stimare l'altezza in base al peso\n",
    "    model_height = LinearRegression()\n",
    "    model_height.fit(available_data[['weight']], available_data['height'])\n",
    "\n",
    "    # Calcolo dei residui per il modello altezza-peso\n",
    "    height_predicted = model_height.predict(available_data[['weight']])\n",
    "    height_residuals = available_data['height'] - height_predicted\n",
    "\n",
    "    # Funzione per imputare il peso basato sull'altezza\n",
    "    def impute_weight(height):\n",
    "        height_df = pd.DataFrame([[height]], columns=['height'])\n",
    "        predicted_weight = model_weight.predict(height_df)[0]\n",
    "        imputed_weight = predicted_weight + np.random.choice(weight_residuals)\n",
    "        return imputed_weight\n",
    "\n",
    "    # Funzione per imputare l'altezza basata sul peso\n",
    "    def impute_height(weight):\n",
    "        weight_df = pd.DataFrame([[weight]], columns=['weight'])\n",
    "        predicted_height = model_height.predict(weight_df)[0]\n",
    "        imputed_height = predicted_height + np.random.choice(height_residuals)\n",
    "        return imputed_height\n",
    "\n",
    "    # Crea una copia del dataset per l'imputazione\n",
    "    imputed_dataset = cyclists_dataset.copy()\n",
    "\n",
    "    # Applica l'imputazione alla copia del dataset per i ciclisti con altezza disponibile ma peso mancante\n",
    "    imputed_dataset.loc[imputed_dataset['weight'].isnull() & imputed_dataset['height'].notnull(), 'weight'] = \\\n",
    "        imputed_dataset.loc[imputed_dataset['weight'].isnull() & imputed_dataset['height'].notnull(), 'height'].apply(impute_weight)\n",
    "\n",
    "    # Applica l'imputazione alla copia del dataset per i ciclisti con peso disponibile ma altezza mancante\n",
    "    imputed_dataset.loc[imputed_dataset['height'].isnull() & imputed_dataset['weight'].notnull(), 'height'] = \\\n",
    "        imputed_dataset.loc[imputed_dataset['height'].isnull() & imputed_dataset['weight'].notnull(), 'weight'].apply(impute_height)\n",
    "\n",
    "    return imputed_dataset\n",
    "\n",
    "imputed_dataset_lr = linear_regression_imputation()\n",
    "imputed_dataset_lr.isnull().sum() # check if missing values are filled correctly"
   ]
  },
  {
   "cell_type": "code",
   "execution_count": 15,
   "metadata": {},
   "outputs": [
    {
     "data": {
      "text/plain": [
       "weight    2984\n",
       "height    2984\n",
       "dtype: int64"
      ]
     },
     "execution_count": 15,
     "metadata": {},
     "output_type": "execute_result"
    }
   ],
   "source": [
    "def bins_imputation():\n",
    "    # Creare una copia del dataset originale per l'imputazione\n",
    "    imputed_dataset = cyclists_dataset.copy()\n",
    "\n",
    "    # Creare intervalli per altezza e peso (ad esempio per decili o range)\n",
    "    # Qui useremo i decili per distribuire altezza e peso in intervalli\n",
    "    imputed_dataset['height_bin'] = pd.qcut(imputed_dataset['height'], q=10)  # Decili per l'altezza\n",
    "    imputed_dataset['weight_bin'] = pd.qcut(imputed_dataset['weight'], q=10)  # Decili per il peso\n",
    "\n",
    "    # Calcolare la media del peso per ogni intervallo di altezza\n",
    "    height_weight_means = imputed_dataset.groupby('height_bin')['weight'].mean()\n",
    "\n",
    "    # Calcolare la media dell'altezza per ogni intervallo di peso\n",
    "    weight_height_means = imputed_dataset.groupby('weight_bin')['height'].mean()\n",
    "\n",
    "    # Funzione per imputare il peso in base all'intervallo di altezza\n",
    "    def impute_weight_simple(row):\n",
    "        if pd.isnull(row['weight']) and pd.notnull(row['height']):\n",
    "            # Cerca il peso medio corrispondente all'intervallo di altezza\n",
    "            return height_weight_means[row['height_bin']]\n",
    "        return row['weight']\n",
    "\n",
    "    # Funzione per imputare l'altezza in base all'intervallo di peso\n",
    "    def impute_height_simple(row):\n",
    "        if pd.isnull(row['height']) and pd.notnull(row['weight']):\n",
    "            # Cerca l'altezza media corrispondente all'intervallo di peso\n",
    "            return weight_height_means[row['weight_bin']]\n",
    "        return row['height']\n",
    "\n",
    "    # Applicare le funzioni di imputazione sulla copia del dataset\n",
    "    imputed_dataset['weight'] = imputed_dataset.apply(impute_weight_simple, axis=1)\n",
    "    imputed_dataset['height'] = imputed_dataset.apply(impute_height_simple, axis=1)\n",
    "\n",
    "    # Rimuovere le colonne di supporto usate per l'imputazione\n",
    "    imputed_dataset.drop(columns=['height_bin', 'weight_bin'], inplace=True)\n",
    "\n",
    "    return imputed_dataset\n",
    "\n",
    "imputed_dataset_bins = bins_imputation()\n",
    "\n",
    "imputed_dataset_bins[['weight', 'height']].isnull().sum() # check if missing values are filled correctly"
   ]
  },
  {
   "cell_type": "code",
   "execution_count": 16,
   "metadata": {},
   "outputs": [
    {
     "data": {
      "image/png": "[encoded data removed]",
      "text/plain": [
       "<Figure size 1500x1000 with 6 Axes>"
      ]
     },
     "metadata": {},
     "output_type": "display_data"
    }
   ],
   "source": [
    "# Calcola il numero di bin per l'istogramma\n",
    "n_bins = math.ceil(math.log2(len(cyclists_dataset)) + 1)\n",
    "\n",
    "# Crea una griglia 2x3 per i grafici\n",
    "fig, axes = plt.subplots(2, 3, figsize=(15, 10))\n",
    "\n",
    "\n",
    "# Peso prima dell'imputazione\n",
    "sb.histplot(data=cyclists_dataset, x=\"weight\", bins=n_bins, ax=axes[0, 0])\n",
    "axes[0, 0].set_title(\"Weight Before Imputation\")\n",
    "\n",
    "# Peso dopo l'imputazione (regressione lineare)\n",
    "sb.histplot(data=imputed_dataset_lr, x=\"weight\", bins=n_bins, ax=axes[0, 1])\n",
    "axes[0, 1].set_title(\"Weight After Imputation (Linear Regression)\")\n",
    "\n",
    "# Peso dopo l'imputazione (binning)\n",
    "sb.histplot(data=imputed_dataset_bins, x=\"weight\", bins=n_bins, ax=axes[0, 2])\n",
    "axes[0, 2].set_title(\"Weight After Imputation (Binning)\")\n",
    "\n",
    "\n",
    "# Altezza prima dell'imputazione\n",
    "sb.histplot(data=cyclists_dataset, x=\"height\", bins=n_bins, ax=axes[1, 0])\n",
    "axes[1, 0].set_title(\"Height Before Imputation\")\n",
    "\n",
    "# Altezza dopo l'imputazione (regressione lineare)\n",
    "sb.histplot(data=imputed_dataset_lr, x=\"height\", bins=n_bins, ax=axes[1, 1])\n",
    "axes[1, 1].set_title(\"Height After Imputation (Linear Regression)\")\n",
    "\n",
    "# Altezza dopo l'imputazione (binning)\n",
    "sb.histplot(data=imputed_dataset_bins, x=\"height\", bins=n_bins, ax=axes[1, 2])\n",
    "axes[1, 2].set_title(\"Height After Imputation (Binning)\")\n",
    "\n",
    "\n",
    "# Imposta uno stile di layout compatto\n",
    "plt.tight_layout()\n",
    "plt.show()"
   ]
  },
  {
   "cell_type": "markdown",
   "metadata": {},
   "source": [
    "Entrambi i metodi riescono correttamente a imputare i valori di interesse. Inoltre, notiamo dalle distribuzioni che non è presente una grande differenza, ma comunque l'imputazione con il secondo metodo mantiene una distribuzione più coerente con quella iniziale, quindi andremo ad effettuare l'imputazione sfruttando la media nella distribuzione."
   ]
  },
  {
   "cell_type": "code",
   "execution_count": 17,
   "metadata": {},
   "outputs": [],
   "source": [
    "# Creare intervalli per altezza e peso (ad esempio per decili o range)\n",
    "# Qui useremo i decili per distribuire altezza e peso in intervalli\n",
    "cyclists_dataset['height_bin'] = pd.qcut(cyclists_dataset['height'], q=10)  # Decili per l'altezza\n",
    "cyclists_dataset['weight_bin'] = pd.qcut(cyclists_dataset['weight'], q=10)  # Decili per il peso\n",
    "\n",
    "# Calcolare la media del peso per ogni intervallo di altezza\n",
    "height_weight_means = cyclists_dataset.groupby('height_bin')['weight'].mean()\n",
    "\n",
    "# Calcolare la media dell'altezza per ogni intervallo di peso\n",
    "weight_height_means = cyclists_dataset.groupby('weight_bin')['height'].mean()\n",
    "\n",
    "# Funzione per imputare il peso in base all'intervallo di altezza\n",
    "def impute_weight_simple(row):\n",
    "    if pd.isnull(row['weight']) and pd.notnull(row['height']):\n",
    "        # Cerca il peso medio corrispondente all'intervallo di altezza\n",
    "        return height_weight_means[row['height_bin']]\n",
    "    return row['weight']\n",
    "\n",
    "# Funzione per imputare l'altezza in base all'intervallo di peso\n",
    "def impute_height_simple(row):\n",
    "    if pd.isnull(row['height']) and pd.notnull(row['weight']):\n",
    "        # Cerca l'altezza media corrispondente all'intervallo di peso\n",
    "        return weight_height_means[row['weight_bin']]\n",
    "    return row['height']\n",
    "\n",
    "# Applicare le funzioni di imputazione\n",
    "cyclists_dataset['weight'] = cyclists_dataset.apply(impute_weight_simple, axis=1)\n",
    "cyclists_dataset['height'] = cyclists_dataset.apply(impute_height_simple, axis=1)\n",
    "\n",
    "# Rimuovere le colonne di supporto usate per l'imputazione\n",
    "cyclists_dataset.drop(columns=['height_bin', 'weight_bin'], inplace=True)\n",
    "\n",
    "# Arrotondare il peso a una cifra decimale e l'altezza a zero cifre decimali\n",
    "cyclists_dataset['weight'] = cyclists_dataset['weight'].round(1)\n",
    "cyclists_dataset['height'] = cyclists_dataset['height'].round(0)"
   ]
  },
  {
   "cell_type": "code",
   "execution_count": 18,
   "metadata": {},
   "outputs": [
    {
     "data": {
      "text/plain": [
       "weight    2984\n",
       "height    2984\n",
       "dtype: int64"
      ]
     },
     "execution_count": 18,
     "metadata": {},
     "output_type": "execute_result"
    }
   ],
   "source": [
    "cyclists_dataset[['weight', 'height']].isnull().sum() # check if missing values are filled correctly"
   ]
  },
  {
   "cell_type": "markdown",
   "metadata": {},
   "source": [
    "Per i restanti null values, è nostra intenzione eliminare i record dei ciclisti senza altezza e peso che non sono presenti nelle gare, e questo verrà fatto automaticamente quando a breve andremo ad unire i due dataset.\n",
    "Non eliminiamo tutti i record con peso e altezza nulli perchè potremmo comunque fare delle analisi basandoci sugli altri valori.\n"
   ]
  },
  {
   "cell_type": "code",
   "execution_count": 19,
   "metadata": {},
   "outputs": [],
   "source": [
    "# Order cyclists dataset by _url\n",
    "cyclists_dataset = cyclists_dataset.sort_values(by='_url')"
   ]
  },
  {
   "cell_type": "markdown",
   "metadata": {},
   "source": [
    "## Races"
   ]
  },
  {
   "cell_type": "code",
   "execution_count": 102,
   "metadata": {},
   "outputs": [
    {
     "data": {
      "text/html": [
       "<div>\n",
       "<style scoped>\n",
       "    .dataframe tbody tr th:only-of-type {\n",
       "        vertical-align: middle;\n",
       "    }\n",
       "\n",
       "    .dataframe tbody tr th {\n",
       "        vertical-align: top;\n",
       "    }\n",
       "\n",
       "    .dataframe thead th {\n",
       "        text-align: right;\n",
       "    }\n",
       "</style>\n",
       "<table border=\"1\" class=\"dataframe\">\n",
       "  <thead>\n",
       "    <tr style=\"text-align: right;\">\n",
       "      <th></th>\n",
       "      <th>_url</th>\n",
       "      <th>name</th>\n",
       "      <th>points</th>\n",
       "      <th>uci_points</th>\n",
       "      <th>length</th>\n",
       "      <th>climb_total</th>\n",
       "      <th>profile</th>\n",
       "      <th>startlist_quality</th>\n",
       "      <th>average_temperature</th>\n",
       "      <th>date</th>\n",
       "      <th>position</th>\n",
       "      <th>cyclist</th>\n",
       "      <th>cyclist_age</th>\n",
       "      <th>is_tarmac</th>\n",
       "      <th>is_cobbled</th>\n",
       "      <th>is_gravel</th>\n",
       "      <th>cyclist_team</th>\n",
       "      <th>delta</th>\n",
       "    </tr>\n",
       "  </thead>\n",
       "  <tbody>\n",
       "    <tr>\n",
       "      <th>0</th>\n",
       "      <td>tour-de-france/1978/stage-6</td>\n",
       "      <td>Tour de France</td>\n",
       "      <td>100.0</td>\n",
       "      <td>NaN</td>\n",
       "      <td>162000.0</td>\n",
       "      <td>1101.0</td>\n",
       "      <td>1.0</td>\n",
       "      <td>1241</td>\n",
       "      <td>NaN</td>\n",
       "      <td>1978-07-05 04:02:24</td>\n",
       "      <td>0</td>\n",
       "      <td>sean-kelly</td>\n",
       "      <td>22.0</td>\n",
       "      <td>True</td>\n",
       "      <td>False</td>\n",
       "      <td>False</td>\n",
       "      <td>vini-ricordi-pinarello-sidermec-1986</td>\n",
       "      <td>0.0</td>\n",
       "    </tr>\n",
       "    <tr>\n",
       "      <th>1</th>\n",
       "      <td>tour-de-france/1978/stage-6</td>\n",
       "      <td>Tour de France</td>\n",
       "      <td>100.0</td>\n",
       "      <td>NaN</td>\n",
       "      <td>162000.0</td>\n",
       "      <td>1101.0</td>\n",
       "      <td>1.0</td>\n",
       "      <td>1241</td>\n",
       "      <td>NaN</td>\n",
       "      <td>1978-07-05 04:02:24</td>\n",
       "      <td>1</td>\n",
       "      <td>gerrie-knetemann</td>\n",
       "      <td>27.0</td>\n",
       "      <td>True</td>\n",
       "      <td>False</td>\n",
       "      <td>False</td>\n",
       "      <td>norway-1987</td>\n",
       "      <td>0.0</td>\n",
       "    </tr>\n",
       "    <tr>\n",
       "      <th>2</th>\n",
       "      <td>tour-de-france/1978/stage-6</td>\n",
       "      <td>Tour de France</td>\n",
       "      <td>100.0</td>\n",
       "      <td>NaN</td>\n",
       "      <td>162000.0</td>\n",
       "      <td>1101.0</td>\n",
       "      <td>1.0</td>\n",
       "      <td>1241</td>\n",
       "      <td>NaN</td>\n",
       "      <td>1978-07-05 04:02:24</td>\n",
       "      <td>2</td>\n",
       "      <td>rene-bittinger</td>\n",
       "      <td>24.0</td>\n",
       "      <td>True</td>\n",
       "      <td>False</td>\n",
       "      <td>False</td>\n",
       "      <td>NaN</td>\n",
       "      <td>0.0</td>\n",
       "    </tr>\n",
       "    <tr>\n",
       "      <th>3</th>\n",
       "      <td>tour-de-france/1978/stage-6</td>\n",
       "      <td>Tour de France</td>\n",
       "      <td>100.0</td>\n",
       "      <td>NaN</td>\n",
       "      <td>162000.0</td>\n",
       "      <td>1101.0</td>\n",
       "      <td>1.0</td>\n",
       "      <td>1241</td>\n",
       "      <td>NaN</td>\n",
       "      <td>1978-07-05 04:02:24</td>\n",
       "      <td>3</td>\n",
       "      <td>joseph-bruyere</td>\n",
       "      <td>30.0</td>\n",
       "      <td>True</td>\n",
       "      <td>False</td>\n",
       "      <td>False</td>\n",
       "      <td>navigare-blue-storm-1993</td>\n",
       "      <td>0.0</td>\n",
       "    </tr>\n",
       "    <tr>\n",
       "      <th>4</th>\n",
       "      <td>tour-de-france/1978/stage-6</td>\n",
       "      <td>Tour de France</td>\n",
       "      <td>100.0</td>\n",
       "      <td>NaN</td>\n",
       "      <td>162000.0</td>\n",
       "      <td>1101.0</td>\n",
       "      <td>1.0</td>\n",
       "      <td>1241</td>\n",
       "      <td>NaN</td>\n",
       "      <td>1978-07-05 04:02:24</td>\n",
       "      <td>4</td>\n",
       "      <td>sven-ake-nilsson</td>\n",
       "      <td>27.0</td>\n",
       "      <td>True</td>\n",
       "      <td>False</td>\n",
       "      <td>False</td>\n",
       "      <td>spain-1991</td>\n",
       "      <td>0.0</td>\n",
       "    </tr>\n",
       "  </tbody>\n",
       "</table>\n",
       "</div>"
      ],
      "text/plain": [
       "                          _url            name  points  uci_points    length  \\\n",
       "0  tour-de-france/1978/stage-6  Tour de France   100.0         NaN  162000.0   \n",
       "1  tour-de-france/1978/stage-6  Tour de France   100.0         NaN  162000.0   \n",
       "2  tour-de-france/1978/stage-6  Tour de France   100.0         NaN  162000.0   \n",
       "3  tour-de-france/1978/stage-6  Tour de France   100.0         NaN  162000.0   \n",
       "4  tour-de-france/1978/stage-6  Tour de France   100.0         NaN  162000.0   \n",
       "\n",
       "   climb_total  profile  startlist_quality  average_temperature  \\\n",
       "0       1101.0      1.0               1241                  NaN   \n",
       "1       1101.0      1.0               1241                  NaN   \n",
       "2       1101.0      1.0               1241                  NaN   \n",
       "3       1101.0      1.0               1241                  NaN   \n",
       "4       1101.0      1.0               1241                  NaN   \n",
       "\n",
       "                  date  position           cyclist  cyclist_age  is_tarmac  \\\n",
       "0  1978-07-05 04:02:24         0        sean-kelly         22.0       True   \n",
       "1  1978-07-05 04:02:24         1  gerrie-knetemann         27.0       True   \n",
       "2  1978-07-05 04:02:24         2    rene-bittinger         24.0       True   \n",
       "3  1978-07-05 04:02:24         3    joseph-bruyere         30.0       True   \n",
       "4  1978-07-05 04:02:24         4  sven-ake-nilsson         27.0       True   \n",
       "\n",
       "   is_cobbled  is_gravel                          cyclist_team  delta  \n",
       "0       False      False  vini-ricordi-pinarello-sidermec-1986    0.0  \n",
       "1       False      False                           norway-1987    0.0  \n",
       "2       False      False                                   NaN    0.0  \n",
       "3       False      False              navigare-blue-storm-1993    0.0  \n",
       "4       False      False                            spain-1991    0.0  "
      ]
     },
     "execution_count": 102,
     "metadata": {},
     "output_type": "execute_result"
    }
   ],
   "source": [
    "csv_file = \"../data/races.csv\"\n",
    "races_dataset = pd.read_csv(csv_file)\n",
    "races_dataset.head()"
   ]
  },
  {
   "cell_type": "markdown",
   "metadata": {},
   "source": [
    "### Modify columns\n",
    "\n",
    "Before cleaning the races dataset, we redefine the dataframe with the modified columns of date and is_foo"
   ]
  },
  {
   "cell_type": "code",
   "execution_count": 103,
   "metadata": {},
   "outputs": [],
   "source": [
    "races_dataset['climb_total'] = races_dataset[races_dataset['climb_total'].notnull()]['climb_total'].astype(int)\n",
    "\n",
    "races_dataset['profile'] = races_dataset['profile'].astype('category')\n",
    "\n",
    "races_dataset['cyclist_age'] = races_dataset[races_dataset['cyclist_age'].notnull()]['cyclist_age'].astype(int)\n",
    "\n",
    "races_dataset['date'] = races_dataset['date'].str.split(' ').str[0]\n",
    "races_dataset['date'] = pd.to_datetime(races_dataset['date'], format='%Y-%m-%d')\n",
    "\n",
    "races_dataset = races_dataset.drop(columns=['is_cobbled', 'is_gravel'])\n",
    "races_dataset = races_dataset.rename(columns={'is_tarmac': 'mostly_tarmac'})\n",
    "\n",
    "races_dataset = races_dataset.drop(columns=['average_temperature'])"
   ]
  },
  {
   "cell_type": "markdown",
   "metadata": {},
   "source": [
    "Inoltre iniziamo ad aggiungere la colonna \"year\" (per l'anno della gara) e la colonna \"stage\" (per lo stage della gara) che andremo ad utilizzare frequentemente per l'imputation."
   ]
  },
  {
   "cell_type": "code",
   "execution_count": 104,
   "metadata": {},
   "outputs": [],
   "source": [
    "races_dataset['year'] = pd.to_datetime(races_dataset['date']).dt.year\n",
    "races_dataset['stage'] = races_dataset['_url'].str.split('/', expand=True)[2]"
   ]
  },
  {
   "cell_type": "markdown",
   "metadata": {},
   "source": [
    "### Deletions of rows"
   ]
  },
  {
   "cell_type": "markdown",
   "metadata": {},
   "source": [
    "Considerando la presenza di uno stesso ciclista più volte (massimo due volte) nella stessa classifica di una specifica gara, abbiamo deciso di eliminare la seconda occorrenza e tenere solo la prima."
   ]
  },
  {
   "cell_type": "code",
   "execution_count": 105,
   "metadata": {},
   "outputs": [],
   "source": [
    "# Identify duplicate rows for each cyclist in each URL (excluding the first occurrence)\n",
    "duplicate_rows = races_dataset.duplicated(subset=['_url', 'cyclist'], keep='first')\n",
    "# Delete only the second occurrences (duplicate)\n",
    "races_dataset = races_dataset[~duplicate_rows]"
   ]
  },
  {
   "cell_type": "code",
   "execution_count": 106,
   "metadata": {},
   "outputs": [
    {
     "data": {
      "text/plain": [
       "_url                      0\n",
       "name                      0\n",
       "points                  477\n",
       "uci_points           338654\n",
       "length                    0\n",
       "climb_total          146976\n",
       "profile              148089\n",
       "startlist_quality         0\n",
       "date                      0\n",
       "position                  0\n",
       "cyclist                   0\n",
       "cyclist_age             113\n",
       "mostly_tarmac             0\n",
       "cyclist_team         159085\n",
       "delta                     0\n",
       "year                      0\n",
       "stage                     0\n",
       "dtype: int64"
      ]
     },
     "execution_count": 106,
     "metadata": {},
     "output_type": "execute_result"
    }
   ],
   "source": [
    "races_dataset.isnull().sum() # check number of missing values"
   ]
  },
  {
   "cell_type": "markdown",
   "metadata": {},
   "source": [
    "### Imputation"
   ]
  },
  {
   "cell_type": "code",
   "execution_count": 48,
   "metadata": {},
   "outputs": [
    {
     "data": {
      "text/plain": [
       "_url                      0\n",
       "name                      0\n",
       "points                  477\n",
       "uci_points           338654\n",
       "length                    0\n",
       "climb_total          146976\n",
       "profile              148089\n",
       "startlist_quality         0\n",
       "date                      0\n",
       "position                  0\n",
       "cyclist                   0\n",
       "cyclist_age             113\n",
       "mostly_tarmac             0\n",
       "cyclist_team         159085\n",
       "delta                     0\n",
       "year                      0\n",
       "stage                     0\n",
       "dtype: int64"
      ]
     },
     "execution_count": 48,
     "metadata": {},
     "output_type": "execute_result"
    }
   ],
   "source": [
    "races_dataset.isnull().sum() # check number of missing values"
   ]
  },
  {
   "cell_type": "markdown",
   "metadata": {},
   "source": [
    "#### Imputation of points and uci points\n",
    "\n",
    "Proviamo a fare l'imputaton dei points e uci_points mancanti"
   ]
  },
  {
   "cell_type": "markdown",
   "metadata": {},
   "source": [
    "Partendo dai points, faremo l'imputazione considerando i punteggi delle gare \"vicine\", ossia considerando il punteggio della stessa gara ma che è stata effettuata un altro anno, basandoci sull'anno più vicino alla gara su cui imputare."
   ]
  },
  {
   "cell_type": "code",
   "execution_count": 49,
   "metadata": {},
   "outputs": [
    {
     "name": "stdout",
     "output_type": "stream",
     "text": [
      "Missing points for vuelta-a-espana/1994/stage-5, race Vuelta a España in 1994\n",
      "Missing points for tour-de-france/1986/stage-19, race Tour de France in 1986\n",
      "Missing points for tour-de-france/1988/prologue, race Tour de France in 1988\n",
      "Missing points for tour-de-france/2019/stage-19, race Tour de France in 2019\n"
     ]
    }
   ],
   "source": [
    "# Ottieni dati unici basati su '_url' e 'points'\n",
    "unique_data = races_dataset.drop_duplicates(subset=['_url', 'points'])\n",
    "\n",
    "# Filtra le righe dove 'points' è nullo\n",
    "invalid_races = unique_data[unique_data['points'].isnull()]\n",
    "for url, name, year in invalid_races[['_url', 'name', 'year']].values:\n",
    "    print(f\"Missing points for {url}, race {name} in {year}\")"
   ]
  },
  {
   "cell_type": "code",
   "execution_count": 50,
   "metadata": {},
   "outputs": [
    {
     "name": "stdout",
     "output_type": "stream",
     "text": [
      "For race Vuelta a España in Vuelta a España: \n",
      "the race before has [80.] points, and the race after has [80.] points\n",
      "For race Tour de France in Tour de France: \n",
      "the race before has [100.] points, and the race after has [100.] points\n",
      "For race Tour de France in Tour de France: \n",
      "the race before has [100.] points, and the race after has [100.] points\n",
      "For race Tour de France in Tour de France: \n",
      "the race before has [100.] points, and the race after has [100.] points\n"
     ]
    }
   ],
   "source": [
    "# Get the name and year and check the the two near races, before and after the current year\n",
    "for name, stage, year in invalid_races[['name', 'stage', 'year']].values:\n",
    "    race_before = unique_data[\n",
    "        (unique_data['name'] == name) & (unique_data['stage'] == stage) &\n",
    "        (unique_data['year'] < year)\n",
    "        ].sort_values(by='year', ascending=False).head(1)\n",
    "    race_after = unique_data[\n",
    "        (unique_data['name'] == name) & (unique_data['stage'] == stage) &\n",
    "        (unique_data['year'] > year)\n",
    "        ].sort_values(by='year', ascending=True).head(1)\n",
    "    print(f\"For race {name} in {name}: \\n\"\n",
    "          f\"the race before has {race_before['points'].values} points, and the race after has {race_after['points'].values} points\")"
   ]
  },
  {
   "cell_type": "code",
   "execution_count": 51,
   "metadata": {},
   "outputs": [
    {
     "data": {
      "text/plain": [
       "np.int64(0)"
      ]
     },
     "execution_count": 51,
     "metadata": {},
     "output_type": "execute_result"
    }
   ],
   "source": [
    "# Loop su ogni riga senza punti e tenta di trovare il valore dell'anno precedente\n",
    "for index, row in invalid_races.iterrows():\n",
    "    # Trova la riga dell'anno più recente con lo stesso 'name' ma con 'year' minore\n",
    "    previous_race = unique_data[\n",
    "        (unique_data['name'] == row['name']) & (unique_data['stage'] == row['stage']) &\n",
    "        (unique_data['year'] < row['year'])\n",
    "        ].sort_values(by='year', ascending=False).head(1)\n",
    "    \n",
    "    # Verifica se è stata trovata una riga corrispondente\n",
    "    if not previous_race.empty:\n",
    "        # Ottieni i punti della riga trovata\n",
    "        previous_points = previous_race.iloc[0]['points']\n",
    "        \n",
    "        # Assegna questi punti alla riga originale nel dataset\n",
    "        races_dataset.loc[races_dataset['_url'] == row['_url'], 'points'] = previous_points\n",
    "\n",
    "races_dataset['points'].isnull().sum() # check if missing values are filled correctly"
   ]
  },
  {
   "cell_type": "markdown",
   "metadata": {},
   "source": [
    "Ora, passiamo agli uci points, dove sfruttiamo il valori delle gare in anni diversi, oppure i valori di points con le varie medie."
   ]
  },
  {
   "cell_type": "code",
   "execution_count": 52,
   "metadata": {},
   "outputs": [],
   "source": [
    "# Filtra le righe con 'year' >= 2001 e 'uci_points' null\n",
    "invalid_races = races_dataset[(races_dataset['year'] > 2000) & races_dataset['uci_points'].isnull()].sort_values(by='year')\n",
    "\n",
    "# Trova le gare (stage) dove 'uci_points' è sempre nullo\n",
    "n_points = races_dataset.groupby(['name', 'stage'])['uci_points'].nunique()\n",
    "stages_without_points = n_points[n_points == 0].index  # Ottieni le combinazioni (name, stage)"
   ]
  },
  {
   "cell_type": "code",
   "execution_count": 53,
   "metadata": {},
   "outputs": [],
   "source": [
    "# Loop per cicli di imputazione fino a quando non vengono più modificati valori\n",
    "converged = False\n",
    "\n",
    "while not converged:\n",
    "    # Filtra le righe con 'year' >= 2001 e 'uci_points' null\n",
    "    # E rimuovi le gare (stage) senza alcun valore di 'uci_points'\n",
    "    invalid_races = races_dataset[\n",
    "        (races_dataset['year'] > 2000) & \n",
    "        races_dataset['uci_points'].isnull() & \n",
    "        ~races_dataset.set_index(['name', 'stage']).index.isin(stages_without_points)\n",
    "    ].sort_values(by='year')\n",
    "\n",
    "    # Ottieni dati unici basati su '_url' e 'uci_points'\n",
    "    unique_data = races_dataset.drop_duplicates(subset=['_url', 'uci_points']).sort_values(by='year')\n",
    "\n",
    "    # Preparare mappe per il valore precedente e successivo di 'uci_points'\n",
    "    previous_races = unique_data.groupby(['name', 'stage']).apply(\n",
    "        lambda x: x.assign(prev_uci_points=x['uci_points'].shift(1), prev_year=x['year'].shift(1))\n",
    "    ).reset_index(drop=True)\n",
    "\n",
    "    next_races = unique_data.groupby(['name', 'stage']).apply(\n",
    "        lambda x: x.assign(next_uci_points=x['uci_points'].shift(-1), next_year=x['year'].shift(-1))\n",
    "    ).reset_index(drop=True)\n",
    "\n",
    "    # Unire le informazioni di previous e next in una singola mappa\n",
    "    unique_data = previous_races.merge(\n",
    "        next_races[['name', 'stage', '_url', 'next_uci_points', 'next_year']],\n",
    "        on=['name', 'stage', '_url'],\n",
    "        how='left'\n",
    "    )\n",
    "\n",
    "    # Funzione per determinare il valore più vicino\n",
    "    def get_closest_uci_points(row):\n",
    "        if pd.notnull(row['prev_uci_points']):\n",
    "            return row['prev_uci_points']\n",
    "        elif pd.notnull(row['next_uci_points']):\n",
    "            return row['next_uci_points']\n",
    "        return None\n",
    "\n",
    "    # Applicare la logica vettorialmente alle gare senza 'uci_points'\n",
    "    fill_values = invalid_races.merge(\n",
    "        unique_data,\n",
    "        on=['name', 'stage', '_url'],\n",
    "        how='left'\n",
    "    ).apply(get_closest_uci_points, axis=1)\n",
    "\n",
    "    # Aggiorna i valori in modo diretto\n",
    "    races_dataset.loc[invalid_races.index, 'uci_points'] = fill_values.values\n",
    "\n",
    "    # Verifica se ci sono ancora valori mancanti\n",
    "    if fill_values.isnull().sum() == 0:\n",
    "        converged = True\n",
    "        break\n",
    "\n",
    "# Arrotondare 'uci_points' a zero cifre decimali\n",
    "races_dataset['uci_points'] = races_dataset['uci_points'].round(0)\n"
   ]
  },
  {
   "cell_type": "code",
   "execution_count": 54,
   "metadata": {},
   "outputs": [
    {
     "data": {
      "text/plain": [
       "np.int64(185650)"
      ]
     },
     "execution_count": 54,
     "metadata": {},
     "output_type": "execute_result"
    }
   ],
   "source": [
    "races_dataset['uci_points'].isnull().sum()"
   ]
  },
  {
   "cell_type": "code",
   "execution_count": 55,
   "metadata": {},
   "outputs": [],
   "source": [
    "# Creare intervalli (decili) per la colonna 'points' considerando solo gli anni > 2000\n",
    "races_dataset['points_bin'] = pd.qcut(\n",
    "    races_dataset.loc[races_dataset['year'] > 2000, 'points'], \n",
    "    q=10, \n",
    "    duplicates='drop'\n",
    ")\n",
    "\n",
    "# Calcolare la media dei 'uci_points' per ogni intervallo di 'points' (solo per anni > 2000)\n",
    "points_means = races_dataset[races_dataset['year'] > 2000].groupby('points_bin')['uci_points'].mean()\n",
    "\n",
    "def impute_uci_points_simple(row):\n",
    "    # Imputa 'uci_points' solo se è nullo e l'anno è > 2000\n",
    "    if pd.isnull(row['uci_points']) and row['year'] > 2000:\n",
    "        # Cerca la media dei 'uci_points' corrispondente all'intervallo di 'points'\n",
    "        return points_means.get(row['points_bin'], row['uci_points'])  # Usa get per gestire valori mancanti in 'points_bin'\n",
    "    return row['uci_points']\n",
    "\n",
    "# Applicare la funzione di imputazione\n",
    "races_dataset['uci_points'] = races_dataset.apply(impute_uci_points_simple, axis=1)\n",
    "\n",
    "# Rimuovere la colonna di supporto usata per l'imputazione\n",
    "races_dataset.drop(columns=['points_bin'], inplace=True)\n",
    "\n",
    "# Arrotondare 'uci_points' a zero cifre decimali\n",
    "races_dataset['uci_points'] = races_dataset['uci_points'].round(0)"
   ]
  },
  {
   "cell_type": "code",
   "execution_count": 56,
   "metadata": {},
   "outputs": [
    {
     "data": {
      "text/plain": [
       "np.int64(167555)"
      ]
     },
     "execution_count": 56,
     "metadata": {},
     "output_type": "execute_result"
    }
   ],
   "source": [
    "races_dataset['uci_points'].isnull().sum() # check if missing values are filled correctly"
   ]
  },
  {
   "cell_type": "code",
   "execution_count": 57,
   "metadata": {},
   "outputs": [
    {
     "name": "stdout",
     "output_type": "stream",
     "text": [
      "Number of invalid URLs: 0 over 2780\n"
     ]
    }
   ],
   "source": [
    "# Filtra le righe con 'year' >= 2001 e 'uci_points' null\n",
    "filtered_df = races_dataset[(races_dataset['year'] > 2000) & races_dataset['uci_points'].isnull()]\n",
    "\n",
    "# Trova gli URL unici nel DataFrame filtrato\n",
    "invalid_urls = filtered_df['_url'].unique()\n",
    "all_uci_urls = races_dataset[races_dataset['year'] > 2000]['_url'].unique()\n",
    "\n",
    "# Stampa il numero di URL non validi\n",
    "print(f\"Number of invalid URLs: {len(invalid_urls)} over {len(all_uci_urls)}\")"
   ]
  },
  {
   "cell_type": "markdown",
   "metadata": {},
   "source": [
    "#### Imputation of climb_total & profile values\n",
    "\n",
    "We impute the missing climb total values basing on the races in different years. After that, since the correlation between the climb total values and the profile values, we decided to impute the null profile values in the races where we have the climb total value, and viceversa"
   ]
  },
  {
   "cell_type": "code",
   "execution_count": 58,
   "metadata": {},
   "outputs": [],
   "source": [
    "def impute_climb_total():\n",
    "\n",
    "    # Loop per cicli di imputazione fino a quando non vengono più modificati valori\n",
    "    converged = False\n",
    "\n",
    "    while not converged:\n",
    "        # Trova le gare (stage) dove 'climb_total' è sempre nullo\n",
    "        n_climb_total = races_dataset.groupby(['name', 'stage'])['climb_total'].nunique()\n",
    "        stages_without_climb_total = n_climb_total[n_climb_total == 0].index  # Ottieni le combinazioni (name, stage)\n",
    "\n",
    "        # Filtra le righe 'climb_total' null\n",
    "        # E rimuovi le gare (stage) senza alcun valore di 'uci_points'\n",
    "        invalid_races = races_dataset[\n",
    "            races_dataset['climb_total'].isnull() & \n",
    "            ~races_dataset.set_index(['name', 'stage']).index.isin(stages_without_climb_total)\n",
    "        ].sort_values(by='year')\n",
    "\n",
    "        # Ottieni dati unici basati su '_url' e 'climb_total'\n",
    "        unique_data = races_dataset.drop_duplicates(subset=['_url', 'climb_total']).sort_values(by='year')\n",
    "\n",
    "        # Preparare mappe per il valore precedente e successivo di 'climb_total'\n",
    "        previous_races = unique_data.groupby(['name', 'stage']).apply(\n",
    "            lambda x: x.assign(prev_climb_total=x['climb_total'].shift(1), prev_year=x['year'].shift(1))\n",
    "        ).reset_index(drop=True)\n",
    "\n",
    "        next_races = unique_data.groupby(['name', 'stage']).apply(\n",
    "            lambda x: x.assign(next_climb_total=x['climb_total'].shift(-1), next_year=x['year'].shift(-1))\n",
    "        ).reset_index(drop=True)\n",
    "\n",
    "        # Unire le informazioni di previous e next in una singola mappa\n",
    "        unique_data = previous_races.merge(\n",
    "            next_races[['name', 'stage', '_url', 'next_climb_total', 'next_year']],\n",
    "            on=['name', 'stage', '_url'],\n",
    "            how='left'\n",
    "        )\n",
    "\n",
    "        # Funzione per determinare il valore più vicino\n",
    "        def get_closest_climb_total(row):\n",
    "            if pd.notnull(row['prev_climb_total']):\n",
    "                return row['prev_climb_total']\n",
    "            elif pd.notnull(row['next_climb_total']):\n",
    "                return row['next_climb_total']\n",
    "            return None\n",
    "\n",
    "        # Applicare la logica vettorialmente alle gare senza 'climb_total'\n",
    "        fill_values = invalid_races.merge(\n",
    "            unique_data,\n",
    "            on=['name', 'stage', '_url'],\n",
    "            how='left'\n",
    "        ).apply(get_closest_climb_total, axis=1)\n",
    "\n",
    "        # Aggiorna i valori in modo diretto\n",
    "        races_dataset.loc[invalid_races.index, 'climb_total'] = fill_values.values\n",
    "\n",
    "        # Verifica se ci sono ancora valori mancanti\n",
    "        if fill_values.isnull().sum() == 0:\n",
    "            converged = True\n",
    "            break\n",
    "\n",
    "    # Arrotondare 'climb_total' a zero cifre decimali\n",
    "    races_dataset['climb_total'] = races_dataset['climb_total'].round(0)"
   ]
  },
  {
   "cell_type": "code",
   "execution_count": 59,
   "metadata": {},
   "outputs": [
    {
     "data": {
      "text/plain": [
       "np.int64(27449)"
      ]
     },
     "execution_count": 59,
     "metadata": {},
     "output_type": "execute_result"
    }
   ],
   "source": [
    "impute_climb_total()\n",
    "races_dataset['climb_total'].isnull().sum() # check if missing values are filled correctly"
   ]
  },
  {
   "cell_type": "code",
   "execution_count": 60,
   "metadata": {},
   "outputs": [],
   "source": [
    "def impute_climb_and_profile():\n",
    "    # Creare intervalli per 'climb_total' (decili), eliminando i bordi duplicati\n",
    "    races_dataset['climb_total_bin'] = pd.qcut(races_dataset['climb_total'], q=10, duplicates='drop')\n",
    "\n",
    "    # Calcolare la moda di 'profile' per ogni intervallo di 'climb_total'\n",
    "    profile_mode_by_climb = races_dataset.groupby('climb_total_bin')['profile'].agg(lambda x: x.mode().iloc[0] if not x.mode().empty else None)\n",
    "\n",
    "    # Calcolare la media di 'climb_total' per ogni valore di 'profile'\n",
    "    climb_mean_by_profile = races_dataset.groupby('profile')['climb_total'].mean()\n",
    "\n",
    "    # Funzione per imputare 'profile' in base a 'climb_total'\n",
    "    def impute_profile_based_on_climb(row):\n",
    "        # Imputa 'profile' solo se è nullo e 'climb_total' è disponibile\n",
    "        if pd.isnull(row['profile']) and pd.notnull(row['climb_total']):\n",
    "            return profile_mode_by_climb.get(row['climb_total_bin'], row['profile'])\n",
    "        return row['profile']\n",
    "\n",
    "    # Funzione per imputare 'climb_total' in base a 'profile'\n",
    "    def impute_climb_based_on_profile(row):\n",
    "        # Imputa 'climb_total' solo se è nullo e 'profile' è disponibile\n",
    "        if pd.isnull(row['climb_total']) and pd.notnull(row['profile']):\n",
    "            return climb_mean_by_profile.get(row['profile'], row['climb_total'])\n",
    "        return row['climb_total']\n",
    "\n",
    "    # Applicare le funzioni di imputazione\n",
    "    races_dataset['profile'] = races_dataset.apply(impute_profile_based_on_climb, axis=1)\n",
    "    races_dataset['climb_total'] = races_dataset.apply(impute_climb_based_on_profile, axis=1)\n",
    "\n",
    "    # Rimuovere la colonna di supporto usata per l’imputazione\n",
    "    races_dataset.drop(columns=['climb_total_bin'], inplace=True)\n",
    "\n",
    "    # Arrotondare 'climb_total' a zero cifre decimali\n",
    "    races_dataset['climb_total'] = races_dataset['climb_total'].round(0)"
   ]
  },
  {
   "cell_type": "code",
   "execution_count": 61,
   "metadata": {},
   "outputs": [
    {
     "data": {
      "text/plain": [
       "profile        23391\n",
       "climb_total    23391\n",
       "dtype: int64"
      ]
     },
     "execution_count": 61,
     "metadata": {},
     "output_type": "execute_result"
    }
   ],
   "source": [
    "impute_climb_and_profile()\n",
    "races_dataset[['profile', 'climb_total']].isnull().sum() # check if missing values are filled correctly"
   ]
  },
  {
   "cell_type": "code",
   "execution_count": 62,
   "metadata": {},
   "outputs": [
    {
     "data": {
      "text/plain": [
       "np.int64(16582)"
      ]
     },
     "execution_count": 62,
     "metadata": {},
     "output_type": "execute_result"
    }
   ],
   "source": [
    "impute_climb_total()\n",
    "races_dataset['climb_total'].isnull().sum() # check if missing values are filled correctly"
   ]
  },
  {
   "cell_type": "code",
   "execution_count": 63,
   "metadata": {},
   "outputs": [
    {
     "data": {
      "text/plain": [
       "profile        16582\n",
       "climb_total    16582\n",
       "dtype: int64"
      ]
     },
     "execution_count": 63,
     "metadata": {},
     "output_type": "execute_result"
    }
   ],
   "source": [
    "impute_climb_and_profile()\n",
    "races_dataset[['profile', 'climb_total']].isnull().sum() # check if missing values are filled correctly"
   ]
  },
  {
   "cell_type": "markdown",
   "metadata": {},
   "source": [
    "#### Imputation of cyclist team\n",
    "Ora proviamo a fare imputation di alcuni ciclist teams dati i team nelle gare vicine"
   ]
  },
  {
   "cell_type": "code",
   "execution_count": 107,
   "metadata": {},
   "outputs": [
    {
     "name": "stdout",
     "output_type": "stream",
     "text": [
      "Iterating...\n",
      "Updated 15646 missing values.\n",
      "Iterating...\n",
      "Updated 3674 missing values.\n",
      "Iterating...\n",
      "Updated 939 missing values.\n",
      "Iterating...\n",
      "Updated 146 missing values.\n",
      "Iterating...\n",
      "Updated 44 missing values.\n",
      "Iterating...\n",
      "Updated 1 missing values.\n",
      "Iterating...\n",
      "Updated 1 missing values.\n",
      "Iterating...\n",
      "No invalid races left.\n",
      "Imputation complete. Remaining nulls: 138634\n"
     ]
    }
   ],
   "source": [
    "# Pre-filtrare i ciclisti che non hanno mai una squadra\n",
    "converged = False\n",
    "\n",
    "while not converged:\n",
    "    print(\"Iterating...\")\n",
    "\n",
    "    # Trova i ciclisti senza squadra\n",
    "    n_cyclist_teams = races_dataset.groupby('cyclist')['cyclist_team'].nunique()\n",
    "    cyclists_without_team = n_cyclist_teams[n_cyclist_teams == 0].index\n",
    "\n",
    "    # Filtra le righe 'cyclist_team' null, e rimuovi i ciclisti senza squadra\n",
    "    invalid_races = races_dataset[\n",
    "        races_dataset['cyclist_team'].isnull() &\n",
    "        ~races_dataset['cyclist'].isin(cyclists_without_team)\n",
    "    ].sort_values(by='year')\n",
    "\n",
    "    # Se non ci sono righe da aggiornare, terminare il loop\n",
    "    if invalid_races.empty:\n",
    "        print(\"No invalid races left.\")\n",
    "        break\n",
    "\n",
    "    # Ottieni dati unici con valori validi per 'cyclist_team'\n",
    "    unique_data = races_dataset.drop_duplicates(subset=['cyclist', 'cyclist_team']).sort_values(by='year')\n",
    "\n",
    "    # Preparare mappe per il valore precedente e successivo di 'cyclist_team'\n",
    "    previous_races = unique_data.groupby('cyclist').apply(\n",
    "        lambda x: x.assign(prev_cyclist_team=x['cyclist_team'].shift(1), prev_year=x['year'].shift(1))\n",
    "    ).reset_index(drop=True)\n",
    "\n",
    "    next_races = unique_data.groupby('cyclist').apply(\n",
    "        lambda x: x.assign(next_cyclist_team=x['cyclist_team'].shift(-1), next_year=x['year'].shift(-1))\n",
    "    ).reset_index(drop=True)\n",
    "\n",
    "    # Unire le informazioni di previous e next in una singola mappa\n",
    "    unique_data = previous_races.merge(\n",
    "        next_races[['cyclist', '_url', 'next_cyclist_team', 'next_year']],\n",
    "        on=['cyclist', '_url'],\n",
    "        how='left'\n",
    "    )\n",
    "\n",
    "    # Creare mappe da 'unique_data'\n",
    "    previous_team_map = unique_data.set_index(['cyclist', 'year'])['prev_cyclist_team'].to_dict()\n",
    "    next_team_map = unique_data.set_index(['cyclist', 'year'])['next_cyclist_team'].to_dict()\n",
    "\n",
    "    # Funzione per trovare il valore più vicino\n",
    "    def get_closest_team(row):\n",
    "        key = (row['cyclist'], row['year'])\n",
    "        prev_team = previous_team_map.get(key, None)\n",
    "        next_team = next_team_map.get(key, None)\n",
    "        return prev_team if pd.notnull(prev_team) else next_team\n",
    "\n",
    "    # Applicare la logica direttamente alle righe mancanti\n",
    "    invalid_races['cyclist_team'] = invalid_races.apply(get_closest_team, axis=1)\n",
    "\n",
    "    # Aggiorna i valori nel dataset originale\n",
    "    updated = invalid_races['cyclist_team'].notnull().sum()\n",
    "    races_dataset.loc[invalid_races.index, 'cyclist_team'] = invalid_races['cyclist_team']\n",
    "\n",
    "    # Verifica la convergenza\n",
    "    converged = updated == 0\n",
    "    print(f\"Updated {updated} missing values.\")\n",
    "\n",
    "# Riepilogo dei valori mancanti\n",
    "print(\"Imputation complete. Remaining nulls:\", races_dataset['cyclist_team'].isnull().sum())\n"
   ]
  },
  {
   "cell_type": "code",
   "execution_count": null,
   "metadata": {},
   "outputs": [
    {
     "name": "stdout",
     "output_type": "stream",
     "text": [
      "Iterating...\n",
      "Updated 0 missing values.\n",
      "Imputation complete. Remaining nulls: 138972\n"
     ]
    }
   ],
   "source": [
    "# Pre-filtrare i ciclisti che non hanno mai una squadra\n",
    "converged = False\n",
    "\n",
    "while not converged:\n",
    "    print(\"Iterating...\")\n",
    "\n",
    "    n_cyclist_teams = races_dataset.groupby(['cyclist'])['cyclist_team'].nunique()\n",
    "    cyclists_without_team = n_cyclist_teams[n_cyclist_teams == 0].index\n",
    "\n",
    "    # Filtrare le righe con 'cyclist_team' null e ciclisti che hanno avuto almeno una squadra\n",
    "    invalid_races = races_dataset[\n",
    "        races_dataset['cyclist_team'].isnull() &\n",
    "        ~races_dataset['cyclist'].isin(cyclists_without_team)\n",
    "    ].sort_values(by='year')\n",
    "\n",
    "    # Se non ci sono righe da aggiornare, terminare il loop\n",
    "    if invalid_races.empty:\n",
    "        print(\"No invalid races left.\")\n",
    "        break\n",
    "\n",
    "    # Ottieni dati con valori validi per 'cyclist_team'\n",
    "    valid_data = races_dataset[races_dataset['cyclist_team'].notnull()].sort_values(by=['cyclist', 'year'])\n",
    "\n",
    "    # Creare mappe per il valore precedente e successivo di 'cyclist_team'\n",
    "    previous_team_map = valid_data.groupby('cyclist').apply(\n",
    "        lambda x: x.set_index('year')['cyclist_team'].shift(1)\n",
    "    ).reset_index()\n",
    "\n",
    "    next_team_map = valid_data.groupby('cyclist').apply(\n",
    "        lambda x: x.set_index('year')['cyclist_team'].shift(-1)\n",
    "    ).reset_index()\n",
    "\n",
    "    # Trasformare le mappe in dizionari per accesso rapido\n",
    "    previous_team_map = previous_team_map.set_index(['cyclist', 'year'])['cyclist_team'].to_dict()\n",
    "    next_team_map = next_team_map.set_index(['cyclist', 'year'])['cyclist_team'].to_dict()\n",
    "\n",
    "    # Funzione vettoriale per trovare il valore più vicino\n",
    "    def get_closest_team(row):\n",
    "        key = (row['cyclist'], row['year'])\n",
    "        prev_team = previous_team_map.get(key, None)\n",
    "        next_team = next_team_map.get(key, None)\n",
    "        return prev_team if pd.notnull(prev_team) else next_team\n",
    "\n",
    "    # Applicare la logica direttamente alle righe mancanti\n",
    "    invalid_races['cyclist_team'] = invalid_races.apply(get_closest_team, axis=1)\n",
    "\n",
    "    # Aggiorna i valori nel dataset originale\n",
    "    updated = invalid_races['cyclist_team'].notnull().sum()\n",
    "    races_dataset.loc[invalid_races.index, 'cyclist_team'] = invalid_races['cyclist_team']\n",
    "\n",
    "    # Verifica la convergenza\n",
    "    converged = updated == 0\n",
    "    print(f\"Updated {updated} missing values.\")\n",
    "\n",
    "# Riepilogo dei valori mancanti\n",
    "print(\"Imputation complete. Remaining nulls:\", races_dataset['cyclist_team'].isnull().sum())"
   ]
  },
  {
   "cell_type": "code",
   "execution_count": 108,
   "metadata": {},
   "outputs": [
    {
     "data": {
      "text/plain": [
       "np.int64(0)"
      ]
     },
     "execution_count": 108,
     "metadata": {},
     "output_type": "execute_result"
    }
   ],
   "source": [
    "n_cyclist_teams = races_dataset.groupby(['cyclist'])['cyclist_team'].nunique()\n",
    "cyclists_without_team = n_cyclist_teams[n_cyclist_teams == 0].index  # Ciclisti senza squadra in nessun evento\n",
    "\n",
    "invalid_races = races_dataset[\n",
    "        races_dataset['cyclist_team'].isnull() &\n",
    "        ~races_dataset['cyclist'].isin(cyclists_without_team)\n",
    "    ].sort_values(by='year')\n",
    "\n",
    "# number of remaining cyclists without a team\n",
    "invalid_races['cyclist_team'].isnull().sum()\n"
   ]
  },
  {
   "cell_type": "code",
   "execution_count": 92,
   "metadata": {},
   "outputs": [
    {
     "name": "stdout",
     "output_type": "stream",
     "text": [
      "Iterating...\n",
      "143246\n",
      "Iterating...\n",
      "143092\n",
      "Iterating...\n"
     ]
    },
    {
     "ename": "KeyboardInterrupt",
     "evalue": "",
     "output_type": "error",
     "traceback": [
      "\u001b[0;31m---------------------------------------------------------------------------\u001b[0m",
      "\u001b[0;31mKeyboardInterrupt\u001b[0m                         Traceback (most recent call last)",
      "Cell \u001b[0;32mIn[92], line 21\u001b[0m\n\u001b[1;32m     18\u001b[0m unique_data \u001b[38;5;241m=\u001b[39m races_dataset\u001b[38;5;241m.\u001b[39mdrop_duplicates(subset\u001b[38;5;241m=\u001b[39m[\u001b[38;5;124m'\u001b[39m\u001b[38;5;124mcyclist\u001b[39m\u001b[38;5;124m'\u001b[39m, \u001b[38;5;124m'\u001b[39m\u001b[38;5;124mcyclist_team\u001b[39m\u001b[38;5;124m'\u001b[39m])\u001b[38;5;241m.\u001b[39msort_values(by\u001b[38;5;241m=\u001b[39m\u001b[38;5;124m'\u001b[39m\u001b[38;5;124myear\u001b[39m\u001b[38;5;124m'\u001b[39m)\n\u001b[1;32m     20\u001b[0m \u001b[38;5;66;03m# Preparare mappe per il valore precedente e successivo di 'cyclist_team'\u001b[39;00m\n\u001b[0;32m---> 21\u001b[0m previous_races \u001b[38;5;241m=\u001b[39m \u001b[43munique_data\u001b[49m\u001b[38;5;241;43m.\u001b[39;49m\u001b[43mgroupby\u001b[49m\u001b[43m(\u001b[49m\u001b[38;5;124;43m'\u001b[39;49m\u001b[38;5;124;43mcyclist\u001b[39;49m\u001b[38;5;124;43m'\u001b[39;49m\u001b[43m)\u001b[49m\u001b[38;5;241;43m.\u001b[39;49m\u001b[43mapply\u001b[49m\u001b[43m(\u001b[49m\n\u001b[1;32m     22\u001b[0m \u001b[43m    \u001b[49m\u001b[38;5;28;43;01mlambda\u001b[39;49;00m\u001b[43m \u001b[49m\u001b[43mx\u001b[49m\u001b[43m:\u001b[49m\u001b[43m \u001b[49m\u001b[43mx\u001b[49m\u001b[38;5;241;43m.\u001b[39;49m\u001b[43massign\u001b[49m\u001b[43m(\u001b[49m\u001b[43mprev_cyclist_team\u001b[49m\u001b[38;5;241;43m=\u001b[39;49m\u001b[43mx\u001b[49m\u001b[43m[\u001b[49m\u001b[38;5;124;43m'\u001b[39;49m\u001b[38;5;124;43mcyclist_team\u001b[39;49m\u001b[38;5;124;43m'\u001b[39;49m\u001b[43m]\u001b[49m\u001b[38;5;241;43m.\u001b[39;49m\u001b[43mshift\u001b[49m\u001b[43m(\u001b[49m\u001b[38;5;241;43m1\u001b[39;49m\u001b[43m)\u001b[49m\u001b[43m,\u001b[49m\u001b[43m \u001b[49m\u001b[43mprev_year\u001b[49m\u001b[38;5;241;43m=\u001b[39;49m\u001b[43mx\u001b[49m\u001b[43m[\u001b[49m\u001b[38;5;124;43m'\u001b[39;49m\u001b[38;5;124;43myear\u001b[39;49m\u001b[38;5;124;43m'\u001b[39;49m\u001b[43m]\u001b[49m\u001b[38;5;241;43m.\u001b[39;49m\u001b[43mshift\u001b[49m\u001b[43m(\u001b[49m\u001b[38;5;241;43m1\u001b[39;49m\u001b[43m)\u001b[49m\u001b[43m)\u001b[49m\n\u001b[1;32m     23\u001b[0m \u001b[43m\u001b[49m\u001b[43m)\u001b[49m\u001b[38;5;241m.\u001b[39mreset_index(drop\u001b[38;5;241m=\u001b[39m\u001b[38;5;28;01mTrue\u001b[39;00m)\n\u001b[1;32m     25\u001b[0m next_races \u001b[38;5;241m=\u001b[39m unique_data\u001b[38;5;241m.\u001b[39mgroupby(\u001b[38;5;124m'\u001b[39m\u001b[38;5;124mcyclist\u001b[39m\u001b[38;5;124m'\u001b[39m)\u001b[38;5;241m.\u001b[39mapply(\n\u001b[1;32m     26\u001b[0m     \u001b[38;5;28;01mlambda\u001b[39;00m x: x\u001b[38;5;241m.\u001b[39massign(next_cyclist_team\u001b[38;5;241m=\u001b[39mx[\u001b[38;5;124m'\u001b[39m\u001b[38;5;124mcyclist_team\u001b[39m\u001b[38;5;124m'\u001b[39m]\u001b[38;5;241m.\u001b[39mshift(\u001b[38;5;241m-\u001b[39m\u001b[38;5;241m1\u001b[39m), next_year\u001b[38;5;241m=\u001b[39mx[\u001b[38;5;124m'\u001b[39m\u001b[38;5;124myear\u001b[39m\u001b[38;5;124m'\u001b[39m]\u001b[38;5;241m.\u001b[39mshift(\u001b[38;5;241m-\u001b[39m\u001b[38;5;241m1\u001b[39m))\n\u001b[1;32m     27\u001b[0m )\u001b[38;5;241m.\u001b[39mreset_index(drop\u001b[38;5;241m=\u001b[39m\u001b[38;5;28;01mTrue\u001b[39;00m)\n\u001b[1;32m     29\u001b[0m \u001b[38;5;66;03m# Unire le informazioni di previous e next in una singola mappa\u001b[39;00m\n",
      "File \u001b[0;32m~/dm_env/lib/python3.12/site-packages/pandas/core/groupby/groupby.py:1824\u001b[0m, in \u001b[0;36mGroupBy.apply\u001b[0;34m(self, func, include_groups, *args, **kwargs)\u001b[0m\n\u001b[1;32m   1822\u001b[0m \u001b[38;5;28;01mwith\u001b[39;00m option_context(\u001b[38;5;124m\"\u001b[39m\u001b[38;5;124mmode.chained_assignment\u001b[39m\u001b[38;5;124m\"\u001b[39m, \u001b[38;5;28;01mNone\u001b[39;00m):\n\u001b[1;32m   1823\u001b[0m     \u001b[38;5;28;01mtry\u001b[39;00m:\n\u001b[0;32m-> 1824\u001b[0m         result \u001b[38;5;241m=\u001b[39m \u001b[38;5;28;43mself\u001b[39;49m\u001b[38;5;241;43m.\u001b[39;49m\u001b[43m_python_apply_general\u001b[49m\u001b[43m(\u001b[49m\u001b[43mf\u001b[49m\u001b[43m,\u001b[49m\u001b[43m \u001b[49m\u001b[38;5;28;43mself\u001b[39;49m\u001b[38;5;241;43m.\u001b[39;49m\u001b[43m_selected_obj\u001b[49m\u001b[43m)\u001b[49m\n\u001b[1;32m   1825\u001b[0m         \u001b[38;5;28;01mif\u001b[39;00m (\n\u001b[1;32m   1826\u001b[0m             \u001b[38;5;129;01mnot\u001b[39;00m \u001b[38;5;28misinstance\u001b[39m(\u001b[38;5;28mself\u001b[39m\u001b[38;5;241m.\u001b[39mobj, Series)\n\u001b[1;32m   1827\u001b[0m             \u001b[38;5;129;01mand\u001b[39;00m \u001b[38;5;28mself\u001b[39m\u001b[38;5;241m.\u001b[39m_selection \u001b[38;5;129;01mis\u001b[39;00m \u001b[38;5;28;01mNone\u001b[39;00m\n\u001b[1;32m   1828\u001b[0m             \u001b[38;5;129;01mand\u001b[39;00m \u001b[38;5;28mself\u001b[39m\u001b[38;5;241m.\u001b[39m_selected_obj\u001b[38;5;241m.\u001b[39mshape \u001b[38;5;241m!=\u001b[39m \u001b[38;5;28mself\u001b[39m\u001b[38;5;241m.\u001b[39m_obj_with_exclusions\u001b[38;5;241m.\u001b[39mshape\n\u001b[1;32m   1829\u001b[0m         ):\n\u001b[1;32m   1830\u001b[0m             warnings\u001b[38;5;241m.\u001b[39mwarn(\n\u001b[1;32m   1831\u001b[0m                 message\u001b[38;5;241m=\u001b[39m_apply_groupings_depr\u001b[38;5;241m.\u001b[39mformat(\n\u001b[1;32m   1832\u001b[0m                     \u001b[38;5;28mtype\u001b[39m(\u001b[38;5;28mself\u001b[39m)\u001b[38;5;241m.\u001b[39m\u001b[38;5;18m__name__\u001b[39m, \u001b[38;5;124m\"\u001b[39m\u001b[38;5;124mapply\u001b[39m\u001b[38;5;124m\"\u001b[39m\n\u001b[0;32m   (...)\u001b[0m\n\u001b[1;32m   1835\u001b[0m                 stacklevel\u001b[38;5;241m=\u001b[39mfind_stack_level(),\n\u001b[1;32m   1836\u001b[0m             )\n",
      "File \u001b[0;32m~/dm_env/lib/python3.12/site-packages/pandas/core/groupby/groupby.py:1885\u001b[0m, in \u001b[0;36mGroupBy._python_apply_general\u001b[0;34m(self, f, data, not_indexed_same, is_transform, is_agg)\u001b[0m\n\u001b[1;32m   1850\u001b[0m \u001b[38;5;129m@final\u001b[39m\n\u001b[1;32m   1851\u001b[0m \u001b[38;5;28;01mdef\u001b[39;00m \u001b[38;5;21m_python_apply_general\u001b[39m(\n\u001b[1;32m   1852\u001b[0m     \u001b[38;5;28mself\u001b[39m,\n\u001b[0;32m   (...)\u001b[0m\n\u001b[1;32m   1857\u001b[0m     is_agg: \u001b[38;5;28mbool\u001b[39m \u001b[38;5;241m=\u001b[39m \u001b[38;5;28;01mFalse\u001b[39;00m,\n\u001b[1;32m   1858\u001b[0m ) \u001b[38;5;241m-\u001b[39m\u001b[38;5;241m>\u001b[39m NDFrameT:\n\u001b[1;32m   1859\u001b[0m \u001b[38;5;250m    \u001b[39m\u001b[38;5;124;03m\"\"\"\u001b[39;00m\n\u001b[1;32m   1860\u001b[0m \u001b[38;5;124;03m    Apply function f in python space\u001b[39;00m\n\u001b[1;32m   1861\u001b[0m \n\u001b[0;32m   (...)\u001b[0m\n\u001b[1;32m   1883\u001b[0m \u001b[38;5;124;03m        data after applying f\u001b[39;00m\n\u001b[1;32m   1884\u001b[0m \u001b[38;5;124;03m    \"\"\"\u001b[39;00m\n\u001b[0;32m-> 1885\u001b[0m     values, mutated \u001b[38;5;241m=\u001b[39m \u001b[38;5;28;43mself\u001b[39;49m\u001b[38;5;241;43m.\u001b[39;49m\u001b[43m_grouper\u001b[49m\u001b[38;5;241;43m.\u001b[39;49m\u001b[43mapply_groupwise\u001b[49m\u001b[43m(\u001b[49m\u001b[43mf\u001b[49m\u001b[43m,\u001b[49m\u001b[43m \u001b[49m\u001b[43mdata\u001b[49m\u001b[43m,\u001b[49m\u001b[43m \u001b[49m\u001b[38;5;28;43mself\u001b[39;49m\u001b[38;5;241;43m.\u001b[39;49m\u001b[43maxis\u001b[49m\u001b[43m)\u001b[49m\n\u001b[1;32m   1886\u001b[0m     \u001b[38;5;28;01mif\u001b[39;00m not_indexed_same \u001b[38;5;129;01mis\u001b[39;00m \u001b[38;5;28;01mNone\u001b[39;00m:\n\u001b[1;32m   1887\u001b[0m         not_indexed_same \u001b[38;5;241m=\u001b[39m mutated\n",
      "File \u001b[0;32m~/dm_env/lib/python3.12/site-packages/pandas/core/groupby/ops.py:909\u001b[0m, in \u001b[0;36mBaseGrouper.apply_groupwise\u001b[0;34m(self, f, data, axis)\u001b[0m\n\u001b[1;32m    906\u001b[0m \u001b[38;5;66;03m# This calls DataSplitter.__iter__\u001b[39;00m\n\u001b[1;32m    907\u001b[0m zipped \u001b[38;5;241m=\u001b[39m \u001b[38;5;28mzip\u001b[39m(group_keys, splitter)\n\u001b[0;32m--> 909\u001b[0m \u001b[43m\u001b[49m\u001b[38;5;28;43;01mfor\u001b[39;49;00m\u001b[43m \u001b[49m\u001b[43mkey\u001b[49m\u001b[43m,\u001b[49m\u001b[43m \u001b[49m\u001b[43mgroup\u001b[49m\u001b[43m \u001b[49m\u001b[38;5;129;43;01min\u001b[39;49;00m\u001b[43m \u001b[49m\u001b[43mzipped\u001b[49m\u001b[43m:\u001b[49m\n\u001b[1;32m    910\u001b[0m \u001b[43m    \u001b[49m\u001b[38;5;66;43;03m# Pinning name is needed for\u001b[39;49;00m\n\u001b[1;32m    911\u001b[0m \u001b[43m    \u001b[49m\u001b[38;5;66;43;03m#  test_group_apply_once_per_group,\u001b[39;49;00m\n\u001b[1;32m    912\u001b[0m \u001b[43m    \u001b[49m\u001b[38;5;66;43;03m#  test_inconsistent_return_type, test_set_group_name,\u001b[39;49;00m\n\u001b[1;32m    913\u001b[0m \u001b[43m    \u001b[49m\u001b[38;5;66;43;03m#  test_group_name_available_in_inference_pass,\u001b[39;49;00m\n\u001b[1;32m    914\u001b[0m \u001b[43m    \u001b[49m\u001b[38;5;66;43;03m#  test_groupby_multi_timezone\u001b[39;49;00m\n\u001b[1;32m    915\u001b[0m \u001b[43m    \u001b[49m\u001b[38;5;28;43mobject\u001b[39;49m\u001b[38;5;241;43m.\u001b[39;49m\u001b[38;5;21;43m__setattr__\u001b[39;49m\u001b[43m(\u001b[49m\u001b[43mgroup\u001b[49m\u001b[43m,\u001b[49m\u001b[43m \u001b[49m\u001b[38;5;124;43m\"\u001b[39;49m\u001b[38;5;124;43mname\u001b[39;49m\u001b[38;5;124;43m\"\u001b[39;49m\u001b[43m,\u001b[49m\u001b[43m \u001b[49m\u001b[43mkey\u001b[49m\u001b[43m)\u001b[49m\n\u001b[1;32m    917\u001b[0m \u001b[43m    \u001b[49m\u001b[38;5;66;43;03m# group might be modified\u001b[39;49;00m\n",
      "File \u001b[0;32m~/dm_env/lib/python3.12/site-packages/pandas/core/groupby/ops.py:1160\u001b[0m, in \u001b[0;36mDataSplitter.__iter__\u001b[0;34m(self)\u001b[0m\n\u001b[1;32m   1157\u001b[0m starts, ends \u001b[38;5;241m=\u001b[39m lib\u001b[38;5;241m.\u001b[39mgenerate_slices(\u001b[38;5;28mself\u001b[39m\u001b[38;5;241m.\u001b[39m_slabels, \u001b[38;5;28mself\u001b[39m\u001b[38;5;241m.\u001b[39mngroups)\n\u001b[1;32m   1159\u001b[0m \u001b[38;5;28;01mfor\u001b[39;00m start, end \u001b[38;5;129;01min\u001b[39;00m \u001b[38;5;28mzip\u001b[39m(starts, ends):\n\u001b[0;32m-> 1160\u001b[0m     \u001b[38;5;28;01myield\u001b[39;00m \u001b[38;5;28;43mself\u001b[39;49m\u001b[38;5;241;43m.\u001b[39;49m\u001b[43m_chop\u001b[49m\u001b[43m(\u001b[49m\u001b[43msdata\u001b[49m\u001b[43m,\u001b[49m\u001b[43m \u001b[49m\u001b[38;5;28;43mslice\u001b[39;49m\u001b[43m(\u001b[49m\u001b[43mstart\u001b[49m\u001b[43m,\u001b[49m\u001b[43m \u001b[49m\u001b[43mend\u001b[49m\u001b[43m)\u001b[49m\u001b[43m)\u001b[49m\n",
      "File \u001b[0;32m~/dm_env/lib/python3.12/site-packages/pandas/core/groupby/ops.py:1186\u001b[0m, in \u001b[0;36mFrameSplitter._chop\u001b[0;34m(self, sdata, slice_obj)\u001b[0m\n\u001b[1;32m   1180\u001b[0m \u001b[38;5;28;01mdef\u001b[39;00m \u001b[38;5;21m_chop\u001b[39m(\u001b[38;5;28mself\u001b[39m, sdata: DataFrame, slice_obj: \u001b[38;5;28mslice\u001b[39m) \u001b[38;5;241m-\u001b[39m\u001b[38;5;241m>\u001b[39m DataFrame:\n\u001b[1;32m   1181\u001b[0m     \u001b[38;5;66;03m# Fastpath equivalent to:\u001b[39;00m\n\u001b[1;32m   1182\u001b[0m     \u001b[38;5;66;03m# if self.axis == 0:\u001b[39;00m\n\u001b[1;32m   1183\u001b[0m     \u001b[38;5;66;03m#     return sdata.iloc[slice_obj]\u001b[39;00m\n\u001b[1;32m   1184\u001b[0m     \u001b[38;5;66;03m# else:\u001b[39;00m\n\u001b[1;32m   1185\u001b[0m     \u001b[38;5;66;03m#     return sdata.iloc[:, slice_obj]\u001b[39;00m\n\u001b[0;32m-> 1186\u001b[0m     mgr \u001b[38;5;241m=\u001b[39m \u001b[43msdata\u001b[49m\u001b[38;5;241;43m.\u001b[39;49m\u001b[43m_mgr\u001b[49m\u001b[38;5;241;43m.\u001b[39;49m\u001b[43mget_slice\u001b[49m\u001b[43m(\u001b[49m\u001b[43mslice_obj\u001b[49m\u001b[43m,\u001b[49m\u001b[43m \u001b[49m\u001b[43maxis\u001b[49m\u001b[38;5;241;43m=\u001b[39;49m\u001b[38;5;241;43m1\u001b[39;49m\u001b[43m \u001b[49m\u001b[38;5;241;43m-\u001b[39;49m\u001b[43m \u001b[49m\u001b[38;5;28;43mself\u001b[39;49m\u001b[38;5;241;43m.\u001b[39;49m\u001b[43maxis\u001b[49m\u001b[43m)\u001b[49m\n\u001b[1;32m   1187\u001b[0m     df \u001b[38;5;241m=\u001b[39m sdata\u001b[38;5;241m.\u001b[39m_constructor_from_mgr(mgr, axes\u001b[38;5;241m=\u001b[39mmgr\u001b[38;5;241m.\u001b[39maxes)\n\u001b[1;32m   1188\u001b[0m     \u001b[38;5;28;01mreturn\u001b[39;00m df\u001b[38;5;241m.\u001b[39m__finalize__(sdata, method\u001b[38;5;241m=\u001b[39m\u001b[38;5;124m\"\u001b[39m\u001b[38;5;124mgroupby\u001b[39m\u001b[38;5;124m\"\u001b[39m)\n",
      "File \u001b[0;32minternals.pyx:871\u001b[0m, in \u001b[0;36mpandas._libs.internals.BlockManager.get_slice\u001b[0;34m()\u001b[0m\n",
      "File \u001b[0;32minternals.pyx:852\u001b[0m, in \u001b[0;36mpandas._libs.internals.BlockManager._slice_mgr_rows\u001b[0;34m()\u001b[0m\n",
      "File \u001b[0;32minternals.pyx:704\u001b[0m, in \u001b[0;36mpandas._libs.internals.Block.slice_block_rows\u001b[0;34m()\u001b[0m\n",
      "File \u001b[0;32minternals.pyx:704\u001b[0m, in \u001b[0;36mpandas._libs.internals.Block.slice_block_rows\u001b[0;34m()\u001b[0m\n",
      "File \u001b[0;32minternals.pyx:710\u001b[0m, in \u001b[0;36mpandas._libs.internals.Block.slice_block_rows\u001b[0;34m()\u001b[0m\n",
      "File \u001b[0;32m~/dm_env/lib/python3.12/site-packages/pandas/core/arrays/datetimelike.py:387\u001b[0m, in \u001b[0;36mDatetimeLikeArrayMixin.__getitem__\u001b[0;34m(self, key)\u001b[0m\n\u001b[1;32m    384\u001b[0m \u001b[38;5;28;01melse\u001b[39;00m:\n\u001b[1;32m    385\u001b[0m     \u001b[38;5;66;03m# At this point we know the result is an array.\u001b[39;00m\n\u001b[1;32m    386\u001b[0m     result \u001b[38;5;241m=\u001b[39m cast(Self, result)\n\u001b[0;32m--> 387\u001b[0m result\u001b[38;5;241m.\u001b[39m_freq \u001b[38;5;241m=\u001b[39m \u001b[38;5;28;43mself\u001b[39;49m\u001b[38;5;241;43m.\u001b[39;49m\u001b[43m_get_getitem_freq\u001b[49m\u001b[43m(\u001b[49m\u001b[43mkey\u001b[49m\u001b[43m)\u001b[49m\n\u001b[1;32m    388\u001b[0m \u001b[38;5;28;01mreturn\u001b[39;00m result\n",
      "File \u001b[0;32m~/dm_env/lib/python3.12/site-packages/pandas/core/arrays/datetimelike.py:390\u001b[0m, in \u001b[0;36mDatetimeLikeArrayMixin._get_getitem_freq\u001b[0;34m(self, key)\u001b[0m\n\u001b[1;32m    387\u001b[0m     result\u001b[38;5;241m.\u001b[39m_freq \u001b[38;5;241m=\u001b[39m \u001b[38;5;28mself\u001b[39m\u001b[38;5;241m.\u001b[39m_get_getitem_freq(key)\n\u001b[1;32m    388\u001b[0m     \u001b[38;5;28;01mreturn\u001b[39;00m result\n\u001b[0;32m--> 390\u001b[0m \u001b[38;5;28;01mdef\u001b[39;00m \u001b[38;5;21m_get_getitem_freq\u001b[39m(\u001b[38;5;28mself\u001b[39m, key) \u001b[38;5;241m-\u001b[39m\u001b[38;5;241m>\u001b[39m BaseOffset \u001b[38;5;241m|\u001b[39m \u001b[38;5;28;01mNone\u001b[39;00m:\n\u001b[1;32m    391\u001b[0m \u001b[38;5;250m    \u001b[39m\u001b[38;5;124;03m\"\"\"\u001b[39;00m\n\u001b[1;32m    392\u001b[0m \u001b[38;5;124;03m    Find the `freq` attribute to assign to the result of a __getitem__ lookup.\u001b[39;00m\n\u001b[1;32m    393\u001b[0m \u001b[38;5;124;03m    \"\"\"\u001b[39;00m\n\u001b[1;32m    394\u001b[0m     is_period \u001b[38;5;241m=\u001b[39m \u001b[38;5;28misinstance\u001b[39m(\u001b[38;5;28mself\u001b[39m\u001b[38;5;241m.\u001b[39mdtype, PeriodDtype)\n",
      "\u001b[0;31mKeyboardInterrupt\u001b[0m: "
     ]
    }
   ],
   "source": [
    "# Loop per cicli di imputazione fino a quando non vengono più modificati valori\n",
    "converged = False\n",
    "\n",
    "while not converged:\n",
    "    print(\"Iterating...\")\n",
    "\n",
    "    # Trova i ciclisti senza squadra\n",
    "    n_cyclist_teams = races_dataset.groupby(['cyclist'])['cyclist_team'].nunique()\n",
    "    cyclists_without_team = n_cyclist_teams[n_cyclist_teams == 0].index  # Ciclisti senza squadra in nessun evento\n",
    "\n",
    "    # Filtra le righe 'cyclist_team' null, e rimuovi i ciclisti senza squadra\n",
    "    invalid_races = races_dataset[\n",
    "        races_dataset['cyclist_team'].isnull() &\n",
    "        ~races_dataset['cyclist'].isin(cyclists_without_team)\n",
    "    ].sort_values(by='year')\n",
    "\n",
    "    # Ottieni dati unici basati su 'cyclist_url' e 'cyclist_team'\n",
    "    unique_data = races_dataset.drop_duplicates(subset=['cyclist', 'cyclist_team']).sort_values(by='year')\n",
    "\n",
    "    # Preparare mappe per il valore precedente e successivo di 'cyclist_team'\n",
    "    previous_races = unique_data.groupby('cyclist').apply(\n",
    "        lambda x: x.assign(prev_cyclist_team=x['cyclist_team'].shift(1), prev_year=x['year'].shift(1))\n",
    "    ).reset_index(drop=True)\n",
    "\n",
    "    next_races = unique_data.groupby('cyclist').apply(\n",
    "        lambda x: x.assign(next_cyclist_team=x['cyclist_team'].shift(-1), next_year=x['year'].shift(-1))\n",
    "    ).reset_index(drop=True)\n",
    "\n",
    "    # Unire le informazioni di previous e next in una singola mappa\n",
    "    unique_data = previous_races.merge(\n",
    "        next_races[['cyclist', '_url', 'next_cyclist_team', 'next_year']],\n",
    "        on=['cyclist', '_url'],\n",
    "        how='left'\n",
    "    )\n",
    "\n",
    "    # Funzione per determinare il valore più vicino\n",
    "    def get_closest_cyclist_team(row):\n",
    "        if pd.notnull(row['prev_cyclist_team']):\n",
    "            return row['prev_cyclist_team']\n",
    "        elif pd.notnull(row['next_cyclist_team']):\n",
    "            return row['next_cyclist_team']\n",
    "        return None\n",
    "\n",
    "    # Applicare la logica vettorialmente ai ciclisti senza 'cyclist_team'\n",
    "    fill_values = invalid_races.merge(\n",
    "        unique_data,\n",
    "        on=['cyclist', '_url'],\n",
    "        how='left'\n",
    "    ).apply(get_closest_cyclist_team, axis=1)\n",
    "\n",
    "    # Aggiorna i valori in modo diretto\n",
    "    races_dataset.loc[invalid_races.index, 'cyclist_team'] = fill_values.values\n",
    "\n",
    "    # Verifica se ci sono ancora valori mancanti\n",
    "    if fill_values.isnull().sum() == 0:\n",
    "        converged = True\n",
    "        break\n",
    "\n",
    "    print(races_dataset['cyclist_team'].isnull().sum())"
   ]
  },
  {
   "cell_type": "markdown",
   "metadata": {},
   "source": [
    "#### Imputation of delta values\n",
    "\n",
    "Per i delta negativi o che risultano con valori sbagliati, modifichiamo il valore per tenerlo coerente con la posizione del ciclista in quella determinata gara. La logica da seguire è, partendo dalla prima posizione, si prosegue nei record fino a quando non si trova un delta negativo, che a quel punto sostituisco con il delta precedente, e così via fino a quando non finisco le posizioni della gara."
   ]
  },
  {
   "cell_type": "code",
   "execution_count": 67,
   "metadata": {},
   "outputs": [
    {
     "name": "stdout",
     "output_type": "stream",
     "text": [
      "Number of URLs with invalid deltas after imputation: 0\n"
     ]
    }
   ],
   "source": [
    "# Funzione per imputare i delta errati\n",
    "def correct_deltas(group):\n",
    "    group = group.reset_index(drop=True)  # Resetta l'indice per garantire l'accesso numerico\n",
    "    # Iniziamo con la prima riga (la quale ha il delta 0)\n",
    "    for i in range(1, len(group)):\n",
    "        # Se il delta è negativo o inferiore al precedente, lo sostituiamo con il valore precedente\n",
    "        if group['delta'].iloc[i] < group['delta'].iloc[i-1]:\n",
    "            group.loc[i, 'delta'] = group.loc[i-1, 'delta']\n",
    "    return group\n",
    "\n",
    "# Applica la funzione di imputazione per ciascun gruppo (gara)\n",
    "races_dataset = races_dataset.groupby('_url', group_keys=False).apply(correct_deltas)\n",
    "\n",
    "# Verifica i cambiamenti\n",
    "invalid_urls_after_imputation = races_dataset.groupby('_url')['delta'].apply(lambda x: (x.shift() > x).any())\n",
    "print('Number of URLs with invalid deltas after imputation: ' + str(len(invalid_urls_after_imputation[invalid_urls_after_imputation])))"
   ]
  },
  {
   "cell_type": "code",
   "execution_count": 68,
   "metadata": {},
   "outputs": [],
   "source": [
    "# Order races dataset by '_url'\n",
    "races_dataset = races_dataset.sort_values(by='_url')"
   ]
  },
  {
   "cell_type": "markdown",
   "metadata": {},
   "source": [
    "## Cyclists & Races"
   ]
  },
  {
   "cell_type": "code",
   "execution_count": 69,
   "metadata": {},
   "outputs": [
    {
     "data": {
      "text/html": [
       "<div>\n",
       "<style scoped>\n",
       "    .dataframe tbody tr th:only-of-type {\n",
       "        vertical-align: middle;\n",
       "    }\n",
       "\n",
       "    .dataframe tbody tr th {\n",
       "        vertical-align: top;\n",
       "    }\n",
       "\n",
       "    .dataframe thead th {\n",
       "        text-align: right;\n",
       "    }\n",
       "</style>\n",
       "<table border=\"1\" class=\"dataframe\">\n",
       "  <thead>\n",
       "    <tr style=\"text-align: right;\">\n",
       "      <th></th>\n",
       "      <th>_url_cyclist</th>\n",
       "      <th>name_cyclist</th>\n",
       "      <th>birth_year</th>\n",
       "      <th>weight</th>\n",
       "      <th>height</th>\n",
       "      <th>nationality</th>\n",
       "      <th>_url_race</th>\n",
       "      <th>name_race</th>\n",
       "      <th>points</th>\n",
       "      <th>uci_points</th>\n",
       "      <th>...</th>\n",
       "      <th>startlist_quality</th>\n",
       "      <th>date</th>\n",
       "      <th>position</th>\n",
       "      <th>cyclist</th>\n",
       "      <th>cyclist_age</th>\n",
       "      <th>mostly_tarmac</th>\n",
       "      <th>cyclist_team</th>\n",
       "      <th>delta</th>\n",
       "      <th>year</th>\n",
       "      <th>stage</th>\n",
       "    </tr>\n",
       "  </thead>\n",
       "  <tbody>\n",
       "    <tr>\n",
       "      <th>0</th>\n",
       "      <td>aad-van-den-hoek</td>\n",
       "      <td>Aad van den Hoek</td>\n",
       "      <td>1951.0</td>\n",
       "      <td>77.0</td>\n",
       "      <td>186.0</td>\n",
       "      <td>Netherlands</td>\n",
       "      <td>e3-harelbeke/1983/result</td>\n",
       "      <td>E3-Prijs Harelbeke</td>\n",
       "      <td>125.0</td>\n",
       "      <td>NaN</td>\n",
       "      <td>...</td>\n",
       "      <td>194</td>\n",
       "      <td>1983-03-26</td>\n",
       "      <td>20</td>\n",
       "      <td>aad-van-den-hoek</td>\n",
       "      <td>32.0</td>\n",
       "      <td>False</td>\n",
       "      <td>NaN</td>\n",
       "      <td>117.0</td>\n",
       "      <td>1983</td>\n",
       "      <td>result</td>\n",
       "    </tr>\n",
       "    <tr>\n",
       "      <th>1</th>\n",
       "      <td>aad-van-den-hoek</td>\n",
       "      <td>Aad van den Hoek</td>\n",
       "      <td>1951.0</td>\n",
       "      <td>77.0</td>\n",
       "      <td>186.0</td>\n",
       "      <td>Netherlands</td>\n",
       "      <td>la-fleche-wallone/1981/result</td>\n",
       "      <td>La Flèche Wallonne</td>\n",
       "      <td>225.0</td>\n",
       "      <td>NaN</td>\n",
       "      <td>...</td>\n",
       "      <td>1294</td>\n",
       "      <td>1981-04-15</td>\n",
       "      <td>106</td>\n",
       "      <td>aad-van-den-hoek</td>\n",
       "      <td>30.0</td>\n",
       "      <td>False</td>\n",
       "      <td>NaN</td>\n",
       "      <td>25.0</td>\n",
       "      <td>1981</td>\n",
       "      <td>result</td>\n",
       "    </tr>\n",
       "    <tr>\n",
       "      <th>2</th>\n",
       "      <td>aad-van-den-hoek</td>\n",
       "      <td>Aad van den Hoek</td>\n",
       "      <td>1951.0</td>\n",
       "      <td>77.0</td>\n",
       "      <td>186.0</td>\n",
       "      <td>Netherlands</td>\n",
       "      <td>omloop-het-nieuwsblad/1977/result</td>\n",
       "      <td>Omloop Het Volk</td>\n",
       "      <td>125.0</td>\n",
       "      <td>NaN</td>\n",
       "      <td>...</td>\n",
       "      <td>595</td>\n",
       "      <td>1977-03-05</td>\n",
       "      <td>37</td>\n",
       "      <td>aad-van-den-hoek</td>\n",
       "      <td>26.0</td>\n",
       "      <td>False</td>\n",
       "      <td>NaN</td>\n",
       "      <td>565.0</td>\n",
       "      <td>1977</td>\n",
       "      <td>result</td>\n",
       "    </tr>\n",
       "    <tr>\n",
       "      <th>3</th>\n",
       "      <td>aad-van-den-hoek</td>\n",
       "      <td>Aad van den Hoek</td>\n",
       "      <td>1951.0</td>\n",
       "      <td>77.0</td>\n",
       "      <td>186.0</td>\n",
       "      <td>Netherlands</td>\n",
       "      <td>omloop-het-nieuwsblad/1978/result</td>\n",
       "      <td>Omloop Het Volk</td>\n",
       "      <td>125.0</td>\n",
       "      <td>NaN</td>\n",
       "      <td>...</td>\n",
       "      <td>493</td>\n",
       "      <td>1978-03-04</td>\n",
       "      <td>26</td>\n",
       "      <td>aad-van-den-hoek</td>\n",
       "      <td>27.0</td>\n",
       "      <td>False</td>\n",
       "      <td>NaN</td>\n",
       "      <td>240.0</td>\n",
       "      <td>1978</td>\n",
       "      <td>result</td>\n",
       "    </tr>\n",
       "    <tr>\n",
       "      <th>4</th>\n",
       "      <td>aad-van-den-hoek</td>\n",
       "      <td>Aad van den Hoek</td>\n",
       "      <td>1951.0</td>\n",
       "      <td>77.0</td>\n",
       "      <td>186.0</td>\n",
       "      <td>Netherlands</td>\n",
       "      <td>omloop-het-nieuwsblad/1983/result</td>\n",
       "      <td>Omloop Het Volk</td>\n",
       "      <td>125.0</td>\n",
       "      <td>NaN</td>\n",
       "      <td>...</td>\n",
       "      <td>756</td>\n",
       "      <td>1983-03-05</td>\n",
       "      <td>71</td>\n",
       "      <td>aad-van-den-hoek</td>\n",
       "      <td>32.0</td>\n",
       "      <td>False</td>\n",
       "      <td>NaN</td>\n",
       "      <td>370.0</td>\n",
       "      <td>1983</td>\n",
       "      <td>result</td>\n",
       "    </tr>\n",
       "  </tbody>\n",
       "</table>\n",
       "<p>5 rows × 23 columns</p>\n",
       "</div>"
      ],
      "text/plain": [
       "       _url_cyclist      name_cyclist  birth_year  weight  height  \\\n",
       "0  aad-van-den-hoek  Aad van den Hoek      1951.0    77.0   186.0   \n",
       "1  aad-van-den-hoek  Aad van den Hoek      1951.0    77.0   186.0   \n",
       "2  aad-van-den-hoek  Aad van den Hoek      1951.0    77.0   186.0   \n",
       "3  aad-van-den-hoek  Aad van den Hoek      1951.0    77.0   186.0   \n",
       "4  aad-van-den-hoek  Aad van den Hoek      1951.0    77.0   186.0   \n",
       "\n",
       "   nationality                          _url_race           name_race  points  \\\n",
       "0  Netherlands           e3-harelbeke/1983/result  E3-Prijs Harelbeke   125.0   \n",
       "1  Netherlands      la-fleche-wallone/1981/result  La Flèche Wallonne   225.0   \n",
       "2  Netherlands  omloop-het-nieuwsblad/1977/result     Omloop Het Volk   125.0   \n",
       "3  Netherlands  omloop-het-nieuwsblad/1978/result     Omloop Het Volk   125.0   \n",
       "4  Netherlands  omloop-het-nieuwsblad/1983/result     Omloop Het Volk   125.0   \n",
       "\n",
       "   uci_points  ...  startlist_quality       date  position           cyclist  \\\n",
       "0         NaN  ...                194 1983-03-26        20  aad-van-den-hoek   \n",
       "1         NaN  ...               1294 1981-04-15       106  aad-van-den-hoek   \n",
       "2         NaN  ...                595 1977-03-05        37  aad-van-den-hoek   \n",
       "3         NaN  ...                493 1978-03-04        26  aad-van-den-hoek   \n",
       "4         NaN  ...                756 1983-03-05        71  aad-van-den-hoek   \n",
       "\n",
       "  cyclist_age  mostly_tarmac cyclist_team  delta  year   stage  \n",
       "0        32.0          False          NaN  117.0  1983  result  \n",
       "1        30.0          False          NaN   25.0  1981  result  \n",
       "2        26.0          False          NaN  565.0  1977  result  \n",
       "3        27.0          False          NaN  240.0  1978  result  \n",
       "4        32.0          False          NaN  370.0  1983  result  \n",
       "\n",
       "[5 rows x 23 columns]"
      ]
     },
     "execution_count": 69,
     "metadata": {},
     "output_type": "execute_result"
    }
   ],
   "source": [
    "# Create union of two datasets, merging them considering the url of the cyclist\n",
    "merged_dataset = pd.merge(cyclists_dataset, races_dataset, left_on='_url', right_on='cyclist', how='inner')\n",
    "\n",
    "# Modify name column of the cyclist url in '_url_cyclist', and name column of the race url in '_url_race'\n",
    "merged_dataset = merged_dataset.rename(columns={'_url_x': '_url_cyclist', '_url_y': '_url_race'})\n",
    "# Modify name column of the cyclist name in 'name_cyclist', and name column of the race name in 'name_race'\n",
    "merged_dataset = merged_dataset.rename(columns={'name_x': 'name_cyclist', 'name_y': 'name_race'})\n",
    "\n",
    "merged_dataset.head()"
   ]
  },
  {
   "cell_type": "code",
   "execution_count": 70,
   "metadata": {},
   "outputs": [
    {
     "name": "stdout",
     "output_type": "stream",
     "text": [
      "<class 'pandas.core.frame.DataFrame'>\n",
      "RangeIndex: 589739 entries, 0 to 589738\n",
      "Data columns (total 23 columns):\n",
      " #   Column             Non-Null Count   Dtype         \n",
      "---  ------             --------------   -----         \n",
      " 0   _url_cyclist       589739 non-null  object        \n",
      " 1   name_cyclist       589739 non-null  object        \n",
      " 2   birth_year         589739 non-null  float64       \n",
      " 3   weight             480007 non-null  float64       \n",
      " 4   height             480007 non-null  float64       \n",
      " 5   nationality        589739 non-null  object        \n",
      " 6   _url_race          589739 non-null  object        \n",
      " 7   name_race          589739 non-null  object        \n",
      " 8   points             589739 non-null  float64       \n",
      " 9   uci_points         422184 non-null  float64       \n",
      " 10  length             589739 non-null  float64       \n",
      " 11  climb_total        573157 non-null  float64       \n",
      " 12  profile            573157 non-null  float64       \n",
      " 13  startlist_quality  589739 non-null  int64         \n",
      " 14  date               589739 non-null  datetime64[ns]\n",
      " 15  position           589739 non-null  int64         \n",
      " 16  cyclist            589739 non-null  object        \n",
      " 17  cyclist_age        589626 non-null  float64       \n",
      " 18  mostly_tarmac      589739 non-null  bool          \n",
      " 19  cyclist_team       430654 non-null  object        \n",
      " 20  delta              589739 non-null  float64       \n",
      " 21  year               589739 non-null  int32         \n",
      " 22  stage              589739 non-null  object        \n",
      "dtypes: bool(1), datetime64[ns](1), float64(10), int32(1), int64(2), object(8)\n",
      "memory usage: 97.3+ MB\n"
     ]
    }
   ],
   "source": [
    "merged_dataset.info()"
   ]
  },
  {
   "cell_type": "markdown",
   "metadata": {},
   "source": [
    "### Imputation"
   ]
  },
  {
   "cell_type": "code",
   "execution_count": 71,
   "metadata": {},
   "outputs": [
    {
     "data": {
      "text/plain": [
       "_url_cyclist              0\n",
       "name_cyclist              0\n",
       "birth_year                0\n",
       "weight               109732\n",
       "height               109732\n",
       "nationality               0\n",
       "_url_race                 0\n",
       "name_race                 0\n",
       "points                    0\n",
       "uci_points           167555\n",
       "length                    0\n",
       "climb_total           16582\n",
       "profile               16582\n",
       "startlist_quality         0\n",
       "date                      0\n",
       "position                  0\n",
       "cyclist                   0\n",
       "cyclist_age             113\n",
       "mostly_tarmac             0\n",
       "cyclist_team         159085\n",
       "delta                     0\n",
       "year                      0\n",
       "stage                     0\n",
       "dtype: int64"
      ]
     },
     "execution_count": 71,
     "metadata": {},
     "output_type": "execute_result"
    }
   ],
   "source": [
    "merged_dataset.isnull().sum() # check number of missing values"
   ]
  },
  {
   "cell_type": "markdown",
   "metadata": {},
   "source": [
    "#### Imputation of cyclist age\n",
    "\n",
    "Dato l'anno di nascita che abbiamo imputato precedentemente, ora possiamo imputare anche l'età dei ciclisti nelle gare dove non era presente."
   ]
  },
  {
   "cell_type": "code",
   "execution_count": 72,
   "metadata": {},
   "outputs": [],
   "source": [
    "# Extract the year from the date \n",
    "merged_dataset['race_year'] = merged_dataset['date'].dt.year\n",
    "\n",
    "# Imputa la cyclist_age per le righe in cui è null e birth_year non è null\n",
    "# Imputation of the cyclist_age for rows where it is null and birth_year is not null\n",
    "merged_dataset['cyclist_age'] = merged_dataset.apply(\n",
    "    lambda row: row['race_year'] - row['birth_year'] \n",
    "                if pd.isnull(row['cyclist_age']) and pd.notnull(row['birth_year'])\n",
    "                else row['cyclist_age'],\n",
    "    axis=1\n",
    ")\n",
    "\n",
    "# Remove the temporary column\n",
    "merged_dataset.drop(columns=['race_year'], inplace=True)"
   ]
  },
  {
   "cell_type": "code",
   "execution_count": 73,
   "metadata": {},
   "outputs": [
    {
     "data": {
      "text/plain": [
       "np.int64(0)"
      ]
     },
     "execution_count": 73,
     "metadata": {},
     "output_type": "execute_result"
    }
   ],
   "source": [
    "merged_dataset['cyclist_age'].isnull().sum() # check if missing values are filled correctly"
   ]
  },
  {
   "cell_type": "code",
   "execution_count": 74,
   "metadata": {},
   "outputs": [],
   "source": [
    "# Order merged dataset by '_url_race'\n",
    "merged_dataset = merged_dataset.sort_values(by='_url_race')"
   ]
  },
  {
   "cell_type": "markdown",
   "metadata": {},
   "source": [
    "## New Datasets Creation\n",
    "\n",
    "Ora, dopo aver pulito i nostri dati, possiamo creare vari dataset da sfruttare in varie analisi."
   ]
  },
  {
   "cell_type": "code",
   "execution_count": 75,
   "metadata": {},
   "outputs": [
    {
     "data": {
      "text/plain": [
       "_url_cyclist              0\n",
       "name_cyclist              0\n",
       "birth_year                0\n",
       "weight               109732\n",
       "height               109732\n",
       "nationality               0\n",
       "_url_race                 0\n",
       "name_race                 0\n",
       "points                    0\n",
       "uci_points           167555\n",
       "length                    0\n",
       "climb_total           16582\n",
       "profile               16582\n",
       "startlist_quality         0\n",
       "date                      0\n",
       "position                  0\n",
       "cyclist                   0\n",
       "cyclist_age               0\n",
       "mostly_tarmac             0\n",
       "cyclist_team         159085\n",
       "delta                     0\n",
       "year                      0\n",
       "stage                     0\n",
       "dtype: int64"
      ]
     },
     "execution_count": 75,
     "metadata": {},
     "output_type": "execute_result"
    }
   ],
   "source": [
    "# Create csv file with the merged dataset\n",
    "merged_dataset.to_csv('../data/merged_dataset.csv', index=False)\n",
    "\n",
    "merged_dataset.isnull().sum() # check number of missing values"
   ]
  },
  {
   "cell_type": "code",
   "execution_count": 76,
   "metadata": {},
   "outputs": [
    {
     "data": {
      "text/plain": [
       "_url_cyclist              0\n",
       "name_cyclist              0\n",
       "birth_year                0\n",
       "nationality               0\n",
       "_url_race                 0\n",
       "name_race                 0\n",
       "points                    0\n",
       "uci_points           167555\n",
       "length                    0\n",
       "startlist_quality         0\n",
       "date                      0\n",
       "position                  0\n",
       "cyclist                   0\n",
       "cyclist_age               0\n",
       "mostly_tarmac             0\n",
       "delta                     0\n",
       "year                      0\n",
       "stage                     0\n",
       "dtype: int64"
      ]
     },
     "execution_count": 76,
     "metadata": {},
     "output_type": "execute_result"
    }
   ],
   "source": [
    "# Create dataset with no columns containing missing values (no weights, heights, climb_total, profile, cyclist_team)\n",
    "cleaned_dataset_by_column = merged_dataset.drop(columns=['weight', 'height', 'climb_total', 'profile', 'cyclist_team'])\n",
    "# Create csv file with the cleaned dataset\n",
    "cleaned_dataset_by_column.to_csv('../data/cleaned_dataset_by_column.csv', index=False)\n",
    "\n",
    "cleaned_dataset_by_column.isnull().sum() # check number of missing values"
   ]
  },
  {
   "cell_type": "code",
   "execution_count": 77,
   "metadata": {},
   "outputs": [
    {
     "data": {
      "text/plain": [
       "_url_cyclist         0\n",
       "name_cyclist         0\n",
       "birth_year           0\n",
       "weight               0\n",
       "height               0\n",
       "nationality          0\n",
       "_url_race            0\n",
       "name_race            0\n",
       "points               0\n",
       "uci_points           0\n",
       "length               0\n",
       "climb_total          0\n",
       "profile              0\n",
       "startlist_quality    0\n",
       "date                 0\n",
       "position             0\n",
       "cyclist              0\n",
       "cyclist_age          0\n",
       "mostly_tarmac        0\n",
       "cyclist_team         0\n",
       "delta                0\n",
       "year                 0\n",
       "stage                0\n",
       "dtype: int64"
      ]
     },
     "execution_count": 77,
     "metadata": {},
     "output_type": "execute_result"
    }
   ],
   "source": [
    "# Create dataset with no rows containing missing values\n",
    "cleaned_dataset_by_row = merged_dataset.dropna()\n",
    "# Create csv file with the cleaned dataset\n",
    "cleaned_dataset_by_row.to_csv('../data/cleaned_dataset_by_row.csv', index=False)\n",
    "\n",
    "cleaned_dataset_by_row.isnull().sum() # check number of missing values"
   ]
  }
 ],
 "metadata": {
  "kernelspec": {
   "display_name": "dm_env",
   "language": "python",
   "name": "python3"
  },
  "language_info": {
   "codemirror_mode": {
    "name": "ipython",
    "version": 3
   },
   "file_extension": ".py",
   "mimetype": "text/x-python",
   "name": "python",
   "nbconvert_exporter": "python",
   "pygments_lexer": "ipython3",
   "version": "3.12.2"
  }
 },
 "nbformat": 4,
 "nbformat_minor": 2
}

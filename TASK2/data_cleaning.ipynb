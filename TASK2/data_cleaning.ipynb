{
 "cells": [
  {
   "cell_type": "markdown",
   "metadata": {},
   "source": [
    "# Data Cleaning"
   ]
  },
  {
   "cell_type": "code",
   "execution_count": 2,
   "metadata": {},
   "outputs": [],
   "source": [
    "# Autoreload allows the notebook to dynamically load code: if we update some helper functions *outside* of the notebook, we do not need to reload the notebook.\n",
    "%load_ext autoreload\n",
    "%autoreload 2"
   ]
  },
  {
   "cell_type": "code",
   "execution_count": 3,
   "metadata": {},
   "outputs": [],
   "source": [
    "import pandas as pd\n",
    "import numpy as np\n",
    "\n",
    "import seaborn as sb\n",
    "import matplotlib.pyplot as plt\n",
    "\n",
    "import random\n",
    "import math\n",
    "\n",
    "from sklearn.linear_model import LinearRegression\n",
    "from scipy.stats import norm"
   ]
  },
  {
   "cell_type": "markdown",
   "metadata": {},
   "source": [
    "Create dataset from the union of the cyclists and the races data "
   ]
  },
  {
   "cell_type": "markdown",
   "metadata": {},
   "source": [
    "## Cyclists"
   ]
  },
  {
   "cell_type": "code",
   "execution_count": 4,
   "metadata": {},
   "outputs": [
    {
     "data": {
      "text/html": [
       "<div>\n",
       "<style scoped>\n",
       "    .dataframe tbody tr th:only-of-type {\n",
       "        vertical-align: middle;\n",
       "    }\n",
       "\n",
       "    .dataframe tbody tr th {\n",
       "        vertical-align: top;\n",
       "    }\n",
       "\n",
       "    .dataframe thead th {\n",
       "        text-align: right;\n",
       "    }\n",
       "</style>\n",
       "<table border=\"1\" class=\"dataframe\">\n",
       "  <thead>\n",
       "    <tr style=\"text-align: right;\">\n",
       "      <th></th>\n",
       "      <th>_url</th>\n",
       "      <th>name</th>\n",
       "      <th>birth_year</th>\n",
       "      <th>weight</th>\n",
       "      <th>height</th>\n",
       "      <th>nationality</th>\n",
       "    </tr>\n",
       "  </thead>\n",
       "  <tbody>\n",
       "    <tr>\n",
       "      <th>0</th>\n",
       "      <td>bruno-surra</td>\n",
       "      <td>Bruno  Surra</td>\n",
       "      <td>1964.0</td>\n",
       "      <td>NaN</td>\n",
       "      <td>NaN</td>\n",
       "      <td>Italy</td>\n",
       "    </tr>\n",
       "    <tr>\n",
       "      <th>1</th>\n",
       "      <td>gerard-rue</td>\n",
       "      <td>Gérard  Rué</td>\n",
       "      <td>1965.0</td>\n",
       "      <td>74.0</td>\n",
       "      <td>182.0</td>\n",
       "      <td>France</td>\n",
       "    </tr>\n",
       "    <tr>\n",
       "      <th>2</th>\n",
       "      <td>jan-maas</td>\n",
       "      <td>Jan  Maas</td>\n",
       "      <td>1996.0</td>\n",
       "      <td>69.0</td>\n",
       "      <td>189.0</td>\n",
       "      <td>Netherlands</td>\n",
       "    </tr>\n",
       "    <tr>\n",
       "      <th>3</th>\n",
       "      <td>nathan-van-hooydonck</td>\n",
       "      <td>Nathan Van Hooydonck</td>\n",
       "      <td>1995.0</td>\n",
       "      <td>78.0</td>\n",
       "      <td>192.0</td>\n",
       "      <td>Belgium</td>\n",
       "    </tr>\n",
       "    <tr>\n",
       "      <th>4</th>\n",
       "      <td>jose-felix-parra</td>\n",
       "      <td>José Félix  Parra</td>\n",
       "      <td>1997.0</td>\n",
       "      <td>55.0</td>\n",
       "      <td>171.0</td>\n",
       "      <td>Spain</td>\n",
       "    </tr>\n",
       "  </tbody>\n",
       "</table>\n",
       "</div>"
      ],
      "text/plain": [
       "                   _url                  name  birth_year  weight  height  \\\n",
       "0           bruno-surra          Bruno  Surra      1964.0     NaN     NaN   \n",
       "1            gerard-rue           Gérard  Rué      1965.0    74.0   182.0   \n",
       "2              jan-maas             Jan  Maas      1996.0    69.0   189.0   \n",
       "3  nathan-van-hooydonck  Nathan Van Hooydonck      1995.0    78.0   192.0   \n",
       "4      jose-felix-parra     José Félix  Parra      1997.0    55.0   171.0   \n",
       "\n",
       "   nationality  \n",
       "0        Italy  \n",
       "1       France  \n",
       "2  Netherlands  \n",
       "3      Belgium  \n",
       "4        Spain  "
      ]
     },
     "execution_count": 4,
     "metadata": {},
     "output_type": "execute_result"
    }
   ],
   "source": [
    "csv_file = \"../data/cyclists.csv\"\n",
    "cyclists_dataset = pd.read_csv(csv_file)\n",
    "cyclists_dataset.head()"
   ]
  },
  {
   "cell_type": "code",
   "execution_count": 5,
   "metadata": {},
   "outputs": [
    {
     "name": "stdout",
     "output_type": "stream",
     "text": [
      "<class 'pandas.core.frame.DataFrame'>\n",
      "RangeIndex: 6134 entries, 0 to 6133\n",
      "Data columns (total 6 columns):\n",
      " #   Column       Non-Null Count  Dtype  \n",
      "---  ------       --------------  -----  \n",
      " 0   _url         6134 non-null   object \n",
      " 1   name         6134 non-null   object \n",
      " 2   birth_year   6121 non-null   float64\n",
      " 3   weight       3078 non-null   float64\n",
      " 4   height       3143 non-null   float64\n",
      " 5   nationality  6133 non-null   object \n",
      "dtypes: float64(3), object(3)\n",
      "memory usage: 287.7+ KB\n"
     ]
    }
   ],
   "source": [
    "cyclists_dataset.info()"
   ]
  },
  {
   "cell_type": "markdown",
   "metadata": {},
   "source": [
    "### Modify columns\n",
    "\n",
    "Before cleaning the races dataset, we redefine the dataframe with the new types."
   ]
  },
  {
   "cell_type": "code",
   "execution_count": 6,
   "metadata": {},
   "outputs": [],
   "source": [
    "cyclists_dataset['birth_year'] = cyclists_dataset[cyclists_dataset['birth_year'].notnull()]['birth_year'].astype(int)"
   ]
  },
  {
   "cell_type": "markdown",
   "metadata": {},
   "source": [
    "### Imputation"
   ]
  },
  {
   "cell_type": "code",
   "execution_count": 7,
   "metadata": {},
   "outputs": [
    {
     "data": {
      "text/plain": [
       "_url              0\n",
       "name              0\n",
       "birth_year       13\n",
       "weight         3056\n",
       "height         2991\n",
       "nationality       1\n",
       "dtype: int64"
      ]
     },
     "execution_count": 7,
     "metadata": {},
     "output_type": "execute_result"
    }
   ],
   "source": [
    "cyclists_dataset.isnull().sum() # check number of missing values"
   ]
  },
  {
   "cell_type": "markdown",
   "metadata": {},
   "source": [
    "#### Imputation Birth Year and Nationality null values\n",
    "Per l'anno di nascita e la nazionalità mancanti, abbiamo cercato di recuperare più dati possibile manualmente attraverso ricerce online."
   ]
  },
  {
   "cell_type": "code",
   "execution_count": 8,
   "metadata": {},
   "outputs": [
    {
     "data": {
      "text/plain": [
       "9             scott-davies\n",
       "601       vladimir-malakov\n",
       "894         antonio-zanini\n",
       "2408     filippo-simonetti\n",
       "2515         carlos-garcia\n",
       "2536       alexandr-osipov\n",
       "3046      nicolai-kosyakov\n",
       "3551            nevens-guy\n",
       "4142           oscar-pumar\n",
       "4384         javier-luquin\n",
       "4756        thierry-lauder\n",
       "6072    sergei-jermachenko\n",
       "6080       batik-odriozola\n",
       "Name: _url, dtype: object"
      ]
     },
     "execution_count": 8,
     "metadata": {},
     "output_type": "execute_result"
    }
   ],
   "source": [
    "# Show urls of the cyclists with 'birth_year' missing values\n",
    "cyclists_dataset[cyclists_dataset['birth_year'].isnull()]['_url']"
   ]
  },
  {
   "cell_type": "markdown",
   "metadata": {},
   "source": [
    "Per gli anni di nascita trovati, abbiamo fatto una imputazione manuale del valore ottenuto nella feature 'birth_year' corrispondente"
   ]
  },
  {
   "cell_type": "code",
   "execution_count": 9,
   "metadata": {},
   "outputs": [],
   "source": [
    "cyclists_dataset.loc[cyclists_dataset['_url'] == 'scott-davies', 'birth_year'] = 1995\n",
    "cyclists_dataset.loc[cyclists_dataset['_url'] == 'vladimir-malakov', 'birth_year'] = 1958\n",
    "cyclists_dataset.loc[cyclists_dataset['_url'] == 'antonio-zanini', 'birth_year'] = 1965\n",
    "cyclists_dataset.loc[cyclists_dataset['_url'] == 'nevens-guy', 'birth_year'] = 1962\n",
    "cyclists_dataset.loc[cyclists_dataset['_url'] == 'sergei-jermachenko', 'birth_year'] = 1956 "
   ]
  },
  {
   "cell_type": "markdown",
   "metadata": {},
   "source": [
    "Ragionamento simile fatto anche per la nazionalità. L'unica mancante apparteneva al ciclista Scott Davies."
   ]
  },
  {
   "cell_type": "code",
   "execution_count": 10,
   "metadata": {},
   "outputs": [],
   "source": [
    "cyclists_dataset.loc[cyclists_dataset['_url'] == 'scott-davies', 'nationality'] = 'Great Britain'"
   ]
  },
  {
   "cell_type": "markdown",
   "metadata": {},
   "source": [
    "Per i restanti anni di nascita, è stata sfruttata la moda"
   ]
  },
  {
   "cell_type": "code",
   "execution_count": 11,
   "metadata": {},
   "outputs": [],
   "source": [
    "cyclists_dataset['birth_year'] = cyclists_dataset['birth_year'].fillna(cyclists_dataset['birth_year'].mode()[0]) # substitue 8 remaining elements with mode"
   ]
  },
  {
   "cell_type": "code",
   "execution_count": 12,
   "metadata": {},
   "outputs": [
    {
     "data": {
      "text/plain": [
       "_url              0\n",
       "name              0\n",
       "birth_year        0\n",
       "weight         3056\n",
       "height         2991\n",
       "nationality       0\n",
       "dtype: int64"
      ]
     },
     "execution_count": 12,
     "metadata": {},
     "output_type": "execute_result"
    }
   ],
   "source": [
    "cyclists_dataset.isnull().sum() # check if missing values are filled correctly"
   ]
  },
  {
   "cell_type": "markdown",
   "metadata": {},
   "source": [
    "#### Imputation Weight and Height null values\n",
    "\n",
    "Sapendo che altezza e peso sono altamente correlati, si può sfruttare il peso per trovare l'altezza, e l'altezza per trovare il peso."
   ]
  },
  {
   "cell_type": "code",
   "execution_count": 13,
   "metadata": {},
   "outputs": [
    {
     "name": "stdout",
     "output_type": "stream",
     "text": [
      "Cyclists where we have only the height: 72\n",
      "Cyclists where we have only the weight: 7\n"
     ]
    }
   ],
   "source": [
    "# Filter rows where 'weight' is null and 'height' is not null\n",
    "missing_weight_with_height = cyclists_dataset[cyclists_dataset['weight'].isnull() & cyclists_dataset['height'].notnull()]\n",
    "print(\"Cyclists where we have only the height:\", len(missing_weight_with_height))\n",
    "\n",
    "# Filter rows where 'weight' is not null and 'height' is null\n",
    "missing_height_with_weight = cyclists_dataset[cyclists_dataset['weight'].notnull() & cyclists_dataset['height'].isnull()]\n",
    "print(\"Cyclists where we have only the weight:\", len(missing_height_with_weight))\n"
   ]
  },
  {
   "cell_type": "markdown",
   "metadata": {},
   "source": [
    "Per questa imputazione, abbiamo pensato a due possibili metodi. Uno è quello di creare un piccolo modello di regressione lineare, un'altro è quello di basarsi sulla media delle distribuzioni suddivise in vari bins."
   ]
  },
  {
   "cell_type": "code",
   "execution_count": 14,
   "metadata": {},
   "outputs": [
    {
     "data": {
      "text/plain": [
       "_url              0\n",
       "name              0\n",
       "birth_year        0\n",
       "weight         2984\n",
       "height         2984\n",
       "nationality       0\n",
       "dtype: int64"
      ]
     },
     "execution_count": 14,
     "metadata": {},
     "output_type": "execute_result"
    }
   ],
   "source": [
    "def linear_regression_imputation():\n",
    "    # Filtra il dataset per ciclisti con peso e altezza presenti\n",
    "    available_data = cyclists_dataset.dropna(subset=['weight', 'height'])\n",
    "\n",
    "    # Modello di regressione per stimare il peso in base all'altezza\n",
    "    model_weight = LinearRegression()\n",
    "    model_weight.fit(available_data[['height']], available_data['weight'])\n",
    "\n",
    "    # Calcolo dei residui per il modello peso-altezza\n",
    "    weight_predicted = model_weight.predict(available_data[['height']])\n",
    "    weight_residuals = available_data['weight'] - weight_predicted\n",
    "\n",
    "    # Modello di regressione per stimare l'altezza in base al peso\n",
    "    model_height = LinearRegression()\n",
    "    model_height.fit(available_data[['weight']], available_data['height'])\n",
    "\n",
    "    # Calcolo dei residui per il modello altezza-peso\n",
    "    height_predicted = model_height.predict(available_data[['weight']])\n",
    "    height_residuals = available_data['height'] - height_predicted\n",
    "\n",
    "    # Funzione per imputare il peso basato sull'altezza\n",
    "    def impute_weight(height):\n",
    "        height_df = pd.DataFrame([[height]], columns=['height'])\n",
    "        predicted_weight = model_weight.predict(height_df)[0]\n",
    "        imputed_weight = predicted_weight + np.random.choice(weight_residuals)\n",
    "        return imputed_weight\n",
    "\n",
    "    # Funzione per imputare l'altezza basata sul peso\n",
    "    def impute_height(weight):\n",
    "        weight_df = pd.DataFrame([[weight]], columns=['weight'])\n",
    "        predicted_height = model_height.predict(weight_df)[0]\n",
    "        imputed_height = predicted_height + np.random.choice(height_residuals)\n",
    "        return imputed_height\n",
    "\n",
    "    # Crea una copia del dataset per l'imputazione\n",
    "    imputed_dataset = cyclists_dataset.copy()\n",
    "\n",
    "    # Applica l'imputazione alla copia del dataset per i ciclisti con altezza disponibile ma peso mancante\n",
    "    imputed_dataset.loc[imputed_dataset['weight'].isnull() & imputed_dataset['height'].notnull(), 'weight'] = \\\n",
    "        imputed_dataset.loc[imputed_dataset['weight'].isnull() & imputed_dataset['height'].notnull(), 'height'].apply(impute_weight)\n",
    "\n",
    "    # Applica l'imputazione alla copia del dataset per i ciclisti con peso disponibile ma altezza mancante\n",
    "    imputed_dataset.loc[imputed_dataset['height'].isnull() & imputed_dataset['weight'].notnull(), 'height'] = \\\n",
    "        imputed_dataset.loc[imputed_dataset['height'].isnull() & imputed_dataset['weight'].notnull(), 'weight'].apply(impute_height)\n",
    "\n",
    "    return imputed_dataset\n",
    "\n",
    "imputed_dataset_lr = linear_regression_imputation()\n",
    "imputed_dataset_lr.isnull().sum() # check if missing values are filled correctly"
   ]
  },
  {
   "cell_type": "code",
   "execution_count": 15,
   "metadata": {},
   "outputs": [
    {
     "name": "stderr",
     "output_type": "stream",
     "text": [
      "/var/folders/6w/jr75hz4j1mnfxpxpb_7px5b40000gn/T/ipykernel_3375/1790857216.py:11: FutureWarning: The default of observed=False is deprecated and will be changed to True in a future version of pandas. Pass observed=False to retain current behavior or observed=True to adopt the future default and silence this warning.\n",
      "  height_weight_means = imputed_dataset.groupby('height_bin')['weight'].mean()\n",
      "/var/folders/6w/jr75hz4j1mnfxpxpb_7px5b40000gn/T/ipykernel_3375/1790857216.py:14: FutureWarning: The default of observed=False is deprecated and will be changed to True in a future version of pandas. Pass observed=False to retain current behavior or observed=True to adopt the future default and silence this warning.\n",
      "  weight_height_means = imputed_dataset.groupby('weight_bin')['height'].mean()\n"
     ]
    },
    {
     "data": {
      "text/plain": [
       "_url              0\n",
       "name              0\n",
       "birth_year        0\n",
       "weight         2984\n",
       "height         2984\n",
       "nationality       0\n",
       "dtype: int64"
      ]
     },
     "execution_count": 15,
     "metadata": {},
     "output_type": "execute_result"
    }
   ],
   "source": [
    "def bins_imputation():\n",
    "    # Creare una copia del dataset originale per l'imputazione\n",
    "    imputed_dataset = cyclists_dataset.copy()\n",
    "\n",
    "    # Creare intervalli per altezza e peso (ad esempio per decili o range)\n",
    "    # Qui useremo i decili per distribuire altezza e peso in intervalli\n",
    "    imputed_dataset['height_bin'] = pd.qcut(imputed_dataset['height'], q=10)  # Decili per l'altezza\n",
    "    imputed_dataset['weight_bin'] = pd.qcut(imputed_dataset['weight'], q=10)  # Decili per il peso\n",
    "\n",
    "    # Calcolare la media del peso per ogni intervallo di altezza\n",
    "    height_weight_means = imputed_dataset.groupby('height_bin')['weight'].mean()\n",
    "\n",
    "    # Calcolare la media dell'altezza per ogni intervallo di peso\n",
    "    weight_height_means = imputed_dataset.groupby('weight_bin')['height'].mean()\n",
    "\n",
    "    # Funzione per imputare il peso in base all'intervallo di altezza\n",
    "    def impute_weight_simple(row):\n",
    "        if pd.isnull(row['weight']) and pd.notnull(row['height']):\n",
    "            # Cerca il peso medio corrispondente all'intervallo di altezza\n",
    "            return height_weight_means[row['height_bin']]\n",
    "        return row['weight']\n",
    "\n",
    "    # Funzione per imputare l'altezza in base all'intervallo di peso\n",
    "    def impute_height_simple(row):\n",
    "        if pd.isnull(row['height']) and pd.notnull(row['weight']):\n",
    "            # Cerca l'altezza media corrispondente all'intervallo di peso\n",
    "            return weight_height_means[row['weight_bin']]\n",
    "        return row['height']\n",
    "\n",
    "    # Applicare le funzioni di imputazione sulla copia del dataset\n",
    "    imputed_dataset['weight'] = imputed_dataset.apply(impute_weight_simple, axis=1)\n",
    "    imputed_dataset['height'] = imputed_dataset.apply(impute_height_simple, axis=1)\n",
    "\n",
    "    # Rimuovere le colonne di supporto usate per l'imputazione\n",
    "    imputed_dataset.drop(columns=['height_bin', 'weight_bin'], inplace=True)\n",
    "\n",
    "    return imputed_dataset\n",
    "\n",
    "imputed_dataset_bins = bins_imputation()\n",
    "imputed_dataset_bins.isnull().sum() # check if missing values are filled correctly"
   ]
  },
  {
   "cell_type": "code",
   "execution_count": 16,
   "metadata": {},
   "outputs": [
    {
     "data": {
      "image/png": "[encoded data removed]",
      "text/plain": [
       "<Figure size 1500x1000 with 6 Axes>"
      ]
     },
     "metadata": {},
     "output_type": "display_data"
    }
   ],
   "source": [
    "# Calcola il numero di bin per l'istogramma\n",
    "n_bins = math.ceil(math.log2(len(cyclists_dataset)) + 1)\n",
    "\n",
    "# Crea una griglia 2x3 per i grafici\n",
    "fig, axes = plt.subplots(2, 3, figsize=(15, 10))\n",
    "\n",
    "\n",
    "# Peso prima dell'imputazione\n",
    "sb.histplot(data=cyclists_dataset, x=\"weight\", bins=n_bins, ax=axes[0, 0])\n",
    "axes[0, 0].set_title(\"Weight Before Imputation\")\n",
    "\n",
    "# Peso dopo l'imputazione (regressione lineare)\n",
    "sb.histplot(data=imputed_dataset_lr, x=\"weight\", bins=n_bins, ax=axes[0, 1])\n",
    "axes[0, 1].set_title(\"Weight After Imputation (Linear Regression)\")\n",
    "\n",
    "# Peso dopo l'imputazione (binning)\n",
    "sb.histplot(data=imputed_dataset_bins, x=\"weight\", bins=n_bins, ax=axes[0, 2])\n",
    "axes[0, 2].set_title(\"Weight After Imputation (Binning)\")\n",
    "\n",
    "\n",
    "# Altezza prima dell'imputazione\n",
    "sb.histplot(data=cyclists_dataset, x=\"height\", bins=n_bins, ax=axes[1, 0])\n",
    "axes[1, 0].set_title(\"Height Before Imputation\")\n",
    "\n",
    "# Altezza dopo l'imputazione (regressione lineare)\n",
    "sb.histplot(data=imputed_dataset_lr, x=\"height\", bins=n_bins, ax=axes[1, 1])\n",
    "axes[1, 1].set_title(\"Height After Imputation (Linear Regression)\")\n",
    "\n",
    "# Altezza dopo l'imputazione (binning)\n",
    "sb.histplot(data=imputed_dataset_bins, x=\"height\", bins=n_bins, ax=axes[1, 2])\n",
    "axes[1, 2].set_title(\"Height After Imputation (Binning)\")\n",
    "\n",
    "\n",
    "# Imposta uno stile di layout compatto\n",
    "plt.tight_layout()\n",
    "plt.show()"
   ]
  },
  {
   "cell_type": "markdown",
   "metadata": {},
   "source": [
    "Entrambi i metodi riescono correttamente a imputare i valori di interesse. Inoltre, notiamo dalle distribuzioni che non è presente una grande differenza, ma comunque l'imputazione con il secondo metodo mantiene una distribuzione più coerente con quella iniziale, quindi andremo ad effettuare l'imputazione sfruttando la media nella distribuzione."
   ]
  },
  {
   "cell_type": "code",
   "execution_count": 17,
   "metadata": {},
   "outputs": [
    {
     "name": "stderr",
     "output_type": "stream",
     "text": [
      "/var/folders/6w/jr75hz4j1mnfxpxpb_7px5b40000gn/T/ipykernel_3375/2316527839.py:7: FutureWarning: The default of observed=False is deprecated and will be changed to True in a future version of pandas. Pass observed=False to retain current behavior or observed=True to adopt the future default and silence this warning.\n",
      "  height_weight_means = cyclists_dataset.groupby('height_bin')['weight'].mean()\n",
      "/var/folders/6w/jr75hz4j1mnfxpxpb_7px5b40000gn/T/ipykernel_3375/2316527839.py:10: FutureWarning: The default of observed=False is deprecated and will be changed to True in a future version of pandas. Pass observed=False to retain current behavior or observed=True to adopt the future default and silence this warning.\n",
      "  weight_height_means = cyclists_dataset.groupby('weight_bin')['height'].mean()\n"
     ]
    }
   ],
   "source": [
    "# Creare intervalli per altezza e peso (ad esempio per decili o range)\n",
    "# Qui useremo i decili per distribuire altezza e peso in intervalli\n",
    "cyclists_dataset['height_bin'] = pd.qcut(cyclists_dataset['height'], q=10)  # Decili per l'altezza\n",
    "cyclists_dataset['weight_bin'] = pd.qcut(cyclists_dataset['weight'], q=10)  # Decili per il peso\n",
    "\n",
    "# Calcolare la media del peso per ogni intervallo di altezza\n",
    "height_weight_means = cyclists_dataset.groupby('height_bin')['weight'].mean()\n",
    "\n",
    "# Calcolare la media dell'altezza per ogni intervallo di peso\n",
    "weight_height_means = cyclists_dataset.groupby('weight_bin')['height'].mean()\n",
    "\n",
    "# Funzione per imputare il peso in base all'intervallo di altezza\n",
    "def impute_weight_simple(row):\n",
    "    if pd.isnull(row['weight']) and pd.notnull(row['height']):\n",
    "        # Cerca il peso medio corrispondente all'intervallo di altezza\n",
    "        return height_weight_means[row['height_bin']]\n",
    "    return row['weight']\n",
    "\n",
    "# Funzione per imputare l'altezza in base all'intervallo di peso\n",
    "def impute_height_simple(row):\n",
    "    if pd.isnull(row['height']) and pd.notnull(row['weight']):\n",
    "        # Cerca l'altezza media corrispondente all'intervallo di peso\n",
    "        return weight_height_means[row['weight_bin']]\n",
    "    return row['height']\n",
    "\n",
    "# Applicare le funzioni di imputazione\n",
    "cyclists_dataset['weight'] = cyclists_dataset.apply(impute_weight_simple, axis=1)\n",
    "cyclists_dataset['height'] = cyclists_dataset.apply(impute_height_simple, axis=1)\n",
    "\n",
    "# Rimuovere le colonne di supporto usate per l'imputazione\n",
    "cyclists_dataset.drop(columns=['height_bin', 'weight_bin'], inplace=True)"
   ]
  },
  {
   "cell_type": "code",
   "execution_count": 18,
   "metadata": {},
   "outputs": [
    {
     "data": {
      "text/plain": [
       "_url              0\n",
       "name              0\n",
       "birth_year        0\n",
       "weight         2984\n",
       "height         2984\n",
       "nationality       0\n",
       "dtype: int64"
      ]
     },
     "execution_count": 18,
     "metadata": {},
     "output_type": "execute_result"
    }
   ],
   "source": [
    "cyclists_dataset.isnull().sum() # check number of missing values"
   ]
  },
  {
   "cell_type": "markdown",
   "metadata": {},
   "source": [
    "Per i restanti null values, è nostra intenzione eliminare i record dei ciclisti senza altezza e peso che non sono presenti nelle gare, e questo verrà fatto automaticamente quando a breve andremo ad unire i due dataset.\n",
    "Non eliminiamo tutti i record con peso e altezza nulli perchè potremmo comunque fare delle analisi basandoci sugli altri valori.\n"
   ]
  },
  {
   "cell_type": "code",
   "execution_count": 19,
   "metadata": {},
   "outputs": [],
   "source": [
    "# Order cyclists dataset by _url\n",
    "cyclists_dataset = cyclists_dataset.sort_values(by='_url')"
   ]
  },
  {
   "cell_type": "markdown",
   "metadata": {},
   "source": [
    "## Races"
   ]
  },
  {
   "cell_type": "code",
   "execution_count": 34,
   "metadata": {},
   "outputs": [
    {
     "data": {
      "text/html": [
       "<div>\n",
       "<style scoped>\n",
       "    .dataframe tbody tr th:only-of-type {\n",
       "        vertical-align: middle;\n",
       "    }\n",
       "\n",
       "    .dataframe tbody tr th {\n",
       "        vertical-align: top;\n",
       "    }\n",
       "\n",
       "    .dataframe thead th {\n",
       "        text-align: right;\n",
       "    }\n",
       "</style>\n",
       "<table border=\"1\" class=\"dataframe\">\n",
       "  <thead>\n",
       "    <tr style=\"text-align: right;\">\n",
       "      <th></th>\n",
       "      <th>_url</th>\n",
       "      <th>name</th>\n",
       "      <th>points</th>\n",
       "      <th>uci_points</th>\n",
       "      <th>length</th>\n",
       "      <th>climb_total</th>\n",
       "      <th>profile</th>\n",
       "      <th>startlist_quality</th>\n",
       "      <th>average_temperature</th>\n",
       "      <th>date</th>\n",
       "      <th>position</th>\n",
       "      <th>cyclist</th>\n",
       "      <th>cyclist_age</th>\n",
       "      <th>is_tarmac</th>\n",
       "      <th>is_cobbled</th>\n",
       "      <th>is_gravel</th>\n",
       "      <th>cyclist_team</th>\n",
       "      <th>delta</th>\n",
       "    </tr>\n",
       "  </thead>\n",
       "  <tbody>\n",
       "    <tr>\n",
       "      <th>0</th>\n",
       "      <td>tour-de-france/1978/stage-6</td>\n",
       "      <td>Tour de France</td>\n",
       "      <td>100.0</td>\n",
       "      <td>NaN</td>\n",
       "      <td>162000.0</td>\n",
       "      <td>1101.0</td>\n",
       "      <td>1.0</td>\n",
       "      <td>1241</td>\n",
       "      <td>NaN</td>\n",
       "      <td>1978-07-05 04:02:24</td>\n",
       "      <td>0</td>\n",
       "      <td>sean-kelly</td>\n",
       "      <td>22.0</td>\n",
       "      <td>True</td>\n",
       "      <td>False</td>\n",
       "      <td>False</td>\n",
       "      <td>vini-ricordi-pinarello-sidermec-1986</td>\n",
       "      <td>0.0</td>\n",
       "    </tr>\n",
       "    <tr>\n",
       "      <th>1</th>\n",
       "      <td>tour-de-france/1978/stage-6</td>\n",
       "      <td>Tour de France</td>\n",
       "      <td>100.0</td>\n",
       "      <td>NaN</td>\n",
       "      <td>162000.0</td>\n",
       "      <td>1101.0</td>\n",
       "      <td>1.0</td>\n",
       "      <td>1241</td>\n",
       "      <td>NaN</td>\n",
       "      <td>1978-07-05 04:02:24</td>\n",
       "      <td>1</td>\n",
       "      <td>gerrie-knetemann</td>\n",
       "      <td>27.0</td>\n",
       "      <td>True</td>\n",
       "      <td>False</td>\n",
       "      <td>False</td>\n",
       "      <td>norway-1987</td>\n",
       "      <td>0.0</td>\n",
       "    </tr>\n",
       "    <tr>\n",
       "      <th>2</th>\n",
       "      <td>tour-de-france/1978/stage-6</td>\n",
       "      <td>Tour de France</td>\n",
       "      <td>100.0</td>\n",
       "      <td>NaN</td>\n",
       "      <td>162000.0</td>\n",
       "      <td>1101.0</td>\n",
       "      <td>1.0</td>\n",
       "      <td>1241</td>\n",
       "      <td>NaN</td>\n",
       "      <td>1978-07-05 04:02:24</td>\n",
       "      <td>2</td>\n",
       "      <td>rene-bittinger</td>\n",
       "      <td>24.0</td>\n",
       "      <td>True</td>\n",
       "      <td>False</td>\n",
       "      <td>False</td>\n",
       "      <td>NaN</td>\n",
       "      <td>0.0</td>\n",
       "    </tr>\n",
       "    <tr>\n",
       "      <th>3</th>\n",
       "      <td>tour-de-france/1978/stage-6</td>\n",
       "      <td>Tour de France</td>\n",
       "      <td>100.0</td>\n",
       "      <td>NaN</td>\n",
       "      <td>162000.0</td>\n",
       "      <td>1101.0</td>\n",
       "      <td>1.0</td>\n",
       "      <td>1241</td>\n",
       "      <td>NaN</td>\n",
       "      <td>1978-07-05 04:02:24</td>\n",
       "      <td>3</td>\n",
       "      <td>joseph-bruyere</td>\n",
       "      <td>30.0</td>\n",
       "      <td>True</td>\n",
       "      <td>False</td>\n",
       "      <td>False</td>\n",
       "      <td>navigare-blue-storm-1993</td>\n",
       "      <td>0.0</td>\n",
       "    </tr>\n",
       "    <tr>\n",
       "      <th>4</th>\n",
       "      <td>tour-de-france/1978/stage-6</td>\n",
       "      <td>Tour de France</td>\n",
       "      <td>100.0</td>\n",
       "      <td>NaN</td>\n",
       "      <td>162000.0</td>\n",
       "      <td>1101.0</td>\n",
       "      <td>1.0</td>\n",
       "      <td>1241</td>\n",
       "      <td>NaN</td>\n",
       "      <td>1978-07-05 04:02:24</td>\n",
       "      <td>4</td>\n",
       "      <td>sven-ake-nilsson</td>\n",
       "      <td>27.0</td>\n",
       "      <td>True</td>\n",
       "      <td>False</td>\n",
       "      <td>False</td>\n",
       "      <td>spain-1991</td>\n",
       "      <td>0.0</td>\n",
       "    </tr>\n",
       "  </tbody>\n",
       "</table>\n",
       "</div>"
      ],
      "text/plain": [
       "                          _url            name  points  uci_points    length  \\\n",
       "0  tour-de-france/1978/stage-6  Tour de France   100.0         NaN  162000.0   \n",
       "1  tour-de-france/1978/stage-6  Tour de France   100.0         NaN  162000.0   \n",
       "2  tour-de-france/1978/stage-6  Tour de France   100.0         NaN  162000.0   \n",
       "3  tour-de-france/1978/stage-6  Tour de France   100.0         NaN  162000.0   \n",
       "4  tour-de-france/1978/stage-6  Tour de France   100.0         NaN  162000.0   \n",
       "\n",
       "   climb_total  profile  startlist_quality  average_temperature  \\\n",
       "0       1101.0      1.0               1241                  NaN   \n",
       "1       1101.0      1.0               1241                  NaN   \n",
       "2       1101.0      1.0               1241                  NaN   \n",
       "3       1101.0      1.0               1241                  NaN   \n",
       "4       1101.0      1.0               1241                  NaN   \n",
       "\n",
       "                  date  position           cyclist  cyclist_age  is_tarmac  \\\n",
       "0  1978-07-05 04:02:24         0        sean-kelly         22.0       True   \n",
       "1  1978-07-05 04:02:24         1  gerrie-knetemann         27.0       True   \n",
       "2  1978-07-05 04:02:24         2    rene-bittinger         24.0       True   \n",
       "3  1978-07-05 04:02:24         3    joseph-bruyere         30.0       True   \n",
       "4  1978-07-05 04:02:24         4  sven-ake-nilsson         27.0       True   \n",
       "\n",
       "   is_cobbled  is_gravel                          cyclist_team  delta  \n",
       "0       False      False  vini-ricordi-pinarello-sidermec-1986    0.0  \n",
       "1       False      False                           norway-1987    0.0  \n",
       "2       False      False                                   NaN    0.0  \n",
       "3       False      False              navigare-blue-storm-1993    0.0  \n",
       "4       False      False                            spain-1991    0.0  "
      ]
     },
     "execution_count": 34,
     "metadata": {},
     "output_type": "execute_result"
    }
   ],
   "source": [
    "csv_file = \"../data/races.csv\"\n",
    "races_dataset = pd.read_csv(csv_file)\n",
    "races_dataset.head()"
   ]
  },
  {
   "cell_type": "markdown",
   "metadata": {},
   "source": [
    "### Modify columns\n",
    "\n",
    "Before cleaning the races dataset, we redefine the dataframe with the modified columns of date and is_foo"
   ]
  },
  {
   "cell_type": "code",
   "execution_count": 35,
   "metadata": {},
   "outputs": [],
   "source": [
    "races_dataset['climb_total'] = races_dataset[races_dataset['climb_total'].notnull()]['climb_total'].astype(int)\n",
    "\n",
    "races_dataset['profile'] = races_dataset['profile'].astype('category')\n",
    "\n",
    "races_dataset['cyclist_age'] = races_dataset[races_dataset['cyclist_age'].notnull()]['cyclist_age'].astype(int)\n",
    "\n",
    "races_dataset['date'] = races_dataset['date'].str.split(' ').str[0]\n",
    "races_dataset['date'] = pd.to_datetime(races_dataset['date'], format='%Y-%m-%d')\n",
    "\n",
    "races_dataset = races_dataset.drop(columns=['is_cobbled', 'is_gravel'])\n",
    "races_dataset = races_dataset.rename(columns={'is_tarmac': 'mostly_tarmac'})\n",
    "\n",
    "races_dataset = races_dataset.drop(columns=['average_temperature'])"
   ]
  },
  {
   "cell_type": "markdown",
   "metadata": {},
   "source": [
    "### Deletions of rows"
   ]
  },
  {
   "cell_type": "markdown",
   "metadata": {},
   "source": [
    "Considerando la presenza di uno stesso ciclista più volte (massimo due volte) nella stessa classifica di una specifica gara, abbiamo deciso di eliminare la seconda occorrenza e tenere solo la prima."
   ]
  },
  {
   "cell_type": "code",
   "execution_count": 36,
   "metadata": {},
   "outputs": [],
   "source": [
    "# Identify duplicate rows for each cyclist in each URL (excluding the first occurrence)\n",
    "duplicate_rows = races_dataset.duplicated(subset=['_url', 'cyclist'], keep='first')\n",
    "# Delete only the second occurrences (duplicate)\n",
    "races_dataset = races_dataset[~duplicate_rows]"
   ]
  },
  {
   "cell_type": "code",
   "execution_count": 37,
   "metadata": {},
   "outputs": [
    {
     "data": {
      "text/plain": [
       "_url                      0\n",
       "name                      0\n",
       "points                  477\n",
       "uci_points           338654\n",
       "length                    0\n",
       "climb_total          146976\n",
       "profile              148089\n",
       "startlist_quality         0\n",
       "date                      0\n",
       "position                  0\n",
       "cyclist                   0\n",
       "cyclist_age             113\n",
       "mostly_tarmac             0\n",
       "cyclist_team         159085\n",
       "delta                     0\n",
       "dtype: int64"
      ]
     },
     "execution_count": 37,
     "metadata": {},
     "output_type": "execute_result"
    }
   ],
   "source": [
    "races_dataset.isnull().sum() # check number of missing values"
   ]
  },
  {
   "cell_type": "markdown",
   "metadata": {},
   "source": [
    "### Imputation"
   ]
  },
  {
   "cell_type": "code",
   "execution_count": 38,
   "metadata": {},
   "outputs": [
    {
     "data": {
      "text/plain": [
       "_url                      0\n",
       "name                      0\n",
       "points                  477\n",
       "uci_points           338654\n",
       "length                    0\n",
       "climb_total          146976\n",
       "profile              148089\n",
       "startlist_quality         0\n",
       "date                      0\n",
       "position                  0\n",
       "cyclist                   0\n",
       "cyclist_age             113\n",
       "mostly_tarmac             0\n",
       "cyclist_team         159085\n",
       "delta                     0\n",
       "dtype: int64"
      ]
     },
     "execution_count": 38,
     "metadata": {},
     "output_type": "execute_result"
    }
   ],
   "source": [
    "races_dataset.isnull().sum() # check number of missing values"
   ]
  },
  {
   "cell_type": "markdown",
   "metadata": {},
   "source": [
    "#### Imputation of points and uci points\n",
    "\n",
    "Proviamo a fare l'imputaton dei points mancanti, e di conseguenza fare l'imputation degli uci_points"
   ]
  },
  {
   "cell_type": "code",
   "execution_count": null,
   "metadata": {},
   "outputs": [
    {
     "data": {
      "text/plain": [
       "_url                      0\n",
       "name                      0\n",
       "points                    0\n",
       "uci_points           338654\n",
       "length                    0\n",
       "climb_total          146976\n",
       "profile              148089\n",
       "startlist_quality         0\n",
       "date                      0\n",
       "position                  0\n",
       "cyclist                   0\n",
       "cyclist_age             113\n",
       "mostly_tarmac             0\n",
       "cyclist_team         159085\n",
       "delta                     0\n",
       "dtype: int64"
      ]
     },
     "execution_count": 39,
     "metadata": {},
     "output_type": "execute_result"
    }
   ],
   "source": [
    "# Estraiamo l'anno dalla colonna 'date'\n",
    "races_dataset['year'] = pd.to_datetime(races_dataset['date']).dt.year\n",
    "\n",
    "# Ottieni dati unici basati su '_url' e 'points'\n",
    "unique_data = races_dataset.drop_duplicates(subset=['_url', 'points'])\n",
    "\n",
    "# Filtra le righe dove 'points' è nullo\n",
    "invalid_races = unique_data[unique_data['points'].isnull()]\n",
    "\n",
    "# Loop su ogni riga senza punti e tenta di trovare il valore dell'anno precedente\n",
    "for index, row in invalid_races.iterrows():\n",
    "    # Trova la riga dell'anno più recente con lo stesso 'name' ma con 'year' minore\n",
    "    previous_race = unique_data[(unique_data['name'] == row['name']) & \n",
    "                                (unique_data['year'] < row['year'])].sort_values(by='year', ascending=False).head(1)\n",
    "    \n",
    "    # Verifica se è stata trovata una riga corrispondente\n",
    "    if not previous_race.empty:\n",
    "        # Ottieni i punti della riga trovata\n",
    "        previous_points = previous_race.iloc[0]['points']\n",
    "        \n",
    "        # Assegna questi punti alla riga originale nel dataset\n",
    "        races_dataset.loc[races_dataset['_url'] == row['_url'], 'points'] = previous_points\n",
    "\n",
    "# Rimuoviamo la colonna temporanea 'year' dal DataFrame\n",
    "races_dataset = races_dataset.drop(columns=['year'])\n",
    "\n",
    "races_dataset.isnull().sum()  # check number of missing values"
   ]
  },
  {
   "cell_type": "code",
   "execution_count": null,
   "metadata": {},
   "outputs": [],
   "source": [
    "# TODO: Imputare uci_points"
   ]
  },
  {
   "cell_type": "code",
   "execution_count": null,
   "metadata": {},
   "outputs": [
    {
     "data": {
      "text/plain": [
       "_url                      0\n",
       "name                      0\n",
       "points                    0\n",
       "uci_points                0\n",
       "length                    0\n",
       "climb_total          146976\n",
       "profile              148089\n",
       "startlist_quality         0\n",
       "date                      0\n",
       "position                  0\n",
       "cyclist                   0\n",
       "cyclist_age             113\n",
       "mostly_tarmac             0\n",
       "cyclist_team         159085\n",
       "delta                     0\n",
       "dtype: int64"
      ]
     },
     "execution_count": 49,
     "metadata": {},
     "output_type": "execute_result"
    }
   ],
   "source": [
    "races_dataset.isnull().sum()  # check number of missing values"
   ]
  },
  {
   "cell_type": "markdown",
   "metadata": {},
   "source": [
    "#### Imputation of profile values\n",
    "\n",
    "Since the correlation between the climb total values and the profile values, we decided to impute the null profile values in the races where we have the climb total value."
   ]
  },
  {
   "cell_type": "code",
   "execution_count": null,
   "metadata": {},
   "outputs": [],
   "source": [
    "# TODO: Imputare uci_points con i bins"
   ]
  },
  {
   "cell_type": "markdown",
   "metadata": {},
   "source": [
    "#### Imputation of delta values\n",
    "\n",
    "Per i delta negativi o che risultano con valori sbagliati, modifichiamo il valore per tenerlo coerente con la posizione del ciclista in quella determinata gara. La logica da seguire è, partendo dalla prima posizione, si prosegue nei record fino a quando non si trova un delta negativo, che a quel punto sostituisco con il delta precedente, e così via fino a quando non finisco le posizioni della gara."
   ]
  },
  {
   "cell_type": "code",
   "execution_count": 41,
   "metadata": {},
   "outputs": [
    {
     "name": "stderr",
     "output_type": "stream",
     "text": [
      "/var/folders/6w/jr75hz4j1mnfxpxpb_7px5b40000gn/T/ipykernel_3375/1838654865.py:12: DeprecationWarning: DataFrameGroupBy.apply operated on the grouping columns. This behavior is deprecated, and in a future version of pandas the grouping columns will be excluded from the operation. Either pass `include_groups=False` to exclude the groupings or explicitly select the grouping columns after groupby to silence this warning.\n",
      "  races_dataset = races_dataset.groupby('_url', group_keys=False).apply(correct_deltas)\n"
     ]
    },
    {
     "name": "stdout",
     "output_type": "stream",
     "text": [
      "Number of URLs with invalid deltas after imputation: 0\n"
     ]
    }
   ],
   "source": [
    "# Funzione per imputare i delta errati\n",
    "def correct_deltas(group):\n",
    "    group = group.reset_index(drop=True)  # Resetta l'indice per garantire l'accesso numerico\n",
    "    # Iniziamo con la prima riga (la quale ha il delta 0)\n",
    "    for i in range(1, len(group)):\n",
    "        # Se il delta è negativo o inferiore al precedente, lo sostituiamo con il valore precedente\n",
    "        if group['delta'].iloc[i] < group['delta'].iloc[i-1]:\n",
    "            group.loc[i, 'delta'] = group.loc[i-1, 'delta']\n",
    "    return group\n",
    "\n",
    "# Applica la funzione di imputazione per ciascun gruppo (gara)\n",
    "races_dataset = races_dataset.groupby('_url', group_keys=False).apply(correct_deltas)\n",
    "\n",
    "# Verifica i cambiamenti\n",
    "invalid_urls_after_imputation = races_dataset.groupby('_url')['delta'].apply(lambda x: (x.shift() > x).any())\n",
    "print('Number of URLs with invalid deltas after imputation: ' + str(len(invalid_urls_after_imputation[invalid_urls_after_imputation])))"
   ]
  },
  {
   "cell_type": "code",
   "execution_count": 42,
   "metadata": {},
   "outputs": [],
   "source": [
    "# Order races dataset by '_url'\n",
    "races_dataset = races_dataset.sort_values(by='_url')"
   ]
  },
  {
   "cell_type": "markdown",
   "metadata": {},
   "source": [
    "## Cyclists & Races"
   ]
  },
  {
   "cell_type": "code",
   "execution_count": 43,
   "metadata": {},
   "outputs": [
    {
     "data": {
      "text/html": [
       "<div>\n",
       "<style scoped>\n",
       "    .dataframe tbody tr th:only-of-type {\n",
       "        vertical-align: middle;\n",
       "    }\n",
       "\n",
       "    .dataframe tbody tr th {\n",
       "        vertical-align: top;\n",
       "    }\n",
       "\n",
       "    .dataframe thead th {\n",
       "        text-align: right;\n",
       "    }\n",
       "</style>\n",
       "<table border=\"1\" class=\"dataframe\">\n",
       "  <thead>\n",
       "    <tr style=\"text-align: right;\">\n",
       "      <th></th>\n",
       "      <th>_url_cyclist</th>\n",
       "      <th>name_cyclist</th>\n",
       "      <th>birth_year</th>\n",
       "      <th>weight</th>\n",
       "      <th>height</th>\n",
       "      <th>nationality</th>\n",
       "      <th>_url_race</th>\n",
       "      <th>name_race</th>\n",
       "      <th>points</th>\n",
       "      <th>uci_points</th>\n",
       "      <th>...</th>\n",
       "      <th>climb_total</th>\n",
       "      <th>profile</th>\n",
       "      <th>startlist_quality</th>\n",
       "      <th>date</th>\n",
       "      <th>position</th>\n",
       "      <th>cyclist</th>\n",
       "      <th>cyclist_age</th>\n",
       "      <th>mostly_tarmac</th>\n",
       "      <th>cyclist_team</th>\n",
       "      <th>delta</th>\n",
       "    </tr>\n",
       "  </thead>\n",
       "  <tbody>\n",
       "    <tr>\n",
       "      <th>0</th>\n",
       "      <td>aad-van-den-hoek</td>\n",
       "      <td>Aad van den Hoek</td>\n",
       "      <td>1951.0</td>\n",
       "      <td>77.0</td>\n",
       "      <td>186.0</td>\n",
       "      <td>Netherlands</td>\n",
       "      <td>e3-harelbeke/1983/result</td>\n",
       "      <td>E3-Prijs Harelbeke</td>\n",
       "      <td>125.0</td>\n",
       "      <td>NaN</td>\n",
       "      <td>...</td>\n",
       "      <td>NaN</td>\n",
       "      <td>NaN</td>\n",
       "      <td>194</td>\n",
       "      <td>1983-03-26</td>\n",
       "      <td>20</td>\n",
       "      <td>aad-van-den-hoek</td>\n",
       "      <td>32.0</td>\n",
       "      <td>False</td>\n",
       "      <td>NaN</td>\n",
       "      <td>117.0</td>\n",
       "    </tr>\n",
       "    <tr>\n",
       "      <th>1</th>\n",
       "      <td>aad-van-den-hoek</td>\n",
       "      <td>Aad van den Hoek</td>\n",
       "      <td>1951.0</td>\n",
       "      <td>77.0</td>\n",
       "      <td>186.0</td>\n",
       "      <td>Netherlands</td>\n",
       "      <td>la-fleche-wallone/1981/result</td>\n",
       "      <td>La Flèche Wallonne</td>\n",
       "      <td>225.0</td>\n",
       "      <td>NaN</td>\n",
       "      <td>...</td>\n",
       "      <td>NaN</td>\n",
       "      <td>NaN</td>\n",
       "      <td>1294</td>\n",
       "      <td>1981-04-15</td>\n",
       "      <td>106</td>\n",
       "      <td>aad-van-den-hoek</td>\n",
       "      <td>30.0</td>\n",
       "      <td>False</td>\n",
       "      <td>NaN</td>\n",
       "      <td>25.0</td>\n",
       "    </tr>\n",
       "    <tr>\n",
       "      <th>2</th>\n",
       "      <td>aad-van-den-hoek</td>\n",
       "      <td>Aad van den Hoek</td>\n",
       "      <td>1951.0</td>\n",
       "      <td>77.0</td>\n",
       "      <td>186.0</td>\n",
       "      <td>Netherlands</td>\n",
       "      <td>omloop-het-nieuwsblad/1977/result</td>\n",
       "      <td>Omloop Het Volk</td>\n",
       "      <td>125.0</td>\n",
       "      <td>NaN</td>\n",
       "      <td>...</td>\n",
       "      <td>NaN</td>\n",
       "      <td>NaN</td>\n",
       "      <td>595</td>\n",
       "      <td>1977-03-05</td>\n",
       "      <td>37</td>\n",
       "      <td>aad-van-den-hoek</td>\n",
       "      <td>26.0</td>\n",
       "      <td>False</td>\n",
       "      <td>NaN</td>\n",
       "      <td>565.0</td>\n",
       "    </tr>\n",
       "    <tr>\n",
       "      <th>3</th>\n",
       "      <td>aad-van-den-hoek</td>\n",
       "      <td>Aad van den Hoek</td>\n",
       "      <td>1951.0</td>\n",
       "      <td>77.0</td>\n",
       "      <td>186.0</td>\n",
       "      <td>Netherlands</td>\n",
       "      <td>omloop-het-nieuwsblad/1978/result</td>\n",
       "      <td>Omloop Het Volk</td>\n",
       "      <td>125.0</td>\n",
       "      <td>NaN</td>\n",
       "      <td>...</td>\n",
       "      <td>NaN</td>\n",
       "      <td>NaN</td>\n",
       "      <td>493</td>\n",
       "      <td>1978-03-04</td>\n",
       "      <td>26</td>\n",
       "      <td>aad-van-den-hoek</td>\n",
       "      <td>27.0</td>\n",
       "      <td>False</td>\n",
       "      <td>NaN</td>\n",
       "      <td>240.0</td>\n",
       "    </tr>\n",
       "    <tr>\n",
       "      <th>4</th>\n",
       "      <td>aad-van-den-hoek</td>\n",
       "      <td>Aad van den Hoek</td>\n",
       "      <td>1951.0</td>\n",
       "      <td>77.0</td>\n",
       "      <td>186.0</td>\n",
       "      <td>Netherlands</td>\n",
       "      <td>omloop-het-nieuwsblad/1983/result</td>\n",
       "      <td>Omloop Het Volk</td>\n",
       "      <td>125.0</td>\n",
       "      <td>NaN</td>\n",
       "      <td>...</td>\n",
       "      <td>NaN</td>\n",
       "      <td>NaN</td>\n",
       "      <td>756</td>\n",
       "      <td>1983-03-05</td>\n",
       "      <td>71</td>\n",
       "      <td>aad-van-den-hoek</td>\n",
       "      <td>32.0</td>\n",
       "      <td>False</td>\n",
       "      <td>NaN</td>\n",
       "      <td>370.0</td>\n",
       "    </tr>\n",
       "  </tbody>\n",
       "</table>\n",
       "<p>5 rows × 21 columns</p>\n",
       "</div>"
      ],
      "text/plain": [
       "       _url_cyclist      name_cyclist  birth_year  weight  height  \\\n",
       "0  aad-van-den-hoek  Aad van den Hoek      1951.0    77.0   186.0   \n",
       "1  aad-van-den-hoek  Aad van den Hoek      1951.0    77.0   186.0   \n",
       "2  aad-van-den-hoek  Aad van den Hoek      1951.0    77.0   186.0   \n",
       "3  aad-van-den-hoek  Aad van den Hoek      1951.0    77.0   186.0   \n",
       "4  aad-van-den-hoek  Aad van den Hoek      1951.0    77.0   186.0   \n",
       "\n",
       "   nationality                          _url_race           name_race  points  \\\n",
       "0  Netherlands           e3-harelbeke/1983/result  E3-Prijs Harelbeke   125.0   \n",
       "1  Netherlands      la-fleche-wallone/1981/result  La Flèche Wallonne   225.0   \n",
       "2  Netherlands  omloop-het-nieuwsblad/1977/result     Omloop Het Volk   125.0   \n",
       "3  Netherlands  omloop-het-nieuwsblad/1978/result     Omloop Het Volk   125.0   \n",
       "4  Netherlands  omloop-het-nieuwsblad/1983/result     Omloop Het Volk   125.0   \n",
       "\n",
       "   uci_points  ...  climb_total  profile startlist_quality       date  \\\n",
       "0         NaN  ...          NaN      NaN               194 1983-03-26   \n",
       "1         NaN  ...          NaN      NaN              1294 1981-04-15   \n",
       "2         NaN  ...          NaN      NaN               595 1977-03-05   \n",
       "3         NaN  ...          NaN      NaN               493 1978-03-04   \n",
       "4         NaN  ...          NaN      NaN               756 1983-03-05   \n",
       "\n",
       "  position           cyclist cyclist_age  mostly_tarmac  cyclist_team  delta  \n",
       "0       20  aad-van-den-hoek        32.0          False           NaN  117.0  \n",
       "1      106  aad-van-den-hoek        30.0          False           NaN   25.0  \n",
       "2       37  aad-van-den-hoek        26.0          False           NaN  565.0  \n",
       "3       26  aad-van-den-hoek        27.0          False           NaN  240.0  \n",
       "4       71  aad-van-den-hoek        32.0          False           NaN  370.0  \n",
       "\n",
       "[5 rows x 21 columns]"
      ]
     },
     "execution_count": 43,
     "metadata": {},
     "output_type": "execute_result"
    }
   ],
   "source": [
    "# Create union of two datasets, merging them considering the url of the cyclist\n",
    "merged_dataset = pd.merge(cyclists_dataset, races_dataset, left_on='_url', right_on='cyclist', how='inner')\n",
    "\n",
    "# Modify name column of the cyclist url in '_url_cyclist', and name column of the race url in '_url_race'\n",
    "merged_dataset = merged_dataset.rename(columns={'_url_x': '_url_cyclist', '_url_y': '_url_race'})\n",
    "# Modify name column of the cyclist name in 'name_cyclist', and name column of the race name in 'name_race'\n",
    "merged_dataset = merged_dataset.rename(columns={'name_x': 'name_cyclist', 'name_y': 'name_race'})\n",
    "\n",
    "merged_dataset.head()"
   ]
  },
  {
   "cell_type": "code",
   "execution_count": 44,
   "metadata": {},
   "outputs": [
    {
     "name": "stdout",
     "output_type": "stream",
     "text": [
      "<class 'pandas.core.frame.DataFrame'>\n",
      "RangeIndex: 589739 entries, 0 to 589738\n",
      "Data columns (total 21 columns):\n",
      " #   Column             Non-Null Count   Dtype         \n",
      "---  ------             --------------   -----         \n",
      " 0   _url_cyclist       589739 non-null  object        \n",
      " 1   name_cyclist       589739 non-null  object        \n",
      " 2   birth_year         589739 non-null  float64       \n",
      " 3   weight             480007 non-null  float64       \n",
      " 4   height             480007 non-null  float64       \n",
      " 5   nationality        589739 non-null  object        \n",
      " 6   _url_race          589739 non-null  object        \n",
      " 7   name_race          589739 non-null  object        \n",
      " 8   points             589739 non-null  float64       \n",
      " 9   uci_points         251085 non-null  float64       \n",
      " 10  length             589739 non-null  float64       \n",
      " 11  climb_total        442763 non-null  float64       \n",
      " 12  profile            441650 non-null  category      \n",
      " 13  startlist_quality  589739 non-null  int64         \n",
      " 14  date               589739 non-null  datetime64[ns]\n",
      " 15  position           589739 non-null  int64         \n",
      " 16  cyclist            589739 non-null  object        \n",
      " 17  cyclist_age        589626 non-null  float64       \n",
      " 18  mostly_tarmac      589739 non-null  bool          \n",
      " 19  cyclist_team       430654 non-null  object        \n",
      " 20  delta              589739 non-null  float64       \n",
      "dtypes: bool(1), category(1), datetime64[ns](1), float64(9), int64(2), object(7)\n",
      "memory usage: 86.6+ MB\n"
     ]
    }
   ],
   "source": [
    "merged_dataset.info()"
   ]
  },
  {
   "cell_type": "markdown",
   "metadata": {},
   "source": [
    "### Imputation"
   ]
  },
  {
   "cell_type": "code",
   "execution_count": 45,
   "metadata": {},
   "outputs": [
    {
     "data": {
      "text/plain": [
       "_url_cyclist              0\n",
       "name_cyclist              0\n",
       "birth_year                0\n",
       "weight               109732\n",
       "height               109732\n",
       "nationality               0\n",
       "_url_race                 0\n",
       "name_race                 0\n",
       "points                    0\n",
       "uci_points           338654\n",
       "length                    0\n",
       "climb_total          146976\n",
       "profile              148089\n",
       "startlist_quality         0\n",
       "date                      0\n",
       "position                  0\n",
       "cyclist                   0\n",
       "cyclist_age             113\n",
       "mostly_tarmac             0\n",
       "cyclist_team         159085\n",
       "delta                     0\n",
       "dtype: int64"
      ]
     },
     "execution_count": 45,
     "metadata": {},
     "output_type": "execute_result"
    }
   ],
   "source": [
    "merged_dataset.isnull().sum() # check number of missing values"
   ]
  },
  {
   "cell_type": "markdown",
   "metadata": {},
   "source": [
    "#### Imputation of cyclist age\n",
    "\n",
    "Dato l'anno di nascita che abbiamo imputato precedentemente, ora possiamo imputare anche l'età dei ciclisti nelle gare dove non era presente."
   ]
  },
  {
   "cell_type": "code",
   "execution_count": 46,
   "metadata": {},
   "outputs": [],
   "source": [
    "# Extract the year from the date \n",
    "merged_dataset['race_year'] = merged_dataset['date'].dt.year\n",
    "\n",
    "# Imputa la cyclist_age per le righe in cui è null e birth_year non è null\n",
    "# Imputation of the cyclist_age for rows where it is null and birth_year is not null\n",
    "merged_dataset['cyclist_age'] = merged_dataset.apply(\n",
    "    lambda row: row['race_year'] - row['birth_year'] \n",
    "                if pd.isnull(row['cyclist_age']) and pd.notnull(row['birth_year'])\n",
    "                else row['cyclist_age'],\n",
    "    axis=1\n",
    ")\n",
    "\n",
    "# Remove the temporary column\n",
    "merged_dataset.drop(columns=['race_year'], inplace=True)"
   ]
  },
  {
   "cell_type": "code",
   "execution_count": 47,
   "metadata": {},
   "outputs": [
    {
     "data": {
      "text/plain": [
       "_url_cyclist              0\n",
       "name_cyclist              0\n",
       "birth_year                0\n",
       "weight               109732\n",
       "height               109732\n",
       "nationality               0\n",
       "_url_race                 0\n",
       "name_race                 0\n",
       "points                    0\n",
       "uci_points           338654\n",
       "length                    0\n",
       "climb_total          146976\n",
       "profile              148089\n",
       "startlist_quality         0\n",
       "date                      0\n",
       "position                  0\n",
       "cyclist                   0\n",
       "cyclist_age               0\n",
       "mostly_tarmac             0\n",
       "cyclist_team         159085\n",
       "delta                     0\n",
       "dtype: int64"
      ]
     },
     "execution_count": 47,
     "metadata": {},
     "output_type": "execute_result"
    }
   ],
   "source": [
    "merged_dataset.isnull().sum() # check number of missing values"
   ]
  },
  {
   "cell_type": "markdown",
   "metadata": {},
   "source": [
    "\n",
    "Creare un dataset dove i record con molti valori null sono eliminati"
   ]
  },
  {
   "cell_type": "code",
   "execution_count": null,
   "metadata": {},
   "outputs": [],
   "source": [
    "# TODO: Creare dataset senza colonne/rige con valori nulli"
   ]
  }
 ],
 "metadata": {
  "kernelspec": {
   "display_name": "dm_env",
   "language": "python",
   "name": "python3"
  },
  "language_info": {
   "codemirror_mode": {
    "name": "ipython",
    "version": 3
   },
   "file_extension": ".py",
   "mimetype": "text/x-python",
   "name": "python",
   "nbconvert_exporter": "python",
   "pygments_lexer": "ipython3",
   "version": "3.12.2"
  }
 },
 "nbformat": 4,
 "nbformat_minor": 2
}

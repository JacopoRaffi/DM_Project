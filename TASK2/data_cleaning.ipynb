{
 "cells": [
  {
   "cell_type": "markdown",
   "metadata": {},
   "source": [
    "# Data Cleaning"
   ]
  },
  {
   "cell_type": "code",
   "execution_count": 1,
   "metadata": {},
   "outputs": [],
   "source": [
    "# Autoreload allows the notebook to dynamically load code: if we update some helper functions *outside* of the notebook, we do not need to reload the notebook.\n",
    "%load_ext autoreload\n",
    "%autoreload 2"
   ]
  },
  {
   "cell_type": "code",
   "execution_count": 2,
   "metadata": {},
   "outputs": [],
   "source": [
    "import pandas as pd\n",
    "import numpy as np\n",
    "from unidecode import unidecode\n",
    "\n",
    "import warnings\n",
    "\n",
    "import seaborn as sb\n",
    "import matplotlib.pyplot as plt\n",
    "\n",
    "import random\n",
    "import math\n",
    "\n",
    "from sklearn.linear_model import LinearRegression\n",
    "from scipy.stats import norm"
   ]
  },
  {
   "cell_type": "code",
   "execution_count": 3,
   "metadata": {},
   "outputs": [],
   "source": [
    "# Sopprimere i Warning\n",
    "warnings.simplefilter(action='ignore', category=DeprecationWarning)\n",
    "warnings.simplefilter(action='ignore', category=FutureWarning)"
   ]
  },
  {
   "cell_type": "markdown",
   "metadata": {},
   "source": [
    "## Cyclists"
   ]
  },
  {
   "cell_type": "code",
   "execution_count": 4,
   "metadata": {},
   "outputs": [
    {
     "data": {
      "text/html": [
       "<div>\n",
       "<style scoped>\n",
       "    .dataframe tbody tr th:only-of-type {\n",
       "        vertical-align: middle;\n",
       "    }\n",
       "\n",
       "    .dataframe tbody tr th {\n",
       "        vertical-align: top;\n",
       "    }\n",
       "\n",
       "    .dataframe thead th {\n",
       "        text-align: right;\n",
       "    }\n",
       "</style>\n",
       "<table border=\"1\" class=\"dataframe\">\n",
       "  <thead>\n",
       "    <tr style=\"text-align: right;\">\n",
       "      <th></th>\n",
       "      <th>_url</th>\n",
       "      <th>name</th>\n",
       "      <th>birth_year</th>\n",
       "      <th>weight</th>\n",
       "      <th>height</th>\n",
       "      <th>nationality</th>\n",
       "    </tr>\n",
       "  </thead>\n",
       "  <tbody>\n",
       "    <tr>\n",
       "      <th>0</th>\n",
       "      <td>bruno-surra</td>\n",
       "      <td>Bruno  Surra</td>\n",
       "      <td>1964.0</td>\n",
       "      <td>NaN</td>\n",
       "      <td>NaN</td>\n",
       "      <td>Italy</td>\n",
       "    </tr>\n",
       "    <tr>\n",
       "      <th>1</th>\n",
       "      <td>gerard-rue</td>\n",
       "      <td>Gérard  Rué</td>\n",
       "      <td>1965.0</td>\n",
       "      <td>74.0</td>\n",
       "      <td>182.0</td>\n",
       "      <td>France</td>\n",
       "    </tr>\n",
       "    <tr>\n",
       "      <th>2</th>\n",
       "      <td>jan-maas</td>\n",
       "      <td>Jan  Maas</td>\n",
       "      <td>1996.0</td>\n",
       "      <td>69.0</td>\n",
       "      <td>189.0</td>\n",
       "      <td>Netherlands</td>\n",
       "    </tr>\n",
       "    <tr>\n",
       "      <th>3</th>\n",
       "      <td>nathan-van-hooydonck</td>\n",
       "      <td>Nathan Van Hooydonck</td>\n",
       "      <td>1995.0</td>\n",
       "      <td>78.0</td>\n",
       "      <td>192.0</td>\n",
       "      <td>Belgium</td>\n",
       "    </tr>\n",
       "    <tr>\n",
       "      <th>4</th>\n",
       "      <td>jose-felix-parra</td>\n",
       "      <td>José Félix  Parra</td>\n",
       "      <td>1997.0</td>\n",
       "      <td>55.0</td>\n",
       "      <td>171.0</td>\n",
       "      <td>Spain</td>\n",
       "    </tr>\n",
       "  </tbody>\n",
       "</table>\n",
       "</div>"
      ],
      "text/plain": [
       "                   _url                  name  birth_year  weight  height  \\\n",
       "0           bruno-surra          Bruno  Surra      1964.0     NaN     NaN   \n",
       "1            gerard-rue           Gérard  Rué      1965.0    74.0   182.0   \n",
       "2              jan-maas             Jan  Maas      1996.0    69.0   189.0   \n",
       "3  nathan-van-hooydonck  Nathan Van Hooydonck      1995.0    78.0   192.0   \n",
       "4      jose-felix-parra     José Félix  Parra      1997.0    55.0   171.0   \n",
       "\n",
       "   nationality  \n",
       "0        Italy  \n",
       "1       France  \n",
       "2  Netherlands  \n",
       "3      Belgium  \n",
       "4        Spain  "
      ]
     },
     "execution_count": 4,
     "metadata": {},
     "output_type": "execute_result"
    }
   ],
   "source": [
    "csv_file = \"../data/cyclists.csv\"\n",
    "cyclists_dataset = pd.read_csv(csv_file)\n",
    "cyclists_dataset.head()"
   ]
  },
  {
   "cell_type": "code",
   "execution_count": 5,
   "metadata": {},
   "outputs": [
    {
     "name": "stdout",
     "output_type": "stream",
     "text": [
      "<class 'pandas.core.frame.DataFrame'>\n",
      "RangeIndex: 6134 entries, 0 to 6133\n",
      "Data columns (total 6 columns):\n",
      " #   Column       Non-Null Count  Dtype  \n",
      "---  ------       --------------  -----  \n",
      " 0   _url         6134 non-null   object \n",
      " 1   name         6134 non-null   object \n",
      " 2   birth_year   6121 non-null   float64\n",
      " 3   weight       3078 non-null   float64\n",
      " 4   height       3143 non-null   float64\n",
      " 5   nationality  6133 non-null   object \n",
      "dtypes: float64(3), object(3)\n",
      "memory usage: 287.7+ KB\n"
     ]
    }
   ],
   "source": [
    "cyclists_dataset.info()"
   ]
  },
  {
   "cell_type": "markdown",
   "metadata": {},
   "source": [
    "### Modify columns\n",
    "\n",
    "Before cleaning the races dataset, we redefine the dataframe with the new types."
   ]
  },
  {
   "cell_type": "code",
   "execution_count": 6,
   "metadata": {},
   "outputs": [
    {
     "data": {
      "text/plain": [
       "dtype('float64')"
      ]
     },
     "execution_count": 6,
     "metadata": {},
     "output_type": "execute_result"
    }
   ],
   "source": [
    "cyclists_dataset['birth_year'] = cyclists_dataset[cyclists_dataset['birth_year'].notnull()]['birth_year'].astype(int)\n",
    "cyclists_dataset['birth_year'].dtype"
   ]
  },
  {
   "cell_type": "markdown",
   "metadata": {},
   "source": [
    "### Imputation"
   ]
  },
  {
   "cell_type": "code",
   "execution_count": 7,
   "metadata": {},
   "outputs": [
    {
     "data": {
      "text/plain": [
       "_url              0\n",
       "name              0\n",
       "birth_year       13\n",
       "weight         3056\n",
       "height         2991\n",
       "nationality       1\n",
       "dtype: int64"
      ]
     },
     "execution_count": 7,
     "metadata": {},
     "output_type": "execute_result"
    }
   ],
   "source": [
    "cyclists_dataset.isnull().sum() # check number of missing values"
   ]
  },
  {
   "cell_type": "markdown",
   "metadata": {},
   "source": [
    "#### Imputation Birth Year and Nationality null values\n",
    "Per l'anno di nascita e la nazionalità mancanti, abbiamo cercato di recuperare più dati possibile manualmente attraverso ricerce online."
   ]
  },
  {
   "cell_type": "code",
   "execution_count": 8,
   "metadata": {},
   "outputs": [
    {
     "data": {
      "text/plain": [
       "9             scott-davies\n",
       "601       vladimir-malakov\n",
       "894         antonio-zanini\n",
       "2408     filippo-simonetti\n",
       "2515         carlos-garcia\n",
       "2536       alexandr-osipov\n",
       "3046      nicolai-kosyakov\n",
       "3551            nevens-guy\n",
       "4142           oscar-pumar\n",
       "4384         javier-luquin\n",
       "4756        thierry-lauder\n",
       "6072    sergei-jermachenko\n",
       "6080       batik-odriozola\n",
       "Name: _url, dtype: object"
      ]
     },
     "execution_count": 8,
     "metadata": {},
     "output_type": "execute_result"
    }
   ],
   "source": [
    "# Show urls of the cyclists with 'birth_year' missing values\n",
    "cyclists_dataset[cyclists_dataset['birth_year'].isnull()]['_url']"
   ]
  },
  {
   "cell_type": "markdown",
   "metadata": {},
   "source": [
    "Per gli anni di nascita trovati, abbiamo fatto una imputazione manuale del valore ottenuto nella feature 'birth_year' corrispondente"
   ]
  },
  {
   "cell_type": "code",
   "execution_count": 9,
   "metadata": {},
   "outputs": [],
   "source": [
    "cyclists_dataset.loc[cyclists_dataset['_url'] == 'scott-davies', 'birth_year'] = 1995\n",
    "cyclists_dataset.loc[cyclists_dataset['_url'] == 'vladimir-malakov', 'birth_year'] = 1958\n",
    "cyclists_dataset.loc[cyclists_dataset['_url'] == 'antonio-zanini', 'birth_year'] = 1965\n",
    "cyclists_dataset.loc[cyclists_dataset['_url'] == 'nevens-guy', 'birth_year'] = 1962\n",
    "cyclists_dataset.loc[cyclists_dataset['_url'] == 'sergei-jermachenko', 'birth_year'] = 1956 "
   ]
  },
  {
   "cell_type": "markdown",
   "metadata": {},
   "source": [
    "Ragionamento simile fatto anche per la nazionalità. L'unica mancante apparteneva al ciclista Scott Davies."
   ]
  },
  {
   "cell_type": "code",
   "execution_count": 10,
   "metadata": {},
   "outputs": [],
   "source": [
    "cyclists_dataset.loc[cyclists_dataset['_url'] == 'scott-davies', 'nationality'] = 'Great Britain'"
   ]
  },
  {
   "cell_type": "markdown",
   "metadata": {},
   "source": [
    "Per i restanti anni di nascita, è stata sfruttata la moda"
   ]
  },
  {
   "cell_type": "code",
   "execution_count": 11,
   "metadata": {},
   "outputs": [],
   "source": [
    "cyclists_dataset['birth_year'] = cyclists_dataset['birth_year'].fillna(cyclists_dataset['birth_year'].mode()[0]) # substitue 8 remaining elements with mode"
   ]
  },
  {
   "cell_type": "code",
   "execution_count": 12,
   "metadata": {},
   "outputs": [
    {
     "data": {
      "text/plain": [
       "np.int64(0)"
      ]
     },
     "execution_count": 12,
     "metadata": {},
     "output_type": "execute_result"
    }
   ],
   "source": [
    "cyclists_dataset['birth_year'].isnull().sum() # check if missing values are filled correctly"
   ]
  },
  {
   "cell_type": "markdown",
   "metadata": {},
   "source": [
    "#### Imputation Weight and Height null values\n",
    "\n",
    "Sapendo che altezza e peso sono altamente correlati, si può sfruttare il peso per trovare l'altezza, e l'altezza per trovare il peso."
   ]
  },
  {
   "cell_type": "code",
   "execution_count": 13,
   "metadata": {},
   "outputs": [
    {
     "name": "stdout",
     "output_type": "stream",
     "text": [
      "Cyclists where we have only the height: 72\n",
      "Cyclists where we have only the weight: 7\n"
     ]
    }
   ],
   "source": [
    "# Filter rows where 'weight' is null and 'height' is not null\n",
    "missing_weight_with_height = cyclists_dataset[cyclists_dataset['weight'].isnull() & cyclists_dataset['height'].notnull()]\n",
    "print(\"Cyclists where we have only the height:\", len(missing_weight_with_height))\n",
    "\n",
    "# Filter rows where 'weight' is not null and 'height' is null\n",
    "missing_height_with_weight = cyclists_dataset[cyclists_dataset['weight'].notnull() & cyclists_dataset['height'].isnull()]\n",
    "print(\"Cyclists where we have only the weight:\", len(missing_height_with_weight))\n"
   ]
  },
  {
   "cell_type": "markdown",
   "metadata": {},
   "source": [
    "Per questa imputazione, abbiamo pensato a due possibili metodi. Uno è quello di creare un piccolo modello di regressione lineare, un'altro è quello di basarsi sulla media delle distribuzioni suddivise in vari bins."
   ]
  },
  {
   "cell_type": "code",
   "execution_count": 14,
   "metadata": {},
   "outputs": [
    {
     "data": {
      "text/plain": [
       "_url              0\n",
       "name              0\n",
       "birth_year        0\n",
       "weight         2984\n",
       "height         2984\n",
       "nationality       0\n",
       "dtype: int64"
      ]
     },
     "execution_count": 14,
     "metadata": {},
     "output_type": "execute_result"
    }
   ],
   "source": [
    "def linear_regression_imputation():\n",
    "    # Filtra il dataset per ciclisti con peso e altezza presenti\n",
    "    available_data = cyclists_dataset.dropna(subset=['weight', 'height'])\n",
    "\n",
    "    # Modello di regressione per stimare il peso in base all'altezza\n",
    "    model_weight = LinearRegression()\n",
    "    model_weight.fit(available_data[['height']], available_data['weight'])\n",
    "\n",
    "    # Calcolo dei residui per il modello peso-altezza\n",
    "    weight_predicted = model_weight.predict(available_data[['height']])\n",
    "    weight_residuals = available_data['weight'] - weight_predicted\n",
    "\n",
    "    # Modello di regressione per stimare l'altezza in base al peso\n",
    "    model_height = LinearRegression()\n",
    "    model_height.fit(available_data[['weight']], available_data['height'])\n",
    "\n",
    "    # Calcolo dei residui per il modello altezza-peso\n",
    "    height_predicted = model_height.predict(available_data[['weight']])\n",
    "    height_residuals = available_data['height'] - height_predicted\n",
    "\n",
    "    # Funzione per imputare il peso basato sull'altezza\n",
    "    def impute_weight(height):\n",
    "        height_df = pd.DataFrame([[height]], columns=['height'])\n",
    "        predicted_weight = model_weight.predict(height_df)[0]\n",
    "        imputed_weight = predicted_weight + np.random.choice(weight_residuals)\n",
    "        return imputed_weight\n",
    "\n",
    "    # Funzione per imputare l'altezza basata sul peso\n",
    "    def impute_height(weight):\n",
    "        weight_df = pd.DataFrame([[weight]], columns=['weight'])\n",
    "        predicted_height = model_height.predict(weight_df)[0]\n",
    "        imputed_height = predicted_height + np.random.choice(height_residuals)\n",
    "        return imputed_height\n",
    "\n",
    "    # Crea una copia del dataset per l'imputazione\n",
    "    imputed_dataset = cyclists_dataset.copy()\n",
    "\n",
    "    # Applica l'imputazione alla copia del dataset per i ciclisti con altezza disponibile ma peso mancante\n",
    "    imputed_dataset.loc[imputed_dataset['weight'].isnull() & imputed_dataset['height'].notnull(), 'weight'] = \\\n",
    "        imputed_dataset.loc[imputed_dataset['weight'].isnull() & imputed_dataset['height'].notnull(), 'height'].apply(impute_weight)\n",
    "\n",
    "    # Applica l'imputazione alla copia del dataset per i ciclisti con peso disponibile ma altezza mancante\n",
    "    imputed_dataset.loc[imputed_dataset['height'].isnull() & imputed_dataset['weight'].notnull(), 'height'] = \\\n",
    "        imputed_dataset.loc[imputed_dataset['height'].isnull() & imputed_dataset['weight'].notnull(), 'weight'].apply(impute_height)\n",
    "\n",
    "    return imputed_dataset\n",
    "\n",
    "imputed_dataset_lr = linear_regression_imputation()\n",
    "imputed_dataset_lr.isnull().sum() # check if missing values are filled correctly"
   ]
  },
  {
   "cell_type": "code",
   "execution_count": 15,
   "metadata": {},
   "outputs": [
    {
     "data": {
      "text/plain": [
       "weight    2984\n",
       "height    2984\n",
       "dtype: int64"
      ]
     },
     "execution_count": 15,
     "metadata": {},
     "output_type": "execute_result"
    }
   ],
   "source": [
    "def bins_imputation():\n",
    "    # Creare una copia del dataset originale per l'imputazione\n",
    "    imputed_dataset = cyclists_dataset.copy()\n",
    "\n",
    "    # Creare intervalli per altezza e peso (ad esempio per decili o range)\n",
    "    # Qui useremo i decili per distribuire altezza e peso in intervalli\n",
    "    imputed_dataset['height_bin'] = pd.qcut(imputed_dataset['height'], q=10)  # Decili per l'altezza\n",
    "    imputed_dataset['weight_bin'] = pd.qcut(imputed_dataset['weight'], q=10)  # Decili per il peso\n",
    "\n",
    "    # Calcolare la media del peso per ogni intervallo di altezza\n",
    "    height_weight_means = imputed_dataset.groupby('height_bin')['weight'].mean()\n",
    "\n",
    "    # Calcolare la media dell'altezza per ogni intervallo di peso\n",
    "    weight_height_means = imputed_dataset.groupby('weight_bin')['height'].mean()\n",
    "\n",
    "    # Funzione per imputare il peso in base all'intervallo di altezza\n",
    "    def impute_weight_simple(row):\n",
    "        if pd.isnull(row['weight']) and pd.notnull(row['height']):\n",
    "            # Cerca il peso medio corrispondente all'intervallo di altezza\n",
    "            return height_weight_means[row['height_bin']]\n",
    "        return row['weight']\n",
    "\n",
    "    # Funzione per imputare l'altezza in base all'intervallo di peso\n",
    "    def impute_height_simple(row):\n",
    "        if pd.isnull(row['height']) and pd.notnull(row['weight']):\n",
    "            # Cerca l'altezza media corrispondente all'intervallo di peso\n",
    "            return weight_height_means[row['weight_bin']]\n",
    "        return row['height']\n",
    "\n",
    "    # Applicare le funzioni di imputazione sulla copia del dataset\n",
    "    imputed_dataset['weight'] = imputed_dataset.apply(impute_weight_simple, axis=1)\n",
    "    imputed_dataset['height'] = imputed_dataset.apply(impute_height_simple, axis=1)\n",
    "\n",
    "    # Rimuovere le colonne di supporto usate per l'imputazione\n",
    "    imputed_dataset.drop(columns=['height_bin', 'weight_bin'], inplace=True)\n",
    "\n",
    "    return imputed_dataset\n",
    "\n",
    "imputed_dataset_bins = bins_imputation()\n",
    "\n",
    "imputed_dataset_bins[['weight', 'height']].isnull().sum() # check if missing values are filled correctly"
   ]
  },
  {
   "cell_type": "code",
   "execution_count": 16,
   "metadata": {},
   "outputs": [
    {
     "data": {
      "image/png": "[encoded data removed]",
      "text/plain": [
       "<Figure size 1500x1000 with 6 Axes>"
      ]
     },
     "metadata": {},
     "output_type": "display_data"
    }
   ],
   "source": [
    "# Calcola il numero di bin per l'istogramma\n",
    "n_bins = math.ceil(math.log2(len(cyclists_dataset)) + 1)\n",
    "\n",
    "# Crea una griglia 2x3 per i grafici\n",
    "fig, axes = plt.subplots(2, 3, figsize=(15, 10))\n",
    "\n",
    "\n",
    "# Peso prima dell'imputazione\n",
    "sb.histplot(data=cyclists_dataset, x=\"weight\", bins=n_bins, ax=axes[0, 0])\n",
    "axes[0, 0].set_title(\"Weight Before Imputation\")\n",
    "\n",
    "# Peso dopo l'imputazione (regressione lineare)\n",
    "sb.histplot(data=imputed_dataset_lr, x=\"weight\", bins=n_bins, ax=axes[0, 1])\n",
    "axes[0, 1].set_title(\"Weight After Imputation (Linear Regression)\")\n",
    "\n",
    "# Peso dopo l'imputazione (binning)\n",
    "sb.histplot(data=imputed_dataset_bins, x=\"weight\", bins=n_bins, ax=axes[0, 2])\n",
    "axes[0, 2].set_title(\"Weight After Imputation (Binning)\")\n",
    "\n",
    "\n",
    "# Altezza prima dell'imputazione\n",
    "sb.histplot(data=cyclists_dataset, x=\"height\", bins=n_bins, ax=axes[1, 0])\n",
    "axes[1, 0].set_title(\"Height Before Imputation\")\n",
    "\n",
    "# Altezza dopo l'imputazione (regressione lineare)\n",
    "sb.histplot(data=imputed_dataset_lr, x=\"height\", bins=n_bins, ax=axes[1, 1])\n",
    "axes[1, 1].set_title(\"Height After Imputation (Linear Regression)\")\n",
    "\n",
    "# Altezza dopo l'imputazione (binning)\n",
    "sb.histplot(data=imputed_dataset_bins, x=\"height\", bins=n_bins, ax=axes[1, 2])\n",
    "axes[1, 2].set_title(\"Height After Imputation (Binning)\")\n",
    "\n",
    "\n",
    "# Imposta uno stile di layout compatto\n",
    "plt.tight_layout()\n",
    "plt.show()"
   ]
  },
  {
   "cell_type": "markdown",
   "metadata": {},
   "source": [
    "Entrambi i metodi riescono correttamente a imputare i valori di interesse. Inoltre, notiamo dalle distribuzioni che non è presente una grande differenza, ma comunque l'imputazione con il secondo metodo mantiene una distribuzione più coerente con quella iniziale, quindi andremo ad effettuare l'imputazione sfruttando la media nella distribuzione."
   ]
  },
  {
   "cell_type": "code",
   "execution_count": 17,
   "metadata": {},
   "outputs": [],
   "source": [
    "# Creare intervalli per altezza e peso (ad esempio per decili o range)\n",
    "# Qui useremo i decili per distribuire altezza e peso in intervalli\n",
    "cyclists_dataset['height_bin'] = pd.qcut(cyclists_dataset['height'], q=10)  # Decili per l'altezza\n",
    "cyclists_dataset['weight_bin'] = pd.qcut(cyclists_dataset['weight'], q=10)  # Decili per il peso\n",
    "\n",
    "# Calcolare la media del peso per ogni intervallo di altezza\n",
    "height_weight_means = cyclists_dataset.groupby('height_bin')['weight'].mean()\n",
    "\n",
    "# Calcolare la media dell'altezza per ogni intervallo di peso\n",
    "weight_height_means = cyclists_dataset.groupby('weight_bin')['height'].mean()\n",
    "\n",
    "# Funzione per imputare il peso in base all'intervallo di altezza\n",
    "def impute_weight_simple(row):\n",
    "    if pd.isnull(row['weight']) and pd.notnull(row['height']):\n",
    "        # Cerca il peso medio corrispondente all'intervallo di altezza\n",
    "        return height_weight_means[row['height_bin']]\n",
    "    return row['weight']\n",
    "\n",
    "# Funzione per imputare l'altezza in base all'intervallo di peso\n",
    "def impute_height_simple(row):\n",
    "    if pd.isnull(row['height']) and pd.notnull(row['weight']):\n",
    "        # Cerca l'altezza media corrispondente all'intervallo di peso\n",
    "        return weight_height_means[row['weight_bin']]\n",
    "    return row['height']\n",
    "\n",
    "# Applicare le funzioni di imputazione\n",
    "cyclists_dataset['weight'] = cyclists_dataset.apply(impute_weight_simple, axis=1)\n",
    "cyclists_dataset['height'] = cyclists_dataset.apply(impute_height_simple, axis=1)\n",
    "\n",
    "# Rimuovere le colonne di supporto usate per l'imputazione\n",
    "cyclists_dataset.drop(columns=['height_bin', 'weight_bin'], inplace=True)\n",
    "\n",
    "# Arrotondare il peso a una cifra decimale e l'altezza a zero cifre decimali\n",
    "cyclists_dataset['weight'] = cyclists_dataset['weight'].round(1)\n",
    "cyclists_dataset['height'] = cyclists_dataset['height'].round(0)"
   ]
  },
  {
   "cell_type": "code",
   "execution_count": 18,
   "metadata": {},
   "outputs": [
    {
     "data": {
      "text/plain": [
       "weight    2984\n",
       "height    2984\n",
       "dtype: int64"
      ]
     },
     "execution_count": 18,
     "metadata": {},
     "output_type": "execute_result"
    }
   ],
   "source": [
    "cyclists_dataset[['weight', 'height']].isnull().sum() # check if missing values are filled correctly"
   ]
  },
  {
   "cell_type": "markdown",
   "metadata": {},
   "source": [
    "Per i restanti null values, è nostra intenzione eliminare i record dei ciclisti senza altezza e peso che non sono presenti nelle gare, e questo verrà fatto automaticamente quando a breve andremo ad unire i due dataset.\n",
    "Non eliminiamo tutti i record con peso e altezza nulli perchè potremmo comunque fare delle analisi basandoci sugli altri valori.\n"
   ]
  },
  {
   "cell_type": "code",
   "execution_count": 19,
   "metadata": {},
   "outputs": [],
   "source": [
    "# Order cyclists dataset by _url\n",
    "cyclists_dataset = cyclists_dataset.sort_values(by='_url')"
   ]
  },
  {
   "cell_type": "markdown",
   "metadata": {},
   "source": [
    "## Races"
   ]
  },
  {
   "cell_type": "code",
   "execution_count": 20,
   "metadata": {},
   "outputs": [
    {
     "data": {
      "text/html": [
       "<div>\n",
       "<style scoped>\n",
       "    .dataframe tbody tr th:only-of-type {\n",
       "        vertical-align: middle;\n",
       "    }\n",
       "\n",
       "    .dataframe tbody tr th {\n",
       "        vertical-align: top;\n",
       "    }\n",
       "\n",
       "    .dataframe thead th {\n",
       "        text-align: right;\n",
       "    }\n",
       "</style>\n",
       "<table border=\"1\" class=\"dataframe\">\n",
       "  <thead>\n",
       "    <tr style=\"text-align: right;\">\n",
       "      <th></th>\n",
       "      <th>_url</th>\n",
       "      <th>name</th>\n",
       "      <th>points</th>\n",
       "      <th>uci_points</th>\n",
       "      <th>length</th>\n",
       "      <th>climb_total</th>\n",
       "      <th>profile</th>\n",
       "      <th>startlist_quality</th>\n",
       "      <th>average_temperature</th>\n",
       "      <th>date</th>\n",
       "      <th>position</th>\n",
       "      <th>cyclist</th>\n",
       "      <th>cyclist_age</th>\n",
       "      <th>is_tarmac</th>\n",
       "      <th>is_cobbled</th>\n",
       "      <th>is_gravel</th>\n",
       "      <th>cyclist_team</th>\n",
       "      <th>delta</th>\n",
       "    </tr>\n",
       "  </thead>\n",
       "  <tbody>\n",
       "    <tr>\n",
       "      <th>0</th>\n",
       "      <td>tour-de-france/1978/stage-6</td>\n",
       "      <td>Tour de France</td>\n",
       "      <td>100.0</td>\n",
       "      <td>NaN</td>\n",
       "      <td>162000.0</td>\n",
       "      <td>1101.0</td>\n",
       "      <td>1.0</td>\n",
       "      <td>1241</td>\n",
       "      <td>NaN</td>\n",
       "      <td>1978-07-05 04:02:24</td>\n",
       "      <td>0</td>\n",
       "      <td>sean-kelly</td>\n",
       "      <td>22.0</td>\n",
       "      <td>True</td>\n",
       "      <td>False</td>\n",
       "      <td>False</td>\n",
       "      <td>vini-ricordi-pinarello-sidermec-1986</td>\n",
       "      <td>0.0</td>\n",
       "    </tr>\n",
       "    <tr>\n",
       "      <th>1</th>\n",
       "      <td>tour-de-france/1978/stage-6</td>\n",
       "      <td>Tour de France</td>\n",
       "      <td>100.0</td>\n",
       "      <td>NaN</td>\n",
       "      <td>162000.0</td>\n",
       "      <td>1101.0</td>\n",
       "      <td>1.0</td>\n",
       "      <td>1241</td>\n",
       "      <td>NaN</td>\n",
       "      <td>1978-07-05 04:02:24</td>\n",
       "      <td>1</td>\n",
       "      <td>gerrie-knetemann</td>\n",
       "      <td>27.0</td>\n",
       "      <td>True</td>\n",
       "      <td>False</td>\n",
       "      <td>False</td>\n",
       "      <td>norway-1987</td>\n",
       "      <td>0.0</td>\n",
       "    </tr>\n",
       "    <tr>\n",
       "      <th>2</th>\n",
       "      <td>tour-de-france/1978/stage-6</td>\n",
       "      <td>Tour de France</td>\n",
       "      <td>100.0</td>\n",
       "      <td>NaN</td>\n",
       "      <td>162000.0</td>\n",
       "      <td>1101.0</td>\n",
       "      <td>1.0</td>\n",
       "      <td>1241</td>\n",
       "      <td>NaN</td>\n",
       "      <td>1978-07-05 04:02:24</td>\n",
       "      <td>2</td>\n",
       "      <td>rene-bittinger</td>\n",
       "      <td>24.0</td>\n",
       "      <td>True</td>\n",
       "      <td>False</td>\n",
       "      <td>False</td>\n",
       "      <td>NaN</td>\n",
       "      <td>0.0</td>\n",
       "    </tr>\n",
       "    <tr>\n",
       "      <th>3</th>\n",
       "      <td>tour-de-france/1978/stage-6</td>\n",
       "      <td>Tour de France</td>\n",
       "      <td>100.0</td>\n",
       "      <td>NaN</td>\n",
       "      <td>162000.0</td>\n",
       "      <td>1101.0</td>\n",
       "      <td>1.0</td>\n",
       "      <td>1241</td>\n",
       "      <td>NaN</td>\n",
       "      <td>1978-07-05 04:02:24</td>\n",
       "      <td>3</td>\n",
       "      <td>joseph-bruyere</td>\n",
       "      <td>30.0</td>\n",
       "      <td>True</td>\n",
       "      <td>False</td>\n",
       "      <td>False</td>\n",
       "      <td>navigare-blue-storm-1993</td>\n",
       "      <td>0.0</td>\n",
       "    </tr>\n",
       "    <tr>\n",
       "      <th>4</th>\n",
       "      <td>tour-de-france/1978/stage-6</td>\n",
       "      <td>Tour de France</td>\n",
       "      <td>100.0</td>\n",
       "      <td>NaN</td>\n",
       "      <td>162000.0</td>\n",
       "      <td>1101.0</td>\n",
       "      <td>1.0</td>\n",
       "      <td>1241</td>\n",
       "      <td>NaN</td>\n",
       "      <td>1978-07-05 04:02:24</td>\n",
       "      <td>4</td>\n",
       "      <td>sven-ake-nilsson</td>\n",
       "      <td>27.0</td>\n",
       "      <td>True</td>\n",
       "      <td>False</td>\n",
       "      <td>False</td>\n",
       "      <td>spain-1991</td>\n",
       "      <td>0.0</td>\n",
       "    </tr>\n",
       "  </tbody>\n",
       "</table>\n",
       "</div>"
      ],
      "text/plain": [
       "                          _url            name  points  uci_points    length  \\\n",
       "0  tour-de-france/1978/stage-6  Tour de France   100.0         NaN  162000.0   \n",
       "1  tour-de-france/1978/stage-6  Tour de France   100.0         NaN  162000.0   \n",
       "2  tour-de-france/1978/stage-6  Tour de France   100.0         NaN  162000.0   \n",
       "3  tour-de-france/1978/stage-6  Tour de France   100.0         NaN  162000.0   \n",
       "4  tour-de-france/1978/stage-6  Tour de France   100.0         NaN  162000.0   \n",
       "\n",
       "   climb_total  profile  startlist_quality  average_temperature  \\\n",
       "0       1101.0      1.0               1241                  NaN   \n",
       "1       1101.0      1.0               1241                  NaN   \n",
       "2       1101.0      1.0               1241                  NaN   \n",
       "3       1101.0      1.0               1241                  NaN   \n",
       "4       1101.0      1.0               1241                  NaN   \n",
       "\n",
       "                  date  position           cyclist  cyclist_age  is_tarmac  \\\n",
       "0  1978-07-05 04:02:24         0        sean-kelly         22.0       True   \n",
       "1  1978-07-05 04:02:24         1  gerrie-knetemann         27.0       True   \n",
       "2  1978-07-05 04:02:24         2    rene-bittinger         24.0       True   \n",
       "3  1978-07-05 04:02:24         3    joseph-bruyere         30.0       True   \n",
       "4  1978-07-05 04:02:24         4  sven-ake-nilsson         27.0       True   \n",
       "\n",
       "   is_cobbled  is_gravel                          cyclist_team  delta  \n",
       "0       False      False  vini-ricordi-pinarello-sidermec-1986    0.0  \n",
       "1       False      False                           norway-1987    0.0  \n",
       "2       False      False                                   NaN    0.0  \n",
       "3       False      False              navigare-blue-storm-1993    0.0  \n",
       "4       False      False                            spain-1991    0.0  "
      ]
     },
     "execution_count": 20,
     "metadata": {},
     "output_type": "execute_result"
    }
   ],
   "source": [
    "csv_file = \"../data/races.csv\"\n",
    "races_dataset = pd.read_csv(csv_file)\n",
    "races_dataset.head()"
   ]
  },
  {
   "cell_type": "markdown",
   "metadata": {},
   "source": [
    "### Modify columns\n",
    "\n",
    "Before cleaning the races dataset, we redefine the dataframe with the modified columns of date and is_foo"
   ]
  },
  {
   "cell_type": "code",
   "execution_count": 21,
   "metadata": {},
   "outputs": [],
   "source": [
    "races_dataset['climb_total'] = races_dataset[races_dataset['climb_total'].notnull()]['climb_total'].astype(int)\n",
    "\n",
    "races_dataset['profile'] = races_dataset['profile'].astype('category')\n",
    "\n",
    "races_dataset['cyclist_age'] = races_dataset[races_dataset['cyclist_age'].notnull()]['cyclist_age'].astype(int)\n",
    "\n",
    "races_dataset['date'] = races_dataset['date'].str.split(' ').str[0]\n",
    "races_dataset['date'] = pd.to_datetime(races_dataset['date'], format='%Y-%m-%d')\n",
    "\n",
    "races_dataset = races_dataset.drop(columns=['is_cobbled', 'is_gravel'])\n",
    "races_dataset = races_dataset.rename(columns={'is_tarmac': 'mostly_tarmac'})\n",
    "\n",
    "races_dataset = races_dataset.drop(columns=['average_temperature'])"
   ]
  },
  {
   "cell_type": "markdown",
   "metadata": {},
   "source": [
    "Inoltre iniziamo ad aggiungere la colonna \"year\" (per l'anno della gara) e la colonna \"stage\" (per lo stage della gara) che andremo ad utilizzare frequentemente per l'imputation."
   ]
  },
  {
   "cell_type": "code",
   "execution_count": 22,
   "metadata": {},
   "outputs": [],
   "source": [
    "races_dataset['year'] = pd.to_datetime(races_dataset['date']).dt.year\n",
    "races_dataset['stage'] = races_dataset['_url'].str.split('/', expand=True)[2]"
   ]
  },
  {
   "cell_type": "markdown",
   "metadata": {},
   "source": [
    "### Deletions of rows"
   ]
  },
  {
   "cell_type": "markdown",
   "metadata": {},
   "source": [
    "Considerando la presenza di uno stesso ciclista più volte (massimo due volte) nella stessa classifica di una specifica gara, abbiamo deciso di eliminare la seconda occorrenza e tenere solo la prima."
   ]
  },
  {
   "cell_type": "code",
   "execution_count": 23,
   "metadata": {},
   "outputs": [],
   "source": [
    "# Identify duplicate rows for each cyclist in each URL (excluding the first occurrence)\n",
    "duplicate_rows = races_dataset.duplicated(subset=['_url', 'cyclist'], keep='first')\n",
    "# Delete only the second occurrences (duplicate)\n",
    "races_dataset = races_dataset[~duplicate_rows]"
   ]
  },
  {
   "cell_type": "code",
   "execution_count": 24,
   "metadata": {},
   "outputs": [
    {
     "data": {
      "text/plain": [
       "_url                      0\n",
       "name                      0\n",
       "points                  477\n",
       "uci_points           338654\n",
       "length                    0\n",
       "climb_total          146976\n",
       "profile              148089\n",
       "startlist_quality         0\n",
       "date                      0\n",
       "position                  0\n",
       "cyclist                   0\n",
       "cyclist_age             113\n",
       "mostly_tarmac             0\n",
       "cyclist_team         159085\n",
       "delta                     0\n",
       "year                      0\n",
       "stage                     0\n",
       "dtype: int64"
      ]
     },
     "execution_count": 24,
     "metadata": {},
     "output_type": "execute_result"
    }
   ],
   "source": [
    "races_dataset.isnull().sum() # check number of missing values"
   ]
  },
  {
   "cell_type": "code",
   "execution_count": 25,
   "metadata": {},
   "outputs": [],
   "source": [
    "races_dataset['name'] = races_dataset['name'].apply(unidecode)\n",
    "races_dataset['name'] = races_dataset['name'].replace(to_replace={'Clasica Ciclista San Sebastian':'Clasica San Sebastian',\n",
    "                                                      'Donostia San Sebastian Klasikoa':'Clasica San Sebastian',\n",
    "                                                         'Criterium du Dauphine Libere':'Criterium du Dauphine',\n",
    "                                                         'Gran Camino':'O Gran Camino',\n",
    "                                                         'La Vuelta ciclista a Espana':'Vuelta a Espana',\n",
    "                                                         'Dwars door Belgie / A travers la Belgique':'Dwars door Vlaanderen',\n",
    "                                                         'Dwars door Vlaanderen - A travers la Flandre ME':'Dwars door Vlaanderen ME',\n",
    "                                                         'Dwars door Vlaanderen / A travers la Flandre':'Dwars door Vlaanderen',\n",
    "                                                         'Dwars door Vlaanderen / A travers la Flandre ME':'Dwars door Vlaanderen ME',\n",
    "                                                         'E3 BinckBank Classic':'E3 Saxo Bank Classic',\n",
    "                                                         'E3 Harelbeke':'E3 Saxo Bank Classic',\n",
    "                                                         'E3 Prijs Vlaanderen':'E3 Saxo Bank Classic',\n",
    "                                                         'E3 Prijs Vlaanderen - Harelbeke':'E3 Saxo Bank Classic',\n",
    "                                                         'E3 Saxo Classic':'E3 Saxo Bank Classic',\n",
    "                                                         'E3-Prijs Harelbeke':'E3 Saxo Bank Classic',\n",
    "                                                         'Record Bank E3 Harelbeke':'E3 Saxo Bank Classic',\n",
    "                                                         'Giro di Lombardia':'Il Lombardia',\n",
    "                                                         'Liege - Bastogne - Liege':'Liege-Bastogne-Liege',\n",
    "                                                         'Monte Paschi Eroica':'Strade Bianche',\n",
    "                                                         'Montepaschi Strade Bianche - Eroica Toscana':'Strade Bianche',\n",
    "                                                         'Omloop Het Volk':'Omloop Nieuwsblad',\n",
    "                                                         'Omloop Het Nieuwsblad ME':'Omloop Nieuwsblad ME',\n",
    "                                                         'Omloop Het Volk ME':'Omloop Nieuwsblad ME',\n",
    "                                                         'Paris - Roubaix':'Paris-Roubaix',\n",
    "                                                         'Ronde van Vlaanderen - Tour des Flandres ME':'Ronde van Vlaanderen ME',\n",
    "                                                         'Ronde van Vlaanderen / Tour des Flandres':'Ronde van Vlaanderen',\n",
    "                                                         'Ronde van Vlaanderen / Tour des Flandres ME':'Ronde van Vlaanderen ME',\n",
    "                                                         'Volta a Catalunya':'Volta Ciclista a Catalunya',\n",
    "                                                         'Vuelta Ciclista al Pais Vasco':'Vuelta al Pais Vasco',\n",
    "                                                         })\n",
    "\n",
    "races_dataset['name'] = races_dataset['name'].replace(to_replace={\n",
    "                                                         'Dwars door Vlaanderen ME':'Dwars door Vlaanderen',\n",
    "                                                         'Omloop Nieuwsblad ME':'Omloop Nieuwsblad',\n",
    "                                                         'Ronde van Vlaanderen ME':'Ronde van Vlaanderen',\n",
    "                                                         'World Championships ME - Road Race':'World Championships - Road Race'\n",
    "                                                         })"
   ]
  },
  {
   "cell_type": "markdown",
   "metadata": {},
   "source": [
    "### Imputation"
   ]
  },
  {
   "cell_type": "code",
   "execution_count": 27,
   "metadata": {},
   "outputs": [
    {
     "data": {
      "text/plain": [
       "_url                      0\n",
       "name                      0\n",
       "points                  477\n",
       "uci_points           338654\n",
       "length                    0\n",
       "climb_total          146976\n",
       "profile              148089\n",
       "startlist_quality         0\n",
       "date                      0\n",
       "position                  0\n",
       "cyclist                   0\n",
       "cyclist_age             113\n",
       "mostly_tarmac             0\n",
       "cyclist_team         159085\n",
       "delta                     0\n",
       "year                      0\n",
       "stage                     0\n",
       "dtype: int64"
      ]
     },
     "execution_count": 27,
     "metadata": {},
     "output_type": "execute_result"
    }
   ],
   "source": [
    "races_dataset.isnull().sum() # check number of missing values"
   ]
  },
  {
   "cell_type": "markdown",
   "metadata": {},
   "source": [
    "#### Imputation of points and uci points\n",
    "\n",
    "Proviamo a fare l'imputaton dei points e uci_points mancanti"
   ]
  },
  {
   "cell_type": "markdown",
   "metadata": {},
   "source": [
    "Partendo dai points, faremo l'imputazione considerando i punteggi delle gare \"vicine\", ossia considerando il punteggio della stessa gara ma che è stata effettuata un altro anno, basandoci sull'anno più vicino alla gara su cui imputare."
   ]
  },
  {
   "cell_type": "code",
   "execution_count": 28,
   "metadata": {},
   "outputs": [
    {
     "name": "stdout",
     "output_type": "stream",
     "text": [
      "Missing points for vuelta-a-espana/1994/stage-5, race Vuelta a Espana in 1994\n",
      "Missing points for tour-de-france/1986/stage-19, race Tour de France in 1986\n",
      "Missing points for tour-de-france/1988/prologue, race Tour de France in 1988\n",
      "Missing points for tour-de-france/2019/stage-19, race Tour de France in 2019\n"
     ]
    }
   ],
   "source": [
    "# Ottieni dati unici basati su '_url' e 'points'\n",
    "unique_data = races_dataset.drop_duplicates(subset=['_url', 'points'])\n",
    "\n",
    "# Filtra le righe dove 'points' è nullo\n",
    "invalid_races = unique_data[unique_data['points'].isnull()]\n",
    "for url, name, year in invalid_races[['_url', 'name', 'year']].values:\n",
    "    print(f\"Missing points for {url}, race {name} in {year}\")"
   ]
  },
  {
   "cell_type": "code",
   "execution_count": 29,
   "metadata": {},
   "outputs": [
    {
     "name": "stdout",
     "output_type": "stream",
     "text": [
      "For race Vuelta a Espana in Vuelta a Espana: \n",
      "the race before has [80.] points, and the race after has [80.] points\n",
      "For race Tour de France in Tour de France: \n",
      "the race before has [100.] points, and the race after has [100.] points\n",
      "For race Tour de France in Tour de France: \n",
      "the race before has [100.] points, and the race after has [100.] points\n",
      "For race Tour de France in Tour de France: \n",
      "the race before has [100.] points, and the race after has [100.] points\n"
     ]
    }
   ],
   "source": [
    "# Get the name and year and check the the two near races, before and after the current year\n",
    "for name, stage, year in invalid_races[['name', 'stage', 'year']].values:\n",
    "    race_before = unique_data[\n",
    "        (unique_data['name'] == name) & (unique_data['stage'] == stage) &\n",
    "        (unique_data['year'] < year)\n",
    "        ].sort_values(by='year', ascending=False).head(1)\n",
    "    race_after = unique_data[\n",
    "        (unique_data['name'] == name) & (unique_data['stage'] == stage) &\n",
    "        (unique_data['year'] > year)\n",
    "        ].sort_values(by='year', ascending=True).head(1)\n",
    "    print(f\"For race {name} in {name}: \\n\"\n",
    "          f\"the race before has {race_before['points'].values} points, and the race after has {race_after['points'].values} points\")"
   ]
  },
  {
   "cell_type": "code",
   "execution_count": 30,
   "metadata": {},
   "outputs": [
    {
     "data": {
      "text/plain": [
       "np.int64(0)"
      ]
     },
     "execution_count": 30,
     "metadata": {},
     "output_type": "execute_result"
    }
   ],
   "source": [
    "# Loop su ogni riga senza punti e tenta di trovare il valore dell'anno precedente\n",
    "for index, row in invalid_races.iterrows():\n",
    "    # Trova la riga dell'anno più recente con lo stesso 'name' ma con 'year' minore\n",
    "    previous_race = unique_data[\n",
    "        (unique_data['name'] == row['name']) & (unique_data['stage'] == row['stage']) &\n",
    "        (unique_data['year'] < row['year'])\n",
    "        ].sort_values(by='year', ascending=False).head(1)\n",
    "    \n",
    "    # Verifica se è stata trovata una riga corrispondente\n",
    "    if not previous_race.empty:\n",
    "        # Ottieni i punti della riga trovata\n",
    "        previous_points = previous_race.iloc[0]['points']\n",
    "        \n",
    "        # Assegna questi punti alla riga originale nel dataset\n",
    "        races_dataset.loc[races_dataset['_url'] == row['_url'], 'points'] = previous_points\n",
    "\n",
    "races_dataset['points'].isnull().sum() # check if missing values are filled correctly"
   ]
  },
  {
   "cell_type": "markdown",
   "metadata": {},
   "source": [
    "Ora, passiamo agli uci points, dove sfruttiamo il valori delle gare in anni diversi, oppure i valori di points con le varie medie."
   ]
  },
  {
   "cell_type": "code",
   "execution_count": 31,
   "metadata": {},
   "outputs": [
    {
     "name": "stdout",
     "output_type": "stream",
     "text": [
      "Number of invalid URLs: 1181 over 2780\n"
     ]
    }
   ],
   "source": [
    "# Filtra le righe con 'year' >= 2001 e 'uci_points' null\n",
    "filtered_df = races_dataset[(races_dataset['year'] > 2000) & races_dataset['uci_points'].isnull()]\n",
    "\n",
    "# Trova gli URL unici nel DataFrame filtrato\n",
    "invalid_urls = filtered_df['_url'].unique()\n",
    "all_uci_urls = races_dataset[races_dataset['year'] > 2000]['_url'].unique()\n",
    "\n",
    "# Stampa il numero di URL non validi\n",
    "print(f\"Number of invalid URLs: {len(invalid_urls)} over {len(all_uci_urls)}\")"
   ]
  },
  {
   "cell_type": "code",
   "execution_count": 32,
   "metadata": {},
   "outputs": [],
   "source": [
    "# Filtra le righe con 'year' >= 2001 e 'uci_points' null\n",
    "invalid_races = races_dataset[(races_dataset['year'] > 2000) & races_dataset['uci_points'].isnull()].sort_values(by='year')\n",
    "\n",
    "# Trova le gare (stage) dove 'uci_points' è sempre nullo\n",
    "n_points = races_dataset.groupby(['name', 'stage'])['uci_points'].nunique()\n",
    "stages_without_points = n_points[n_points == 0].index  # Ottieni le combinazioni (name, stage)"
   ]
  },
  {
   "cell_type": "code",
   "execution_count": 33,
   "metadata": {},
   "outputs": [],
   "source": [
    "# Loop per cicli di imputazione fino a quando non vengono più modificati valori\n",
    "converged = False\n",
    "\n",
    "while not converged:\n",
    "    # Filtra le righe con 'year' >= 2001 e 'uci_points' null\n",
    "    # E rimuovi le gare (stage) senza alcun valore di 'uci_points'\n",
    "    invalid_races = races_dataset[\n",
    "        (races_dataset['year'] > 2000) & \n",
    "        races_dataset['uci_points'].isnull() & \n",
    "        ~races_dataset.set_index(['name', 'stage']).index.isin(stages_without_points)\n",
    "    ].sort_values(by='year')\n",
    "\n",
    "    # Ottieni dati unici basati su '_url' e 'uci_points'\n",
    "    unique_data = races_dataset.drop_duplicates(subset=['_url', 'uci_points']).sort_values(by='year')\n",
    "\n",
    "    # Preparare mappe per il valore precedente e successivo di 'uci_points'\n",
    "    previous_races = unique_data.groupby(['name', 'stage']).apply(\n",
    "        lambda x: x.assign(prev_uci_points=x['uci_points'].shift(1), prev_year=x['year'].shift(1))\n",
    "    ).reset_index(drop=True)\n",
    "\n",
    "    next_races = unique_data.groupby(['name', 'stage']).apply(\n",
    "        lambda x: x.assign(next_uci_points=x['uci_points'].shift(-1), next_year=x['year'].shift(-1))\n",
    "    ).reset_index(drop=True)\n",
    "\n",
    "    # Unire le informazioni di previous e next in una singola mappa\n",
    "    unique_data = previous_races.merge(\n",
    "        next_races[['name', 'stage', '_url', 'next_uci_points', 'next_year']],\n",
    "        on=['name', 'stage', '_url'],\n",
    "        how='left'\n",
    "    )\n",
    "\n",
    "    # Funzione per determinare il valore più vicino\n",
    "    def get_closest_uci_points(row):\n",
    "        if pd.notnull(row['prev_uci_points']):\n",
    "            return row['prev_uci_points']\n",
    "        elif pd.notnull(row['next_uci_points']):\n",
    "            return row['next_uci_points']\n",
    "        return None\n",
    "\n",
    "    # Applicare la logica vettorialmente alle gare senza 'uci_points'\n",
    "    fill_values = invalid_races.merge(\n",
    "        unique_data,\n",
    "        on=['name', 'stage', '_url'],\n",
    "        how='left'\n",
    "    ).apply(get_closest_uci_points, axis=1)\n",
    "\n",
    "    # Aggiorna i valori in modo diretto\n",
    "    races_dataset.loc[invalid_races.index, 'uci_points'] = fill_values.values\n",
    "\n",
    "    # Verifica se ci sono ancora valori mancanti\n",
    "    if fill_values.isnull().sum() == 0:\n",
    "        converged = True\n",
    "        break\n",
    "\n",
    "# Arrotondare 'uci_points' a zero cifre decimali\n",
    "races_dataset['uci_points'] = races_dataset['uci_points'].round(0)\n"
   ]
  },
  {
   "cell_type": "code",
   "execution_count": 34,
   "metadata": {},
   "outputs": [
    {
     "data": {
      "text/plain": [
       "np.int64(169630)"
      ]
     },
     "execution_count": 34,
     "metadata": {},
     "output_type": "execute_result"
    }
   ],
   "source": [
    "races_dataset['uci_points'].isnull().sum()"
   ]
  },
  {
   "cell_type": "code",
   "execution_count": 35,
   "metadata": {},
   "outputs": [],
   "source": [
    "# Creare intervalli (decili) per la colonna 'points' considerando solo gli anni > 2000\n",
    "races_dataset['points_bin'] = pd.qcut(\n",
    "    races_dataset.loc[races_dataset['year'] > 2000, 'points'], \n",
    "    q=10, \n",
    "    duplicates='drop'\n",
    ")\n",
    "\n",
    "# Calcolare la media dei 'uci_points' per ogni intervallo di 'points' (solo per anni > 2000)\n",
    "points_means = races_dataset[races_dataset['year'] > 2000].groupby('points_bin')['uci_points'].mean()\n",
    "\n",
    "def impute_uci_points_simple(row):\n",
    "    # Imputa 'uci_points' solo se è nullo e l'anno è > 2000\n",
    "    if pd.isnull(row['uci_points']) and row['year'] > 2000:\n",
    "        # Cerca la media dei 'uci_points' corrispondente all'intervallo di 'points'\n",
    "        return points_means.get(row['points_bin'], row['uci_points'])  # Usa get per gestire valori mancanti in 'points_bin'\n",
    "    return row['uci_points']\n",
    "\n",
    "# Applicare la funzione di imputazione\n",
    "races_dataset['uci_points'] = races_dataset.apply(impute_uci_points_simple, axis=1)\n",
    "\n",
    "# Rimuovere la colonna di supporto usata per l'imputazione\n",
    "races_dataset.drop(columns=['points_bin'], inplace=True)\n",
    "\n",
    "# Arrotondare 'uci_points' a zero cifre decimali\n",
    "races_dataset['uci_points'] = races_dataset['uci_points'].round(0)"
   ]
  },
  {
   "cell_type": "code",
   "execution_count": 36,
   "metadata": {},
   "outputs": [
    {
     "data": {
      "text/plain": [
       "np.int64(167555)"
      ]
     },
     "execution_count": 36,
     "metadata": {},
     "output_type": "execute_result"
    }
   ],
   "source": [
    "races_dataset['uci_points'].isnull().sum() # check if missing values are filled correctly"
   ]
  },
  {
   "cell_type": "code",
   "execution_count": 37,
   "metadata": {},
   "outputs": [
    {
     "name": "stdout",
     "output_type": "stream",
     "text": [
      "Number of invalid URLs: 0 over 2780\n"
     ]
    }
   ],
   "source": [
    "# Filtra le righe con 'year' >= 2001 e 'uci_points' null\n",
    "filtered_df = races_dataset[(races_dataset['year'] > 2000) & races_dataset['uci_points'].isnull()]\n",
    "\n",
    "# Trova gli URL unici nel DataFrame filtrato\n",
    "invalid_urls = filtered_df['_url'].unique()\n",
    "all_uci_urls = races_dataset[races_dataset['year'] > 2000]['_url'].unique()\n",
    "\n",
    "# Stampa il numero di URL non validi\n",
    "print(f\"Number of invalid URLs: {len(invalid_urls)} over {len(all_uci_urls)}\")"
   ]
  },
  {
   "cell_type": "markdown",
   "metadata": {},
   "source": [
    "#### Imputation of climb_total & profile values\n",
    "\n",
    "We impute the missing climb total values basing on the races in different years. After that, since the correlation between the climb total values and the profile values, we decided to impute the null profile values in the races where we have the climb total value, and viceversa"
   ]
  },
  {
   "cell_type": "code",
   "execution_count": 38,
   "metadata": {},
   "outputs": [
    {
     "name": "stdout",
     "output_type": "stream",
     "text": [
      "Number of invalid URLs: 2214 over 5281\n"
     ]
    }
   ],
   "source": [
    "# Filtra le righe con 'climb_total' null\n",
    "filtered_df = races_dataset[races_dataset['climb_total'].isnull()]\n",
    "\n",
    "# Trova gli URL unici nel DataFrame filtrato\n",
    "invalid_urls = filtered_df['_url'].unique()\n",
    "all_urls = races_dataset['_url'].unique()\n",
    "\n",
    "# Stampa il numero di URL non validi\n",
    "print(f\"Number of invalid URLs: {len(invalid_urls)} over {len(all_urls)}\")"
   ]
  },
  {
   "cell_type": "code",
   "execution_count": 39,
   "metadata": {},
   "outputs": [
    {
     "name": "stdout",
     "output_type": "stream",
     "text": [
      "Number of invalid URLs: 2408 over 5281\n"
     ]
    }
   ],
   "source": [
    "# Filtra le righe con 'profile' null\n",
    "filtered_df = races_dataset[races_dataset['profile'].isnull()]\n",
    "\n",
    "# Trova gli URL unici nel DataFrame filtrato\n",
    "invalid_urls = filtered_df['_url'].unique()\n",
    "all_urls = races_dataset['_url'].unique()\n",
    "\n",
    "# Stampa il numero di URL non validi\n",
    "print(f\"Number of invalid URLs: {len(invalid_urls)} over {len(all_urls)}\")"
   ]
  },
  {
   "cell_type": "code",
   "execution_count": 40,
   "metadata": {},
   "outputs": [],
   "source": [
    "def impute_climb_total():\n",
    "\n",
    "    # Loop per cicli di imputazione fino a quando non vengono più modificati valori\n",
    "    converged = False\n",
    "\n",
    "    while not converged:\n",
    "        # Trova le gare (stage) dove 'climb_total' è sempre nullo\n",
    "        n_climb_total = races_dataset.groupby(['name', 'stage'])['climb_total'].nunique()\n",
    "        stages_without_climb_total = n_climb_total[n_climb_total == 0].index  # Ottieni le combinazioni (name, stage)\n",
    "\n",
    "        # Filtra le righe 'climb_total' null\n",
    "        # E rimuovi le gare (stage) senza alcun valore di 'uci_points'\n",
    "        invalid_races = races_dataset[\n",
    "            races_dataset['climb_total'].isnull() & \n",
    "            ~races_dataset.set_index(['name', 'stage']).index.isin(stages_without_climb_total)\n",
    "        ].sort_values(by='year')\n",
    "\n",
    "        # Ottieni dati unici basati su '_url' e 'climb_total'\n",
    "        unique_data = races_dataset.drop_duplicates(subset=['_url', 'climb_total']).sort_values(by='year')\n",
    "\n",
    "        # Preparare mappe per il valore precedente e successivo di 'climb_total'\n",
    "        previous_races = unique_data.groupby(['name', 'stage']).apply(\n",
    "            lambda x: x.assign(prev_climb_total=x['climb_total'].shift(1), prev_year=x['year'].shift(1))\n",
    "        ).reset_index(drop=True)\n",
    "\n",
    "        next_races = unique_data.groupby(['name', 'stage']).apply(\n",
    "            lambda x: x.assign(next_climb_total=x['climb_total'].shift(-1), next_year=x['year'].shift(-1))\n",
    "        ).reset_index(drop=True)\n",
    "\n",
    "        # Unire le informazioni di previous e next in una singola mappa\n",
    "        unique_data = previous_races.merge(\n",
    "            next_races[['name', 'stage', '_url', 'next_climb_total', 'next_year']],\n",
    "            on=['name', 'stage', '_url'],\n",
    "            how='left'\n",
    "        )\n",
    "\n",
    "        # Funzione per determinare il valore più vicino\n",
    "        def get_closest_climb_total(row):\n",
    "            if pd.notnull(row['prev_climb_total']):\n",
    "                return row['prev_climb_total']\n",
    "            elif pd.notnull(row['next_climb_total']):\n",
    "                return row['next_climb_total']\n",
    "            return None\n",
    "\n",
    "        # Applicare la logica vettorialmente alle gare senza 'climb_total'\n",
    "        fill_values = invalid_races.merge(\n",
    "            unique_data,\n",
    "            on=['name', 'stage', '_url'],\n",
    "            how='left'\n",
    "        ).apply(get_closest_climb_total, axis=1)\n",
    "\n",
    "        # Aggiorna i valori in modo diretto\n",
    "        races_dataset.loc[invalid_races.index, 'climb_total'] = fill_values.values\n",
    "\n",
    "        # Verifica se ci sono ancora valori mancanti\n",
    "        if fill_values.isnull().sum() == 0:\n",
    "            converged = True\n",
    "            break\n",
    "\n",
    "    # Arrotondare 'climb_total' a zero cifre decimali\n",
    "    races_dataset['climb_total'] = races_dataset['climb_total'].round(0)"
   ]
  },
  {
   "cell_type": "code",
   "execution_count": 41,
   "metadata": {},
   "outputs": [],
   "source": [
    "def impute_climb_and_profile():\n",
    "    # Creare intervalli per 'climb_total' (decili), eliminando i bordi duplicati\n",
    "    races_dataset['climb_total_bin'] = pd.qcut(races_dataset['climb_total'], q=10, duplicates='drop')\n",
    "\n",
    "    # Calcolare la moda di 'profile' per ogni intervallo di 'climb_total'\n",
    "    profile_mode_by_climb = races_dataset.groupby('climb_total_bin')['profile'].agg(lambda x: x.mode().iloc[0] if not x.mode().empty else None)\n",
    "\n",
    "    # Calcolare la media di 'climb_total' per ogni valore di 'profile'\n",
    "    climb_mean_by_profile = races_dataset.groupby('profile')['climb_total'].mean()\n",
    "\n",
    "    # Funzione per imputare 'profile' in base a 'climb_total'\n",
    "    def impute_profile_based_on_climb(row):\n",
    "        # Imputa 'profile' solo se è nullo e 'climb_total' è disponibile\n",
    "        if pd.isnull(row['profile']) and pd.notnull(row['climb_total']):\n",
    "            return profile_mode_by_climb.get(row['climb_total_bin'], row['profile'])\n",
    "        return row['profile']\n",
    "\n",
    "    # Funzione per imputare 'climb_total' in base a 'profile'\n",
    "    def impute_climb_based_on_profile(row):\n",
    "        # Imputa 'climb_total' solo se è nullo e 'profile' è disponibile\n",
    "        if pd.isnull(row['climb_total']) and pd.notnull(row['profile']):\n",
    "            return climb_mean_by_profile.get(row['profile'], row['climb_total'])\n",
    "        return row['climb_total']\n",
    "\n",
    "    # Applicare le funzioni di imputazione\n",
    "    races_dataset['profile'] = races_dataset.apply(impute_profile_based_on_climb, axis=1)\n",
    "    races_dataset['climb_total'] = races_dataset.apply(impute_climb_based_on_profile, axis=1)\n",
    "\n",
    "    # Rimuovere la colonna di supporto usata per l’imputazione\n",
    "    races_dataset.drop(columns=['climb_total_bin'], inplace=True)\n",
    "\n",
    "    # Arrotondare 'climb_total' a zero cifre decimali\n",
    "    races_dataset['climb_total'] = races_dataset['climb_total'].round(0)"
   ]
  },
  {
   "cell_type": "code",
   "execution_count": 42,
   "metadata": {},
   "outputs": [
    {
     "data": {
      "text/plain": [
       "profile        114401\n",
       "climb_total    114401\n",
       "dtype: int64"
      ]
     },
     "execution_count": 42,
     "metadata": {},
     "output_type": "execute_result"
    }
   ],
   "source": [
    "impute_climb_and_profile()\n",
    "races_dataset[['profile', 'climb_total']].isnull().sum() # check if missing values are filled correctly"
   ]
  },
  {
   "cell_type": "code",
   "execution_count": 43,
   "metadata": {},
   "outputs": [
    {
     "name": "stdout",
     "output_type": "stream",
     "text": [
      "Number of invalid URLs: 1955 over 5281\n"
     ]
    }
   ],
   "source": [
    "# Filtra le righe con 'climb_total' null\n",
    "filtered_df = races_dataset[races_dataset['climb_total'].isnull()]\n",
    "\n",
    "# Trova gli URL unici nel DataFrame filtrato\n",
    "invalid_urls = filtered_df['_url'].unique()\n",
    "all_urls = races_dataset['_url'].unique()\n",
    "\n",
    "# Stampa il numero di URL non validi\n",
    "print(f\"Number of invalid URLs: {len(invalid_urls)} over {len(all_urls)}\")"
   ]
  },
  {
   "cell_type": "code",
   "execution_count": 44,
   "metadata": {},
   "outputs": [
    {
     "name": "stdout",
     "output_type": "stream",
     "text": [
      "Number of invalid URLs: 1955 over 5281\n"
     ]
    }
   ],
   "source": [
    "# Filtra le righe con 'profile' null\n",
    "filtered_df = races_dataset[races_dataset['profile'].isnull()]\n",
    "\n",
    "# Trova gli URL unici nel DataFrame filtrato\n",
    "invalid_urls = filtered_df['_url'].unique()\n",
    "all_urls = races_dataset['_url'].unique()\n",
    "\n",
    "# Stampa il numero di URL non validi\n",
    "print(f\"Number of invalid URLs: {len(invalid_urls)} over {len(all_urls)}\")"
   ]
  },
  {
   "cell_type": "markdown",
   "metadata": {},
   "source": [
    "#### Imputation of cyclist team\n",
    "Ora proviamo a fare imputation di alcuni ciclist teams dati i team nelle gare vicine"
   ]
  },
  {
   "cell_type": "code",
   "execution_count": 45,
   "metadata": {},
   "outputs": [
    {
     "name": "stdout",
     "output_type": "stream",
     "text": [
      "Iterating...\n",
      "Updated 15646 missing values.\n",
      "Iterating...\n",
      "Updated 3674 missing values.\n",
      "Iterating...\n",
      "Updated 939 missing values.\n",
      "Iterating...\n",
      "Updated 146 missing values.\n",
      "Iterating...\n",
      "Updated 44 missing values.\n",
      "Iterating...\n",
      "Updated 1 missing values.\n",
      "Iterating...\n",
      "Updated 1 missing values.\n",
      "Iterating...\n",
      "No invalid races left.\n",
      "Imputation complete. Remaining nulls: 138634\n"
     ]
    }
   ],
   "source": [
    "# Pre-filtrare i ciclisti che non hanno mai una squadra\n",
    "converged = False\n",
    "\n",
    "while not converged:\n",
    "    print(\"Iterating...\")\n",
    "\n",
    "    # Trova i ciclisti senza squadra\n",
    "    n_cyclist_teams = races_dataset.groupby('cyclist')['cyclist_team'].nunique()\n",
    "    cyclists_without_team = n_cyclist_teams[n_cyclist_teams == 0].index\n",
    "\n",
    "    # Filtra le righe 'cyclist_team' null, e rimuovi i ciclisti senza squadra\n",
    "    invalid_races = races_dataset[\n",
    "        races_dataset['cyclist_team'].isnull() &\n",
    "        ~races_dataset['cyclist'].isin(cyclists_without_team)\n",
    "    ].sort_values(by='year')\n",
    "\n",
    "    # Se non ci sono righe da aggiornare, terminare il loop\n",
    "    if invalid_races.empty:\n",
    "        print(\"No invalid races left.\")\n",
    "        break\n",
    "\n",
    "    # Ottieni dati unici con valori validi per 'cyclist_team'\n",
    "    unique_data = races_dataset.drop_duplicates(subset=['cyclist', 'cyclist_team']).sort_values(by='year')\n",
    "\n",
    "    # Preparare mappe per il valore precedente e successivo di 'cyclist_team'\n",
    "    previous_races = unique_data.groupby('cyclist').apply(\n",
    "        lambda x: x.assign(prev_cyclist_team=x['cyclist_team'].shift(1), prev_year=x['year'].shift(1))\n",
    "    ).reset_index(drop=True)\n",
    "\n",
    "    next_races = unique_data.groupby('cyclist').apply(\n",
    "        lambda x: x.assign(next_cyclist_team=x['cyclist_team'].shift(-1), next_year=x['year'].shift(-1))\n",
    "    ).reset_index(drop=True)\n",
    "\n",
    "    # Unire le informazioni di previous e next in una singola mappa\n",
    "    unique_data = previous_races.merge(\n",
    "        next_races[['cyclist', '_url', 'next_cyclist_team', 'next_year']],\n",
    "        on=['cyclist', '_url'],\n",
    "        how='left'\n",
    "    )\n",
    "\n",
    "    # Creare mappe da 'unique_data'\n",
    "    previous_team_map = unique_data.set_index(['cyclist', 'year'])['prev_cyclist_team'].to_dict()\n",
    "    next_team_map = unique_data.set_index(['cyclist', 'year'])['next_cyclist_team'].to_dict()\n",
    "\n",
    "    # Funzione per trovare il valore più vicino\n",
    "    def get_closest_team(row):\n",
    "        key = (row['cyclist'], row['year'])\n",
    "        prev_team = previous_team_map.get(key, None)\n",
    "        next_team = next_team_map.get(key, None)\n",
    "        return prev_team if pd.notnull(prev_team) else next_team\n",
    "\n",
    "    # Applicare la logica direttamente alle righe mancanti\n",
    "    invalid_races['cyclist_team'] = invalid_races.apply(get_closest_team, axis=1)\n",
    "\n",
    "    # Aggiorna i valori nel dataset originale\n",
    "    updated = invalid_races['cyclist_team'].notnull().sum()\n",
    "    races_dataset.loc[invalid_races.index, 'cyclist_team'] = invalid_races['cyclist_team']\n",
    "\n",
    "    # Verifica la convergenza\n",
    "    converged = updated == 0\n",
    "    print(f\"Updated {updated} missing values.\")\n",
    "\n",
    "# Riepilogo dei valori mancanti\n",
    "print(\"Imputation complete. Remaining nulls:\", races_dataset['cyclist_team'].isnull().sum())\n"
   ]
  },
  {
   "cell_type": "code",
   "execution_count": 46,
   "metadata": {},
   "outputs": [
    {
     "data": {
      "text/plain": [
       "np.int64(0)"
      ]
     },
     "execution_count": 46,
     "metadata": {},
     "output_type": "execute_result"
    }
   ],
   "source": [
    "n_cyclist_teams = races_dataset.groupby(['cyclist'])['cyclist_team'].nunique()\n",
    "cyclists_without_team = n_cyclist_teams[n_cyclist_teams == 0].index  # Ciclisti senza squadra in nessun evento\n",
    "\n",
    "invalid_races = races_dataset[\n",
    "        races_dataset['cyclist_team'].isnull() &\n",
    "        ~races_dataset['cyclist'].isin(cyclists_without_team)\n",
    "    ].sort_values(by='year')\n",
    "\n",
    "# number of remaining cyclists without a team\n",
    "invalid_races['cyclist_team'].isnull().sum()\n"
   ]
  },
  {
   "cell_type": "markdown",
   "metadata": {},
   "source": [
    "#### Imputation of delta values\n",
    "\n",
    "Per i delta negativi o che risultano con valori sbagliati, modifichiamo il valore per tenerlo coerente con la posizione del ciclista in quella determinata gara. La logica da seguire è, partendo dalla prima posizione, si prosegue nei record fino a quando non si trova un delta negativo, che a quel punto sostituisco con il delta precedente, e così via fino a quando non finisco le posizioni della gara."
   ]
  },
  {
   "cell_type": "code",
   "execution_count": 47,
   "metadata": {},
   "outputs": [
    {
     "name": "stdout",
     "output_type": "stream",
     "text": [
      "Number of URLs with invalid deltas after imputation: 0\n"
     ]
    }
   ],
   "source": [
    "# Funzione per imputare i delta errati\n",
    "def correct_deltas(group):\n",
    "    group = group.reset_index(drop=True)  # Resetta l'indice per garantire l'accesso numerico\n",
    "    # Iniziamo con la prima riga (la quale ha il delta 0)\n",
    "    for i in range(1, len(group)):\n",
    "        # Se il delta è negativo o inferiore al precedente, lo sostituiamo con il valore precedente\n",
    "        if group['delta'].iloc[i] < group['delta'].iloc[i-1]:\n",
    "            group.loc[i, 'delta'] = group.loc[i-1, 'delta']\n",
    "    return group\n",
    "\n",
    "# Applica la funzione di imputazione per ciascun gruppo (gara)\n",
    "races_dataset = races_dataset.groupby('_url', group_keys=False).apply(correct_deltas)\n",
    "\n",
    "# Verifica i cambiamenti\n",
    "invalid_urls_after_imputation = races_dataset.groupby('_url')['delta'].apply(lambda x: (x.shift() > x).any())\n",
    "print('Number of URLs with invalid deltas after imputation: ' + str(len(invalid_urls_after_imputation[invalid_urls_after_imputation])))"
   ]
  },
  {
   "cell_type": "code",
   "execution_count": 48,
   "metadata": {},
   "outputs": [],
   "source": [
    "# Order races dataset by '_url'\n",
    "races_dataset = races_dataset.sort_values(by='_url')"
   ]
  },
  {
   "cell_type": "markdown",
   "metadata": {},
   "source": [
    "## Cyclists & Races"
   ]
  },
  {
   "cell_type": "code",
   "execution_count": 49,
   "metadata": {},
   "outputs": [
    {
     "data": {
      "text/html": [
       "<div>\n",
       "<style scoped>\n",
       "    .dataframe tbody tr th:only-of-type {\n",
       "        vertical-align: middle;\n",
       "    }\n",
       "\n",
       "    .dataframe tbody tr th {\n",
       "        vertical-align: top;\n",
       "    }\n",
       "\n",
       "    .dataframe thead th {\n",
       "        text-align: right;\n",
       "    }\n",
       "</style>\n",
       "<table border=\"1\" class=\"dataframe\">\n",
       "  <thead>\n",
       "    <tr style=\"text-align: right;\">\n",
       "      <th></th>\n",
       "      <th>cyclist_url</th>\n",
       "      <th>cyclist_name</th>\n",
       "      <th>birth_year</th>\n",
       "      <th>weight</th>\n",
       "      <th>height</th>\n",
       "      <th>nationality</th>\n",
       "      <th>race_url</th>\n",
       "      <th>race_name</th>\n",
       "      <th>points</th>\n",
       "      <th>uci_points</th>\n",
       "      <th>...</th>\n",
       "      <th>profile</th>\n",
       "      <th>startlist_quality</th>\n",
       "      <th>date</th>\n",
       "      <th>position</th>\n",
       "      <th>cyclist_age</th>\n",
       "      <th>mostly_tarmac</th>\n",
       "      <th>cyclist_team</th>\n",
       "      <th>delta</th>\n",
       "      <th>race_year</th>\n",
       "      <th>race_stage</th>\n",
       "    </tr>\n",
       "  </thead>\n",
       "  <tbody>\n",
       "    <tr>\n",
       "      <th>0</th>\n",
       "      <td>aad-van-den-hoek</td>\n",
       "      <td>Aad van den Hoek</td>\n",
       "      <td>1951.0</td>\n",
       "      <td>77.0</td>\n",
       "      <td>186.0</td>\n",
       "      <td>Netherlands</td>\n",
       "      <td>e3-harelbeke/1983/result</td>\n",
       "      <td>E3 Saxo Bank Classic</td>\n",
       "      <td>125.0</td>\n",
       "      <td>NaN</td>\n",
       "      <td>...</td>\n",
       "      <td>NaN</td>\n",
       "      <td>194</td>\n",
       "      <td>1983-03-26</td>\n",
       "      <td>20</td>\n",
       "      <td>32.0</td>\n",
       "      <td>False</td>\n",
       "      <td>NaN</td>\n",
       "      <td>117.0</td>\n",
       "      <td>1983</td>\n",
       "      <td>result</td>\n",
       "    </tr>\n",
       "    <tr>\n",
       "      <th>1</th>\n",
       "      <td>aad-van-den-hoek</td>\n",
       "      <td>Aad van den Hoek</td>\n",
       "      <td>1951.0</td>\n",
       "      <td>77.0</td>\n",
       "      <td>186.0</td>\n",
       "      <td>Netherlands</td>\n",
       "      <td>la-fleche-wallone/1981/result</td>\n",
       "      <td>La Fleche Wallonne</td>\n",
       "      <td>225.0</td>\n",
       "      <td>NaN</td>\n",
       "      <td>...</td>\n",
       "      <td>NaN</td>\n",
       "      <td>1294</td>\n",
       "      <td>1981-04-15</td>\n",
       "      <td>106</td>\n",
       "      <td>30.0</td>\n",
       "      <td>False</td>\n",
       "      <td>NaN</td>\n",
       "      <td>25.0</td>\n",
       "      <td>1981</td>\n",
       "      <td>result</td>\n",
       "    </tr>\n",
       "    <tr>\n",
       "      <th>2</th>\n",
       "      <td>aad-van-den-hoek</td>\n",
       "      <td>Aad van den Hoek</td>\n",
       "      <td>1951.0</td>\n",
       "      <td>77.0</td>\n",
       "      <td>186.0</td>\n",
       "      <td>Netherlands</td>\n",
       "      <td>omloop-het-nieuwsblad/1977/result</td>\n",
       "      <td>Omloop Nieuwsblad</td>\n",
       "      <td>125.0</td>\n",
       "      <td>NaN</td>\n",
       "      <td>...</td>\n",
       "      <td>NaN</td>\n",
       "      <td>595</td>\n",
       "      <td>1977-03-05</td>\n",
       "      <td>37</td>\n",
       "      <td>26.0</td>\n",
       "      <td>False</td>\n",
       "      <td>NaN</td>\n",
       "      <td>565.0</td>\n",
       "      <td>1977</td>\n",
       "      <td>result</td>\n",
       "    </tr>\n",
       "    <tr>\n",
       "      <th>3</th>\n",
       "      <td>aad-van-den-hoek</td>\n",
       "      <td>Aad van den Hoek</td>\n",
       "      <td>1951.0</td>\n",
       "      <td>77.0</td>\n",
       "      <td>186.0</td>\n",
       "      <td>Netherlands</td>\n",
       "      <td>omloop-het-nieuwsblad/1978/result</td>\n",
       "      <td>Omloop Nieuwsblad</td>\n",
       "      <td>125.0</td>\n",
       "      <td>NaN</td>\n",
       "      <td>...</td>\n",
       "      <td>NaN</td>\n",
       "      <td>493</td>\n",
       "      <td>1978-03-04</td>\n",
       "      <td>26</td>\n",
       "      <td>27.0</td>\n",
       "      <td>False</td>\n",
       "      <td>NaN</td>\n",
       "      <td>240.0</td>\n",
       "      <td>1978</td>\n",
       "      <td>result</td>\n",
       "    </tr>\n",
       "    <tr>\n",
       "      <th>4</th>\n",
       "      <td>aad-van-den-hoek</td>\n",
       "      <td>Aad van den Hoek</td>\n",
       "      <td>1951.0</td>\n",
       "      <td>77.0</td>\n",
       "      <td>186.0</td>\n",
       "      <td>Netherlands</td>\n",
       "      <td>omloop-het-nieuwsblad/1983/result</td>\n",
       "      <td>Omloop Nieuwsblad</td>\n",
       "      <td>125.0</td>\n",
       "      <td>NaN</td>\n",
       "      <td>...</td>\n",
       "      <td>NaN</td>\n",
       "      <td>756</td>\n",
       "      <td>1983-03-05</td>\n",
       "      <td>71</td>\n",
       "      <td>32.0</td>\n",
       "      <td>False</td>\n",
       "      <td>NaN</td>\n",
       "      <td>370.0</td>\n",
       "      <td>1983</td>\n",
       "      <td>result</td>\n",
       "    </tr>\n",
       "  </tbody>\n",
       "</table>\n",
       "<p>5 rows × 22 columns</p>\n",
       "</div>"
      ],
      "text/plain": [
       "        cyclist_url      cyclist_name  birth_year  weight  height  \\\n",
       "0  aad-van-den-hoek  Aad van den Hoek      1951.0    77.0   186.0   \n",
       "1  aad-van-den-hoek  Aad van den Hoek      1951.0    77.0   186.0   \n",
       "2  aad-van-den-hoek  Aad van den Hoek      1951.0    77.0   186.0   \n",
       "3  aad-van-den-hoek  Aad van den Hoek      1951.0    77.0   186.0   \n",
       "4  aad-van-den-hoek  Aad van den Hoek      1951.0    77.0   186.0   \n",
       "\n",
       "   nationality                           race_url             race_name  \\\n",
       "0  Netherlands           e3-harelbeke/1983/result  E3 Saxo Bank Classic   \n",
       "1  Netherlands      la-fleche-wallone/1981/result    La Fleche Wallonne   \n",
       "2  Netherlands  omloop-het-nieuwsblad/1977/result     Omloop Nieuwsblad   \n",
       "3  Netherlands  omloop-het-nieuwsblad/1978/result     Omloop Nieuwsblad   \n",
       "4  Netherlands  omloop-het-nieuwsblad/1983/result     Omloop Nieuwsblad   \n",
       "\n",
       "   points  uci_points  ...  profile  startlist_quality       date  position  \\\n",
       "0   125.0         NaN  ...      NaN                194 1983-03-26        20   \n",
       "1   225.0         NaN  ...      NaN               1294 1981-04-15       106   \n",
       "2   125.0         NaN  ...      NaN                595 1977-03-05        37   \n",
       "3   125.0         NaN  ...      NaN                493 1978-03-04        26   \n",
       "4   125.0         NaN  ...      NaN                756 1983-03-05        71   \n",
       "\n",
       "  cyclist_age  mostly_tarmac  cyclist_team  delta race_year  race_stage  \n",
       "0        32.0          False           NaN  117.0      1983      result  \n",
       "1        30.0          False           NaN   25.0      1981      result  \n",
       "2        26.0          False           NaN  565.0      1977      result  \n",
       "3        27.0          False           NaN  240.0      1978      result  \n",
       "4        32.0          False           NaN  370.0      1983      result  \n",
       "\n",
       "[5 rows x 22 columns]"
      ]
     },
     "execution_count": 49,
     "metadata": {},
     "output_type": "execute_result"
    }
   ],
   "source": [
    "# Create union of two datasets, merging them considering the url of the cyclist\n",
    "merged_dataset = pd.merge(cyclists_dataset, races_dataset, left_on='_url', right_on='cyclist', how='inner')\n",
    "\n",
    "# Modify name column of the cyclist url in '_url_cyclist', and name column of the race url in '_url_race'\n",
    "merged_dataset = merged_dataset.rename(columns={'_url_x': 'cyclist_url', '_url_y': 'race_url'})\n",
    "# Modify name column of the cyclist name in 'name_cyclist', and name column of the race name in 'name_race'\n",
    "merged_dataset = merged_dataset.rename(columns={'name_x': 'cyclist_name', 'name_y': 'race_name'})\n",
    "\n",
    "# Rename year and stage columns (race_year and race_stage)\n",
    "merged_dataset = merged_dataset.rename(columns={'year': 'race_year', 'stage': 'race_stage'})\n",
    "\n",
    "# Drom 'cyclist' column\n",
    "merged_dataset = merged_dataset.drop(columns=['cyclist'])\n",
    "\n",
    "merged_dataset.head()"
   ]
  },
  {
   "cell_type": "code",
   "execution_count": 50,
   "metadata": {},
   "outputs": [
    {
     "name": "stdout",
     "output_type": "stream",
     "text": [
      "<class 'pandas.core.frame.DataFrame'>\n",
      "RangeIndex: 589739 entries, 0 to 589738\n",
      "Data columns (total 22 columns):\n",
      " #   Column             Non-Null Count   Dtype         \n",
      "---  ------             --------------   -----         \n",
      " 0   cyclist_url        589739 non-null  object        \n",
      " 1   cyclist_name       589739 non-null  object        \n",
      " 2   birth_year         589739 non-null  float64       \n",
      " 3   weight             480007 non-null  float64       \n",
      " 4   height             480007 non-null  float64       \n",
      " 5   nationality        589739 non-null  object        \n",
      " 6   race_url           589739 non-null  object        \n",
      " 7   race_name          589739 non-null  object        \n",
      " 8   points             589739 non-null  float64       \n",
      " 9   uci_points         422184 non-null  float64       \n",
      " 10  length             589739 non-null  float64       \n",
      " 11  climb_total        475338 non-null  float64       \n",
      " 12  profile            475338 non-null  float64       \n",
      " 13  startlist_quality  589739 non-null  int64         \n",
      " 14  date               589739 non-null  datetime64[ns]\n",
      " 15  position           589739 non-null  int64         \n",
      " 16  cyclist_age        589626 non-null  float64       \n",
      " 17  mostly_tarmac      589739 non-null  bool          \n",
      " 18  cyclist_team       451105 non-null  object        \n",
      " 19  delta              589739 non-null  float64       \n",
      " 20  race_year          589739 non-null  int32         \n",
      " 21  race_stage         589739 non-null  object        \n",
      "dtypes: bool(1), datetime64[ns](1), float64(10), int32(1), int64(2), object(7)\n",
      "memory usage: 92.8+ MB\n"
     ]
    }
   ],
   "source": [
    "merged_dataset.info()"
   ]
  },
  {
   "cell_type": "markdown",
   "metadata": {},
   "source": [
    "### Imputation"
   ]
  },
  {
   "cell_type": "code",
   "execution_count": 51,
   "metadata": {},
   "outputs": [
    {
     "data": {
      "text/plain": [
       "cyclist_url               0\n",
       "cyclist_name              0\n",
       "birth_year                0\n",
       "weight               109732\n",
       "height               109732\n",
       "nationality               0\n",
       "race_url                  0\n",
       "race_name                 0\n",
       "points                    0\n",
       "uci_points           167555\n",
       "length                    0\n",
       "climb_total          114401\n",
       "profile              114401\n",
       "startlist_quality         0\n",
       "date                      0\n",
       "position                  0\n",
       "cyclist_age             113\n",
       "mostly_tarmac             0\n",
       "cyclist_team         138634\n",
       "delta                     0\n",
       "race_year                 0\n",
       "race_stage                0\n",
       "dtype: int64"
      ]
     },
     "execution_count": 51,
     "metadata": {},
     "output_type": "execute_result"
    }
   ],
   "source": [
    "merged_dataset.isnull().sum() # check number of missing values"
   ]
  },
  {
   "cell_type": "markdown",
   "metadata": {},
   "source": [
    "#### Imputation of cyclist age\n",
    "\n",
    "Dato l'anno di nascita che abbiamo imputato precedentemente, ora possiamo imputare anche l'età dei ciclisti nelle gare dove non era presente."
   ]
  },
  {
   "cell_type": "code",
   "execution_count": 52,
   "metadata": {},
   "outputs": [],
   "source": [
    "# Extract the year from the date \n",
    "merged_dataset['race_year'] = merged_dataset['date'].dt.year\n",
    "\n",
    "# Imputa la cyclist_age per le righe in cui è null e birth_year non è null\n",
    "# Imputation of the cyclist_age for rows where it is null and birth_year is not null\n",
    "merged_dataset['cyclist_age'] = merged_dataset.apply(\n",
    "    lambda row: row['race_year'] - row['birth_year'] \n",
    "                if pd.isnull(row['cyclist_age']) and pd.notnull(row['birth_year'])\n",
    "                else row['cyclist_age'],\n",
    "    axis=1\n",
    ")"
   ]
  },
  {
   "cell_type": "code",
   "execution_count": 53,
   "metadata": {},
   "outputs": [
    {
     "data": {
      "text/plain": [
       "np.int64(0)"
      ]
     },
     "execution_count": 53,
     "metadata": {},
     "output_type": "execute_result"
    }
   ],
   "source": [
    "merged_dataset['cyclist_age'].isnull().sum() # check if missing values are filled correctly"
   ]
  },
  {
   "cell_type": "code",
   "execution_count": 54,
   "metadata": {},
   "outputs": [],
   "source": [
    "# Order merged dataset by '_url_race'\n",
    "merged_dataset = merged_dataset.sort_values(by=['race_url', 'position'])"
   ]
  },
  {
   "cell_type": "markdown",
   "metadata": {},
   "source": [
    "## New Datasets Creation\n",
    "\n",
    "Ora, dopo aver pulito i nostri dati, possiamo creare vari dataset da sfruttare in varie analisi."
   ]
  },
  {
   "cell_type": "code",
   "execution_count": 55,
   "metadata": {},
   "outputs": [],
   "source": [
    "merged_dataset['birth_year'] = merged_dataset['birth_year'].astype(int)\n",
    "merged_dataset['climb_total'] = merged_dataset['climb_total'].astype('Int64')\n",
    "merged_dataset['profile'] = merged_dataset['profile'].astype('category')\n",
    "merged_dataset['cyclist_age'] = merged_dataset['cyclist_age'].astype(int)"
   ]
  },
  {
   "cell_type": "code",
   "execution_count": 56,
   "metadata": {},
   "outputs": [
    {
     "name": "stdout",
     "output_type": "stream",
     "text": [
      "<class 'pandas.core.frame.DataFrame'>\n",
      "Index: 589739 entries, 193847 to 98948\n",
      "Data columns (total 22 columns):\n",
      " #   Column             Non-Null Count   Dtype         \n",
      "---  ------             --------------   -----         \n",
      " 0   cyclist_url        589739 non-null  object        \n",
      " 1   cyclist_name       589739 non-null  object        \n",
      " 2   birth_year         589739 non-null  int64         \n",
      " 3   weight             480007 non-null  float64       \n",
      " 4   height             480007 non-null  float64       \n",
      " 5   nationality        589739 non-null  object        \n",
      " 6   race_url           589739 non-null  object        \n",
      " 7   race_name          589739 non-null  object        \n",
      " 8   points             589739 non-null  float64       \n",
      " 9   uci_points         422184 non-null  float64       \n",
      " 10  length             589739 non-null  float64       \n",
      " 11  climb_total        475338 non-null  Int64         \n",
      " 12  profile            475338 non-null  category      \n",
      " 13  startlist_quality  589739 non-null  int64         \n",
      " 14  date               589739 non-null  datetime64[ns]\n",
      " 15  position           589739 non-null  int64         \n",
      " 16  cyclist_age        589739 non-null  int64         \n",
      " 17  mostly_tarmac      589739 non-null  bool          \n",
      " 18  cyclist_team       451105 non-null  object        \n",
      " 19  delta              589739 non-null  float64       \n",
      " 20  race_year          589739 non-null  int32         \n",
      " 21  race_stage         589739 non-null  object        \n",
      "dtypes: Int64(1), bool(1), category(1), datetime64[ns](1), float64(6), int32(1), int64(4), object(7)\n",
      "memory usage: 93.9+ MB\n"
     ]
    }
   ],
   "source": [
    "merged_dataset.info()"
   ]
  },
  {
   "cell_type": "code",
   "execution_count": 57,
   "metadata": {},
   "outputs": [
    {
     "data": {
      "text/plain": [
       "cyclist_url               0\n",
       "cyclist_name              0\n",
       "birth_year                0\n",
       "weight               109732\n",
       "height               109732\n",
       "nationality               0\n",
       "race_url                  0\n",
       "race_name                 0\n",
       "points                    0\n",
       "uci_points           167555\n",
       "length                    0\n",
       "climb_total          114401\n",
       "profile              114401\n",
       "startlist_quality         0\n",
       "date                      0\n",
       "position                  0\n",
       "cyclist_age               0\n",
       "mostly_tarmac             0\n",
       "cyclist_team         138634\n",
       "delta                     0\n",
       "race_year                 0\n",
       "race_stage                0\n",
       "dtype: int64"
      ]
     },
     "execution_count": 57,
     "metadata": {},
     "output_type": "execute_result"
    }
   ],
   "source": [
    "# Create csv file with the merged dataset\n",
    "merged_dataset.to_csv('../data/cleaned_merged_dataset.csv', index=False)\n",
    "\n",
    "merged_dataset.isnull().sum() # check number of missing values"
   ]
  },
  {
   "cell_type": "code",
   "execution_count": 58,
   "metadata": {},
   "outputs": [
    {
     "data": {
      "text/plain": [
       "cyclist_url          0\n",
       "cyclist_name         0\n",
       "birth_year           0\n",
       "nationality          0\n",
       "race_url             0\n",
       "race_name            0\n",
       "points               0\n",
       "length               0\n",
       "startlist_quality    0\n",
       "date                 0\n",
       "position             0\n",
       "cyclist_age          0\n",
       "mostly_tarmac        0\n",
       "delta                0\n",
       "race_year            0\n",
       "race_stage           0\n",
       "dtype: int64"
      ]
     },
     "execution_count": 58,
     "metadata": {},
     "output_type": "execute_result"
    }
   ],
   "source": [
    "# Create dataset with no columns containing missing values (no weights, heights, climb_total, profile, cyclist_team)\n",
    "cleaned_dataset_by_column = merged_dataset.drop(columns=['weight', 'height', 'uci_points', 'climb_total', 'profile', 'cyclist_team'])\n",
    "# Create csv file with the cleaned dataset\n",
    "cleaned_dataset_by_column.to_csv('../data/cleaned_dataset_by_column.csv', index=False)\n",
    "\n",
    "cleaned_dataset_by_column.isnull().sum() # check number of missing values"
   ]
  },
  {
   "cell_type": "code",
   "execution_count": 59,
   "metadata": {},
   "outputs": [
    {
     "data": {
      "text/plain": [
       "cyclist_url          0\n",
       "cyclist_name         0\n",
       "birth_year           0\n",
       "weight               0\n",
       "height               0\n",
       "nationality          0\n",
       "race_url             0\n",
       "race_name            0\n",
       "points               0\n",
       "uci_points           0\n",
       "length               0\n",
       "climb_total          0\n",
       "profile              0\n",
       "startlist_quality    0\n",
       "date                 0\n",
       "position             0\n",
       "cyclist_age          0\n",
       "mostly_tarmac        0\n",
       "cyclist_team         0\n",
       "delta                0\n",
       "race_year            0\n",
       "race_stage           0\n",
       "dtype: int64"
      ]
     },
     "execution_count": 59,
     "metadata": {},
     "output_type": "execute_result"
    }
   ],
   "source": [
    "# Create dataset with no rows containing missing values\n",
    "cleaned_dataset_by_row = merged_dataset.dropna()\n",
    "# Create csv file with the cleaned dataset\n",
    "cleaned_dataset_by_row.to_csv('../data/cleaned_dataset_by_row.csv', index=False)\n",
    "\n",
    "cleaned_dataset_by_row.isnull().sum() # check number of missing values"
   ]
  }
 ],
 "metadata": {
  "kernelspec": {
   "display_name": "dm_env",
   "language": "python",
   "name": "python3"
  },
  "language_info": {
   "codemirror_mode": {
    "name": "ipython",
    "version": 3
   },
   "file_extension": ".py",
   "mimetype": "text/x-python",
   "name": "python",
   "nbconvert_exporter": "python",
   "pygments_lexer": "ipython3",
   "version": "3.12.2"
  }
 },
 "nbformat": 4,
 "nbformat_minor": 2
}

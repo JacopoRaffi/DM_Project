{
 "cells": [
  {
   "cell_type": "markdown",
   "metadata": {},
   "source": [
    "# Feature Engineering\n",
    "\n",
    "### Data Mining Project 2024/25\n",
    "\n",
    "Authors: Nicola Emmolo, Simone Marzeddu, Jacopo Raffi"
   ]
  },
  {
   "cell_type": "code",
   "execution_count": 18,
   "metadata": {},
   "outputs": [
    {
     "name": "stdout",
     "output_type": "stream",
     "text": [
      "The autoreload extension is already loaded. To reload it, use:\n",
      "  %reload_ext autoreload\n"
     ]
    }
   ],
   "source": [
    "%load_ext autoreload\n",
    "%autoreload 2"
   ]
  },
  {
   "cell_type": "code",
   "execution_count": 19,
   "metadata": {},
   "outputs": [],
   "source": [
    "import pandas as pd"
   ]
  },
  {
   "cell_type": "code",
   "execution_count": 20,
   "metadata": {},
   "outputs": [
    {
     "data": {
      "text/html": [
       "<div>\n",
       "<style scoped>\n",
       "    .dataframe tbody tr th:only-of-type {\n",
       "        vertical-align: middle;\n",
       "    }\n",
       "\n",
       "    .dataframe tbody tr th {\n",
       "        vertical-align: top;\n",
       "    }\n",
       "\n",
       "    .dataframe thead th {\n",
       "        text-align: right;\n",
       "    }\n",
       "</style>\n",
       "<table border=\"1\" class=\"dataframe\">\n",
       "  <thead>\n",
       "    <tr style=\"text-align: right;\">\n",
       "      <th></th>\n",
       "      <th>race_url</th>\n",
       "      <th>race_name</th>\n",
       "      <th>points</th>\n",
       "      <th>uci_points</th>\n",
       "      <th>length</th>\n",
       "      <th>climb_total</th>\n",
       "      <th>profile</th>\n",
       "      <th>startlist_quality</th>\n",
       "      <th>date</th>\n",
       "      <th>position</th>\n",
       "      <th>cyclist_url</th>\n",
       "      <th>cyclist_age</th>\n",
       "      <th>mostly_tarmac</th>\n",
       "      <th>cyclist_team</th>\n",
       "      <th>delta</th>\n",
       "      <th>cyclist_name</th>\n",
       "      <th>birth_year</th>\n",
       "      <th>weight</th>\n",
       "      <th>height</th>\n",
       "      <th>nationality</th>\n",
       "    </tr>\n",
       "  </thead>\n",
       "  <tbody>\n",
       "    <tr>\n",
       "      <th>0</th>\n",
       "      <td>tour-de-france/1978/stage-6</td>\n",
       "      <td>Tour de France</td>\n",
       "      <td>100.0</td>\n",
       "      <td>NaN</td>\n",
       "      <td>162000.0</td>\n",
       "      <td>1101.0</td>\n",
       "      <td>1.0</td>\n",
       "      <td>1241</td>\n",
       "      <td>1978-07-05</td>\n",
       "      <td>0</td>\n",
       "      <td>sean-kelly</td>\n",
       "      <td>22.0</td>\n",
       "      <td>True</td>\n",
       "      <td>vini-ricordi-pinarello-sidermec-1986</td>\n",
       "      <td>0.0</td>\n",
       "      <td>Sean  Kelly</td>\n",
       "      <td>1956.0</td>\n",
       "      <td>77.0</td>\n",
       "      <td>180.0</td>\n",
       "      <td>Ireland</td>\n",
       "    </tr>\n",
       "    <tr>\n",
       "      <th>1</th>\n",
       "      <td>tour-de-france/1978/stage-6</td>\n",
       "      <td>Tour de France</td>\n",
       "      <td>100.0</td>\n",
       "      <td>NaN</td>\n",
       "      <td>162000.0</td>\n",
       "      <td>1101.0</td>\n",
       "      <td>1.0</td>\n",
       "      <td>1241</td>\n",
       "      <td>1978-07-05</td>\n",
       "      <td>1</td>\n",
       "      <td>gerrie-knetemann</td>\n",
       "      <td>27.0</td>\n",
       "      <td>True</td>\n",
       "      <td>norway-1987</td>\n",
       "      <td>0.0</td>\n",
       "      <td>Gerrie  Knetemann</td>\n",
       "      <td>1951.0</td>\n",
       "      <td>NaN</td>\n",
       "      <td>NaN</td>\n",
       "      <td>Netherlands</td>\n",
       "    </tr>\n",
       "    <tr>\n",
       "      <th>2</th>\n",
       "      <td>tour-de-france/1978/stage-6</td>\n",
       "      <td>Tour de France</td>\n",
       "      <td>100.0</td>\n",
       "      <td>NaN</td>\n",
       "      <td>162000.0</td>\n",
       "      <td>1101.0</td>\n",
       "      <td>1.0</td>\n",
       "      <td>1241</td>\n",
       "      <td>1978-07-05</td>\n",
       "      <td>2</td>\n",
       "      <td>rene-bittinger</td>\n",
       "      <td>24.0</td>\n",
       "      <td>True</td>\n",
       "      <td>NaN</td>\n",
       "      <td>0.0</td>\n",
       "      <td>René  Bittinger</td>\n",
       "      <td>1954.0</td>\n",
       "      <td>69.0</td>\n",
       "      <td>174.0</td>\n",
       "      <td>France</td>\n",
       "    </tr>\n",
       "    <tr>\n",
       "      <th>3</th>\n",
       "      <td>tour-de-france/1978/stage-6</td>\n",
       "      <td>Tour de France</td>\n",
       "      <td>100.0</td>\n",
       "      <td>NaN</td>\n",
       "      <td>162000.0</td>\n",
       "      <td>1101.0</td>\n",
       "      <td>1.0</td>\n",
       "      <td>1241</td>\n",
       "      <td>1978-07-05</td>\n",
       "      <td>3</td>\n",
       "      <td>joseph-bruyere</td>\n",
       "      <td>30.0</td>\n",
       "      <td>True</td>\n",
       "      <td>navigare-blue-storm-1993</td>\n",
       "      <td>0.0</td>\n",
       "      <td>Joseph  Bruyère</td>\n",
       "      <td>1948.0</td>\n",
       "      <td>NaN</td>\n",
       "      <td>NaN</td>\n",
       "      <td>Belgium</td>\n",
       "    </tr>\n",
       "    <tr>\n",
       "      <th>4</th>\n",
       "      <td>tour-de-france/1978/stage-6</td>\n",
       "      <td>Tour de France</td>\n",
       "      <td>100.0</td>\n",
       "      <td>NaN</td>\n",
       "      <td>162000.0</td>\n",
       "      <td>1101.0</td>\n",
       "      <td>1.0</td>\n",
       "      <td>1241</td>\n",
       "      <td>1978-07-05</td>\n",
       "      <td>4</td>\n",
       "      <td>sven-ake-nilsson</td>\n",
       "      <td>27.0</td>\n",
       "      <td>True</td>\n",
       "      <td>spain-1991</td>\n",
       "      <td>0.0</td>\n",
       "      <td>Sven-Åke  Nilsson</td>\n",
       "      <td>1951.0</td>\n",
       "      <td>63.0</td>\n",
       "      <td>172.0</td>\n",
       "      <td>Sweden</td>\n",
       "    </tr>\n",
       "  </tbody>\n",
       "</table>\n",
       "</div>"
      ],
      "text/plain": [
       "                      race_url       race_name  points  uci_points    length  \\\n",
       "0  tour-de-france/1978/stage-6  Tour de France   100.0         NaN  162000.0   \n",
       "1  tour-de-france/1978/stage-6  Tour de France   100.0         NaN  162000.0   \n",
       "2  tour-de-france/1978/stage-6  Tour de France   100.0         NaN  162000.0   \n",
       "3  tour-de-france/1978/stage-6  Tour de France   100.0         NaN  162000.0   \n",
       "4  tour-de-france/1978/stage-6  Tour de France   100.0         NaN  162000.0   \n",
       "\n",
       "   climb_total  profile  startlist_quality       date  position  \\\n",
       "0       1101.0      1.0               1241 1978-07-05         0   \n",
       "1       1101.0      1.0               1241 1978-07-05         1   \n",
       "2       1101.0      1.0               1241 1978-07-05         2   \n",
       "3       1101.0      1.0               1241 1978-07-05         3   \n",
       "4       1101.0      1.0               1241 1978-07-05         4   \n",
       "\n",
       "        cyclist_url  cyclist_age  mostly_tarmac  \\\n",
       "0        sean-kelly         22.0           True   \n",
       "1  gerrie-knetemann         27.0           True   \n",
       "2    rene-bittinger         24.0           True   \n",
       "3    joseph-bruyere         30.0           True   \n",
       "4  sven-ake-nilsson         27.0           True   \n",
       "\n",
       "                           cyclist_team  delta       cyclist_name  birth_year  \\\n",
       "0  vini-ricordi-pinarello-sidermec-1986    0.0        Sean  Kelly      1956.0   \n",
       "1                           norway-1987    0.0  Gerrie  Knetemann      1951.0   \n",
       "2                                   NaN    0.0    René  Bittinger      1954.0   \n",
       "3              navigare-blue-storm-1993    0.0    Joseph  Bruyère      1948.0   \n",
       "4                            spain-1991    0.0  Sven-Åke  Nilsson      1951.0   \n",
       "\n",
       "   weight  height  nationality  \n",
       "0    77.0   180.0      Ireland  \n",
       "1     NaN     NaN  Netherlands  \n",
       "2    69.0   174.0       France  \n",
       "3     NaN     NaN      Belgium  \n",
       "4    63.0   172.0       Sweden  "
      ]
     },
     "execution_count": 20,
     "metadata": {},
     "output_type": "execute_result"
    }
   ],
   "source": [
    "dataset = pd.read_csv('../data/complete_dataset.csv')\n",
    "dataset['date'] = pd.to_datetime(dataset['date'], format='%Y-%m-%d')\n",
    "dataset.head()"
   ]
  },
  {
   "cell_type": "markdown",
   "metadata": {},
   "source": [
    "## Normalizzazione delle posizioni"
   ]
  },
  {
   "cell_type": "code",
   "execution_count": 4,
   "metadata": {},
   "outputs": [],
   "source": [
    "max_position = dataset.groupby('race_url')['position'].max().reset_index()\n",
    "max_pos_dict = max_position.set_index('race_url')['position'].to_dict()\n",
    "\n",
    "dataset['position'] = dataset['position'] / max_position['race_url'].map(max_pos_dict)"
   ]
  },
  {
   "cell_type": "markdown",
   "metadata": {},
   "source": [
    "## Scaling Lunghezza e Climb Total"
   ]
  },
  {
   "cell_type": "code",
   "execution_count": 5,
   "metadata": {},
   "outputs": [],
   "source": [
    "dataset['length'] = dataset['length'] / 1000\n",
    "dataset['climb_total'] = dataset['climb_total'] / 1000"
   ]
  },
  {
   "cell_type": "markdown",
   "metadata": {},
   "source": [
    "## Stagione"
   ]
  },
  {
   "cell_type": "code",
   "execution_count": 6,
   "metadata": {},
   "outputs": [],
   "source": [
    "def get_season(month):\n",
    "    if month in [7, 8, 9]:\n",
    "        return 'summer'\n",
    "    elif month in [1, 2, 3]:\n",
    "        return 'winter'\n",
    "    elif month in [4, 5, 6]:\n",
    "        return 'spring'\n",
    "    else:\n",
    "        return 'autumn'\n",
    "    \n",
    "dataset['season'] = dataset['date'].dt.month.apply(get_season)"
   ]
  },
  {
   "cell_type": "markdown",
   "metadata": {},
   "source": [
    "## BMI"
   ]
  },
  {
   "cell_type": "code",
   "execution_count": 7,
   "metadata": {},
   "outputs": [],
   "source": [
    "dataset['cyclist_bmi'] = dataset['weight'] / (dataset['height'] / 100) ** 2"
   ]
  },
  {
   "cell_type": "markdown",
   "metadata": {},
   "source": [
    "## Fascia Età"
   ]
  },
  {
   "cell_type": "code",
   "execution_count": 8,
   "metadata": {},
   "outputs": [],
   "source": [
    "bins = [0, 18, 25, 30, float('inf')]\n",
    "labels = ['<18', '18-25', '25-30', '>30']\n",
    "\n",
    "dataset['cyclist_age_group'] = pd.cut(dataset['cyclist_age'], bins=bins, labels=labels, right=False)"
   ]
  },
  {
   "cell_type": "markdown",
   "metadata": {},
   "source": [
    "## Climb Power (Power-Weight Ratio Proxy)"
   ]
  },
  {
   "cell_type": "code",
   "execution_count": 9,
   "metadata": {},
   "outputs": [],
   "source": [
    "dataset['cyclist_climb_power'] = (dataset['climb_total'] * dataset['profile']) / ((dataset['delta']+1) * dataset['cyclist_bmi'])"
   ]
  },
  {
   "cell_type": "markdown",
   "metadata": {},
   "source": [
    "## Difficoltà Fisica"
   ]
  },
  {
   "cell_type": "code",
   "execution_count": 10,
   "metadata": {},
   "outputs": [],
   "source": [
    "dataset['race_physical_effort'] = dataset['length'] * dataset['climb_total'] * (dataset['profile']+1)\n",
    "\n",
    "min_value = dataset['race_physical_effort'].min()\n",
    "max_value = dataset['race_physical_effort'].max()\n",
    "dataset['race_physical_effort'] = (dataset['race_physical_effort'] - min_value) / (max_value - min_value)"
   ]
  },
  {
   "cell_type": "markdown",
   "metadata": {},
   "source": [
    "## Prestigio"
   ]
  },
  {
   "cell_type": "code",
   "execution_count": 11,
   "metadata": {},
   "outputs": [],
   "source": [
    "dataset['race_prestige'] = dataset['points'] * dataset['startlist_quality']\n",
    "\n",
    "min_value = dataset['race_prestige'].min()\n",
    "max_value = dataset['race_prestige'].max()\n",
    "dataset['race_prestige'] = (dataset['race_prestige'] - min_value) / (max_value - min_value)"
   ]
  },
  {
   "cell_type": "markdown",
   "metadata": {},
   "source": [
    "## Esperienza"
   ]
  },
  {
   "cell_type": "code",
   "execution_count": null,
   "metadata": {},
   "outputs": [],
   "source": [
    "dataset = dataset.sort_values(by=['date'])\n",
    "\n",
    "prestige_coeff = 1\n",
    "physical_effort_coeff = 0.2\n",
    "\n",
    "#TODO: when the dataset is cleaned, fill NaN values with 0\n",
    "dataset['previous_experience'] = dataset['race_prestige'] * prestige_coeff + dataset['race_physical_effort'] * physical_effort_coeff\n",
    "dataset['previous_experience'] = dataset.groupby('cyclist_url')['previous_experience'].transform(lambda x: x.shift().cumsum())"
   ]
  }
 ],
 "metadata": {
  "kernelspec": {
   "display_name": "dm",
   "language": "python",
   "name": "python3"
  },
  "language_info": {
   "codemirror_mode": {
    "name": "ipython",
    "version": 3
   },
   "file_extension": ".py",
   "mimetype": "text/x-python",
   "name": "python",
   "nbconvert_exporter": "python",
   "pygments_lexer": "ipython3",
   "version": "3.10.12"
  }
 },
 "nbformat": 4,
 "nbformat_minor": 2
}

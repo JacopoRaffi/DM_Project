{
 "cells": [
  {
   "cell_type": "markdown",
   "metadata": {},
   "source": [
    "# Feature Engineering\n",
    "\n",
    "### Data Mining Project 2024/25\n",
    "\n",
    "Authors: Nicola Emmolo, Simone Marzeddu, Jacopo Raffi"
   ]
  },
  {
   "cell_type": "code",
   "execution_count": 1,
   "metadata": {},
   "outputs": [],
   "source": [
    "%load_ext autoreload\n",
    "%autoreload 2"
   ]
  },
  {
   "cell_type": "code",
   "execution_count": 2,
   "metadata": {},
   "outputs": [],
   "source": [
    "import pandas as pd\n",
    "import seaborn as sb"
   ]
  },
  {
   "cell_type": "code",
   "execution_count": 3,
   "metadata": {},
   "outputs": [
    {
     "data": {
      "text/html": [
       "<div>\n",
       "<style scoped>\n",
       "    .dataframe tbody tr th:only-of-type {\n",
       "        vertical-align: middle;\n",
       "    }\n",
       "\n",
       "    .dataframe tbody tr th {\n",
       "        vertical-align: top;\n",
       "    }\n",
       "\n",
       "    .dataframe thead th {\n",
       "        text-align: right;\n",
       "    }\n",
       "</style>\n",
       "<table border=\"1\" class=\"dataframe\">\n",
       "  <thead>\n",
       "    <tr style=\"text-align: right;\">\n",
       "      <th></th>\n",
       "      <th>cyclist_url</th>\n",
       "      <th>cyclist_name</th>\n",
       "      <th>birth_year</th>\n",
       "      <th>weight</th>\n",
       "      <th>height</th>\n",
       "      <th>nationality</th>\n",
       "      <th>race_url</th>\n",
       "      <th>race_name</th>\n",
       "      <th>points</th>\n",
       "      <th>uci_points</th>\n",
       "      <th>...</th>\n",
       "      <th>profile</th>\n",
       "      <th>startlist_quality</th>\n",
       "      <th>date</th>\n",
       "      <th>position</th>\n",
       "      <th>cyclist_age</th>\n",
       "      <th>mostly_tarmac</th>\n",
       "      <th>cyclist_team</th>\n",
       "      <th>delta</th>\n",
       "      <th>race_year</th>\n",
       "      <th>race_stage</th>\n",
       "    </tr>\n",
       "  </thead>\n",
       "  <tbody>\n",
       "    <tr>\n",
       "      <th>0</th>\n",
       "      <td>georges-pintens</td>\n",
       "      <td>Georges  Pintens</td>\n",
       "      <td>1946</td>\n",
       "      <td>NaN</td>\n",
       "      <td>NaN</td>\n",
       "      <td>Belgium</td>\n",
       "      <td>amstel-gold-race/1970/result</td>\n",
       "      <td>Amstel Gold Race</td>\n",
       "      <td>225.0</td>\n",
       "      <td>NaN</td>\n",
       "      <td>...</td>\n",
       "      <td>NaN</td>\n",
       "      <td>372</td>\n",
       "      <td>1970-04-25</td>\n",
       "      <td>0</td>\n",
       "      <td>24</td>\n",
       "      <td>False</td>\n",
       "      <td>norway-1987</td>\n",
       "      <td>0.0</td>\n",
       "      <td>1970</td>\n",
       "      <td>result</td>\n",
       "    </tr>\n",
       "    <tr>\n",
       "      <th>1</th>\n",
       "      <td>willy-van-neste</td>\n",
       "      <td>Willy Van Neste</td>\n",
       "      <td>1944</td>\n",
       "      <td>NaN</td>\n",
       "      <td>NaN</td>\n",
       "      <td>Belgium</td>\n",
       "      <td>amstel-gold-race/1970/result</td>\n",
       "      <td>Amstel Gold Race</td>\n",
       "      <td>225.0</td>\n",
       "      <td>NaN</td>\n",
       "      <td>...</td>\n",
       "      <td>NaN</td>\n",
       "      <td>372</td>\n",
       "      <td>1970-04-25</td>\n",
       "      <td>1</td>\n",
       "      <td>26</td>\n",
       "      <td>False</td>\n",
       "      <td>norway-1987</td>\n",
       "      <td>0.0</td>\n",
       "      <td>1970</td>\n",
       "      <td>result</td>\n",
       "    </tr>\n",
       "    <tr>\n",
       "      <th>2</th>\n",
       "      <td>andre-dierickx</td>\n",
       "      <td>André  Dierickx</td>\n",
       "      <td>1947</td>\n",
       "      <td>74.0</td>\n",
       "      <td>180.0</td>\n",
       "      <td>Belgium</td>\n",
       "      <td>amstel-gold-race/1970/result</td>\n",
       "      <td>Amstel Gold Race</td>\n",
       "      <td>225.0</td>\n",
       "      <td>NaN</td>\n",
       "      <td>...</td>\n",
       "      <td>NaN</td>\n",
       "      <td>372</td>\n",
       "      <td>1970-04-25</td>\n",
       "      <td>2</td>\n",
       "      <td>23</td>\n",
       "      <td>False</td>\n",
       "      <td>spain-1991</td>\n",
       "      <td>22.0</td>\n",
       "      <td>1970</td>\n",
       "      <td>result</td>\n",
       "    </tr>\n",
       "    <tr>\n",
       "      <th>3</th>\n",
       "      <td>eric-leman</td>\n",
       "      <td>Eric  Leman</td>\n",
       "      <td>1946</td>\n",
       "      <td>NaN</td>\n",
       "      <td>NaN</td>\n",
       "      <td>Belgium</td>\n",
       "      <td>amstel-gold-race/1970/result</td>\n",
       "      <td>Amstel Gold Race</td>\n",
       "      <td>225.0</td>\n",
       "      <td>NaN</td>\n",
       "      <td>...</td>\n",
       "      <td>NaN</td>\n",
       "      <td>372</td>\n",
       "      <td>1970-04-25</td>\n",
       "      <td>3</td>\n",
       "      <td>24</td>\n",
       "      <td>False</td>\n",
       "      <td>spain-1991</td>\n",
       "      <td>33.0</td>\n",
       "      <td>1970</td>\n",
       "      <td>result</td>\n",
       "    </tr>\n",
       "    <tr>\n",
       "      <th>4</th>\n",
       "      <td>joseph-schoeters</td>\n",
       "      <td>Joseph  Schoeters</td>\n",
       "      <td>1947</td>\n",
       "      <td>NaN</td>\n",
       "      <td>NaN</td>\n",
       "      <td>Belgium</td>\n",
       "      <td>amstel-gold-race/1970/result</td>\n",
       "      <td>Amstel Gold Race</td>\n",
       "      <td>225.0</td>\n",
       "      <td>NaN</td>\n",
       "      <td>...</td>\n",
       "      <td>NaN</td>\n",
       "      <td>372</td>\n",
       "      <td>1970-04-25</td>\n",
       "      <td>4</td>\n",
       "      <td>23</td>\n",
       "      <td>False</td>\n",
       "      <td>NaN</td>\n",
       "      <td>33.0</td>\n",
       "      <td>1970</td>\n",
       "      <td>result</td>\n",
       "    </tr>\n",
       "  </tbody>\n",
       "</table>\n",
       "<p>5 rows × 22 columns</p>\n",
       "</div>"
      ],
      "text/plain": [
       "        cyclist_url       cyclist_name  birth_year  weight  height  \\\n",
       "0   georges-pintens   Georges  Pintens        1946     NaN     NaN   \n",
       "1   willy-van-neste    Willy Van Neste        1944     NaN     NaN   \n",
       "2    andre-dierickx    André  Dierickx        1947    74.0   180.0   \n",
       "3        eric-leman        Eric  Leman        1946     NaN     NaN   \n",
       "4  joseph-schoeters  Joseph  Schoeters        1947     NaN     NaN   \n",
       "\n",
       "  nationality                      race_url         race_name  points  \\\n",
       "0     Belgium  amstel-gold-race/1970/result  Amstel Gold Race   225.0   \n",
       "1     Belgium  amstel-gold-race/1970/result  Amstel Gold Race   225.0   \n",
       "2     Belgium  amstel-gold-race/1970/result  Amstel Gold Race   225.0   \n",
       "3     Belgium  amstel-gold-race/1970/result  Amstel Gold Race   225.0   \n",
       "4     Belgium  amstel-gold-race/1970/result  Amstel Gold Race   225.0   \n",
       "\n",
       "   uci_points  ...  profile  startlist_quality       date  position  \\\n",
       "0         NaN  ...      NaN                372 1970-04-25         0   \n",
       "1         NaN  ...      NaN                372 1970-04-25         1   \n",
       "2         NaN  ...      NaN                372 1970-04-25         2   \n",
       "3         NaN  ...      NaN                372 1970-04-25         3   \n",
       "4         NaN  ...      NaN                372 1970-04-25         4   \n",
       "\n",
       "  cyclist_age  mostly_tarmac  cyclist_team  delta race_year  race_stage  \n",
       "0          24          False   norway-1987    0.0      1970      result  \n",
       "1          26          False   norway-1987    0.0      1970      result  \n",
       "2          23          False    spain-1991   22.0      1970      result  \n",
       "3          24          False    spain-1991   33.0      1970      result  \n",
       "4          23          False           NaN   33.0      1970      result  \n",
       "\n",
       "[5 rows x 22 columns]"
      ]
     },
     "execution_count": 3,
     "metadata": {},
     "output_type": "execute_result"
    }
   ],
   "source": [
    "dataset = pd.read_csv('../data/cleaned_merged_dataset.csv')\n",
    "dataset['date'] = pd.to_datetime(dataset['date'], format='%Y-%m-%d')\n",
    "#dataset['race_year'] = dataset['date'].dt.year\n",
    "#dataset['race_stage'] = dataset['race_url'].str.split('/').str[-1]\n",
    "dataset.head()\n",
    "#TODO: remove the comment to fillna(0) when use the cleaned dataset"
   ]
  },
  {
   "cell_type": "markdown",
   "metadata": {},
   "source": [
    "## Position Attribute Normalization"
   ]
  },
  {
   "cell_type": "markdown",
   "metadata": {},
   "source": [
    "The attribute \"position\" is normalized so that its values are more meaningful and comparable between different races in a way which is more invariant respect to the total namber f participants"
   ]
  },
  {
   "cell_type": "code",
   "execution_count": 4,
   "metadata": {},
   "outputs": [],
   "source": [
    "max_position = dataset.groupby('race_url')['position'].max().reset_index()\n",
    "max_pos_dict = max_position.set_index('race_url')['position'].to_dict()\n",
    "\n",
    "dataset['position'] = dataset['position'] / dataset['race_url'].map(max_pos_dict)"
   ]
  },
  {
   "cell_type": "markdown",
   "metadata": {},
   "source": [
    "## Lenght and Climb Total Attributes Scaling"
   ]
  },
  {
   "cell_type": "markdown",
   "metadata": {},
   "source": [
    "Both the attributes \"lenght\" and \"climb_total\" represent distances in meters, but with values that usually reaches and exceed kilometers. For this reason we decided to scale these values changing the unit of measure from meters to kilimeters."
   ]
  },
  {
   "cell_type": "code",
   "execution_count": 5,
   "metadata": {},
   "outputs": [],
   "source": [
    "dataset['length'] = dataset['length'] / 1000\n",
    "dataset['climb_total'] = dataset['climb_total'] / 1000"
   ]
  },
  {
   "cell_type": "markdown",
   "metadata": {},
   "source": [
    "## New Feature: Season Attribute"
   ]
  },
  {
   "cell_type": "markdown",
   "metadata": {},
   "source": [
    "So to extract as much information as possible, we decided to engineer a \"race_season\" categorical attribute. Considering in particular the fact that we can't meaningully exploit the original \"temperature\" attribute due to its massive amount of NaN values, the season can be a useful proxy to similar kinds of information.\n",
    "\n",
    "The computation of this attriute consists in the virtual subdivision of the year in quarters, where the months of January, Frebruary and March are considered Winter months, The months of April, March and June are considered Spring months, the months of July, August and September are considered Summer months, and finaly the remaining months of October, Novembr and December are considered as Autumn months."
   ]
  },
  {
   "cell_type": "code",
   "execution_count": 6,
   "metadata": {},
   "outputs": [],
   "source": [
    "def get_season(month):\n",
    "    if month in [7, 8, 9]:\n",
    "        return 'summer'\n",
    "    elif month in [1, 2, 3]:\n",
    "        return 'winter'\n",
    "    elif month in [4, 5, 6]:\n",
    "        return 'spring'\n",
    "    else:\n",
    "        return 'autumn'\n",
    "    \n",
    "dataset['race_season'] = dataset['date'].dt.month.apply(get_season)"
   ]
  },
  {
   "cell_type": "markdown",
   "metadata": {},
   "source": [
    "## New Feature: BMI Attribute"
   ]
  },
  {
   "cell_type": "markdown",
   "metadata": {},
   "source": [
    "the \"height\" and \"weight\" attributes are both interesting sources of information as well as highly correlated features from the cyclyst dataset. Our intuition is that considering a more complex feature combining both these attributes, we can access a more complete formalization of the physical condition of each cyclist. The BMI (Body Mass Index) is a well known proxy to the physical health of a person, still lacking informations about muscolar and fat mass, but still a more  descriptive feature respect to height or weight alone."
   ]
  },
  {
   "cell_type": "code",
   "execution_count": 7,
   "metadata": {},
   "outputs": [],
   "source": [
    "dataset['cyclist_bmi'] = dataset['weight'] / (dataset['height'] / 100) ** 2"
   ]
  },
  {
   "cell_type": "markdown",
   "metadata": {},
   "source": [
    "## New Feature: Age Group Attribute"
   ]
  },
  {
   "cell_type": "markdown",
   "metadata": {},
   "source": [
    "The ages of cyclists spans in a vast range of values. In our vision, little fluctuations in this attribute are not particularly representative of any relevant information, and this is why we find more interesting to consider the age group to which each cyclist belong in order to study more relevant relations."
   ]
  },
  {
   "cell_type": "code",
   "execution_count": 8,
   "metadata": {},
   "outputs": [],
   "source": [
    "bins = [18, 25, 27, 29, 32, float('inf')]\n",
    "labels = ['<25', '25-27', '27-29', '29-32', '>32'] #TODO: check if better to change the labels (make them more understandable)\n",
    "\n",
    "dataset['cyclist_age_group'] = pd.cut(dataset['cyclist_age'], bins=bins, labels=labels, right=False)"
   ]
  },
  {
   "cell_type": "markdown",
   "metadata": {},
   "source": [
    "## New Feature: Climb Percentage"
   ]
  },
  {
   "cell_type": "code",
   "execution_count": 9,
   "metadata": {},
   "outputs": [],
   "source": [
    "dataset['climb_percentage'] = dataset['climb_total'] / dataset['length']"
   ]
  },
  {
   "cell_type": "markdown",
   "metadata": {},
   "source": [
    "## New Feature: Climb Power Attribute (Power-Weight Ratio Proxy)"
   ]
  },
  {
   "cell_type": "markdown",
   "metadata": {},
   "source": [
    "As mentioned, the BMI alone is not very descriptive of information such as the muscolar power or structure of a given cyclist. Based on our researches, a value such as PWR (Power-Weight ratio) would be an interstin addition to our dataset, but without any information related to the power demonstrated by each cyclist in a given race we are unable to directly access this knowledge.\n",
    "\n",
    "In order to get as close as possible to this kind of information, we designed a new feature called \"Climb Power\", considering (for a given race) both the climbing difficulty of the track (a mix of \"climb_total\" and \"profile\") and the effectivness demonstrated by the cyclist in the given context (the \"delta\" achieved in the race, noting that \"position\" would be less significant since cyclist end the race in groups, more clearly identifiable by the \"delta\" attribute). The \"power\" demonstrated by a cyclist with this calculation is finallyweighted by the cyclist \"BMI\", so to put it in relation with the body composition and balance of the athlete. \n",
    "\n",
    "https://calculator.academy/bike-climbing-power-calculator/"
   ]
  },
  {
   "cell_type": "code",
   "execution_count": 10,
   "metadata": {},
   "outputs": [],
   "source": [
    "dataset['cyclist_climb_power'] = ((dataset['climb_percentage']) * dataset['profile'] * dataset['weight']) / (dataset['delta']+1)\n",
    "\n",
    "min_value = dataset['cyclist_climb_power'].min()\n",
    "max_value = dataset['cyclist_climb_power'].max()\n",
    "dataset['cyclist_climb_power'] = (dataset['cyclist_climb_power'] - min_value) / (max_value - min_value)"
   ]
  },
  {
   "cell_type": "markdown",
   "metadata": {},
   "source": [
    "## New Feature: Physical Effort Attribute"
   ]
  },
  {
   "cell_type": "markdown",
   "metadata": {},
   "source": [
    "This feature, called \"race_physical_effort\" is designed to describe a summary of the technical difficulty of a given race, calculating its value from \"lenght\", \"climb_total\" and \"profile\" of the track."
   ]
  },
  {
   "cell_type": "code",
   "execution_count": 11,
   "metadata": {},
   "outputs": [],
   "source": [
    "dataset['race_physical_effort'] = dataset['length'] * dataset['climb_total'] * (dataset['profile'])\n",
    "\n",
    "min_value = dataset['race_physical_effort'].min()\n",
    "max_value = dataset['race_physical_effort'].max()\n",
    "dataset['race_physical_effort'] = (dataset['race_physical_effort'] - min_value) / (max_value - min_value)"
   ]
  },
  {
   "cell_type": "markdown",
   "metadata": {},
   "source": [
    "## New Feature: Prestige Attribute"
   ]
  },
  {
   "cell_type": "markdown",
   "metadata": {},
   "source": [
    "In a similar way to the previous feature, the \"race_prestige\" attribute is designed to evaluate the relevance of a given race in terms of its participants and points value (attributes \"startlist_quality\" and \"points\"). Note that we ignored in this case the value of the attrivute \"uci_points\", this choice comes from two reasons:\n",
    "- the dataset lacks of values of \"uci_points\" previous to 2001 (since this metric was invented in that period)\n",
    "- the features \"points\" and \"uci_points\" are highly correlated, and we can therefore assume that having them both would be redundant"
   ]
  },
  {
   "cell_type": "code",
   "execution_count": 12,
   "metadata": {},
   "outputs": [],
   "source": [
    "dataset['race_prestige'] = dataset['points'] * dataset['startlist_quality']\n",
    "\n",
    "min_value = dataset['race_prestige'].min()\n",
    "max_value = dataset['race_prestige'].max()\n",
    "dataset['race_prestige'] = (dataset['race_prestige'] - min_value) / (max_value - min_value)"
   ]
  },
  {
   "cell_type": "markdown",
   "metadata": {},
   "source": [
    "## New Feature: Experience Attribute"
   ]
  },
  {
   "cell_type": "markdown",
   "metadata": {},
   "source": [
    "The \"cyclist_previous_experience\" is a feature designed to give insights about the experience in this sport accumulated by a given cyclist before a given race. We considered that each race gives the cyclist an experience value proportional to the prestige and physical effort of the race, with a greater weight given the the first attrivute rather then the second one."
   ]
  },
  {
   "cell_type": "code",
   "execution_count": 13,
   "metadata": {},
   "outputs": [],
   "source": [
    "dataset = dataset.sort_values(by=['cyclist_url', 'date'])\n",
    "\n",
    "prestige_coeff = 1\n",
    "physical_effort_coeff = 0.2\n",
    "\n",
    "dataset['cyclist_previous_experience'] = dataset['race_prestige'] * prestige_coeff + dataset['race_physical_effort'] * physical_effort_coeff\n",
    "dataset['cyclist_previous_experience'] = dataset.groupby('cyclist_url')['cyclist_previous_experience'].transform(lambda x: x.shift().cumsum())\n",
    "\n",
    "# Calculate the maximum previous experience per stage\n",
    "max_experience_per_stage = dataset.groupby('race_url')['cyclist_previous_experience'].transform('max')\n",
    "\n",
    "# Apply the division, handling the case when max_experience_per_stage is 0\n",
    "dataset['cyclist_previous_experience'] = dataset['cyclist_previous_experience'] / max_experience_per_stage\n",
    "\n",
    "# Replace values with 1 where the max_experience_per_stage was 0 (i.e., undefined or zero values)\n",
    "dataset['cyclist_previous_experience'] = dataset['cyclist_previous_experience'].where(\n",
    "    max_experience_per_stage != 0, 1)\n",
    "\n",
    "# dataset['cyclsit_previous_experience'] = dataset['cyclsit_previous_experience'].fillna(0)"
   ]
  },
  {
   "cell_type": "markdown",
   "metadata": {},
   "source": [
    "## New Feature: Days Since Last Race Attribute"
   ]
  },
  {
   "cell_type": "markdown",
   "metadata": {},
   "source": [
    "The attribute \"cyclist_days_since_last_race\" is designed to represent both the sharpness (inverse of beaing out of practice) and the level of fatigue of a given cyclist, depending on how this feature is exploited in the analysis. This feature calculates the number of days passed since the last race in which a given cyclist participated, therefore giving us insights about the activity and fatigue level of the athlete during a given race."
   ]
  },
  {
   "cell_type": "code",
   "execution_count": 14,
   "metadata": {},
   "outputs": [],
   "source": [
    "dataset = dataset.sort_values(by=['cyclist_url', 'date'])\n",
    "\n",
    "# Calculate days since last race\n",
    "dataset['cyclist_days_since_last_race'] = dataset.groupby('cyclist_url')['date'].diff().dt.days\n",
    "# dataset['cyclist_days_since_last_race'] = dataset['cyclist_days_since_last_race'].fillna(0)"
   ]
  },
  {
   "cell_type": "code",
   "execution_count": 15,
   "metadata": {},
   "outputs": [],
   "source": [
    "dataset.to_csv('../data/complete_dataset_fe.csv', index=False)"
   ]
  }
 ],
 "metadata": {
  "kernelspec": {
   "display_name": "datamining",
   "language": "python",
   "name": "python3"
  },
  "language_info": {
   "codemirror_mode": {
    "name": "ipython",
    "version": 3
   },
   "file_extension": ".py",
   "mimetype": "text/x-python",
   "name": "python",
   "nbconvert_exporter": "python",
   "pygments_lexer": "ipython3",
   "version": "3.10.12"
  }
 },
 "nbformat": 4,
 "nbformat_minor": 2
}

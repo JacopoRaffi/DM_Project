{
 "cells": [
  {
   "cell_type": "markdown",
   "metadata": {},
   "source": [
    "# Feature Representation\n",
    "\n",
    "### Data Mining Project 2024/25\n",
    "\n",
    "Authors: Nicola Emmolo, Simone Marzeddu, Jacopo Raffi"
   ]
  },
  {
   "cell_type": "code",
   "execution_count": null,
   "metadata": {},
   "outputs": [],
   "source": [
    "%load_ext autoreload\n",
    "%autoreload 2"
   ]
  },
  {
   "cell_type": "code",
   "execution_count": null,
   "metadata": {},
   "outputs": [],
   "source": [
    "import pandas as pd\n",
    "import numpy as np\n",
    "import seaborn as sb\n",
    "from sklearn.decomposition import PCA"
   ]
  },
  {
   "cell_type": "code",
   "execution_count": null,
   "metadata": {},
   "outputs": [],
   "source": [
    "dataset = pd.read_csv('../data/complete_dataset.csv') \n",
    "dataset['date'] = pd.to_datetime(dataset['date'], format='%Y-%m-%d')"
   ]
  },
  {
   "cell_type": "code",
   "execution_count": null,
   "metadata": {},
   "outputs": [],
   "source": [
    "dataset['profile'] = dataset['profile'].astype('category')\n",
    "numeric_dataset = dataset.select_dtypes(include=\"number\")\n",
    "numeric_dataset = numeric_dataset.fillna(0)\n",
    "\n",
    "pca_instance = PCA()\n",
    "pca_instance.fit(numeric_dataset.values)\n",
    "pca_transformation = pca_instance.transform(numeric_dataset.values)"
   ]
  },
  {
   "cell_type": "code",
   "execution_count": null,
   "metadata": {},
   "outputs": [],
   "source": [
    "# variance per component\n",
    "eigenvalues = pca_instance.explained_variance_\n",
    "# variance per component, scaled to sum to 1\n",
    "scaled_eigenvalues = pca_instance.explained_variance_ratio_\n",
    "# eigenvectors, i.e., axes of reference\n",
    "eigenvectors = pca_instance.components_\n",
    "\n",
    "\n",
    "# norm of the whole transformation\n",
    "transformation_norm_per_column = (pca_transformation ** 2).sum(axis=0)\n",
    "cumulative_norm_per_reduction = np.cumsum(transformation_norm_per_column)\n",
    "\n",
    "pca_dataframe = pd.DataFrame.from_records(\n",
    "    zip(\n",
    "        eigenvalues,\n",
    "        scaled_eigenvalues,\n",
    "        cumulative_norm_per_reduction\n",
    "    ),\n",
    "    columns=[\"eigenvalues\", \"scaled_eigenvalues\", \"transformation_norm\"]\n",
    ")\n",
    "pca_dataframe"
   ]
  },
  {
   "cell_type": "code",
   "execution_count": null,
   "metadata": {},
   "outputs": [],
   "source": [
    "sb.lineplot(\n",
    "    pca_dataframe,\n",
    "    y=\"scaled_eigenvalues\",\n",
    "    x=pca_dataframe.index\n",
    ")"
   ]
  },
  {
   "cell_type": "code",
   "execution_count": null,
   "metadata": {},
   "outputs": [],
   "source": [
    "pca_dataframe = pd.DataFrame(pca_transformation[:, :2], columns=[\"pca_x\", \"pca_y\"]) #TODO: if more than 2 components are needed, change this line\n",
    "original_and_transformed_dataframe = pd.concat(\n",
    "    [\n",
    "        dataset,\n",
    "        pca_dataframe\n",
    "    ],\n",
    "    axis=\"columns\"\n",
    ")"
   ]
  },
  {
   "cell_type": "code",
   "execution_count": null,
   "metadata": {},
   "outputs": [],
   "source": [
    "'''sb.scatterplot(\n",
    "    original_and_transformed_dataframe,\n",
    "    x=\"pca_x\",\n",
    "    y=\"pca_y\",\n",
    "    hue=\"race_name\"\n",
    ")'''"
   ]
  }
 ],
 "metadata": {
  "kernelspec": {
   "display_name": "dm",
   "language": "python",
   "name": "python3"
  },
  "language_info": {
   "codemirror_mode": {
    "name": "ipython",
    "version": 3
   },
   "file_extension": ".py",
   "mimetype": "text/x-python",
   "name": "python",
   "nbconvert_exporter": "python",
   "pygments_lexer": "ipython3",
   "version": "3.10.12"
  }
 },
 "nbformat": 4,
 "nbformat_minor": 2
}

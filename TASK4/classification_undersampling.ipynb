{
 "cells": [
  {
   "cell_type": "markdown",
   "metadata": {},
   "source": [
    "# Classification\n",
    "\n",
    "### Data Mining Project 2024/25\n",
    "\n",
    "Authors: Nicola Emmolo, Simone Marzeddu, Jacopo Raffi"
   ]
  },
  {
   "cell_type": "code",
   "execution_count": null,
   "metadata": {},
   "outputs": [],
   "source": [
    "from imblearn.under_sampling import RandomUnderSampler\n",
    "from imblearn.under_sampling import CondensedNearestNeighbour\n",
    "from imblearn.under_sampling import ClusterCentroids\n",
    "\n",
    "import pandas as pd\n",
    "import numpy \n",
    "from sklearn.model_selection import train_test_split\n",
    "import seaborn as sb"
   ]
  },
  {
   "cell_type": "code",
   "execution_count": null,
   "metadata": {},
   "outputs": [],
   "source": [
    "dataset = pd.read_csv('../data/complete_dataset_fe.csv', dtype={'cyclist_team': str})\n",
    "RANDOM_STATE = 42   "
   ]
  },
  {
   "cell_type": "code",
   "execution_count": null,
   "metadata": {},
   "outputs": [],
   "source": [
    "dataset['label'] = (dataset['raw_position'] <= 20).astype(int) #1 if top 20, 0 otherwise "
   ]
  },
  {
   "cell_type": "code",
   "execution_count": null,
   "metadata": {},
   "outputs": [],
   "source": [
    "dataset.info()"
   ]
  },
  {
   "cell_type": "markdown",
   "metadata": {},
   "source": [
    "Feature da eliminare:\n",
    "\n",
    "- cyclist_url (non generalizzabili)\n",
    "- cyclist_name (non generalizzabili)\n",
    "- birth_year (gia incluso in age)\n",
    "- nationality (troppo sbilanciamento nel dataset)\n",
    "- weight, height (gia incluso in BMI)\n",
    "- uci_points (troppo pochi e gia inclusi in points)\n",
    "- race_url (non generalizzabili)\n",
    "- race_name (non generalizzabili)\n",
    "- climb_total, profile (gia inclusi in race_physical_effort)\n",
    "- mostly_tarmac (sbilanciato)\n",
    "- cyclist_team (non generalizzabili)\n",
    "- date (non generalizzabili)\n",
    "- raw_position, position (obv)\n",
    "- delta (obv) \n",
    "- race_year (non generalizzabili)\n",
    "- race_stage (non generalizzabili)\n",
    "- cyclist_age_group (??)\n",
    "- cyclist_climb_power (feature generata con delta, obv)\n",
    "- points, startlist_quality (gia inclusti in race_prestige)"
   ]
  },
  {
   "cell_type": "markdown",
   "metadata": {},
   "source": [
    "We must choose between cyclist_age and cyclist_age_group as both these features represent the same information bu give different advantage/disadvantage to our classification process: \n",
    "- cyclist_age -> lower dimensionality (no one-hot) but unbalanced representation\n",
    "- cyclist_age_group -> higher dimensionality (one-hot) but balanced representation \n",
    "\n",
    "we chose to delete cyclist_age as the dimensionality issue could be solved by the amount of data available"
   ]
  },
  {
   "cell_type": "code",
   "execution_count": null,
   "metadata": {},
   "outputs": [],
   "source": [
    "columns = ['length', 'race_season', 'cyclist_bmi', 'cyclist_age_group', 'climb_percentage', 'race_physical_effort', 'race_prestige', 'race_year', 'label']\n",
    "dataset = dataset[columns].dropna()"
   ]
  },
  {
   "cell_type": "code",
   "execution_count": null,
   "metadata": {},
   "outputs": [],
   "source": [
    "development_dataset = dataset[dataset['race_year'] < 2022]\n",
    "test_dataset = dataset[dataset['race_year'] >= 2022]\n",
    "\n",
    "development_dataset = development_dataset.drop(columns=['race_year'])\n",
    "test_dataset = test_dataset.drop(columns=['race_year'])"
   ]
  },
  {
   "cell_type": "code",
   "execution_count": null,
   "metadata": {},
   "outputs": [],
   "source": [
    "label = development_dataset.pop('label')\n",
    "train_set, val_set, train_label, val_label = train_test_split(development_dataset, label, stratify=label, test_size=0.20, random_state=RANDOM_STATE)"
   ]
  },
  {
   "cell_type": "code",
   "execution_count": null,
   "metadata": {},
   "outputs": [],
   "source": [
    "train_label.value_counts(normalize=True)"
   ]
  },
  {
   "cell_type": "code",
   "execution_count": null,
   "metadata": {},
   "outputs": [],
   "source": [
    "models = [\n",
    "    RandomUnderSampler(random_state=RANDOM_STATE),\n",
    "    CondensedNearestNeighbour(random_state=RANDOM_STATE),\n",
    "    ClusterCentroids(random_state=RANDOM_STATE)\n",
    "]\n",
    "undersampling_algorithms = [\n",
    "    \"random\",\n",
    "    \"condensed_rule\",\n",
    "    \"centroids\"\n",
    "]\n",
    "undersampled_datasets = list()\n",
    "\n",
    "for algorithm, model in zip(undersampling_algorithms, models):\n",
    "    print(algorithm)\n",
    "    if algorithm in (\"condensed_rule\", \"centroids\"):\n",
    "        undersampled_data, undersampled_labels = model.fit_resample(train_set.select_dtypes(include=\"number\"), train_label)\n",
    "        undersampled_dataset = pd.DataFrame(numpy.hstack((undersampled_data, undersampled_labels)), columns=development_dataset.select_dtypes(include=\"number\").columns)\n",
    "    else:\n",
    "        undersampled_data, undersampled_labels = model.fit_resample(train_set, train_label)\n",
    "        undersampled_labels = undersampled_labels.to_numpy().reshape(-1, 1)\n",
    "        undersampled_dataset = pd.DataFrame(numpy.hstack((undersampled_data, undersampled_labels)), columns=(list(development_dataset.columns) + ['label']))\n",
    "    undersampled_dataset[\"algorithm\"] = algorithm\n",
    "\n",
    "    undersampled_datasets.append(undersampled_dataset)"
   ]
  }
 ],
 "metadata": {
  "kernelspec": {
   "display_name": "dm",
   "language": "python",
   "name": "python3"
  },
  "language_info": {
   "codemirror_mode": {
    "name": "ipython",
    "version": 3
   },
   "file_extension": ".py",
   "mimetype": "text/x-python",
   "name": "python",
   "nbconvert_exporter": "python",
   "pygments_lexer": "ipython3",
   "version": "3.10.12"
  }
 },
 "nbformat": 4,
 "nbformat_minor": 2
}

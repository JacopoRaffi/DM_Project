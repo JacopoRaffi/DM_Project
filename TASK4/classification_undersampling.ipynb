{
 "cells": [
  {
   "cell_type": "markdown",
   "metadata": {},
   "source": [
    "# Classification\n",
    "\n",
    "### Data Mining Project 2024/25\n",
    "\n",
    "Authors: Nicola Emmolo, Simone Marzeddu, Jacopo Raffi"
   ]
  },
  {
   "cell_type": "code",
   "execution_count": 57,
   "metadata": {},
   "outputs": [],
   "source": [
    "import pandas as pd\n",
    "from sklearn.model_selection import train_test_split"
   ]
  },
  {
   "cell_type": "code",
   "execution_count": 58,
   "metadata": {},
   "outputs": [],
   "source": [
    "dataset = pd.read_csv('../data/complete_dataset_fe.csv', dtype={'cyclist_team': str})"
   ]
  },
  {
   "cell_type": "code",
   "execution_count": 59,
   "metadata": {},
   "outputs": [],
   "source": [
    "dataset['label'] = (dataset['raw_position'] <= 20).astype(int) #1 if top 20, 0 otherwise "
   ]
  },
  {
   "cell_type": "code",
   "execution_count": 60,
   "metadata": {},
   "outputs": [
    {
     "name": "stdout",
     "output_type": "stream",
     "text": [
      "<class 'pandas.core.frame.DataFrame'>\n",
      "RangeIndex: 589739 entries, 0 to 589738\n",
      "Data columns (total 31 columns):\n",
      " #   Column                Non-Null Count   Dtype  \n",
      "---  ------                --------------   -----  \n",
      " 0   cyclist_url           589739 non-null  object \n",
      " 1   cyclist_name          589739 non-null  object \n",
      " 2   birth_year            589739 non-null  int64  \n",
      " 3   weight                480007 non-null  float64\n",
      " 4   height                480007 non-null  float64\n",
      " 5   nationality           589739 non-null  object \n",
      " 6   race_url              589739 non-null  object \n",
      " 7   race_name             589739 non-null  object \n",
      " 8   points                589739 non-null  float64\n",
      " 9   uci_points            422184 non-null  float64\n",
      " 10  length                589739 non-null  float64\n",
      " 11  climb_total           475338 non-null  float64\n",
      " 12  profile               475338 non-null  float64\n",
      " 13  startlist_quality     589739 non-null  int64  \n",
      " 14  date                  589739 non-null  object \n",
      " 15  position              589733 non-null  float64\n",
      " 16  cyclist_age           589739 non-null  int64  \n",
      " 17  mostly_tarmac         589739 non-null  bool   \n",
      " 18  cyclist_team          451105 non-null  object \n",
      " 19  delta                 589739 non-null  float64\n",
      " 20  race_year             589739 non-null  int64  \n",
      " 21  race_stage            589739 non-null  object \n",
      " 22  raw_position          589739 non-null  int64  \n",
      " 23  race_season           589739 non-null  object \n",
      " 24  cyclist_bmi           480007 non-null  float64\n",
      " 25  cyclist_age_group     589738 non-null  object \n",
      " 26  climb_percentage      475338 non-null  float64\n",
      " 27  cyclist_climb_power   402686 non-null  float64\n",
      " 28  race_physical_effort  475338 non-null  float64\n",
      " 29  race_prestige         589739 non-null  float64\n",
      " 30  label                 589739 non-null  int64  \n",
      "dtypes: bool(1), float64(14), int64(6), object(10)\n",
      "memory usage: 135.5+ MB\n"
     ]
    }
   ],
   "source": [
    "dataset.info()"
   ]
  },
  {
   "cell_type": "markdown",
   "metadata": {},
   "source": [
    "Feature da eliminare:\n",
    "\n",
    "- cyclist_url (non generalizzabili)\n",
    "- cyclist_name (non generalizzabili)\n",
    "- birth_year (gia incluso in age)\n",
    "- nationality (troppo sbilanciamento nel dataset)\n",
    "- weight, height (gia incluso in BMI)\n",
    "- uci_points (troppo pochi e gia inclusi in points)\n",
    "- race_url (non generalizzabili)\n",
    "- race_name (non generalizzabili)\n",
    "- climb_total, profile (gia inclusi in race_physical_effort)\n",
    "- mostly_tarmac (sbilanciato)\n",
    "- cyclist_team (non generalizzabili)\n",
    "- date (non generalizzabili)\n",
    "- raw_position, position (obv)\n",
    "- delta (obv) \n",
    "- race_year (non generalizzabili)\n",
    "- race_stage (non generalizzabili)\n",
    "- cyclist_age_group (??)\n",
    "- cyclist_climb_power (feature generata con delta, obv)\n",
    "- points, startlist_quality (gia inclusti in race_prestige)"
   ]
  },
  {
   "cell_type": "markdown",
   "metadata": {},
   "source": [
    "We must choose between cyclist_age and cyclist_age_group as both these features represent the same information bu give different advantage/disadvantage to our classification process: \n",
    "- cyclist_age -> lower dimensionality (no one-hot) but unbalanced representation\n",
    "- cyclist_age_group -> higher dimensionality (one-hot) but balanced representation \n",
    "\n",
    "we chose to delete cyclist_age as the dimensionality issue could be solved by the amount of data available"
   ]
  },
  {
   "cell_type": "code",
   "execution_count": null,
   "metadata": {},
   "outputs": [],
   "source": [
    "columns = ['length', 'race_season', 'cyclist_bmi', 'cyclist_age_group', 'climb_percentage', 'race_physical_effort', 'race_prestige', 'race_year', 'label']\n",
    "dataset = dataset[columns].dropna()"
   ]
  },
  {
   "cell_type": "code",
   "execution_count": 65,
   "metadata": {},
   "outputs": [],
   "source": [
    "development_dataset = dataset[dataset['race_year'] < 2022]\n",
    "test_dataset = dataset[dataset['race_year'] >= 2022]\n",
    "\n",
    "development_dataset = development_dataset.drop(columns=['race_year'])\n",
    "test_dataset = test_dataset.drop(columns=['race_year'])"
   ]
  },
  {
   "cell_type": "code",
   "execution_count": 68,
   "metadata": {},
   "outputs": [
    {
     "data": {
      "text/plain": [
       "(367631, 35055)"
      ]
     },
     "execution_count": 68,
     "metadata": {},
     "output_type": "execute_result"
    }
   ],
   "source": [
    "len(development_dataset), len(test_dataset)"
   ]
  },
  {
   "cell_type": "code",
   "execution_count": 69,
   "metadata": {},
   "outputs": [
    {
     "data": {
      "text/plain": [
       "label\n",
       "0    314073\n",
       "1     53558\n",
       "Name: count, dtype: int64"
      ]
     },
     "execution_count": 69,
     "metadata": {},
     "output_type": "execute_result"
    }
   ],
   "source": [
    "development_dataset['label'].value_counts(normalize=False)"
   ]
  },
  {
   "cell_type": "markdown",
   "metadata": {},
   "source": [
    "dataset very unbalanced"
   ]
  }
 ],
 "metadata": {
  "kernelspec": {
   "display_name": "dm",
   "language": "python",
   "name": "python3"
  },
  "language_info": {
   "codemirror_mode": {
    "name": "ipython",
    "version": 3
   },
   "file_extension": ".py",
   "mimetype": "text/x-python",
   "name": "python",
   "nbconvert_exporter": "python",
   "pygments_lexer": "ipython3",
   "version": "3.10.12"
  }
 },
 "nbformat": 4,
 "nbformat_minor": 2
}
